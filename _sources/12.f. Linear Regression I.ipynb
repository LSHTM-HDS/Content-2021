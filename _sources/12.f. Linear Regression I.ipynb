{
 "cells": [
  {
   "cell_type": "markdown",
   "metadata": {},
   "source": [
    "## 12.5 Examples\n",
    "\n",
    "We now consider how estimates of the population parameters can be obtained in R using our two examples. Recall we are interested in investigating (1) the association between birthweight and length of pregnancy and (2) birthweight and mother's smoking status. \n",
    "\n",
    "In both examples, birthweight is the outcome. In Example 1, the independent variable is length of pregnancy, $L$ (i.e. number of gestational days) and in Example 2, the independent variable is an indicator variable for whether or not the mother smokes, $S$. \n",
    "\n",
    "We will use the ```lm()``` to perform simple linear regressions in R. Click [here](https://www.rdocumentation.org/packages/stats/versions/3.6.2/topics/lm) for details of how this command works. \n",
    "\n",
    "### 12.5.1 Example 1\n",
    "\n",
    "The following model defines our assumed relationship between the length of pregnancy ($L$) and a baby's birthweight ($Y$): \n",
    "\n",
    "$$ \\text{Model 1: }y_i = \\beta_0 + \\beta_1 l_i +  \\epsilon_i $$\n",
    "\n",
    "The following code can be used to perform this linear regression in R: "
   ]
  },
  {
   "cell_type": "code",
   "execution_count": 1,
   "metadata": {},
   "outputs": [
    {
     "data": {
      "text/plain": [
       "\n",
       "Call:\n",
       "lm(formula = Birth.Weight ~ Gestational.Days, data = data)\n",
       "\n",
       "Residuals:\n",
       "    Min      1Q  Median      3Q     Max \n",
       "-49.348 -11.065   0.218  10.101  57.704 \n",
       "\n",
       "Coefficients:\n",
       "                  Estimate Std. Error t value Pr(>|t|)    \n",
       "(Intercept)      -10.75414    8.53693   -1.26    0.208    \n",
       "Gestational.Days   0.46656    0.03054   15.28   <2e-16 ***\n",
       "---\n",
       "Signif. codes:  0 '***' 0.001 '**' 0.01 '*' 0.05 '.' 0.1 ' ' 1\n",
       "\n",
       "Residual standard error: 16.74 on 1172 degrees of freedom\n",
       "Multiple R-squared:  0.1661,\tAdjusted R-squared:  0.1654 \n",
       "F-statistic: 233.4 on 1 and 1172 DF,  p-value: < 2.2e-16\n"
      ]
     },
     "metadata": {},
     "output_type": "display_data"
    }
   ],
   "source": [
    "#Example 1: Investigating the relationship between birthweight and length of pregancy\n",
    "data<- read.csv('https://www.inferentialthinking.com/data/baby.csv')\n",
    "model1<-lm(Birth.Weight~Gestational.Days, data=data)\n",
    "summary(model1)"
   ]
  },
  {
   "cell_type": "markdown",
   "metadata": {},
   "source": [
    "+ The estimated intercept, $\\hat{\\beta_0}$ is equal to -10.75. This is interpreted as: the estimated mean birthweight of a child born after 0 gestational days is -10.75oz. Since there are no observations with 0 gestational days in the study, this is an extrapolation based on the observed data and an assumption of linearity. Estimates based on extrapolation should be interpreted with caution and in this case, the results make little sense because a negative weight is estimated. Moreover, no child is born after 0 gestational days and so this intercept is of little interest. Later on in the lesson, we will discuss a technique called **centering** which is often used to make more interpretable intercepts. \n",
    "\n",
    "+ The estimated slope, $\\hat{\\beta_1}$ is equal to 0.47. This is interpreted as: the mean birthweight of a baby is estimated to increase by 0.47oz for each daily increase in the gestational period.\n",
    "\n",
    "+ The estimated residual standard error, $\\hat{\\sigma}$ is equal to 16.74 (the estimated residual variance is equal to $16.74^2$). This means that the observed outcomes are scattered around the fitted regression line with a standard deviation of 16.74oz.  \n",
    "\n",
    "\n",
    "### 12.5.2 Example 2\n",
    "\n",
    "In our second example, the independent variable is binary. To include this in the model, we use a **dummy** variable that takes the value 1 if the mother smokes and 0 if the mother doesn't smoke: \n",
    "\n",
    "$$ s_{i}\n",
    "\\begin{cases}\n",
    "    1 & \\text{ if the $i^{th}$ baby's mother smokes} \\\\\n",
    "    0 & \\text{ if the $i^{th}$ baby's mother does not smoke}\n",
    "\\end{cases} $$\n",
    "\n",
    "We then define the following linear regression model:\n",
    "\n",
    "$$ \\text{Model 2: }y_i = \\alpha_0 + \\alpha_1 s_i + \\epsilon_i$$\n",
    "\n",
    "When including binary (or categorical) variables in a linear regression in R, we can tell R to treat it as a factor variable using ```factor()```: \n"
   ]
  },
  {
   "cell_type": "code",
   "execution_count": 2,
   "metadata": {},
   "outputs": [
    {
     "data": {
      "text/plain": [
       "\n",
       "Call:\n",
       "lm(formula = Birth.Weight ~ factor(Maternal.Smoker), data = data)\n",
       "\n",
       "Residuals:\n",
       "    Min      1Q  Median      3Q     Max \n",
       "-68.085 -11.085   0.915  11.181  52.915 \n",
       "\n",
       "Coefficients:\n",
       "                            Estimate Std. Error t value Pr(>|t|)    \n",
       "(Intercept)                 123.0853     0.6645 185.221   <2e-16 ***\n",
       "factor(Maternal.Smoker)True  -9.2661     1.0628  -8.719   <2e-16 ***\n",
       "---\n",
       "Signif. codes:  0 '***' 0.001 '**' 0.01 '*' 0.05 '.' 0.1 ' ' 1\n",
       "\n",
       "Residual standard error: 17.77 on 1172 degrees of freedom\n",
       "Multiple R-squared:  0.06091,\tAdjusted R-squared:  0.06011 \n",
       "F-statistic: 76.02 on 1 and 1172 DF,  p-value: < 2.2e-16\n"
      ]
     },
     "metadata": {},
     "output_type": "display_data"
    }
   ],
   "source": [
    "#Example 2: Investigating the relationship between birthweight and mother's smoking status.\n",
    "model2<-lm(Birth.Weight~factor(Maternal.Smoker), data=data)\n",
    "summary(model2)"
   ]
  },
  {
   "cell_type": "markdown",
   "metadata": {},
   "source": [
    "+ $\\hat{\\alpha_0} = 123.09$. This is interpreted as the estimated mean birthweight (in oz) of a child with \"dummy\" variable equal to 0, i.e. it is the estimated mean birthweight of children whose mothers do not smoke. \n",
    "\n",
    "+ $\\hat{\\alpha_1}=-9.23$. The mean birthweight is estimated to decrease by 9.23oz per unit increase in the \"dummy\" variable. A unit increase in the dummy variable equates to moving from the non-smoking group to the smoking group, so we can interpret this as the difference in mean birthweights between the two groups. \n",
    "\n",
    "+ $\\hat{\\sigma}=17.77$. The observed outcomes are scattered around the fitted regression line with a standard deviation of 17.77oz. \n",
    "\n",
    "Note that the outputs for Models 1 and 2 consist of a number of other values we have yet to discuss. We address these in the subsequent sections. In Section 3.4 we will learn how to conduct statistical inference on the estimated parameters, which will help us to interpret the standard errors, $t$-values and $p$-values in the above output. Later in Section 5 we will discuss analysis of variance which will help us to interpret the \"R-squared\" values and the $F$-test.  "
   ]
  }
 ],
 "metadata": {
  "kernelspec": {
   "display_name": "R",
   "language": "R",
   "name": "ir"
  },
  "language_info": {
   "codemirror_mode": "r",
   "file_extension": ".r",
   "mimetype": "text/x-r-source",
   "name": "R",
   "pygments_lexer": "r",
   "version": "3.6.1"
  }
 },
 "nbformat": 4,
 "nbformat_minor": 4
}
