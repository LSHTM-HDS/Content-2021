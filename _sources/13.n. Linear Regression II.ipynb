{
 "cells": [
  {
   "cell_type": "markdown",
   "metadata": {},
   "source": [
    "## 13.13 Summary of chapter\n",
    "\n",
    "In the current chapter, we have learnt the following: \n",
    "\n",
    " + How to use graphical tools to investigate the assumptions of a linear regression model \n",
    " + Possible solutions to violations of the assumptions exist, including:\n",
    "     + Checking the data\n",
    "     + Transformations\n",
    "     + Sensitivity analyses\n",
    " + How to use quadratic regression to model non-linear associations and test for linearity\n",
    " + Methods for modelling more complex non-linear relationship exist, including:\n",
    "     + Polynomial regression \n",
    "     + Piecewise polynomial regression\n",
    " + How to include interaction terms in a linear regression model and how to interpret their regression coefficients\n",
    " + When collinearity might be an issue and potential solutions\n",
    " + Regression models can be used to investigate different types of research questions, and the interpretation and presentation of the results depends on the type of question being investigated. \n",
    " \n",
    "All of our discussion on regression models so far has focussed on a continuous outcome. In the next chapter, we consider regression models that can be used when the outcome is binary. "
   ]
  }
 ],
 "metadata": {
  "kernelspec": {
   "display_name": "R",
   "language": "R",
   "name": "ir"
  },
  "language_info": {
   "codemirror_mode": "r",
   "file_extension": ".r",
   "mimetype": "text/x-r-source",
   "name": "R",
   "pygments_lexer": "r",
   "version": "3.6.1"
  }
 },
 "nbformat": 4,
 "nbformat_minor": 4
}
