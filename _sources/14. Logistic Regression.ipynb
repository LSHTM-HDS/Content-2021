{
 "cells": [
  {
   "cell_type": "markdown",
   "metadata": {
    "hideCode": false,
    "hidePrompt": false
   },
   "source": [
    "# 14 Logistic Regression\n",
    "\n",
    "In this session, we continue exploring regression modelling. We now extend the ideas encountered in the context of linear regression models and apply them to a setting where the outcome of interest is a binary variable."
   ]
  },
  {
   "cell_type": "markdown",
   "metadata": {},
   "source": [
    "<div class=\"alert alert-block alert-warning\">\n",
    "<b> Intended learning outcomes</b> \n",
    "    \n",
    "By the end of this session, you will be able to: \n",
    "\n",
    "* explain the rationale and the structure behind the logistic regression\n",
    "* apply a logistic regression model to real data\n",
    "* interpret the results of a logistic regression\n",
    "* interpret output from key diagnosis tools used for logistic regression\n",
    "</div>"
   ]
  },
  {
   "cell_type": "code",
   "execution_count": 1,
   "metadata": {
    "hideCode": false,
    "hidePrompt": false
   },
   "outputs": [],
   "source": [
    "options(repr.plot.width=4, repr.plot.height=3)"
   ]
  },
  {
   "cell_type": "markdown",
   "metadata": {
    "hideCode": false,
    "hidePrompt": false
   },
   "source": [
    "## 14.1 Introduction: linear vs. logistic regression\n",
    "\n",
    "We have already learned how to estimate linear regression models and we also know in which conditions we can use such a model. In particular, let us assume that the outcome we are interested in, $Y$, is a binary variable. It could be, for example, a survival indicator, $1$ being indicator of death and $0$ of survival. It could be the indicator of a specific disease, $1$ being indicator of the presence of the disease and $0$ of its absence. What if we were using the classic linear model we have just studied to model such an outcome?\n",
    "\n",
    "We would model $\\pi_i=E(Y_i|X_i)$ by the linear predictor $\\eta_i = \\beta_0 + \\sum_{k=1}^p \\beta_k X_{i,k}$ where $X_i=(X_{i,k})$ are some dependent variables including a residual error $\\varepsilon_i$. In the case of $Y_i$ being a binary variable $Y_i|X_i$ follows a Bernouilli distribution and $\\pi_i = E(Y_i|X_i) = P(Y_i=1|X_i)$ is a probability. However, $\\eta_i$, the linear predictor, can take values in the whole real space $\\mathbb{R}$ and therefore can not be used to model the probability $\\pi_i$ whose range is constrained to $(0;1)$. Hence, it makes the classic linear model not suitable for binary outcomes. From now on, we note $\\eta_i = \\sum_{k=0}^p \\beta_k X_{i,k}$ where $X_{i,0}=1$.\n",
    "\n",
    "The solution to this issue is to link the linear predictor $\\eta_i$ and the probability $\\pi_i$ using a link function. The $\\mathrm{logit}$ function (see Section III) is the most widely used and is at the basis of the *logistic regression model*. In the following section, we describe the dementia dataset which is used as an illustration all along this lecture. In the third section, we describe the logistic model and how it can be estimated. In the fourth section, diagnosic tools for logistic regression are presented and in the fifth section, some additional notes are given."
   ]
  },
  {
   "cell_type": "markdown",
   "metadata": {
    "hideCode": false,
    "hidePrompt": false
   },
   "source": [
    "## 14.2 The dementia dataset\n",
    "\n",
    "The dementia dataset we will work with all along this logistic regression module is a simulated dataset that gathers medical history data of 200.000 subjects and their dementia status. Below are the first lines of the dataset."
   ]
  },
  {
   "cell_type": "code",
   "execution_count": 2,
   "metadata": {
    "hideCode": false,
    "hidePrompt": false
   },
   "outputs": [
    {
     "data": {
      "text/html": [
       "<table>\n",
       "<thead><tr><th scope=col>id</th><th scope=col>prac</th><th scope=col>pr_lcd</th><th scope=col>sex</th><th scope=col>age</th><th scope=col>bmi</th><th scope=col>bmi_category</th><th scope=col>consultations</th><th scope=col>agegp</th><th scope=col>alcohol</th><th scope=col>...</th><th scope=col>mortality</th><th scope=col>date_death</th><th scope=col>timetodementia</th><th scope=col>dementia</th><th scope=col>date_dementia</th><th scope=col>end_date</th><th scope=col>dob</th><th scope=col>rsample</th><th scope=col>vitd</th><th scope=col>lp</th></tr></thead>\n",
       "<tbody>\n",
       "\t<tr><td> 23189    </td><td>142       </td><td>2009-12-08</td><td>1         </td><td>53        </td><td>20.4      </td><td>2         </td><td>12        </td><td>50        </td><td>5         </td><td>...       </td><td>0         </td><td>NA        </td><td>NA        </td><td>0         </td><td>NA        </td><td>2009-12-08</td><td>1941-11-01</td><td>1         </td><td>      NA  </td><td>-0.8153054</td></tr>\n",
       "\t<tr><td> 92186    </td><td>132       </td><td>2003-02-03</td><td>0         </td><td>73        </td><td>21.5      </td><td>2         </td><td> 4        </td><td>70        </td><td>4         </td><td>...       </td><td>0         </td><td>NA        </td><td>NA        </td><td>0         </td><td>NA        </td><td>2003-02-03</td><td>1928-01-16</td><td>1         </td><td>      NA  </td><td>-1.2268275</td></tr>\n",
       "\t<tr><td>187963    </td><td> 43       </td><td>2001-07-06</td><td>0         </td><td>40        </td><td>27.1      </td><td>3         </td><td> 0        </td><td>40        </td><td>4         </td><td>...       </td><td>0         </td><td>NA        </td><td>NA        </td><td>0         </td><td>NA        </td><td>2001-07-06</td><td>1961-06-18</td><td>1         </td><td>      NA  </td><td>-0.6602435</td></tr>\n",
       "\t<tr><td>148379    </td><td>215       </td><td>2012-03-08</td><td>1         </td><td>40        </td><td>20.9      </td><td>2         </td><td> 3        </td><td>40        </td><td>4         </td><td>...       </td><td>0         </td><td>NA        </td><td>NA        </td><td>0         </td><td>NA        </td><td>2012-03-08</td><td>1952-02-10</td><td>1         </td><td>23.22692  </td><td>-0.9507329</td></tr>\n",
       "\t<tr><td> 44194    </td><td>225       </td><td>2011-02-02</td><td>1         </td><td>92        </td><td>32.5      </td><td>4         </td><td>10        </td><td>90        </td><td>1         </td><td>...       </td><td>0         </td><td>NA        </td><td>NA        </td><td>0         </td><td>NA        </td><td>2011-02-02</td><td>1912-12-09</td><td>1         </td><td>      NA  </td><td> 1.0403746</td></tr>\n",
       "\t<tr><td>169915    </td><td>175       </td><td>2011-11-02</td><td>1         </td><td>55        </td><td>26.3      </td><td>3         </td><td> 3        </td><td>55        </td><td>5         </td><td>...       </td><td>0         </td><td>NA        </td><td>NA        </td><td>0         </td><td>NA        </td><td>2011-11-02</td><td>1946-10-06</td><td>1         </td><td>      NA  </td><td>-0.1080444</td></tr>\n",
       "</tbody>\n",
       "</table>\n"
      ],
      "text/latex": [
       "\\begin{tabular}{r|llllllllllllllllllllllllllllll}\n",
       " id & prac & pr\\_lcd & sex & age & bmi & bmi\\_category & consultations & agegp & alcohol & ... & mortality & date\\_death & timetodementia & dementia & date\\_dementia & end\\_date & dob & rsample & vitd & lp\\\\\n",
       "\\hline\n",
       "\t  23189     & 142        & 2009-12-08 & 1          & 53         & 20.4       & 2          & 12         & 50         & 5          & ...        & 0          & NA         & NA         & 0          & NA         & 2009-12-08 & 1941-11-01 & 1          &       NA   & -0.8153054\\\\\n",
       "\t  92186     & 132        & 2003-02-03 & 0          & 73         & 21.5       & 2          &  4         & 70         & 4          & ...        & 0          & NA         & NA         & 0          & NA         & 2003-02-03 & 1928-01-16 & 1          &       NA   & -1.2268275\\\\\n",
       "\t 187963     &  43        & 2001-07-06 & 0          & 40         & 27.1       & 3          &  0         & 40         & 4          & ...        & 0          & NA         & NA         & 0          & NA         & 2001-07-06 & 1961-06-18 & 1          &       NA   & -0.6602435\\\\\n",
       "\t 148379     & 215        & 2012-03-08 & 1          & 40         & 20.9       & 2          &  3         & 40         & 4          & ...        & 0          & NA         & NA         & 0          & NA         & 2012-03-08 & 1952-02-10 & 1          & 23.22692   & -0.9507329\\\\\n",
       "\t  44194     & 225        & 2011-02-02 & 1          & 92         & 32.5       & 4          & 10         & 90         & 1          & ...        & 0          & NA         & NA         & 0          & NA         & 2011-02-02 & 1912-12-09 & 1          &       NA   &  1.0403746\\\\\n",
       "\t 169915     & 175        & 2011-11-02 & 1          & 55         & 26.3       & 3          &  3         & 55         & 5          & ...        & 0          & NA         & NA         & 0          & NA         & 2011-11-02 & 1946-10-06 & 1          &       NA   & -0.1080444\\\\\n",
       "\\end{tabular}\n"
      ],
      "text/markdown": [
       "\n",
       "| id | prac | pr_lcd | sex | age | bmi | bmi_category | consultations | agegp | alcohol | ... | mortality | date_death | timetodementia | dementia | date_dementia | end_date | dob | rsample | vitd | lp |\n",
       "|---|---|---|---|---|---|---|---|---|---|---|---|---|---|---|---|---|---|---|---|---|\n",
       "|  23189     | 142        | 2009-12-08 | 1          | 53         | 20.4       | 2          | 12         | 50         | 5          | ...        | 0          | NA         | NA         | 0          | NA         | 2009-12-08 | 1941-11-01 | 1          |       NA   | -0.8153054 |\n",
       "|  92186     | 132        | 2003-02-03 | 0          | 73         | 21.5       | 2          |  4         | 70         | 4          | ...        | 0          | NA         | NA         | 0          | NA         | 2003-02-03 | 1928-01-16 | 1          |       NA   | -1.2268275 |\n",
       "| 187963     |  43        | 2001-07-06 | 0          | 40         | 27.1       | 3          |  0         | 40         | 4          | ...        | 0          | NA         | NA         | 0          | NA         | 2001-07-06 | 1961-06-18 | 1          |       NA   | -0.6602435 |\n",
       "| 148379     | 215        | 2012-03-08 | 1          | 40         | 20.9       | 2          |  3         | 40         | 4          | ...        | 0          | NA         | NA         | 0          | NA         | 2012-03-08 | 1952-02-10 | 1          | 23.22692   | -0.9507329 |\n",
       "|  44194     | 225        | 2011-02-02 | 1          | 92         | 32.5       | 4          | 10         | 90         | 1          | ...        | 0          | NA         | NA         | 0          | NA         | 2011-02-02 | 1912-12-09 | 1          |       NA   |  1.0403746 |\n",
       "| 169915     | 175        | 2011-11-02 | 1          | 55         | 26.3       | 3          |  3         | 55         | 5          | ...        | 0          | NA         | NA         | 0          | NA         | 2011-11-02 | 1946-10-06 | 1          |       NA   | -0.1080444 |\n",
       "\n"
      ],
      "text/plain": [
       "  id     prac pr_lcd     sex age bmi  bmi_category consultations agegp alcohol\n",
       "1  23189 142  2009-12-08 1   53  20.4 2            12            50    5      \n",
       "2  92186 132  2003-02-03 0   73  21.5 2             4            70    4      \n",
       "3 187963  43  2001-07-06 0   40  27.1 3             0            40    4      \n",
       "4 148379 215  2012-03-08 1   40  20.9 2             3            40    4      \n",
       "5  44194 225  2011-02-02 1   92  32.5 4            10            90    1      \n",
       "6 169915 175  2011-11-02 1   55  26.3 3             3            55    5      \n",
       "  ... mortality date_death timetodementia dementia date_dementia end_date  \n",
       "1 ... 0         NA         NA             0        NA            2009-12-08\n",
       "2 ... 0         NA         NA             0        NA            2003-02-03\n",
       "3 ... 0         NA         NA             0        NA            2001-07-06\n",
       "4 ... 0         NA         NA             0        NA            2012-03-08\n",
       "5 ... 0         NA         NA             0        NA            2011-02-02\n",
       "6 ... 0         NA         NA             0        NA            2011-11-02\n",
       "  dob        rsample vitd     lp        \n",
       "1 1941-11-01 1             NA -0.8153054\n",
       "2 1928-01-16 1             NA -1.2268275\n",
       "3 1961-06-18 1             NA -0.6602435\n",
       "4 1952-02-10 1       23.22692 -0.9507329\n",
       "5 1912-12-09 1             NA  1.0403746\n",
       "6 1946-10-06 1             NA -0.1080444"
      ]
     },
     "metadata": {},
     "output_type": "display_data"
    }
   ],
   "source": [
    "# we load the dataset and display its first lines\n",
    "dementia <- read.csv(\"dementia.csv\")\n",
    "head(dementia)"
   ]
  },
  {
   "cell_type": "markdown",
   "metadata": {
    "hideCode": false,
    "hidePrompt": false
   },
   "source": [
    "It contains several variables"
   ]
  },
  {
   "cell_type": "code",
   "execution_count": 3,
   "metadata": {
    "hideCode": false,
    "hidePrompt": false
   },
   "outputs": [
    {
     "data": {
      "text/html": [
       "<ol class=list-inline>\n",
       "\t<li>'id'</li>\n",
       "\t<li>'prac'</li>\n",
       "\t<li>'pr_lcd'</li>\n",
       "\t<li>'sex'</li>\n",
       "\t<li>'age'</li>\n",
       "\t<li>'bmi'</li>\n",
       "\t<li>'bmi_category'</li>\n",
       "\t<li>'consultations'</li>\n",
       "\t<li>'agegp'</li>\n",
       "\t<li>'alcohol'</li>\n",
       "\t<li>'smoke'</li>\n",
       "\t<li>'smoke_curr'</li>\n",
       "\t<li>'mi'</li>\n",
       "\t<li>'stroke'</li>\n",
       "\t<li>'diabetes'</li>\n",
       "\t<li>'statin'</li>\n",
       "\t<li>'antihyper'</li>\n",
       "\t<li>'index_date'</li>\n",
       "\t<li>'year'</li>\n",
       "\t<li>'timetodeath'</li>\n",
       "\t<li>'mortality'</li>\n",
       "\t<li>'date_death'</li>\n",
       "\t<li>'timetodementia'</li>\n",
       "\t<li>'dementia'</li>\n",
       "\t<li>'date_dementia'</li>\n",
       "\t<li>'end_date'</li>\n",
       "\t<li>'dob'</li>\n",
       "\t<li>'rsample'</li>\n",
       "\t<li>'vitd'</li>\n",
       "\t<li>'lp'</li>\n",
       "</ol>\n"
      ],
      "text/latex": [
       "\\begin{enumerate*}\n",
       "\\item 'id'\n",
       "\\item 'prac'\n",
       "\\item 'pr\\_lcd'\n",
       "\\item 'sex'\n",
       "\\item 'age'\n",
       "\\item 'bmi'\n",
       "\\item 'bmi\\_category'\n",
       "\\item 'consultations'\n",
       "\\item 'agegp'\n",
       "\\item 'alcohol'\n",
       "\\item 'smoke'\n",
       "\\item 'smoke\\_curr'\n",
       "\\item 'mi'\n",
       "\\item 'stroke'\n",
       "\\item 'diabetes'\n",
       "\\item 'statin'\n",
       "\\item 'antihyper'\n",
       "\\item 'index\\_date'\n",
       "\\item 'year'\n",
       "\\item 'timetodeath'\n",
       "\\item 'mortality'\n",
       "\\item 'date\\_death'\n",
       "\\item 'timetodementia'\n",
       "\\item 'dementia'\n",
       "\\item 'date\\_dementia'\n",
       "\\item 'end\\_date'\n",
       "\\item 'dob'\n",
       "\\item 'rsample'\n",
       "\\item 'vitd'\n",
       "\\item 'lp'\n",
       "\\end{enumerate*}\n"
      ],
      "text/markdown": [
       "1. 'id'\n",
       "2. 'prac'\n",
       "3. 'pr_lcd'\n",
       "4. 'sex'\n",
       "5. 'age'\n",
       "6. 'bmi'\n",
       "7. 'bmi_category'\n",
       "8. 'consultations'\n",
       "9. 'agegp'\n",
       "10. 'alcohol'\n",
       "11. 'smoke'\n",
       "12. 'smoke_curr'\n",
       "13. 'mi'\n",
       "14. 'stroke'\n",
       "15. 'diabetes'\n",
       "16. 'statin'\n",
       "17. 'antihyper'\n",
       "18. 'index_date'\n",
       "19. 'year'\n",
       "20. 'timetodeath'\n",
       "21. 'mortality'\n",
       "22. 'date_death'\n",
       "23. 'timetodementia'\n",
       "24. 'dementia'\n",
       "25. 'date_dementia'\n",
       "26. 'end_date'\n",
       "27. 'dob'\n",
       "28. 'rsample'\n",
       "29. 'vitd'\n",
       "30. 'lp'\n",
       "\n",
       "\n"
      ],
      "text/plain": [
       " [1] \"id\"             \"prac\"           \"pr_lcd\"         \"sex\"           \n",
       " [5] \"age\"            \"bmi\"            \"bmi_category\"   \"consultations\" \n",
       " [9] \"agegp\"          \"alcohol\"        \"smoke\"          \"smoke_curr\"    \n",
       "[13] \"mi\"             \"stroke\"         \"diabetes\"       \"statin\"        \n",
       "[17] \"antihyper\"      \"index_date\"     \"year\"           \"timetodeath\"   \n",
       "[21] \"mortality\"      \"date_death\"     \"timetodementia\" \"dementia\"      \n",
       "[25] \"date_dementia\"  \"end_date\"       \"dob\"            \"rsample\"       \n",
       "[29] \"vitd\"           \"lp\"            "
      ]
     },
     "metadata": {},
     "output_type": "display_data"
    }
   ],
   "source": [
    "names(dementia)"
   ]
  },
  {
   "cell_type": "markdown",
   "metadata": {
    "hideCode": false,
    "hidePrompt": false
   },
   "source": [
    "and here are the one that we will use during this course\n",
    "\n",
    "* id: a variable that identifies a patient\n",
    "* sex: a factor variable that gives the sex of the patient ($0$ for men, $1$ for women)\n",
    "* age: a numeric variable that gives the age in years of the patient at his inclusion in the study\n",
    "* bmi: a numeric variable that gives the bmi of the patient at his inclusion in the study\n",
    "* mortality: an indicator variable that equals $1$ if the patient has died since his inclusion, $0$ if not\n",
    "* dementia: an indicator variable that equals $1$ if the patient has become demented, $0$ if not\n",
    "\n",
    "Here, in this lecture, the outcome of interest will be dementia."
   ]
  },
  {
   "cell_type": "markdown",
   "metadata": {
    "hideCode": false,
    "hidePrompt": false
   },
   "source": [
    "## 14.3 The logistic regression model\n",
    "\n",
    "### 14.3.1 The logit function\n",
    "\n",
    "Before introducing the logistic regression model, we introduce the $\\mathrm{logit}$ function and the concept of odds. As we said, we cannot model directly $\\pi_i=E(Y_i|X_i)=P(Y_i=1|X_i)$ by the linear predictor $\\eta_i = \\sum_{k=0}^p \\beta_k X_{i,k}$. The *logit* function is defined as follows for all $\\pi\\in(0,1)$:\n",
    "\n",
    "$$\\mathrm{logit}(\\pi) = \\log \\left(\\frac{\\pi}{1-\\pi}\\right).$$\n",
    "\n",
    "The main advantage of the *logit* function is that it maps $(0,1)$ into the set of real numbers $\\mathbb{R}$ allowing to link $\\pi_i$ and the linear predictor $\\eta_i$. \n",
    "\n",
    "The quantity $\\frac{\\pi}{1-\\pi}=\\frac{P(Y=1)}{P(Y=0)}$ where $Y$ is a binary variable which denotes the presence of an event ($Y=1$) or its absence ($Y=0$) is called the *odds* of this event. When the odds is equal to $1$, it means that $Y$ is equally likely to be to $0$ or $1$. When the odds is greater than $1$, it means that $Y$ is more likely to be equal to $1$ than it is to be equal to $0$. When the odds is less than $1$, it means that $Y$ is more likely to be equal to $0$ than it is to be equal to $1$. For example, if a patient has an odds of developing dementia of $9$ it is very likely that this patient will have a dementia status of $1$.\n",
    "\n",
    "### 14.3.2 The logistic model\n",
    "\n",
    "Thanks to the $\\mathrm{logit}$ *link function*, we can map the probability $\\pi_i=P(Y_i=1|X_i)$ to the linear predictor $\\eta_i=\\sum_{k=0}^p \\beta_k X_{i,k}$ and that actually defines the logistic regression model\n",
    "\n",
    "$$\\mathrm{logit}(P(Y_i=1|X_i))=\\sum_{k=0}^p \\beta_k X_{i,k}$$\n",
    "\n",
    "which can be equivalently written as\n",
    "\n",
    "$$P(Y_i=1|X_i)=\\frac{\\exp(\\sum_{k=0}^p \\beta_k X_{i,k})}{1+\\exp(\\sum_{k=0}^p \\beta_k X_{i,k})}$$\n",
    "\n",
    "by inverting the $\\mathrm{logit}$ function. In the dementia example, we could model the probability of dementia according to the sex of the patient with the model\n",
    "\n",
    "$$\\mathrm{logit}(\\pi_i) = \\beta_0 + \\beta_1 sex_i$$\n",
    "\n",
    "where $\\pi_i$ is the parameter of the binomial variable $Y_i|sex_i$ where $Y_i$ is the dementia status of the patient $i$. The odds of the dementia of patient $i$ is $\\frac{\\pi_i}{1-\\pi_i}$.\n",
    "\n",
    "> *Exercise:* prove the equivalence between both logistic regression model expressions: \n",
    "> $$ \\mathrm{logit}(P(Y_i=1|X_i))=\\sum_{k=0}^p \\beta_k X_{i,k} \\quad\\text{and}\\quad P(Y_i=1|X_i)=\\frac{\\exp(\\sum_{k=0}^p \\beta_k X_{i,k})}{1+\\exp(\\sum_{k=0}^p \\beta_k X_{i,k})}$$\n",
    "\n",
    "### 14.3.3 Inference of the logistic regression model\n",
    "\n",
    "Let us assume that we have $n$ observations $(y_i)$ from the random variable $Y_i$ with $i=1,\\dots,n$. We want to estimate the $p+1$ parameters $\\beta_k$ of the logistic regression model that includes the covariate $(X_i)$ whose observed values are denoted $(x_i)$. The estimation is done by maximizing the log-likelihood. We first need to derive the likelihood of the model.\n",
    "\n",
    "$$\\begin{aligned}\n",
    "L(\\beta) &= \\prod_{i=1}^n Pr(Y_i = y_i|X_i=x_i) \\\\\n",
    "&= \\prod_{i=1}^n Pr(Y_i = 1 | X_i = x_i)^{y_i}Pr(Y_i = 0 | X_i = x_i)^{1-y_i}\\\\\n",
    "&= \\prod_{i=1}^n \\left( \\frac{\\exp(\\sum_{k=0}^p \\beta_k x_{i,k})}{1+\\exp(\\sum_{k=0}^p \\beta_k x_{i,k})} \\right)^{y_i} \\left( \\frac{1}{1+\\exp(\\sum_{k=0}^p \\beta_k x_{i,k})} \\right)^{1-y_i}\n",
    "\\end{aligned}$$\n",
    "\n",
    "Taking the log of the above likelihood, we derive the following log-likelihood\n",
    "\n",
    "$$\\begin{aligned}\n",
    "\\ell(\\beta) &= \\sum_{i=1}^n y_i \\sum_{k=0}^p \\beta_k x_{i,k} - \\log(1+\\exp(\\beta^{\\top}x_i))\n",
    "\\end{aligned}$$\n",
    "\n",
    "By maximizing this log-likelihood over $\\beta$, we can estimate the parameters. Note that, contrarily to the simple linear model, the maximisation over $\\beta$ is done numerically as there exist no closed-form solution to this optimisation problem. Once the optimisation algorithm has converged, we obtain a vector of estimates $\\hat{\\beta}=(\\hat{\\beta}_k)_{k=0,\\dots,p}$ and a vector of estimated standard errors $\\hat{se}(\\hat{\\beta})$. We know from maximum likelihood theory that, from these, we can compute a $95\\%$ confidence interval for the parameters: $$\\left[\\hat{\\beta}_k - 1.96\\hat{se}(\\hat{\\beta}_k) ;~ \\hat{\\beta}_k + 1.96\\hat{se}(\\hat{\\beta}_k)\\right].$$\n",
    "\n",
    "Because the model is estimated using maximum likelihood theory, we can use the three likelihood based tests on the estimated parameters: the Wald test, the score test and the likelihood ratio test. From the likelihood theory, we know that these tests are asymptotically equivalent. The likelihood ratio test is often used to compare nested models and for null hypothesis that entails testing the nullity of several parameters simultaneously. The Wald test is often used to test separately the nullity of each parameter and both its statistics and p-value are often given as an output of the estimation of a logistic model."
   ]
  },
  {
   "cell_type": "markdown",
   "metadata": {
    "hideCode": false,
    "hidePrompt": false
   },
   "source": [
    "## 14.4 Interpretation of the parameters\n",
    "\n",
    "The interpretation of the parameters $(\\beta_k)_{k=0,\\dots,p}$ is different to the one we have studied in the linear regression module. This is because in the linear regression model, we directly map $E(Y_i|X_i)$ to $\\eta_i$, or equivalently said, the link function in this case is the identity function. In the logistic regression case, because of the logit link function, the interpretation is less straightforward.\n",
    "\n",
    "### 14.4.1 A simplified model\n",
    "\n",
    "To better understand these differences, let us assume a very basic logistic model for a binary variable $Y_i$ whose Bernouilli parameter $\\pi_i$ is modeled according to a single binary variable $X_i$. We call the subjects for which $X_i=1$ the exposed and those for which $X_i=0$ the unexposed. The model is written\n",
    "\n",
    "$$\\mathrm{logit}(\\pi_i) = \\beta_0 + \\beta_1X_i$$\n",
    "\n",
    "or equivalently\n",
    "\n",
    "$$\\pi_i = \\frac{\\exp(\\beta_0 + \\beta_1X_i)}{1+\\exp(\\beta_0 + \\beta_1X_i)}.$$\n",
    "\n",
    "In this simplified case, $\\pi_i$ can only take two values, depending on wheter the subject $i$ is unexposed or exposed. Let us note respectively these values $\\pi_i^0$ and $\\pi_i^1$. We have\n",
    "\n",
    "$$\\mathrm{logit}(\\pi_i^0) = \\beta_0  \\quad\\text{ and }\\quad \\mathrm{logit}(\\pi_i^1) = \\beta_0+\\beta_1$$\n",
    "\n",
    "or equivalently\n",
    "\n",
    "$$\\pi_i^0 = \\frac{\\exp(\\beta_0)}{1+\\exp(\\beta_0)} \\quad\\text{ and }\\quad \\pi_i^1 = \\frac{\\exp(\\beta_0 + \\beta_1)}{1+\\exp(\\beta_0 + \\beta_1)}.$$\n",
    "\n",
    "From these first two equalities, we have that\n",
    "\n",
    "$$\\mathrm{logit}(\\pi_i^1) - \\mathrm{logit}(\\pi_i^0) = \\beta_1$$\n",
    "\n",
    "and $\\beta_1$ can be interpreted as a difference of the logarithm of the odds between the exposed and the unexposed. Equivalently, from the second two equalities, if we compute the odds-ratio of the oucome in the exposed versus the unexposed, we find that\n",
    "\n",
    "$$\\frac{\\pi_i^1}{1-\\pi_i^1}\\bigg/\\frac{\\pi_i^0}{1-\\pi_i^0} = \\exp(\\beta_1)$$\n",
    "\n",
    "This gives an equivalent and more convenient way of interpreting $\\beta_1$ as the odds ratio that compares the odds of the outcome in the exposed versus unexposed. In this simplified example, the odds of the event among the exposed is multiplied by $\\exp(\\beta_1)$ compared to the odds among the unexposed. In particular, if the odds-ratio equals $1$, that means that the exposure do not impact the odds of having $Y=1$. If the odds-ratio is superior to $1$, that means that the odds are bigger for the exposed and therefore the probability of having $Y=1$ is bigger among the exposed. On the contrary, if the odds-ratio is inferior to $1$, the odds are lower for the exposed and the probability of habing $Y=1$ is lower among the exposed. \n",
    "\n",
    "Because of this, rather than computing the $95\\%$ confidence interval directly from the estimated $\\hat{\\beta}=(\\hat{\\beta}_k)_{k=0,\\dots,p}$, it is more informative to give the confidence interval for its exponential that, as we have just seen, has a straightforward interpretation as an odds-ratio. For $k=0,\\dots,p$, we can directly compute the odds-ratio $95\\%$ confidence interval for the odds-ratios from the $95\\%$ confidence interval for $\\beta$ by simply taking the exponential of its bounds:\n",
    "\n",
    "$$\\left[\\exp(\\hat{\\beta}_k - 1.96\\hat{se}(\\hat{\\beta}_k)) ;~ \\exp(\\hat{\\beta}_k + 1.96\\hat{se}(\\hat{\\beta}_k))\\right].$$\n",
    "\n",
    "From the above equalities, we can also observe that it is possible to compute directly from $\\beta_0$ the proportion of subject which have the event among the unexposed $\\pi_i^0$. However, it is important to remain cautious when making this interpretation. For example, in a case-control study where the cases are, by construction, over-represented, this proportion can not be linked to the prevalence of the event among the unexposed in the general population.\n",
    "\n",
    "> *Exercise:* compute the odds-ratio that compares the odds of the outcome in the exposed versus unexposed from the simplified model and prove that it equals $\\exp(\\beta_1)$\n",
    "\n",
    "### 14.4.2 Dementia: a first example\n",
    "\n",
    "Let us describe the interpretation of the logistic model parameters through an example from the dementia dataset. In this example, we are interested to model the dementia status $Y_i$ of the subjects according to their sex. The logistic regression model that allows us to do so is\n",
    "\n",
    "$$\\mathrm{logit}(\\pi_i) = \\beta_0 + \\beta_1sex_i$$\n",
    "\n",
    "where $\\pi_i=E(Y_i|sex_i)$. In R, the function used to estimate such a model is `glm` that stands for *generalized linear model*. The logistic regression model is a specific class of generalized linear model whose particularity is to have the logit function as a link function. To use the `glm` function, we need to give some important arguments:\n",
    "\n",
    "* An `R` object called a formula that states the model we want to estimate. The general form of this formula is *y ~ x1 + x2 + ... + xp* for a model with outcome $y$ and $p$ explanatory variables $x_k$. Note that we could have included the intercept in the model by simply adding $1$ as explanatory variable *y ~ 1 + x1 + x2 + ... + xp*. However note that by default, `R`will include an intercept in the model even if not specified in the formula. If you ever want to estimate a model without an intercept, you have to include `-1` in the formula.\n",
    "* The dataset from which the model is estimated\n",
    "* The family of the *generalized linear model*, here we specify that we are working with a binomial outcome with the *logit* link function. Other options exist but are out of the scope of this module.\n",
    "\n",
    "Finally, the `R` command to estimate the logistic model above on the dementia dataset and to store its results into an object `dementia1` is"
   ]
  },
  {
   "cell_type": "code",
   "execution_count": 4,
   "metadata": {
    "hideCode": false,
    "hidePrompt": false
   },
   "outputs": [],
   "source": [
    "dementia1 <- glm(dementia ~ sex, data = dementia, family = binomial(link=\"logit\"))"
   ]
  },
  {
   "cell_type": "markdown",
   "metadata": {
    "hideCode": false,
    "hidePrompt": false
   },
   "source": [
    "Now, we can explore the results that have just been stored into `dementia1` using the function `summary`"
   ]
  },
  {
   "cell_type": "code",
   "execution_count": 5,
   "metadata": {
    "hideCode": false,
    "hidePrompt": false
   },
   "outputs": [
    {
     "data": {
      "text/plain": [
       "\n",
       "Call:\n",
       "glm(formula = dementia ~ sex, family = binomial(link = \"logit\"), \n",
       "    data = dementia)\n",
       "\n",
       "Deviance Residuals: \n",
       "    Min       1Q   Median       3Q      Max  \n",
       "-0.2211  -0.2211  -0.1771  -0.1771   2.8855  \n",
       "\n",
       "Coefficients:\n",
       "            Estimate Std. Error z value Pr(>|z|)    \n",
       "(Intercept) -4.14722    0.02439 -170.01   <2e-16 ***\n",
       "sex          0.44771    0.03264   13.72   <2e-16 ***\n",
       "---\n",
       "Signif. codes:  0 ‘***’ 0.001 ‘**’ 0.01 ‘*’ 0.05 ‘.’ 0.1 ‘ ’ 1\n",
       "\n",
       "(Dispersion parameter for binomial family taken to be 1)\n",
       "\n",
       "    Null deviance: 38333  on 199999  degrees of freedom\n",
       "Residual deviance: 38143  on 199998  degrees of freedom\n",
       "AIC: 38147\n",
       "\n",
       "Number of Fisher Scoring iterations: 7\n"
      ]
     },
     "metadata": {},
     "output_type": "display_data"
    }
   ],
   "source": [
    "summary(dementia1)"
   ]
  },
  {
   "cell_type": "markdown",
   "metadata": {
    "hideCode": false,
    "hidePrompt": false
   },
   "source": [
    "Let us go through this summary in details part by part and describe its contents:\n",
    "\n",
    "* *Call:* this part of the summary gives us the call we made to the function `glm`. It can be useful when a doubt arises about which model has been estimated.\n",
    "* *Deviance residuals:* this part gives a summary of the distribution of all the estimated residuals. Here, the deviance residuals are given, they are defined as the individual contributions to the residual deviance (see below). They can be retrieved using the function `residuals` with option `type = \"deviance\"`. Note that there also exists other type of residuals for generalized linear models.\n",
    "* *Coefficients:* this part gives the results of the estimation of the parameters from the model, here in our case, $\\beta_0$ and $\\beta_1$. For each parameter $\\beta_k$, we have \n",
    "  * the point estimate $\\hat{\\beta}_k$\n",
    "  * the standard error of the estimation $se(\\hat{\\beta}_k)$\n",
    "  * the z-value computed as the ratio of the point estimate and the standard error $\\hat{\\beta}_k/se(\\hat{\\beta}_k)$. It is actually the Wald statistics whose null hypothesis is $\\beta_k=0$.\n",
    "  * the p-value of the Wald test (the star symbols gives the intensity of the significance level)\n",
    "* *Null and residual deviances:* The deviance of a model is a measure of the goodness-of-fit of this model. It is defined as $D = -2(\\ell_e - \\ell_s)$ where $\\ell_e$ and $\\ell_s$ are respectively the log-likelihood of the estimated model and the log-likelihood of the saturated model. The saturated model uses the maximum possible number of parameters without redundancies and is the one with the best possible fit. The null deviance is simply the deviance computed for the null model, i.e. the minimal model with only an intercept and without any covariate. A bad model will have a high deviance and, for a good model, we expect the deviance to decrease, meaning that we better describe the data. However, we should remain cautious as a null deviance would mean a model with possible overfitting. Note that when computing deviances of different models for the same dataset, the log-likelihood of the saturated model $\\ell_s$ would be constant. This is why often, as in the `glm`function output, the deviance is given in a simplified form as $-2\\ell_e$ by removing the constant lok-likelihood from the saturated model. The degrees of freedom are given on the same line and equals $n-1$ where $n$ is the sample size and $1$ is the number of parameters to estimate in the null model The residual deviance is the deviance for the estimated model.\n",
    "* *AIC:* the Akaike information criterion quantifies model fit as a function of the likelihood and the number of parameters being estimated. It is defined as $AIC = 2k - 2\\ell(\\hat{\\beta})$ where $k$ is the number of parameter in the model and $\\ell(\\hat{\\beta})$ the log-likelihood of the model computed at the estimated parameter values $\\hat{\\beta}$. The AIC is mainly used as a way to compare different models. The best model, in the scale of the AIC, is the one with the lowest AIC. Note that sometimes, contrarily to the *glm* package, the AIC is computed as $AIC = -2k + 2\\ell(\\hat{\\beta})$ in which case the best model would be the one with the highest AIC value. We can observe that the AIC is actually minus the sum of the deviance and twice the number of the parameters. By including the number of parameters, the AIC can penalize a model that have too many parameters and avoids the selection of overfitting models.\n",
    "* *Number of Fisher Scoring iterations:* it gives the number of iterations that the optimisation algorithm used to estimate the model performed before convergence\n",
    "\n",
    "In this summary, we have everything that we need to give an interpretation of the estimated model. However, as we have seen, in the logistic regression, the crude parameters do not have a straightforward interpretation and we prefer to compute and interpret their exponential."
   ]
  },
  {
   "cell_type": "code",
   "execution_count": 6,
   "metadata": {
    "hideCode": false,
    "hidePrompt": false
   },
   "outputs": [
    {
     "data": {
      "text/html": [
       "<dl class=dl-horizontal>\n",
       "\t<dt>(Intercept)</dt>\n",
       "\t\t<dd>0.0158083366518103</dd>\n",
       "\t<dt>sex</dt>\n",
       "\t\t<dd>1.56472020945518</dd>\n",
       "</dl>\n"
      ],
      "text/latex": [
       "\\begin{description*}\n",
       "\\item[(Intercept)] 0.0158083366518103\n",
       "\\item[sex] 1.56472020945518\n",
       "\\end{description*}\n"
      ],
      "text/markdown": [
       "(Intercept)\n",
       ":   0.0158083366518103sex\n",
       ":   1.56472020945518\n",
       "\n"
      ],
      "text/plain": [
       "(Intercept)         sex \n",
       " 0.01580834  1.56472021 "
      ]
     },
     "metadata": {},
     "output_type": "display_data"
    }
   ],
   "source": [
    "exp(coefficients(dementia1))"
   ]
  },
  {
   "cell_type": "markdown",
   "metadata": {
    "hideCode": false,
    "hidePrompt": false
   },
   "source": [
    "Let us interpret these as we just have seen. First, as this is not a case control study, we can interpret $\\exp({\\hat{\\beta}_0})/(1+exp({\\hat{\\beta}_0})) = 0.0156$ as an estimation of the prevalence of dementia among the unexposed subjects, here the men. Actually, we can double check this by computing it directly from the data:"
   ]
  },
  {
   "cell_type": "code",
   "execution_count": 7,
   "metadata": {
    "hideCode": false,
    "hidePrompt": false
   },
   "outputs": [
    {
     "name": "stderr",
     "output_type": "stream",
     "text": [
      "Registered S3 methods overwritten by 'ggplot2':\n",
      "  method         from \n",
      "  [.quosures     rlang\n",
      "  c.quosures     rlang\n",
      "  print.quosures rlang\n",
      "Registered S3 method overwritten by 'rvest':\n",
      "  method            from\n",
      "  read_xml.response xml2\n",
      "── Attaching packages ─────────────────────────────────────── tidyverse 1.2.1 ──\n",
      "✔ ggplot2 3.1.1       ✔ purrr   0.3.2  \n",
      "✔ tibble  2.1.1       ✔ dplyr   0.8.0.1\n",
      "✔ tidyr   0.8.3       ✔ stringr 1.4.0  \n",
      "✔ readr   1.3.1       ✔ forcats 0.4.0  \n",
      "── Conflicts ────────────────────────────────────────── tidyverse_conflicts() ──\n",
      "✖ dplyr::filter() masks stats::filter()\n",
      "✖ dplyr::lag()    masks stats::lag()\n"
     ]
    },
    {
     "data": {
      "text/html": [
       "<table>\n",
       "<thead><tr><th scope=col>sex</th><th scope=col>dementia</th><th scope=col>n</th></tr></thead>\n",
       "<tbody>\n",
       "\t<tr><td>0     </td><td>0     </td><td>107981</td></tr>\n",
       "\t<tr><td>0     </td><td>1     </td><td>  1707</td></tr>\n",
       "\t<tr><td>1     </td><td>0     </td><td> 88132</td></tr>\n",
       "\t<tr><td>1     </td><td>1     </td><td>  2180</td></tr>\n",
       "</tbody>\n",
       "</table>\n"
      ],
      "text/latex": [
       "\\begin{tabular}{r|lll}\n",
       " sex & dementia & n\\\\\n",
       "\\hline\n",
       "\t 0      & 0      & 107981\\\\\n",
       "\t 0      & 1      &   1707\\\\\n",
       "\t 1      & 0      &  88132\\\\\n",
       "\t 1      & 1      &   2180\\\\\n",
       "\\end{tabular}\n"
      ],
      "text/markdown": [
       "\n",
       "| sex | dementia | n |\n",
       "|---|---|---|\n",
       "| 0      | 0      | 107981 |\n",
       "| 0      | 1      |   1707 |\n",
       "| 1      | 0      |  88132 |\n",
       "| 1      | 1      |   2180 |\n",
       "\n"
      ],
      "text/plain": [
       "  sex dementia n     \n",
       "1 0   0        107981\n",
       "2 0   1          1707\n",
       "3 1   0         88132\n",
       "4 1   1          2180"
      ]
     },
     "metadata": {},
     "output_type": "display_data"
    }
   ],
   "source": [
    "library(tidyverse, quietly = TRUE)\n",
    "dementia %>% group_by(sex, dementia) %>% count()"
   ]
  },
  {
   "cell_type": "code",
   "execution_count": 8,
   "metadata": {
    "hideCode": false,
    "hidePrompt": false
   },
   "outputs": [
    {
     "data": {
      "text/html": [
       "0.0156"
      ],
      "text/latex": [
       "0.0156"
      ],
      "text/markdown": [
       "0.0156"
      ],
      "text/plain": [
       "[1] 0.0156"
      ]
     },
     "metadata": {},
     "output_type": "display_data"
    }
   ],
   "source": [
    "round(1707 / (107981 + 1707),4)"
   ]
  },
  {
   "cell_type": "markdown",
   "metadata": {
    "hideCode": false,
    "hidePrompt": false
   },
   "source": [
    "Now, we have that $\\exp({\\hat{\\beta}_1}) = 1.565$. That means that the odds-ratio of developing dementia in the women versus the men is of $1.565$ or equivalently that the probability of developing dementia is higher among the exposed, here the women.\n",
    "\n",
    "From the summary, we can deduced other interesting informations. First, if we look at the $p$-value for the sex variable, we can see that it is very significative meaning that we clearly reject the null hypothesis of no sex association. By looking at the residual deviance, we can see that by just including one parameter, the sex association, the deviance decreases by $190$. Decreasing the deviance is a good sign as it means that we are improving the description of the data with the estimated model. However, let us note again that decreasing the deviance is not a goal *per se* as it could lead to overfitting."
   ]
  },
  {
   "cell_type": "markdown",
   "metadata": {
    "hideCode": false,
    "hidePrompt": false
   },
   "source": [
    "To summarize, a synthetic interpration of the estimated model could be the following: there is a significative association between the variable *sex* and the dementia status and the odds of developing dementia are $1.565$ times higher for the women in our study.\n",
    "\n",
    "> *Exercise:* write a code that computes the odds-ratio $95\\%$ confidence interval directly from the `R` output"
   ]
  },
  {
   "cell_type": "markdown",
   "metadata": {
    "hideCode": false,
    "hidePrompt": false
   },
   "source": [
    "### 14.4.3 Interpretation when $X_i$ is a continuous variable\n",
    "\n",
    "In the previous example, the $X_i$ was a binary variable and the interpretations of the odds-ratio was done by comparing the exposed to the unexposed. But when $X_i$ is continuous, the notions of exposed and unexposed becomes irrelevant. So how should we interpret $\\beta_1$ in the following model where $X_i$ is a continuous variable?\n",
    "\n",
    "$$\\mathrm{logit}(\\pi_i) = \\beta_0 + \\beta_1X_i$$\n",
    "\n",
    "As in the linear regression, the interpretation of $\\beta_1$ is linked to the increase of $1$ unit of the variable $X_i$. Indeed, we have,\n",
    "\n",
    "$$P(Y_i=1|X_i=x+1) = \\frac{\\exp(\\beta_0 + \\beta_1(x+1))}{1+\\exp(\\beta_0 + \\beta_1(x+1))} \\quad\\text{and}\\quad P(Y_i=1|X_i=x) = \\frac{\\exp(\\beta_0 + \\beta_1x)}{1+\\exp(\\beta_0 + \\beta_1x)}.$$\n",
    "\n",
    "Hence, \n",
    "\n",
    "$$\\frac{P(Y_i=1|X_i=x+1)}{1-P(Y_i=1|X_1=x_1)} = \\exp(\\beta_0 + \\beta_1(x_1+1))\\quad\\text{and}\\quad \\frac{P(Y_i=1|X_i=x)}{1-P(Y_i=1|X_i=x)} = \\exp(\\beta_0 + \\beta_1x_1).$$\n",
    "\n",
    "So that, \n",
    "\n",
    "$$\\frac{P(Y_i=1|X_i=x+1)}{1-P(Y_i=1|X_i=x+1)}\\bigg/ \\frac{P(Y_i=1|X_i=x)}{1-P(Y_i=1|X_i=x)} = \\exp(\\beta_1).$$\n",
    "\n",
    "Therefore, $\\exp(\\beta_1)$ is the odds-ratio of having $Y=1$ for an increase of $1$ of the variable $X_i$.\n",
    "\n",
    "### 15.4.4 A more general case\n",
    "\n",
    "We have just studied very simplified cases of logistic regression. Let us now study the more general case with $X_{i,1},\\dots,X_{i,p}$ $p$ numeric variables and $Y_i$ a binary variable such as $Y_i|X_{i,1},\\dots,X_{i,p}$ is a Bernoulli variable of parameter $\\pi_i$, the general model is \n",
    "\n",
    "$$\\mathrm{logit}(\\pi_i) = \\beta_0 + \\sum_{k=1}^p \\beta_k X_{i,k}.$$\n",
    "\n",
    "This model can be equivalently written using the vector notation\n",
    "\n",
    "$$\\mathrm{logit}(\\pi_i) = \\beta^{\\top}X_i$$\n",
    "\n",
    "where $\\beta$ is the vector of parameters of size $p+1$ and where $X_i$ is a $p+1$ vector containing the constant vector $1$ followed by the variable $X_{i,1},\\dots,X_{i,p}$. \n",
    "\n",
    "The interpretation is actually quite similar to the one we made in the simplified example. We have an estimated vector of parameters $\\hat{\\beta}$. \n",
    "\n",
    "$\\exp(\\beta_0)/(1+\\exp(\\beta_0))$ is the probability of $Y=1$ when all covariates $X_{i,k}$ are equal to $0$. If the study cohort is a random sample from the underlying population of interest, then the estimate of $\\exp(\\beta_0)/(1+\\exp(\\beta_0))$ from the data provides an estimate of the prevalence of the outcome $Y=1$ in the underlying population of interest. This is not the case if the study cohort is not a random sample, for example if it is a stratified random sample, a convenience sample, or a case-control sample. The sampling design for the study needs to be taken into account when interpreting the intercept parameter $\\beta_0$ (and functions thereof). Note however, that contrarily to before where we had only one binary covariate defining an exposed group and a unexposed group, this time, because all $X_{i,k}$ can be numeric, we have to be more specific. In particular, the group of subjects whose covariates $X_{i,k}$ are all equal to $0$ might not have any sense at all in the practice, e.g. when we include weight as a covariate.\n",
    "\n",
    "Now, let us focus on the $\\beta_1,\\dots,\\beta_p$. Similar to the previous section, interpreting a $\\beta_k$ parameter is linked to the increase of $1$ unit of the variable $X_{i,k}$ while assuming that all other variables $(X_{i,k'})_{k'\\neq k}$ remain unchanged. Therefore, $\\exp(\\beta_k)$ is the odds-ratio for an increase of $1$ unit of $X_{i,k}$ assuming all other variables remain unchanged.\n",
    "\n",
    "For example we write here the odds-ratio of dementia in subjects with $X_{i,1} = x_1+1$ versus those with $X_{i,1}=x_1$ and with $X_{i,j}=x_j$ for all $1<j\\leq p$:\n",
    "\n",
    "$$\\frac{P(Y_i=1|X_{i,1}=x_1+1,X_{i,2}=x_2,\\dots,X_{i,p}=x_p)}{1-P(Y_i=1|X_{i,1}=x_1+1,X_{i,2}=x_2,\\dots,X_{i,p}=x_p)}\\bigg/ \\frac{P(Y_i=1|X_{i,1}=x_1,X_{i,2}=x_2,\\dots,X_{i,p}=x_p)}{P(Y_i=1|X_{i,1}=x_1,X_{i,2}=x_2,\\dots,X_{i,p}=x_p)}$$\n",
    "\n",
    "Similar to the computations we did on the previous section, we have that \n",
    "\n",
    "$$P(Y_i=1|X_{i,1}=x_1+1,X_{i,2}=x_2,\\dots,X_{i,p}=x_p) = \\frac{\\exp(\\beta_0 + \\beta_1(x_1+1) + \\beta_2x_2 + \\dots + \\beta_px_p)}{1+\\exp(\\beta_0 + \\beta_1(x_1+1) + \\beta_2x_2 + \\dots + \\beta_px_p)}$$\n",
    "\n",
    "and \n",
    "\n",
    "$$P(Y_i=1|X_{i,1}=x_1,X_{i,2}=x_2,\\dots,X_{i,p}=x_p) = \\frac{\\exp(\\beta_0 + \\beta_1x_1 + \\beta_2x_2 + \\dots + \\beta_px_p)}{1+\\exp(\\beta_0 + \\beta_1x_1 + \\beta_2x_2 + \\dots + \\beta_px_p)}.$$\n",
    "\n",
    "Hence, we can compute\n",
    "\n",
    "$$\\frac{P(Y_i=1|X_{i,1}=x_1+1,X_{i,2}=x_2,\\dots,X_{i,p}=x_p)}{1-P(Y_i=1|X_{i,1}=x_1+1,X_{i,2}=x_2,\\dots,X_{i,p}=x_p)} = \\exp(\\beta_0 + \\beta_1(x_1+1) + \\beta_2x_2 + \\dots + \\beta_px_p)$$\n",
    "\n",
    "and\n",
    "\n",
    "$$\\frac{P(Y_i=1|X_{i,1}=x_1,X_{i,2}=x_2,\\dots,X_{i,p}=x_p)}{1-P(Y_i=1|X_{i,1}=x_1,X_{i,2}=x_2,\\dots,X_{i,p}=x_p)} = \\exp(\\beta_0 + \\beta_1x_1 + \\beta_2x_2 + \\dots + \\beta_px_p)$$\n",
    "\n",
    "so that, finally, we have that \n",
    "\n",
    "$$\\frac{P(Y_i=1|X_{i,1}=x_1+1,X_{i,2}=x_2,\\dots,X_{i,p}=x_p)}{1-P(Y_i=1|X_{i,1}=x_1+1,X_{i,2}=x_2,\\dots,X_{i,p}=x_p)}\\bigg/ \\frac{P(Y_i=1|X_{i,1}=x_1,X_{i,2}=x_2,\\dots,X_{i,p}=x_p)}{1-P(Y_i=1|X_{i,1}=x_1,X_{i,2}=x_2,\\dots,X_{i,p}=x_p)} = \\exp(\\beta_1).$$\n",
    "\n",
    "> *Exercice:* Estimate the association between dementia status and age using the `glm` function in `R` and interprect this association correctly."
   ]
  },
  {
   "cell_type": "markdown",
   "metadata": {
    "hideCode": false,
    "hidePrompt": false
   },
   "source": [
    "### 14.4.5 Dementia: a second example\n",
    "\n",
    "Let see a second example with several variables to see how to interpret the results. This time, our interest lies in modeling the probability of developing dementia during the follow-up according to sex, age at inclusion and bmi at inclusion.\n",
    "\n",
    "\n",
    "$$\\mathrm{logit}(\\pi_i) = \\beta_0 + \\beta_1sex_i + \\beta_2 age_i + \\beta_3 bmi_i$$\n",
    "\n",
    "This model can be estimated in `R`using the `glm` function"
   ]
  },
  {
   "cell_type": "code",
   "execution_count": 9,
   "metadata": {
    "hideCode": false,
    "hidePrompt": false
   },
   "outputs": [],
   "source": [
    "dementia2 <- glm(dementia ~ sex + age + bmi, data = dementia, family = binomial(link=\"logit\"))"
   ]
  },
  {
   "cell_type": "markdown",
   "metadata": {
    "hideCode": false,
    "hidePrompt": false
   },
   "source": [
    "As usually, let us print the results that have been stored in the `R`object `dementia2`."
   ]
  },
  {
   "cell_type": "code",
   "execution_count": 10,
   "metadata": {
    "hideCode": false,
    "hidePrompt": false
   },
   "outputs": [
    {
     "data": {
      "text/plain": [
       "\n",
       "Call:\n",
       "glm(formula = dementia ~ sex + age + bmi, family = binomial(link = \"logit\"), \n",
       "    data = dementia)\n",
       "\n",
       "Deviance Residuals: \n",
       "    Min       1Q   Median       3Q      Max  \n",
       "-1.1067  -0.1959  -0.1134  -0.0732   3.6917  \n",
       "\n",
       "Coefficients:\n",
       "             Estimate Std. Error z value Pr(>|z|)    \n",
       "(Intercept) -9.783837   0.152138 -64.309  < 2e-16 ***\n",
       "sex          0.306798   0.033773   9.084  < 2e-16 ***\n",
       "age          0.098682   0.001413  69.826  < 2e-16 ***\n",
       "bmi         -0.025619   0.003596  -7.124 1.05e-12 ***\n",
       "---\n",
       "Signif. codes:  0 ‘***’ 0.001 ‘**’ 0.01 ‘*’ 0.05 ‘.’ 0.1 ‘ ’ 1\n",
       "\n",
       "(Dispersion parameter for binomial family taken to be 1)\n",
       "\n",
       "    Null deviance: 38333  on 199999  degrees of freedom\n",
       "Residual deviance: 31732  on 199996  degrees of freedom\n",
       "AIC: 31740\n",
       "\n",
       "Number of Fisher Scoring iterations: 8\n"
      ]
     },
     "metadata": {},
     "output_type": "display_data"
    }
   ],
   "source": [
    "summary(dementia2)"
   ]
  },
  {
   "cell_type": "markdown",
   "metadata": {
    "hideCode": false,
    "hidePrompt": false
   },
   "source": [
    "We compute the exponential of the estimated coefficients and will interpret each."
   ]
  },
  {
   "cell_type": "code",
   "execution_count": 11,
   "metadata": {
    "hideCode": false,
    "hidePrompt": false
   },
   "outputs": [
    {
     "data": {
      "text/html": [
       "<dl class=dl-horizontal>\n",
       "\t<dt>(Intercept)</dt>\n",
       "\t\t<dd>5.63551570540758e-05</dd>\n",
       "\t<dt>sex</dt>\n",
       "\t\t<dd>1.35906636679882</dd>\n",
       "\t<dt>age</dt>\n",
       "\t\t<dd>1.1037155539435</dd>\n",
       "\t<dt>bmi</dt>\n",
       "\t\t<dd>0.974706075132112</dd>\n",
       "</dl>\n"
      ],
      "text/latex": [
       "\\begin{description*}\n",
       "\\item[(Intercept)] 5.63551570540758e-05\n",
       "\\item[sex] 1.35906636679882\n",
       "\\item[age] 1.1037155539435\n",
       "\\item[bmi] 0.974706075132112\n",
       "\\end{description*}\n"
      ],
      "text/markdown": [
       "(Intercept)\n",
       ":   5.63551570540758e-05sex\n",
       ":   1.35906636679882age\n",
       ":   1.1037155539435bmi\n",
       ":   0.974706075132112\n",
       "\n"
      ],
      "text/plain": [
       " (Intercept)          sex          age          bmi \n",
       "5.635516e-05 1.359066e+00 1.103716e+00 9.747061e-01 "
      ]
     },
     "metadata": {},
     "output_type": "display_data"
    }
   ],
   "source": [
    "exp(coefficients(dementia2))"
   ]
  },
  {
   "cell_type": "markdown",
   "metadata": {
    "hideCode": false,
    "hidePrompt": false
   },
   "source": [
    "Contrarily to the previous model, here we do not interpret the intercept. Indeed, if we were doing so, it would be the prevalence of dementia among men with age and bmi at inclusion of 0 which obviously does not make any clinical sense. We can interpret the other parameters\n",
    "\n",
    "* *sex*: there is an association between sex and the dementia status and the odds of dementia are multiplied by $1.36$ for women compared to men having same age and bmi at inclusion\n",
    "* *age*: there is an association between age and the dementia status and the odds of dementia are multiplied by $1.10$ when age increases by $1$ year assuming sex and bmi at inclusion remain unchanged\n",
    "* *bmi*: there is an association between bmi and the dementia status and the odds of dementia are multiplied by $0.97$ when bmi increases by $1$ unit assuming sex and age at inclusion remain unchanged\n",
    "\n",
    "By including these variables into this new model, we only added two parameters but we can see that the deviance decreased slightly. It was $38143$ on the first simple model and now equals $31732$. The quality of this new model is confirmed by the AIC which was $38147$ for the previous model and decreases to $31740$ for the new model."
   ]
  },
  {
   "cell_type": "markdown",
   "metadata": {
    "hideCode": false,
    "hidePrompt": false
   },
   "source": [
    "### 14.4.6 Interactions\n",
    "\n",
    "As in the linear regression, we might include interactions into the model to take into account the fact that a variable $Z$ might affect the relation between another variable $X$ and the outcome $Y$. Adding the interaction $X\\times Z$ into the model allows to model properly this. The model would be written\n",
    "\n",
    "$$\\mathrm{logit}(\\pi_i) = \\beta_0 + \\beta_1 X + \\beta_2 Z + \\beta_3X\\times Z.$$\n",
    "\n",
    "Interpreting such a model becomes more subtile because of the interaction term. Let us assume here that $X$ is a numeric variable and $Z$ a binary variable. The interpretation has to be done according to each possible strata. In this example, there are two strata depending upon $Z$ which can be $0$ or $1$.\n",
    "\n",
    "* if $Z=0$, $\\mathrm{logit}(\\pi_i) = \\beta_0 + \\beta_1 X$\n",
    "    * $\\exp(\\beta_0)/(1+\\exp(\\beta_0))$ is the proportion of subject for which $Y_i=1$ and both $X$ and $Z$ are null\n",
    "    * $exp(\\beta_1)$ is the odds-ratio for $1$ unit increase of $X$ for subjects with $Z=0$\n",
    "* if $Z=1$, $\\mathrm{logit}(\\pi_i) = (\\beta_0+\\beta_2) + (\\beta_1+\\beta_3)X$\n",
    "   * $\\exp(\\beta_0+\\beta_2)/(1+\\exp(\\beta_0+\\beta_2))$ is the proportion of subject for which $Y_i=1$ and $X$ is null and $Z=1$\n",
    "   * $exp(\\beta_1+\\beta_3)$ is the odds-ratio for $1$ unit increase of $X$ for subjects with $Z=1$\n",
    "\n",
    "Note that, when including the interaction, we assume the potential that this interaction could actually exist. It can be however useful to directly test its existence. From the above model, it is straightforward to do so by testing the nullity of the parameter $\\beta_3$. If $\\beta_3=0$ is rejected, there is no evidence towards a modification of the effect of $X$ on $Y$ by $Z$.\n",
    "\n",
    "*Remark:* We need to be careful when computing the $95\\%$ confindence interval for the OR among subjects with $Z=1$, $\\exp(\\beta_1 + \\beta_3)$. Indeed, when computing $\\hat{\\mathrm{se}}(\\hat{\\beta}_1+\\hat{\\beta}_3)$, we need to know the value of the estimated covariance between $\\hat{\\beta_1}$ and $\\hat{\\beta_3}$ because $\\mathrm{var}(\\hat{\\beta}_1+\\hat{\\beta}_3) = \\mathrm{var}(\\hat{\\beta}_1) + \\mathrm{var}(\\hat{\\beta}_3) + \\mathrm{cov}(\\hat{\\beta}_1,\\hat{\\beta}_3)$.\n",
    "\n",
    "### 14.4.7 Dementia: a third example\n",
    "\n",
    "We study here how sex can modify the relation between dementia and bmi. This model is written\n",
    "\n",
    "$$\\mathrm{logit}(\\pi_i) = \\beta_0 + \\beta_1bmi_i + \\beta_2sex_i + \\beta_3bmi_i\\times sex_i$$\n",
    "\n",
    "and can be estimated in `R` using the `glm` function. To include an interaction between two variables `x` and `z` into a model in `R`, we have to specify both the variable and the interaction term explicitly using the `:` symbol: `y ~ x + z + x:z`. We can also use the symbol `*` between two variables and both the variables and the interaction term will be included: `y ~ x*z`. Both formula will estimate the exact same model. Be careful however when using `*` with more than two variables and check that you actually want to include all the interaction terms.\n"
   ]
  },
  {
   "cell_type": "code",
   "execution_count": 12,
   "metadata": {
    "hideCode": false,
    "hidePrompt": false,
    "scrolled": true
   },
   "outputs": [
    {
     "data": {
      "text/plain": [
       "\n",
       "Call:\n",
       "glm(formula = dementia ~ bmi + sex + bmi:sex, family = binomial(link = \"logit\"), \n",
       "    data = dementia)\n",
       "\n",
       "Deviance Residuals: \n",
       "    Min       1Q   Median       3Q      Max  \n",
       "-0.3013  -0.2220  -0.1922  -0.1667   3.4232  \n",
       "\n",
       "Coefficients:\n",
       "             Estimate Std. Error z value Pr(>|z|)    \n",
       "(Intercept) -2.094229   0.153899 -13.608  < 2e-16 ***\n",
       "bmi         -0.075540   0.005742 -13.156  < 2e-16 ***\n",
       "sex         -0.158205   0.191034  -0.828  0.40759    \n",
       "bmi:sex      0.021042   0.007174   2.933  0.00336 ** \n",
       "---\n",
       "Signif. codes:  0 ‘***’ 0.001 ‘**’ 0.01 ‘*’ 0.05 ‘.’ 0.1 ‘ ’ 1\n",
       "\n",
       "(Dispersion parameter for binomial family taken to be 1)\n",
       "\n",
       "    Null deviance: 38333  on 199999  degrees of freedom\n",
       "Residual deviance: 37780  on 199996  degrees of freedom\n",
       "AIC: 37788\n",
       "\n",
       "Number of Fisher Scoring iterations: 7\n"
      ]
     },
     "metadata": {},
     "output_type": "display_data"
    }
   ],
   "source": [
    "dementia3 <- glm(dementia ~ bmi + sex + bmi:sex, data = dementia, family = binomial(link=\"logit\"))\n",
    "summary(dementia3)"
   ]
  },
  {
   "cell_type": "code",
   "execution_count": 13,
   "metadata": {
    "hideCode": false,
    "hidePrompt": false,
    "scrolled": true
   },
   "outputs": [
    {
     "data": {
      "text/html": [
       "<table>\n",
       "<thead><tr><th></th><th scope=col>coefficients</th><th scope=col>exp(coefficients)</th></tr></thead>\n",
       "<tbody>\n",
       "\t<tr><th scope=row>(Intercept)</th><td>-2.09422922</td><td>0.1231651  </td></tr>\n",
       "\t<tr><th scope=row>bmi</th><td>-0.07554006</td><td>0.9272426  </td></tr>\n",
       "\t<tr><th scope=row>sex</th><td>-0.15820459</td><td>0.8536751  </td></tr>\n",
       "\t<tr><th scope=row>bmi:sex</th><td> 0.02104249</td><td>1.0212654  </td></tr>\n",
       "</tbody>\n",
       "</table>\n"
      ],
      "text/latex": [
       "\\begin{tabular}{r|ll}\n",
       "  & coefficients & exp(coefficients)\\\\\n",
       "\\hline\n",
       "\t(Intercept) & -2.09422922 & 0.1231651  \\\\\n",
       "\tbmi & -0.07554006 & 0.9272426  \\\\\n",
       "\tsex & -0.15820459 & 0.8536751  \\\\\n",
       "\tbmi:sex &  0.02104249 & 1.0212654  \\\\\n",
       "\\end{tabular}\n"
      ],
      "text/markdown": [
       "\n",
       "| <!--/--> | coefficients | exp(coefficients) |\n",
       "|---|---|---|\n",
       "| (Intercept) | -2.09422922 | 0.1231651   |\n",
       "| bmi | -0.07554006 | 0.9272426   |\n",
       "| sex | -0.15820459 | 0.8536751   |\n",
       "| bmi:sex |  0.02104249 | 1.0212654   |\n",
       "\n"
      ],
      "text/plain": [
       "            coefficients exp(coefficients)\n",
       "(Intercept) -2.09422922  0.1231651        \n",
       "bmi         -0.07554006  0.9272426        \n",
       "sex         -0.15820459  0.8536751        \n",
       "bmi:sex      0.02104249  1.0212654        "
      ]
     },
     "metadata": {},
     "output_type": "display_data"
    }
   ],
   "source": [
    "cbind(\"coefficients\" = coefficients(dementia3), \"exp(coefficients)\" = exp(coefficients(dementia3)))"
   ]
  },
  {
   "cell_type": "markdown",
   "metadata": {
    "hideCode": false,
    "hidePrompt": false
   },
   "source": [
    "> *Exercise:* Run this model using the `*` notation in the formula and check that you are actually estimating the exact same model.\n",
    "\n",
    "\n",
    "We will interpret separately on the two strata defined by the levels of the variable $sex_i$\n",
    "\n",
    "* when $sex_i=0$, i.e. for women, $\\mathrm{logit}(\\pi_i) = \\beta_0 + \\beta_1bmi_i$\n",
    "    * we do not interpret $\\beta_0$ as a null bmi is not clinically relevant\n",
    "    * $\\exp(\\beta_1) = 0.927$  is the odds-ratio of dementia for a $1$ unit increase of bmi at inclusion for a woman\n",
    "* when $sex_i=1$, i.e. for men, $\\mathrm{logit}(\\pi_i) = (\\beta_0 + \\beta_2) + (\\beta_1 + \\beta_3)*bmi_i$\n",
    "    * we do not interpret $\\beta_0 + \\beta_1$ as a null bmi is not clinically relevant\n",
    "    * $\\exp(\\beta_1 + \\beta_3) = 0.947$ is the odds-ratio of dementia for a $1$ unit increase of bmi at inclusion for a man\n",
    "    \n",
    "We note that according to the Wald test results, there is a significative association between the bmi and the dementia status but overall, no association with sex. However, we reject the null hypothesis $\\beta_3=0$. Therefore, there exist an interaction between bmi and sex and the sex has an impact on the dementia status only through its interaction with the bmi.\n",
    "\n",
    "The AIC for this last model is 37788 which is higher than the AIC of the previous model. We recall here that the lower the AIC, the better. Here the results is not very surprising as the second model included three different covariates that added more informations to the model.\n",
    "\n",
    "*Remark:* As we said, if we want to compute the $95\\%$ confindence interval for the OR of dementia among men for a $1$ unit increase of bmi at inclusion $\\exp(\\beta_1 + \\beta_3)$, we need to know the covariance between $\\hat{\\beta_1}$ and $\\hat{\\beta_3}$. Thankfully, it is easy to access this matrix in `R` when estimating the model with the `glm` function. The function `vcov` which takes as argument a `glm` object will give the display the estimated covariance matrix. For example, we can compute the estimated covariate matrix for the third model `dementia3`. There is however no direct way to obtain the CI using the raw `R` output of the `glm` function.\n"
   ]
  },
  {
   "cell_type": "code",
   "execution_count": 14,
   "metadata": {
    "hideCode": false,
    "hidePrompt": false
   },
   "outputs": [
    {
     "data": {
      "text/html": [
       "<table>\n",
       "<thead><tr><th></th><th scope=col>(Intercept)</th><th scope=col>bmi</th><th scope=col>sex</th><th scope=col>bmi:sex</th></tr></thead>\n",
       "<tbody>\n",
       "\t<tr><th scope=row>(Intercept)</th><td> 0.0236847582</td><td>-0.0008724659</td><td>-0.0236847582</td><td> 8.724659e-04</td></tr>\n",
       "\t<tr><th scope=row>bmi</th><td>-0.0008724659</td><td> 0.0000329684</td><td> 0.0008724659</td><td>-3.296840e-05</td></tr>\n",
       "\t<tr><th scope=row>sex</th><td>-0.0236847582</td><td> 0.0008724659</td><td> 0.0364941671</td><td>-1.350220e-03</td></tr>\n",
       "\t<tr><th scope=row>bmi:sex</th><td> 0.0008724659</td><td>-0.0000329684</td><td>-0.0013502196</td><td> 5.146734e-05</td></tr>\n",
       "</tbody>\n",
       "</table>\n"
      ],
      "text/latex": [
       "\\begin{tabular}{r|llll}\n",
       "  & (Intercept) & bmi & sex & bmi:sex\\\\\n",
       "\\hline\n",
       "\t(Intercept) &  0.0236847582 & -0.0008724659 & -0.0236847582 &  8.724659e-04\\\\\n",
       "\tbmi & -0.0008724659 &  0.0000329684 &  0.0008724659 & -3.296840e-05\\\\\n",
       "\tsex & -0.0236847582 &  0.0008724659 &  0.0364941671 & -1.350220e-03\\\\\n",
       "\tbmi:sex &  0.0008724659 & -0.0000329684 & -0.0013502196 &  5.146734e-05\\\\\n",
       "\\end{tabular}\n"
      ],
      "text/markdown": [
       "\n",
       "| <!--/--> | (Intercept) | bmi | sex | bmi:sex |\n",
       "|---|---|---|---|---|\n",
       "| (Intercept) |  0.0236847582 | -0.0008724659 | -0.0236847582 |  8.724659e-04 |\n",
       "| bmi | -0.0008724659 |  0.0000329684 |  0.0008724659 | -3.296840e-05 |\n",
       "| sex | -0.0236847582 |  0.0008724659 |  0.0364941671 | -1.350220e-03 |\n",
       "| bmi:sex |  0.0008724659 | -0.0000329684 | -0.0013502196 |  5.146734e-05 |\n",
       "\n"
      ],
      "text/plain": [
       "            (Intercept)   bmi           sex           bmi:sex      \n",
       "(Intercept)  0.0236847582 -0.0008724659 -0.0236847582  8.724659e-04\n",
       "bmi         -0.0008724659  0.0000329684  0.0008724659 -3.296840e-05\n",
       "sex         -0.0236847582  0.0008724659  0.0364941671 -1.350220e-03\n",
       "bmi:sex      0.0008724659 -0.0000329684 -0.0013502196  5.146734e-05"
      ]
     },
     "metadata": {},
     "output_type": "display_data"
    }
   ],
   "source": [
    "vcov(dementia3)"
   ]
  },
  {
   "cell_type": "markdown",
   "metadata": {
    "hideCode": false,
    "hidePrompt": false
   },
   "source": [
    "By taking the square-root of the diagonal of this matrix, we find the same standard error as displayed in the summary of the object `dementia3` shown above."
   ]
  },
  {
   "cell_type": "code",
   "execution_count": 15,
   "metadata": {
    "hideCode": false,
    "hidePrompt": false
   },
   "outputs": [
    {
     "data": {
      "text/html": [
       "<dl class=dl-horizontal>\n",
       "\t<dt>(Intercept)</dt>\n",
       "\t\t<dd>0.153898532012959</dd>\n",
       "\t<dt>bmi</dt>\n",
       "\t\t<dd>0.00574181125264866</dd>\n",
       "\t<dt>sex</dt>\n",
       "\t\t<dd>0.191034465684247</dd>\n",
       "\t<dt>bmi:sex</dt>\n",
       "\t\t<dd>0.00717407389023679</dd>\n",
       "</dl>\n"
      ],
      "text/latex": [
       "\\begin{description*}\n",
       "\\item[(Intercept)] 0.153898532012959\n",
       "\\item[bmi] 0.00574181125264866\n",
       "\\item[sex] 0.191034465684247\n",
       "\\item[bmi:sex] 0.00717407389023679\n",
       "\\end{description*}\n"
      ],
      "text/markdown": [
       "(Intercept)\n",
       ":   0.153898532012959bmi\n",
       ":   0.00574181125264866sex\n",
       ":   0.191034465684247bmi:sex\n",
       ":   0.00717407389023679\n",
       "\n"
      ],
      "text/plain": [
       "(Intercept)         bmi         sex     bmi:sex \n",
       "0.153898532 0.005741811 0.191034466 0.007174074 "
      ]
     },
     "metadata": {},
     "output_type": "display_data"
    }
   ],
   "source": [
    "sqrt(diag(vcov(dementia3)))"
   ]
  },
  {
   "cell_type": "markdown",
   "metadata": {
    "hideCode": false,
    "hidePrompt": false
   },
   "source": [
    "> *Exercise:* We can expect that by adding interaction terms into the second model between some of the covariates, the fit of the model might be better. Try to add some interaction terms into a fourth model and try to correctly interpret each parameter when possible. Compare the AIC of this fourth estimated model to the second and third models we estimated and comment."
   ]
  },
  {
   "cell_type": "markdown",
   "metadata": {
    "hideCode": false,
    "hidePrompt": false
   },
   "source": [
    "## 14.5 Diagnosis for the logistic regression\n",
    "\n",
    "When using a regression model, and in particular a logistic regression model, it is important to bear in mind the goal of the study. To simplify, it can be either a predictive goal or an explanatory goal. If the goal is to have a model with very good predictive ability, we do not really care about which variables are included in the model as long as its predictive abilities are good. When selecting the model, we will prefer a model with good predictive value on external data even at the price of a lesser good fit to the initial dataset. However, let us note that there is often a correlation between a model that fits corretly the initial data and a model with good predictive ability. If the goal is explanatory, we focus on the clinical validity of the model and the interpretation of the parameters. Thus, which variables are included into the model should be carefully thought using scientific knowledge of the modelisation problem from clinician inputs. Also, when selecting the model, we will prefer a model that carefully takes into account the relation between the variables from the study data rather than a model that have good predictive ability on an external dataset. However, we expect from a good model estimated from appropriate data that similar results shall be found on an appropriate external dataset. This is a topic of major interest in science and is known as the *reproducibility of scientific research*. Finally, let us also note that the goal of a study can also be to explore the causal structure between some variables and the outcome rather than just associations. However, causality and causal inference will not be mentioned in this lecture.\n",
    "\n",
    "We will first see how to evaluate the explanatory abilities of a logistic regression model using goodness-of-fit tools that evaluates how close to the data the model actually is and then we will see how to evaluate the predictive abilities of a logistic regression model.\n",
    "\n",
    "### 14.5.1 Goodness-of-fit\n",
    "\n",
    "We have already seen some concepts used to assess the goodness-of-fit of regression model: the deviance, which measures the distance between the model and the saturated model and the AIC that penalizes over-fitting. We present here two additional way of assessing the goodness-of-fit of the logistic regression model.\n",
    "\n",
    "#### 14.5.1.1 McFadden pseudo-$R^2$\n",
    "\n",
    "For the linear regression model, we have studied the $R^2$ that measures how much variability is explained by the model. For the logistic regression model, several generalization of the $R^2$ measure have been proposed. Here, we will focus on the McFadden's pseudo-$R^2$. The McFadden $R^2$ is defined as follow:\n",
    "\n",
    "$$R^2_{McFadden} = 1 - \\frac{\\ell_e}{\\ell_0}$$\n",
    "\n",
    "where $\\ell_e$ is the log-likelihood of the estimated model and $\\ell_0$ is the log-likelihood of the null model having only an intercept. The rationale behind this measure is that, when the estimated model does not explain correctly the variability, its log-likelihood will be close to the null log-likelihood so that the ratio will be close to $1$ and the McFadden's pseudo-$R^2$ close to $0$. On the contrary, when the model correctly explains the variability of the model, the likelihood will be close to $1$ and therefore $\\ell_e$ will be close to $0$ so that the McFadden's pseudo-$R^2$ will be close to $1$. However, when applied to a classic linear regression model, the McFadden's pseudo-$R^2$ is not equivalent to the classic $R_2$.\n",
    "\n",
    "It is possible to compute the McFadden's pseudo-$R^2$ from `R` quite easily using the function `logLik` that extracts the value of the estimated log-likelihood for a `glm` object. If we want to compute it for our three examples, this is how we would do"
   ]
  },
  {
   "cell_type": "code",
   "execution_count": 16,
   "metadata": {
    "hideCode": false,
    "hidePrompt": false
   },
   "outputs": [
    {
     "data": {
      "text/html": [
       "<dl class=dl-horizontal>\n",
       "\t<dt>model 1</dt>\n",
       "\t\t<dd>0.005</dd>\n",
       "\t<dt>model 2</dt>\n",
       "\t\t<dd>0.172</dd>\n",
       "\t<dt>model 3</dt>\n",
       "\t\t<dd>0.014</dd>\n",
       "</dl>\n"
      ],
      "text/latex": [
       "\\begin{description*}\n",
       "\\item[model 1] 0.005\n",
       "\\item[model 2] 0.172\n",
       "\\item[model 3] 0.014\n",
       "\\end{description*}\n"
      ],
      "text/markdown": [
       "model 1\n",
       ":   0.005model 2\n",
       ":   0.172model 3\n",
       ":   0.014\n",
       "\n"
      ],
      "text/plain": [
       "model 1 model 2 model 3 \n",
       "  0.005   0.172   0.014 "
      ]
     },
     "metadata": {},
     "output_type": "display_data"
    }
   ],
   "source": [
    "# first we estimate the null model\n",
    "dementia0 <- glm(dementia ~ 1, data = dementia, family = binomial(link=\"logit\")) \n",
    "\n",
    "# then we compute the McFadden pseudo-R2 for each model\n",
    "R2_McFadden1 <- as.double(1 - logLik(dementia1)/logLik(dementia0))\n",
    "R2_McFadden2 <- as.double(1 - logLik(dementia2)/logLik(dementia0))\n",
    "R2_McFadden3 <- as.double(1 - logLik(dementia3)/logLik(dementia0))\n",
    "\n",
    "round(c(\"model 1\" = R2_McFadden1, \"model 2\" = R2_McFadden2, \"model 3\" = R2_McFadden3),3)"
   ]
  },
  {
   "cell_type": "markdown",
   "metadata": {
    "hideCode": false,
    "hidePrompt": false
   },
   "source": [
    "We can see that the second model which included three different variables is the one with the highest ability to explain the variability from the data. The first one performed poorly as it included only one binary variable and the third model also perform quite poorly even though we included an interaction between $bmi_i$ and $sex_i$."
   ]
  },
  {
   "cell_type": "markdown",
   "metadata": {
    "hideCode": false,
    "hidePrompt": false
   },
   "source": [
    "#### 14.5.1.2 The Hosmer-Lemeshow test\n",
    "\n",
    "The Hosmer-Lemeshow test (ref) is a classic approach to assess the goodness-of-fit of a logistic regression model. The rationale of this test is to divide the vector of predicted probabilites $\\hat{\\pi} = (\\hat{\\pi}_i)$ with $i=1,\\dots,n$ into $G$ groups, e.g. based on the quantiles, with $n_g$ subjects. In each group, the mean of the predicted probabilites $\\bar{\\pi}_g$ is compared to the proportion of observed success. Formally, for the group $g=1,\\dots,G$, we have that \n",
    "\n",
    "* the observed values are \n",
    "    * for Y = 1: $y_g$\n",
    "    * for Y = 0: $n_g - y_g$\n",
    "* the predicted values are\n",
    "    * for Y = 1: $\\bar{\\pi}_gn_g$\n",
    "    * for Y = 0: $n_g(1 - \\bar{\\pi}_g)$\n",
    "\n",
    "The Hosmer-Lemeshow test statistics is based on the chi-square statistics computed over all groups and all possible values for $Y$\n",
    "\n",
    "$$\\sum_{g=1}^G\\sum_{l=0}^1 \\frac{(o_{gl} - e_{gl})^2}{e_{gl}} = \\sum_{g=1}^G \\frac{(n_g\\bar{\\pi}_g - y_g)^2}{n_g\\bar{\\pi}_g(1-\\bar{\\pi}_g)}$$\n",
    "\n",
    "and has been shown to follow asymptotically a $\\chi^2$ distribution with $g-2$ degrees of freedom under the null hypothesis of a correctly specified model. However, we insist on the fact that this test if often criticized for several reasons. First it is known to have low power. Secondly, its results can be sensible to the choice of the number of groups $G$ and this is even worst for small sample sizes.\n",
    "\n",
    "The Hesmer-Lemeshow test statistics has not been implemented into the `glm` package but is available on the `ResourceSelection` package through the `hoslem.test` function.\n",
    "\n"
   ]
  },
  {
   "cell_type": "code",
   "execution_count": 17,
   "metadata": {
    "hideCode": false,
    "hidePrompt": false
   },
   "outputs": [
    {
     "name": "stderr",
     "output_type": "stream",
     "text": [
      "ResourceSelection 0.3-5 \t 2019-07-22\n"
     ]
    }
   ],
   "source": [
    "library(ResourceSelection, quietly = TRUE)"
   ]
  },
  {
   "cell_type": "markdown",
   "metadata": {
    "hideCode": false,
    "hidePrompt": false
   },
   "source": [
    "We can make the test for different values of $g$, for example for $g$ ranging from $5$ to $15$ and, for each, print the associated p-value."
   ]
  },
  {
   "cell_type": "code",
   "execution_count": 18,
   "metadata": {
    "hideCode": false,
    "hidePrompt": false
   },
   "outputs": [
    {
     "name": "stdout",
     "output_type": "stream",
     "text": [
      "[1] 0.09098048\n",
      "[1] 0.1496694\n",
      "[1] 0.1485977\n",
      "[1] 0.2253204\n",
      "[1] 0.3575556\n",
      "[1] 0.1946257\n",
      "[1] 0.3013775\n",
      "[1] 0.4373874\n",
      "[1] 0.4974033\n",
      "[1] 0.3596752\n",
      "[1] 0.4791807\n"
     ]
    }
   ],
   "source": [
    "for (g in 5:15) {\n",
    "\tprint(hoslem.test(dementia2$y, fitted(dementia2), g=g)$p.value)\n",
    "}"
   ]
  },
  {
   "cell_type": "markdown",
   "metadata": {
    "hideCode": false,
    "hidePrompt": false
   },
   "source": [
    "We can see that indeed, the p-value are very dependent upon the value of $g$ which makes this test not very appropriate to test for the goodness-of-fit of the model. However, here, all the p-values are over $0.05$ and therefore we do not reject the null hypothesis of a correctly specified model.\n",
    "\n",
    "> *Hosmer, D. W., Lemeshow, S. (1980) Goodness of fit tests for the multiple logistic regression model. Communications in Statistics – Theory and Methods*\n",
    "\n",
    "> Hosmer D. W., Lemeshow S. and Rodney X. S. Applied logistic regression. Wiley, 2013."
   ]
  },
  {
   "cell_type": "markdown",
   "metadata": {
    "hideCode": false,
    "hidePrompt": false
   },
   "source": [
    "### 14.5.2 Predictive performance\n",
    "\n",
    "The predictive performance of a model evaluates how well the model is able to predict the outcome for given observations. In certain cases, for example when developing diagnosis tools, the predictive performance of a model is essential.\n",
    "\n",
    "#### 14.5.2.1 Predictions\n",
    "\n",
    "When estimating a logistic regression model in `R`, we estimate all the parameters $(\\beta_k)$ with $k=0,\\dots,p$. From these and knowing the observed covariate values $(x_i)$ for each subject $i=1,\\dots,n$, we could easily compute an estimate of $\\pi_i$ the probability for subject $i$ of having $Y_i=1$. We could do it by hand, but we can also directly use the function `predict` whose goal is to compute the estimated outcome of subjects from given data according to a given estimated model. \n",
    "\n",
    "With the `predict` function, we can either compute the estimation on the linear predictor scale $\\hat{\\beta}^{\\top}X$ or on the response scale $\\exp(\\hat{\\beta}^{\\top}X$)/(1+$exp(\\hat{\\beta}^{\\top}X))$. Both are equivalent and the second can be computed from the first by using the inverse of the $\\mathrm{logit}$ function as we have seen when introducing the logistic model. In `R`, the choice is made through the option `type`. By default, the prediction computed is on the linear predictor scale, when the option `type=\"response\"` is chosen, the prediction will be on the response scale, here in $[0;1]$."
   ]
  },
  {
   "cell_type": "code",
   "execution_count": 19,
   "metadata": {
    "hideCode": false,
    "hidePrompt": false
   },
   "outputs": [
    {
     "data": {
      "text/html": [
       "<table>\n",
       "<thead><tr><th scope=col>linear predictor</th><th scope=col>response</th><th scope=col>response from linear predictor</th></tr></thead>\n",
       "<tbody>\n",
       "\t<tr><td>-4.769513  </td><td>0.008413131</td><td>0.008413131</td></tr>\n",
       "\t<tr><td>-3.130847  </td><td>0.041852637</td><td>0.041852637</td></tr>\n",
       "\t<tr><td>-6.530830  </td><td>0.001455674</td><td>0.001455674</td></tr>\n",
       "\t<tr><td>-6.065192  </td><td>0.002316932</td><td>0.002316932</td></tr>\n",
       "\t<tr><td>-1.230898  </td><td>0.226024249</td><td>0.226024249</td></tr>\n",
       "\t<tr><td>-4.723302  </td><td>0.008807525</td><td>0.008807525</td></tr>\n",
       "</tbody>\n",
       "</table>\n"
      ],
      "text/latex": [
       "\\begin{tabular}{r|lll}\n",
       " linear predictor & response & response from linear predictor\\\\\n",
       "\\hline\n",
       "\t -4.769513   & 0.008413131 & 0.008413131\\\\\n",
       "\t -3.130847   & 0.041852637 & 0.041852637\\\\\n",
       "\t -6.530830   & 0.001455674 & 0.001455674\\\\\n",
       "\t -6.065192   & 0.002316932 & 0.002316932\\\\\n",
       "\t -1.230898   & 0.226024249 & 0.226024249\\\\\n",
       "\t -4.723302   & 0.008807525 & 0.008807525\\\\\n",
       "\\end{tabular}\n"
      ],
      "text/markdown": [
       "\n",
       "| linear predictor | response | response from linear predictor |\n",
       "|---|---|---|\n",
       "| -4.769513   | 0.008413131 | 0.008413131 |\n",
       "| -3.130847   | 0.041852637 | 0.041852637 |\n",
       "| -6.530830   | 0.001455674 | 0.001455674 |\n",
       "| -6.065192   | 0.002316932 | 0.002316932 |\n",
       "| -1.230898   | 0.226024249 | 0.226024249 |\n",
       "| -4.723302   | 0.008807525 | 0.008807525 |\n",
       "\n"
      ],
      "text/plain": [
       "  linear predictor response    response from linear predictor\n",
       "1 -4.769513        0.008413131 0.008413131                   \n",
       "2 -3.130847        0.041852637 0.041852637                   \n",
       "3 -6.530830        0.001455674 0.001455674                   \n",
       "4 -6.065192        0.002316932 0.002316932                   \n",
       "5 -1.230898        0.226024249 0.226024249                   \n",
       "6 -4.723302        0.008807525 0.008807525                   "
      ]
     },
     "metadata": {},
     "output_type": "display_data"
    }
   ],
   "source": [
    "predicted <- predict(dementia2, dementia)\n",
    "predicted_resp <- predict(dementia2, dementia, type = \"response\")\n",
    "\n",
    "cbind(\"linear predictor\" = head(predicted), \"response\" = head(predicted_resp), \"response from linear predictor\" = head(exp(predicted)/(1+(exp(predicted)))))"
   ]
  },
  {
   "cell_type": "markdown",
   "metadata": {},
   "source": [
    "#### 14.5.2.2 Calibration\n",
    "\n",
    "A model is said to be well calibrated if the predicted probabilities match the actual proportion of observed events in strata of the data. Generally, these strata are obtained by dividing the covariate space into a finite number of sets. However, when the covariate are continuous, the number of possible sets becomes large and these strata can become too little. Therefore, one approach is to group subjects according to their predicted probabilities and use these groups as strata, exactly as the Hosmer-Lemeshow test is doing."
   ]
  },
  {
   "cell_type": "markdown",
   "metadata": {
    "hideCode": false,
    "hidePrompt": false
   },
   "source": [
    "#### 14.5.2.3 Sensitivity and Specificity\n",
    "\n",
    "To compute the estimated outcome $\\hat{y}_i$ from these estimated probabilies, we generally chose a threshold value $\\alpha$ in the interval $]0,1[$, and for all subjects with $\\pi_i<=\\alpha$, $\\hat{y}_i$ is fixed at $0$ while for all subjects with $\\pi_i>\\alpha$, $\\hat{y}_i$ is fixed at $1$. To assess the predictive quality of the predictions, the idea is to compare the observed outcomes to the predicted outcomes. To do so, we introduce two notions: $Se$ the sensitivity and $Sp$ the specificity that are defined as follows\n",
    "\n",
    "$$\n",
    "\\begin{align}\n",
    "Se &= Pr(\\hat{y}_i=1|y_i=1) = \\frac{\\sum_{i=1}^n 1_{(\\hat{\\pi}_i>\\alpha~\\&~ y_i=1~)}}{\\sum_{i=1}^n 1_{(y_i=1)}}\\\\\n",
    "Sp &= Pr(\\hat{y}_i=0|y_i=0) = \\frac{\\sum_{i=1}^n 1_{(\\hat{\\pi}_i\\leq\\alpha~\\&~ y_i=0~)}}{\\sum_{i=1}^n 1_{(y_i=0)}}\n",
    "\\end{align}$$\n",
    "\n",
    "The sensitivity is the rate of true positives and the specificity is the rate of true negatives. Ideally, we would want to make a prediction $\\hat{y}$ of the outcome $y$ that gives at the same time high sensitivity and high specificity. The choice of $\\alpha$, the threshold value, has obviously a great impact on the sensitivity and specificity values. For example, a high $\\alpha$ will generate a high specificity but a low sensitivity while a low $\\alpha$ will do the opposite. The goal is to have an optimal $\\alpha$ that maximize both the sensitivity and specificity.\n",
    "\n",
    "> *Exercise:* Write a code in `R` to compute $Se$ and $Sp$ for any value of $\\alpha$\n",
    "\n",
    "#### 14.5.2.4 The *receiving operator characteristic* (ROC) curve\n",
    "\n",
    "The ROC curve is an intuitive way of plotting the relation between sensitivity and specificity computed for a whole range of values of $\\alpha$ between $0$ and $1$. It plots $Se$ against $1-Sp$. It can directly be plotted in `R` with the function `roc` from the `pROC`package that takes as argument, the actual observed outcomes and the predicted response probabilities from the estimated model."
   ]
  },
  {
   "cell_type": "code",
   "execution_count": 20,
   "metadata": {
    "hideCode": false,
    "hidePrompt": false
   },
   "outputs": [
    {
     "name": "stderr",
     "output_type": "stream",
     "text": [
      "Type 'citation(\"pROC\")' for a citation.\n",
      "\n",
      "Attaching package: ‘pROC’\n",
      "\n",
      "The following objects are masked from ‘package:stats’:\n",
      "\n",
      "    cov, smooth, var\n",
      "\n",
      "Setting levels: control = 0, case = 1\n",
      "Setting direction: controls < cases\n"
     ]
    },
    {
     "data": {
      "image/png": "[encoded data removed]",
      "text/plain": [
       "plot without title"
      ]
     },
     "metadata": {},
     "output_type": "display_data"
    }
   ],
   "source": [
    "library(pROC, quietly = TRUE)\n",
    "plot(roc(response = dementia$dementia, predictor = predicted_resp), print.auc = TRUE)"
   ]
  },
  {
   "cell_type": "markdown",
   "metadata": {
    "hideCode": false,
    "hidePrompt": false
   },
   "source": [
    "A perfect model should have a high sensitivity and a high specificity and its ROC curve shoud attain the top-left corner of the plot. A model without predictive ability shoud lie on the identity curve. The goal is to find a model that gets close to the top-left corner. To assess how close to the top-left corner a ROC curve is, one of the most used measure in the *area under the ROC*, often shortly referred in the literature as the *AUC* for *area under the curve*. The perfect model would have an AUC of $1$ while a poor model shall have an AUC of $0.5$, the goal is to find a model whose AUC gets close to $1$, i.e. that has high specificity and high sensitivity.\n",
    "\n",
    "In our example, we find an AUC of $0.840$ which is quite good. However, we can expect to achieve better results with a more appropriate model as the example used here remains a very simple model.\n",
    "\n",
    "> *Exercise:* Using the code you have written for computing $Se$ and $Sp$, write a code that plots the ROC curve.\n",
    "\n",
    "Note that the ROC curve is a very traditional tool from the predictive toolkit but it is less and less used as it is not very informative \\emph{per se} reporting directly the numbers is preferred. \n",
    "\n",
    "#### 14.5.2.5 External validation\n",
    "\n",
    "In the example, we have estimated a model on the `dementia` dataset and have studied its prediction ability on the same data. This is not a good approach in general. The issue here is that, by estimating and validating the model on the exact same dataset, we might capture pattern specific to this dataset and the predictive ability of the model might be very different on external data.\n",
    "\n",
    "A solution to tackle this issue is to use different data to estimate and validate the model in order to avoid overfitting to a particular dataset. The data used to estimate and calibrate the model is called *the learning data* and the data used to validate the prediction accuracy of the model is called the *validation data*. There are different ways of applying this idea into practice:\n",
    "\n",
    "* we can divide the initial dataset into two parts (not necessarily of equal size): the learning one and the validation one\n",
    "* the $k-$fold cross validation is a resampling technique that divides the initial dataset into $k$ smaller datasets. Each one of the $k$ groups will serves as a validation dataset for a model estimated on the other $k-1$ dataset. By repeating this for the $k$ small datasets separately, we obtain $k$ different predictions from which we can evaluate the goodness-of-fit of the model. When $k=1$, this method is known as the *leave-one-out* procedure\n",
    "* the *bootstrap* procedure is a reseampling technique that artificially creates several dataset from the same initial dataset by resampling subjects with replacement\n",
    "* use an external dataset from a different source as validation data for the model estimated from an initial dataset\n",
    "\n",
    "\n",
    "### 14.5.3 Adequacy of the logistic regression model\n",
    "\n",
    "When including a covariate into a logistic regression model, it is assumed that there is a linear relationship between the log odds $\\mathrm{logit}{\\pi}$ of the outcome and this covariate, while other covariates remain unchanged.\n",
    "\n",
    "The assumption of linearity of the $\\mathrm{logit}$ according to the continuous predictor variabels can be easily assessed by looking at the plots between the predictor and the logit values. For example, if we want to check this assumption for our second estimated model, we need to make this plot for the two continuous variables `age` and `bmi`."
   ]
  },
  {
   "cell_type": "code",
   "execution_count": 21,
   "metadata": {
    "hideCode": false,
    "hidePrompt": false
   },
   "outputs": [
    {
     "name": "stderr",
     "output_type": "stream",
     "text": [
      "`geom_smooth()` using method = 'gam' and formula 'y ~ s(x, bs = \"cs\")'\n",
      "`geom_smooth()` using method = 'gam' and formula 'y ~ s(x, bs = \"cs\")'\n"
     ]
    },
    {
     "data": {
      "image/png": "[encoded data removed]",
      "text/plain": [
       "plot without title"
      ]
     },
     "metadata": {},
     "output_type": "display_data"
    },
    {
     "data": {
      "image/png": "[encoded data removed]",
      "text/plain": [
       "plot without title"
      ]
     },
     "metadata": {},
     "output_type": "display_data"
    }
   ],
   "source": [
    "dementia %>% mutate(logit = log(predicted_resp/(1-predicted_resp))) %>% ggplot(aes(x = age, y = logit)) + geom_point() + geom_smooth()\n",
    "dementia %>% mutate(logit = log(predicted_resp/(1-predicted_resp))) %>% ggplot(aes(x = bmi, y = logit)) + geom_point() + geom_smooth()"
   ]
  },
  {
   "cell_type": "markdown",
   "metadata": {
    "hideCode": false,
    "hidePrompt": false
   },
   "source": [
    "From the two scatter plots with loess smoothing above, we can see that there clearly exists a linear relation between the logits and the variable `age` while it does not seem really obvious for the `bmi` variable. In practice, this can happen for example when the relationship between the outcome and the `bmi` variable is quadratic. By including `bmi`$^2$ into the model, we can allow more flexibility into this linear relationship so that the log odds linear assumption is still valid."
   ]
  },
  {
   "cell_type": "markdown",
   "metadata": {
    "hideCode": false,
    "hidePrompt": false
   },
   "source": [
    "### 14.5.4 Common pitfalls\n",
    "\n",
    "#### 14.5.4.1 Perfect separation\n",
    "\n",
    "Perfect separation happens when the outcome can be directly predicted from one of the predictor variables. For example, let say that we model an outcome $Y$ using one explanatory standard gaussian variable $X_1$ and that $Y$ is such that $Y=0$ whenever $X_1\\leq0$ and $Y=1$ whenever $X1>0$."
   ]
  },
  {
   "cell_type": "code",
   "execution_count": 22,
   "metadata": {
    "hideCode": false,
    "hidePrompt": false
   },
   "outputs": [],
   "source": [
    "x1 <- rnorm(1000, 0, 1)\n",
    "y <- (x1 <= 0)*1\n",
    "\n",
    "data_sep <- data.frame(y,x1)"
   ]
  },
  {
   "cell_type": "markdown",
   "metadata": {
    "hideCode": false,
    "hidePrompt": false
   },
   "source": [
    "Let us try to estimate this logistic regression model"
   ]
  },
  {
   "cell_type": "code",
   "execution_count": 23,
   "metadata": {
    "hideCode": false,
    "hidePrompt": false
   },
   "outputs": [
    {
     "name": "stderr",
     "output_type": "stream",
     "text": [
      "Warning message:\n",
      "“glm.fit: algorithm did not converge”Warning message:\n",
      "“glm.fit: fitted probabilities numerically 0 or 1 occurred”"
     ]
    }
   ],
   "source": [
    "model_sep <- glm(y ~ x1, data = data_sep, family = binomial(link=\"logit\"))"
   ]
  },
  {
   "cell_type": "markdown",
   "metadata": {
    "hideCode": false,
    "hidePrompt": false
   },
   "source": [
    "`R` detects the perfect separation and prompts an error that states that `fitted probabilities numerically 0 or 1 occured`. The reason of this error is that, due to the perfect separation, the maximum likelihood of the parameter $\\beta_1$ for the variable $X_1$ can not be estimated as its value is actually infinite thus leading to the prompted error. There exists some options to consider when facing this issue among which:\n",
    "\n",
    "* removing the problematic variable from the model\n",
    "* setting $\\beta_1$ at an arbitrary high value and estimate the model\n",
    "* changing the model or manipulating the data\n",
    "\n",
    "Note that, in practice, perfect separation is not very likely to happen. However, *quasi_perfect* separation is totally possible and needs to be tackled. For more details about how to handle separation, one can read the following articles:\n",
    "\n",
    "> *Heinze, G., & Schemper, M. (2002). A solution to the problem of separation in logistic regression. Statistics in Medicine* \n",
    ">   \n",
    "> *Firth, D. (1993). Bias Reduction of Maximum Likelihood Estimates. Biometrika*\n",
    "\n",
    "#### 14.5.4.2 Low events per variable\n",
    "\n",
    "A common issue when estimating logistic regression model is the problem of the ratio between the number of events and the number of predictive variables. This ratio is known as *Events Per Variable* When this ratio is low, it can lead to biased estimation and model with poor predictive abilities.\n",
    "\n",
    "If the biomedical literature, the so-called *ten events per variable rule* is commonly used. However, we emphasize here the absence of theoretical justification and even the lack of actual evidence that this rule gives good results. If you want more information about the issues raised by this commonly used rule, you can read the following article:\n",
    "\n",
    "> *Smeden, M., de Groot, J.A., Moons, K.G. et al. (2016) No rationale for 1 variable per 10 events criterion for binary logistic regression analysis. BMC Med Res Methodol*.\n",
    "\n",
    "\n",
    "#### 14.5.4.3 Influential values\n",
    "\n",
    "Another aspect to take into account when estimating a logistic regression model is the presence of influential values among the observations which, as their names indicates, might have a huge impact on the estimation of the model. The Cook's distance is a useful measure to assess how influential an observation is. It measures how much the outcome would be modifier by removing this observation from the data.\n",
    "\n",
    "In, `R`, the Cook's distance can be easily plotted and directly plotted by specifying `which = 4` as an argument to the `plot` function."
   ]
  },
  {
   "cell_type": "code",
   "execution_count": 24,
   "metadata": {
    "hideCode": false,
    "hidePrompt": false
   },
   "outputs": [
    {
     "data": {
      "image/png": "[encoded data removed]",
      "text/plain": [
       "Plot with title “”"
      ]
     },
     "metadata": {},
     "output_type": "display_data"
    }
   ],
   "source": [
    "plot(dementia2, which = 4)"
   ]
  },
  {
   "cell_type": "markdown",
   "metadata": {},
   "source": [
    "As you can see from the above example, some observations seems to have higher influence than the other. However, if we look at the y-axis scale, this difference is not huge. It is important to be careful when using this plot for several reasons. As we have seen, the scale of the y-axis can have a very reduced range. Also, if some outliers seems to be identified, additional analysis should be performed for these apparent outliers before ruling them as actual influential values. If they happen to be, one of the solution is to remove them from the data."
   ]
  },
  {
   "cell_type": "markdown",
   "metadata": {
    "hideCode": false,
    "hidePrompt": false
   },
   "source": [
    "#### 14.5.4.4 Multicolinearity\n",
    "\n",
    "Multicolinearity arises when one or several predictor variables can be described as a linear combination of a set of other predictor variables. In the case of perfect multicolinearity, the model becomes unidentifiable meaning that there no unique set of parameters can be found."
   ]
  },
  {
   "cell_type": "code",
   "execution_count": 25,
   "metadata": {
    "hideCode": false,
    "hidePrompt": false
   },
   "outputs": [
    {
     "name": "stderr",
     "output_type": "stream",
     "text": [
      "Warning message:\n",
      "“glm.fit: algorithm did not converge”Warning message:\n",
      "“glm.fit: fitted probabilities numerically 0 or 1 occurred”"
     ]
    }
   ],
   "source": [
    "x1 <- rnorm(1000, 0, 1)\n",
    "x2 <- rnorm(1000, 0, 1)\n",
    "x3 <- rnorm(1000, 0, 1)\n",
    "x4 <- x1 + x2\n",
    "prob = exp(x1 + x2 + x3 + x4)/(1+exp(x1 + x2 + x3 + x4))\n",
    "y <- rbinom(1, 1000, prob)\n",
    "\n",
    "data_multicol <- data.frame(y,x1,x2,x3,x4)\n",
    "model_multicol <- glm(y ~ x1 + x2 + x3 + x4, data = data_sep, family = binomial(link=\"logit\"))"
   ]
  },
  {
   "cell_type": "markdown",
   "metadata": {
    "hideCode": false,
    "hidePrompt": false
   },
   "source": [
    "We obtain the same error message that we got in the *perfect separation* case which makes sense as both issues leads to unidentifiable model and the impossibility of converging towards a unique solution. In less severe cases of multicolinearity, the model estimation sometimes converge but some parameters estimate might be biased and their standard error estimates can have high values meaning that there is a lot of uncertainty on their actual values.\n",
    "\n",
    "There exist several measures of the interrelationship between the predictor variables. Two of the most commonly used are the *tolerance* and the *variance inflation factor* (VIF). The tolerance is defined as $1-R^2_j$ where $R^2_j$ is the $R^2$ of the regression of the covariate $X_j$ on all other covariates and informs and the VIF is defined as the reciprocal of the tolerance. Tolerance ranges between $0$ and $1$ and a low tolerance is an indicator of a multicolinearity issue. As a consequence, a high VIF also is an indicator of a multicolinearity issue. As every such indicator, several rules of thumb are being used by scientists for these indicators as the following article describes.\n",
    "\n",
    "> O’brien, R. M. (2007). A Caution Regarding Rules of Thumb for Variance Inflation Factors. Quality & Quantity\n",
    "\n",
    "The VIF can be computed in `R` using the function `vif` from the `car` package."
   ]
  },
  {
   "cell_type": "code",
   "execution_count": 26,
   "metadata": {
    "hideCode": false,
    "hidePrompt": false
   },
   "outputs": [
    {
     "name": "stderr",
     "output_type": "stream",
     "text": [
      "also installing the dependencies ‘openxlsx’, ‘rio’\n",
      "\n",
      "Warning message in install.packages(\"car\", repos = \"http://cran.us.r-project.org\"):\n",
      "“installation of package ‘openxlsx’ had non-zero exit status”Warning message in install.packages(\"car\", repos = \"http://cran.us.r-project.org\"):\n",
      "“installation of package ‘rio’ had non-zero exit status”Warning message in install.packages(\"car\", repos = \"http://cran.us.r-project.org\"):\n",
      "“installation of package ‘car’ had non-zero exit status”Updating HTML index of packages in '.Library'\n",
      "Making 'packages.html' ... done\n"
     ]
    },
    {
     "ename": "ERROR",
     "evalue": "Error in library(car): there is no package called ‘car’\n",
     "output_type": "error",
     "traceback": [
      "Error in library(car): there is no package called ‘car’\nTraceback:\n",
      "1. library(car)"
     ]
    }
   ],
   "source": [
    "install.packages(\"car\", repos='http://cran.us.r-project.org')\n",
    "library(car)"
   ]
  },
  {
   "cell_type": "code",
   "execution_count": null,
   "metadata": {
    "hideCode": false,
    "hidePrompt": false
   },
   "outputs": [],
   "source": [
    "vif(model_multicol)"
   ]
  },
  {
   "cell_type": "markdown",
   "metadata": {
    "hideCode": false,
    "hidePrompt": false
   },
   "source": [
    "When multicolinearity arises, different options might be considered. A first is to remove from the covariates highly correlated ones, i.e. those with high VIF. A second option is to proceed to a dimensionality reduction approach as a preliminary step."
   ]
  },
  {
   "cell_type": "markdown",
   "metadata": {
    "hideCode": false,
    "hidePrompt": false
   },
   "source": [
    "## 14.6 Additional notes\n",
    "\n",
    "### 14.6.1 Logistic regression for case-control studies\n",
    "\n",
    "### 14.6.2 Extension to logistic regression\n",
    "\n",
    "In this section, we present some useful extensions of the logistic regression model. We will not go into much details and only the general idea is introduced for each. If you want more informations on extension to logistic regression, Chapter 7, 8 and 11 of the following book are useful to read.\n",
    "\n",
    "> Agresti, A., Categorical Data Analysis, 3rd edition, 2012\n",
    "\n",
    "#### 14.6.2.1 Conditional logistic regression\n",
    "\n",
    "The conditional logistic regression is specifically designed for grouped data and in particular for matched studies where each group is a pair of two matched subjetcs. Matched studies are widely used and these can be analysed using conditional logistic regression.\n",
    "\n",
    "A naïve idea would be to include into a logistic regression model a parameter specific to each data stratum. However, for matched studies, it would mean having as many parameters as pairs. This raised two main issues. First, each of this stratum specific parameter would be estimated only from the information contained in a unique pair, i.e. very few information. Secondly, as the number of pairs increases, the number of parameters would also increase and maximum likelihood theory would fail to provide valid estimation.\n",
    "\n",
    "The idea of conditional logistic regression is to remove the dependence upon the stratum specific parameters by conditioning the probability on sufficient exposure informations. This way, because the stratum specific parameters vanishes from the equation, there is no violation of maximum likelihood theory assumptions and the other model parameters can be estimated consistently using classic techniques.\n",
    "\n",
    "> If you are interested into model for matched studies, you are invited to read the GLM notes from the Medical Statistics MSc where you will find two sessions on matched studies.\n",
    "\n",
    "#### 14.6.2.2 Multinomial logistic regression\n",
    "\n",
    "The multinomial logistic regression model is a generalization of the logistic regression model for outcomes that have more than $2$ categories, $Y\\in\\{1,\\dots,J\\}$ with $J\\geq 2$ a natural number. In this case, the conditional distribution of $Y_i$ given the covariates $X_i$ is the multinomial distribution. Among the $J$ categories, a reference one is chosen, e.g. the first category, and for $j=2,\\dots,J$\n",
    "\n",
    "$$\\log\\left( \\frac{\\mathbb{P}(Y_i=j|X_i)}{\\mathbb{P}(Y_i=1|X_i)} \\right) = \\beta_{0,j} + \\sum_{k=1}^p \\beta_{k,j}X_{i,k}$$\n",
    "\n",
    "The model is estimated simultaneously for all values of $j$. For a fixed $j$, the interpretation of the parameters is similar to the logistic regression model. However, note that technically, the multinomial logistic regression model is not a generalized linear model because the multinomial probability distribution does not belong to the exponential family.\n",
    "\n",
    "#### 14.6.2.3 Ordinal logistic regression\n",
    "\n",
    "The ordinal logistic regression is designed for outcomes that have more than $2$ categories, $Y\\in\\{1,\\dots,J\\}$ with $J\\geq 2$, and whose categories have an explicit ordering. In the ordinal logistic regression, the modelled quantity is $\\mathrm{logit}(\\mathbb{P}(Y_i\\geq j|X_i))$ for $j\\geq 2$. Indeed, when $j=1$, t\n",
    "$\\mathbb{P}(Y\\geq 1)=1$ and does not need to be modelled. As the categories are ordered, a fundamental assumption made by ordinal logistic regression is that the effect of the covariates are homogenous between the different categories. Therefore, the model is written\n",
    "\n",
    "$$\\mathrm{logit}(\\mathbb{P}(Y_i\\geq j|X_i)) = \\beta_{0j} + \\sum_{k=1}^n \\beta_{k}X_{i,k}$$\n",
    "\n",
    "where only the intercept term depends upon the category. However, it is important to be careful when making this assumption and adequation of the model should be checked.\n",
    "\n",
    "### 14.6.3 Neural networks\n",
    "\n",
    "You probably have already read about artificial neural networks, a class of model widely used for data classification in machine learning. Artificial neural networks are at the heart of *deep learning* methods used to develop computer vision, speech recognition, audio recognition, etc. Actually, the basic logistic regression model happens to be a special case of artificial neural network. If you are interested in this subject and want to have more insight on the relation between these two models, you might want to read the following article.\n",
    "\n",
    "> Dreiseitl, S., & Ohno-Machado, L. (2002). Logistic regression and artificial neural network classification models: a methodology review. Journal of Biomedical Informatics"
   ]
  },
  {
   "cell_type": "code",
   "execution_count": null,
   "metadata": {},
   "outputs": [],
   "source": []
  }
 ],
 "metadata": {
  "hide_code_all_hidden": false,
  "kernelspec": {
   "display_name": "R",
   "language": "R",
   "name": "ir"
  },
  "language_info": {
   "codemirror_mode": "r",
   "file_extension": ".r",
   "mimetype": "text/x-r-source",
   "name": "R",
   "pygments_lexer": "r",
   "version": "3.6.1"
  }
 },
 "nbformat": 4,
 "nbformat_minor": 4
}
