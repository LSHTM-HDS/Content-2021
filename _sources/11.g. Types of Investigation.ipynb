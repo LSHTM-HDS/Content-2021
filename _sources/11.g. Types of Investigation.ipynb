{
 "cells": [
  {
   "cell_type": "markdown",
   "metadata": {},
   "source": [
    "## 11.6 Example: the role of regression in different types of investigation\n",
    "\n",
    "Above, we have contrasted the different types of investigation. Although there are important conceptual differences between the methods, we often use the same statistical tools to address research questions for investigations of different types. Regression is a key tool for analyses in all the types of investigation. In this section we illustrate how the same regression model could be used in prediction investigations and causal investigations, but that the output from the regression should be used and interpreted differently.\n",
    "\n",
    "We focus on a simple (fictitious) observational study involving three variables: two binary explanatory variables ‘maternal smoking status’ ($X_{1}$ = 1: smoker, $X_{1}$ = 0: non-smoker) and maternal socioeconomic status ($X_{2}$ = 1: low, $X_{2}$ = 0: high), and a continuous outcome ‘birth weight’ (measured in grams). The assumed relationships between the three variables are summarised in the DAG in Figure 3.\n",
    "\n",
    "```{figure} Images/Session_11_Figure_3.jpg\n",
    "---\n",
    "height: 250px\n",
    "name: Figure 3\n",
    "---\n",
    "```\n",
    "\n",
    "For the purposes of a simple illustration, we suppose that these are the only three variables at play in this ‘system’. In reality of course there are many other maternal and other characteristics that affect a baby’s birthweight, such as genetics, maternal diet and alcohol consumption, mother’s access to prenatal care, and other features of the environment.\n",
    "\n",
    "Consider a linear regression of $Y$ on $X_{1}$, $X_{2}$, i.e.\n",
    "\n",
    "$$\n",
    "Y = \\beta_{0} + \\beta_{1}X_{1} + \\beta_{2}X_{2} + \\epsilon\n",
    "$$\n",
    "\n",
    "<div style=\"text-align: right\"> (1) </div>\n",
    "\n",
    "The estimated regression coefficients and corresponding 95% confidence intervals for this fictitious example are $\\hat{\\beta_{0}} = 3227$ (95% CI $1603, 4851)$, $\\hat{\\beta_{1}}= −341$ (95% CI $−513, −169)$, $\\hat{\\beta_{2}} =\n",
    "−214$ (95% CI $−410, −18)$. We now consider how the output from this regression could be used in different investigation types.\n",
    "   "
   ]
  },
  {
   "cell_type": "markdown",
   "metadata": {},
   "source": [
    "### 11.6.1 Prediction\n",
    "\n",
    "If the aim is to predict birth weight based on the two characteristics of the mother, this model allows us to do this. We could obtain the expected value of $Y$ given $X_{1}$ and $X_{2}$ (in this very simple example there are only 4 possible combinations). In this prediction setting we do not, however, particularly care about the estimates of the regression coefficients. We should instead be concerned with the predictive performance of the model. This could be measured, for example, using $R^2$ . There are many details about how to appropriately assess and quantify the predictive performance of a prediction model which we do not discuss here.\n",
    "\n",
    "### 11.6.2 Causality and explanation\n",
    "\n",
    "Suppose instead that the aim is to assess the causal effect of maternal smoking ($X_{1}$) on birth weight ($Y$). In the simple setting of Figure 3, maternal socioeconomic status ($X_{2}$) is the only confounder of the association between $X_{1}$ and $Y$. The regression model in equation (1) adjusts for $X_{2}$ and hence the coefficient for $X_{1}$ can be interpreted as the conditional causal effect of $X_{1}$ on $Y$. The 95% confidence interval excludes 0. We can make the interpretation that if all mothers in the study population had smoked, the mean birthweight would have been 341 grams lower than had all mothers in the study population not smoked. This is referred to as an ‘average causal effect’. Here, we have not given any interpretation of the estimate of $\\beta_{2}$ because it wasn’t relevant for our research question, even though it was important to adjust for $X_{2}$ to adjust for confounding. In a more realistic setting, there will be many other variables that confound the association between $X_{1}$ and $Y$ and which would need to be accounted for to enable a causal interpretation of $\\beta_{1}$.\n",
    "\n",
    "### 11.6.3 The “Table 2 Fallacy”\n",
    "\n",
    "After adjusting for maternal socioeconomic status, maternal smoking was associated with a lowering of 341 grams in mean birthweight. After adjusting for maternal smoking, low maternal socioeconomic status was associated with a lowering of 214 grams in mean birthweight. However, $\\beta_{1}$ and $\\beta_{2}$ in model (1) do not have the same type of interpretation and this is due to the relationships between the three variables. According to the causal diagram (Figure 3), maternal smoking status is on the causal pathway from socioeconomic status to birth weight. Hence the parameter β2 in fact represents the effect of socioeconomic status on birth weight that does not go through smoking status - this is a ‘direct effect’ rather than a ‘total effect’. By contrast, $\\beta_{1}$ represents the total effect of smoking status on birth weight. We do not go into details about definitions of different types of effect. The aim here is simply to point out that the correct interpretation of the coefficients in the regression model in (1) depends on assumptions about the inter-relationships between the three variables, including how they are ordered in time.\n",
    "\n",
    "In some (or perhaps many) epidemiological investigations that involve exploration of risk factors, estimates of regression coefficients from multivariable models such as that in (1) (and versions with many more explanatory variables) are presented alongside one another in a table, together with confidence intervals and p-values. They may then be interpreted as though all coefficients had the same meaning, ignoring possible inter-relationships between the variables and temporal ordering. As we have seen from the above example, this could be misleading. This problem has been referred to in the literature the ‘Table 2 fallacy’, because the estimates of regression coefficients are often presented in ‘Table 2’ in a paper (where ‘Table 1’ is usually a table of descriptive statistics). See Westreich and Greenland (2013) for a description of the Table 2 fallacy. Bandoli et al. (2018) provide an example in the context of preeclampsia and preterm birth.\n"
   ]
  }
 ],
 "metadata": {
  "kernelspec": {
   "display_name": "R",
   "language": "R",
   "name": "ir"
  },
  "language_info": {
   "codemirror_mode": "r",
   "file_extension": ".r",
   "mimetype": "text/x-r-source",
   "name": "R",
   "pygments_lexer": "r",
   "version": "3.6.1"
  }
 },
 "nbformat": 4,
 "nbformat_minor": 4
}
