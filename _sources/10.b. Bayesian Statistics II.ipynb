{
 "cells": [
  {
   "cell_type": "markdown",
   "metadata": {},
   "source": [
    "## 10.1 Example: CD4 cell counts\n",
    "\n",
    "In this session, we will use a dataset on CD4 cell counts which is available in R through the *boot* package. CD4 cells are in our blood as part of our immune system. Since these cells die in people who have HIV, CD4 cell counts are used in HIV patients to determine the health of their immune system and susceptibility to opportunistic infections. \n",
    "\n",
    "In this dataset, there are 20 patients with HIV. Their CD4 cell counts are recorded before and after they were put on treatment. We wish to investigate whether this treatment increased their CD4 cell counts.    \n",
    "\n",
    "We install the *boot* package where the data is stored and we look at the data. Note that the unit of CD4 cell count is 100 $cells/mm^3$. We are interested in the difference in CD4 cell counts before and after treatment. We look at the summary statistics of the difference. "
   ]
  },
  {
   "cell_type": "code",
   "execution_count": 1,
   "metadata": {},
   "outputs": [
    {
     "data": {
      "text/html": [
       "<table>\n",
       "<thead><tr><th scope=col>baseline</th><th scope=col>oneyear</th><th scope=col>y</th></tr></thead>\n",
       "<tbody>\n",
       "\t<tr><td>2.12 </td><td>2.47 </td><td> 0.35</td></tr>\n",
       "\t<tr><td>4.35 </td><td>4.61 </td><td> 0.26</td></tr>\n",
       "\t<tr><td>3.39 </td><td>5.26 </td><td> 1.87</td></tr>\n",
       "\t<tr><td>2.51 </td><td>3.02 </td><td> 0.51</td></tr>\n",
       "\t<tr><td>4.04 </td><td>6.36 </td><td> 2.32</td></tr>\n",
       "\t<tr><td>5.10 </td><td>5.93 </td><td> 0.83</td></tr>\n",
       "\t<tr><td>3.77 </td><td>3.93 </td><td> 0.16</td></tr>\n",
       "\t<tr><td>3.35 </td><td>4.09 </td><td> 0.74</td></tr>\n",
       "\t<tr><td>4.10 </td><td>4.88 </td><td> 0.78</td></tr>\n",
       "\t<tr><td>3.35 </td><td>3.81 </td><td> 0.46</td></tr>\n",
       "\t<tr><td>4.15 </td><td>4.74 </td><td> 0.59</td></tr>\n",
       "\t<tr><td>3.56 </td><td>3.29 </td><td>-0.27</td></tr>\n",
       "\t<tr><td>3.39 </td><td>5.55 </td><td> 2.16</td></tr>\n",
       "\t<tr><td>1.88 </td><td>2.82 </td><td> 0.94</td></tr>\n",
       "\t<tr><td>2.56 </td><td>4.23 </td><td> 1.67</td></tr>\n",
       "\t<tr><td>2.96 </td><td>3.23 </td><td> 0.27</td></tr>\n",
       "\t<tr><td>2.49 </td><td>2.56 </td><td> 0.07</td></tr>\n",
       "\t<tr><td>3.03 </td><td>4.31 </td><td> 1.28</td></tr>\n",
       "\t<tr><td>2.66 </td><td>4.37 </td><td> 1.71</td></tr>\n",
       "\t<tr><td>3.00 </td><td>2.40 </td><td>-0.60</td></tr>\n",
       "</tbody>\n",
       "</table>\n"
      ],
      "text/latex": [
       "\\begin{tabular}{r|lll}\n",
       " baseline & oneyear & y\\\\\n",
       "\\hline\n",
       "\t 2.12  & 2.47  &  0.35\\\\\n",
       "\t 4.35  & 4.61  &  0.26\\\\\n",
       "\t 3.39  & 5.26  &  1.87\\\\\n",
       "\t 2.51  & 3.02  &  0.51\\\\\n",
       "\t 4.04  & 6.36  &  2.32\\\\\n",
       "\t 5.10  & 5.93  &  0.83\\\\\n",
       "\t 3.77  & 3.93  &  0.16\\\\\n",
       "\t 3.35  & 4.09  &  0.74\\\\\n",
       "\t 4.10  & 4.88  &  0.78\\\\\n",
       "\t 3.35  & 3.81  &  0.46\\\\\n",
       "\t 4.15  & 4.74  &  0.59\\\\\n",
       "\t 3.56  & 3.29  & -0.27\\\\\n",
       "\t 3.39  & 5.55  &  2.16\\\\\n",
       "\t 1.88  & 2.82  &  0.94\\\\\n",
       "\t 2.56  & 4.23  &  1.67\\\\\n",
       "\t 2.96  & 3.23  &  0.27\\\\\n",
       "\t 2.49  & 2.56  &  0.07\\\\\n",
       "\t 3.03  & 4.31  &  1.28\\\\\n",
       "\t 2.66  & 4.37  &  1.71\\\\\n",
       "\t 3.00  & 2.40  & -0.60\\\\\n",
       "\\end{tabular}\n"
      ],
      "text/markdown": [
       "\n",
       "| baseline | oneyear | y |\n",
       "|---|---|---|\n",
       "| 2.12  | 2.47  |  0.35 |\n",
       "| 4.35  | 4.61  |  0.26 |\n",
       "| 3.39  | 5.26  |  1.87 |\n",
       "| 2.51  | 3.02  |  0.51 |\n",
       "| 4.04  | 6.36  |  2.32 |\n",
       "| 5.10  | 5.93  |  0.83 |\n",
       "| 3.77  | 3.93  |  0.16 |\n",
       "| 3.35  | 4.09  |  0.74 |\n",
       "| 4.10  | 4.88  |  0.78 |\n",
       "| 3.35  | 3.81  |  0.46 |\n",
       "| 4.15  | 4.74  |  0.59 |\n",
       "| 3.56  | 3.29  | -0.27 |\n",
       "| 3.39  | 5.55  |  2.16 |\n",
       "| 1.88  | 2.82  |  0.94 |\n",
       "| 2.56  | 4.23  |  1.67 |\n",
       "| 2.96  | 3.23  |  0.27 |\n",
       "| 2.49  | 2.56  |  0.07 |\n",
       "| 3.03  | 4.31  |  1.28 |\n",
       "| 2.66  | 4.37  |  1.71 |\n",
       "| 3.00  | 2.40  | -0.60 |\n",
       "\n"
      ],
      "text/plain": [
       "   baseline oneyear y    \n",
       "1  2.12     2.47     0.35\n",
       "2  4.35     4.61     0.26\n",
       "3  3.39     5.26     1.87\n",
       "4  2.51     3.02     0.51\n",
       "5  4.04     6.36     2.32\n",
       "6  5.10     5.93     0.83\n",
       "7  3.77     3.93     0.16\n",
       "8  3.35     4.09     0.74\n",
       "9  4.10     4.88     0.78\n",
       "10 3.35     3.81     0.46\n",
       "11 4.15     4.74     0.59\n",
       "12 3.56     3.29    -0.27\n",
       "13 3.39     5.55     2.16\n",
       "14 1.88     2.82     0.94\n",
       "15 2.56     4.23     1.67\n",
       "16 2.96     3.23     0.27\n",
       "17 2.49     2.56     0.07\n",
       "18 3.03     4.31     1.28\n",
       "19 2.66     4.37     1.71\n",
       "20 3.00     2.40    -0.60"
      ]
     },
     "metadata": {},
     "output_type": "display_data"
    },
    {
     "data": {
      "text/plain": [
       "   Min. 1st Qu.  Median    Mean 3rd Qu.    Max. \n",
       "-0.6000  0.2675  0.6650  0.8050  1.3775  2.3200 "
      ]
     },
     "metadata": {},
     "output_type": "display_data"
    }
   ],
   "source": [
    "library(boot)\n",
    "ydata <- cd4$oneyear - cd4$baseline\n",
    "data <- cbind(cd4, y=ydata)\n",
    "data\n",
    "summary(ydata)"
   ]
  },
  {
   "cell_type": "markdown",
   "metadata": {},
   "source": [
    "In the classical framework, we could use a paired t-test to see if the mean change in CD4 cell counts is significantly different from the null hypothesis value of zero ($H_0: \\mu = E[Y]=0)$.   \n",
    "\n",
    "For our Bayesian analysis, we will assume these measurements come from a Normal distribution with an unknown mean $\\mu$, \n",
    "which represents the mean change in CD4 counts. We will assume that the variance is known to be $\\sigma^2 = 0.7$. This is slightly artificial as, in a real example, we may not know what the true variance is; however, we might be able to infer the variability of CD4 counts from earlier studies. Having both $\\mu$ and $\\sigma^2$ unknown requires a more complicated analysis which we will not cover in this course. \n",
    "\n",
    "The Bayesian analysis involves constructing a likelihood for the data, specifying an appropriate prior distribution and combining them to obtain a posterior distribution. We will then describe how credible intervals for $\\mu$, and prior and posterior predictive distributions can be found. "
   ]
  },
  {
   "cell_type": "code",
   "execution_count": null,
   "metadata": {},
   "outputs": [],
   "source": []
  }
 ],
 "metadata": {
  "kernelspec": {
   "display_name": "R",
   "language": "R",
   "name": "ir"
  },
  "language_info": {
   "codemirror_mode": "r",
   "file_extension": ".r",
   "mimetype": "text/x-r-source",
   "name": "R",
   "pygments_lexer": "r",
   "version": "3.6.1"
  }
 },
 "nbformat": 4,
 "nbformat_minor": 4
}
