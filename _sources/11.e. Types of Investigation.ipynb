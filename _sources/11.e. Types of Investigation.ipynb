{
 "cells": [
  {
   "cell_type": "markdown",
   "metadata": {},
   "source": [
    "## 11.4 An example: stroke in women\n",
    "\n",
    "Table 1 provides an example of the features of different investigation types. The overall topic is stroke in women. The table (taken from Hernan et al. 2019) provides an example research question, the features of data that would be required to answer it, and the types of analysis that could be used for investigations of three types: Description, Prediction and Causal inference.\n",
    "\n",
    "Table 1: From Hernan, Hsu & Healy 2019. Examples of Tasks Conducted by Data Scientists Working with Electronic Health Records\n",
    "\n",
    "| | Description | Prediction | Causal inference |\n",
    "| :--- | :--- | :--- | :--- |\n",
    "|Example of scientific question | How can women aged 60-80 years with stroke history be partitioned in classes defined by their characteristics? | What is the probability of having a stroke next year for women with certain characteristics? | Will starting a statin reduce, on average, the risk of stroke in women with certain characteristics?  |\n",
    "|<br> Data|<br> - Eligibility criteria <br> - Features (symptoms, clinical parameters . . . )|<br> - Eligibility criteria <br>- Output (diagnosis of stroke over the next year)<br> - Inputs (age, blood pressure, history of stroke, diabetes at baseline) | <br> - Eligibility criteria <br> - Outcome (diagnosis of stroke over the next year) <br> -Treatment (initiation of statins at baseline) <br> - Confounders <br> - Effect modifiers (optional) |\n",
    "|<br> Example of analytics | <br> Cluster analysis | <br> Regression <br> Decision trees <br> Random forests <br> Support vector machines <br> Neural networks | <br> Regression <br> Matching <br> Inverse probability weighting <br> G-formula <br> G-estimation <br> Instrumental variable estimation |\n",
    "\n",
    "\n"
   ]
  }
 ],
 "metadata": {
  "kernelspec": {
   "display_name": "R",
   "language": "R",
   "name": "ir"
  },
  "language_info": {
   "codemirror_mode": "r",
   "file_extension": ".r",
   "mimetype": "text/x-r-source",
   "name": "R",
   "pygments_lexer": "r",
   "version": "3.6.1"
  }
 },
 "nbformat": 4,
 "nbformat_minor": 4
}
