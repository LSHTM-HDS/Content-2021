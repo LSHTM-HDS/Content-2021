{
 "cells": [
  {
   "cell_type": "markdown",
   "metadata": {},
   "source": [
    "# 4. Populations and Samples"
   ]
  },
  {
   "cell_type": "markdown",
   "metadata": {},
   "source": [
    "In this session we will begin thinking about statistical inference. Loosely, this describes the process of using a sample of data to make statements about a wider population. There is more than one framework for statistical inference. The traditional and most widely used approach is termed the “classical” or frequentist, and this is the one pursued in this and the next few sessions. An important alternative, the Bayesian approach, is increasingly influential. You will meet Bayesian inference later in this module."
   ]
  },
  {
   "cell_type": "markdown",
   "metadata": {},
   "source": [
    "<div class=\"alert alert-block alert-warning\">\n",
    "<b> Intended learning outcomes</b> \n",
    "    \n",
    "By the end of this session you will be able to:\n",
    "* describe the process of frequentist statistical inference\n",
    "* define the terms population, sample, estimator and estimate\n",
    "* explain what a sampling distribution is and how it relates to the idea of repeated sampling\n",
    "* understand that sample estimates will vary as defined by the standard error \n",
    "* appreciate that the uncertainty in estimates can be described using central limit theorem and resampling (bootstrapping)\n",
    "</div>"
   ]
  },
  {
   "cell_type": "markdown",
   "metadata": {},
   "source": [
    "The five sub-sections in this session explore the concept of sampling from a population and define parameters and estimators. They formally define the concept of a statistical model. Sampling distributions are described, and the standard error defined, along with key ways of obtaining the approximate sampling distribution. \n"
   ]
  }
 ],
 "metadata": {
  "kernelspec": {
   "display_name": "R",
   "language": "R",
   "name": "ir"
  },
  "language_info": {
   "codemirror_mode": "r",
   "file_extension": ".r",
   "mimetype": "text/x-r-source",
   "name": "R",
   "pygments_lexer": "r",
   "version": "3.6.1"
  }
 },
 "nbformat": 4,
 "nbformat_minor": 4
}
