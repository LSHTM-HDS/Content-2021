{
 "cells": [
  {
   "cell_type": "markdown",
   "metadata": {},
   "source": [
    "## 11.1 Specifying research questions\n",
    "\n",
    "Specifying the research question or questions is a crucial starting point for an investigation. In some cases the research question will be highly specific, and in others could be more wide ranging with several components. The research question then informs the subsequent stages of the investigation, ranging from choice of study population; study design; data collection; monitoring and quality control; data analysis; presentation of conclusions; interpretation. Figure 1 illustrates one\n",
    "way of representing the whole process of an investigation.\n",
    "\n",
    "```{figure} Images/Session_11_Figure_1.jpg\n",
    "---\n",
    "height: 600px\n",
    "name: Figure 1\n",
    "---\n",
    "```\n",
    "\n",
    "The statistician/data scientist plays an important role at all stages of an investigation, not just at\n",
    "the data analysis phase. It is perhaps most usual for collaborators who are subject-matter experts\n",
    "(e.g. clinicians) to pose the initial research question. However, the statistician very often plays a\n",
    "key part in refining these initial ideas in order to translate them into something formal and clearly\n",
    "specified."
   ]
  }
 ],
 "metadata": {
  "kernelspec": {
   "display_name": "R",
   "language": "R",
   "name": "ir"
  },
  "language_info": {
   "codemirror_mode": "r",
   "file_extension": ".r",
   "mimetype": "text/x-r-source",
   "name": "R",
   "pygments_lexer": "r",
   "version": "3.6.1"
  }
 },
 "nbformat": 4,
 "nbformat_minor": 4
}
