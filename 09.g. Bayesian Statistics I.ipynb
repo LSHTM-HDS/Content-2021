{
 "cells": [
  {
   "cell_type": "markdown",
   "metadata": {},
   "source": [
    "## 9.6 Summarising Posteriors\n",
    "\n",
    "We often display the posterior distribution graphically to get a sense of the information that we have about the parameter. However, other ways to summarize the distribution can be helpful. We may also wish to summarise the posterior distribution by a credible interval. \n",
    "\n",
    "Remember that a classical 95\\%  confidence interval is defined such that, if the data collection process is repeated again and again, then in the long run, 95\\% of the confidence intervals formed would contain the true parameter value. \n",
    "\n",
    "A Bayesian 95\\% **credible interval** is an interval which contains 95\\% of the posterior distribution of the parameter. \n",
    "\n",
    "There may be several different credible intervals such that the interval contains 95\\% of the distribution. The 95\\%  **Highest Posterior Density (HPD)** interval is the credible interval with the smallest range of values for $\\theta$ (providing the posterior is concave). Algebraically, this is the region $[\\theta_L, \\theta_U]$ that contains $95\\%$ of the probability, such that:\n",
    "\n",
    "$$\n",
    "P(\\theta \\in [\\theta_L,\\theta_U])= 0.95 \\mbox{ such that for all } \\theta_O \\notin  [\\theta_L,\\theta_U] \\mbox{ and all  } \\theta_I\\in[\\theta_L,\\theta_U], p(\\theta_O|y) < p(\\theta_I|y).\n",
    "$$\n",
    "\n",
    "In our previous example, when we used the asymmetrical $Beta(2, 9)$ prior, our posterior was $Beta(6, 15)$. The posterior mean is  $\\frac{6}{6+15}=0.286$. The 95% HPDI is (0.107,0.475). We plot the distribution below and check that the area between these two values gives us 0.95. Now, note that the interval (0.09, 0.465) also gives us an area of 0.95, but this interval is wider. In a sense, the HPDI is the “tightest” interval so that the area under the posterior distribution is 0.95."
   ]
  },
  {
   "cell_type": "code",
   "execution_count": 1,
   "metadata": {},
   "outputs": [
    {
     "data": {
      "text/html": [
       "0.949975144544822"
      ],
      "text/latex": [
       "0.949975144544822"
      ],
      "text/markdown": [
       "0.949975144544822"
      ],
      "text/plain": [
       "[1] 0.9499751"
      ]
     },
     "metadata": {},
     "output_type": "display_data"
    },
    {
     "data": {
      "text/html": [
       "0.951266598161814"
      ],
      "text/latex": [
       "0.951266598161814"
      ],
      "text/markdown": [
       "0.951266598161814"
      ],
      "text/plain": [
       "[1] 0.9512666"
      ]
     },
     "metadata": {},
     "output_type": "display_data"
    },
    {
     "data": {
      "image/png": "[encoded data removed]",
      "text/plain": [
       "Plot with title \"Beta(6, 15) Distribution  \n",
       " with 95% credible interval\""
      ]
     },
     "metadata": {},
     "output_type": "display_data"
    }
   ],
   "source": [
    "p <- seq(0, 1, 0.01)\n",
    "options(repr.plot.width=7, repr.plot.height=4)\n",
    "plot(p, dbeta(p, 6, 15), type=\"l\", main=\"Beta(6, 15) Distribution  \\n with 95% credible interval\",  xlab=expression(theta), ylab=\"density\")\n",
    "abline(v=0.475, lty=\"dashed\")\n",
    "abline(v=0.107,  lty=\"dashed\")\n",
    "\n",
    "#Area under the 95% HDPI\n",
    "pbeta(0.475, 6, 15)-pbeta(0.107, 6, 15)\n",
    "\n",
    "#The interval (0.09, 0.465) also a 95% credible interval \n",
    "pbeta(0.465, 6, 15)-pbeta(0.09, 6, 15)\n",
    "\n"
   ]
  },
  {
   "cell_type": "markdown",
   "metadata": {},
   "source": [
    "> Note: <br> <br> We have phrased the above discussion in terms of 95\\% confidence and credible intervals. However, there is nothing special about the level 95\\%. We can make the discussion more general by talking about $100(1−𝛼)\\%$  confidence or credible intervals instead, with $\\alpha \\in (0,1)$ (where $\\alpha = 0.05$ for 95\\% confidence or credible intervals but e.g. $\\alpha = 0.01$ for 99\\% intervals). "
   ]
  },
  {
   "cell_type": "code",
   "execution_count": null,
   "metadata": {},
   "outputs": [],
   "source": []
  }
 ],
 "metadata": {
  "kernelspec": {
   "display_name": "R",
   "language": "R",
   "name": "ir"
  },
  "language_info": {
   "codemirror_mode": "r",
   "file_extension": ".r",
   "mimetype": "text/x-r-source",
   "name": "R",
   "pygments_lexer": "r",
   "version": "3.6.1"
  }
 },
 "nbformat": 4,
 "nbformat_minor": 4
}
