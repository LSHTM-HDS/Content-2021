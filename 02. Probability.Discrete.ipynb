{
 "cells": [
  {
   "cell_type": "markdown",
   "metadata": {},
   "source": [
    "# Probability 1: Discrete distributions"
   ]
  },
  {
   "cell_type": "markdown",
   "metadata": {},
   "source": [
    "## Learning Objectives\n",
    "\n",
    "By the end of this session, you should be able to:\n",
    "\n",
    "- apply Bayes' Theorem to obtain useful properties of screening tests\n",
    "- derive the binomial and Poisson probability distribution functions\n",
    "- apply the binomial and Poisson distributions to health settings\n",
    "- evaluate the appropriateness of the binomial and Poisson distributions to health settings\n"
   ]
  },
  {
   "cell_type": "markdown",
   "metadata": {},
   "source": [
    "## Applications of Bayes' Theorem in health settings"
   ]
  },
  {
   "cell_type": "markdown",
   "metadata": {},
   "source": [
    "### Reminder: Bayes' theorem\n",
    "\n",
    "Suppose we have an event $A$ and a set of events $B_1, B_2, ..., B_n$ that partition the sample space. Suppose that we have information about the conditional probability of $A$ conditional on event $B_j$, i.e. we know $P(A | B_j)$, for each $j$. However, what we actually want to know about is $P(B_j | A)$.\n",
    "\n",
    "**Bayes' Theorem** provides a way of reversing the conditioning. Specifically:\n",
    "$$\n",
    "P(B_{j}|A) = \\frac{P(A|B_{j}) P(B_{j})}{P(A)} = \\frac{P(A|B_{j}) P(B_{j})}{\\sum^{n}_{k=1} P(A|B_{k}) P(B_{k})}.\n",
    "$$\n"
   ]
  },
  {
   "cell_type": "markdown",
   "metadata": {},
   "source": [
    "### Uses of Bayes' Theorem\n",
    "\n",
    "Bayes Theorem has important and powerful applications in medical statistics. One common use, particularly relevant for us, is in the area of assessing the accuracy of screening tests and prognostic scores. \n",
    "\n",
    "Screening tests are tests that attempt to identify people with a particular condition or disease of interest. Babies are often screened for cystic fibrosis at birth, for example. Sometimes, screening tests attempt to identify high risk people rather than those who already have the condition of interest. Cervical screening, for example, which is offered to all women and people with a cervix aged 25 to 64 in the UK by the National Health Service, is a test to help prevent cancer. It doesn't look for existing cancer, but instead looks for certain viruses which can increase the subsequent risk of cancer.  \n",
    "\n",
    "Screening tests can be based on one genetic marker, as in our example below, or many. Or they might incorporate information from other sources (e.g. biomarkers, family history of the disease). Screening tests typically result in a binary classification of \"positive\" or \"negative\". "
   ]
  },
  {
   "cell_type": "markdown",
   "metadata": {},
   "source": [
    "### Example: Genetic marker in childhood cancer\n",
    "\n",
    "In a population, 10\\% of people develop a particular childhood cancer.  Of those who develop the cancer ($C$), 1 in 4 carry a genetic marker, $M$, whereas of those who don't develop the cancer, 1 in 10 carry $M$.  A newly born infant is tested for the genetic marker and is found to carry it. What is the probability that this infant will develop cancer?\n",
    "\n",
    "The first couple of sentences tell us that $P(C) = 0.1$, $P(M|C) = 0.25$  and $P(M | \\bar{C})=0.1.$ Our interest lies in $P(C|M)$. So we wish to reverse the conditioning. We can obtain this by applying Bayes' Theorem:\n",
    "\n",
    "$$\n",
    "P(C|M) = \\frac{P(M|C)P(C)}{P(M|C)P(C) + P(M|\\bar{C})P(\\bar{C})}\\\\\n",
    "$$\n",
    "\n",
    "Substituting in the values above gives\n",
    "$$\n",
    "P(C|M) = \\frac{0.25\\times 0.1}{0.25\\times 0.1 + 0.1\\times 0.9}=0.22\n",
    "$$\n",
    "\n",
    "$P(C|M)$ is called the **positive predictive value** (PPV) of the test.  It is the probability, given a positive test result, that the individual actually will develop the disease.  i.e. in this case there is a 22\\% chance that the infant will develop the disease if they tested positive. "
   ]
  },
  {
   "cell_type": "markdown",
   "metadata": {},
   "source": [
    "### The confusion matrix\n",
    "\n",
    "More generally, suppose we have a procedure that results in a binary classification (a binary prediction). This might be a screening test, which could be based on one or more genetic markers or biomarkers. It could be based on the output from a  prognostic risk score or a label derived from an algorithm. Whatever the procedure, suppose we end up with a binary classification: \"Positive\" or \"Negative\". In the health context, this terminology (positive/negative) might represent pairs such as: \"Diseased\" and \"Undiseased\"; \"Dead\" and \"Alive\" or \"Hospitalised\" and \"Not hospitalised\". We can contrast the binary classification with the (binary) true status. In the general discussion below, we will also use the terms positive and negative to denote the two possible true statuses. \n",
    "\n",
    "The following table is often called a **confusion matrix**, or sometimes error matrix. The name confusion matrix stems from the fact that the matrix allows you to see whether the classification is *confusing* two classes. The values $A$, $B$, $C$ and $D$ are the numbers in each category. The name comes from the fact that the table allows you to see if the classification procedure is \"confusing\" two categories.\n",
    "\n",
    "\n",
    "| classification  |  Truth: | Positive | Negative |\n",
    "|:---- | ---- | :-: | :-: |\n",
    "| Positive |  | A | B |\n",
    "| Negative |  | C | D |\n",
    "\n",
    "\n",
    "Two groups of people were correctly classified:\n",
    "- *True Positives*. The $A$ individuals are people who are, in truth, positive (for the disease or outcome of interest) and were classified as positive. So they are often called true positives.\n",
    "- *True Negatives*. The $D$ individuals are people who are, in truth, negative and and were classified as negative. \n",
    "\n",
    "Two groups of people were incorrectly classified:\n",
    "- *False Positives*. The $B$ individuals are people who are, in truth, negative but were incorrectly classified as positive. These are sometimes called Type I errors.\n",
    "- *False Negatives*. The $C$ individuals are people who are, in truth, positive but were incorrectly classified as negative. These are sometimes called Type II errors.\n",
    "\n",
    "Now let us imagine the same table but with joint probabilities rather than numbers from a sample.  So, for instance, $p_A$ is the joint probability of being classified as positive *and* being truly positive for the outcome.\n",
    "\n",
    "| Prediction  |  Truth: | Positive | Negative |\n",
    "|:---- | ---- | :-: | :-: |\n",
    "| Positive |  | $p_A$ | $p_B$ |\n",
    "| Negative |  | $p_C$ | $p_D$ |\n",
    "\n",
    "\n",
    "\n",
    "We can obtain estimates of various useful quantities from this matrix. We will use the following notation: $O$ represents being, in truth, positive for the outcome of interest, and $\\bar{O}$ represents being truly negative. $P$ represents being classified as positive and $\\bar{P}$ being classified as negative.\n",
    "\n",
    "- *Prevalence of the outcome*\n",
    "\n",
    "$$\n",
    "P(O) = \\frac{p_A+p_C}{p_A+p_B+p_C+p_D}\n",
    "$$\n",
    "\n",
    "\n",
    "- *Sensitivity*\n",
    "\n",
    "$$\n",
    "P(P|O)=\\frac{p_A}{p_A+p_C}\n",
    "$$\n",
    "\n",
    "The terminology comes from the setting of clinical tests, i.e. how sensitive this test is to the presence of the disease. It is also often called the recall in the fields of machine learning and computer science. It is also sometimes referred to as the true positive rate. \n",
    "\n",
    "\n",
    "- *Specificity*\n",
    "\n",
    "$$\n",
    "P(\\bar{P}|\\bar{O})=\\frac{p_D}{p_B+p_D}\n",
    "$$\n",
    "\n",
    "Again, this terminology comes from the setting of clinical tests, i.e. how specific  this test is to the presence of this disease (versus other diseases). So a test which is only positive for this specific disease is very specific. A test which picks up the presence of this disease, and other similar diseases, is not very specific. This is sometimes called the selectivity or true negative rate.\n",
    "\n",
    "- *Predictive value of a positive classification (PPV)*\n",
    "\n",
    "$$\n",
    "P(O|P) = \\frac{p_A}{p_A+p_B}\n",
    "$$\n",
    "\n",
    "The PPV is terminology typically used in medical settings. In machine learning, it is typically called the precision. \n",
    "\n",
    "- *Accuracy*\n",
    "\n",
    "$$\n",
    "P(\\mbox{correct classification}) = \\frac{p_A + p_D}{p_A+p_B+p_C+p_D}\n",
    "$$\n",
    "\n",
    "This quantity is less used in medical settings but is commonly used elsewhere. "
   ]
  },
  {
   "cell_type": "markdown",
   "metadata": {},
   "source": [
    "## The binomial distribution\n",
    "\n",
    "The binomial distribution is used to model the number of successes out of a fixed number of trials.\n",
    "\n",
    "Note on terminology: \n",
    "\n",
    "- Do not confuse the word \"trial\" here with the idea of a clinical trial or randomised controlled trial. In our discussion of the binomial distribution, we simply mean a Bernoulli trial, which is a statistical experiment which results in a binary outcome. So the trial in question could be whether or not a baby is a male; whether or not someone is alive in 30 days time; whether or not someone experiences a side effect. \n",
    "\n",
    "- Similarly, the word \"success\" can be confusing. We use the word success to denote having the event of interest. It does not imply that this is a good event. In fact, the event we are interested in, in health applications, is often a bad one. It might be diagnosis of cancer or death, in which case a success would refer to someone having cancer or dying. Conversely, if our study was looking at treatments for improving pregnancy rates, our event, and thus the definition of success, might be a couple becoming pregnant. So the word success, in this context, does not necessarily refer to a good event (although sometimes it does!).\n"
   ]
  },
  {
   "cell_type": "markdown",
   "metadata": {},
   "source": [
    "### Example of a binomial distribution\n",
    "\n",
    "A small study of 8 participants is being run. All 8 participants will be given an experimental drug. The aim of this study is to obtain data about how many people will experience a side-effect of the drug. \n",
    "\n",
    "From previous data, the clinical researcher running the trial estimates that the probability of the side-effect is 0.23.\n",
    "\n",
    "Let $X$ be the number of people in the study (i.e. among the 8 participants) who experience a side-effect. Suppose we are happy to assume that $X$ follows a binomial distribution. Then, using the formula for the probability distribution function that we derive below, we can calculate the probability that $P(X=x)$ for all possible values $x=0,1,...,8$. \n",
    "\n",
    "The code below (in R) does that calculation and displays a bar chart of the probability distribution function."
   ]
  },
  {
   "cell_type": "code",
   "execution_count": 24,
   "metadata": {},
   "outputs": [
    {
     "data": {
      "image/png": "[encoded data removed]",
      "text/plain": [
       "plot without title"
      ]
     },
     "metadata": {},
     "output_type": "display_data"
    }
   ],
   "source": [
    "# Obtain the probability distribution function (for values x=0,1,...,8)\n",
    "x <- seq(0,8)\n",
    "pi <- 0.23\n",
    "px <- dbinom(x, 8, pi)\n",
    "\n",
    "# Create bar chart of PDF\n",
    "barplot(height=px, names=x)"
   ]
  },
  {
   "cell_type": "markdown",
   "metadata": {},
   "source": [
    "### Deriving the binomial distribution\n",
    "\n",
    "\n",
    "Suppose we are conducting research on quadruplets (sets of four siblings born within the same pregnancy). In this session we will consider the number of boys among a set of quadruplets. \n",
    "\n",
    "Let $X$ be the number of boys within a particular set of quadruplets. The sample space for $X$ (the set of possible values $X$ could take) is: $\\{0, 1, 2, 3, 4 \\}$. We will now derive the full probability distribution function for $X$.  In our calculations, we will assume that the proportion of males at birth is 0.51 and that the gender of each birth is an independent event.\n",
    "\n",
    "\n",
    "Consider one set of quadruplets. We will start by calculating the probability of no boys i.e. the probability of four girls. By applying the multiplication rule (using the assumption of independence between sex of the children) we obtain:\n",
    "\n",
    "$$\n",
    "P(X=0) = P(\\mbox{four girls}) = P(GGGG) = 0.49^4,\n",
    "$$\n",
    "\n",
    "where $GGGG$ is shorthand for the event that the first child is a girl, *and* the second is a girl, *and* the third is a girl, *and* the fourth is a girl, \n",
    "\n",
    "Consider now the probability of one boy and three girls.  This may occur in one of four ways:\n",
    "BGGG, GBGG, GGBG and GGGB, each of which has probability $0.49^3\\times 0.51$.  Thus\n",
    "\n",
    "$$\n",
    "P(X=1) = P(\\mbox{one boy}) = 4 \\times 0.49^3 \\times 0.51.\n",
    "$$\n",
    "\n",
    "A family of 2 boys and 2 girls will arise in one of the following 6 ways: BBGG, BGBG, BGGB, GBBG, GBGB, GGBB each with a probability $0.49^2 \\times 0.51^2$ and a total probability of  \n",
    "\n",
    "$$\n",
    "P(X=2) =  P(\\mbox{two boys}) = 6 \\times 0.49^2 \\times 0.51^2.\n",
    "$$\n",
    "\n",
    "With similar reasoning we have that\n",
    "\n",
    "$$\n",
    "P(X=3) =  P(\\mbox{three boys}) = 4 \\times 0.49 \\times 0.51^3 \\\\\n",
    "$$\n",
    "\n",
    "and\n",
    "\n",
    "$$\n",
    "P(X=4) =  P(\\mbox{four boys}) = 0.51^4.\n",
    "$$\n",
    "\n",
    "We now let $X$ be the random variables which records the number of boys in a randomly selected family of size four. This random variable takes four possible values: 0, 1, 2, 3 or 4. Its probability distribution is given by the following table:\n",
    "\n",
    "\n",
    "| x  |  P(X=$x$) |\n",
    "|:---- | ---- | \n",
    "| 0 | 0.49$^4$ = 0.0576  |\n",
    "| 1 | 4 $\\times$ 0.49$^3$ $\\times$ 0.51 = 0.2400 | \n",
    "| 2 | 6 $\\times$ 0.49$^2$ $\\times$ 0.51$^2$ = 0.3747 | \n",
    "| 3 | 4 $\\times$ 0.49 $\\times$ 0.51$^3$ = 0.2600 | \n",
    "| 4 | 0.51$^4$=0.0677 | \n",
    "\n",
    "More generally, consider a sequence of $n$ independent observations/trials (in the example above it was four). Each observation results in a binary outcome, e.g. each trial is a success or a failure. In fact, a Binomial sequence is the sum of $n$ independent Bernoulli trials (i.e. $n$ independent Bernoulli variables). Let $\\pi$ denote the probability of an individual success (or the defined binary feature, e.g. boy vs. girl).\n",
    "\n",
    "How do we obtain the probability distribution for the random variable $X$ which records the number of successes in a sequence of $n$ trials? The possible values for the random variable are $0,1,..,n-1,n$. We saw from the previous example that the probability of $x$ successes and $n-x$ failures is\n",
    "\n",
    "$$\n",
    "P(X=x) = \\pi^{x} (1-\\pi)^{n-x} \\times \\mbox{number of ways of obtaining } x \\mbox{ successes}.\n",
    "$$\n",
    "\n",
    "The multiplying factor on the right above is the binomial coefficient, i.e. the number of combinations of $x$ objects chosen from $n$.  The number of ways $x$ successes can be obtained from $n$ observations is equal to $^n C_x$ as we are not interested in the order of the successes, only the number of combinations in which such a number of successes could have occurred, and a \"success\" can be considered the same as \"choosing\" an object: we are \"choosing\" $x$ successes and $n-x$ failures out of a \"bag\" of $n$ successes and failures.\n",
    "\n",
    "So we have that\n",
    "\n",
    "$$\n",
    "P(X=x) = \\begin{pmatrix}n \\\\ x \\end{pmatrix} \\pi^{x} (1-\\pi)^{n-x}\n",
    "$$\n",
    "\n"
   ]
  },
  {
   "cell_type": "markdown",
   "metadata": {},
   "source": [
    "### General form of the binomial distribution\n",
    "\n",
    "Suppose we have a sequence of $n$ independent Bernoulli trials (i.e. $n$ independent Bernoulli variables). Let $\\pi$ denote the probability of an individual \"success\".  To write that $X$ follows a binomial distribution with these features, we write $X\\sim binomial(n,\\pi)$, (where $\\sim$ means \"follows\").\n",
    "\n",
    "$$\n",
    "P(X=x) = \\begin{pmatrix}n \\\\ x \\end{pmatrix} \\pi^{x} (1-\\pi)^{n-x}, \\mbox{ for } x=0,1,2,..,n.\n",
    "$$\n",
    "\n",
    "*Expectation and variance*\n",
    "\n",
    "The expected value of a binomial variable is $E(X) = n\\pi$\n",
    "\n",
    "The variance of a binomial variable is $Var(X) = n\\pi (1-\\pi)$\n",
    "\n"
   ]
  },
  {
   "cell_type": "markdown",
   "metadata": {},
   "source": [
    "### Applications of the Binomial distribution\n",
    "\n",
    "\n",
    "*Assumptions*\n",
    "\n",
    "In order for a variable to follow a binomial distribution, some \"structural\" things need to be true. \n",
    "\n",
    "1. There must be a fixed number of Bernoulli trials\n",
    "2. Each trial must result in a binary outcome (success or failure)\n",
    "3. The outcome we are interested in must be defined as the total number of successes. \n",
    "\n",
    "There are also two key *statistical assumptions*, implied by our derivation above:\n",
    "\n",
    "1. The Bernoulli trials must be *independent* of one another\n",
    "2. The probability of success must be the same across Bernoulli trials\n",
    "\n",
    "*Applications*\n",
    "\n",
    "Suppose we are interested in a particular disease within a large population of $N$ individuals. If, in the population, $M$ is the number of individuals with the disease of interest, then the probability of \"success\" (i.e. an individual having the disease) is $\\pi = M/N$. \n",
    "\n",
    "Suppose we take a random sample of $n$ individuals from the large population. We will use $X$ to be the random variable for the number of \"successes\" out of the $n$ individuals. Then we might be happy to assume that $X$ follows a Binomial distribution.\n",
    "\n",
    "Notes\n",
    "- In order for the probability $\\pi$ to remain constant, if we took another sample of $n$ we would have to \"replace\" the original $n$ individuals, so there would be some small possibility of picking the same person twice. In practice, people are not sampled twice. But populations are usually so large that we can ignore this.\n",
    "- We also need to assume that individual outcomes (here, having the disease or not) are independent. There are many ways in which this could be violated. People within the same family have shared genetics, shared environments, etc. all of which might lead to outcomes that are more similar between family members than between individuals from different families. \n"
   ]
  },
  {
   "cell_type": "markdown",
   "metadata": {},
   "source": [
    "## The Poisson distribution\n",
    "\n",
    "The Poisson distribution is used to model the *number of events* occurring in a fixed time interval."
   ]
  },
  {
   "cell_type": "markdown",
   "metadata": {},
   "source": [
    "### Example of the Poisson distribution\n",
    "\n",
    "A clinical research is interested in modelling the number of asthma attacks that people with asthma experience in one year. Based on a large sample the researcher has estimated that the average number of attacks in a year is 2.5. \n",
    "\n",
    "If we let $X$ be the variable for the number of attacks a randomly selected person with asthma will experience in a year and we are happy to assume that $X$ follows a Poisson distribution, then we can calculate $P(X=x)$ for any given value of $x$. \n",
    "\n",
    "The code below (in R) does this calculation and plots the probability distribution function of the number of asthma attacks in a year. "
   ]
  },
  {
   "cell_type": "code",
   "execution_count": 27,
   "metadata": {},
   "outputs": [
    {
     "data": {
      "image/png": "[encoded data removed]",
      "text/plain": [
       "plot without title"
      ]
     },
     "metadata": {},
     "output_type": "display_data"
    }
   ],
   "source": [
    "# Obtain the probability distribution function (for values x=0,1,...,10)\n",
    "x <- seq(0,10)\n",
    "lambda <- 2.5\n",
    "px <- dpois(x, lambda)\n",
    "\n",
    "# Create bar chart of PDF\n",
    "barplot(height=px, names=x)"
   ]
  },
  {
   "cell_type": "markdown",
   "metadata": {},
   "source": [
    "### Deriving the Poisson distribution\n",
    "\n",
    "\n",
    "To give a heuristic derivation of the probability distribution function of the Poisson, we divide the total time $T$ into a very large number of small intervals (see Figure below). As the number of intervals we divide $T$ into increases, at most one event will occur in each interval, and so $X$ will equal the number of intervals in which an event occurs. Since the occurrence of events in each interval are assumed independent of each other, $X \\sim Bin(n,\\pi)$, where $n$ is the number of intervals and $\\pi$ is the probability of an event occurring in any given interval.\n",
    "\n",
    "![poisson](Images/poisson.png \"Derivation of Poisson distribution by dividing time into small intervals\")\n",
    "\n",
    "With a rate of $\\lambda$ events per unit of time, we expect $\\mu=\\lambda T$ events in the whole period, and therefore we expect $\\lambda T / n = \\mu/n$ events in each interval. Thus $\\pi=\\mu/n$. Therefore, using the probability distribution function for the binomial we have that\n",
    "\n",
    "$$\n",
    "P(X=x) = {n \\choose x} \\pi^{x} (1-\\pi)^{n-x} = {n \\choose x} \\left(\\frac{\\mu}{n}\\right)^{x} \\left(1-\\frac{\\mu}{n}\\right)^{n-x}\n",
    "$$\n",
    "\n",
    "Then we have that\n",
    "\n",
    "$$\n",
    "P(X=x) = {n \\choose x} \\left(\\frac{\\mu}{n}\\right)^{x} \\left(1-\\frac{\\mu}{n}\\right)^{n-x} \n",
    "$$\n",
    "\n",
    "$$\n",
    "= \\frac{n!}{x! (n-x)!} \\left(\\frac{\\mu}{n}\\right)^{x} \\left(1-\\frac{\\mu}{n}\\right)^{n-x}\n",
    "$$\n",
    "\n",
    "$$\n",
    "= \\frac{n!}{n^{x} (n-x)!}  \\frac{\\mu^{x}}{x!} \\left(1-\\frac{\\mu}{n}\\right)^{n-x}\n",
    "$$\n",
    "\n",
    "Now to simplify the first term, we note that:\n",
    "\n",
    "$$\n",
    "\\frac{n!}{n^{x} (n-x)!} = \\frac{n(n-1)...(n-x+1)}{n^{x}} \\rightarrow 1 \\mbox{ as } n \\rightarrow \\infty,\n",
    "$$\n",
    "\n",
    "and to simplify the third term, we note that:\n",
    "$$\n",
    "\\left(1-\\frac{\\mu}{n}\\right)^{n-x} \\rightarrow \\left(1-\\frac{\\mu}{n}\\right)^{n} \\rightarrow e^{-\\mu}\n",
    "$$\n",
    "\n",
    "Replacing the first and third terms by these limits gives\n",
    "\n",
    "$$\n",
    "P(X=x) \\rightarrow \\frac{\\mu^{x}}{x!} e^{-\\mu} \\mbox{ as } n \\rightarrow \\infty.\n",
    "$$\n"
   ]
  },
  {
   "cell_type": "markdown",
   "metadata": {},
   "source": [
    "### General form of the Poisson distribution\n",
    "\n",
    "We can now define a Poisson distribution for the number of events occurring in a fixed interval $T$ at a constant rate $\\lambda$ with parameter $\\mu=\\lambda T$, which we write as\n",
    "\n",
    "$$\n",
    "X \\sim \\mbox{Poisson}(\\mu=\\lambda T)\n",
    "$$\n",
    "\n",
    "as the distribution which has probability distribution function\n",
    "\n",
    "$$\n",
    "P(X=x) = \\frac{\\mu^{x}}{x!} e^{-\\mu}, \\ \\mbox{ for } x=0,1,2,...\n",
    "$$\n",
    "\n",
    "*Expectation and variance*\n",
    "\n",
    "The derivation of the expectation and variance of a Poisson random variable $X$ with parameter $\\mu$ will be set as a practical question."
   ]
  },
  {
   "cell_type": "markdown",
   "metadata": {},
   "source": [
    "### Applications of the Poisson distribution\n",
    "\n",
    "*Assumptions* \n",
    "\n",
    "The Poisson distribution is used to model the *number of events* occurring in a fixed time interval $T$ when:\n",
    "\n",
    "- events occur randomly in time,\n",
    "- they occur at a constant rate $\\lambda$ per unit time,\n",
    "- they occur independently of each other.\n",
    "\n",
    "*Applications* \n",
    "\n",
    "A random variable $X$ which follows a Poisson distribution can  take any non-negative integer value. Examples where the Poisson distribution might be appropriate include:\n",
    "\n",
    "- Emissions from a radioactive source,\n",
    "- The number of deaths in a large cohort of people over a year,\n",
    "- The number of accidental deaths occurring in a city over a year."
   ]
  },
  {
   "cell_type": "markdown",
   "metadata": {},
   "source": [
    "### Approximating the binomial by a Poisson\n",
    "\n",
    "When $n$ is large relative to $\\pi$, the binomial distribution can be approximated by a Poisson with a\n",
    "mean $n\\pi$. That this approximation is reasonable follows directly from our earlier heuristic derivation\n",
    "of how a Poisson distribution arises as an approximation to a binomial distribution when the number\n",
    "of trials tends to infinity.\n",
    "\n",
    "There are many such approximations. Nowadays, we may not need to use them because we have enormous computing power at our disposal. In earlier times, in contrast, calculations could take a long time so any simplification that could be reasonably applied could provide meaningful extra calculation speed."
   ]
  },
  {
   "cell_type": "code",
   "execution_count": null,
   "metadata": {},
   "outputs": [],
   "source": []
  }
 ],
 "metadata": {
  "kernelspec": {
   "display_name": "R",
   "language": "R",
   "name": "ir"
  },
  "language_info": {
   "codemirror_mode": "r",
   "file_extension": ".r",
   "mimetype": "text/x-r-source",
   "name": "R",
   "pygments_lexer": "r",
   "version": "3.6.1"
  }
 },
 "nbformat": 4,
 "nbformat_minor": 4
}
