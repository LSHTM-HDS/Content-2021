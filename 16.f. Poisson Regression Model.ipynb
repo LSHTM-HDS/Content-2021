{
 "cells": [
  {
   "cell_type": "markdown",
   "metadata": {},
   "source": [
    "## 16.5 Zero Inflated Poisson Regression Example \n",
    "\n",
    "As we discussed in section 14.3.4, often we are faced with a distribution which is looks like a Poisson distribution but has an inflated zero count. In this situation Poisson Regression would not be suitable however we can fit a Zero Inflated Poisson Regression, unfortunately the glm() function is incapable of this modelling approach so we need different package called pscl.\n",
    "\n",
    "Below we simulate data using a similar example to section 14.5.1 but instead of hospital admissions count we are interested in number of alcoholic drinks drunk in a day (treatment and country remain the same). The count for alcoholic drinks has a large number of zeros and thus is suitable to model with a Zero Inflated Poisson Regression.\n"
   ]
  },
  {
   "cell_type": "code",
   "execution_count": 15,
   "metadata": {},
   "outputs": [
    {
     "name": "stderr",
     "output_type": "stream",
     "text": [
      "Classes and Methods for R developed in the\n",
      "Political Science Computational Laboratory\n",
      "Department of Political Science\n",
      "Stanford University\n",
      "Simon Jackman\n",
      "hurdle and zeroinfl functions by Achim Zeileis\n"
     ]
    },
    {
     "name": "stdout",
     "output_type": "stream",
     "text": [
      "      treatment          country alcohol_count\n",
      "1   Placebo Arm          England             4\n",
      "2   Placebo Arm            Wales             0\n",
      "3   Placebo Arm Northern Ireland             4\n",
      "4   Placebo Arm            Wales             0\n",
      "5   Placebo Arm          England             0\n",
      "6   Placebo Arm          England             0\n",
      "7   Placebo Arm Northern Ireland             6\n",
      "8   Placebo Arm         Scotland             0\n",
      "9   Placebo Arm          England             0\n",
      "10  Placebo Arm Northern Ireland             0\n",
      "11  Placebo Arm Northern Ireland             1\n",
      "12  Placebo Arm Northern Ireland             2\n",
      "13  Placebo Arm Northern Ireland             0\n",
      "14  Placebo Arm            Wales             0\n",
      "15  Placebo Arm         Scotland             0\n",
      "16  Placebo Arm Northern Ireland             4\n",
      "17  Placebo Arm         Scotland             1\n",
      "18  Placebo Arm Northern Ireland             0\n",
      "19  Placebo Arm          England             1\n",
      "20  Placebo Arm          England             4\n",
      "21  Placebo Arm         Scotland             0\n",
      "22  Placebo Arm         Scotland             0\n",
      "23  Placebo Arm          England             1\n",
      "24  Placebo Arm Northern Ireland             6\n",
      "25  Placebo Arm          England             0\n",
      "26  Placebo Arm Northern Ireland             3\n",
      "27  Placebo Arm          England             0\n",
      "28  Placebo Arm Northern Ireland             0\n",
      "29  Placebo Arm            Wales             0\n",
      "30  Placebo Arm          England             0\n",
      "31  Placebo Arm         Scotland             0\n",
      "32  Placebo Arm            Wales             0\n",
      "33  Placebo Arm Northern Ireland             0\n",
      "34  Placebo Arm         Scotland             0\n",
      "35  Placebo Arm Northern Ireland             8\n",
      "36  Placebo Arm Northern Ireland             3\n",
      "37  Placebo Arm Northern Ireland             0\n",
      "38  Placebo Arm            Wales             4\n",
      "39  Placebo Arm            Wales             1\n",
      "40  Placebo Arm         Scotland             0\n",
      "41  Placebo Arm          England             0\n",
      "42  Placebo Arm         Scotland             1\n",
      "43  Placebo Arm          England             0\n",
      "44  Placebo Arm         Scotland             0\n",
      "45  Placebo Arm Northern Ireland             1\n",
      "46  Placebo Arm          England             0\n",
      "47  Placebo Arm Northern Ireland             0\n",
      "48  Placebo Arm            Wales             0\n",
      "49  Placebo Arm Northern Ireland             0\n",
      "50  Placebo Arm Northern Ireland             5\n",
      "51   Active Arm          England             0\n",
      "52   Active Arm         Scotland             0\n",
      "53   Active Arm            Wales             0\n",
      "54   Active Arm Northern Ireland             1\n",
      "55   Active Arm Northern Ireland             0\n",
      "56   Active Arm          England             3\n",
      "57   Active Arm         Scotland             0\n",
      "58   Active Arm         Scotland             1\n",
      "59   Active Arm Northern Ireland             1\n",
      "60   Active Arm         Scotland             2\n",
      "61   Active Arm          England             3\n",
      "62   Active Arm         Scotland             0\n",
      "63   Active Arm         Scotland             0\n",
      "64   Active Arm            Wales             5\n",
      "65   Active Arm          England             0\n",
      "66   Active Arm            Wales             0\n",
      "67   Active Arm Northern Ireland             4\n",
      "68   Active Arm Northern Ireland             0\n",
      "69   Active Arm          England             5\n",
      "70   Active Arm Northern Ireland             4\n",
      "71   Active Arm         Scotland             0\n",
      "72   Active Arm          England             3\n",
      "73   Active Arm Northern Ireland             0\n",
      "74   Active Arm         Scotland             0\n",
      "75   Active Arm          England             4\n",
      "76   Active Arm            Wales             0\n",
      "77   Active Arm          England             0\n",
      "78   Active Arm Northern Ireland             0\n",
      "79   Active Arm         Scotland             0\n",
      "80   Active Arm          England             0\n",
      "81   Active Arm Northern Ireland             0\n",
      "82   Active Arm            Wales             0\n",
      "83   Active Arm Northern Ireland             0\n",
      "84   Active Arm         Scotland             6\n",
      "85   Active Arm         Scotland             0\n",
      "86   Active Arm Northern Ireland             0\n",
      "87   Active Arm            Wales             0\n",
      "88   Active Arm          England             0\n",
      "89   Active Arm         Scotland             0\n",
      "90   Active Arm Northern Ireland             0\n",
      "91   Active Arm          England             4\n",
      "92   Active Arm          England             3\n",
      "93   Active Arm          England             0\n",
      "94   Active Arm Northern Ireland             0\n",
      "95   Active Arm         Scotland             0\n",
      "96   Active Arm Northern Ireland             0\n",
      "97   Active Arm         Scotland             3\n",
      "98   Active Arm Northern Ireland             2\n",
      "99   Active Arm         Scotland             0\n",
      "100  Active Arm         Scotland             0\n"
     ]
    },
    {
     "data": {
      "text/plain": [
       "       treatment              country   alcohol_count \n",
       " Placebo Arm:50   England         :26   Min.   :0.00  \n",
       " Active Arm :50   Northern Ireland:34   1st Qu.:0.00  \n",
       "                  Scotland        :26   Median :0.00  \n",
       "                  Wales           :14   Mean   :1.14  \n",
       "                                        3rd Qu.:2.00  \n",
       "                                        Max.   :8.00  "
      ]
     },
     "metadata": {},
     "output_type": "display_data"
    },
    {
     "data": {
      "text/plain": [
       "\n",
       "Call:\n",
       "zeroinfl(formula = alcohol_count ~ country + treatment, data = df)\n",
       "\n",
       "Pearson residuals:\n",
       "    Min      1Q  Median      3Q     Max \n",
       "-0.7880 -0.7227 -0.4582  0.4130  4.6787 \n",
       "\n",
       "Count model coefficients (poisson with log link):\n",
       "                        Estimate Std. Error z value Pr(>|z|)    \n",
       "(Intercept)              1.03937    0.24093   4.314  1.6e-05 ***\n",
       "countryNorthern Ireland  0.12880    0.24890   0.517    0.605    \n",
       "countryScotland         -0.40356    0.37120  -1.087    0.277    \n",
       "countryWales             0.08974    0.39442   0.228    0.820    \n",
       "treatmentActive Arm      0.09866    0.22040   0.448    0.654    \n",
       "\n",
       "Zero-inflation model coefficients (binomial with logit link):\n",
       "                        Estimate Std. Error z value Pr(>|z|)\n",
       "(Intercept)               0.1425     0.4828   0.295    0.768\n",
       "countryNorthern Ireland  -0.1511     0.5520  -0.274    0.784\n",
       "countryScotland           0.7827     0.6597   1.186    0.235\n",
       "countryWales              1.0468     0.7850   1.333    0.182\n",
       "treatmentActive Arm       0.1377     0.4545   0.303    0.762\n",
       "---\n",
       "Signif. codes:  0 '***' 0.001 '**' 0.01 '*' 0.05 '.' 0.1 ' ' 1 \n",
       "\n",
       "Number of iterations in BFGS optimization: 15 \n",
       "Log-likelihood: -130.1 on 10 Df"
      ]
     },
     "metadata": {},
     "output_type": "display_data"
    }
   ],
   "source": [
    "#Install package\n",
    "#install.packages(\"VGAM\")\n",
    "#install.packages(\"pscl\")\n",
    "library(\"VGAM\")\n",
    "library(pscl)\n",
    "\n",
    "#Number of data points to simulate\n",
    "n=100\n",
    "#Shape\n",
    "lambda=3\n",
    "#Probability of drawing a zero\n",
    "p=0.5\n",
    "#Create data\n",
    "alcohol_count<-rzipois(n, lambda = lambda, pstr0 = p)\n",
    "country <-  factor(sample(1:4, n, replace=T), levels=1:4, labels=c(\"England\",\"Northern Ireland\",\"Scotland\",\"Wales\"))\n",
    "treatment <- factor(gl(2,n/2), levels=1:2, labels=c(\"Placebo Arm\",\"Active Arm\"))\n",
    "print(df <- data.frame(treatment, country, alcohol_count))\n",
    "summary(df)\n",
    "summary(m1 <- zeroinfl(alcohol_count ~ country + treatment, data = df))"
   ]
  },
  {
   "cell_type": "markdown",
   "metadata": {},
   "source": [
    "The model fits a glm with a binomial logit link to predict the excess zeros and a glm with a Possion log link to model the rest of the distribution. In both models the variables (country and treatment) have been included however you could use different variables in the two models. Unfortunately the models do not combine the estimates from each model however we can use the coefficients to make predictions."
   ]
  },
  {
   "cell_type": "code",
   "execution_count": 16,
   "metadata": {},
   "outputs": [
    {
     "data": {
      "image/png": "[encoded data removed]",
      "text/plain": [
       "plot without title"
      ]
     },
     "metadata": {},
     "output_type": "display_data"
    }
   ],
   "source": [
    "df$pred <- predict(m1, type=\"response\")\n",
    "# Create the plot\n",
    "ggplot(df, aes(x = country, y = pred, colour = treatment)) +\n",
    "  geom_point(aes(y = pred)) +\n",
    "  labs(x = \"Treatment Arm\", y = \"Expected number of drinks in a day\")"
   ]
  },
  {
   "cell_type": "markdown",
   "metadata": {},
   "source": [
    "The graph shows the expected number of drinks in a day for each country and treatment group, from this we would expect the most number of drinks to be drunk in a day to be for people in the Placebo arm living in Wales, with the fewest from the Active arm people living in Northern Ireland.\n",
    "\n",
    "\n",
    "### 16.5.1 Vuong test (Optional Reading)\n",
    "\n",
    "To check if the zero inflated Poisson regression models the data better than the straight forward  Poisson regression we can run a Vuong test. A Vuong test is a likelihood ratio test used for model selection when the models are nested, non-nested or overlapping. The null hypothesis is that the two models supplied are equally close to the true data generation structure, against the alternative that one model is closer. To run a Vuong test in R we simple use the vuong() function and supply the two models we wish to compare in our case it is the zero inflated Poisson verses the Poisson model.\n"
   ]
  },
  {
   "cell_type": "code",
   "execution_count": 17,
   "metadata": {},
   "outputs": [
    {
     "data": {
      "text/plain": [
       "\n",
       "Call:\n",
       "zeroinfl(formula = alcohol_count ~ treatment + country, data = df)\n",
       "\n",
       "Pearson residuals:\n",
       "    Min      1Q  Median      3Q     Max \n",
       "-0.7880 -0.7227 -0.4582  0.4130  4.6787 \n",
       "\n",
       "Count model coefficients (poisson with log link):\n",
       "                        Estimate Std. Error z value Pr(>|z|)    \n",
       "(Intercept)              1.03937    0.24093   4.314  1.6e-05 ***\n",
       "treatmentActive Arm      0.09866    0.22040   0.448    0.654    \n",
       "countryNorthern Ireland  0.12880    0.24890   0.517    0.605    \n",
       "countryScotland         -0.40356    0.37120  -1.087    0.277    \n",
       "countryWales             0.08974    0.39442   0.228    0.820    \n",
       "\n",
       "Zero-inflation model coefficients (binomial with logit link):\n",
       "                        Estimate Std. Error z value Pr(>|z|)\n",
       "(Intercept)               0.1425     0.4828   0.295    0.768\n",
       "treatmentActive Arm       0.1377     0.4545   0.303    0.762\n",
       "countryNorthern Ireland  -0.1511     0.5520  -0.274    0.784\n",
       "countryScotland           0.7827     0.6597   1.186    0.235\n",
       "countryWales              1.0468     0.7850   1.333    0.182\n",
       "---\n",
       "Signif. codes:  0 '***' 0.001 '**' 0.01 '*' 0.05 '.' 0.1 ' ' 1 \n",
       "\n",
       "Number of iterations in BFGS optimization: 15 \n",
       "Log-likelihood: -130.1 on 10 Df"
      ]
     },
     "metadata": {},
     "output_type": "display_data"
    },
    {
     "data": {
      "text/plain": [
       "\n",
       "Call:\n",
       "glm(formula = alcohol_count ~ treatment + country, family = \"poisson\", \n",
       "    data = df)\n",
       "\n",
       "Deviance Residuals: \n",
       "    Min       1Q   Median       3Q      Max  \n",
       "-1.8081  -1.6505  -1.0453   0.5542   4.2552  \n",
       "\n",
       "Coefficients:\n",
       "                        Estimate Std. Error z value Pr(>|z|)   \n",
       "(Intercept)              0.30905    0.19307   1.601  0.10945   \n",
       "treatmentActive Arm     -0.02373    0.18885  -0.126  0.90000   \n",
       "countryNorthern Ireland  0.18233    0.21651   0.842  0.39972   \n",
       "countryScotland         -0.91355    0.31698  -2.882  0.00395 **\n",
       "countryWales            -0.63542    0.35882  -1.771  0.07658 . \n",
       "---\n",
       "Signif. codes:  0 '***' 0.001 '**' 0.01 '*' 0.05 '.' 0.1 ' ' 1\n",
       "\n",
       "(Dispersion parameter for poisson family taken to be 1)\n",
       "\n",
       "    Null deviance: 270.46  on 99  degrees of freedom\n",
       "Residual deviance: 250.66  on 95  degrees of freedom\n",
       "AIC: 364.19\n",
       "\n",
       "Number of Fisher Scoring iterations: 6\n"
      ]
     },
     "metadata": {},
     "output_type": "display_data"
    },
    {
     "name": "stdout",
     "output_type": "stream",
     "text": [
      "Vuong Non-Nested Hypothesis Test-Statistic: \n",
      "(test-statistic is asymptotically distributed N(0,1) under the\n",
      " null that the models are indistinguishible)\n",
      "-------------------------------------------------------------\n",
      "              Vuong z-statistic             H_A    p-value\n",
      "Raw                    4.474813 model1 > model2 3.8239e-06\n",
      "AIC-corrected          3.998462 model1 > model2 3.1878e-05\n",
      "BIC-corrected          3.377975 model1 > model2 0.00036511\n"
     ]
    }
   ],
   "source": [
    "#Zero inflated model\n",
    "summary(m1 <- zeroinfl(alcohol_count ~ treatment + country , data = df))\n",
    "#Poisson regression\n",
    "summary(m2 <- glm(alcohol_count ~ treatment + country, family=\"poisson\", data=df))\n",
    "#Vuong test\n",
    "vuong(m1, m2)"
   ]
  },
  {
   "cell_type": "markdown",
   "metadata": {},
   "source": [
    "The output shows three z-statistics, the raw, the AIC-corrected and the BIC-corrected. In brief, the AIC (Akaike information criterion) and BIC (Bayesian information criterion) introduce a penalty term to reduce the likelihood of overfitting. When adding parameters to models it is possible to increase the likelihood, the penalty term adjusts for this increase; the penalty term is larger in BIC than in the AIC.\n",
    "\n",
    "We can see in the output that for all three p values there is significantly strong evidence that model 1, the zero inflated Poisson regression fits the data far better than model 2 the Poisson regression. If however the p values did not agree then the data scientist would have to think about the affects of each method and decide if the raw, AIC or BIC would be the most appropriate in the setting being looked at. There is a debate about the use of Vuong test for this type of comparison, if you wish to read more there is a good paper which can be found here (https://www.sciencedirect.com/science/article/abs/pii/S016517651400490X).\n"
   ]
  }
 ],
 "metadata": {
  "kernelspec": {
   "display_name": "R",
   "language": "R",
   "name": "ir"
  },
  "language_info": {
   "codemirror_mode": "r",
   "file_extension": ".r",
   "mimetype": "text/x-r-source",
   "name": "R",
   "pygments_lexer": "r",
   "version": "3.6.1"
  }
 },
 "nbformat": 4,
 "nbformat_minor": 4
}
