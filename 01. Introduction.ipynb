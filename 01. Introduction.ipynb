{
 "cells": [
  {
   "cell_type": "markdown",
   "metadata": {},
   "source": [
    "# 1 Introduction"
   ]
  },
  {
   "cell_type": "markdown",
   "metadata": {},
   "source": [
    "Welcome to the Statistics for Health Data Science Module. \n",
    "\n",
    "This is a compulsory module for the programme MSc Health Data Science. The module provides an introduction to the key statistical concepts and methods for health data science. Topics covered include probability, initial data description and\n",
    "exploration, statistical inference, regression, and Bayesian analysis. These topics provide the framework needed for subsequent modules. The module places a focus on learning through practical examples and incorporates directed learning, lectures, group discussion, and computer practical exercises."
   ]
  },
  {
   "cell_type": "markdown",
   "metadata": {},
   "source": [
    "## 1.1 Overall aim of the module\n",
    "The overall module aim is to:\n",
    "* Introduce the motivation and critical thinking towards solving a question in health science through interrogation of data and drawing conclusions from evidence. \n",
    "* Introduce the principles of probability, regression modelling and statistical inference within frequentist and Bayesian settings.\n",
    "\n",
    "## 1.2 Module Intended Learning Outcomes\n",
    "Upon successful completion of the module a student will be able to:\n",
    "1. evaluate the application of different probability distributions to model health data (including Poisson, Binomial and Normal);\n",
    "2. critically analyse frameworks for frequentist and Bayesian inference and evaluate their strengths, limitations and differences;\n",
    "3. examine the concepts of sampling variability, estimators, bias, confidence intervals and credible intervals;\n",
    "4. examine the theoretical basis of linear regression and generalized linear models;\n",
    "5. assess the application of regression modelling to address specific health data science questions;\n",
    "6. critically evaluate strengths and limitations of different statistical methods, including regression models, within a health data science project;\n",
    "7. draw conclusions from the results of a data analysis and justify those conclusions, appropriately acknowledging uncertainty in the results.\n",
    "\n",
    "## 1.3 Module Content\n",
    "The module is split into 16 sessions, each building statistical knowledge for health data science. The sessions are:\n",
    "1. Introduction\n",
    "2. Probability and Discrete Probability Distributions\n",
    "3. Continuous Probability Distribution\n",
    "4. Populations and Sampling\n",
    "5. Likelihood\n",
    "6. Maximum Likelihood Estimation\n",
    "7. Frequentist Inference I\n",
    "8. Frequentist Inference II\n",
    "9. Bayesian Statistics I\n",
    "10. Bayesian Statistics II\n",
    "11. Types of Investigation\n",
    "12. Linear Regresion I\n",
    "13. Linear Regresion II\n",
    "14. GLM Logistic Regression\n",
    "15. GLM Poisson Regression\n",
    "16. Extensions: Confounding, Standardisation and Collapsibility\n"
   ]
  },
  {
   "cell_type": "markdown",
   "metadata": {},
   "source": [
    "## 1.4 Acknowledgements\n",
    "\n",
    "Many people have contributed to this document over time, including a large number of previous and current members of the Department of Medical Statistics at the London School of Hygiene and Tropical Medicine. In particular, we would like to acknowledge contributions from Corentin Segalas, Elizabeth Williamson, Emily Granger, Emily Nightingale, Linda Sharlples, Kathleen O'Reilly, Melanie Smuk, Mia Tackney, Nicholasa Jewell and Ruth Keogh.\n",
    "\n"
   ]
  },
  {
   "cell_type": "markdown",
   "metadata": {},
   "source": [
    "## 1.5 Version\n",
    "\n",
    "This document was last updated: 2021\n",
    "\n",
    "Inevitably there will be some typos in these notes. Please do let us know any you spot (at: <mscHDS@lshtm.ac.uk>) and we will correct them. "
   ]
  }
 ],
 "metadata": {
  "kernelspec": {
   "display_name": "Python 3",
   "language": "python",
   "name": "python3"
  },
  "language_info": {
   "codemirror_mode": {
    "name": "ipython",
    "version": 3
   },
   "file_extension": ".py",
   "mimetype": "text/x-python",
   "name": "python",
   "nbconvert_exporter": "python",
   "pygments_lexer": "ipython3",
   "version": "3.7.6"
  }
 },
 "nbformat": 4,
 "nbformat_minor": 4
}
