{
 "cells": [
  {
   "cell_type": "markdown",
   "metadata": {},
   "source": [
    "## Further Resources\n",
    "\n",
    "Note: further resources are for you to deepen your understanding of the subject if you wish to do so. This is entirely optional. All examinable material is contained within the notes.\n",
    "\n",
    "\n",
    "###  Resources for learning \n",
    "\n",
    "These textbooks are recommended for further learning and examples:\n",
    "\n",
    "> - [Bayesian data analysis by Gelman et. al](http://www.stat.columbia.edu/~gelman/book/) can be downloaded in PDF format.  \n",
    "> - [The Bugs Book by Lunn et. al.](https://www.mrc-bsu.cam.ac.uk/software/bugs/the-bugs-project-the-bugs-book/) is available at the LSHTM library.    \n",
    "> - [an introductory book by Jim Stone with nice examples](http://jim-stone.staff.shef.ac.uk/BookBayes2012/HTML_BayesRulev5EbookHTMLFiles/ops/xhtml/ch01BayesJVSone.html) The first chapter is freely available online.    \n",
    "\n",
    "\n",
    "\n",
    "### Examples of applications \n",
    "\n",
    "\n",
    "> - [Article on Nature providing guidelines Bayesian analyses for genetic association studies](https://www.nature.com/articles/nrg2615).   \n",
    "> - The potential benefits of incorporating prior information in the context of health care evaluation is discussed by [David Spiegelhalter in this article](https://projecteuclid.org/euclid.ss/1089808280).    \n",
    "> - We mentioned earlier that Bayesian approaches can be helpful for overcoming challenges with small sample sizes in clinical trials for rare diseases; you can read more about this [in an article by Lilford et. al.](https://www.ncbi.nlm.nih.gov/pmc/articles/PMC2551510/pdf/bmj00623-0045.pdf)   "
   ]
  },
  {
   "cell_type": "code",
   "execution_count": null,
   "metadata": {},
   "outputs": [],
   "source": []
  }
 ],
 "metadata": {
  "kernelspec": {
   "display_name": "R",
   "language": "R",
   "name": "ir"
  },
  "language_info": {
   "codemirror_mode": "r",
   "file_extension": ".r",
   "mimetype": "text/x-r-source",
   "name": "R",
   "pygments_lexer": "r",
   "version": "3.6.1"
  }
 },
 "nbformat": 4,
 "nbformat_minor": 4
}
