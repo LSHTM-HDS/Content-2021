{
 "cells": [
  {
   "cell_type": "markdown",
   "metadata": {},
   "source": [
    "# 7. Frequentist I: Confidence Intervals (CIs)\n",
    "\n",
    "In previous sessions we considered the concept of estimating population parameters using information from a sample from the population. When we present an estimate of a population quantity, it is important to also provide a measure of how precise that estimate is. Do we believe it is close to the true value? Can we provide a range of values within which we believe the true value lies? \n",
    "\n",
    "This is the purpose of a confidence interval. Loosely speaking, it provides a range of values for the population parameter which our observed data are consistent with."
   ]
  },
  {
   "cell_type": "markdown",
   "metadata": {},
   "source": [
    "<div class=\"alert alert-block alert-warning\">\n",
    "<b> Intended learning outcomes</b> \n",
    "    \n",
    "By the end of this session you will be able to:\n",
    "\n",
    "* correctly interpret a 95% confidence interval interval\n",
    "* describe properties of a 95% confidence interval over repeated sampling\n",
    "* calculate a 95% confidence interval for the mean\n",
    "* use resampling (bootstrapping) approaches to obtain percentile confidence intervals\n",
    "</div>"
   ]
  },
  {
   "cell_type": "markdown",
   "metadata": {},
   "source": [
    "## 7.1 Example: Emotional distress in violence researchers\n",
    "\n",
    "To explore the concept of confidence intervals, we will return to the example of emotional distress among violence researchers. \n",
    "\n",
    "We will again consider the smaller subsample of 10 researchers and focus on estimating the population mean age, $\\mu$. Among our 10 sampled violence researchers, the sample mean age and the sample proportion suffering from emotional distress are:\n",
    "\n",
    "> Sample mean age $\\bar{x}= 29.57$; sample standard deviation of age $SD = 4.95$"
   ]
  },
  {
   "cell_type": "markdown",
   "metadata": {},
   "source": [
    "### 7.1.1 Emotional distress study - the statistical model (recap)\n",
    "\n",
    "As before, we will let $X_1, ...,X_{10}$ be  random variables representing the ages of 10 sampled researchers and $x_1, ..., x_{10}$ are the realised values of these random variables (i.e. the observed ages). We assume the following model\n",
    "\n",
    "$$ \n",
    "X_i \\overset{\\small{iid}}{\\sim} N(\\mu, \\sigma^2), \\qquad i=1,2,...,10\n",
    "$$\n",
    "\n",
    "As before, we will assume that we know the population standard deviation, $\\sigma = 4.8$.\n",
    "\n",
    "\n",
    "Our best estimate of the population mean age is the sample mean age, so $\\hat{\\mu} = 29.57$. But how good an estimate is this? In order to answer that question, we will construct a 95% confidence interval around the estimate. "
   ]
  },
  {
   "cell_type": "markdown",
   "metadata": {},
   "source": [
    "### 7.1.2 Emotional distress study - the sampling distribution of the mean (recap)\n",
    "\n",
    "Recall that the sampling distribution of the sample mean is the distribution we would see if we repeatedly sampled 10 researchers a very large number of times, each time calculating the sample mean age, and drew a histogram of the sample means.\n",
    "\n",
    "We obtained the sampling distribution algebraically:\n",
    "\n",
    "$$\n",
    "\\hat{\\mu} \\sim N\\left(\\mu, \\frac{\\sigma^2}{n}\\right) \n",
    "$$\n",
    "\n",
    "which, substituting in the sample size of $n=10$ and $\\sigma = 4.8$, gives\n",
    "\n",
    "$$\n",
    "\\hat{\\mu} \\sim N(\\mu, 1.52^2)\n",
    "$$\n",
    "\n",
    "Recall that when we are talking about the sampling distribution (i.e. the distribution of an *estimator*), we call the standard deviation the **standard error**. So the sample mean age follows a normal distribution, under repeated sampling, centred around the population mean $\\mu$ with standard error given by $SE(\\hat{\\mu}) = 1.52$.\n",
    "\n",
    "We do not quite have sufficient information to plot the sampling distribution, because we still do not know where the central value $\\mu$ is. However, otherwise we can draw the exact shape. The code below draws the sampling distribution around an unknown population mean $\\mu$."
   ]
  },
  {
   "cell_type": "code",
   "execution_count": 8,
   "metadata": {},
   "outputs": [
    {
     "data": {
      "image/png": "[encoded data removed]",
      "text/plain": [
       "plot without title"
      ]
     },
     "metadata": {},
     "output_type": "display_data"
    }
   ],
   "source": [
    "# Labels for the graph\n",
    "lab1 <- expression(mu - 3)\n",
    "lab2 <- expression(mu - 2)\n",
    "lab3 <- expression(mu - 1)\n",
    "lab4 <- expression(mu)\n",
    "lab5 <- expression(mu + 1)\n",
    "lab6 <- expression(mu + 2)\n",
    "lab7 <- expression(mu + 3)\n",
    "\n",
    "# Plot a normal distribution centred around a value \"mu\" with an unspecified dispersion\n",
    "options(repr.plot.width=5, repr.plot.height=5)\n",
    "plot(seq(-4, 4, by=.05), xaxt=\"none\",  xlab=\" \", ylab=\"Density\", \n",
    "     dnorm(seq(-4, 4, by=.05), 0, 1.52), col=\"blue\", type = \"l\")\n",
    "abline(v=0, col=\"black\")\n",
    "axis(1, seq(-3, 3, by=1), labels=c(lab1, lab2, lab3, lab4, lab5, lab6, lab7))"
   ]
  },
  {
   "cell_type": "markdown",
   "metadata": {},
   "source": [
    "### 7.1.3 Emotional distress study - confidence interval for the mean \n",
    "\n",
    "We now use a general fact about normal distributions:\n",
    "\n",
    "> For a normal distribution, it can be shown that 95% of the observations lie within 1.96 standard deviations of the mean. \n",
    "\n",
    "For the sampling distribution above, the \"observations\" are the different  sample means we would see under (hypothetical) repeated sampling. The standard deviation is the standard error of the mean. Above, we calculated that this standard error is 1.52. \n",
    "\n",
    "Therefore, 95% of the sample means lie within $1.52 \\times 1.96 = 2.98$ of the population mean $\\mu$\n",
    "\n",
    "Imagine taking each (hypothetical) sample mean and \"stretching out\" a distance of 2.98 either way to give a range of values around that sample mean. What proportion of such intervals would we expect to contain the true value $\\mu$?\n"
   ]
  },
  {
   "cell_type": "code",
   "execution_count": 9,
   "metadata": {},
   "outputs": [
    {
     "data": {
      "image/png": "[encoded data removed]",
      "text/plain": [
       "plot without title"
      ]
     },
     "metadata": {},
     "output_type": "display_data"
    }
   ],
   "source": [
    "options(repr.plot.width=5, repr.plot.height=5)\n",
    "plot(seq(-6, 6, by=.05), xaxt=\"none\",  xlab=\" \", ylab=\"Density\", \n",
    "     dnorm(seq(-6, 6, by=.05), 0, 1.52), col=\"blue\", type = \"l\")\n",
    "abline(v=0, col=\"black\")\n",
    "abline(v=c(-2.98, 2.98), col=\"green\", lty=2)\n",
    "axis(1, seq(-3, 3, by=1), labels=c(lab1, lab2, lab3, lab4, lab5, lab6, lab7))\n",
    "lines(seq(-6.17, -0.22, by=.02), rep(0.005, 298), col=\"orange\")\n",
    "lines(seq(-3.56, 2.38, by=.02), rep(0.13, 298), col=\"orange\")\n",
    "lines(seq(-0.98, 4.98, by=.02), rep(0.03, 299), col=\"orange\")\n",
    "points(c(-3.2, -0.6, 2), c(0.005, 0.13, 0.03), col = \"orange\")\n",
    "text(4.5, 0.07, \"2.5% of means\")\n",
    "text(-4.5, 0.07, \"2.5% of means\")"
   ]
  },
  {
   "cell_type": "markdown",
   "metadata": {},
   "source": [
    "The plot above makes it clear that if we created intervals for each sample mean by stretching a distance of 1.96 standard errors in either direction then most of such intervals would cross the true value $\\mu$. \n",
    "\n",
    "- For the 2.5% of sample means that lie to the right of the right-hand dashed green line (which is at 1.96 standard errors above the mean), these intervals will miss the true value $\\mu$.\n",
    "\n",
    "- For the 2.5% of sample means that lie to the left of the left-hand dashed green line (which is at 1.96 standard errors above the mean), these intervals will miss the true value $\\mu$.\n",
    "\n",
    "- Thus, 95% of the intervals constructed in such a way will include the true value $\\mu$. \n",
    "\n",
    "These intervals are called **95% confidence intervals**\n",
    "\n"
   ]
  },
  {
   "cell_type": "markdown",
   "metadata": {},
   "source": [
    "## 7.2 95% confidence intervals for the mean\n",
    "\n",
    "### 7.2.1 Example: 95% confidence interval for the mean age\n",
    "\n",
    "In the sample of 10 researchers, the estimate of the population mean age is $\\hat{\\mu} = 29.75$, the sample mean age. \n",
    "\n",
    "The 95% confidence interval is calculated as\n",
    "\n",
    "$$\n",
    "\\hat{\\mu} \\pm 1.96 \\times SE(\\hat{\\mu})\n",
    "$$\n",
    "\n",
    "Substituting in the sample mean and the standard error gives\n",
    "\n",
    "$$\n",
    "29.57 \\pm 1.96 \\times 1.52 \n",
    "$$\n",
    "\n",
    "This gives the 95% confidence interval for the population mean age: $(26.6, 32.5)$.\n",
    "\n",
    "The code below reads in the data, prints the sample mean age and then calculates the 95% confidence interval for the population mean age."
   ]
  },
  {
   "cell_type": "code",
   "execution_count": 3,
   "metadata": {},
   "outputs": [
    {
     "data": {
      "text/html": [
       "29.57"
      ],
      "text/latex": [
       "29.57"
      ],
      "text/markdown": [
       "29.57"
      ],
      "text/plain": [
       "[1] 29.57"
      ]
     },
     "metadata": {},
     "output_type": "display_data"
    },
    {
     "data": {
      "text/html": [
       "26.5908"
      ],
      "text/latex": [
       "26.5908"
      ],
      "text/markdown": [
       "26.5908"
      ],
      "text/plain": [
       "[1] 26.5908"
      ]
     },
     "metadata": {},
     "output_type": "display_data"
    },
    {
     "data": {
      "text/html": [
       "32.5492"
      ],
      "text/latex": [
       "32.5492"
      ],
      "text/markdown": [
       "32.5492"
      ],
      "text/plain": [
       "[1] 32.5492"
      ]
     },
     "metadata": {},
     "output_type": "display_data"
    }
   ],
   "source": [
    "# Our sample of data (ages for 10 sampled researchers)\n",
    "ages <- c(28.1,27.5,25,29.9,29.7,29.9,39.9,33.6,21.3,30.8)\n",
    "\n",
    "# Sample mean (estimate of the population mean)\n",
    "mean(ages)\n",
    "\n",
    "# Display the lower and upper limits of the confidence interval\n",
    "mean(ages) - 1.96*1.52\n",
    "mean(ages) + 1.96*1.52"
   ]
  },
  {
   "cell_type": "markdown",
   "metadata": {},
   "source": [
    "### 7.2.2 General 95% confidence interval for a mean\n",
    "\n",
    "For random variables $𝑋_1,...,𝑋_n$, with $𝑋_i \\overset{\\small{iid}}{\\sim} N (\\mu, \\sigma^2)$ for $i=1,...,n$ and $\\sigma$ is a known value, a 95% confidence interval for $\\mu$ is given by:\n",
    "\n",
    "$$\n",
    "\\hat{\\mu} \\pm 1.96 \\ SE(\\hat{\\mu})\n",
    "$$\n",
    "\n",
    "where the standard error of $\\hat{\\mu}$ is given by\n",
    "\n",
    "$$\n",
    "SE(\\hat{\\mu}) = \\frac{\\sigma}{\\sqrt{n}}\n",
    "$$\n",
    "\n",
    "\n",
    "The calculation of this confidence interval relies on the assumptions that\n",
    "- the original random variables follow a normal distribution\n",
    "- the value of  $\\sigma$  is known\n",
    "\n",
    "However, if these assumptions are not true, we can still obtain valid confidence intervals:\n",
    "- If the original random variables do not follow a normal distribution but the sample size is large, then the Central Limit Theorem tells us that the sampling distribution of the mean is approximately normal. So this formula for the confidence interval is still valid. \n",
    "- If $\\sigma$ is unknown (which is typically the case), there is a modified confidence interval based on the t-distribution which provides a correct interval. Essentially, we replace the number 1.96 above by a slightly larger number to compensate for the estimation of the standard deviation. For large sample sizes ($n>30$ or so), the substitution of the estimated standard deviation makes little difference. If you are interested in the details, these can be found in the optional material for this session."
   ]
  },
  {
   "cell_type": "markdown",
   "metadata": {},
   "source": [
    "## 7.3 Interpretation of confidence intervals\n",
    "\n",
    "Having calculated a confidence interval for our unknown population age, $\\mu$, how do we interpret it? \n",
    "\n",
    "### 7.3.1 Operational definition\n",
    "\n",
    "For the 95% confidence interval calculated above $(26.6, 32.5)$, it is tempting to say that the probability that $\\mu$ is between 26.6 and 32.5 is 95%. However, this is incorrect, because this  implies that $\\mu$ has a probability distribution, rather than being a fixed unknown number. Either the true value of $\\mu$ lies within the interval 26.6 to 32.5, or it does not.\n",
    "\n",
    "Strictly, the interpretation of a confidence interval has to be with respect to the process of repeated sampling: if we repeated the study an infinite number of times, 95% of the 95% confidence intervals calculated would include the true population mean $\\mu$. \n",
    "\n",
    "\n",
    "### 7.3.2 Looser interpretation (practical)\n",
    "\n",
    "The operational definition is long-winded and not always helpful for communicating results. In practice,  we often loosely interpret a 95% confidence interval by saying\n",
    "\n",
    "- that we are 95% confident that the true population mean lies within the 95% confidence interval calculated.\n",
    "- that our data are consistent with values of the population mean within the 95% confidence interval calculated"
   ]
  },
  {
   "cell_type": "markdown",
   "metadata": {},
   "source": [
    "### 7.3.3 Confidence intervals under repeated sampling\n",
    "\n",
    "In order to see how confidence intervals behave under repeated sampling, we will now randomly draw 100 different samples of 10 people. Within each sample, we calculate the sample mean and the 95% confidence interval (assuming the population value $\\sigma$ is known). \n",
    "\n",
    "We expect\n",
    "* the point estimates to cluster around the true value of $\\mu$, and fall symmetrically either side\n",
    "* 95% of the confidence intervals to include the true value\n",
    "* 2.5% of the intervals to lie entirely above the true value\n",
    "* 2.5% of the intervals to lie entirely below the true value\n"
   ]
  },
  {
   "cell_type": "code",
   "execution_count": 12,
   "metadata": {},
   "outputs": [
    {
     "data": {
      "image/png": "[encoded data removed]",
      "text/plain": [
       "Plot with title \"95% confidence intervals for the mean age\""
      ]
     },
     "metadata": {},
     "output_type": "display_data"
    }
   ],
   "source": [
    "# Population parameters\n",
    "mu <- 30\n",
    "sd <- 4.8\n",
    "n_in_study <- 10\n",
    "\n",
    "# Take 100 samples of 10 people, measure ages in each set of 10 people\n",
    "different_studies <- 100\n",
    "set.seed(1042)\n",
    "study_measurements_age <- list()\n",
    "for (i in 1:different_studies) {\n",
    "  study_measurements_age[[i]] <-  rnorm(n_in_study, mu, sd)\n",
    "}\n",
    "\n",
    "# Calculate sample means and 95% confidence intervals\n",
    "sample.means   <- sapply(study_measurements_age, mean)\n",
    "sample.cl   <- sapply(study_measurements_age, function (x) mean(x) - 1.96*1.52)\n",
    "sample.cu   <- sapply(study_measurements_age, function (x) mean(x) + 1.96*1.52)\n",
    "\n",
    "# Extract means and CIs for samples which miss the true value\n",
    "out <- ((sample.cl>30) + (sample.cu<30))\n",
    "out.means <- sample.means[out==1]\n",
    "out.cl <- sample.cl[out==1]\n",
    "out.cu <- sample.cu[out==1]\n",
    "out.samples <- seq(1,100,1)[out==1]\n",
    "\n",
    "# Graph all the sample means and CIs\n",
    "options(repr.plot.width=5, repr.plot.height=6)\n",
    "plot(sample.means, seq(1,100,1), main=\"95% confidence intervals for the mean age\", xlab=\"Mean age (years)\", ylab=\"Sample\", xlim=c(22, 38), ylim=c(0, 100), yaxt=\"none\")\n",
    "abline(v=30)\n",
    "for (i in 1:100) {\n",
    "  eval(lines(c(sample.cl[i], sample.cu[i]), c(i, i)))\n",
    "}\n",
    "\n",
    "# Highlight the CIs that miss the true value in red\n",
    "points(out.means, out.samples, col=\"red\")\n",
    "for (i in 1:length(out.samples)) {\n",
    "  eval(lines(c(out.cl[i], out.cu[i]), c(out.samples[i],out.samples[i]), col=\"red\"))\n",
    "}\n"
   ]
  },
  {
   "cell_type": "markdown",
   "metadata": {},
   "source": [
    "## 7.4 Approximate confidence intervals for parameters estimated using large samples\n",
    "\n",
    "### 7.4.1 Normal-based confidence intervals \n",
    "\n",
    "The Central Limit Theorem tells us that the mean of independent identically distributed random variables, with finite expectation and variance, tends to a normal distribution as the sample size tends to infinity. \n",
    "\n",
    "In fact, the Central Limit Theorem means that most typically encountered parameter estimators tends to normal as the sample sizes tend to infinity. So we can follow a very similar approach to the one above to construct confidence intervals for any parameter estimators that follow an approximate normal distribution when sample sizes are large, giving a confidence interval of the form\n",
    "\n",
    "$$\n",
    "\\mbox{Estimate} \\pm 1.96 \\times SE(\\mbox{Estimator})\n",
    "$$"
   ]
  },
  {
   "cell_type": "markdown",
   "metadata": {},
   "source": [
    "### 7.4.2 Some commonly used confidence intervals: Proportions and rates\n",
    "\n",
    "You will encounter many different confidence intervals during your studies. We do not aim to give you a comprehensive list. But here are a few to give you a flavour. **Please note:** We do not expect you to memorise these formulae.\n",
    "\n",
    "\n",
    "First, we need some notation.\n",
    "\n",
    "- Proportion: \n",
    "    - We are estimating a population proportion from a single observation from a binomial distribution.\n",
    "    - Our observed data consist of one observation from $X \\sim binomial(n, \\pi)$, with the realised value being $X=k$. \n",
    "- Rate: \n",
    "    - We are estimating a population rate (per person-year), from the total number of events out of $P$ person-years of observation \n",
    "    - Our observed data consist of one observation from $X \\sim Poisson(\\lambda P)$.\n",
    "    - The realised value is $X=d$.\n",
    "    - We may wish to perform our calculations on the log scale. These confidence intervals are approximate; the approximation can work better following a transformation (e.g. the log). This is one example of that approach. To do this, we need to define the log-rate, $\\nu = log(\\lambda)$\n",
    "\n",
    "\n",
    "\n",
    "\n",
    "|    |  Estimate of parameter | Standard Error | Approximate 95% Confidence Interval |\n",
    "|:---- | :-------: | :-: | :-: |\n",
    "| Proportion | $\\hat{\\pi} = \\frac{k}{n}$ | $\\sqrt{\\frac{\\pi (1-\\pi)}{n}}$ | $\\hat{\\pi} \\pm 1.96 \\times \\sqrt{\\frac{\\hat{\\pi} (1-\\hat{\\pi})}{n}}$ |\n",
    "| Rate | $\\hat{\\lambda} = \\frac{d}{P}$ | $\\frac{\\lambda}{\\sqrt{d}}$ | $\\hat{\\lambda} \\pm 1.96 \\times \\frac{\\hat{\\lambda}}{\\sqrt{d}}$ |\n",
    "| Log Rate | $\\hat{\\nu} = log\\left(\\frac{d}{P}\\right)$ | $\\sqrt{\\frac{1}{\\lambda P}}$ | $\\hat{\\nu} \\pm 1.96 \\times \\sqrt{\\frac{1}{e^{\\hat{\\nu}} P}}$ |\n",
    "\n",
    "\n",
    "Here are some examples of the calculations. \n",
    "\n",
    "- Proportion: \n",
    "    - In a clinical study of 80 patients given a particular drug, $X=20$ experience a side effect.\n",
    "    - Our estimate is $\\hat{\\pi} = 0.25$\n",
    "    - Our 95% confidence interval for the proportion is:   \n",
    "    \n",
    "    $$0.25 \\pm 1.96 \\times \\sqrt{\\frac{0.25 (1-0.25)}{80}}$$\n",
    "    \n",
    "    - This gives a range of 0.155 to 0.349. \n",
    "    - So our estimate of the proportion of patients who experience a side effect is: 0.25 (95% CI 0.155 to 0.349). Our best guess is that 25% of patients experience a side-effect from this drug. We are 95% confident that the true proportion lies between 15.5% and 34.9%. \n",
    "    \n",
    "- Rate: \n",
    "    - Suppose we observe 80 patients for 1 year, so $P=80$. In total, these patients experience $d=2$ panic attacks during the year. \n",
    "    - Our estimate of the annual rate of panic attacks per person is $\\hat{\\lambda} = 2/80 = 0.025$.\n",
    "    - Our 95% confidence interval for the rate is:   \n",
    "    \n",
    "    $$0.025 \\pm 1.96 \\times \\frac{0.025}{\\sqrt{2}}$$\n",
    "\n",
    "    - This gives a range of -0.0096 to 0.0596. This illustrates an important point - approximate confidence intervals sometimes contain impossible parameter values (the rate $\\lambda$ cannot be negative). To resolve this problem, we will re-do the calculations on the log scale.\n",
    "    \n",
    "- Logarithm of the rate:\n",
    "    - The log-rate is $\\nu = log(0.025) = -3.689$\n",
    "    - Our 95% confidence interval for the log-rate is:   \n",
    "    \n",
    "    $$-3.689 \\pm 1.96 \\times \\sqrt{\\frac{1}{0.025 \\times 80}}$$\n",
    "    \n",
    "    - This gives a range of -5.075 to -2.303. This is an interval within which we are confident the log-rate lies. To obtain an interval on the original scale, we take the exponential transformation of each of these values: ($e^{-5.075}=0.006, e^{-2.303}=0.0999$). \n",
    "    - So our estimated rate and 95% confidence interval is: 0.025 (95% CI 0.006 to 0.0999). We are 95% confident that the true rate of panic attacks per year per person lies between 0.006 and 0.0999.   \n",
    "\n"
   ]
  },
  {
   "cell_type": "markdown",
   "metadata": {},
   "source": [
    "### 7.4.2 Some commonly used confidence intervals: Mean\n",
    "\n",
    "\n",
    "- We are estimating a population mean from $n$ observations \n",
    "- Our observed data are $n$ observations, $x_1, x_2, ..., x_n$, which we assume are independent and come from the same distribution (iid)\n",
    "- We consider two possibilities:\n",
    "    - Data are normally distributed, $X_i \\sim Normal(\\mu, \\sigma^2),$ for $i=1,..,n$\n",
    "    - Data are not normally distributed, but $\\mu = E[X]$ and $\\sigma^2 = Var(X)$\n",
    "- The sample mean is $\\bar{x}$ and the sample standard deviation is $s$. \n",
    "\n",
    "\n",
    "\n",
    "|    |  Estimate of parameter | Standard Error | Approximate 95% Confidence Interval |\n",
    "|:---- | :-------: | :-: | :-: |\n",
    "| Small samples |  |  |  |\n",
    "|   - Normal distribution, known $\\sigma$ | $\\hat{\\mu} = \\bar{x}$ | $\\frac{\\sigma}{\\sqrt{n}}$ | $\\hat{\\mu} \\pm 1.96 \\times \\frac{\\sigma}{\\sqrt{n}}$ |\n",
    "|  - Normal distribution, unknown $\\sigma$ | (as above) | (as above) | $\\hat{\\mu} \\pm t_{n-1} \\times \\frac{s}{\\sqrt{n}}$ |\n",
    "| Large samples |  |  |  |\n",
    "| - Normal or not, known $\\sigma$ | (as above) | (as above) | $\\hat{\\mu} \\pm 1.96 \\times \\frac{\\sigma}{\\sqrt{n}}$ |\n",
    "| - Normal or not, unknown $\\sigma$ | (as above) | (as above) | $\\hat{\\mu} \\pm 1.96 \\times \\frac{s}{\\sqrt{n}}$ |\n",
    "\n",
    "\n",
    "where $t_{n-1}$ is a number obtained from the t-distribution, which is similar to the standard normal distribution. This number is around 2 for small $n$ and becomes very close to $1.96$ for large samples. \n",
    "\n",
    "For small samples, where the data are not normally distributed, the confidence interval often has reasonable performance, but other methods (e.g. bootstrap confidence intervals) may be advisable.\n"
   ]
  },
  {
   "cell_type": "markdown",
   "metadata": {},
   "source": [
    "### 7.4.3 Some commonly used confidence intervals: Comparing two groups\n",
    "\n",
    "There are many ways of comparing outcomes between two groups. Two popular options are the difference in proportions for binary outcomes and the difference in means for continuous outcomes. Confidence intervals for other measures (e.g. the risk ratio, the odds ratio, the difference in medians, etc.) can be obtained.  \n",
    "\n",
    "- Difference in proportions: \n",
    "    - We are estimating a population difference in proportions from two observations from two binomial distributions.\n",
    "    - Our observed data consist of two observations from $X_1 \\sim binomial(n_1, \\pi_1)$, with the realised values being $X_1=k_1$ and $X_2 = k_2$. \n",
    "    - We want to estimate the difference $\\delta = \\pi_1 - \\pi_2$\n",
    "    \n",
    "    \n",
    "|    |  Estimate of parameter | Formula for the Standard Error  | Approximate 95% Confidence Interval |\n",
    "| :-------:   | :-------: | :-: | :-: |\n",
    "| $\\hat{\\pi}_1 = \\frac{k_1}{n_1}, \\hat{\\pi}_2 = \\frac{k_2}{n_2}$  | $\\hat{\\delta} = \\hat{\\pi}_1 - \\hat{\\pi}_2$ | $\\sqrt{\\frac{\\pi_1 (1-\\pi_1)}{n_1} + \\frac{\\pi_2 (1-\\pi_2)}{n_2}}$ | $\\hat{\\delta} \\pm 1.96 \\times \\sqrt{\\frac{\\hat{\\pi}_1 (1-\\hat{\\pi}_1)}{n_1} + \\frac{\\hat{\\pi}_2 (1-\\hat{\\pi}_2)}{n_2}}$ |\n",
    "\n",
    "\n",
    "\n",
    "- Difference in means: \n",
    "    - We are estimating the difference in population means between two groups from $n_1$ iid observations from a normal distribution from group 1 and $n_2$ from group 2.\n",
    "    - Our observed data are $n_1$ observations drawn from $X_i \\sim Normal(\\mu_1, \\sigma^2),$ for $i=1,..,n_1$ and $n_2$ observations drawn from $X_i \\sim Normal(\\mu_2, \\sigma^2),$ for $i=1,..,n_2$\n",
    "    - The sample means are $\\bar{x}_1$ and $\\bar{x}_2$ and the sample standard deviations are $s_1$ and $s_2$. \n",
    "    - We want to estimate the difference $\\delta = \\mu_1 - \\mu_2$\n",
    "  \n",
    "We can obtain a pooled estimate of the standard deviation, if we're happy to assume that these are equal, as follows\n",
    "\n",
    "$$ s = \\sqrt{\\frac{(n_1 - 1) s_1^2 + (n_2 - 1) s_1^2 }{n_1 + n_2 - 2}}$$\n",
    "\n",
    "\n",
    "|    |    |  Estimate of parameter | Standard Error | Approximate 95% Confidence Interval |\n",
    "|:---- |:---: | :-------: | :-: | :-: |\n",
    "| Small samples   |   |  |   |   |\n",
    "| - Normal distribution, known $\\sigma$  | $\\hat{\\mu}_1 = \\bar{x}_1, \\hat{\\mu}_2 = \\bar{x}_2$ | $\\hat{\\delta} = \\hat{\\mu}_1 - \\hat{\\mu}_2$ | $\\sigma \\sqrt{\\frac{1}{n_1} + \\frac{1}{n_2}}$ | $\\hat{\\mu} \\pm 1.96 \\times \\sigma \\sqrt{\\frac{1}{n_1} + \\frac{1}{n_2}}$ |\n",
    "| - Normal distribution, unknown $\\sigma$   | (as above) | (as above) | (as above) | $\\hat{\\mu} \\pm t_{n_1+n_2-2} \\times s \\sqrt{\\frac{1}{n_1} + \\frac{1}{n_2}}$ |\n",
    "| Large samples    |   |  |   |   |\n",
    "| - Normal or not, known $\\sigma$   | (as above) | (as above) | (as above) | $\\hat{\\mu} \\pm 1.96 \\times s \\sqrt{\\frac{1}{n_1} + \\frac{1}{n_2}}$ |\n",
    "| - Normal or not, unknown $\\sigma$   | (as above) | (as above) | (as above) | $\\hat{\\mu} \\pm 1.96 \\times s \\sqrt{\\frac{1}{n_1} + \\frac{1}{n_2}}$ |\n",
    "\n",
    "where $t_{n_1+n_2-2}$ is a number obtained from the t-distribution with $n_1 + n_2 - 2$ degrees of freedom. This will give a number that takes a value of around 2 for smaller samples and approximately 1.96 for larger samples. \n",
    "\n",
    "Modified intervals that do not assume equality of standard deviation in the two groups also exist.\n"
   ]
  },
  {
   "cell_type": "markdown",
   "metadata": {},
   "source": [
    "## 7.5 Confidence Intervals using resampling\n",
    "\n",
    "We saw that we can often create an approximate sampling distribution by resampling from our sample data. This is particularly useful in situations where there is no algebraic derivation for the sampling distribution. \n",
    "\n",
    "We have seen that the important connection between sampling distributions and confidence intervals. So we would intuitively expect to be able to construct a confidence interval from the approximate sampling distribution we obtained using resampling. This is indeed possible. There are many ways of doing this, but the simplest and most intuitive method is the **bootstrap percentile confidence interval**. \n",
    "\n",
    "The basic idea is very simple. We construct an approximate sampling distribution using bootstrap samples, as we did previously. Then we take the 2.5th and 97.5th percentiles of that distribution (the value such that 2.5% of the observations - the estimates across bootstrap samples - lie below the value; and the value such that 2.5% of observations lie above the value, respectively). These form the limits of our 95% confidence interval. "
   ]
  },
  {
   "cell_type": "code",
   "execution_count": 6,
   "metadata": {},
   "outputs": [
    {
     "data": {
      "text/html": [
       "<dl class=dl-horizontal>\n",
       "\t<dt>2.5%</dt>\n",
       "\t\t<dd>26.798</dd>\n",
       "\t<dt>97.5%</dt>\n",
       "\t\t<dd>32.501</dd>\n",
       "</dl>\n"
      ],
      "text/latex": [
       "\\begin{description*}\n",
       "\\item[2.5\\textbackslash{}\\%] 26.798\n",
       "\\item[97.5\\textbackslash{}\\%] 32.501\n",
       "\\end{description*}\n"
      ],
      "text/markdown": [
       "2.5%\n",
       ":   26.79897.5%\n",
       ":   32.501\n",
       "\n"
      ],
      "text/plain": [
       "  2.5%  97.5% \n",
       "26.798 32.501 "
      ]
     },
     "metadata": {},
     "output_type": "display_data"
    },
    {
     "data": {
      "image/png": "[encoded data removed]",
      "text/plain": [
       "Plot with title \"Sampling distribution for mean \n",
       " with percentile 95% confidence limits\""
      ]
     },
     "metadata": {},
     "output_type": "display_data"
    }
   ],
   "source": [
    "set.seed(78234) \n",
    "\n",
    "# Read in the sample of 10 ages\n",
    "ages <- c(28.1,27.5,25,29.9,29.7,29.9,39.9,33.6,21.3,30.8)\n",
    "\n",
    "# Draw bootstrap samples \n",
    "bootstrap_samples <- lapply(1:1039, function(i) sample(ages, replace = T))\n",
    "\n",
    "# Calculate sample means in each bootstrap sample\n",
    "r.mean <- sapply(bootstrap_samples, mean)\n",
    "\n",
    "# Obtain the 2.5th and 97.5th percentiles of the sample means across bootstrap samples\n",
    "(q<-quantile(r.mean, c(0.025, 0.975)))\n",
    "         \n",
    "# Draw the approximate sampling distribution with the percentile confidence limits marked in red\n",
    "options(repr.plot.width=4.5, repr.plot.height=4.5)\n",
    "hist(r.mean, freq=FALSE, main=\"Sampling distribution for mean \\n with percentile 95% confidence limits\", xlab=\"Sample mean\")\n",
    "abline(v=q, col=\"red\")\n"
   ]
  },
  {
   "cell_type": "markdown",
   "metadata": {},
   "source": [
    "The approximate 95% confidence interval for the mean age obtained by using the algebric approximation to the sampling distribution was: 26.6 to 32.5. The bootstrap percentile 95% confidence interval is: 26.8 to 32.5. We see that these intervals are very similar to one another, as we would expect. "
   ]
  },
  {
   "cell_type": "markdown",
   "metadata": {},
   "source": [
    "## Summary: Use of confidence intervals\n",
    "\n",
    "In this session we have discussed confidence intervals for a population mean. However, we can construct a confidence interval for any estimate. We calculate confidence intervals for many estimates, including:\n",
    "\n",
    "- means\n",
    "- proportions\n",
    "- differences in means\n",
    "- risk ratios\n",
    "- regression coefficients\n",
    "- etc. \n",
    "\n",
    "The basic idea remains the same.\n",
    "\n",
    "While we have focused on 95% confidence intervals, we can construct other intervals, e.g. 99% confidence intervals. The use of 95% confidence intervals is largely convention."
   ]
  },
  {
   "cell_type": "markdown",
   "metadata": {},
   "source": [
    "## Further reading\n",
    "\n",
    "Ashley I Naimi, Brian W Whitcomb, Can Confidence Intervals Be Interpreted?, American Journal of Epidemiology, Volume 189, Issue 7, July 2020, Pages 631–633, https://doi.org/10.1093/aje/kwaa004\n"
   ]
  },
  {
   "cell_type": "code",
   "execution_count": null,
   "metadata": {},
   "outputs": [],
   "source": []
  }
 ],
 "metadata": {
  "kernelspec": {
   "display_name": "R",
   "language": "R",
   "name": "ir"
  },
  "language_info": {
   "codemirror_mode": "r",
   "file_extension": ".r",
   "mimetype": "text/x-r-source",
   "name": "R",
   "pygments_lexer": "r",
   "version": "3.6.1"
  }
 },
 "nbformat": 4,
 "nbformat_minor": 4
}
