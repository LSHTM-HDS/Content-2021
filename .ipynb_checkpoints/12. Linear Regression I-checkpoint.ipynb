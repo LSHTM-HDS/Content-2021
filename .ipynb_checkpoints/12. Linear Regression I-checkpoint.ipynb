{
 "cells": [
  {
   "cell_type": "markdown",
   "metadata": {},
   "source": [
    "# 12. Linear Regression I\n",
    "\n",
    "\n",
    "\n",
    "Thank you to Jennifer Nicholas and Chris Frost whose notes on linear regression were particularly useful in the development of the current lesson. \n",
    "\n",
    "\n",
    "## 12.1  Intended Learning Outcomes:\n",
    "\n",
    "By the end of this chapter, you will be able to: \n",
    "\n",
    "1.  Explain, in general, the rationale behind parametric statistical models\n",
    "2.\tFit and interpret a linear regression model\n",
    "3.\tDescribe the main properties of ordinary least squares estimators\n",
    "4.\tPerform and interpret an analysis of variance. \n",
    "\n"
   ]
  },
  {
   "cell_type": "markdown",
   "metadata": {},
   "source": [
    "<div class=\"alert alert-block alert-warning\">\n",
    "<b> Intended learning outcomes</b> \n",
    "    \n",
    "By the end of this session you should be able to:  \n",
    "* Explain, in general, the rationale behind parametric statistical models\n",
    "* Fit and interpret a linear regression model\n",
    "* Describe the main properties of ordinary least squares estimators\n",
    "* Perform and interpret an analysis of variance. \n",
    "</div>\n"
   ]
  },
  {
   "cell_type": "markdown",
   "metadata": {},
   "source": [
    "## 12.2 Introduction\n",
    "\n",
    "A parametric statistical model is an algebraic description of how one or more **outcome** variables are influenced by **covariates**. Such models are widely used in medical research. Some examples of questions that we can investigate using statistical models include:\n",
    "\n",
    "   + Does birthweight increase with length of pregnancy?\n",
    "   + Does taking drug A reduce inflammation more than taking drug B in patients with arthritis?\n",
    "   + Can we predict the risk of heart disease for our patients? \n",
    "    \n",
    "In the above examples, the outcome variables are birthweight, inflammation and heart disease. In the first two examples, the length of pregnancy and drug use are covariates. In the third example, no covariates are explicitly mentioned. However, when answering the third question, researchers may want to consider a range of patient characteristics that are associated with the risk of heart disease as covariates in their model, for example: diet, exercise, comorbodities, medications etc.  \n",
    "\n",
    "Statistical models contain **population parameters** and representations of **uncertainty**. The population parameters are unknown quantities that we want to estimate from our sample and the uncertainty is a measure of the variability in the outcome variable that is not explained by the covariates. \n",
    "\n",
    "This is the first of two lessons on linear regression. In this lesson, we will learn how to define linear regression models, how to estimate their population parameters and how to estimate measures of uncertainty. We begin by introducing the **simple linear regression model** (Section 3) which includes one outcome and one covariate. We then introduce the **multivariable linear regression model** (Section 4) which is an extension of the simple linear regression model to situations with multiple covariates. In the final part of this lesson, we learn how to conduct an **analysis of variance** of statistical models (Section 5). In the next lesson we will discuss how statistical models can be used in the different types of investigation that were discussed last week, and how the type of investigation influences the presentation and interpretation of results obtained using statistical models. \n",
    "\n",
    "Before delving in, it is worth making a note of the different terminologies that you may come across in the medical literature. Here, I have already used the terms: outcome and covariates. Table 1 summarises alternatives terms that may be used to describe the same concepts. \n",
    "\n",
    "Outcome            | Covariates\n",
    "-------------------| ---------\n",
    "$Y$-variable       | $x$-variables\n",
    "Dependent variable | Independent variable\n",
    "Response variable  | Regressors\n",
    "Output variable    | Input variables\n",
    "                   | Explanatory variables\n",
    "                   | Predictor variables\n",
    "\n",
    "Table 1: Different terminology used for outcome and covariates\n",
    "\n",
    "Finally, it is important to understand that statistical models make **assumptions** about the form of relationships between outcomes and covariates. Although we can examine our data to investigate the validity of these assumptions (using methods covered in the next lesson), we can never be certain that the model is correct. \n",
    "\n",
    "\n",
    "\n",
    "### 12.2.1 Data used in our examples \n",
    "\n",
    "For our examples we will use data on babies and their mothers. The data contains a random sample of 1,174 mothers and their newborn babies. The column Birth Weight contains the birth weight of the baby, in ounces; Gestational Days is the number of gestational days, that is, the number of days the baby was in the womb. There is also data on maternal age, maternal height, maternal pregnancy weight, and whether or not the mother was a smoker. \n",
    "\n",
    "The following code can be used to download and look at the data:\n"
   ]
  },
  {
   "cell_type": "code",
   "execution_count": 1,
   "metadata": {
    "scrolled": true
   },
   "outputs": [
    {
     "data": {
      "text/html": [
       "<table>\n",
       "<thead><tr><th scope=col>Birth.Weight</th><th scope=col>Gestational.Days</th><th scope=col>Maternal.Age</th><th scope=col>Maternal.Height</th><th scope=col>Maternal.Pregnancy.Weight</th><th scope=col>Maternal.Smoker</th></tr></thead>\n",
       "<tbody>\n",
       "\t<tr><td>120  </td><td>284  </td><td>27   </td><td>62   </td><td>100  </td><td>False</td></tr>\n",
       "\t<tr><td>113  </td><td>282  </td><td>33   </td><td>64   </td><td>135  </td><td>False</td></tr>\n",
       "\t<tr><td>128  </td><td>279  </td><td>28   </td><td>64   </td><td>115  </td><td>True </td></tr>\n",
       "\t<tr><td>108  </td><td>282  </td><td>23   </td><td>67   </td><td>125  </td><td>True </td></tr>\n",
       "\t<tr><td>136  </td><td>286  </td><td>25   </td><td>62   </td><td> 93  </td><td>False</td></tr>\n",
       "\t<tr><td>138  </td><td>244  </td><td>33   </td><td>62   </td><td>178  </td><td>False</td></tr>\n",
       "</tbody>\n",
       "</table>\n"
      ],
      "text/latex": [
       "\\begin{tabular}{r|llllll}\n",
       " Birth.Weight & Gestational.Days & Maternal.Age & Maternal.Height & Maternal.Pregnancy.Weight & Maternal.Smoker\\\\\n",
       "\\hline\n",
       "\t 120   & 284   & 27    & 62    & 100   & False\\\\\n",
       "\t 113   & 282   & 33    & 64    & 135   & False\\\\\n",
       "\t 128   & 279   & 28    & 64    & 115   & True \\\\\n",
       "\t 108   & 282   & 23    & 67    & 125   & True \\\\\n",
       "\t 136   & 286   & 25    & 62    &  93   & False\\\\\n",
       "\t 138   & 244   & 33    & 62    & 178   & False\\\\\n",
       "\\end{tabular}\n"
      ],
      "text/markdown": [
       "\n",
       "| Birth.Weight | Gestational.Days | Maternal.Age | Maternal.Height | Maternal.Pregnancy.Weight | Maternal.Smoker |\n",
       "|---|---|---|---|---|---|\n",
       "| 120   | 284   | 27    | 62    | 100   | False |\n",
       "| 113   | 282   | 33    | 64    | 135   | False |\n",
       "| 128   | 279   | 28    | 64    | 115   | True  |\n",
       "| 108   | 282   | 23    | 67    | 125   | True  |\n",
       "| 136   | 286   | 25    | 62    |  93   | False |\n",
       "| 138   | 244   | 33    | 62    | 178   | False |\n",
       "\n"
      ],
      "text/plain": [
       "  Birth.Weight Gestational.Days Maternal.Age Maternal.Height\n",
       "1 120          284              27           62             \n",
       "2 113          282              33           64             \n",
       "3 128          279              28           64             \n",
       "4 108          282              23           67             \n",
       "5 136          286              25           62             \n",
       "6 138          244              33           62             \n",
       "  Maternal.Pregnancy.Weight Maternal.Smoker\n",
       "1 100                       False          \n",
       "2 135                       False          \n",
       "3 115                       True           \n",
       "4 125                       True           \n",
       "5  93                       False          \n",
       "6 178                       False          "
      ]
     },
     "metadata": {},
     "output_type": "display_data"
    }
   ],
   "source": [
    "#Load data\n",
    "data<- read.csv('https://www.inferentialthinking.com/data/baby.csv')\n",
    "\n",
    "#Look at the first 10 rows of the data\n",
    "head(data)\n"
   ]
  },
  {
   "cell_type": "markdown",
   "metadata": {},
   "source": [
    "## 12.3 Simple linear regression model\n",
    "\n",
    "The simple linear regression model is used to model the relationship between one single variable ($X$) and a single outcome ($Y$). For example, suppose we are interested in investigating the following relationships in our birthweight data: \n",
    "\n",
    "1. Association between the length of pregnancy (i.e. number of gestational days) and birthweight.\n",
    "2. Association between mother's smoking status and birthweight.\n",
    "\n",
    "An important first step in an analysis is to summarise and display the data. Below is a scatterplot and boxplot displaying the relevant data for Examples 1 and 2 respectively. \n"
   ]
  },
  {
   "cell_type": "code",
   "execution_count": 2,
   "metadata": {},
   "outputs": [
    {
     "data": {
      "image/png": "[encoded data removed]",
      "text/plain": [
       "Plot with title \"Example 2\""
      ]
     },
     "metadata": {},
     "output_type": "display_data"
    }
   ],
   "source": [
    "# Set the plot area into a 1x2 array\n",
    "par(mfrow=c(1,2))\n",
    "\n",
    "#Example 1: Scatter Plot\n",
    "plot(data$Birth.Weight, data$Gestational.Days,  main=\"Example 1\", \n",
    "     xlab=\"Gestational Days\", ylab=\"Birthweight (oz)\", pch=19)\n",
    "\n",
    "#Example 2: Box plot\n",
    "boxplot(data$Birth.Weight~data$Maternal.Smoker, main=\"Example 2\", xlab=\"Mother smokes\", ylab=\"Birthweight (oz)\")\n"
   ]
  },
  {
   "cell_type": "markdown",
   "metadata": {},
   "source": [
    "*Example 1:* Birthweight and gestational days appear to be highly correlated, where an increase in gestational days is associated with increased birthweight. \n",
    "\n",
    "*Example 2:* It appears that mother's who do not smoke give birth to heavier babies, on average, than mothers who do smoke.\n",
    "\n",
    "Before defining a regression model, we have to decide which is the independent variable and which is the outcome (i.e. the dependent variable). In this context, it is natural to consider birthweight as the outcome: conceptually, it makes little sense to investigate how birthweight influences length of pregnancy or the mother's smoking status.  However, it is not necessarily always as straightforward. Suppose we were investigating the association between age and weight. It is possible that we might be interested in age as a predictor of weight, or in weight as a predictor of age. The aim of the analysis will guide the choice of outcome. \n",
    "\n",
    "While the outcome is the same in our two examples, an important difference is the type of independent variable. In Example 1, the independent variable (length of pregnancy) is a continuous variable, whereas in Example 2, the independent variable (mother's smoking status) is binary (yes or no). Using these examples, we will later see how the two different types of variables are modelled differently in linear regression. \n",
    "\n",
    "### 12.3.1 The simple linear regression model \n",
    "\n",
    "The equation for the simple linear regression model, relating $X$ and $Y$ is:\n",
    "\n",
    "$$Y = \\beta_0 + \\beta_1 X + \\epsilon $$\n",
    "\n",
    "There are two components of this model: the **linear predictor** and the **error term**. The linear predictor represents the variation in $Y$ that can be predicted using the model: $\\beta_0 + \\beta_1 X$. The error term, denoted by $\\epsilon$, represents the variation in $Y$ that cannot be predicted. This variation is sometimes referred to as the **random error** or **noise**.\n",
    "\n",
    "The subsequent two sections take a closer look at the linear predictor and error term, respectively. \n",
    "\n",
    "#### 12.3.1.1 The linear predictor\n",
    "\n",
    "The linear predictor is the algebraic relationship between the mean of the outcome and the independent variable. When $X$ takes a particular value, $X=x$, the value of the linear predictor, $\\beta_0+\\beta_1x$, is interpreted as the expected value of $Y$ when $X$ takes the value $x$:\n",
    "\n",
    "$$E(Y|X=x) = \\beta_0 + \\beta_1 x$$.\n",
    "\n",
    "This value ($E(Y|X=x)$) is known as the **fitted**  (or **predicted**) value of $Y$ and is often denoted by $\\hat{Y}$ (pronounced \"Y hat\").\n",
    "\n",
    "The specification of the linear predictor has two parameters: $\\beta_0$ and $\\beta_1$. These are interpreted as follows:\n",
    "\n",
    "+ $\\beta_0$ is the intercept. It is the expectation of $Y$ when $X$ takes the value 0.\n",
    "+ $\\beta_1$ is the slope (or gradient). It is the expected change in $Y$ per one unit increase in $X$. \n",
    "\n",
    "It is worth emphasising that this model assumes that **the relationship between $X$ and $Y$ is linear** (hence the name *linear* regression!). It is important to note that it is possible to have more complex relationships between variables that do not meet this assumption (see examples in the plots below), in which case simple linear regression would not be an appropriate method to use.\n"
   ]
  },
  {
   "cell_type": "code",
   "execution_count": 3,
   "metadata": {},
   "outputs": [
    {
     "data": {
      "image/png": "[encoded data removed]",
      "text/plain": [
       "Plot with title \"Non-linear Association\""
      ]
     },
     "metadata": {},
     "output_type": "display_data"
    }
   ],
   "source": [
    "### Set random number generator\n",
    "set.seed(24082098)\n",
    "\n",
    "#Set graphical display to show 2 plots in a row\n",
    "par(mfrow=c(1,2))\n",
    "\n",
    "#Simulate a linear X-Y relationship and plot\n",
    "x<-rnorm(100,0,1)\n",
    "ylin<-x+rnorm(100,0,0.5)\n",
    "plot(x,ylin,xaxt=\"n\", yaxt=\"n\", xlab=\" \", ylab=\" \", main=\"Linear Association\")\n",
    "title(ylab=\"Y\", line=0, cex.lab=1.2)\n",
    "title(xlab=\"X\", line=0, cex.lab=1.2)\n",
    "\n",
    "#Simulate a non-linear X-Y relationship and plot\n",
    "ynonlin<-exp(x)+rnorm(100,0,0.5)\n",
    "plot(x,ynonlin, xlim=c(-0.5,3), yaxt=\"n\", xaxt=\"n\", xlab=\" \", ylab=\" \", main=\"Non-linear Association\")\n",
    "title(ylab=\"Y\", line=0, cex.lab=1.2)\n",
    "title(xlab=\"X\", line=0, cex.lab=1.2)"
   ]
  },
  {
   "cell_type": "markdown",
   "metadata": {},
   "source": [
    "#### 12.3.1.2 The error term \n",
    "\n",
    "As previously stated, the error term, $\\epsilon$ represents the variance in $Y$ that cannot be predicted by the model. $\\epsilon$ is a vector of length $n$  (where $n$ is the sample size), where the individual values are known as **residuals** and are equal to the differences between the observed $y$ and their fitted values from the model ($\\beta_0 + \\beta_1x$). \n",
    "\n",
    "We assume that $\\epsilon$ has a normal distribution with mean 0 and variance $\\sigma^2$, where $\\sigma^2$ is termed the **residual variance** (i.e. the variance of the residuals):\n",
    "\n",
    "$$\\epsilon \\sim N(0,\\sigma^2)$$\n",
    "\n",
    "**N.B.** The true residual is equal to the difference between the observed value $y$ and its value as predicted from the true model ($\\beta_0+\\beta_1x$). Note that these true residuals are defined in terms of deviations from the model defined by population parameters. The term residual is also used to define deviations from a fitted regression model (i.e. a model in which $\\beta_0$ and $\\beta_1$ are replaced by the estimates). The terms **true** residual and **observed** (or **fitted** or **estimated**) residual can be used when we need to make this distinction clear. However, for the remainder of this lesson, this term \"residuals\" is used to refer to observed residuals.\n",
    "\n",
    "#### 12.3.1.3 Different ways of expressing the simple linear regression model\n",
    "\n",
    "Suppose we have a sample size of $n$ and we let $y_i$ and $x_i$ $(i=1,...,n)$ denote the observed outcome and value of $X$ for the $i^{th}$ observation, respectively. Then, we can write the simple linear regression model as: \n",
    "\n",
    "$$y_i = \\beta_0 + \\beta_1 x_{i}+ \\epsilon_i \\text{ where } \\epsilon_i \\sim NID(0, \\sigma^2).$$ \n",
    "\n",
    "Here $NID$ stands for \"Normally and Independently Distributed\". A key assumption of linear regression model is that all of the observations are independent. \n",
    "\n",
    "This relationship can also be expressed using matrix algebra:\n",
    "\n",
    "$$\\mathbf{Y}=\\mathbf{X}\\mathbf{\\beta}+\\mathbf{\\epsilon} \\text{ where }\\epsilon \\sim N(0,\\mathbf{I}\\sigma^2)$$\n",
    "\n",
    "$$\\begin{vmatrix}y_1\\\\y_2 \\\\. \\\\. \\\\. \\\\y_n \\end{vmatrix}=\\begin{vmatrix}1 & x_1 \\\\ 1 & x_2 \\\\1 & . \\\\1 & .  \\\\ 1& . \\\\1 & x_n \\end{vmatrix}\\begin{vmatrix} \\beta_0 \\\\ \\beta_1 \\end{vmatrix}+\\begin{vmatrix}\\epsilon_1\\\\ \\epsilon_2 \\\\ . \\\\ . \\\\. \\\\ \\epsilon_n \\end{vmatrix} $$\n",
    "\n",
    "In this formulation, $\\mathbf{X}$ is an $n \\times 2$ matrix, $Y$ and $\\epsilon$ are vectors of length $n$ whilst $\\beta$ is a vector of length 2. \n",
    "\n",
    "#### 12.3.1.4 Assumptions\n",
    "It is worth emphasising the four key assumptions that we have made in the simple linear regression model:\n",
    "\n",
    "1. **Linearity**: The relationship between $X$ and the mean of $Y$ is linear.\n",
    "2. **Normality**: The residuals are normally distributed. \n",
    "3. **Homoscedasticity**: The variance of residuals are constant across all values of $X$.\n",
    "4. **Independence**: All observations are independent of each other.\n",
    "\n",
    "It is important to bear these assumptions in mind when conducting a linear regression analysis. In the next lesson we will discuss diagnostic tools that can be used to test the validity of these assumptions. \n",
    "\n",
    "### 12.3.2 Estimation of the population parameters. \n",
    "\n",
    "In the specification of the simple linear regression model there are three population parameters ($\\beta_0$, $\\beta_1$, and $\\sigma$). Since we do not know these parameters, we need to estimate them based on a sample from our population. We will use the symbols $\\hat{\\beta}_0$ $\\hat{\\beta}_1$, and $\\hat{\\sigma}$ to represent the sample estimates of the true population parameters. \n",
    "\n",
    "There are many different methods available for obtaining estimates of the parameters $\\beta_0$ and $\\beta_1$. In this section, we focus on an approach that works by minimising the amount of error in the model. These estimates are called the **ordinary least squares estimates** (the reason for this name will become clear in the next section). \n",
    "\n",
    "#### 12.3.2.1 Ordinary least squares estimates\n",
    "\n",
    "The ordinary least square (OLS) estimates are those which minimise the sum of squared deviations from the fitted regression line. Since the residuals, $\\epsilon$, measure deviations from the fitted regression line, the sum is denoted by $SS_{RES}$ (\"$SS$\" stands for Sum of Squares and \"$RES$\" is shorthand for RESiduals). Formally, the OLS estimators are the values of $\\hat{\\beta_0}$ and $\\hat{\\beta_1}$ that minimise: \n",
    "\n",
    "$$SS_{RES} = \\sum_{i=1}^n \\hat{\\epsilon_i}^2 = \\sum_{i=1}^n (y_i - \\hat{\\beta_0} -\\hat{\\beta_1}x_i)^2.$$\n",
    "\n",
    "The ordinary least squares estimates of $\\beta_0$ and $\\beta_1$ are given by the following:\n",
    "\n",
    "\\begin{align}\n",
    "\\hat{\\beta_0} &= \\bar{y} - \\hat{\\beta_1}\\bar{x} \\\\\n",
    "\\hat{\\beta_1} &= \\frac{\\sum_{i=1}^n (x_i-\\bar{x})(y_i-\\bar{y})}{\\sum_{i=1}^n (x_i-\\bar{x})^2}\n",
    "\\end{align}\n",
    "\n",
    "where $\\bar{y}=\\frac{\\sum_{i=1}^n y_i}{n}$ and $\\bar{x} = \\frac{\\sum_{i=1}^n x_i}{n}$. A proof of this result is given at the end of this lesson.\n",
    "\n",
    "\n",
    "#### 12.3.2.2 Estimation of the residual variance\n",
    "\n",
    "The residual variance, $\\sigma^2$, is equal to the mean squared size of the residuals. So, an intuitively appealing estimator of $\\sigma^2$ is given by dividing the residual sum of squares by the number of observations: \n",
    "\n",
    "$$\\hat{\\sigma^2} = \\sum_{i=1}^n \\frac{\\epsilon_i^2}{n} = \\sum_{i=1}^n (y_i-\\hat{\\beta_0}-\\hat{\\beta_1}x_i)^2/n$$\n",
    "\n",
    "However, this is a biased estimator. The bias arises because the observed values tend, on average, to lie closer to the fitted line (defined by $\\hat{\\beta_0}$ and $\\hat{\\beta_1}$) than they do to the true regression line (defined by $\\beta_0$ and $\\beta_1$). This is an exact parallel to the way the variablility of a sample around its mean underestimates the variability around the population mean. \n",
    "\n",
    "It can be shown that an unbiased estimator of the residual variance in the simple linear regression model is given by:\n",
    "\n",
    "$$\\hat{\\sigma^2}  = \\sum_{i=1}^n \\frac{\\hat{\\epsilon_i}^2}{n-1}=\\sum_{i=1}^n (y_i-\\hat{\\beta_0}-\\hat{\\beta_1}x_i)^2/(n-2)$$\n",
    "\n",
    "This quantity is referred to as the residual mean square. It is often denoted by $MS_{RES}$, where \"$MS$\" stands for Mean Square and \"$RES$\" is shorthand for residual. The denominator is $(n-2)$ because fitting the model first requires the estimation of two parameters ($\\beta_0$ and $\\beta_1$) and the estimation of these parameters is said to reduce the information about the variance by two degrees of freedom.\n",
    "\n",
    "#### 12.3.2.3 Maximum likelihood estimation \n",
    "\n",
    "An alternative approach to estimating the model parameters is maximum likelihood estimation. This approach selects the estimates which maximise the likelihood (or equivalently, the log-likelihood) of the parameter values. It can be shown that the ordinary least square estimates for $\\beta_0$ and $\\beta_1$ are also the maximum likelihood estimates (a proof of this result is at the end of the lesson).  \n",
    "\n",
    "The maximum likelihood estimate of $\\sigma^2$ is equal to the biased estimate given above, obtained by dividing the residual sum of squares by the number of observations. \n",
    "\n",
    "#### 12.3.2.4 Properties of $\\hat{\\beta}_1$\n",
    "\n",
    " 1. The parameter estimator for $\\beta_1$ can also be written as the ratio of the covariance between the independent variable and the outcome to the variance of the independent variable:\n",
    "\n",
    "$$\\hat{\\beta_1} = \\frac{cov(X,Y)}{SD(X)^2}$$\n",
    "\n",
    "2. If we use the notation $\\hat{\\beta}_{y|x}$ to denote the estimate of the slope from a simple linear regression model with predictor variable $X$ and outcome variable $Y$, it follows from the above result that: \n",
    "\n",
    "$$\\hat{\\beta}_{y|x}=\\frac{cov(X,Y)}{SD(X)^2}$$ \n",
    "\n",
    "and \n",
    "\n",
    "$$\\hat{\\beta}_{x|y}=\\frac{cov(X,Y)}{SD(Y)^2}$$. \n",
    "\n",
    "Hence, \n",
    "\n",
    "$$\\hat{\\beta}_{y|x}\\hat{\\beta}_{x|y} = r^2_{x,y}$$\n",
    "\n",
    "Where $r_{x,y}$ is the correlation coefficient between $X$ and $Y$.\n",
    "\n",
    "\n",
    "\n",
    "\n",
    "### 12.3.3 Examples\n",
    "\n",
    "We now consider how estimates of the population parameters can be obtained in R using our two examples. Recall we are interested in investigating (1) the association between birthweight and length of pregnancy and (2) birthweight and mother's smoking status. \n",
    "\n",
    "In both examples, birthweight is the outcome. In Example 1, the independent variable is length of pregnancy, $L$ (i.e. number of gestational days) and in Example 2, the independent variable is an indicator variable for whether or not the mother smokes, $S$. \n",
    "\n",
    "We will use the ```lm()``` to perform simple linear regressions in R. Click [here](https://www.rdocumentation.org/packages/stats/versions/3.6.2/topics/lm) for details of how this command works. \n",
    "\n",
    "#### 12.3.3.1 Example 1\n",
    "\n",
    "The following model defines our assumed relationship between the length of pregnancy ($L$) and a baby's birthweight ($Y$): \n",
    "\n",
    "$$ \\text{Model 1: }y_i = \\beta_0 + \\beta_1 l_i +  \\epsilon_i $$\n",
    "\n",
    "The following code can be used to perform this linear regression in R: "
   ]
  },
  {
   "cell_type": "code",
   "execution_count": 4,
   "metadata": {},
   "outputs": [
    {
     "data": {
      "text/plain": [
       "\n",
       "Call:\n",
       "lm(formula = Birth.Weight ~ Gestational.Days, data = data)\n",
       "\n",
       "Residuals:\n",
       "    Min      1Q  Median      3Q     Max \n",
       "-49.348 -11.065   0.218  10.101  57.704 \n",
       "\n",
       "Coefficients:\n",
       "                  Estimate Std. Error t value Pr(>|t|)    \n",
       "(Intercept)      -10.75414    8.53693   -1.26    0.208    \n",
       "Gestational.Days   0.46656    0.03054   15.28   <2e-16 ***\n",
       "---\n",
       "Signif. codes:  0 '***' 0.001 '**' 0.01 '*' 0.05 '.' 0.1 ' ' 1\n",
       "\n",
       "Residual standard error: 16.74 on 1172 degrees of freedom\n",
       "Multiple R-squared:  0.1661,\tAdjusted R-squared:  0.1654 \n",
       "F-statistic: 233.4 on 1 and 1172 DF,  p-value: < 2.2e-16\n"
      ]
     },
     "metadata": {},
     "output_type": "display_data"
    }
   ],
   "source": [
    "#Example 1: Investigating the relationship between birthweight and length of pregancy\n",
    "model1<-lm(Birth.Weight~Gestational.Days, data=data)\n",
    "summary(model1)"
   ]
  },
  {
   "cell_type": "markdown",
   "metadata": {},
   "source": [
    "+ The estimated intercept, $\\hat{\\beta_0}$ is equal to -10.75. This is interpreted as: the estimated mean birthweight of a child born after 0 gestational days is -10.75oz. Since there are no observations with 0 gestational days in the study, this is an extrapolation based on the observed data and an assumption of linearity. Estimates based on extrapolation should be interpreted with caution and in this case, the results make little sense because a negative weight is estimated. Moreover, no child is born after 0 gestational days and so this intercept is of little interest. Later on in the lesson, we will discuss a technique called **centering** which is often used to make more interpretable intercepts. \n",
    "\n",
    "+ The estimated slope, $\\hat{\\beta_1}$ is equal to 0.47. This is interpreted as: the mean birthweight of a baby is estimated to increase by 0.47oz for each daily increase in the gestational period.\n",
    "\n",
    "+ The estimated residual standard error, $\\hat{\\sigma}$ is equal to 16.74 (the estimated residual variance is equal to $16.74^2$). This means that the observed outcomes are scattered around the fitted regression line with a standard deviation of 16.74oz.  \n",
    "\n",
    "\n",
    "#### 12.3.3.2 Example 2\n",
    "\n",
    "In our second example, the independent variable is binary. To include this in the model, we use a **dummy** variable that takes the value 1 if the mother smokes and 0 if the mother doesn't smoke: \n",
    "\n",
    "$$ s_{i}\n",
    "\\begin{cases}\n",
    "    1 & \\text{ if the $i^{th}$ baby's mother smokes} \\\\\n",
    "    0 & \\text{ if the $i^{th}$ baby's mother does not smoke}\n",
    "\\end{cases} $$\n",
    "\n",
    "We then define the following linear regression model:\n",
    "\n",
    "$$ \\text{Model 2: }y_i = \\alpha_0 + \\alpha_1 s_i + \\epsilon_i$$\n",
    "\n",
    "When including binary (or categorical) variables in a linear regression in R, we can tell R to treat it as a factor variable using ```factor()```: \n"
   ]
  },
  {
   "cell_type": "code",
   "execution_count": 5,
   "metadata": {},
   "outputs": [
    {
     "data": {
      "text/plain": [
       "\n",
       "Call:\n",
       "lm(formula = Birth.Weight ~ factor(Maternal.Smoker), data = data)\n",
       "\n",
       "Residuals:\n",
       "    Min      1Q  Median      3Q     Max \n",
       "-68.085 -11.085   0.915  11.181  52.915 \n",
       "\n",
       "Coefficients:\n",
       "                            Estimate Std. Error t value Pr(>|t|)    \n",
       "(Intercept)                 123.0853     0.6645 185.221   <2e-16 ***\n",
       "factor(Maternal.Smoker)True  -9.2661     1.0628  -8.719   <2e-16 ***\n",
       "---\n",
       "Signif. codes:  0 '***' 0.001 '**' 0.01 '*' 0.05 '.' 0.1 ' ' 1\n",
       "\n",
       "Residual standard error: 17.77 on 1172 degrees of freedom\n",
       "Multiple R-squared:  0.06091,\tAdjusted R-squared:  0.06011 \n",
       "F-statistic: 76.02 on 1 and 1172 DF,  p-value: < 2.2e-16\n"
      ]
     },
     "metadata": {},
     "output_type": "display_data"
    }
   ],
   "source": [
    "#Example 2: Investigating the relationship between birthweight and mother's smoking status.\n",
    "model2<-lm(Birth.Weight~factor(Maternal.Smoker), data=data)\n",
    "summary(model2)"
   ]
  },
  {
   "cell_type": "markdown",
   "metadata": {},
   "source": [
    "+ $\\hat{\\alpha_0} = 123.09$. This is interpreted as the estimated mean birthweight (in oz) of a child with \"dummy\" variable equal to 0, i.e. it is the estimated mean birthweight of children whose mothers do not smoke. \n",
    "\n",
    "+ $\\hat{\\alpha_1}=-9.23$. The mean birthweight is estimated to decrease by 9.23oz per unit increase in the \"dummy\" variable. A unit increase in the dummy variable equates to moving from the non-smoking group to the smoking group, so we can interpret this as the difference in mean birthweights between the two groups. \n",
    "\n",
    "+ $\\hat{\\sigma}=17.77$. The observed outcomes are scattered around the fitted regression line with a standard deviation of 17.77oz. \n",
    "\n",
    "Note that the outputs for Models 1 and 2 consist of a number of other values we have yet to discuss. We address these in the subsequent sections. In Section 3.4 we will learn how to conduct statistical inference on the estimated parameters, which will help us to interpret the standard errors, $t$-values and $p$-values in the above output. Later in Section 5 we will discuss analysis of variance which will help us to interpret the \"R-squared\" values and the $F$-test.  "
   ]
  },
  {
   "cell_type": "markdown",
   "metadata": {},
   "source": [
    "### 12.3.4 Inference\n",
    "\n",
    "Most commonly, we wish to conduct statistical inference on the estimated slope. Consequently, we focus our attention here on $\\beta_1$, but it is possible to apply the same methods to the intercept, $\\beta_0$.  \n",
    "\n",
    "The estimated slope, $\\hat{\\beta_1}$ can be written as a linear combination of the observed values and is therefore a function of the random error ($\\epsilon$):\n",
    "\n",
    "\\begin{align}\n",
    "\\hat{\\beta_1} &= \\sum_{i=1}^n (\\frac{(x_i-\\bar{x})}{\\sum_{i=1}^n(x_i-\\bar{x})^2}(y_i-\\bar{y})) \\\\\n",
    "            &=\\beta_1 + \\sum_{i=1}^n (\\frac{(x_i-\\bar{x})}{\\sum_{i=1}^n(x_i-\\bar{x})^2}(\\epsilon_i-\\bar{\\epsilon}))\n",
    "\\end{align}\n",
    "\n",
    "The second equality is obtained by substituting in $(y_i-\\bar{y})=\\beta_1(x_i-\\bar{x})+(\\epsilon_i-\\bar{\\epsilon})$. \n",
    "\n",
    "Since the estimated parameter is a linear combination of the $\\epsilon_i$, and $\\epsilon_i \\sim NID(0,\\sigma^2)$, the estimated parameter itself is normally distributed. More specifically, it is normally distributed with mean $\\beta_1$ and standard deviation:\n",
    "\n",
    "$$SD(\\hat{\\beta_1})=\\sqrt{\\frac{\\sigma^2}{ns_x^2}}$$\n",
    "\n",
    "where $s_x^2$ is the variance of $x$. It can be seen from the formula above that the variance of $\\beta_1$ increases with the size of the residual variance (as might be expected intuitively), decreases with increasing sample size (larger sample sizes give more precise estimates) and decreases as $s_x^2$ increases (the wider range of $x$ values the more precision of estimates). \n",
    "\n",
    "Knowing the distribution of $\\hat{\\beta_1}$, allows us to perform hypothesis tests and construct confidence intervals for $\\beta_1$. \n",
    "\n",
    "\n",
    "#### 12.3.4.1 Hypothesis testing \n",
    "\n",
    "To test the null hypothesis $H_0: \\beta_1=B$ against the alternative $H_1: \\beta_1 \\neq B$. We calculate the t-test statistic:\n",
    "\n",
    "$$t = \\frac{(\\hat{\\beta_1}-B)}{SE(\\hat{\\beta_1})}$$\n",
    "\n",
    "Where $SE()$ denotes standard error. The standard error of an estimated regression coefficient is equal to the estimated standard deviation (i.e. we replace $\\sigma$ with $\\hat{\\sigma}$ in the equation for $SD(\\hat{\\beta_1})$ above):\n",
    "\n",
    "$$SE(\\hat{\\beta_1})=\\sqrt{\\frac{\\hat{\\sigma}^2}{ns_x^2}}$$. \n",
    "\n",
    "Replacing $\\sigma^2$ with $\\hat{\\sigma}^2$ means that $t$ follows a $t$ distribution (rather than a $z$ distribution) with $(n-2)$ degrees of freedom, if $H_0$ is true. This allows us to calculate the $p$-value to test the null hypothesis that $\\beta_1$ equals $B$. \n",
    "\n",
    "Most commonly, researchers test the hypothesis that $\\beta_1=0$. If this is true, then there is no association between $Y$ and $X$. \n",
    "\n",
    "**Example:** We can use the output from ```summary(model1)``` to conduct a hypothesis test to test the hypothesis that $\\beta_1=0$ in Model 1: "
   ]
  },
  {
   "cell_type": "code",
   "execution_count": 6,
   "metadata": {},
   "outputs": [
    {
     "data": {
      "text/plain": [
       "\n",
       "Call:\n",
       "lm(formula = Birth.Weight ~ Gestational.Days, data = data)\n",
       "\n",
       "Residuals:\n",
       "    Min      1Q  Median      3Q     Max \n",
       "-49.348 -11.065   0.218  10.101  57.704 \n",
       "\n",
       "Coefficients:\n",
       "                  Estimate Std. Error t value Pr(>|t|)    \n",
       "(Intercept)      -10.75414    8.53693   -1.26    0.208    \n",
       "Gestational.Days   0.46656    0.03054   15.28   <2e-16 ***\n",
       "---\n",
       "Signif. codes:  0 '***' 0.001 '**' 0.01 '*' 0.05 '.' 0.1 ' ' 1\n",
       "\n",
       "Residual standard error: 16.74 on 1172 degrees of freedom\n",
       "Multiple R-squared:  0.1661,\tAdjusted R-squared:  0.1654 \n",
       "F-statistic: 233.4 on 1 and 1172 DF,  p-value: < 2.2e-16\n"
      ]
     },
     "metadata": {},
     "output_type": "display_data"
    }
   ],
   "source": [
    "#Example 1: Hypothesis tests\n",
    "summary(model1)"
   ]
  },
  {
   "cell_type": "markdown",
   "metadata": {},
   "source": [
    "In the above output, the column ```Std.Error``` gives the standard errors associated with the estimated regression coefficients. The columns ```t value``` and ```Pr(>|t|)``` give the t-test statistic and associated $p$-value for a hypothesis test that the regression coefficient estimate is equal to 0. \n",
    "\n",
    "To test the null hypothesis that $\\beta_1=0$ against the alternative $\\beta_1 \\neq  0$, the test statistic is 15.28 and the associated $p$-value is $<2\\times10^{-16}$. This is a very small $p$-value and therefore the data provide strong evidence against the null hypothesis. Based on these results, we can conclude that birthweight is associated with length of pregnancy. To convince yourself that these values are correct, you can calculate the standard error and test statistic by hand, using the above formulas. \n",
    "\n",
    "*Exercise:* Using the output for ```summary(model2)``` given in the previous section, conduct a hypothesis test to test the null hypothesis that $\\alpha_1=0$.\n",
    "\n",
    "\n",
    "#### 12.3.4.2 Confidence intervals for the regression coefficients\n",
    "\n",
    "Confidence intervals give us more information than the estimated regression coefficient, because they take into account the uncertainty in our estimates. Confidence intervals are constructed in such a way so that they will contain the true population parameter a specified proportion of the time, typically 95\\%. \n",
    "\n",
    "A formal interpretation of the 95\\% confidence interval is as follows: if the analysis was repeated 100 times and 95\\% confidence intervals were obtained each time, then 95\\% of those confidence intervals would contain the true population parameter. More informally, confidence intervals are often interpreted as a range of plausible values for the true population parameter. \n",
    "\n",
    "The definition of a $(1-\\alpha)$% confidence interval for the parameter $\\beta_1$ is given by:\n",
    "\n",
    "$$\\hat{\\beta_1} \\pm t_{\\frac{\\alpha}{2}, n-2}SE(\\hat{\\beta_1})$$\n",
    "\n",
    "where $t_{\\frac{\\alpha}{2}, n-2}$ represents the $(1-\\alpha/2)$ centile of a $t$-distribution with $(n-2)$ degrees of freedom. \n",
    "\n",
    "If 0 lies in the confidence interval, we would conclude that the independent variable and outcome are not associated, because it is plausible that $\\beta_1=0$. If 0 does not lie within the confidence interval, then there is evidence of an association. \n",
    "\n",
    "Note that if $n$ is sufficiently large, the $t$-distribution is well approximated by a normal distribution. In this case, a 95% confidence interval can be found by: \n",
    "\n",
    "$$\\hat{\\beta_1} \\pm 1.96 \\times SE(\\hat{\\beta_1})$$\n",
    "\n",
    "*Example:* Calculate a 95\\% for $\\beta_1$ (using the values given in the R output above): \n",
    "\n",
    "\\begin{align}\n",
    "&95\\% \\text{ CI}: \\hat{\\beta_1} \\pm 1.96 \\times SE(\\hat{\\beta_1}) \\\\\n",
    "\\rightarrow &95\\% \\text{ CI}: 0.46656 \\pm 1.96 \\times 0.03054 \\\\\n",
    "\\rightarrow &95\\% \\text{ CI}: (0.407, 0.526)\n",
    "\\end{align}\n",
    "\n",
    "Since 0 does not lie within the interval, we conclude that there is evidence of an association between birthweight and length of pregancy (as indicated by the results of the hypothesis test).\n",
    "\n",
    "Alternatively, we can obtain confidence intervals using ```confint``` in R: \n",
    " "
   ]
  },
  {
   "cell_type": "code",
   "execution_count": 7,
   "metadata": {},
   "outputs": [
    {
     "data": {
      "text/html": [
       "<table>\n",
       "<thead><tr><th></th><th scope=col>2.5 %</th><th scope=col>97.5 %</th></tr></thead>\n",
       "<tbody>\n",
       "\t<tr><th scope=row>Gestational.Days</th><td>0.4066435</td><td>0.5264702</td></tr>\n",
       "</tbody>\n",
       "</table>\n"
      ],
      "text/latex": [
       "\\begin{tabular}{r|ll}\n",
       "  & 2.5 \\% & 97.5 \\%\\\\\n",
       "\\hline\n",
       "\tGestational.Days & 0.4066435 & 0.5264702\\\\\n",
       "\\end{tabular}\n"
      ],
      "text/markdown": [
       "\n",
       "| <!--/--> | 2.5 % | 97.5 % |\n",
       "|---|---|---|\n",
       "| Gestational.Days | 0.4066435 | 0.5264702 |\n",
       "\n"
      ],
      "text/plain": [
       "                 2.5 %     97.5 %   \n",
       "Gestational.Days 0.4066435 0.5264702"
      ]
     },
     "metadata": {},
     "output_type": "display_data"
    }
   ],
   "source": [
    "#Confidence intervals for beta_1\n",
    "confint(model1, parm=2, level = 0.95)"
   ]
  },
  {
   "cell_type": "markdown",
   "metadata": {},
   "source": [
    "*Exercise:* Edit the above code to find 95% and 90% confidence intervals for $\\hat{\\alpha_1}$ in Model 2. **Hint**: Use the [R documentation](https://www.rdocumentation.org/packages/stats/versions/3.6.2/topics/confint) for the command ```confint``` as a guide.\n",
    "\n",
    "So far we have only discussed conducting inference on the estimated regression coefficients. However, it may also be of interest to determine **confidence intervals for the fitted outcomes**, or **prediction intervals**. The subsequent two sections describe and illustrate these two concepts, respectively. \n",
    "\n",
    "#### 12.3.4.3 Confidence intervals for a fitted value \n",
    "\n",
    "Confidence intervals can be obtained for the fitted value of $Y$ given a particular value of $X$. We denote the fitted value when $X=x$ as $y_x$. The expected value of $y_x$ is equal to $\\hat{Y}=\\beta_0+\\beta_1x$ and its variance is given by:\n",
    "\n",
    "$$V(\\hat{y}_x) = \\sigma^2 (\\frac{1}{n}+\\frac{(x-\\bar{x})^2}{SS_{xx}})$$\n",
    "\n",
    "where $SS_{xx}=\\sum_{i=1}^n(x_i-\\bar{x})^2$, i.e. the sum of squares of $X$.  \n",
    "\n",
    "Therefore, the 95% confidence interval is given by:\n",
    "\n",
    "$$\\hat{y_x} \\pm t_{n-2, 0.975}\\hat{\\sigma} \\sqrt{\\frac{1}{n}+ \\frac{(x-\\bar{x})^2}{SS_{xx}}}$$\n",
    "\n",
    "95% confidence intervals can be obtained for values of the independent variable that do not belong in the data. However, the width of the confidence interval increases with the distance from the mean (as can be seem from the formula and figure given below). Care must be taken when extrapolating outside the range of the observed data as this makes an un-testable assumption that linearity continues outside the observed data range. \n",
    "\n",
    "*Example*. The R code below calculates a 95% confidence interval for the fitted value of birthweight of a baby born after 280 gestational days. \n",
    " "
   ]
  },
  {
   "cell_type": "code",
   "execution_count": 8,
   "metadata": {},
   "outputs": [
    {
     "data": {
      "text/html": [
       "<table>\n",
       "<thead><tr><th scope=col>fit</th><th scope=col>lwr</th><th scope=col>upr</th></tr></thead>\n",
       "<tbody>\n",
       "\t<tr><td>119.8818</td><td>118.9215</td><td>120.8421</td></tr>\n",
       "</tbody>\n",
       "</table>\n"
      ],
      "text/latex": [
       "\\begin{tabular}{r|lll}\n",
       " fit & lwr & upr\\\\\n",
       "\\hline\n",
       "\t 119.8818 & 118.9215 & 120.8421\\\\\n",
       "\\end{tabular}\n"
      ],
      "text/markdown": [
       "\n",
       "| fit | lwr | upr |\n",
       "|---|---|---|\n",
       "| 119.8818 | 118.9215 | 120.8421 |\n",
       "\n"
      ],
      "text/plain": [
       "  fit      lwr      upr     \n",
       "1 119.8818 118.9215 120.8421"
      ]
     },
     "metadata": {},
     "output_type": "display_data"
    }
   ],
   "source": [
    "#Confidence interval for a fitted value \n",
    "new.data<-data.frame(Gestational.Days=280)\n",
    "predict(model1, newdata=new.data, interval=\"confidence\", level=0.95)"
   ]
  },
  {
   "cell_type": "markdown",
   "metadata": {},
   "source": [
    "The 95\\% confidence interval for $y_{280}$ is (118.9, 120.8). Informally, we can interpret this as: it is plausible that the true value of $y_{280}$ lies between 118.9 and 120.8.  \n",
    "\n",
    "#### 12.3.4.4 Prediction intervals\n",
    "\n",
    "A 95\\% prediction interval (otherwise known as **reference range**) is the interval in which 95% of future observations are expected to lie. To estimate this for $X=x$, we have to take into accout the uncertainty in our estimated regression coefficients and the additional random error in an observation ($\\sigma^2$).\n",
    "\n",
    "The variance of an individual prediction is given by: \n",
    "\n",
    "\\begin{align} \n",
    "V(\\hat{y_x}) + \\sigma^2  &= \\sigma^2 (\\frac{1}{n}+\\frac{(x-\\bar{x})^2}{SS_{xx}})+ \\sigma^2\\\\\n",
    "                                       &= \\sigma^2(1+\\frac{1}{n}+\\frac{(x-\\bar{x})^2}{S_{xx}}) \n",
    "\\end{align}\n",
    "\n",
    "A 95\\% prediction interval is then given by: \n",
    "\n",
    "$$\\hat{y_x} \\pm t_{n-2, 0.975} \\hat{\\sigma} \\sqrt{1+ \\frac{1}{n}+ \\frac{(x-\\bar{x})^2}{S_{xx}}}$$\n",
    "\n",
    "*Example*. The R code below calculates a 95\\% prediction interval for the birthweight of babies who are born after 280 days. \n",
    " "
   ]
  },
  {
   "cell_type": "code",
   "execution_count": 9,
   "metadata": {},
   "outputs": [
    {
     "data": {
      "text/html": [
       "<table>\n",
       "<thead><tr><th scope=col>fit</th><th scope=col>lwr</th><th scope=col>upr</th></tr></thead>\n",
       "<tbody>\n",
       "\t<tr><td>119.8818</td><td>87.01496</td><td>152.7486</td></tr>\n",
       "</tbody>\n",
       "</table>\n"
      ],
      "text/latex": [
       "\\begin{tabular}{r|lll}\n",
       " fit & lwr & upr\\\\\n",
       "\\hline\n",
       "\t 119.8818 & 87.01496 & 152.7486\\\\\n",
       "\\end{tabular}\n"
      ],
      "text/markdown": [
       "\n",
       "| fit | lwr | upr |\n",
       "|---|---|---|\n",
       "| 119.8818 | 87.01496 | 152.7486 |\n",
       "\n"
      ],
      "text/plain": [
       "  fit      lwr      upr     \n",
       "1 119.8818 87.01496 152.7486"
      ]
     },
     "metadata": {},
     "output_type": "display_data"
    }
   ],
   "source": [
    "#Prediction interval\n",
    "predict(model1, newdata=new.data, interval=\"prediction\", level=0.95)"
   ]
  },
  {
   "cell_type": "markdown",
   "metadata": {},
   "source": [
    "The 95\\% prediction interval for $y_{280}$ is (87.0, 152.7). This means that we would expect 95\\% of babies born after 280 gestational days to weigh between 87 and 152.7 ounces. \n",
    "\n",
    "*Examples continued.* The code below produces two scatterplots of gestational days against birthweight with the linear regression line of best fit (obtained from Model 1) superimposed. The blue lines on the left-hand side plot represent the 95% confidence intervals for the fitted values across the entire range of gestational days. The blue lines on the right-hand side plot represent the 95% prediction intervals. "
   ]
  },
  {
   "cell_type": "code",
   "execution_count": 10,
   "metadata": {},
   "outputs": [
    {
     "data": {
      "image/png": "[encoded data removed]",
      "text/plain": [
       "Plot with title \"95% Prediction intervals\""
      ]
     },
     "metadata": {},
     "output_type": "display_data"
    }
   ],
   "source": [
    "#Set the graphical space so that two plots are shown side-by-side in one row\n",
    "par(mfrow=c(1,2))\n",
    "\n",
    "#Confidence intervals for predicted values\n",
    "plot(data$Gestational.Days, data$Birth.Weight, xlab=\"Gestational days\", ylab=\"Birthweight (oz)\", main=\"95% Confidence intervals\")\n",
    "abline(model1)\n",
    "\n",
    "conf_interval<-predict(model1, newdata=data, interval=\"confidence\", level=0.95)\n",
    "lines(data$Gestational.Days, conf_interval[,2], col=\"blue\")\n",
    "lines(data$Gestational.Days, conf_interval[,3], col=\"blue\")\n",
    "\n",
    "#Reference ranges\n",
    "plot(data$Gestational.Days, data$Birth.Weight, xlab=\"Gestational days\", ylab=\"Birthweight (oz)\", main=\"95% Prediction intervals\")\n",
    "abline(model1)\n",
    "\n",
    "conf_interval<-predict(model1, newdata=data, interval=\"prediction\", level=0.95)\n",
    "lines(data$Gestational.Days, conf_interval[,2], col=\"blue\")\n",
    "lines(data$Gestational.Days, conf_interval[,3], col=\"blue\")"
   ]
  },
  {
   "cell_type": "markdown",
   "metadata": {},
   "source": [
    "\n",
    "## 12.4 Multivariable linear regression \n",
    "\n",
    "Multivariable linear regression extends the simple linear regression model to situations in which we wish to relate two or more independent variables to one outcome. Where there are multiple independent variables, we will refer to them as **covariates**. \n",
    "\n",
    "There can be a number of different reasons why we would want to add more covariates in our linear regression model. Recall these two examples of questions we might want to answer using statistical models (given at the beginning of this lesson):\n",
    "\n",
    "   + Does taking drug A reduce inflammation more than taking drug B in patients with arthritis?\n",
    "   + Can we predict the risk of heart disease for our patients? \n",
    "   \n",
    "In the first example, we could use a statistical model with inflammation as the outcome and drug use as the independent variable of interest, but we may need to **control** (or **adjust**) for the **confounding** effects of other patient characteristics (age, gender, other medication use, etc.). In the second example, there are many different factors that could be associated with risk of heart disease (age, gender, lifestyle choices, etc.) and we may wish to include all such factors in a statistical model to predict heart disease. \n",
    "\n",
    "Here, we introduce the multivariable linear regression model and describe how to estimate and interpret the parameters in the model using an example from the birthweight data. In particular, we will consider two statistical models which relate birthweight to length of pregnancy and mother's height. In the first of these two models (Model 3) we will model the mother's height as a continuous variable and in the second (Model 4), we will model the mother's height as a categorical variable. \n",
    "\n",
    "*A note on notation.* There can be some confusion between the terms **multivariable** models and **multivariate** models. Multivariate models are those which have more than one outcome variable. Such models are beyond the scope of this module; we focus our attention on **univariate** models which have only one outcome. Both simple linear regression models and multivariable linear regression models are considered as univariate. \n",
    "\n",
    "\n",
    "### 12.4.1 The multivariable linear regression model \n",
    "\n",
    "Suppose we wish to relate an outcome ($Y$) to $p$ predictor variables $(X_1, X_2, ..., X_p)$. The appropriate multivariable linear regression model is a straightforward extension of the simple linear regression model: \n",
    "\n",
    "$$ y_i = \\beta_0 + \\beta_1 x_{1i} + \\beta_2 x_{2i} + ,..., \\beta_p x_{ip}+\\epsilon_i \\text{ with } \\epsilon_i \\sim NID(0,\\sigma^2)$$. \n",
    "\n",
    "Where, \n",
    "\n",
    "\\begin{align}\n",
    "&y_i = \\text{value of the dependent variable for the ith participant}\\\\\n",
    "&x_{ji} = \\text{value of the jth predictor variable for the ith participant}. \n",
    "\\end{align}\n",
    "\n",
    "The parameters in the model are interpreted as follows:\n",
    "\n",
    "+ $\\beta_0$ is the intercept. It is the expectation of $Y$ when all the $X_j's$ are zero.\n",
    "+ $\\beta_j$ is the expected change in $Y$ for a 1 unit increase in $X_j$ *with all the other covariates held constant*. \n",
    "\n",
    "The $\\beta_j's$ are the **regression coefficients** (otherwise known as **partial regression coefficients**). Each one measures the effect of one covariate controlled (or adjusted) for all of the others. \n",
    "\n",
    "#### 12.4.1.1 The multivariable linear regression model in matrix notation\n",
    "\n",
    "Similarly to the simple linear regression model, the multivariable linear regression model can be expressed using matrix algebra. \n",
    "\n",
    "$$\\mathbf{Y}=\\mathbf{X}\\mathbf{\\beta}+\\mathbf{\\epsilon} \\text{ where }\\epsilon \\sim N(0,\\mathbf{I}\\sigma^2)$$\n",
    "\n",
    "$$\\begin{vmatrix}y_1\\\\y_2 \\\\. \\\\. \\\\. \\\\y_n \\end{vmatrix}=\\begin{vmatrix}1 & x_{11} & x_{12} & ... & x_{1p} \\\\ 1 & x_{21} & x_{22} & ... & x_{2p}  \\\\1 & . \\\\1 & .  \\\\ 1& . \\\\1 & x_{p1} & x_{p} & ... & x_{pn} \\end{vmatrix}\\begin{vmatrix} \\beta_0 \\\\ \\beta_1 \\\\ \\beta_2 \\\\ ... \\\\ \\beta_p \\end{vmatrix}+\\begin{vmatrix}\\epsilon_1\\\\ \\epsilon_2 \\\\ . \\\\ . \\\\. \\\\ \\epsilon_n \\end{vmatrix} $$\n",
    "\n",
    "In this formulation, $\\mathbf{X}$ is an $n \\times (p+1)$ matrix, $Y$ and $\\epsilon$ are vectors of length $n$ whilst $\\mathbf{\\beta}$ is a vector of length $(p+1)$.\n",
    " \n",
    "### 12.4.2 Estimation of the parameters\n",
    "\n",
    "The regression coefficients in multivariable linear regression can be estimated by minimising the residual sum of squares: \n",
    "\n",
    "\\begin{align} SS_{RES} &= \\sum_{i=1}^n \\hat{\\epsilon}_i^2 = \\sum_{i=1}^n (y_i-\\hat{y})^2 \\\\\n",
    "&= \\sum_{i=1}^n (y_i-\\hat{\\beta}_0-\\hat{\\beta}_1x_{1i}-...-\\hat{\\beta}_px_{pi})^2 \\end{align}\n",
    "\n",
    "The closed form solution, obtained by solving the $(p+1)$ simultaneous equations that result from setting the partial derivatives of the above equation with respect to each parameter estimate to zero, can be written succinctly using matrix notation: \n",
    "\n",
    "$$\\mathbf{\\hat{\\beta}}= (\\mathbf{X'X})^{-1}X'Y$$\n",
    "\n",
    "$\\mathbf{\\hat{\\beta}}$ is an unbiased estimator of $\\mathbf{\\beta}$. Its distribution is as follows:\n",
    "\n",
    "$$\\mathbf{\\hat{\\beta}} \\sim \\mathbf{N(\\beta, (X'X)^{-1}\\sigma^2)}$$.\n",
    "\n",
    "This expresses the fact that the elements of $\\mathbf{\\hat{\\beta}}$ follow a multivariate normal distribution whose variances and covariances are given by $\\mathbf{(X'X)^{-1}\\sigma^2}$. \n",
    "\n",
    "It can also be shown that the following is an unbiased estimator for $\\sigma^2$:\n",
    "\n",
    "\\begin{align}\n",
    "\\hat{\\sigma}^2 &= \\sum_{i=1}^n \\frac{\\hat{\\epsilon_i}^2}{(n-(p+1))}\\\\\n",
    "              &=\\sum_{i=1}^n (y_i - \\hat{\\beta_0} - \\hat{\\beta}_1x_{1i}- ... - \\hat{\\beta_p}x_{ip})^2/(n-(p+1))\n",
    "\\end{align}\n",
    "\n",
    "While it is useful to know how these parameters are estimated, in practice they are often obtained using statistical software. Next, we demonstrate how to perform multivariable regression in R using the birthweight data and discuss the interpretation of the estimated regression coefficients. \n",
    " \n",
    " ### 12.4.3 Birthweight data: Model 3\n",
    " \n",
    "We are interested in investigating a model that relates birthweight to length of pregnancy and mother's height. We will use the following multivariable linear regression model: \n",
    " \n",
    "$$\\text{Model 3: } y_i = \\beta_0 + \\beta_1 l_i + \\beta_2h_i  + \\epsilon_i $$\n",
    "\n",
    "The outcome $y_i$ denotes the birthweight (in oz) for the $i^{th}$ baby. The predictors $l_i$ and $h_i$ denote the length of pregnancy (i.e. number of gestational days), and the height of the mother (in inches), for the $i^{th}$ baby, respectively.\n",
    "\n",
    "The linear regression can be conducted in R using the ```lm()``` command:"
   ]
  },
  {
   "cell_type": "code",
   "execution_count": 11,
   "metadata": {},
   "outputs": [
    {
     "data": {
      "text/plain": [
       "\n",
       "Call:\n",
       "lm(formula = Birth.Weight ~ Gestational.Days + Maternal.Height, \n",
       "    data = data)\n",
       "\n",
       "Residuals:\n",
       "    Min      1Q  Median      3Q     Max \n",
       "-53.829 -10.589   0.246  10.254  54.403 \n",
       "\n",
       "Coefficients:\n",
       "                  Estimate Std. Error t value Pr(>|t|)    \n",
       "(Intercept)      -88.51993   14.31910  -6.182 8.73e-10 ***\n",
       "Gestational.Days   0.45237    0.03006  15.051  < 2e-16 ***\n",
       "Maternal.Height    1.27598    0.19049   6.698 3.27e-11 ***\n",
       "---\n",
       "Signif. codes:  0 '***' 0.001 '**' 0.01 '*' 0.05 '.' 0.1 ' ' 1\n",
       "\n",
       "Residual standard error: 16.44 on 1171 degrees of freedom\n",
       "Multiple R-squared:  0.1969,\tAdjusted R-squared:  0.1955 \n",
       "F-statistic: 143.5 on 2 and 1171 DF,  p-value: < 2.2e-16\n"
      ]
     },
     "metadata": {},
     "output_type": "display_data"
    }
   ],
   "source": [
    "# Model 3: Relating birthweight to length of pregnancy and mother's height\n",
    "model3<-lm(Birth.Weight~Gestational.Days+Maternal.Height, data=data)\n",
    "summary(model3)"
   ]
  },
  {
   "cell_type": "markdown",
   "metadata": {},
   "source": [
    "**Interpretation of the regression coefficients**\n",
    "\n",
    "+ $\\hat{\\beta}_1=0.45$. This is the estimated regression coefficient for number of gestational days. It is interpreted as: the expected increase in a baby's birthweight for each gestational day, amongst babies whose mothers were of the same height, is 0.45 ounces. \n",
    "\n",
    "It may be tempting to make causal inference from regression models such as Model 3, i.e. \"longer pregnancies **cause** an increase in birthweight\". However, this is far from straightforward. Based on the results presented above, it would be reasonable to say that \"birthweight increases with length of pregnancy\". However, it is much less reasonable to claim that higher birthweight is caused by longer pregnancies (based on these results alone), because there may be an unobserved third variable that is the \"real\" cause of both increased length of pregancy and birthweight. Causal statements require more than just the results of a statistical model to make them plausible; this is a topic that we return to in the next lesson. \n",
    "\n",
    "*Excerise*: What is the interpretation of $\\hat{\\beta}_2?$\n",
    "\n",
    "**Interpretation of the intercept**\n",
    "\n",
    "+ $\\hat{\\beta}_0=-88.52$. The interpretation is that the estimated mean birthweight for a child who was born after 0 gestastional days and whose mother's height is 0 inches is -88.52 ouces. Clearly this is an absurd value to estimate because no babies are born that quickly and no mothers are that short. If we wish to obtain a more reasonable intercept, we can use a technique called **centering**.  \n",
    "\n",
    "### 12.4.4 Centering\n",
    "\n",
    "In many analyses, interpreting the intercept is not as important as interpreting the estimated regression coefficients and so it does not matter if our intercept is an absurd value (as in the example above). However, if we do wish to obtain a reasonable intercept, we can **center** the independent variables. \n",
    "\n",
    "Centering means subtracting a constant from every value of the independent variable. This essentially shifts the scale of the predictor (the point 0 is shifted to the chosen constant), but does not affect the units of the variable. Consequently, the new interpretation of the intercept would be the mean of $Y$ when the independent variable is equal to the constant. The estimated regression coefficient of the independent variable is not affected. \n",
    "\n",
    "As as example, we will repeat the analysis above, but center the covariates on their mean value. \n",
    "\n",
    "\n"
   ]
  },
  {
   "cell_type": "code",
   "execution_count": 12,
   "metadata": {},
   "outputs": [
    {
     "data": {
      "text/plain": [
       "   Min. 1st Qu.  Median    Mean 3rd Qu.    Max. \n",
       "  148.0   272.0   280.0   279.1   288.0   353.0 "
      ]
     },
     "metadata": {},
     "output_type": "display_data"
    },
    {
     "data": {
      "text/plain": [
       "   Min. 1st Qu.  Median    Mean 3rd Qu.    Max. \n",
       "  53.00   62.00   64.00   64.05   66.00   72.00 "
      ]
     },
     "metadata": {},
     "output_type": "display_data"
    },
    {
     "data": {
      "text/plain": [
       "\n",
       "Call:\n",
       "lm(formula = Birth.Weight ~ Gestational.Days.Centered + Maternal.Height.Centered, \n",
       "    data = data)\n",
       "\n",
       "Residuals:\n",
       "    Min      1Q  Median      3Q     Max \n",
       "-53.829 -10.589   0.246  10.254  54.403 \n",
       "\n",
       "Coefficients:\n",
       "                           Estimate Std. Error t value Pr(>|t|)    \n",
       "(Intercept)               119.46252    0.47980 248.983  < 2e-16 ***\n",
       "Gestational.Days.Centered   0.45237    0.03006  15.051  < 2e-16 ***\n",
       "Maternal.Height.Centered    1.27598    0.19049   6.698 3.27e-11 ***\n",
       "---\n",
       "Signif. codes:  0 '***' 0.001 '**' 0.01 '*' 0.05 '.' 0.1 ' ' 1\n",
       "\n",
       "Residual standard error: 16.44 on 1171 degrees of freedom\n",
       "Multiple R-squared:  0.1969,\tAdjusted R-squared:  0.1955 \n",
       "F-statistic: 143.5 on 2 and 1171 DF,  p-value: < 2.2e-16\n"
      ]
     },
     "metadata": {},
     "output_type": "display_data"
    }
   ],
   "source": [
    "#What are the mean gestational days and mothers height in our data?\n",
    "summary(data$Gestational.Days)\n",
    "summary(data$Maternal.Height)\n",
    "\n",
    "#Create new (centered) variables in our data\n",
    "data$Gestational.Days.Centered<-data$Gestational.Days-mean(data$Gestational.Days)\n",
    "data$Maternal.Height.Centered<-data$Maternal.Height-mean(data$Maternal.Height)\n",
    "\n",
    "#Redefine Model 3 using the centered variables\n",
    "model3<-lm(Birth.Weight~Gestational.Days.Centered+Maternal.Height.Centered, data=data)\n",
    "summary(model3)"
   ]
  },
  {
   "cell_type": "markdown",
   "metadata": {},
   "source": [
    "Now the intercept ($\\hat{\\beta}_0$) is equal to 119.46. This is interpreted as: the estimated mean birthweight for a child who was born after 279.1 gestastional days and whose mother's height is 64.05 inches is 119.46 ouces. Additionally, notice that the estimated regression coefficients for gestational days and mother's height, and their associated standard errors have not changed. \n",
    "\n",
    "\n",
    "### 12.4.4 Including categorical predictor variables in linear regression models \n",
    "\n",
    "We have already seen that binary variables can be included in linear regression models through the creation of a \"dummy\" variable taking the value 0 and 1. If we wish to include a categorical variable with $c$ categories (where $c>2$), the extension of this is to create ($c-1$) dummy variables. We illustrate this approach for a categorical variable ($X$) which has three possible values: 0,1,2. Since $X$ has 3 categories, 2 dummy variables ($U_1$ and $U_2$) are required. We define $U_1$ and $U_2$ as:\n",
    "\n",
    "$$ u_{1i}\n",
    "\\begin{cases}\n",
    "    1 & \\text{ if } x_{i}=1\\\\\n",
    "    0 & \\text{ if } x_{i} \\neq 1\n",
    "\\end{cases} $$\n",
    "\n",
    "and \n",
    "$$ u_{2i}\n",
    "\\begin{cases}\n",
    "    1 & \\text{ if } x_{i}=2\\\\\n",
    "    0 & \\text{ if } x_{i} \\neq 2\n",
    "\\end{cases}\n",
    "$$\n",
    "\n",
    "Then a multivariable  linear regression model relating $Y$ to our categorical variable $X$ is: \n",
    "\n",
    "$$y_i = \\beta_0 + \\beta_1 u_{1i} + \\beta_2 u_{2i} + \\epsilon_i \\text{ where } \\epsilon_i \\sim NID(0, \\sigma^2)$$\n",
    "\n",
    "The equation above can also be written as follows:\n",
    "\n",
    "\\begin{align}\n",
    "y_i & = \\beta_0 + \\epsilon_i \\text{ if } x_i=0 \\\\\n",
    "y_i & = \\beta_0 + \\beta_1 +  \\epsilon_i \\text{ if } x_i=1 \\\\\n",
    "y_i & = \\beta_0 + \\beta_2 + \\epsilon_i \\text{ if } x_i=2 \\\\\n",
    "\\end{align}\n",
    "\n",
    "This makes explicit the interpretation of the parameters in the model. \n",
    "\n",
    "+ $\\beta_0$ is the expectation of $Y$ when $X=0$\n",
    "+ $\\beta_0 + \\beta_1$ is the expectation of $Y$ when $X=1$. Hence $\\beta_1$ is the difference in the expectation of $Y$ between groups defined by $X=0$ and $X=1$.\n",
    "+ $\\beta_0 + \\beta_2$ is the expectation of $Y$ when $X=2$. Hence $\\beta_2$ is the difference in the expectation of $Y$ between groups defined by $X=0$ and $X=2$. \n",
    "\n",
    "In this parameterisation of the model, the group defined by $X=0$ is often referred to as the baseline group. There is no statistical reason why one group rather than another should be chosen as the baseline group and it can sometimes be desirable to re-parameterise a model of this type to estimate parameters representating differences in mean levels from a particular baseline group. \n",
    "\n",
    "#### 12.4.4.1 Birthweight data: Model 4\n",
    "\n",
    "As an example, we will create a categorical variable based on the mother's height in our birthweight data, then define a model relating birthweight to length of pregnancy and height categorised into groups. Let $h_{i}$ denote the height group for the $i^{th}$ observation, defined as follows:\n",
    "\n",
    "$$ h_{i}\n",
    "\\begin{cases}\n",
    "    1 & \\text{ if the mother's height is less than or equal to 62 inches} \\\\\n",
    "    2 & \\text{ if the mother's height is greater than 62 inches and less than or equal 64 inches } \\\\\n",
    "    3 & \\text{ if the mother's height is greater than 64 inches and less than or equal to 66 inches} \\\\\n",
    "    4 & \\text{ if the mother's height is greater than 66 inches } \n",
    "\\end{cases} $$\n",
    " \n",
    "We now define three dummy variables:\n",
    "\n",
    "$$ w_{1i}\n",
    "\\begin{cases}\n",
    "    1 & \\text{ if } h_{i}=2\\\\\n",
    "    0 & \\text{ if } h_{i} \\neq 2\n",
    "\\end{cases} $$\n",
    "\n",
    "and \n",
    "$$ w_{2i}\n",
    "\\begin{cases}\n",
    "    1 & \\text{ if } h_{i}=3\\\\\n",
    "    0 & \\text{ if } h_{i} \\neq 3\n",
    "\\end{cases}\n",
    "$$\n",
    "\n",
    "and \n",
    "$$ w_{3i}\n",
    "\\begin{cases}\n",
    "    1 & \\text{ if } h_{i}=4\\\\\n",
    "    0 & \\text{ if } h_{i} \\neq 4\n",
    "\\end{cases}\n",
    "$$\n",
    "\n",
    "Then, our multivariable linear regression model is defined as: \n",
    "\n",
    "$$\\text{Model 4: } y_i = \\beta_0 + \\beta_{1}w_{1,i} + \\beta_{2}w_{2,i} + \\beta_{3}w_{3,i} + \\beta_4 l_i + \\epsilon_i $$\n",
    "\n",
    "The following code creates a variable for height group and then analyses the data using Model 4: "
   ]
  },
  {
   "cell_type": "code",
   "execution_count": 13,
   "metadata": {},
   "outputs": [
    {
     "data": {
      "text/plain": [
       "\n",
       "  1   2   3   4 \n",
       "318 340 324 192 "
      ]
     },
     "metadata": {},
     "output_type": "display_data"
    },
    {
     "data": {
      "text/plain": [
       "\n",
       "Call:\n",
       "lm(formula = Birth.Weight ~ factor(Maternal.Height.Category) + \n",
       "    Gestational.Days, data = data)\n",
       "\n",
       "Residuals:\n",
       "    Min      1Q  Median      3Q     Max \n",
       "-52.956 -10.573   0.326  10.097  54.991 \n",
       "\n",
       "Coefficients:\n",
       "                                   Estimate Std. Error t value Pr(>|t|)    \n",
       "(Intercept)                       -12.20299    8.40979  -1.451   0.1470    \n",
       "factor(Maternal.Height.Category)2   3.92195    1.28351   3.056   0.0023 ** \n",
       "factor(Maternal.Height.Category)3   5.67130    1.30124   4.358 1.43e-05 ***\n",
       "factor(Maternal.Height.Category)4   9.74727    1.50461   6.478 1.36e-10 ***\n",
       "Gestational.Days                    0.45636    0.03008  15.173  < 2e-16 ***\n",
       "---\n",
       "Signif. codes:  0 '***' 0.001 '**' 0.01 '*' 0.05 '.' 0.1 ' ' 1\n",
       "\n",
       "Residual standard error: 16.45 on 1169 degrees of freedom\n",
       "Multiple R-squared:  0.1971,\tAdjusted R-squared:  0.1943 \n",
       "F-statistic: 71.72 on 4 and 1169 DF,  p-value: < 2.2e-16\n"
      ]
     },
     "metadata": {},
     "output_type": "display_data"
    }
   ],
   "source": [
    "#Create variable for height group\n",
    "data$Maternal.Height.Category<-1\n",
    "data$Maternal.Height.Category[data$Maternal.Height>62 & data$Maternal.Height<=64]<-2\n",
    "data$Maternal.Height.Category[data$Maternal.Height>64 & data$Maternal.Height<=66]<-3\n",
    "data$Maternal.Height.Category[data$Maternal.Height>66]<-4\n",
    "table(data$Maternal.Height.Category)\n",
    "\n",
    "#Model 4: Relating birthweight to length of pregnancy and mother's height group. \n",
    "model4<-lm(Birth.Weight~factor(Maternal.Height.Category)+Gestational.Days, data=data)\n",
    "summary(model4)"
   ]
  },
  {
   "cell_type": "markdown",
   "metadata": {},
   "source": [
    "**Interpretation of the estimated regression coefficients**\n",
    "\n",
    "+ $\\hat{\\beta}_0=-12.20$. The estimated mean birthweight for a child who was born after 0 gestational days and whose mother is less than 62 inches tall is -12.20 ounces. \n",
    "\n",
    "+ $\\hat{\\beta}_1=3.92$. This is the expected difference in birthweight between babies whose mothers are in height group 1 and babies whose mothers are in height group 2, taking into account the length of pregnancy. \n",
    "\n",
    "+ $\\hat{\\beta}_2=5.67$. This is the expected difference in birthweight between babies whose mothers are in height group 1 and babies whose mothers are in height group 3, taking into account the length of pregnancy. \n",
    "\n",
    "*Excerise*: What are the interpretations of $\\hat{\\beta}_3$ and $\\hat{\\beta}_4?$\n",
    "\n",
    "#### 12.4.4.2 Issues related to categorising continuous variables\n",
    "\n",
    "In the above example, we have categorised an continuous variable (height) in order to demonstrate how a categorical variable should be included in a linear regression model. This is important to know, since there are many variables that are categorical by definition and may be required for a statistical analysis. For example: cancer stage, ethnicity, education level, etc. While these examples should be included as a categorical variable in a linear regression model, it is not, in general, recommended to categorise a continuous variable in a linear model. We did so above, purely for pedagogical reasons. \n",
    "\n",
    "One of the problems with categorising continuous variables is that it is difficult to decide what the cut-off for each category should be. In the example above we used quartiles to define the categories. This is particularly problematic because the quartiles are estimated using the sample data (therefore are subject to sampling error) and do not represent the quartiles of the same variable in the population. Even when sample data are not used to select cut-off criteria, it is rare for different researchers to choose the same cut-offs each time, which makes comparisons between studies difficult. Moreover, categorisation requires additional covariates to be included in the model. In our example, Model 4 contains four covariates, compared to only two in Model 3. Increasing the number of covariates leads to loss of power and greater uncertainty when estimating the regression coefficients. \n",
    "\n",
    "## 12.5 Analysis of Variance \n",
    "\n",
    "When fitting statistical models, we may wish to compare how well two models fit the data, to see which is most appropriate. Considering the models we have used in this chapter, we may want to compare (for example):\n",
    "\n",
    "\\begin{align}\n",
    "\\text{Comparison 1: }& \\text{Model 1 (birthweight~length of pregnancy) v Model 3 (birthweight~length of pregnancy+mothers height)} \\\\\n",
    "\\text{Comparison 2: }& \\text{Model 2 (birthweight~mother's smoking status) v Model 3 (birthweight~length of pregnancy+mothers height)} \\\\\n",
    "\\end{align}\n",
    "\n",
    "In these examples, Comparison 1 is much simpler than Comparison 2, because the models in Comparison 1 are **nested**. \n",
    "\n",
    "Statistical models are said to be **nested** when one model (the simpler model) contains a subset of the covariates in the other one (the complex model) and no other additional variables. In Comparison 2, the models are not nested because the simpler model (Model 2) contains mother's smoking status as a variable, which is not included in Model 3. Nested models can be compared using **Analysis of Variance (ANOVA)** (the comparison of non-nested models is much more complicated and is beyond the scope of this module). \n",
    "\n",
    "The main idea of ANOVA is that: if the complex model better describes the data than the simpler model, then we would expect a reasonably large amount of the residual variation that is unexplained by the simpler model to be explained by the complex one. ANOVA provides a statistical framework that can formally test this. \n",
    "\n",
    "We will first consider ANOVA in the context of simple linear regression, where the simpler model assumes no association between the outcome and the independent variable (the **null** model). We will then consider ANOVA in the context of multivariable linear regression and we end by learning how ANOVA can be used to test for differences between groups in a categorical variable. \n",
    "\n",
    "### 12.5.1 ANOVA for simple linear regression \n",
    "\n",
    "The total variation in $Y$ (otherwise known as the **sum of squares of the $Y$'s**), is denoted by $SS_{TOT}$ and is equal to:\n",
    "\n",
    "$$ SS_{TOT} = \\sum_{i=1}^n (y_i-\\bar{y})^2$$\n",
    "\n",
    "This can be partitioned into two components: the predictable variation in $Y$ ($SS_{REG}$) and the unpredictable variation in $Y$ ($SS_{RES}$). A key result for ANOVA is:\n",
    "\n",
    "\\begin{align}\n",
    "SS_{TOT} &= SS_{REG}+SS_{RES} \\\\\n",
    "\\rightarrow \\sum_{i=1}^n (Y_i-\\bar{Y})^2 &= \\sum_{i=1}^n (\\hat{Y_i}-\\bar{Y})^2 + \\sum_{i=1}^n(Y_i-\\hat{Y_i})^2\n",
    "\\end{align}\n",
    "\n",
    "In the above equations, $SS_{TOT}$ (i.e the TOTal sum of squares), represents all of the variation in $Y$ about its mean value. $SS_{REG}$ (i.e. the REGression sum of squares) represents the variation of the predicted values $\\hat{Y}$ about the mean. $SS_{RES}$ (i.e. the RESidual sum of squares) represents the variation of the observed values about their predicted values. \n",
    "\n",
    "Using the sums of squares defined above, we can calculate the proportion of variance explained by statistical model, known as the **coefficient of determination**. \n",
    "\n",
    "#### 12.5.1.1 The coefficient of determination\n",
    "\n",
    "The proportion of variation which is explained by a statistical model is denoted by $R^2$ and is given by: \n",
    "\n",
    "$$R^2 = \\frac{SS_{REG}}{SS_{TOT}}$$. \n",
    "\n",
    "*Example.* The coefficient of determination is given in the ```summary()``` output for a linear regression in R. In Model 1, $R^2=0.1661$ (see output below). This means that Model 1 explains 16.6\\% of the total variation in $Y$.\n",
    "\n"
   ]
  },
  {
   "cell_type": "code",
   "execution_count": 14,
   "metadata": {},
   "outputs": [
    {
     "data": {
      "text/plain": [
       "\n",
       "Call:\n",
       "lm(formula = Birth.Weight ~ Gestational.Days, data = data)\n",
       "\n",
       "Residuals:\n",
       "    Min      1Q  Median      3Q     Max \n",
       "-49.348 -11.065   0.218  10.101  57.704 \n",
       "\n",
       "Coefficients:\n",
       "                  Estimate Std. Error t value Pr(>|t|)    \n",
       "(Intercept)      -10.75414    8.53693   -1.26    0.208    \n",
       "Gestational.Days   0.46656    0.03054   15.28   <2e-16 ***\n",
       "---\n",
       "Signif. codes:  0 '***' 0.001 '**' 0.01 '*' 0.05 '.' 0.1 ' ' 1\n",
       "\n",
       "Residual standard error: 16.74 on 1172 degrees of freedom\n",
       "Multiple R-squared:  0.1661,\tAdjusted R-squared:  0.1654 \n",
       "F-statistic: 233.4 on 1 and 1172 DF,  p-value: < 2.2e-16\n"
      ]
     },
     "metadata": {},
     "output_type": "display_data"
    }
   ],
   "source": [
    "#The coefficient of determination\n",
    "summary(model1)"
   ]
  },
  {
   "cell_type": "markdown",
   "metadata": {},
   "source": [
    "While $R^2$ is sometimes used an overall measure of goodness-of-fit (or predictive performance), it isn't used to formally compare models. This is because $R^2$ will never decrease when new covariates are added to a model (provided that the number and identity of observations remains the same). Therefore, using $R^2$ for model comparisons, we would always conclude that the more complex model is at least as good a fit as the simpler model, even if this is not true. We can calculate an adjusted $R^2$ (the adjusted $R^2$ for Model 1 is given in the output above) that accounts for this issue. Alternatively, we can use analysis of variance (ANOVA). To describe ANOVA, we need to first define the remaining statistics that are commonly summarised in what is known as the ANOVA table. \n",
    "\n",
    "#### 12.5.1.2 The ANOVA table. \n",
    "\n",
    "Each of the sum of squares defined above ($SS_{TOT}$, $SS_{REG}$ and $SS_{RES}$) have an associated **degrees of freedom (d.f.)**. The d.f. for the total sum of squares is $(n-1)$, since the variance of $Y$ is $\\sum_{i=1}^n (Y_i-\\bar{Y})^2/(n-1)$. The d.f. for the regression sum of squares in the number of covariates in the regression model (when a simple linear regression model is used this is equal to 1). The residual d.f. is found by subtracting the regression d.f. from the total d.f. The sums of squares also have associated mean squares, which are obtained by dividing the sum of squares by its associated degrees of freedom (note that the residual mean square is then equal to $\\hat{\\sigma}^2$). These statistics are summarised in an ANOVA table for simple linear regression (Table 2). \n",
    "\n",
    "\n",
    "Source      | d.f.  | SS         | Mean Square                        | \n",
    "------------|-------|------------|------------------------------------|\n",
    "Regression  | 1     | $SS_{REG}$ | $MS_{REG}=\\frac{SS_{REG}}{1}$      |\n",
    "Residual    | n-2   | $SS_{RES}$ | $MS_{RES}=\\frac{SS_{RES}}{n-2}$  | \n",
    "Total       | n-1   | $SS_{TOT}$ | $MS_{TOT}=\\frac{SS_{TOT}}{n-1}$    | \n",
    "\n",
    "Table 2: The ANOVA Table for simple linear regression \n",
    "\n",
    "The values in this table can be used to conduct formal hypothesis tests. \n",
    "\n",
    "#### 12.5.1.3 Hypothesis testing using ANOVA\n",
    "\n",
    "ANOVA is used to test the null hypothesis that the simpler of the two nested models better fits the data. In simple linear regression, the simpler model is the null model, in which case:\n",
    "\n",
    "+ $H_0:$ The null model is a better fit\n",
    "+ $H_1:$ The simple linear regression model is a better fit\n",
    "\n",
    "To test the null hypothesis defined above, we use an $F$ statistic, defined as:\n",
    "\n",
    "$$F = \\frac{MS_{REG}}{MS_{RES}}$$\n",
    "\n",
    "This ratio measures how much more variation in $Y$ is explained by the model than would be expected by chance. If the model does not fit the data well, then we would expect this ratio to be equal to 1. The larger the value of $F$, the stronger the evidence that the complex model is a better fit. To obtain a $p$-value for a formal hypothesis test, $F$ can be compared to the $F_{1,(n-2)}$ distribution (where 1 and (n-2) are the relevant degrees of freedom for the mean squares).\n",
    "\n",
    "#### 12.5.1.4 Similarity between F tests and t-tests in simple linear regression \n",
    "\n",
    "Since the null model is defined as: $Y=\\beta_0+\\epsilon$ and the simple linear regression model is defined as: $Y=\\beta_0+\\beta_1X+\\epsilon$. The hypotheses above can be rewritten as:\n",
    "\n",
    "+ $H_0: \\beta_1 = 0$ \n",
    "+ $H_1: \\beta_1 \\neq 0$ \n",
    "\n",
    "In other words, the $F$-test for a simple linear regression model is the same as the $t$-test of the null hypothesis that the slope parameter is equal to 0. Indeed, the two tests are equivalent with $F=t^2$. Consequently, it is not particularly common to use $F$-tests in the simple linear regression model, they are more useful for assessing more complex models with multiple covariates. \n",
    "\n",
    "#### 12.5.1.5 Example using Model 1\n",
    "\n",
    "The $F$ test statistic and associated $p$-value are given in the summary output for linear models (shown below):"
   ]
  },
  {
   "cell_type": "code",
   "execution_count": 15,
   "metadata": {},
   "outputs": [
    {
     "data": {
      "text/plain": [
       "\n",
       "Call:\n",
       "lm(formula = Birth.Weight ~ Gestational.Days, data = data)\n",
       "\n",
       "Residuals:\n",
       "    Min      1Q  Median      3Q     Max \n",
       "-49.348 -11.065   0.218  10.101  57.704 \n",
       "\n",
       "Coefficients:\n",
       "                  Estimate Std. Error t value Pr(>|t|)    \n",
       "(Intercept)      -10.75414    8.53693   -1.26    0.208    \n",
       "Gestational.Days   0.46656    0.03054   15.28   <2e-16 ***\n",
       "---\n",
       "Signif. codes:  0 '***' 0.001 '**' 0.01 '*' 0.05 '.' 0.1 ' ' 1\n",
       "\n",
       "Residual standard error: 16.74 on 1172 degrees of freedom\n",
       "Multiple R-squared:  0.1661,\tAdjusted R-squared:  0.1654 \n",
       "F-statistic: 233.4 on 1 and 1172 DF,  p-value: < 2.2e-16\n"
      ]
     },
     "metadata": {},
     "output_type": "display_data"
    }
   ],
   "source": [
    "# F-test\n",
    "summary(model1)"
   ]
  },
  {
   "cell_type": "markdown",
   "metadata": {},
   "source": [
    "Alternatively, we can use ```anova()``` which outputs the ANOVA table as well as the relevant $F$ statistic and $p$-value:"
   ]
  },
  {
   "cell_type": "code",
   "execution_count": 16,
   "metadata": {},
   "outputs": [
    {
     "data": {
      "text/html": [
       "<table>\n",
       "<thead><tr><th></th><th scope=col>Df</th><th scope=col>Sum Sq</th><th scope=col>Mean Sq</th><th scope=col>F value</th><th scope=col>Pr(&gt;F)</th></tr></thead>\n",
       "<tbody>\n",
       "\t<tr><th scope=row>Gestational.Days</th><td>   1        </td><td> 65449.51   </td><td>65449.5131  </td><td>233.4293    </td><td>3.395226e-48</td></tr>\n",
       "\t<tr><th scope=row>Residuals</th><td>1172        </td><td>328608.34   </td><td>  280.3825  </td><td>      NA    </td><td>          NA</td></tr>\n",
       "</tbody>\n",
       "</table>\n"
      ],
      "text/latex": [
       "\\begin{tabular}{r|lllll}\n",
       "  & Df & Sum Sq & Mean Sq & F value & Pr(>F)\\\\\n",
       "\\hline\n",
       "\tGestational.Days &    1         &  65449.51    & 65449.5131   & 233.4293     & 3.395226e-48\\\\\n",
       "\tResiduals & 1172         & 328608.34    &   280.3825   &       NA     &           NA\\\\\n",
       "\\end{tabular}\n"
      ],
      "text/markdown": [
       "\n",
       "| <!--/--> | Df | Sum Sq | Mean Sq | F value | Pr(>F) |\n",
       "|---|---|---|---|---|---|\n",
       "| Gestational.Days |    1         |  65449.51    | 65449.5131   | 233.4293     | 3.395226e-48 |\n",
       "| Residuals | 1172         | 328608.34    |   280.3825   |       NA     |           NA |\n",
       "\n"
      ],
      "text/plain": [
       "                 Df   Sum Sq    Mean Sq    F value  Pr(>F)      \n",
       "Gestational.Days    1  65449.51 65449.5131 233.4293 3.395226e-48\n",
       "Residuals        1172 328608.34   280.3825       NA           NA"
      ]
     },
     "metadata": {},
     "output_type": "display_data"
    }
   ],
   "source": [
    "# F-test using anova()\n",
    "anova(model1)"
   ]
  },
  {
   "cell_type": "markdown",
   "metadata": {},
   "source": [
    "As can be seen from both outputs above, the $F$-statistic is equal to 233.4 with $p$-value $<2.2\\times10^{-16}$. With such a small $p$-value there is strong evidence against the null and therefore we conclude that the model which includes gesational days is a better fit (i.e. we conclude that $\\beta_1 \\neq 0$). \n",
    "\n",
    "Notice that in the ```summmary()``` output, the $p$-values for the F-test and the t-test for gestational days are identical, and that $F=233.4=15.24^2=t^2$. \n",
    "\n",
    "\n",
    "### 12.5.2 ANOVA for multivariable linear regression\n",
    "\n",
    "In the context of multivariable linear regression, ANOVA can be used to test whether a more complex model is a better fit than the null model (**the Global F test**), or whether a more complex model is a better fit than a simpler model that includes a subset of the covariates in the complex model (**the partial F test**). Each test requires slight modifications to the ANOVA table defined above and we will discuss these in turn. \n",
    "\n",
    "#### 12.5.2.2 The Global F test\n",
    "\n",
    "The general formulation of the ANOVA table (suitable for simple and multivariable linear regression models) is given in Table 3, where $p$ is the number of covariates in the model. \n",
    "\n",
    "Source      | d.f.      | SS         | Mean Square                        | \n",
    "------------|-----------|------------|------------------------------------|\n",
    "Regression  | $p$       | $SS_{REG}$ | $MS_{REG}=\\frac{SS_{REG}}{p}$      |\n",
    "Residual    | $n-(p+1)$ | $SS_{RES}$ | $MS_{RES}=\\frac{SS_{RES}}{n-p-1}$  | \n",
    "Total       | $n-p$     | $SS_{TOT}$ | $MS_{TOT}=\\frac{SS_{TOT}}{n-1}$    | \n",
    "\n",
    "Table 3: The ANOVA Table \n",
    "\n",
    "Note that this is equivalent to Table 2 when $p=1$. \n",
    "\n",
    "The Global F test tests the null hypothesis ($H_0$) that the null model is a better fit than the more complex model against the alternative hypothesis ($H_1$) that the complex model is a better fit. Or, equivalently:\n",
    "\n",
    "+ $H_0:$ All slope parameters in the complex model are equal to 0.  \n",
    "+ $H_1:$ At least one of the slope parameters in the complex model is not equal to 0. \n",
    "\n",
    "The appropriate $F$ statistic is the ratio $MS_{REG}/MS_{RES}$ (as defined in Table 3). Under the null hypothesis, $F$ follows an $F_{p,(n-(p+1))}$ distribution. \n",
    "\n",
    "*Example:* We can use ```summary()``` to conduct a global F test for Model 3."
   ]
  },
  {
   "cell_type": "code",
   "execution_count": 17,
   "metadata": {},
   "outputs": [
    {
     "data": {
      "text/plain": [
       "\n",
       "Call:\n",
       "lm(formula = Birth.Weight ~ Gestational.Days.Centered + Maternal.Height.Centered, \n",
       "    data = data)\n",
       "\n",
       "Residuals:\n",
       "    Min      1Q  Median      3Q     Max \n",
       "-53.829 -10.589   0.246  10.254  54.403 \n",
       "\n",
       "Coefficients:\n",
       "                           Estimate Std. Error t value Pr(>|t|)    \n",
       "(Intercept)               119.46252    0.47980 248.983  < 2e-16 ***\n",
       "Gestational.Days.Centered   0.45237    0.03006  15.051  < 2e-16 ***\n",
       "Maternal.Height.Centered    1.27598    0.19049   6.698 3.27e-11 ***\n",
       "---\n",
       "Signif. codes:  0 '***' 0.001 '**' 0.01 '*' 0.05 '.' 0.1 ' ' 1\n",
       "\n",
       "Residual standard error: 16.44 on 1171 degrees of freedom\n",
       "Multiple R-squared:  0.1969,\tAdjusted R-squared:  0.1955 \n",
       "F-statistic: 143.5 on 2 and 1171 DF,  p-value: < 2.2e-16\n"
      ]
     },
     "metadata": {},
     "output_type": "display_data"
    }
   ],
   "source": [
    "#ANOVA for Model 3 \n",
    "summary(model3)"
   ]
  },
  {
   "cell_type": "markdown",
   "metadata": {},
   "source": [
    "Our hypotheses are defined as:\n",
    "\n",
    "+ $H_0$: the regression coefficients for both gestational days and mother's height are equal to 0.\n",
    "+ $H_1$: the regression coefficient for either gestational days or mother's height (or both) is not equal to 0. \n",
    "\n",
    "The $F$ statistic is 143.5 with a $p$-value $<2.2 \\times 10^{-11}$. Therefore, there is strong evidence against the null and we can conclude that at least one of the estimated regression coefficients is non-zero (i.e Model 3 is a better fit than the null model). \n",
    "\n",
    "### 12.5.2 The partial F-test \n",
    "\n",
    "The global $F$-test is a joint test of the statistical signficance of all the slope parameters in a linear regression model. On the other hand, the partial $F$-test compares the fit of a complex model (say Model A with $p$ predictors) with a simpler model (say Model B with $p-k$ predictors). \n",
    "\n",
    "The key to the partial $F$-test is the construction of an Analysis of Variance table that partitions the sum of squares explained by the complex model into that explained by the simple model and the extra sum of squares only explained by the complex model. Using the notation that $SS_{REG_A}$ denotes the sum of squares explained by the complex model, whilst $SS_{REG_B}$ denotes the sum of squares explained by the simpler model, the ANOVA table is as shown in Table 3. \n",
    "\n",
    "Source                     | d.f.      | SS                      | Mean Square                                      \n",
    "---------------------------|-----------|-------------------------|-------------------------------------------------\n",
    "Explained by Model B       | $p-k$     | $SS_{REG_B}$            | $MS_{REG_B}=\\frac{SS_{REG_B}}{p-k}$   \n",
    "Explained by Model A       | $p$       | $SS_{REG_A}$            | $MS_{REG_A}=\\frac{SS_{REG_A}}{p}$   \n",
    "Extra explained by Model A | $k$       | $SS_{REG_A}-SS_{REG_B}$ | $MS_{REG_X}=\\frac{(SS_{REG_A}-SS_{REG_B}}{k}$   \n",
    "Residual from Model A      | $n-(p_1)$ | $SS_{RES_A}$            | $MS_{RES}=\\frac{SS_{RES_A}}{n-(p+1)}$         \n",
    "Total                      | $(n-1)$   | $SS_{TOT}$              | $MS_{TOT}=\\frac{SS_{TOT}}{n-1}$                 \n",
    "\n",
    "Table 3: The ANOVA table comparing the fit of a model ( Model A) with $p$ predictors with that of one (Model B) with $(p-k)$ predictors\n",
    "\n",
    "The partial $F$-test tests the null hypothesis that all of the slope parameters included in Model A but omitted from Model B are equal to zero. The alternative hypothesis is that at least one of the additional parameters in Model A is not equal to 0. \n",
    "\n",
    "The appropriate test statistic ($F$) is the ratio of extra mean sum of squares in Model A to the mean residual sum of squares from Model A. Under the null hypothesis, this test statistic follows an $F$-distribution:\n",
    "\n",
    "$$\\text{Under } H_0: F = \\frac{MS_{REG_X}}{MS_{RES}} \\sim F_{k,(n-(p+1))}$$\n",
    "\n",
    "\n",
    "*Example*: We can use ```anova()``` to conduct a partial F-test to compare Models 1 and 3: \n",
    "\n",
    "+ $H_0:$ Model 1 is the better fit \n",
    "+ $H_0:$ Model 3 is the better fit\n"
   ]
  },
  {
   "cell_type": "code",
   "execution_count": 18,
   "metadata": {},
   "outputs": [
    {
     "data": {
      "text/html": [
       "<table>\n",
       "<thead><tr><th scope=col>Res.Df</th><th scope=col>RSS</th><th scope=col>Df</th><th scope=col>Sum of Sq</th><th scope=col>F</th><th scope=col>Pr(&gt;F)</th></tr></thead>\n",
       "<tbody>\n",
       "\t<tr><td>1172        </td><td>328608.3    </td><td>NA          </td><td>      NA    </td><td>      NA    </td><td>          NA</td></tr>\n",
       "\t<tr><td>1171        </td><td>316482.2    </td><td> 1          </td><td>12126.13    </td><td>44.86728    </td><td>3.266475e-11</td></tr>\n",
       "</tbody>\n",
       "</table>\n"
      ],
      "text/latex": [
       "\\begin{tabular}{r|llllll}\n",
       " Res.Df & RSS & Df & Sum of Sq & F & Pr(>F)\\\\\n",
       "\\hline\n",
       "\t 1172         & 328608.3     & NA           &       NA     &       NA     &           NA\\\\\n",
       "\t 1171         & 316482.2     &  1           & 12126.13     & 44.86728     & 3.266475e-11\\\\\n",
       "\\end{tabular}\n"
      ],
      "text/markdown": [
       "\n",
       "| Res.Df | RSS | Df | Sum of Sq | F | Pr(>F) |\n",
       "|---|---|---|---|---|---|\n",
       "| 1172         | 328608.3     | NA           |       NA     |       NA     |           NA |\n",
       "| 1171         | 316482.2     |  1           | 12126.13     | 44.86728     | 3.266475e-11 |\n",
       "\n"
      ],
      "text/plain": [
       "  Res.Df RSS      Df Sum of Sq F        Pr(>F)      \n",
       "1 1172   328608.3 NA       NA        NA           NA\n",
       "2 1171   316482.2  1 12126.13  44.86728 3.266475e-11"
      ]
     },
     "metadata": {},
     "output_type": "display_data"
    }
   ],
   "source": [
    "anova(model1, model3)"
   ]
  },
  {
   "cell_type": "markdown",
   "metadata": {},
   "source": [
    "The $F$-statistic is 44.87 with a $p$-value of $3.23\\times 10^{-11}$. This is strong evidence against the null, and hence the data indicates that Model 3 is the better fit. \n",
    "\n",
    "In this case, the two models only differed by one variable (mother's height) and so the hypotheses could be re-written as: \n",
    "\n",
    "+ $H_0: \\beta_2=0$, where $\\beta_2$ is the regression coefficient for mother's height. \n",
    "+ $H_0: \\beta_2 \\neq 0$. \n",
    "\n",
    "In other words, when the models only differ by one variable, the partial F test is equivalent to the t test of the null hypothesis that the regression coefficient for that variable is equal to 0. Notice in our example that the results of the partial F test are the same as the t-test for $\\beta_2=0$, with $F=t^2$. \n",
    "\n",
    "For this reason, partial F tests are more useful in situations where we wish to compare models that differ by more than one variable. \n",
    "\n",
    "\n",
    "### 12.5.3 ANOVA for models with categorical independent variables.\n",
    "\n",
    "Another useful application of ANOVA is to test for differences in means between categories of a categorical variable. \n",
    "\n",
    "Suppose we are interested in the association between an outcome $Y$ and a categorical variable $X$ with $K$ groups. We have already seen how to define a multivariable linear regression model using dummy variables for this situation. An alternative model, often termed the **ANOVA model**, is as follows: \n",
    "\n",
    "Let $y_{ki}$ be the value of the outcome for the $i^{th}$ observation in the $k^{th}$ group ($i=1,...,n_k$ and $k=1,...,K$). The ANOVA model is then defined as:\n",
    "\n",
    "$$y_{ki}=\\mu_k + \\epsilon_{ki} \\text{, where } \\epsilon_{ki} \\sim NID(0,\\sigma^2)$$\n",
    "\n",
    "Here, $\\mu_k$ is the mean of the outcome in the $k^{th}$ group. With this representation, the null and alternative hypothesis are: \n",
    "\n",
    "+ $H_0: \\mu_k= \\mu$ (i.e. the means in all groups defined by the categorical variables are equal to a common value). \n",
    "+ $H_1: \\mu_k \\neq \\mu$ (i.e. the group means are not all equal). \n",
    "\n",
    "#### 12.5.3.1 Sum of squares for models with categorical variables\n",
    "\n",
    "For models with a single independent categorical variable the fitted values are simply the group means ($\\bar{y_k}$). Under the null hypothesis that the group means are all equal, the fitted values are all equal to the overall mean ($\\bar{y}$). This leads to new terminology for the residual sum of squares ($SS_{RES}$) and the sum of squares explained by the model ($SS_{REG}$):\n",
    "\n",
    "+ $SS_{RES} = \\sum_{k=1}^K \\sum_{i=1}^{n_k} (y_{ki} - \\bar{y}_k)^2$\n",
    "+ $SS_{REG} = \\sum_{k=1}^K \\sum_{i=1}^{n_k} (\\bar{y}_k - \\bar{y})^2 = \\sum_{k=1}^K n_k (\\bar{y}_k - \\bar{y})^2 $\n",
    "\n",
    "\n",
    "\n",
    "\n",
    "In this case, the residual sum of squares is often termed the **within group sum of squares $(SS_{Within})$** and the regression sum of squares is often termed the **between group sum of squares $(SS_{Between})$**.\n",
    "\n",
    "#### 12.5.3.2 The ANOVA table\n",
    "\n",
    "When there are $K$ groups, the degrees of freedom for the within groups sum of squares is $n-K$ (because the model includes $K$ parameters) and the degrees of freedom for the between groups sum of squares is $K-1$ (because the null model contains a single parameter, the overall mean). Hence the ANOVA table is as follows: \n",
    "\n",
    "Source          | d.f.      | SS             | Mean Square                               | \n",
    "----------------|-----------|----------------|-------------------------------------------|\n",
    "Between groups  | $K-1$     | $SS_{Between}$ | $MS_{Between}=\\frac{SS_{Between}}{(K-1)}$ |\n",
    "WIthin Groups   | $n-K$     | $SS_{Within}$  | $MS_{Within}=\\frac{SS_{RES}}{n-K}$        | \n",
    "Total           | $n-1$     | $SS_{TOT}$     | $MS_{TOT}=\\frac{SS_{TOT}}{n-1}$           | \n",
    "\n",
    "Table 4: The ANOVA Table for models with categorical variables\n",
    "\n",
    "\n",
    "#### 12.5.3.3 The F-test\n",
    "\n",
    "To test the null hypothesis that the means in all groups are equal to a common value, the appropriate $F$-statistic is:\n",
    "\n",
    "$$F = \\frac{MS_{Between}}{MS_{Within}} \\sim F_{(K-1), n-K} \\text{ under } H_0$$. \n",
    "\n",
    "If this test obtains a small $p$-value, then we have evidence that the means in the groups are not all the same. However, it does not tell us which of the group means differed from which other group means. For this reason, if we do find evidence of difference in means on an $F$-test, we may want to follow up with further analysis. Such further analysis may include pair-wise comparisons of means through analysis restricted to two groups. \n",
    "\n",
    "*Example* We conduct an F-test to compare the average birthweights between babies whose mothers smoke and whose mothers don't smoke using the birthweight data. \n",
    "\n",
    "Let $\\mu_1$ and $\\mu_0$ denote the mean birthweight for babies whose mothers do smoke and don't smoke, respectively. Then, the relevant hypotheses are: \n",
    "\n",
    "+ $H_0: \\mu_1= \\mu_0$ (i.e. the birthweight of a baby does not depend on whether the mother smoked)\n",
    "+ $H_1: \\mu_1\\neq \\mu_0$\n",
    "\n",
    "Recall that we previously defined Model 2 to related birthweight and mother's smoking status: \n",
    "\n",
    "$$ y_i = \\alpha_0 + \\alpha_1 s_i + \\epsilon_i$$\n",
    "\n",
    "Where $Y$ denotes the birthweight and\n",
    "\n",
    "$$ s_{i}\n",
    "\\begin{cases}\n",
    "    1 & \\text{ if the mother smokes} \\\\\n",
    "    0 & \\text{ if the mother does not smoke}\n",
    "\\end{cases} $$\n",
    "\n",
    "We can rewrite this equation using the ANOVA model as follows: \n",
    "$$\n",
    "\\begin{align}\n",
    "    y_{1i} &=\\mu_1 + \\epsilon_{1i}  \\text{ if the mother smokes} \\\\\n",
    "    y_{0i} &=\\mu_0 + \\epsilon_{0i}  \\text{ if the mother does not smoke}\n",
    "\\end{align} $$\n",
    "Where $y_{ki}$ is the mean birthweight in the $k^{th}$ group (groups are defined by mother's smoking status), $\\mu_1 = \\beta_0 + \\beta_1$ and $\\mu_0=\\beta_0$ (in other words, our null hypothesis can be rewritten as: $\\beta_1=0$). \n",
    "\n",
    "We can use either ```anova()``` or ```summary()``` to conduct the test in R: "
   ]
  },
  {
   "cell_type": "code",
   "execution_count": 19,
   "metadata": {},
   "outputs": [
    {
     "data": {
      "text/html": [
       "<table>\n",
       "<thead><tr><th></th><th scope=col>Df</th><th scope=col>Sum Sq</th><th scope=col>Mean Sq</th><th scope=col>F value</th><th scope=col>Pr(&gt;F)</th></tr></thead>\n",
       "<tbody>\n",
       "\t<tr><th scope=row>factor(Maternal.Smoker)</th><td>   1        </td><td> 24002.06   </td><td>24002.0638  </td><td>76.0167     </td><td>9.461068e-18</td></tr>\n",
       "\t<tr><th scope=row>Residuals</th><td>1172        </td><td>370055.79   </td><td>  315.7473  </td><td>     NA     </td><td>          NA</td></tr>\n",
       "</tbody>\n",
       "</table>\n"
      ],
      "text/latex": [
       "\\begin{tabular}{r|lllll}\n",
       "  & Df & Sum Sq & Mean Sq & F value & Pr(>F)\\\\\n",
       "\\hline\n",
       "\tfactor(Maternal.Smoker) &    1         &  24002.06    & 24002.0638   & 76.0167      & 9.461068e-18\\\\\n",
       "\tResiduals & 1172         & 370055.79    &   315.7473   &      NA      &           NA\\\\\n",
       "\\end{tabular}\n"
      ],
      "text/markdown": [
       "\n",
       "| <!--/--> | Df | Sum Sq | Mean Sq | F value | Pr(>F) |\n",
       "|---|---|---|---|---|---|\n",
       "| factor(Maternal.Smoker) |    1         |  24002.06    | 24002.0638   | 76.0167      | 9.461068e-18 |\n",
       "| Residuals | 1172         | 370055.79    |   315.7473   |      NA      |           NA |\n",
       "\n"
      ],
      "text/plain": [
       "                        Df   Sum Sq    Mean Sq    F value Pr(>F)      \n",
       "factor(Maternal.Smoker)    1  24002.06 24002.0638 76.0167 9.461068e-18\n",
       "Residuals               1172 370055.79   315.7473      NA           NA"
      ]
     },
     "metadata": {},
     "output_type": "display_data"
    },
    {
     "data": {
      "text/plain": [
       "\n",
       "Call:\n",
       "lm(formula = Birth.Weight ~ factor(Maternal.Smoker), data = data)\n",
       "\n",
       "Residuals:\n",
       "    Min      1Q  Median      3Q     Max \n",
       "-68.085 -11.085   0.915  11.181  52.915 \n",
       "\n",
       "Coefficients:\n",
       "                            Estimate Std. Error t value Pr(>|t|)    \n",
       "(Intercept)                 123.0853     0.6645 185.221   <2e-16 ***\n",
       "factor(Maternal.Smoker)True  -9.2661     1.0628  -8.719   <2e-16 ***\n",
       "---\n",
       "Signif. codes:  0 '***' 0.001 '**' 0.01 '*' 0.05 '.' 0.1 ' ' 1\n",
       "\n",
       "Residual standard error: 17.77 on 1172 degrees of freedom\n",
       "Multiple R-squared:  0.06091,\tAdjusted R-squared:  0.06011 \n",
       "F-statistic: 76.02 on 1 and 1172 DF,  p-value: < 2.2e-16\n"
      ]
     },
     "metadata": {},
     "output_type": "display_data"
    }
   ],
   "source": [
    "anova(model2)\n",
    "summary(model2)"
   ]
  },
  {
   "cell_type": "markdown",
   "metadata": {},
   "source": [
    "In the ANOVA table, the ```factor(Maternal.Smoker)``` row gives the between groups results and the ```Residuals``` row gives the within group results. \n",
    "\n",
    "The $F$-statistic is equal to 76.02 with a $p$-value equal to $9.46\\times10^{-18}$. This evidence suggests that there is a difference in the mean birthweight between the two groups defined by mother's smoking status. \n",
    "\n"
   ]
  },
  {
   "cell_type": "markdown",
   "metadata": {},
   "source": [
    "## 12.6 Summary of chapter\n",
    "\n",
    "In the current chapter, we have learnt the following: \n",
    "\n",
    " + The definitions of the simple and multivariable linear regression model\n",
    " + How to express the above models in a single equation and in matrix form \n",
    " + What assumptions are made in linear regression \n",
    " + How to estimate and interpret the parameters in a linear regression model\n",
    " + How to conduct hypothesis tests to test the null hypothesis that an estimated regression coefficient is equal to some constant\n",
    " + How to obtain and interpret confidence intervals for estimated regression coefficients and fitted values\n",
    " + How to obtain and interpret prediction intervals for fitted values\n",
    " + How to include categorical variables in a linear regression model\n",
    " + What it means to center a variable in linear regression\n",
    " + How to perform ANOVA to compare nested models\n",
    " + How to perform ANOVA to compare group means \n",
    " \n",
    "In the next chapter we will learn about some diagnostics tools that are available for assessing the assumptions of a linear model and how to model more complex relationships between covariates and the outcome. We will also discuss how the type of investigation influences the presentation and interpretation of the results of linear regression. \n",
    "\n",
    "## 12.7 Proofs\n",
    "\n",
    "### 12.7.1 Proof for the ordinary least squares estimates in simple linear regression\n",
    "\n",
    "Recall the ordinary least square estimates of the intercept ($\\beta_0$) and slope ($\\beta_1$) in simple linear regression are:\n",
    "\n",
    "\\begin{align}\n",
    "\\hat{\\beta_0} &= \\bar{y} - \\hat{\\beta_0}\\bar{x} \\\\\n",
    "\\hat{\\beta_1} &= \\frac{\\sum_{i=1}^2 (x_i-\\bar{x})(y_i-\\bar{y})}{\\sum_{i=1}^n (x_i-\\bar{x_i})^2}\n",
    "\\end{align}\n",
    "\n",
    "Proof:\n",
    "\n",
    "To solve for the value of $\\beta_0$ that minimises $SS_{RES}$, we differentiate $SS_{RES}$ with respect to $\\hat{\\beta}_0$ and set the differential to zero:\n",
    "\n",
    "$$ \\frac{d(SS_{RES})}{d(\\hat{\\beta}_0)} = \\sum_{i=1}^n -2(y_i-\\hat{\\beta_0}-\\hat{\\beta_1}x_i)=0$$\n",
    "\n",
    "Since $\\sum_{i=1}^n (y_i)=n\\bar{y}$ and $\\sum_{i=1}^n(x_i)=n\\bar{x}$, we can simplify to:\n",
    "\n",
    "$$-n\\bar{y}+n\\hat{\\beta}_0+n\\hat{\\beta}_1\\bar{x}=0$$\n",
    "\n",
    "Rearranging the above and divide by $n$ to give:\n",
    "\n",
    "$$\\hat{\\beta}_0=\\bar{y}-\\hat{\\beta}_1\\bar{x}$$. \n",
    "\n",
    "To solve for the value of $\\beta_1$ that minimises $SS_{RES}$, we have to differentiate with respect to $\\hat{\\beta}_1$. First, we substitute in our solution for $\\hat{\\beta}_0$ as follows: \n",
    "\n",
    "$$SS_{RES}=\\sum_{i=1}^n(y_i-(\\bar{y}-\\hat{\\beta}_1\\bar{x})-\\hat{\\beta}_1x_i)^2=\\sum_{i=1}^n ((y_i-\\bar{y})-\\hat{\\beta}_1(x_i-\\bar{x}))^2$$\n",
    " \n",
    "Now differentiating the above with respect to $\\hat{\\beta}_1$ and setting the differential to zero gives: \n",
    "\n",
    "$$\\frac{d(SS_{RES})}{d(\\hat{\\beta}_1)} = \\sum_{i=1}^n -2(x_i-\\bar{x})(y_i-\\bar{y})+2\\hat{\\beta}_1(x_i-\\bar{x})^2=0$$\n",
    "\n",
    "Rearranging gives:\n",
    "\n",
    "$$\\hat{\\beta}_1\\sum_{i=1}^n (x_i-\\bar{x})^2 = \\sum_{i=1}^n (x_i-\\bar{x})(y_i-\\bar{y})$$\n",
    "\n",
    "$$\\hat{\\beta}_1 = \\frac{\\sum_{i=1}^n (x_i-\\bar{x})(y_i-\\bar{y})}{\\sum_{i=1}^n(x_i-\\bar{x})^2}$$\n",
    "\n",
    "### 12.7.2 Proof that the OLS estimates are also the maximum likelihood estimates\n",
    "\n",
    "If $Y_i \\sim NID(\\mu, \\sigma^2)$, the log likelihood function is:\n",
    "\n",
    "$$l(\\mu | y_1,...,y_n) = -\\frac{1}{2\\sigma^2}\\sum_{i=1}^n (y_i - \\mu)^2$$\n",
    "\n",
    "So, for the simple linear regression model:\n",
    "\n",
    "$$l(\\beta_0, \\beta_1 | y_1,...,y_n) = -\\frac{1}{2\\sigma^2}\\sum_{i=1}^n (y_i - \\beta_1x_i-\\beta_0)^2$$. \n",
    "\n",
    "Therefore, for any fixed positive value for $\\sigma^2$, maximising the log likelihood function is equivalent to minimising $SS_{RES}$ and so the OLS estimates are also maximum likelihood estimates of $\\beta_0$ and $\\beta_1$. "
   ]
  }
 ],
 "metadata": {
  "kernelspec": {
   "display_name": "R",
   "language": "R",
   "name": "ir"
  },
  "language_info": {
   "codemirror_mode": "r",
   "file_extension": ".r",
   "mimetype": "text/x-r-source",
   "name": "R",
   "pygments_lexer": "r",
   "version": "3.6.1"
  }
 },
 "nbformat": 4,
 "nbformat_minor": 4
}
