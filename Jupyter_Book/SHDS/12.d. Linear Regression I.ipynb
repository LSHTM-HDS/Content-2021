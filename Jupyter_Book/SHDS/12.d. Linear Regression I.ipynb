{
 "cells": [
  {
   "cell_type": "markdown",
   "metadata": {},
   "source": [
    "## 12.3 The simple linear regression model \n",
    "\n",
    "The equation for the simple linear regression model, relating $X$ and $Y$ is:\n",
    "\n",
    "$$Y = \\beta_0 + \\beta_1 X + \\epsilon $$\n",
    "\n",
    "There are two components of this model: the **linear predictor** and the **error term**. The linear predictor represents the variation in $Y$ that can be predicted using the model: $\\beta_0 + \\beta_1 X$. The error term, denoted by $\\epsilon$, represents the variation in $Y$ that cannot be predicted. This variation is sometimes referred to as the **random error** or **noise**.\n",
    "\n",
    "The subsequent two sections take a closer look at the linear predictor and error term, respectively. \n",
    "\n",
    "### 12.3.1 The linear predictor\n",
    "\n",
    "The linear predictor is the algebraic relationship between the mean of the outcome and the independent variable. When $X$ takes a particular value, $X=x$, the value of the linear predictor, $\\beta_0+\\beta_1x$, is interpreted as the expected value of $Y$ when $X$ takes the value $x$:\n",
    "\n",
    "$$E(Y|X=x) = \\beta_0 + \\beta_1 x$$.\n",
    "\n",
    "This value ($E(Y|X=x)$) is known as the **fitted**  (or **predicted**) value of $Y$ and is often denoted by $\\hat{Y}$ (pronounced \"Y hat\").\n",
    "\n",
    "The specification of the linear predictor has two parameters: $\\beta_0$ and $\\beta_1$. These are interpreted as follows:\n",
    "\n",
    "+ $\\beta_0$ is the intercept. It is the expectation of $Y$ when $X$ takes the value 0.\n",
    "+ $\\beta_1$ is the slope (or gradient). It is the expected change in $Y$ per one unit increase in $X$. \n",
    "\n",
    "It is worth emphasising that this model assumes that **the relationship between $X$ and $Y$ is linear** (hence the name *linear* regression!). It is important to note that it is possible to have more complex relationships between variables that do not meet this assumption (see examples in the plots below), in which case simple linear regression would not be an appropriate method to use."
   ]
  },
  {
   "cell_type": "code",
   "execution_count": 3,
   "metadata": {},
   "outputs": [
    {
     "data": {
      "image/png": "[encoded data removed]",
      "text/plain": [
       "Plot with title \"Non-linear Association\""
      ]
     },
     "metadata": {},
     "output_type": "display_data"
    }
   ],
   "source": [
    "### Set random number generator\n",
    "set.seed(24082098)\n",
    "\n",
    "#Set graphical display to show 2 plots in a row\n",
    "par(mfrow=c(1,2))\n",
    "\n",
    "#Simulate a linear X-Y relationship and plot\n",
    "x<-rnorm(100,0,1)\n",
    "ylin<-x+rnorm(100,0,0.5)\n",
    "plot(x,ylin,xaxt=\"n\", yaxt=\"n\", xlab=\" \", ylab=\" \", main=\"Linear Association\")\n",
    "title(ylab=\"Y\", line=0, cex.lab=1.2)\n",
    "title(xlab=\"X\", line=0, cex.lab=1.2)\n",
    "\n",
    "#Simulate a non-linear X-Y relationship and plot\n",
    "ynonlin<-exp(x)+rnorm(100,0,0.5)\n",
    "plot(x,ynonlin, xlim=c(-0.5,3), yaxt=\"n\", xaxt=\"n\", xlab=\" \", ylab=\" \", main=\"Non-linear Association\")\n",
    "title(ylab=\"Y\", line=0, cex.lab=1.2)\n",
    "title(xlab=\"X\", line=0, cex.lab=1.2)"
   ]
  },
  {
   "cell_type": "markdown",
   "metadata": {},
   "source": [
    "### 12.3.2 The error term \n",
    "\n",
    "As previously stated, the error term, $\\epsilon$ represents the variance in $Y$ that cannot be predicted by the model. $\\epsilon$ is a vector of length $n$  (where $n$ is the sample size), where the individual values are known as **residuals** and are equal to the differences between the observed $y$ and their fitted values from the model ($\\beta_0 + \\beta_1x$). \n",
    "\n",
    "We assume that $\\epsilon$ has a normal distribution with mean 0 and variance $\\sigma^2$, where $\\sigma^2$ is termed the **residual variance** (i.e. the variance of the residuals):\n",
    "\n",
    "$$\\epsilon \\sim N(0,\\sigma^2)$$\n",
    "\n",
    "**N.B.** The true residual is equal to the difference between the observed value $y$ and its value as predicted from the true model ($\\beta_0+\\beta_1x$). Note that these true residuals are defined in terms of deviations from the model defined by population parameters. The term residual is also used to define deviations from a fitted regression model (i.e. a model in which $\\beta_0$ and $\\beta_1$ are replaced by the estimates). The terms **true** residual and **observed** (or **fitted** or **estimated**) residual can be used when we need to make this distinction clear. However, for the remainder of this lesson, this term \"residuals\" is used to refer to observed residuals.\n",
    "\n",
    "### 12.3.3 Different ways of expressing the simple linear regression model\n",
    "\n",
    "Suppose we have a sample size of $n$ and we let $y_i$ and $x_i$ $(i=1,...,n)$ denote the observed outcome and value of $X$ for the $i^{th}$ observation, respectively. Then, we can write the simple linear regression model as: \n",
    "\n",
    "$$y_i = \\beta_0 + \\beta_1 x_{i}+ \\epsilon_i \\text{ where } \\epsilon_i \\sim NID(0, \\sigma^2).$$ \n",
    "\n",
    "Here $NID$ stands for \"Normally and Independently Distributed\". A key assumption of linear regression model is that all of the observations are independent. \n",
    "\n",
    "This relationship can also be expressed using matrix algebra:\n",
    "\n",
    "$$\\mathbf{Y}=\\mathbf{X}\\mathbf{\\beta}+\\mathbf{\\epsilon} \\text{ where }\\epsilon \\sim N(0,\\mathbf{I}\\sigma^2)$$\n",
    "\n",
    "$$\\begin{vmatrix}y_1\\\\y_2 \\\\. \\\\. \\\\. \\\\y_n \\end{vmatrix}=\\begin{vmatrix}1 & x_1 \\\\ 1 & x_2 \\\\1 & . \\\\1 & .  \\\\ 1& . \\\\1 & x_n \\end{vmatrix}\\begin{vmatrix} \\beta_0 \\\\ \\beta_1 \\end{vmatrix}+\\begin{vmatrix}\\epsilon_1\\\\ \\epsilon_2 \\\\ . \\\\ . \\\\. \\\\ \\epsilon_n \\end{vmatrix} $$\n",
    "\n",
    "In this formulation, $\\mathbf{X}$ is an $n \\times 2$ matrix, $Y$ and $\\epsilon$ are vectors of length $n$ whilst $\\beta$ is a vector of length 2. \n",
    "\n",
    "### 12.3.4 Assumptions\n",
    "It is worth emphasising the four key assumptions that we have made in the simple linear regression model:\n",
    "\n",
    "1. **Linearity**: The relationship between $X$ and the mean of $Y$ is linear.\n",
    "2. **Normality**: The residuals are normally distributed. \n",
    "3. **Homoscedasticity**: The variance of residuals are constant across all values of $X$.\n",
    "4. **Independence**: All observations are independent of each other."
   ]
  }
 ],
 "metadata": {
  "kernelspec": {
   "display_name": "R",
   "language": "R",
   "name": "ir"
  },
  "language_info": {
   "codemirror_mode": "r",
   "file_extension": ".r",
   "mimetype": "text/x-r-source",
   "name": "R",
   "pygments_lexer": "r",
   "version": "3.6.1"
  }
 },
 "nbformat": 4,
 "nbformat_minor": 4
}
