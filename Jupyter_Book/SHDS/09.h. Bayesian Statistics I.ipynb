{
 "cells": [
  {
   "cell_type": "markdown",
   "metadata": {},
   "source": [
    "## 9.7 Prior Predictions\n",
    "\n",
    "Before observing a quantity $y$, we can provide its predictive distribution by integrating out the unknown parameter,\n",
    "\n",
    "$$\n",
    "p(y) = \\int p(y|\\theta) p(\\theta) d\\theta.\n",
    "$$\n",
    "\n",
    "Predictions are useful in many settings, for example forecasting, cost-effectiveness models and design of\n",
    "studies. In the trial described earlier in this section, we had 10 patients. Suppose we are interested in predicting the number of patients who will have a positive response. Recall that the Beta distribution is a suitable prior distribution for $\\theta$, the proportion of positive responses. We have:\n",
    "\n",
    "$$\n",
    "\t\\theta \\sim \\hbox{Beta}(a,b) \\\\\n",
    "\ty \\sim \\hbox{Binomial}(\\theta,n)\n",
    "$$\n",
    "\n",
    "The exact predictive distribution $p(y)$ can be computed analytically and is known as the *Beta-Binomial* distribution. It has the complex form with three parameters,  number of trials $n$ and shape parameters, $a$ and $b$: \n",
    "\n",
    "$$\n",
    "p(y) =  \\frac{ \\Gamma (a+ b)}{ \\Gamma (a) \\Gamma (b) }  {n \\choose y}  \\frac{\\Gamma (a+ y) \\Gamma (b+n-y)}{\\Gamma (a+b+n)} \\\\\n",
    "E(y) =  n \\frac{a}{a+b}\n",
    "$$\n",
    "\n",
    "\n",
    "Given that we use the asymmetrical $Beta(2, 9)$ prior, our predictive distribution would be: \n",
    "\n",
    "$$\n",
    "p(y) =  \\frac{ \\Gamma (11)}{ \\Gamma (2) \\Gamma (9) }  {10 \\choose y}  \\frac{\\Gamma (2+ y) \\Gamma (19-y)}{\\Gamma (21)},\n",
    "$$\n",
    "\n",
    "with $E(y) =  10 \\frac{2}{11} = 1.81$. So, before observing any data, we would predict around 2 patients to have a positive response out of 10.\n",
    "\n",
    "\n",
    "### 9.7.1 Posterior Prediction\n",
    "\n",
    "Suppose that have observed $y$, and we want to predict future observations $z$, assuming that $z$ and $y$ are independent, conditional on $\\theta$. The posterior predictive distribution for $z$ is given by,\n",
    "\n",
    "$$\n",
    "p(z|y) = \\int p(z, \\theta | y) d \\theta \\\\\n",
    "     = \\int p(z |y, \\theta) p(\\theta |y ) d \\theta \\\\ \n",
    "      = \\int p(z | \\theta) p(\\theta |y ) d \\theta \n",
    "$$\n",
    "\n",
    "We are now weighting the probability distribution function for $z$ with our posterior belief after having observed $y$. \n",
    "\n",
    "For our example, we found that the posterior distribution $p(\\theta |y ) $ is a Beta($a+y, b+n-y$) distribution. Thus our posterior predictive distribution is a Beta-binomial distribution with the number of trials $n_p$ and shape parameters $a+y, b+n-y$.   \n",
    "\n",
    "Now, given that we use the asymmetrical $Beta(2, 9)$ prior, and then observe that $y=4$ patients out of $n=10$ had a successful result, and we wish to predict how many sucesses $z$ out of $n_p=20$ to expect, our posterior predictive distribution is a Beta-binomial with parameters $20$ and shape parameters $6$ and $15$. The expectation of this distribution is $E(y) =  20 \\frac{6}{21} \\approx 6$ patients. \n"
   ]
  },
  {
   "cell_type": "code",
   "execution_count": null,
   "metadata": {},
   "outputs": [],
   "source": []
  }
 ],
 "metadata": {
  "kernelspec": {
   "display_name": "R",
   "language": "R",
   "name": "ir"
  },
  "language_info": {
   "codemirror_mode": "r",
   "file_extension": ".r",
   "mimetype": "text/x-r-source",
   "name": "R",
   "pygments_lexer": "r",
   "version": "3.6.1"
  }
 },
 "nbformat": 4,
 "nbformat_minor": 4
}
