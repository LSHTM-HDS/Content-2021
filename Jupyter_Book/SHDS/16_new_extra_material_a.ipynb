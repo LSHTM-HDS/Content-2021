{
 "cells": [
  {
   "cell_type": "markdown",
   "metadata": {},
   "source": [
    "## 14.6 Different types of investigation \n",
    "\n",
    "We have now learnt how to fit linear models, interpret the results, test the assumptions and model more complex associations. We now consider the different types of research question that linear regression models can be used for. We will see how the type of research question being asked can influence the role of the covariates and the interpretation and presentation of the results. "
   ]
  },
  {
   "cell_type": "markdown",
   "metadata": {},
   "source": [
    "### 14.6.1 Different types of investigation\n",
    "\n",
    "The three different types of investigation we focus on here are:\n",
    "\n",
    "1. Analysis of risk factors\n",
    "2. Prediction analysis\n",
    "3. Causal inference \n",
    "\n",
    "These types of investigation were introduced in Lesson 11 and we provide a brief reminder here. \n",
    "\n",
    "A **risk factor** for a particular outcome is a variable that is associated with that outcome. In a risk factor analysis the aim is to investigate how one or more potential risk factors are associated with an outcome. For example, we may want investigate how age, sex, comorbidities etc. are associated with the risk of contracting coronavirus disease. \n",
    "\n",
    "Prediction analysis uses variables in our data to predict a future observation of a particular outcome. The model in a prediction analysis may be referred to as a **prediction model**, a **risk prediction model** or a **prognosis model**. A well known example of a predition model is the [QRISK](https://qrisk.org/three/) score which predicts a person's risk of developing a heart attack or stroke over the next 10 years using a range of characteristics such as age, sex, smoking status etc. \n",
    "\n",
    "Causal inference focuses on estimating the effect of a particular **exposure** or **treatment** of interest on an outcome.  For example, we may be interested in the **casual effect** of insulin use (treatment) on lung function (outcome) in patients with cystic fibrosis. \n",
    "\n",
    "*Exercise*. Recall the three examples given for types questions that we can investigate using statistical models (at the beginning of the previous chapter): \n",
    "\n",
    "   + Does birthweight increase with length of pregnancy?\n",
    "   + Does taking drug A reduce inflammation more than taking drug B in patients with arthritis?\n",
    "   + Can we predict the risk of heart disease for our patients? \n",
    "   \n",
    "What type of research question do you classify the above examples as? \n",
    "\n",
    "In the following subsections we will consider how the different types of investigation influence how we perform and interpret linear regression analyses in more detail. In each case we will assume that we are interested in one outcome $Y$ and three covariates $X_1$, $X_2$ and $X_3$.  \n",
    "\n",
    "### 14.6.2 Analysis of risk factors\n",
    "\n",
    "Analyses of risk factors are concerned with estimating conditional and/or unconditional associations between the covariates ($X_1$, $X_2$ and $X_3$) and the outcome ($Y$). Typical analyses may start with univariable regression models (e.g. three simple linear regression models relating $Y$ to each covariate individually) and then proceed to a multivariable analysis. In such analyses we would report the estimated regression coefficients and associated confidence intervals.\n",
    "\n",
    "In such analyses it is important to remember that association does not imply causation. Results from risk factor analyses are often mistakenly interpreted as causal. However, this type of analysis does not consider temporal ordering, or appropriately account for confounding (a concept described in more detail in a subsequent section) and so interpreting the regression coefficients in a risk factor analysis as causal effects can be misleading. \n",
    "\n",
    "The results from a risk factor analysis may reveal some associations that are potentially causal and it might be of interest to follow up with a formal causal inference.\n",
    "\n",
    "### 14.6.3 Prediction \n",
    "\n",
    "In a prediction analysis, we would use $X_1$, $X_2$ and $X_3$ to predict $Y$ and the $X$-variables are often termed **predictors**. In this type of analysis, we are less concerned with how the covariate relates to each other and their temporal ordering. We simply want to achieve a good prediction of $Y$. The statistics of interest are the fitted values (often termed **predictions** or **predicted values**), rather than the estimated regression coefficients. When reporting the results of a prediction analysis we would report which variables were included in the prediction model and how they were modelled, along with diagnostics that measure the predictive performance of the model (e.g. the coefficient of determination and the mean square error).  \n",
    "\n",
    "\n",
    "### 14.6.4 Causal inference\n",
    "\n",
    "Suppose we are interested in estimating the effect of $X_1$ on $Y$. The focus of the analysis is on estimating the regression coefficient of $X_1$ ($\\beta_1$) and the results should report this estimate along with a confidence interval. However, in order to obtain an estimate of $\\beta_1$ that we can interpret causally, we need to control (or adjust) for the **confounding effects** of the other covariates. This can be a difficult task and for this reasons causal inference is often thought to be the most challenging type of investigation. \n",
    "\n",
    "Confounding occurs when there are covariates that obscure the true causal association between the exposure of interest and the outcome. This will happen when the exposure and the outcome share common causes. \n",
    "\n",
    "*Example 1:* Suppose we are interested in the effect of air pollution on lung function. Here, air pollution is the exposure ($X$) and lung function is the outcome ($Y$). In our analysis we compare the average lung functions of people living in an area with low air pollution (the **unexposed** or **control** group) to people in an area with high air pollution (the **exposed** group), using a simple linear regression relating $Y$ to $X$ ($X=1$ for people in the exposed group and $X=0$ for people in the unexposed group). We find that the average lung function is much worse in the exposed group, compared to the unexposed and so conclude that air pollution has a strong negative effect on lung function. However, suppose that the people in the unexposed group exercise more, on average, than the exposed group (poor air quality discourages people from spending time outside and therefore the exposed group exercise less). Since exercise is a predictor of lung function, the average lung function in the unexposed group would be higher, on average, than the lung function in the exposed group. Consequently, a simple comparison of average lung functions between the two groups, not accounting for exercise, would make the effect of air pollution seem larger than it actually is. In this case, exercise **confounds** the association between air pollution and lung function. To obtain an unbiased estimate of the causal effect of air pollution on lung function, we would need to adjust for exercise. \n",
    "\n",
    "*Example 2:* Suppose we are interested in the effect of taking vitamin supplements on risk of cardiovascular disease. We compare the rates of cardiovascular disease in people who take vitamins compared to those who don't, and find that the group who do take vitamins are less likely to develop cardiovascular disease. We may conclude that taking vitamins lowers risk of cardiovascular disease. However, the people who do take vitamins are also more likely to exercise more, eat more healthily, drink less alcohol and not smoke, compared to those who do not take vitamins. It turns out, that their lifestyle choices are the real causes of the lower risk of cardiovascular disease, not the use of vitamins. \n",
    "\n",
    "*Exercise: identify the exposure, outcome and confounders in Example 2.*\n"
   ]
  }
 ],
 "metadata": {
  "kernelspec": {
   "display_name": "R",
   "language": "R",
   "name": "ir"
  },
  "language_info": {
   "codemirror_mode": "r",
   "file_extension": ".r",
   "mimetype": "text/x-r-source",
   "name": "R",
   "pygments_lexer": "r",
   "version": "3.6.1"
  }
 },
 "nbformat": 4,
 "nbformat_minor": 4
}
