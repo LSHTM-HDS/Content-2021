{
 "cells": [
  {
   "cell_type": "markdown",
   "metadata": {},
   "source": [
    "## 16.5 Programming GLM's in R\n",
    "\n",
    "To fit a GLM in R you will need to use the glm() function where we tell R what the distribution of the errors and linear predictor should be.\n",
    "\n",
    "The function syntax is as followed:\n",
    "\n",
    "    glm(formula, family = gaussian, data, weights, subset,\n",
    "    na.action, start = NULL, etastart, mustart, offset,\n",
    "    control = list(…), model = TRUE, method = \"glm.fit\",\n",
    "    x = FALSE, y = TRUE, singular.ok = TRUE, contrasts = NULL, …)\n",
    "    \n",
    "The minimal inputted parameters required is the *formula* and the *family*. The *formula* tells R in a symbolic description what model is required to be fitted and the *family* describes what error distribution and link function are required. "
   ]
  }
 ],
 "metadata": {
  "kernelspec": {
   "display_name": "R",
   "language": "R",
   "name": "ir"
  },
  "language_info": {
   "codemirror_mode": "r",
   "file_extension": ".r",
   "mimetype": "text/x-r-source",
   "name": "R",
   "pygments_lexer": "r",
   "version": "3.6.1"
  }
 },
 "nbformat": 4,
 "nbformat_minor": 4
}
