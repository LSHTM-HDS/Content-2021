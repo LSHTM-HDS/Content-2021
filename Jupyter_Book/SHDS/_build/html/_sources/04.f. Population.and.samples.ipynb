{
 "cells": [
  {
   "cell_type": "markdown",
   "metadata": {},
   "source": [
    "## 4.5 Summary\n",
    "\n",
    "* In this session we have introduced the concept of populations and samples, and how we use statistical inference to make statements about the unknown population parameters. \n",
    "*  These unknown popultion parameters are estimated by sample statistics. Variability in the sample and any associated statistics are to be expected. \n",
    "* The variability in the sample statistics can be quantified by estimating the standard error. "
   ]
  },
  {
   "cell_type": "code",
   "execution_count": null,
   "metadata": {},
   "outputs": [],
   "source": []
  }
 ],
 "metadata": {
  "kernelspec": {
   "display_name": "R",
   "language": "R",
   "name": "ir"
  },
  "language_info": {
   "codemirror_mode": "r",
   "file_extension": ".r",
   "mimetype": "text/x-r-source",
   "name": "R",
   "pygments_lexer": "r",
   "version": "3.6.1"
  }
 },
 "nbformat": 4,
 "nbformat_minor": 4
}
