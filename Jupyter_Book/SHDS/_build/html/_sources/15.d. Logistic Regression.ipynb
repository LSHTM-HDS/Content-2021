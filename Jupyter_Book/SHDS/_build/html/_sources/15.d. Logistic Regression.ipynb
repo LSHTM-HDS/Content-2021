{
 "cells": [
  {
   "cell_type": "markdown",
   "metadata": {},
   "source": [
    "# 15.3 The logistic regression model\n",
    "\n",
    "Throughout this session we will assume that the outcome $Y$ is binary. Further, we assume that $Y$ takes a value of 0 (\"failure\") or 1 (\"success\"). As we discussed earlier, the terminology of success and failure does not imply success is a good thing; in health applications \"success\" often refers to a bad outcome such as death. \n",
    "\n",
    "We will initially consider the simple situation with a single independent variable of interest, $X$. We assume that conditional on $X$, the outcome $Y$ follows a Bernoulli distribution:\n",
    "\n",
    "$$\n",
    "Y | X=x \\sim Bernoulli(\\pi_x)\n",
    "$$\n",
    "\n",
    "Then $\\pi_x$ is the conditional probability of sucess, given $X=x$. It also represents the conditional expectation of the outcome, given $X=x$.\n",
    "\n",
    "$$\n",
    "\\pi_x = E[Y | X=x] = P(Y=1 | X=x)\n",
    "$$\n",
    "\n",
    "Typically, our research question involves relating this probability to the covariate(s). "
   ]
  },
  {
   "cell_type": "markdown",
   "metadata": {},
   "source": [
    "## 15.3.1 Components of the model\n",
    "\n",
    "### The logit function\n",
    "\n",
    "As we have discussed, we do not wish to directly model $\\pi$, because fitted values can lie outside the possible range of values. Instead, we will first transform $\\pi$. In other words, we will model a function of $\\pi$. We want a one-to-one function (so we can back-transform to the original scale, if we wish) that maps a probability $\\pi$ to the whole real line. \n",
    "\n",
    "The function that we use in logistic regression is called the **logit function**. Specifically,\n",
    "\n",
    "$$\n",
    "logit(\\pi) = log\\left(\\frac{\\pi}{1-\\pi}\\right)\n",
    "$$\n",
    "\n",
    "The probability $\\pi$ lies in the interval $[0,1]$ but the transformed value, $logit(\\pi)$ lies in the range $(-\\infty, \\infty)$. \n",
    "\n",
    "It will also be useful to know how to back-transform. If $logit(\\pi) = L$ then\n",
    "\n",
    "$$\n",
    "\\pi = \\frac{exp(L)}{1 + exp(L)}\n",
    "$$\n",
    "\n",
    "This relationship will allow us to obtain fitted probabilities from our logistic regression model.\n"
   ]
  },
  {
   "cell_type": "markdown",
   "metadata": {},
   "source": [
    "#### Odds\n",
    "\n",
    "Suppose we have a binary outcome, where the probability of success is $\\pi$, i.e. $P(Y=1) = \\pi$. Then the **odds** of success are given by\n",
    "\n",
    "$$\n",
    "\\frac{\\pi}{1-\\pi}\n",
    "$$\n",
    "\n",
    "Therefore, $logit(\\pi)$ is the logarithm of the odds, or the log-odds. We will see below that using the logit function leads to the parameters of the regression model being interpreted in terms of odds and odds ratios."
   ]
  },
  {
   "cell_type": "markdown",
   "metadata": {},
   "source": [
    "### The linear predictor\n",
    "\n",
    "Just as for linear regression models, the linear predictor is an additive function of the independent variables. With a single covariate, it is simply:\n",
    "\n",
    "$$\n",
    "\\beta_0 + \\beta_1 X\n",
    "$$\n"
   ]
  },
  {
   "cell_type": "markdown",
   "metadata": {},
   "source": [
    "## 15.3.2 The basic logistic regression model\n",
    "\n",
    "The equation for a logistic regression model with, relating $X$ to a binary outcome $Y$ is:\n",
    "\n",
    "$$\n",
    "logit(\\pi_x) = \\beta_0 + \\beta_1 X\n",
    "$$\n",
    "\n",
    "Note that, unlike linear regression, there is no explicit error term in the logistic regression model. "
   ]
  },
  {
   "cell_type": "markdown",
   "metadata": {},
   "source": [
    "### Interpreting the parameters\n",
    "\n",
    "Suppose that our single covariate $X$ is binary, taking values 1 (exposed, say) and 0 (unexposed). Our model is then:\n",
    "\n",
    "$$\n",
    "logit(\\pi_x) =\n",
    "\\begin{cases} \\beta_0 &\\text{when $X$=0 (unexposed group)} \\\\\n",
    "\\beta_0 + \\beta_1 &\\text{when $X$=1 (exposed group)}\n",
    "\\end{cases}\n",
    "$$\n",
    "\n",
    "In other words, we have:\n",
    "\n",
    "$$\n",
    "\\begin{align*}\n",
    "\\beta_0 &\\qquad \\text{is the log-odds of the outcome in the unexposed group} \\\\\n",
    "\\beta_0 + \\beta_1 &\\qquad \\text{is the log-odds of the outcome in the exposed group}\n",
    "\\end{align*}\n",
    "$$\n",
    "\n",
    "Taking the exponential, we have\n",
    "\n",
    "$$\n",
    "\\begin{align*}\n",
    "e^{\\beta_0} &\\qquad \\text{is the odds of the outcome in the unexposed group} \\\\\n",
    "e^{\\beta_0 + \\beta_1} &\\qquad \\text{is the odds of the outcome in the exposed group}\n",
    "\\end{align*}\n",
    "$$\n",
    "\n",
    "Now we have that $e^{\\beta_0 + \\beta_1}  = e^{\\beta_0} \\times e^{\\beta_1}$. Therefore, $e^{\\beta_1}$ also represents the multiplicative increase in the odds, going from the unexposed group to the exposed group. This multiplicative increase is known as the **odds ratio**.  Therefore,  we can also write: \n",
    "\n",
    "$$\n",
    "\\begin{align*}\n",
    "e^{\\beta_0} &\\qquad \\text{is the odds of the outcome in the unexposed group} \\\\\n",
    "e^{\\beta_1} &\\qquad \\text{is the odds ratio of the outcome, comparing the exposed group to the unexposed group}\n",
    "\\end{align*}\n",
    "$$\n",
    "\n",
    "\n",
    "### General interpretation\n",
    "\n",
    "This leads us to the following interpretation of the model:\n",
    "\n",
    "$$\n",
    "logit(\\pi_x) = \\beta_0 + \\beta_1 X\n",
    "$$\n",
    "\n",
    "- The intercept, $\\beta_0$ is the log-odds among those with $X=0$. This is often called the **baseline log-odds**. Alternatively, the exponential $e^{\\beta_0}$ is the odds among those with $X=0$. \n",
    "\n",
    "- The slope, $\\beta_1$, is the difference in the log-odds associated with a one-unit increase in $X$. Equivalently, $e^{\\beta_1}$ is the odds ratio associated with a one-unit increase in $X$.\n"
   ]
  },
  {
   "cell_type": "code",
   "execution_count": null,
   "metadata": {},
   "outputs": [],
   "source": []
  }
 ],
 "metadata": {
  "hide_code_all_hidden": false,
  "kernelspec": {
   "display_name": "R",
   "language": "R",
   "name": "ir"
  },
  "language_info": {
   "codemirror_mode": "r",
   "file_extension": ".r",
   "mimetype": "text/x-r-source",
   "name": "R",
   "pygments_lexer": "r",
   "version": "3.6.1"
  }
 },
 "nbformat": 4,
 "nbformat_minor": 4
}
