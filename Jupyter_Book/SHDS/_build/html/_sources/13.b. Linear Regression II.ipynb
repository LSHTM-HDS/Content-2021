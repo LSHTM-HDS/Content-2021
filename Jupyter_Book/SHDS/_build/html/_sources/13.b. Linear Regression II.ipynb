{
 "cells": [
  {
   "cell_type": "markdown",
   "metadata": {},
   "source": [
    "## 13.1 Introduction\n",
    "\n",
    "In the last lesson, we introduced the linear regression model and learnt how to estimate the model parameters and conduct statistical inference on our estimates. We also briefly discussed the assumptions of a linear regression model, but did not consider the validity of the assumptions in our examples. In this session, we will learn about a variety of diagnostic tools that can be used to test the assumptions we make (Section 3). We then learn how to fit more complex linear models which are useful in situations where the covariate is not linearly associated with the outcome (Section 4). We end the lesson by discussing how the type of research question being asked influences the way we present and interpret the results from a linear regression model (Section 5). \n",
    " \n",
    "The examples in the current lesson will use the same birthweight data as was used in the examples in the previous lesson. The data can be downloaded using the following code: "
   ]
  },
  {
   "cell_type": "code",
   "execution_count": 1,
   "metadata": {},
   "outputs": [],
   "source": [
    "#Load data\n",
    "data<- read.csv('https://www.inferentialthinking.com/data/baby.csv')"
   ]
  }
 ],
 "metadata": {
  "kernelspec": {
   "display_name": "R",
   "language": "R",
   "name": "ir"
  },
  "language_info": {
   "codemirror_mode": "r",
   "file_extension": ".r",
   "mimetype": "text/x-r-source",
   "name": "R",
   "pygments_lexer": "r",
   "version": "3.6.1"
  }
 },
 "nbformat": 4,
 "nbformat_minor": 4
}
