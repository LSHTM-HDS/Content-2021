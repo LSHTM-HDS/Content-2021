{
 "cells": [
  {
   "cell_type": "markdown",
   "metadata": {},
   "source": [
    "## 7.2 95% confidence intervals for the mean\n",
    "\n",
    "### 7.2.1 Example: 95% confidence interval for the mean age\n",
    "\n",
    "In the sample of 10 researchers, the estimate of the population mean age is $\\hat{\\mu} = 29.75$, the sample mean age. \n",
    "\n",
    "The 95% confidence interval is calculated as\n",
    "\n",
    "$$\n",
    "\\hat{\\mu} \\pm 1.96 \\times SE(\\hat{\\mu})\n",
    "$$\n",
    "\n",
    "Substituting in the sample mean and the standard error gives\n",
    "\n",
    "$$\n",
    "29.57 \\pm 1.96 \\times 1.52 \n",
    "$$\n",
    "\n",
    "This gives the 95% confidence interval for the population mean age: $(26.6, 32.5)$.\n",
    "\n",
    "The code below reads in the data, prints the sample mean age and then calculates the 95% confidence interval for the population mean age."
   ]
  },
  {
   "cell_type": "code",
   "execution_count": 3,
   "metadata": {},
   "outputs": [
    {
     "data": {
      "text/html": [
       "29.57"
      ],
      "text/latex": [
       "29.57"
      ],
      "text/markdown": [
       "29.57"
      ],
      "text/plain": [
       "[1] 29.57"
      ]
     },
     "metadata": {},
     "output_type": "display_data"
    },
    {
     "data": {
      "text/html": [
       "26.5908"
      ],
      "text/latex": [
       "26.5908"
      ],
      "text/markdown": [
       "26.5908"
      ],
      "text/plain": [
       "[1] 26.5908"
      ]
     },
     "metadata": {},
     "output_type": "display_data"
    },
    {
     "data": {
      "text/html": [
       "32.5492"
      ],
      "text/latex": [
       "32.5492"
      ],
      "text/markdown": [
       "32.5492"
      ],
      "text/plain": [
       "[1] 32.5492"
      ]
     },
     "metadata": {},
     "output_type": "display_data"
    }
   ],
   "source": [
    "# Our sample of data (ages for 10 sampled researchers)\n",
    "ages <- c(28.1,27.5,25,29.9,29.7,29.9,39.9,33.6,21.3,30.8)\n",
    "\n",
    "# Sample mean (estimate of the population mean)\n",
    "mean(ages)\n",
    "\n",
    "# Display the lower and upper limits of the confidence interval\n",
    "mean(ages) - 1.96*1.52\n",
    "mean(ages) + 1.96*1.52"
   ]
  },
  {
   "cell_type": "markdown",
   "metadata": {},
   "source": [
    "### 7.2.2 General 95% confidence interval for a mean\n",
    "\n",
    "For random variables $𝑋_1,...,𝑋_n$, with $𝑋_i \\overset{\\small{iid}}{\\sim} N (\\mu, \\sigma^2)$ for $i=1,...,n$ and $\\sigma$ is a known value, a 95% confidence interval for $\\mu$ is given by:\n",
    "\n",
    "$$\n",
    "\\hat{\\mu} \\pm 1.96 \\ SE(\\hat{\\mu})\n",
    "$$\n",
    "\n",
    "where the standard error of $\\hat{\\mu}$ is given by\n",
    "\n",
    "$$\n",
    "SE(\\hat{\\mu}) = \\frac{\\sigma}{\\sqrt{n}}\n",
    "$$\n",
    "\n",
    "\n",
    "The calculation of this confidence interval relies on the assumptions that\n",
    "- the original random variables follow a normal distribution\n",
    "- the value of  $\\sigma$  is known\n",
    "\n",
    "However, if these assumptions are not true, we can still obtain valid confidence intervals:\n",
    "- If the original random variables do not follow a normal distribution but the sample size is large, then the Central Limit Theorem tells us that the sampling distribution of the mean is approximately normal. So this formula for the confidence interval is still valid. \n",
    "- If $\\sigma$ is unknown (which is typically the case), there is a modified confidence interval based on the t-distribution which provides a correct interval. Essentially, we replace the number 1.96 above by a slightly larger number to compensate for the estimation of the standard deviation. For large sample sizes ($n>30$ or so), the substitution of the estimated standard deviation makes little difference. If you are interested in the details, these can be found in the optional material for this session."
   ]
  }
 ],
 "metadata": {
  "kernelspec": {
   "display_name": "R",
   "language": "R",
   "name": "ir"
  },
  "language_info": {
   "codemirror_mode": "r",
   "file_extension": ".r",
   "mimetype": "text/x-r-source",
   "name": "R",
   "pygments_lexer": "r",
   "version": "3.6.1"
  }
 },
 "nbformat": 4,
 "nbformat_minor": 4
}
