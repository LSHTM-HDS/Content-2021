{
 "cells": [
  {
   "cell_type": "markdown",
   "metadata": {},
   "source": [
    "# Summary"
   ]
  },
  {
   "cell_type": "markdown",
   "metadata": {},
   "source": [
    "In this session, we have met a number of useful applications of discrete probability theory.\n",
    "\n",
    "\n",
    "* Bayes' Theorem can be used to quantify properties of screening and prognostic tests and forms the basis of Bayesian statistics. We will return to Bayes' Theorem when we explore Bayesian inference.\n",
    "\n",
    "* The binomial distribution is used to model the number of successes out of a fixed number of trials. We will revisit the binomial distribution in the sessions about likelihood. Logistic regression, a very commonly used regression model, is based on an underlying Bernoulli distribution (remember that the binomial distribution can be obtained by summing multiple identical independent Bernoulli distributions). As such, our work with the binomial distribution is closely connected to the later logistic regression sessions. \n",
    "\n",
    "* The Poisson distribution is used to model the number of events occurring in a fixed time interval. It forms the basis for Poisson regression, which you will meet later in this module.\n",
    "\n",
    "\n",
    "\n"
   ]
  },
  {
   "cell_type": "code",
   "execution_count": null,
   "metadata": {},
   "outputs": [],
   "source": []
  }
 ],
 "metadata": {
  "kernelspec": {
   "display_name": "R",
   "language": "R",
   "name": "ir"
  },
  "language_info": {
   "codemirror_mode": "r",
   "file_extension": ".r",
   "mimetype": "text/x-r-source",
   "name": "R",
   "pygments_lexer": "r",
   "version": "3.6.1"
  }
 },
 "nbformat": 4,
 "nbformat_minor": 4
}
