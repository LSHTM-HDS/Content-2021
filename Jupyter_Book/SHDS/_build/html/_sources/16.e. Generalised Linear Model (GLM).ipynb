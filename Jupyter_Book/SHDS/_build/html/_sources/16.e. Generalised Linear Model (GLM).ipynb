{
 "cells": [
  {
   "cell_type": "markdown",
   "metadata": {},
   "source": [
    "## 16.4 Link Functions\n",
    "\n",
    "The link function provides the relationship between the systematic component and the mean of the distribution. There are many commonly used link functions, the table below lists only three examples with their distributions and mean functions. Here we use matrix notation where $\\mu_{i}  = \\beta_{0} + \\beta_{1}X_{i1} + \\beta_{2}X_{i2} + … + \\beta_{k}X_{ik})$ is represented by $\\mathbf{X}\\mathbf{\\beta}$ \n",
    "\n",
    "| Distribution | Data | Link Name | Link function | Mean function|\n",
    "| :--- | :--- | :---------- |:--------------------------------- |:---------- |\n",
    "| Normal | real: (-$\\infty$ , + $\\infty$)|   Identity $     $ | $\\mathbf{X}\\mathbf{\\beta} =\\mu$| $ \\mu = \\mathbf{X}\\mathbf{\\beta} $  $     $|\n",
    "| Poisson | integer: 0,1,2,…| Log | $\\mathbf{X}\\mathbf{\\beta} =ln( \\mu)$| $ \\mu = exp(\\mathbf{X}\\mathbf{\\beta} )$|\n",
    "| Binomial | integer: 0,1,2,…N| Logit | $\\mathbf{X}\\mathbf{\\beta}=ln(\\frac{\\mu}{n-\\mu})$  | $ \\mu =\\frac{exp(\\mathbf{X}\\mathbf{\\beta})}{1 + exp(\\mathbf{X}\\mathbf{\\beta}} $|\n",
    "| Gamma | real: (0, + $\\infty$)| Negative Inverse | $\\mathbf{X}\\mathbf{\\beta} = -\\mu^{-1}$ | $ \\mu = - (\\mathbf{X}\\mathbf{\\beta} )^{-1}$ |\n",
    "\n",
    "It is important to note that both linear regression which is covered in chapters 12 to 14 and logistic regression in chapter 15 can be reproduced through a GLM. Remember a linear regression assumes data is  normal distributed so using the identity link function within GLM will give the same results. In logistic regression if you use the Logit function again you will be able to reproduce the same results. The GLM has the extra flexibility that for binary outcomes you can also use other link functions for example the Probit, the Log-Log and the Complementary log-log functions. These will give similar results but adjust for slight differences from data collection situations to improve the transformation of the expectation of the outcome to the systematic component. In this module we only focus on the logit link, however if you wish to explore further, more information can be found here: https://aip.scitation.org/doi/pdf/10.1063/1.5139815"
   ]
  }
 ],
 "metadata": {
  "kernelspec": {
   "display_name": "R",
   "language": "R",
   "name": "ir"
  },
  "language_info": {
   "codemirror_mode": "r",
   "file_extension": ".r",
   "mimetype": "text/x-r-source",
   "name": "R",
   "pygments_lexer": "r",
   "version": "3.6.1"
  }
 },
 "nbformat": 4,
 "nbformat_minor": 4
}
