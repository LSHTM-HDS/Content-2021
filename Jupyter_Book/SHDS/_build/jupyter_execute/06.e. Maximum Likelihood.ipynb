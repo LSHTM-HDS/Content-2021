{
 "cells": [
  {
   "cell_type": "markdown",
   "metadata": {},
   "source": [
    "# Appendix: Additional Reading \n",
    "\n",
    "This appendix section contains additional information which will deepen your understanding. However, it is not examinable and is completely optional reading.\n",
    "\n",
    "\n",
    "## A1: Log-likelihood ratios\n",
    "\n",
    "So far we have used the MLE to find an estimate of a parameter. Typically, the estimate is computed from a sample, so if we were to _sample again_ we would expect the estimate to vary a little. But what about others values; what steps are involved to compare other estimates to the MLE? How much would the sample estimates vary? The **log-likelihood ratio (LLR)** is a useful approach. The LLR gives a measure of consistency of a value of $\\theta$ relative to the most likely value.\n",
    "\n",
    "The LLR is defined as,\n",
    "\n",
    "$$ log\\frac{L(\\theta)}{L(\\hat\\theta)} $$\n",
    "\n",
    "where $L(\\theta)$ is the likelihood evaluated at any value, and $L(\\hat\\theta)$ is the likelihood evaluated at the MLE.\n",
    "\n",
    "Alternatively, and especially when evaluating in software, the following is used;\n",
    "\n",
    "$$ LLR(\\theta) = l(\\theta)-l(\\hat\\theta) $$\n",
    "\n",
    "Let's explore the LLR and its properties with an small example.  \n",
    "\n",
    "For a simple coin-flipping example, from a trial of 10 coin-flips, 4 were heads ($X=4$) and the remainder were tails. From this experiment, we know that the MLE (ie. $\\hat\\theta$) is 0.4, but we also want to use the LLR to compare other estimates of $\\theta$. Looking at the LLR graphically we note that the LLR is a negative value, the further away from zero the less consistent the parameter value with to the MLE."
   ]
  },
  {
   "cell_type": "code",
   "execution_count": 1,
   "metadata": {},
   "outputs": [
    {
     "data": {
      "image/png": "[encoded data removed]",
      "text/plain": [
       "plot without title"
      ]
     },
     "metadata": {
      "filenames": {
       "image/png": "C:\\Users\\emsuewil\\Documents\\Work\\Teaching\\MSc_HDS\\Statistics\\Git_SHDS\\Jupyter_Book\\SHDS\\_build\\jupyter_execute\\06.e. Maximum Likelihood_1_0.png"
      }
     },
     "output_type": "display_data"
    }
   ],
   "source": [
    "options(repr.plot.width=4, repr.plot.height=3)\n",
    " x <- 4; n<-10\n",
    " theta_vals <- seq(0,1,0.01)\n",
    " LLR <- dbinom(x,n,theta_vals,log=T)-dbinom(x,n,x/n,log=T)\n",
    " plot(theta_vals,LLR,type='l',col='blue')\n",
    "# add additional things\n",
    "lines(x=theta_vals,y=rep(0,length(theta_vals)),lty=2)"
   ]
  },
  {
   "cell_type": "markdown",
   "metadata": {},
   "source": [
    "In the above experiment, for a _fair_ coin it would not be unusual to observe 4 heads from 10 trials. The MLE is 0.4 but we _know_ for a fair coin that the true parameter $\\pi$ will be 0.5. The MLE is a *sample* of the distribution for $\\pi$. So let's zoom in on the figure previously generated;"
   ]
  },
  {
   "cell_type": "code",
   "execution_count": 2,
   "metadata": {},
   "outputs": [
    {
     "data": {
      "image/png": "[encoded data removed]",
      "text/plain": [
       "plot without title"
      ]
     },
     "metadata": {
      "filenames": {
       "image/png": "C:\\Users\\emsuewil\\Documents\\Work\\Teaching\\MSc_HDS\\Statistics\\Git_SHDS\\Jupyter_Book\\SHDS\\_build\\jupyter_execute\\06.e. Maximum Likelihood_3_0.png"
      }
     },
     "output_type": "display_data"
    }
   ],
   "source": [
    "options(repr.plot.width=4, repr.plot.height=3)\n",
    " x <- 4; n<-10\n",
    " theta_vals <- seq(0,1,0.01)\n",
    " LLR <- dbinom(x,n,theta_vals,log=T)-dbinom(x,n,x/n,log=T)\n",
    " plot(theta_vals,LLR,type='l',col='blue',ylim=c(-5,0.01))\n",
    "# add additional things\n",
    "lines(x=theta_vals,y=rep(0,length(theta_vals)),lty=2)\n",
    "lines(x=rep(0.5,2),y=c(-10,0.01),col='red',lty=1)"
   ]
  },
  {
   "cell_type": "markdown",
   "metadata": {},
   "source": [
    "We can see in the figure (red line) that when $\\theta=0.5$ the LLR is very close to 0. Values of $\\theta$ further away from the MLE than 0.5 will have a even lower LLR. So we can make qualitative statements using the LLR in relation to the MLE. \n",
    "\n",
    "Let's increase the sample size and observe what happens to the LLR."
   ]
  },
  {
   "cell_type": "code",
   "execution_count": 3,
   "metadata": {},
   "outputs": [
    {
     "data": {
      "image/png": "[encoded data removed]",
      "text/plain": [
       "plot without title"
      ]
     },
     "metadata": {
      "filenames": {
       "image/png": "C:\\Users\\emsuewil\\Documents\\Work\\Teaching\\MSc_HDS\\Statistics\\Git_SHDS\\Jupyter_Book\\SHDS\\_build\\jupyter_execute\\06.e. Maximum Likelihood_5_0.png"
      }
     },
     "output_type": "display_data"
    }
   ],
   "source": [
    "options(repr.plot.width=4, repr.plot.height=3)\n",
    " ns<-c(10,20,40,80,160)\n",
    "# assume we have an 'unfair coin' with heads being more likely than tails\n",
    "# rather than taking a random sample, assume a sample consistent with the null hypothesis - this is so the MLE remains 0.5\n",
    " x1<-round(ns[1]*0.4,0)\n",
    " x2<-round(ns[2]*0.4,0)\n",
    " x3<-round(ns[3]*0.4,0)\n",
    " x4<-round(ns[4]*0.4,0) \n",
    " x5<-round(ns[5]*0.4,0) \n",
    " theta_vals <- seq(0,1,0.01)\n",
    " LLR01 <- dbinom(x1,ns[1],theta_vals,log=T)-dbinom(x1,ns[1],x1/ns[1],log=T)\n",
    " LLR02 <- dbinom(x2,ns[2],theta_vals,log=T)-dbinom(x2,ns[2],x2/ns[2],log=T)\n",
    " LLR03 <- dbinom(x3,ns[3],theta_vals,log=T)-dbinom(x3,ns[3],x3/ns[3],log=T)\n",
    " LLR04 <- dbinom(x4,ns[4],theta_vals,log=T)-dbinom(x4,ns[4],x4/ns[4],log=T)\n",
    " LLR05 <- dbinom(x5,ns[5],theta_vals,log=T)-dbinom(x5,ns[5],x5/ns[5],log=T)\n",
    " plot(theta_vals,LLR01,type='l',col='blue',lwd=0.5,ylim=c(-5,0.01))\n",
    "# compare to large sample sizes\n",
    " lines(theta_vals,LLR02,col='blue',lwd=1)\n",
    " lines(theta_vals,LLR03,col='blue',lwd=1.5)\n",
    "lines(theta_vals,LLR04,col='blue',lwd=2)\n",
    "lines(theta_vals,LLR05,col='blue',lwd=2.5)\n",
    "lines(x=theta_vals,y=rep(0,length(theta_vals)),lty=2)\n",
    "lines(x=rep(0.5,2),y=c(-10,0.01),col='red',lty=1)"
   ]
  },
  {
   "cell_type": "markdown",
   "metadata": {},
   "source": [
    "At smaller sample sizes the LLR is slightly left skewed when the sample mean is 0.4. As the sample size increases you can see that the LLR becomes more symmetrical about the sample mean, and that the slope of the LLR at values away from the sample mean is steeper. We can start to see the relationship between sample size and the precision of the sample mean. Qualitatively, if we wanted to test whether the coin was fair, it is clear that a larger sample would enable us to have more confidence in our assessment."
   ]
  },
  {
   "cell_type": "markdown",
   "metadata": {},
   "source": [
    "Returning to the fact that the data are a sample from a population distribution, we can explore what happens when multiple samples of the same size are drawn. MLE is a sample of the true parameter we can perform the above experiment multiple times and identify the parameters space where the LLR will be zero."
   ]
  },
  {
   "cell_type": "code",
   "execution_count": 4,
   "metadata": {},
   "outputs": [
    {
     "data": {
      "image/png": "[encoded data removed]",
      "text/plain": [
       "Plot with title \"Histogram of mles\""
      ]
     },
     "metadata": {
      "filenames": {
       "image/png": "C:\\Users\\emsuewil\\Documents\\Work\\Teaching\\MSc_HDS\\Statistics\\Git_SHDS\\Jupyter_Book\\SHDS\\_build\\jupyter_execute\\06.e. Maximum Likelihood_8_0.png"
      }
     },
     "output_type": "display_data"
    }
   ],
   "source": [
    "options(repr.plot.width=4, repr.plot.height=3)\n",
    " x <- 4; n<-10\n",
    " sampl <- rbinom(n=1000,size=n,prob=0.5)\n",
    "mles <- sampl/n \n",
    " hist(mles,col=\"red\",breaks=30)"
   ]
  },
  {
   "cell_type": "markdown",
   "metadata": {},
   "source": [
    "From the histogram above you can see that repeating the experiment (different samples) will return different values of the MLE and corresponding LLR. The LLR ratio can be used to assess how consistent different values of the parameter are with the MLE. \n",
    "\n",
    "The principles behind the LLR also relate to construction of confidence intervals, an issue which we will return to when we meet logistic regression and other models estimated using maximum likelihood estimation. "
   ]
  },
  {
   "cell_type": "code",
   "execution_count": null,
   "metadata": {},
   "outputs": [],
   "source": []
  }
 ],
 "metadata": {
  "kernelspec": {
   "display_name": "R",
   "language": "R",
   "name": "ir"
  },
  "language_info": {
   "codemirror_mode": "r",
   "file_extension": ".r",
   "mimetype": "text/x-r-source",
   "name": "R",
   "pygments_lexer": "r",
   "version": "3.6.1"
  }
 },
 "nbformat": 4,
 "nbformat_minor": 4
}