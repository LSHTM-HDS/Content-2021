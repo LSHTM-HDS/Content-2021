{
 "cells": [
  {
   "cell_type": "markdown",
   "metadata": {},
   "source": [
    "## 4.2 Statistical Models\n",
    "\n",
    "To extract information about population quantities from sample statistics we need a precise and formal description of the whole sampling process from population to sample. This description is called the **statistical model**. Relevant features of the population are represented by parameters, such as the mean, variance, or correlation. The structure of the population, together with the sampling process, allows a model to be formulated that describes the statistical behaviour of the sample, which in turn allows us to postulate sampling distributions for the relevant statistics. \n",
    "\n",
    "The crucial importance of the statistical model is that, given a certain value of the\n",
    "population parameter (in the simple case where there is only one parameter of interest),\n",
    "it allows us to calculate the probability of drawing a sample with the properties we\n",
    "observe: this will allow us to quantify the compatibility between the observed data and\n",
    "possible values of the population parameter.\n",
    "\n",
    "A statistical model is a probability distribution constructed to enable inferences to be made from the sample data about the population. (Non-parametric methods are much less useful when estimation is the main aim, mainly because an underlying probability distribution is not given in terms of the desired population parameter.)\n",
    "The statistical model summarises relevant properties of the population and the random process by which the sample is obtained.\n"
   ]
  },
  {
   "cell_type": "markdown",
   "metadata": {},
   "source": [
    "### 4.2.1 Example: emotional distress study - the statistical model\n",
    "\n",
    "Remember that $X_1, ...,X_{10}$ are random variables representing the ages of 10 sampled researchers and $x_1, ..., x_{10}$ are the realised values of these random variables (i.e. the observed ages).  \n",
    "\n",
    "We will assume that each random variable is drawn from the same population distribution, and that the observations are independent of each other. We use the term **independent and identically distributed** as a succinct way of describing these assumptions, often abbreviated as **iid**. \n",
    "\n",
    "Finally, we will assume that the population distribution of age is Normal with population mean $\\mu$ and population variance $\\sigma^2$. \n",
    "\n",
    "This model can be compactly written as follows\n",
    "\n",
    "$$ \n",
    "X_i \\overset{\\small{iid}}{\\sim} N(\\mu, \\sigma^2), \\qquad i=1,2,...,10\n",
    "$$"
   ]
  },
  {
   "cell_type": "code",
   "execution_count": null,
   "metadata": {},
   "outputs": [],
   "source": []
  }
 ],
 "metadata": {
  "kernelspec": {
   "display_name": "R",
   "language": "R",
   "name": "ir"
  },
  "language_info": {
   "codemirror_mode": "r",
   "file_extension": ".r",
   "mimetype": "text/x-r-source",
   "name": "R",
   "pygments_lexer": "r",
   "version": "3.6.1"
  }
 },
 "nbformat": 4,
 "nbformat_minor": 4
}