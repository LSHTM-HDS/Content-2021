{
 "cells": [
  {
   "cell_type": "markdown",
   "metadata": {},
   "source": [
    "## 12.7 Hypothesis testing \n",
    "\n",
    "To test the null hypothesis $H_0: \\beta_1=B$ against the alternative $H_1: \\beta_1 \\neq B$. We calculate the t-test statistic:\n",
    "\n",
    "$$\n",
    "t = \\frac{(\\hat{\\beta_1}-B)}{SE(\\hat{\\beta_1})}\n",
    "$$\n",
    "\n",
    "Where $SE()$ denotes standard error. The standard error of an estimated regression coefficient is equal to the estimated standard deviation (i.e. we replace $\\sigma$ with $\\hat{\\sigma}$ in the equation for $SD(\\hat{\\beta_1})$ above):\n",
    "\n",
    "$$\n",
    "SE(\\hat{\\beta_1})=\\sqrt{\\frac{\\hat{\\sigma}^2}{ns_x^2}}.\n",
    "$$\n",
    "\n",
    "Replacing $\\sigma^2$ with $\\hat{\\sigma}^2$ means that $t$ follows a $t$ distribution (rather than a $z$ distribution) with $(n-2)$ degrees of freedom, if $H_0$ is true. This allows us to calculate the $p$-value to test the null hypothesis that $\\beta_1$ equals $B$. \n",
    "\n",
    "Most commonly, researchers test the hypothesis that $\\beta_1=0$. If this is true, then there is no association between $Y$ and $X$. \n",
    "\n",
    "**Example:** We can use the output from ```summary(model1)``` to conduct a hypothesis test to test the hypothesis that $\\beta_1=0$ in Model 1:"
   ]
  },
  {
   "cell_type": "code",
   "execution_count": 1,
   "metadata": {},
   "outputs": [
    {
     "data": {
      "text/plain": [
       "\n",
       "Call:\n",
       "lm(formula = Birth.Weight ~ Gestational.Days, data = data)\n",
       "\n",
       "Residuals:\n",
       "    Min      1Q  Median      3Q     Max \n",
       "-49.348 -11.065   0.218  10.101  57.704 \n",
       "\n",
       "Coefficients:\n",
       "                  Estimate Std. Error t value Pr(>|t|)    \n",
       "(Intercept)      -10.75414    8.53693   -1.26    0.208    \n",
       "Gestational.Days   0.46656    0.03054   15.28   <2e-16 ***\n",
       "---\n",
       "Signif. codes:  0 '***' 0.001 '**' 0.01 '*' 0.05 '.' 0.1 ' ' 1\n",
       "\n",
       "Residual standard error: 16.74 on 1172 degrees of freedom\n",
       "Multiple R-squared:  0.1661,\tAdjusted R-squared:  0.1654 \n",
       "F-statistic: 233.4 on 1 and 1172 DF,  p-value: < 2.2e-16\n"
      ]
     },
     "metadata": {},
     "output_type": "display_data"
    }
   ],
   "source": [
    "#Example 1: Hypothesis tests\n",
    "data<- read.csv('https://www.inferentialthinking.com/data/baby.csv')\n",
    "model1<-lm(Birth.Weight~Gestational.Days, data=data)\n",
    "summary(model1)"
   ]
  },
  {
   "cell_type": "markdown",
   "metadata": {},
   "source": [
    "In the above output, the column ```Std.Error``` gives the standard errors associated with the estimated regression coefficients. The columns ```t value``` and ```Pr(>|t|)``` give the t-test statistic and associated $p$-value for a hypothesis test that the regression coefficient estimate is equal to 0. \n",
    "\n",
    "To test the null hypothesis that $\\beta_1=0$ against the alternative $\\beta_1 \\neq  0$, the test statistic is 15.28 and the associated $p$-value is $<2\\times10^{-16}$. This is a very small $p$-value and therefore the data provide strong evidence against the null hypothesis. Based on these results, we can conclude that birthweight is associated with length of pregnancy. To convince yourself that these values are correct, you can calculate the standard error and test statistic by hand, using the above formulas. \n",
    "\n",
    "*Exercise:* Using the output for ```summary(model2)``` given in the previous section, conduct a hypothesis test to test the null hypothesis that $\\alpha_1=0$.\n",
    " "
   ]
  }
 ],
 "metadata": {
  "kernelspec": {
   "display_name": "R",
   "language": "R",
   "name": "ir"
  },
  "language_info": {
   "codemirror_mode": "r",
   "file_extension": ".r",
   "mimetype": "text/x-r-source",
   "name": "R",
   "pygments_lexer": "r",
   "version": "3.6.1"
  }
 },
 "nbformat": 4,
 "nbformat_minor": 4
}