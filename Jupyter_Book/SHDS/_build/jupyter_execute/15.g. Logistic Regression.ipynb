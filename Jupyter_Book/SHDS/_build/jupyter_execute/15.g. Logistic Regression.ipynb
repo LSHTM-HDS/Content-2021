{
 "cells": [
  {
   "cell_type": "markdown",
   "metadata": {
    "hideCode": false,
    "hidePrompt": false
   },
   "source": [
    "# 15.6 Inference\n",
    "\n",
    "We have fitted the following logistic regression model:\n",
    "\n",
    "$$\n",
    "logit(\\pi_i) = \\beta_0 + \\beta_1 x_i \n",
    "$$\n",
    "\n",
    "Having estimated the parameters of the logistic regression model using maximum likelihood estimation, we would like to obtain 95% confidence intervals for the parameters and perform hypothesis testing. We will now explore options available to do those things. \n",
    "\n",
    "A sketch of the relevant statistical theory is provided in the optional reading in the appendix to this session. "
   ]
  },
  {
   "cell_type": "markdown",
   "metadata": {},
   "source": [
    "## 15.6.1 Confidence intervals\n",
    "\n",
    "A number of approximate confidence intervals can be obtained. Two commonly used confidence intervals are the Wald-type confidence intervals and profile confidence intervals. \n",
    "\n",
    "**Wald-type confidence interval:** This confidence interval takes a familiar form. For slope parameter $\\beta_1$, an approximate 95% confidence inteval is given by\n",
    "\n",
    "$$\n",
    "\\hat{\\beta}_1 \\pm 1.96 \\hat{SE}(\\hat{\\beta}_1)\n",
    "$$\n",
    "\n",
    "where $\\hat{\\beta}_1$ is the maximum likelihood estimate for $\\beta_1$ and $\\hat{SE}(\\hat{\\beta}_1)$ is its standard error. \n",
    "\n",
    "**Profile likelihood confidence intervals**  These intervals are based on the log-likelihood-ratio. For each parameter of interest, a **profile** likelihood is constructed, which treats all other parameters as nuisances and removes them from the likelihood (by setting to their values which maximise the likelihood for each value of the parameter of interest). Then confidence intervals are constructed based on the profile likelihood. The Wald-type confidence intervals provide an approximation to this process. Profile likelihod confidence intervals are provided in R using the command ```confint```.\n"
   ]
  },
  {
   "cell_type": "markdown",
   "metadata": {},
   "source": [
    "## 15.6.2 Hypothesis tests\n",
    "\n",
    "Often, the  hypothesis we are interested in testing is that the independent variable $X$ is *not associated with* the outcome. Therefore, the null and alternative hypotheses are:\n",
    "\n",
    "- $H_0: \\beta_1 = 0$\n",
    "- $H_1: \\beta_1 \\neq 0$\n",
    "\n",
    "This is the null hypothesis tested, by default, in regression output provided in R. \n",
    "\n",
    "There are three important type of tests available. These are all approximate tests and are asymptotically equivalent to one another. So in large samples, we would expect to see similar p-values from each test.\n",
    "\n",
    "**Likelihood ratio test** This test is based directly on the approximate distribution of the log-likelihood-ratio. \n",
    "\n",
    "**Wald test**  This test is based on a quadratic approximation to the log-likelihood-ratio. As such, it can be less accurate than the likelihood ratio test, particularly if the null value is a long way from the maximum likelihood estimate. However, in this case all tests are likely to provide small p-values and similar qualitative conclusions. \n",
    "\n",
    "The Wald test is used to obtain the p-values automatically displayed in regression output for GLMs in R and many other software platforms. This is because Wald tests are computationally less intensive than likelihood ratio tests.\n",
    "\n",
    "**Score test** These tests are based on a slightly different quadratic approximation to the log-likelihood-ratio. This type of test is much less used than the other types, so we do not pursue this further here. Early tests used in epidemiology tended to be score tests, since they are less computationally intensive than the other approaches. "
   ]
  },
  {
   "cell_type": "markdown",
   "metadata": {},
   "source": [
    "## 15.6.3 Example\n",
    "\n",
    "We return to our model exploring the association between sex and diagnosis of dementia. We first perform a hypothesis test investigating the null hypothesis that sex is not associated with dementia diagnosis. Then we obtain 95% confidence intervals for our two parameters of interest.\n"
   ]
  },
  {
   "cell_type": "code",
   "execution_count": 1,
   "metadata": {},
   "outputs": [
    {
     "data": {
      "text/plain": [
       "\n",
       "Call:\n",
       "glm(formula = dementia ~ sex, family = binomial(link = \"logit\"), \n",
       "    data = dementia)\n",
       "\n",
       "Deviance Residuals: \n",
       "    Min       1Q   Median       3Q      Max  \n",
       "-0.2211  -0.2211  -0.1771  -0.1771   2.8855  \n",
       "\n",
       "Coefficients:\n",
       "            Estimate Std. Error z value Pr(>|z|)    \n",
       "(Intercept) -4.14722    0.02439 -170.01   <2e-16 ***\n",
       "sex          0.44771    0.03264   13.72   <2e-16 ***\n",
       "---\n",
       "Signif. codes:  0 '***' 0.001 '**' 0.01 '*' 0.05 '.' 0.1 ' ' 1\n",
       "\n",
       "(Dispersion parameter for binomial family taken to be 1)\n",
       "\n",
       "    Null deviance: 38333  on 199999  degrees of freedom\n",
       "Residual deviance: 38143  on 199998  degrees of freedom\n",
       "AIC: 38147\n",
       "\n",
       "Number of Fisher Scoring iterations: 7\n"
      ]
     },
     "metadata": {},
     "output_type": "display_data"
    }
   ],
   "source": [
    "dementia <- read.csv(\"Practicals/Datasets/Dementia/dementia2.csv\")\n",
    "dementia1 <- glm(dementia ~ sex, data = dementia, family = binomial(link=\"logit\"))\n",
    "summary(dementia1)"
   ]
  },
  {
   "cell_type": "markdown",
   "metadata": {},
   "source": [
    "The p-value for sex is $p<0.001$, providing strong evidence against the null hypothesis that sex is not associated with the odds of being diagnosed with dementia. \n",
    "\n",
    "Now we will obtain the profile confidence intervals for the two estimated regression coefficients:"
   ]
  },
  {
   "cell_type": "code",
   "execution_count": 2,
   "metadata": {},
   "outputs": [
    {
     "name": "stderr",
     "output_type": "stream",
     "text": [
      "Waiting for profiling to be done...\n"
     ]
    },
    {
     "data": {
      "text/html": [
       "<table>\n",
       "<thead><tr><th></th><th scope=col>2.5 %</th><th scope=col>97.5 %</th></tr></thead>\n",
       "<tbody>\n",
       "\t<tr><th scope=row>(Intercept)</th><td>-4.1954026</td><td>-4.0997726</td></tr>\n",
       "\t<tr><th scope=row>sex</th><td> 0.3838153</td><td> 0.5117587</td></tr>\n",
       "</tbody>\n",
       "</table>\n"
      ],
      "text/latex": [
       "\\begin{tabular}{r|ll}\n",
       "  & 2.5 \\% & 97.5 \\%\\\\\n",
       "\\hline\n",
       "\t(Intercept) & -4.1954026 & -4.0997726\\\\\n",
       "\tsex &  0.3838153 &  0.5117587\\\\\n",
       "\\end{tabular}\n"
      ],
      "text/markdown": [
       "\n",
       "| <!--/--> | 2.5 % | 97.5 % |\n",
       "|---|---|---|\n",
       "| (Intercept) | -4.1954026 | -4.0997726 |\n",
       "| sex |  0.3838153 |  0.5117587 |\n",
       "\n"
      ],
      "text/plain": [
       "            2.5 %      97.5 %    \n",
       "(Intercept) -4.1954026 -4.0997726\n",
       "sex          0.3838153  0.5117587"
      ]
     },
     "metadata": {},
     "output_type": "display_data"
    }
   ],
   "source": [
    "confint(dementia1)"
   ]
  },
  {
   "cell_type": "markdown",
   "metadata": {},
   "source": [
    "In fact, these are more easily interpreted on the exponentiated scale, as below."
   ]
  },
  {
   "cell_type": "code",
   "execution_count": 3,
   "metadata": {},
   "outputs": [
    {
     "name": "stderr",
     "output_type": "stream",
     "text": [
      "Waiting for profiling to be done...\n"
     ]
    },
    {
     "data": {
      "text/html": [
       "<table>\n",
       "<thead><tr><th></th><th scope=col></th><th scope=col>2.5 %</th><th scope=col>97.5 %</th></tr></thead>\n",
       "<tbody>\n",
       "\t<tr><th scope=row>(Intercept)</th><td>0.01580834</td><td>0.01506468</td><td>0.01657644</td></tr>\n",
       "\t<tr><th scope=row>sex</th><td>1.56472021</td><td>1.46787427</td><td>1.66822252</td></tr>\n",
       "</tbody>\n",
       "</table>\n"
      ],
      "text/latex": [
       "\\begin{tabular}{r|lll}\n",
       "  &  & 2.5 \\% & 97.5 \\%\\\\\n",
       "\\hline\n",
       "\t(Intercept) & 0.01580834 & 0.01506468 & 0.01657644\\\\\n",
       "\tsex & 1.56472021 & 1.46787427 & 1.66822252\\\\\n",
       "\\end{tabular}\n"
      ],
      "text/markdown": [
       "\n",
       "| <!--/--> |  | 2.5 % | 97.5 % |\n",
       "|---|---|---|---|\n",
       "| (Intercept) | 0.01580834 | 0.01506468 | 0.01657644 |\n",
       "| sex | 1.56472021 | 1.46787427 | 1.66822252 |\n",
       "\n"
      ],
      "text/plain": [
       "                       2.5 %      97.5 %    \n",
       "(Intercept) 0.01580834 0.01506468 0.01657644\n",
       "sex         1.56472021 1.46787427 1.66822252"
      ]
     },
     "metadata": {},
     "output_type": "display_data"
    }
   ],
   "source": [
    "cbind(exp(coefficients(dementia1)), exp(confint(dementia1)))"
   ]
  },
  {
   "cell_type": "markdown",
   "metadata": {},
   "source": [
    "- The estimated odds in males is 0.0158 (95% CI 0.01506, 0.01657). We are 95% confident that thee odds of dementia diagnosis among males lies within this range.\n",
    "- The estimated odds ratio for females, compared with males, is 1.56 (95% CI 1.47, 1.67). We estimate that the odds of dementia diagnosis is 1.56 times higher among females than among males. The data are consistent with this value being as low as 1.47 or as high as 1.67.\n",
    "\n",
    "Below is the code to obtain Wald test confidence intervals. Comparing these with the (unexponentiated) confidence intervals above, we see these are very similar, as we would expect."
   ]
  },
  {
   "cell_type": "code",
   "execution_count": 4,
   "metadata": {},
   "outputs": [
    {
     "data": {
      "text/html": [
       "<table>\n",
       "<thead><tr><th></th><th scope=col>2.5 %</th><th scope=col>97.5 %</th></tr></thead>\n",
       "<tbody>\n",
       "\t<tr><th scope=row>(Intercept)</th><td>-4.1950299</td><td>-4.0994058</td></tr>\n",
       "\t<tr><th scope=row>sex</th><td> 0.3837405</td><td> 0.5116735</td></tr>\n",
       "</tbody>\n",
       "</table>\n"
      ],
      "text/latex": [
       "\\begin{tabular}{r|ll}\n",
       "  & 2.5 \\% & 97.5 \\%\\\\\n",
       "\\hline\n",
       "\t(Intercept) & -4.1950299 & -4.0994058\\\\\n",
       "\tsex &  0.3837405 &  0.5116735\\\\\n",
       "\\end{tabular}\n"
      ],
      "text/markdown": [
       "\n",
       "| <!--/--> | 2.5 % | 97.5 % |\n",
       "|---|---|---|\n",
       "| (Intercept) | -4.1950299 | -4.0994058 |\n",
       "| sex |  0.3837405 |  0.5116735 |\n",
       "\n"
      ],
      "text/plain": [
       "            2.5 %      97.5 %    \n",
       "(Intercept) -4.1950299 -4.0994058\n",
       "sex          0.3837405  0.5116735"
      ]
     },
     "metadata": {},
     "output_type": "display_data"
    }
   ],
   "source": [
    "confint.default(dementia1)"
   ]
  },
  {
   "cell_type": "code",
   "execution_count": null,
   "metadata": {},
   "outputs": [],
   "source": []
  }
 ],
 "metadata": {
  "hide_code_all_hidden": false,
  "kernelspec": {
   "display_name": "R",
   "language": "R",
   "name": "ir"
  },
  "language_info": {
   "codemirror_mode": "r",
   "file_extension": ".r",
   "mimetype": "text/x-r-source",
   "name": "R",
   "pygments_lexer": "r",
   "version": "3.6.1"
  }
 },
 "nbformat": 4,
 "nbformat_minor": 4
}