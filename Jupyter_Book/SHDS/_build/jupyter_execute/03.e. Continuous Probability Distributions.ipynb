{
 "cells": [
  {
   "cell_type": "markdown",
   "metadata": {},
   "source": [
    "## 3.5 Are the data normally distributed?\n",
    "\n",
    "### 3.5.1 Data and their relationship with statistical distributions\n",
    "\n",
    "We often have data on a particular characteristic and want to make general statements about it, such as: the probability of it being greater than or less than something, provide a range in which \"most\" observations will lie, what is the central value (e.g. mean/median), etc. However, \n",
    "* we rarely *know* the true distribution that a variable follows\n",
    "* often, a distribution will not quite fit the data but will form a sufficiently good approximation to address the questions above with sufficient accuracy. \n",
    "\n",
    "So we often want to find a distribution which fits our data well enough. How do we make a decision? Some of this comes with experience, but there are some useful steps to go through when confronted with data (this is covered in more detail in the lecture),\n",
    "* plot your data. What does the data look like? Consider the lower and upper bounds, the most common number, and evidence of symmetry\n",
    "* summarise your data. Report the minimum, maximum, mean and mode. This should aid with thinking about the criteria of specific distributions\n",
    "* depending upon the application and what the data looks like, you may want to consider using the empirical distribution function rather than assumption a specific form. However, this gives you fewer options for inference "
   ]
  },
  {
   "cell_type": "markdown",
   "metadata": {},
   "source": [
    "### 3.5.2 Are the data normally distributed?\n",
    "\n",
    "Many analyses and tests of data start with the assumption that the data are normally distributed. A simple example would be using a t-test to check whether the mean of 2 groups are different, more complex examples would include linear regression analysis. If the outcome being analysed is a qualitive outcome, or successes and failures, it should be obvious that the data aren't normally distributed. But what if the data are continuous or count values, and they look like they are centered, but have some skewness? Is it safe to proceed as if they are normal?\n",
    "\n",
    "The first step, as always, is to plot the data to see what they look like. A histogram, as above, or density plot is a good step forward. Additionally, a *quantile-quantile* plot calculates the correlation between a sample and the equivalent normal distribution with the same mean $\\mu$ and standard deviation $\\sigma$. If a variable follows a normal distribution, the quantile-quantile plot will follow the diagonal line."
   ]
  },
  {
   "cell_type": "code",
   "execution_count": 1,
   "metadata": {},
   "outputs": [
    {
     "ename": "ERROR",
     "evalue": "Error in ggplot(dat, aes(sample = BMI)): could not find function \"ggplot\"\n",
     "output_type": "error",
     "traceback": [
      "Error in ggplot(dat, aes(sample = BMI)): could not find function \"ggplot\"\nTraceback:\n"
     ]
    }
   ],
   "source": [
    "# BMI dataset\n",
    "dat <- read.csv(\"Practicals/Datasets/BMI/MindsetMatters.csv\")\n",
    "dat <- dat[!is.na(dat$BMI),]\n",
    "options(repr.plot.width=4, repr.plot.height=3)\n",
    "ggplot(dat,aes(sample=BMI)) + stat_qq() \n"
   ]
  },
  {
   "cell_type": "markdown",
   "metadata": {},
   "source": [
    "From the figure you can see that the theoretical quantiles follow the diagonals reasonably well, and especially at the extremes do not move away much from the diagonal. A plot like this would be enough to show that the data approximately follow normally distribution. Looking at plots such as this to assess normality is a *judgement* which you will build up during this module.\n",
    "\n",
    "To formally test for normality we can use the Shapiro-Wilk test, described briefly below."
   ]
  },
  {
   "cell_type": "code",
   "execution_count": 5,
   "metadata": {},
   "outputs": [
    {
     "data": {
      "text/plain": [
       "\n",
       "\tShapiro-Wilk normality test\n",
       "\n",
       "data:  dat$BMI\n",
       "W = 0.9692, p-value = 0.06756\n"
      ]
     },
     "metadata": {},
     "output_type": "display_data"
    }
   ],
   "source": [
    "shapiro.test(dat$BMI)"
   ]
  },
  {
   "cell_type": "markdown",
   "metadata": {},
   "source": [
    "Although we haven't yet covered hypothesis testing, this is testing the null hypothesis that the data follow a normal distribution. In this case, the test returns a p-value of 0.067. This p-value suggests some, but not strong, evidence against normality of the data.  "
   ]
  },
  {
   "cell_type": "markdown",
   "metadata": {},
   "source": [
    "### 3.5.3 Approaches to non-normally distributed data\n",
    "\n",
    "A really useful approach to dealing with non-normally distributed data is transformations. The most often used approach is to apply a log-transformation, either on the *natural* ($Y = log_e(X)$) or *log10* ($Y = log_{10}(X)$) scale. The transformed data may behave more like normally distributed data. \n",
    "\n",
    "An example is given below for weights of 1174 babies. First we will look at the distribution of (untransformed) birth weights."
   ]
  },
  {
   "cell_type": "code",
   "execution_count": 10,
   "metadata": {},
   "outputs": [
    {
     "data": {
      "text/html": [
       "<table>\n",
       "<thead><tr><th scope=col>Birth.Weight</th><th scope=col>Gestational.Days</th><th scope=col>Maternal.Age</th><th scope=col>Maternal.Height</th><th scope=col>Maternal.Pregnancy.Weight</th><th scope=col>Maternal.Smoker</th></tr></thead>\n",
       "<tbody>\n",
       "\t<tr><td>120  </td><td>284  </td><td>27   </td><td>62   </td><td>100  </td><td>False</td></tr>\n",
       "\t<tr><td>113  </td><td>282  </td><td>33   </td><td>64   </td><td>135  </td><td>False</td></tr>\n",
       "\t<tr><td>128  </td><td>279  </td><td>28   </td><td>64   </td><td>115  </td><td>True </td></tr>\n",
       "\t<tr><td>108  </td><td>282  </td><td>23   </td><td>67   </td><td>125  </td><td>True </td></tr>\n",
       "\t<tr><td>136  </td><td>286  </td><td>25   </td><td>62   </td><td> 93  </td><td>False</td></tr>\n",
       "\t<tr><td>138  </td><td>244  </td><td>33   </td><td>62   </td><td>178  </td><td>False</td></tr>\n",
       "</tbody>\n",
       "</table>\n"
      ],
      "text/latex": [
       "\\begin{tabular}{r|llllll}\n",
       " Birth.Weight & Gestational.Days & Maternal.Age & Maternal.Height & Maternal.Pregnancy.Weight & Maternal.Smoker\\\\\n",
       "\\hline\n",
       "\t 120   & 284   & 27    & 62    & 100   & False\\\\\n",
       "\t 113   & 282   & 33    & 64    & 135   & False\\\\\n",
       "\t 128   & 279   & 28    & 64    & 115   & True \\\\\n",
       "\t 108   & 282   & 23    & 67    & 125   & True \\\\\n",
       "\t 136   & 286   & 25    & 62    &  93   & False\\\\\n",
       "\t 138   & 244   & 33    & 62    & 178   & False\\\\\n",
       "\\end{tabular}\n"
      ],
      "text/markdown": [
       "\n",
       "| Birth.Weight | Gestational.Days | Maternal.Age | Maternal.Height | Maternal.Pregnancy.Weight | Maternal.Smoker |\n",
       "|---|---|---|---|---|---|\n",
       "| 120   | 284   | 27    | 62    | 100   | False |\n",
       "| 113   | 282   | 33    | 64    | 135   | False |\n",
       "| 128   | 279   | 28    | 64    | 115   | True  |\n",
       "| 108   | 282   | 23    | 67    | 125   | True  |\n",
       "| 136   | 286   | 25    | 62    |  93   | False |\n",
       "| 138   | 244   | 33    | 62    | 178   | False |\n",
       "\n"
      ],
      "text/plain": [
       "  Birth.Weight Gestational.Days Maternal.Age Maternal.Height\n",
       "1 120          284              27           62             \n",
       "2 113          282              33           64             \n",
       "3 128          279              28           64             \n",
       "4 108          282              23           67             \n",
       "5 136          286              25           62             \n",
       "6 138          244              33           62             \n",
       "  Maternal.Pregnancy.Weight Maternal.Smoker\n",
       "1 100                       False          \n",
       "2 135                       False          \n",
       "3 115                       True           \n",
       "4 125                       True           \n",
       "5  93                       False          \n",
       "6 178                       False          "
      ]
     },
     "metadata": {},
     "output_type": "display_data"
    },
    {
     "data": {
      "image/png": "[encoded data removed]",
      "text/plain": [
       "plot without title"
      ]
     },
     "metadata": {
      "filenames": {
       "image/png": "C:\\Users\\emsuewil\\Documents\\Work\\Teaching\\MSc_HDS\\Statistics\\Git_SHDS\\Jupyter_Book\\SHDS\\_build\\jupyter_execute\\03.e. Continuous Probability Distributions_7_1.png"
      }
     },
     "output_type": "display_data"
    },
    {
     "data": {
      "image/png": "[encoded data removed]",
      "text/plain": [
       "plot without title"
      ]
     },
     "metadata": {
      "filenames": {
       "image/png": "C:\\Users\\emsuewil\\Documents\\Work\\Teaching\\MSc_HDS\\Statistics\\Git_SHDS\\Jupyter_Book\\SHDS\\_build\\jupyter_execute\\03.e. Continuous Probability Distributions_7_2.png"
      }
     },
     "output_type": "display_data"
    }
   ],
   "source": [
    "options(repr.plot.width=4, repr.plot.height=3)\n",
    "library(ggplot2)\n",
    "\n",
    "# mother-baby dataset\n",
    "dat <- read.csv(\"Practicals/Datasets/MotherBaby/baby.csv\")\n",
    "head(dat)\n",
    "\n",
    "# plot the data on maternal age\n",
    "ggplot(dat,aes(x=Maternal.Age)) + geom_histogram(bins=30,fill=\"steelblue\",col=\"grey80\")\n",
    "# plot a quantile plot of this log-normally distributed data\n",
    "ggplot(dat,aes(sample=Maternal.Age)) + stat_qq()"
   ]
  },
  {
   "cell_type": "markdown",
   "metadata": {},
   "source": [
    "We can see clearly that maternal age is right skewed. This is a classic log-normal distribution. The quantile plot is not straight along the diagonal but forms an *s-shape*. This confirms that the data does not conform to a normally distribution.\n",
    "\n",
    "A sensible next step would be to log-transform the data using the natural logarithm. The distribution of the transformed birth weights is shown below."
   ]
  },
  {
   "cell_type": "code",
   "execution_count": 11,
   "metadata": {},
   "outputs": [
    {
     "data": {
      "image/png": "[encoded data removed]",
      "text/plain": [
       "plot without title"
      ]
     },
     "metadata": {
      "filenames": {
       "image/png": "C:\\Users\\emsuewil\\Documents\\Work\\Teaching\\MSc_HDS\\Statistics\\Git_SHDS\\Jupyter_Book\\SHDS\\_build\\jupyter_execute\\03.e. Continuous Probability Distributions_9_0.png"
      }
     },
     "output_type": "display_data"
    },
    {
     "data": {
      "image/png": "[encoded data removed]",
      "text/plain": [
       "plot without title"
      ]
     },
     "metadata": {
      "filenames": {
       "image/png": "C:\\Users\\emsuewil\\Documents\\Work\\Teaching\\MSc_HDS\\Statistics\\Git_SHDS\\Jupyter_Book\\SHDS\\_build\\jupyter_execute\\03.e. Continuous Probability Distributions_9_1.png"
      }
     },
     "output_type": "display_data"
    }
   ],
   "source": [
    "options(repr.plot.width=4, repr.plot.height=3)\n",
    "\n",
    "# plot the data on maternal age\n",
    "ggplot(dat,aes(x=Maternal.Age)) + \n",
    "    geom_histogram(bins=30,fill=\"steelblue\",col=\"grey80\") +\n",
    "    scale_x_continuous(trans = \"log\")\n",
    "\n",
    "# but note that any analysis should be carried out on the transformed variable\n",
    "y <- data.frame(age_log=log(dat$Maternal.Age))\n",
    "# and here we should check whether this is normally distributed using a qqplot\n",
    "ggplot(y,aes(sample=age_log)) + stat_qq()\n"
   ]
  },
  {
   "cell_type": "markdown",
   "metadata": {},
   "source": [
    "The log-transformed data now looks more symmetrical in the histogram. And the quantile plot is much less *s-shaped*. While it's not perfectly straight, it's probably *good enough* for further analysis which relies on the assumption of normality."
   ]
  },
  {
   "cell_type": "code",
   "execution_count": null,
   "metadata": {},
   "outputs": [],
   "source": []
  }
 ],
 "metadata": {
  "kernelspec": {
   "display_name": "R",
   "language": "R",
   "name": "ir"
  },
  "language_info": {
   "codemirror_mode": "r",
   "file_extension": ".r",
   "mimetype": "text/x-r-source",
   "name": "R",
   "pygments_lexer": "r",
   "version": "3.6.1"
  }
 },
 "nbformat": 4,
 "nbformat_minor": 4
}