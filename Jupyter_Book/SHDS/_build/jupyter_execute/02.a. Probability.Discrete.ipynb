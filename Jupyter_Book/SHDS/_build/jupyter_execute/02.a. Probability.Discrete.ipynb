{
 "cells": [
  {
   "cell_type": "markdown",
   "metadata": {},
   "source": [
    "# 2. Discrete Distributions"
   ]
  },
  {
   "cell_type": "markdown",
   "metadata": {},
   "source": [
    "This session is the first of two sessions covering useful elements and applications of basic probability. In this first session, we focus on variables which have a **discrete** distribution. In the next session, we extend these ideas to variables which have a **continuous** distribution.\n",
    "\n",
    "<div class=\"alert alert-block alert-warning\">\n",
    "<b> Intended learning outcomes</b> \n",
    "    \n",
    "* apply Bayes' Theorem to obtain useful properties of screening tests\n",
    "* derive the binomial and Poisson probability distribution functions\n",
    "* apply the binomial and Poisson distributions to health settings\n",
    "* evaluate the appropriateness of the binomial and Poisson distributions to health settings\n",
    "</div>"
   ]
  },
  {
   "cell_type": "markdown",
   "metadata": {},
   "source": [
    "The first part of this session explores Bayes' Theorem. This is a crucial probability theorem, which underlies the Bayesian approach to inference. Another important use is its application to quantify how well a screening test or prognostic classification tool is performing. In this session, we focus on this latter application but you will return to Bayes' Theorem in the later sessions about Bayesian statistics. \n",
    "\n",
    "The second and third parts of this lecture explore the binomial distribution and the Poisson distribution. For these sessions, we will assume we know characteristics of the population (e.g. the true prevalence of a disease, or incidence rate of a disease) and will explore how to calculate probabilities of various outcomes occurring. In subsequent sessions we will see how these sorts of calculations are used within the important area of statistical inference."
   ]
  },
  {
   "cell_type": "code",
   "execution_count": null,
   "metadata": {},
   "outputs": [],
   "source": []
  }
 ],
 "metadata": {
  "kernelspec": {
   "display_name": "R",
   "language": "R",
   "name": "ir"
  },
  "language_info": {
   "codemirror_mode": "r",
   "file_extension": ".r",
   "mimetype": "text/x-r-source",
   "name": "R",
   "pygments_lexer": "r",
   "version": "3.6.1"
  }
 },
 "nbformat": 4,
 "nbformat_minor": 4
}