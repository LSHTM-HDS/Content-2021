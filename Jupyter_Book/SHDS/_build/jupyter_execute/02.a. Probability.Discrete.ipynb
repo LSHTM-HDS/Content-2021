{
 "cells": [
  {
   "cell_type": "markdown",
   "metadata": {},
   "source": [
    "# 2. Probability and Discrete Probability Distributions"
   ]
  },
  {
   "cell_type": "markdown",
   "metadata": {},
   "source": [
    "This session is the first of two sessions covering basic probability. In this first lecture, we focus on variables which have what we call a **discrete** distribution. In the next session, we extend these ideas to variables which have a **continuous** distribution.\n",
    "\n",
    "<div class=\"alert alert-block alert-warning\">\n",
    "<b> Intended learning outcomes</b> \n",
    "    \n",
    "By the end of this session you will be able to:\n",
    "* apply Bayes' Theorem to obtain useful properties of screening tests\n",
    "* derive the binomial and Poisson probability distribution functions\n",
    "* apply the binomial and Poisson distributions to health settings\n",
    "* evaluate the appropriateness of the binomial and Poisson distributions to health settings\n",
    "</div>"
   ]
  },
  {
   "cell_type": "markdown",
   "metadata": {},
   "source": [
    "The three sub-sections of this session tackle Bayes' Theorem, the binomial distribution and the Poisson distribution."
   ]
  }
 ],
 "metadata": {
  "kernelspec": {
   "display_name": "R",
   "language": "R",
   "name": "ir"
  },
  "language_info": {
   "codemirror_mode": "r",
   "file_extension": ".r",
   "mimetype": "text/x-r-source",
   "name": "R",
   "pygments_lexer": "r",
   "version": "3.6.1"
  }
 },
 "nbformat": 4,
 "nbformat_minor": 4
}