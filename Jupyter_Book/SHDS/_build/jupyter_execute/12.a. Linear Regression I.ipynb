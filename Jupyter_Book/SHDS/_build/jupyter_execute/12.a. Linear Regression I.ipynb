{
 "cells": [
  {
   "cell_type": "markdown",
   "metadata": {},
   "source": [
    "# 12. Linear Regression I\n",
    "\n",
    "This is the first of four sessions that explore regression modelling. In this, and the next, session we consider linear regression modelling. These are models where the outcome of interest is a continuous variable. We then extend those ideas to regression models for other variable types, such as binary (logistic regression) and count (Poisson regression)."
   ]
  },
  {
   "cell_type": "markdown",
   "metadata": {},
   "source": [
    "<div class=\"alert alert-block alert-warning\">\n",
    "<b> Intended learning outcomes</b> \n",
    "    \n",
    "By the end of this session, you will be able to: \n",
    "\n",
    "* explain, in general, the rationale behind parametric statistical models;\n",
    "* fit and interpret a linear regression model;\n",
    "* describe the main properties of ordinary least squares estimators;\n",
    "* perform and interpret an analysis of variance. \n",
    "</div>"
   ]
  },
  {
   "cell_type": "markdown",
   "metadata": {},
   "source": [
    "**Acknowledgements:**  Thank you to Jennifer Nicholas and Chris Frost whose notes on linear regression were particularly useful in the development of the current lesson. "
   ]
  }
 ],
 "metadata": {
  "kernelspec": {
   "display_name": "R",
   "language": "R",
   "name": "ir"
  },
  "language_info": {
   "codemirror_mode": "r",
   "file_extension": ".r",
   "mimetype": "text/x-r-source",
   "name": "R",
   "pygments_lexer": "r",
   "version": "3.6.1"
  }
 },
 "nbformat": 4,
 "nbformat_minor": 4
}