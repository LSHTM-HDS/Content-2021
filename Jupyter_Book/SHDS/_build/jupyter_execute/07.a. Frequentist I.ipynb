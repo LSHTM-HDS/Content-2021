{
 "cells": [
  {
   "cell_type": "markdown",
   "metadata": {},
   "source": [
    "# 7. Frequentist I: Confidence Intervals (CIs)\n",
    "\n",
    "In previous sessions we considered the concept of estimating population parameters using information from a sample from the population. When we present an estimate of a population quantity, it is important to also provide a measure of how precise that estimate is. Do we believe it is close to the true value? Can we provide a range of values within which we believe the true value lies? \n",
    "\n",
    "This is the purpose of a confidence interval. Loosely speaking, it provides a range of values for the population parameter which our observed data are consistent with."
   ]
  },
  {
   "cell_type": "markdown",
   "metadata": {},
   "source": [
    "<div class=\"alert alert-block alert-warning\">\n",
    "<b> Intended learning outcomes</b> \n",
    "    \n",
    "By the end of this session you will be able to:\n",
    "\n",
    "* correctly interpret a 95% confidence interval interval\n",
    "* describe properties of a 95% confidence interval over repeated sampling\n",
    "* calculate a 95% confidence interval for the mean\n",
    "* use resampling (bootstrapping) approaches to obtain percentile confidence intervals\n",
    "\n",
    "</div>"
   ]
  }
 ],
 "metadata": {
  "kernelspec": {
   "display_name": "R",
   "language": "R",
   "name": "ir"
  },
  "language_info": {
   "codemirror_mode": "r",
   "file_extension": ".r",
   "mimetype": "text/x-r-source",
   "name": "R",
   "pygments_lexer": "r",
   "version": "3.6.1"
  }
 },
 "nbformat": 4,
 "nbformat_minor": 4
}