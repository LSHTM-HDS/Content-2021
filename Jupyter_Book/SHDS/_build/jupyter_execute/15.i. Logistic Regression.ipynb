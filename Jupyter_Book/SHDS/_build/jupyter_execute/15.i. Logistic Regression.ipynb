{
 "cells": [
  {
   "cell_type": "markdown",
   "metadata": {
    "hideCode": false,
    "hidePrompt": false
   },
   "source": [
    "## 15.8 Interactions\n",
    "\n",
    "As in the linear regression, we might include interactions into the model to take into account the fact that a variable $Z$ might affect the relation between another variable $X$ and the outcome $Y$. Adding the interaction $X\\times Z$ into the model allows to model properly this. The model would be written\n",
    "\n",
    "$$\\mathrm{logit}(\\pi_i) = \\beta_0 + \\beta_1 X + \\beta_2 Z + \\beta_3X\\times Z.$$\n",
    "\n",
    "Interpreting such a model becomes more subtile because of the interaction term. Let us assume here that $X$ is a numeric variable and $Z$ a binary variable. The interpretation has to be done according to each possible strata. In this example, there are two strata depending upon $Z$ which can be $0$ or $1$.\n",
    "\n",
    "* if $Z=0$, $\\mathrm{logit}(\\pi_i) = \\beta_0 + \\beta_1 X$\n",
    "    * $\\exp(\\beta_0)/(1+\\exp(\\beta_0))$ is the proportion of subject for which $Y_i=1$ and both $X$ and $Z$ are null\n",
    "    * $exp(\\beta_1)$ is the odds-ratio for $1$ unit increase of $X$ for subjects with $Z=0$\n",
    "* if $Z=1$, $\\mathrm{logit}(\\pi_i) = (\\beta_0+\\beta_2) + (\\beta_1+\\beta_3)X$\n",
    "   * $\\exp(\\beta_0+\\beta_2)/(1+\\exp(\\beta_0+\\beta_2))$ is the proportion of subject for which $Y_i=1$ and $X$ is null and $Z=1$\n",
    "   * $exp(\\beta_1+\\beta_3)$ is the odds-ratio for $1$ unit increase of $X$ for subjects with $Z=1$\n",
    "\n",
    "Note that, when including the interaction, we assume the potential that this interaction could actually exist. It can be however useful to directly test its existence. From the above model, it is straightforward to do so by testing the nullity of the parameter $\\beta_3$. If $\\beta_3=0$ is rejected, there is no evidence towards a modification of the effect of $X$ on $Y$ by $Z$.\n",
    "\n",
    "*Remark:* We need to be careful when computing the $95\\%$ confindence interval for the OR among subjects with $Z=1$, $\\exp(\\beta_1 + \\beta_3)$. Indeed, when computing $\\hat{\\mathrm{se}}(\\hat{\\beta}_1+\\hat{\\beta}_3)$, we need to know the value of the estimated covariance between $\\hat{\\beta_1}$ and $\\hat{\\beta_3}$ because $\\mathrm{var}(\\hat{\\beta}_1+\\hat{\\beta}_3) = \\mathrm{var}(\\hat{\\beta}_1) + \\mathrm{var}(\\hat{\\beta}_3) + \\mathrm{cov}(\\hat{\\beta}_1,\\hat{\\beta}_3)$.\n"
   ]
  },
  {
   "cell_type": "code",
   "execution_count": null,
   "metadata": {},
   "outputs": [],
   "source": []
  }
 ],
 "metadata": {
  "hide_code_all_hidden": false,
  "kernelspec": {
   "display_name": "R",
   "language": "R",
   "name": "ir"
  },
  "language_info": {
   "codemirror_mode": "r",
   "file_extension": ".r",
   "mimetype": "text/x-r-source",
   "name": "R",
   "pygments_lexer": "r",
   "version": "3.6.1"
  }
 },
 "nbformat": 4,
 "nbformat_minor": 4
}