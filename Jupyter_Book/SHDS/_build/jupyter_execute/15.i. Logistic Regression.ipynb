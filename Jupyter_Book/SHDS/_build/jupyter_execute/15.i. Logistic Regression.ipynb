{
 "cells": [
  {
   "cell_type": "markdown",
   "metadata": {
    "hideCode": false,
    "hidePrompt": false
   },
   "source": [
    "## 15.8 Interactions and higher-order terms\n",
    "\n",
    "\n",
    "We are often interested in exploring whether associations between an independent variable and our outcome differ depending on the value taken by another independent variable, i.e. we are interested in *interactions*. \n",
    "\n",
    "Similarly, we may be modelling the relationship between the odds of the outcome and a continuous covariate, and wish to explore whether the relationshp is linear on the log-odds scale. \n",
    "\n",
    "The good news is that the same techniques that we met in linear regression modelling can be applied here. We can add interactions, quadratic or higher order terms or splines to our logistic regression model.\n"
   ]
  },
  {
   "cell_type": "code",
   "execution_count": null,
   "metadata": {},
   "outputs": [],
   "source": []
  }
 ],
 "metadata": {
  "hide_code_all_hidden": false,
  "kernelspec": {
   "display_name": "R",
   "language": "R",
   "name": "ir"
  },
  "language_info": {
   "codemirror_mode": "r",
   "file_extension": ".r",
   "mimetype": "text/x-r-source",
   "name": "R",
   "pygments_lexer": "r",
   "version": "3.6.1"
  }
 },
 "nbformat": 4,
 "nbformat_minor": 4
}