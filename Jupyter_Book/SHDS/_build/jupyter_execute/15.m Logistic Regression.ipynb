{
 "cells": [
  {
   "cell_type": "markdown",
   "metadata": {
    "hideCode": false,
    "hidePrompt": false
   },
   "source": [
    "# 15.14 Additional reading \n",
    "\n",
    "The following notes sketch out the statistical theory underlying confidence interval construction and hypothesis testing using the log-likelihood ratio. This material is not examinable. \n",
    "\n",
    "These notes are intended to draw connections between the previous material surrounding maximum likelihood and the material concerning frequentist inference. \n"
   ]
  },
  {
   "cell_type": "markdown",
   "metadata": {},
   "source": [
    "## 15.14.1 Likelihood for simple logistic regression\n",
    "\n",
    "**Data:** We have a sample of $n$ binary observations $y_1, ..., y_n$. We will consider a very simple situation, with no covariates of interest.\n",
    "\n",
    "**Statistical model:** We assume our sample arises from $n$ independent variables $Y_1, ..., Y_n$, with $Y_i \\sim Bernoulli(\\pi)$. Our logistic regression model is:\n",
    "\n",
    "$$\n",
    "logit(\\pi) = \\beta\n",
    "$$\n",
    "\n",
    "**Likelihood:** Following the notes in the main text, we can obtain the likelihood function:\n",
    "\n",
    "$$\n",
    "\\begin{align*}\n",
    "L(\\beta)  = e^{k \\beta}  \\times \\left(\\frac{1}{1 + e^{\\beta}} \\right)^n\n",
    "\\end{align*}\n",
    "$$\n",
    "\n",
    "where $k = \\sum_i y_i$. \n",
    "\n",
    "**Log-likelihood:** Taking the log of the above likelihood, we derive the following log-likelihood\n",
    "\n",
    "$$\n",
    "\\begin{align*}\n",
    "l(\\beta) = k \\beta   - n log \\left(1 + e^{\\beta} \\right) \n",
    "\\end{align*}\n",
    "$$\n",
    "\n",
    "\n",
    "**Likelihood ratio:** This is the likelihood function divided through by the likelihood function evaluated at its maximum point (i.e. at the maximum likelihood estimator, $\\hat{\\beta}$. Therefore, this is simply the likelihood scaled to have a maximum of 1:\n",
    "\n",
    "$$\n",
    "\\begin{align*}\n",
    "LR = \\frac{L(\\beta)}{L(\\hat{\\beta})}  = \\frac{e^{k \\beta} \\left/ \\left(1 + e^{\\beta} \\right. \\right)^{n}}{e^{k \\hat{\\beta}}  \\left/ \\left(1 + e^{\\hat{\\beta}} \\right.  \\right)^{n}}\n",
    "\\end{align*}\n",
    "$$\n",
    "\n",
    "\n",
    "\n",
    "**Log likelihood ratio:** The log of the likelihood ratio is:\n",
    "\n",
    "$$\n",
    "\\begin{align*}\n",
    "llr(\\beta) = k \\beta   - n log \\left(1 + e^{\\beta} \\right)  - \\left\\{ k \\hat{\\beta}   - n log \\left(1 + e^{\\hat{\\beta}} \\right)  \\right\\}\n",
    "\\end{align*}\n",
    "$$\n",
    "\n",
    "\n",
    "**Maximum likelihood estimate:** We take the derivative of the log-likelihood and evaluate it at zero to obtain the maximum likelihood estimator, $\\hat{\\beta}$:\n",
    "\n",
    "$$\n",
    "\\begin{align*}\n",
    "\\frac{d l(\\beta)}{d \\beta} = \\frac{d}{d \\beta} \\left\\{ k \\beta   - n log \\left(1 + e^{\\beta} \\right)  \\right\\} = k - n \\frac{e^{\\beta}}{\\left(1 + e^{\\beta} \\right)}\n",
    "\\end{align*}\n",
    "$$\n",
    "\n",
    "Setting this to zero gives\n",
    "\n",
    "$$\n",
    "\\begin{align*}\n",
    "\\hat{\\beta} = log\\left( \\frac{\\bar{y}}{1 - \\bar{y}} \\right) \n",
    "\\end{align*}\n",
    "$$\n",
    "\n",
    "where $\\bar{y} = k/n$ is the sample proportion of successes. \n",
    "\n"
   ]
  },
  {
   "cell_type": "markdown",
   "metadata": {},
   "source": [
    "The figure below shows the Likelihood function and the log-likelihood at the top and the likelihood ratio and log-likelihood ratio on the bottom. We see that all four have a maximum at the same value of $\\beta$. The two graphs on the log scale (on the right hand side) are flatter and more symmetric. The likelihood ratio is simply the likelihood but scaled so the maximum value is 1. The log-likelihood ratio is scaled so the maximum value is 0. \n",
    "\n",
    "The code is suppressed to focus on the output but you can click to see the code."
   ]
  },
  {
   "cell_type": "code",
   "execution_count": 1,
   "metadata": {
    "tags": [
     "hide-input"
    ]
   },
   "outputs": [
    {
     "data": {
      "image/png": "[encoded data removed]",
      "text/plain": [
       "Plot with title \"Log-likelihood ratio\""
      ]
     },
     "metadata": {
      "filenames": {
       "image/png": "C:\\Users\\emsuewil\\Documents\\Work\\Teaching\\MSc_HDS\\Statistics\\Git_SHDS\\Jupyter_Book\\SHDS\\_build\\jupyter_execute\\15.m Logistic Regression_3_0.png"
      }
     },
     "output_type": "display_data"
    }
   ],
   "source": [
    "# Observed data \n",
    "n<- 20\n",
    "y<- c(0, 1, 1, 0, 1, 0, 1, 0, 1, 0, 1, 0, 0, 0, 0, 1, 0, 0, 1, 0)\n",
    "\n",
    "# MLE\n",
    "k <- sum(y)\n",
    "ybar <- k/n\n",
    "beta_hat <- log(ybar/(1 - ybar))\n",
    "\n",
    "# Set range of betas over which to evaluate functions\n",
    "beta <- seq(-1.5, 1, by = 0.004)\n",
    "\n",
    "# Likelihood and loglikelihoods function\n",
    "L <- exp(beta*k)/(1 + exp(beta))^n\n",
    "l <- beta*k - n*log(1 + exp(beta))\n",
    "\n",
    "# Likelihood ratio and log likelihood ratio\n",
    "LR <- L/(exp(beta_hat*k)/(1 + exp(beta_hat))^n)\n",
    "llr <- l - (beta_hat*k - n*log(1 + exp(beta_hat)))\n",
    "\n",
    "\n",
    "# Graph the four functions\n",
    "par(mfrow = c(2, 2)) \n",
    "\n",
    "plot(beta, L, type = \"l\", col=\"blue\", main=\"Likelihood\", ylab=\"L(beta)\")\n",
    "abline(v=beta_hat, col=\"orange\", lty=3)\n",
    "\n",
    "plot(beta, l, type = \"l\", col=\"blue\", main=\"Log-likelihood\", ylab=\"l(beta)\")\n",
    "abline(v=beta_hat, col=\"orange\", lty=3)\n",
    "\n",
    "plot(beta, LR, type = \"l\", col=\"blue\", main=\"Likelihood ratio\", ylab=\"LR(beta)\")\n",
    "abline(v=beta_hat, col=\"orange\", lty=3)\n",
    "\n",
    "plot(beta, llr, type = \"l\", col=\"blue\", main=\"Log-likelihood ratio\", ylab=\"llr(beta)\")\n",
    "abline(v=beta_hat, col=\"orange\", lty=3)\n",
    "\n"
   ]
  },
  {
   "cell_type": "markdown",
   "metadata": {},
   "source": [
    "## 15.14.2 Confidence intervals based on the likelihood\n",
    "\n",
    "Remember that the likelihood is a measure of how consistent the different values of the parameter are with the observed data. The most consistent value is at the maximum, i.e. the maximum likelihood estimator. We can also see that values with a much lower likelihood are much less consistent with the data. \n",
    "\n",
    "This suggests the idea of obtaining a confidence interval by taking all values that have a likelihood within a certain range of the maximum. \n",
    "\n",
    "In fact, when we have a single parameter of interest (which we will call $\\beta_0$) then it turns out that for an independent sample (under a number of \"regularity\" conditions not stated here), we have the following asymptotic distribution:\n",
    "\n",
    "\n",
    "$$\n",
    "-2 llr(\\beta_0) = -2 (l(\\beta_0) - l(\\hat{\\beta})) \\sim \\chi^2_1    \\qquad \\text{as} \\ n \\rightarrow \\infty\n",
    "$$\n",
    "\n",
    "A $\\chi^2_1$ distribution has 5% of the distribution above the value 3.84. Therefore, this means that\n",
    "\n",
    "$$\n",
    "P(-2 llr(\\beta_0) \\geq 3.84) = 0.95 \\rightarrow P(llr(\\beta_0) \\geq  -1.92) = 0.95\n",
    "$$\n",
    "\n",
    "leading to the 95% confidence interval of all values of $\\beta$ that have a log-likelihood ratio at most 1.92 units lower than the maximum:\n",
    "\n",
    "$$\n",
    "\\{ \\beta s.t. l(\\beta) - l(\\hat{\\beta}) \\geq -1.92\\}\n",
    "$$\n",
    "\n",
    "The plot below shows the line -1.92. Our 95% confidence interval is formed by all values of $\\beta$ which have a log-likelihood falling above this line. This is approximately the iterval: (-1.34, 0.48). The MLE and confidnence limits are shown in orange dashed lines."
   ]
  },
  {
   "cell_type": "code",
   "execution_count": 2,
   "metadata": {
    "tags": [
     "hide-input"
    ]
   },
   "outputs": [
    {
     "data": {
      "image/png": "[encoded data removed]",
      "text/plain": [
       "Plot with title \"CI from log-likelihood ratio\""
      ]
     },
     "metadata": {
      "filenames": {
       "image/png": "C:\\Users\\emsuewil\\Documents\\Work\\Teaching\\MSc_HDS\\Statistics\\Git_SHDS\\Jupyter_Book\\SHDS\\_build\\jupyter_execute\\15.m Logistic Regression_5_0.png"
      }
     },
     "output_type": "display_data"
    }
   ],
   "source": [
    "options(repr.plot.width=4, repr.plot.height=4)\n",
    "par(mfrow = c(1, 1)) \n",
    "plot(beta, llr, col=\"blue\", type = \"l\", main=\"CI from log-likelihood ratio\", ylab=\"llr(beta)\")\n",
    "abline(v=beta_hat, col=\"orange\", lty=3)\n",
    "abline(h=-1.92, col=\"red\")\n",
    "\n",
    "abline(v=-1.34, col=\"orange\", lty=4)\n",
    "abline(v=0.48, col=\"orange\", lty=4)\n",
    "\n",
    "\n"
   ]
  },
  {
   "cell_type": "markdown",
   "metadata": {},
   "source": [
    "## 15.14.2 Quadratic approximation \n",
    "\n",
    "There is often no closed form solution to obtain the exact values at which the log-likelihood ratio takes value -1.92. An often simpler approach is to work instead with a quadratic approximation to the log-likelihood ratio, for which there is a simple closed-form solution.  \n",
    "\n",
    "We will now make a quadratic approximation to the log likelihood ratio. In the plot above, we see that this graph is not quite symmetric but looks fairly quadratic near the maximum. \n",
    "\n",
    "To obtain our quadratic approximation, we will look for a function of the (quadratic) form:\n",
    "\n",
    "$$\n",
    "f(\\beta) = -\\frac{1}{2} \\left( \\frac{\\beta - M}{S} \\right)^2\n",
    "$$\n",
    "\n",
    "We want our quadratic approximation to\n",
    "- have the same maximum\n",
    "- have the same curvature near the maximum\n",
    "\n",
    "The first condition above means that we need $f(\\hat{\\beta}) = 0$. This fixes $M = \\hat{\\beta}$. \n",
    "\n",
    "The second condition means that we need the second derivatives of $f(\\beta)$ and $llr(\\beta)$ to be equal at the MLE, $\\hat{\\beta}$, since curvature is measured by the second derivative. In fact, we will consider making the curvature (second derivatives) of $f(\\beta)$ and $l(\\beta)$ to be equal at the MLE, since this is algebraically a little simpler. From the plots above we can see that the curvature of $l(\\beta)$ and $llr(\\beta)$ are identical.\n",
    "\n",
    "Differentiating $f(\\beta)$ twice shows that $f''(\\beta) = -1/S^2$ for any value of $\\beta$. Thus we set\n",
    "\n",
    "$$\n",
    "S^2 = -\\frac{1}{l''(\\hat{\\beta})}\n",
    "$$\n",
    "\n",
    "It also turns out that the resulting value for $S$ is also the standard error of $\\hat{\\beta}$, i.e. $S = SE(\\hat{\\beta})$.\n",
    "\n",
    "This gives us our required quadratic approximation to the log-likelihood ratio:\n",
    "\n",
    "$$\n",
    "f(\\beta) = -\\frac{1}{2} \\left( \\frac{\\beta - \\hat{\\beta}}{SE(\\hat{\\beta})} \\right)^2  \\qquad  \\text{with SE obtained as: } SE^2 = -\\frac{1}{l''(\\hat{\\beta})}\n",
    "$$\n",
    "\n",
    "\n",
    "### Example\n",
    "\n",
    "Returning to our example, we take the second derivative of the log-likelihood to obtain $S$. First, we have already taken the first derivative to obtain our MLE:\n",
    "\n",
    "$$\n",
    "\\begin{align*}\n",
    "\\frac{d l(\\beta)}{d \\beta} = \\frac{d}{d \\beta} \\left\\{ k \\beta   - n log \\left(1 + e^{\\beta} \\right)  \\right\\} = k - n \\frac{e^{\\beta}}{\\left(1 + e^{\\beta} \\right)}\n",
    "\\end{align*}\n",
    "$$\n",
    "\n",
    "Taking the derivative of this, we get:\n",
    "\n",
    "$$\n",
    "\\begin{align*}\n",
    "\\frac{d^2 l(\\beta)}{d \\beta^2} = \\frac{d}{d \\beta} \\left\\{ k - n \\frac{e^{\\beta}}{\\left(1 + e^{\\beta} \\right)} \\right\\} = -\\frac{n e^\\beta}{\\left(1 + e^{\\beta} \\right)^2}\n",
    "\\end{align*}\n",
    "$$\n",
    "\n",
    "Thus we set\n",
    "\n",
    "$$\n",
    "S^2 = -\\frac{1}{l''(\\hat{\\beta})} =  \\frac{\\left(1 + e^{\\hat{\\beta}} \\right)^2}{n e^\\hat{\\beta}}\n",
    "$$\n",
    "\n",
    "The figure below shows the log likelihood ratio and the quadratic approximation. \n"
   ]
  },
  {
   "cell_type": "code",
   "execution_count": 3,
   "metadata": {
    "tags": [
     "hide-input"
    ]
   },
   "outputs": [
    {
     "data": {
      "image/png": "[encoded data removed]",
      "text/plain": [
       "Plot with title \"Quadratic approxmiation (green) to \n",
       " log-likelihood ratio (blue)\""
      ]
     },
     "metadata": {
      "filenames": {
       "image/png": "C:\\Users\\emsuewil\\Documents\\Work\\Teaching\\MSc_HDS\\Statistics\\Git_SHDS\\Jupyter_Book\\SHDS\\_build\\jupyter_execute\\15.m Logistic Regression_7_0.png"
      }
     },
     "output_type": "display_data"
    }
   ],
   "source": [
    "# Obtain S (i.e. the SE(beta_hat))\n",
    "SE <- sqrt((n*exp(beta_hat)/(1 + exp(beta_hat))^2)^(-1))\n",
    "\n",
    "# Obtain quadratic approximation to log-likelihood ratio:\n",
    "f<- -1/2*((beta - beta_hat)/SE)^2 \n",
    "\n",
    "# Plot\n",
    "options(repr.plot.width=4, repr.plot.height=4)\n",
    "par(mfrow = c(1, 1)) \n",
    "plot(beta, llr, col=\"blue\", type = \"l\", main=\"Quadratic approxmiation (green) to \\n log-likelihood ratio (blue)\", ylab=\"llr(beta)\")\n",
    "lines(beta, f, col=\"green\", type = \"l\")\n",
    "\n",
    "# indicate MLE\n",
    "abline(v=beta_hat, col=\"orange\", lty=3)\n",
    "\n",
    "# indicate log likelihood ratio confidence interval\n",
    "abline(h=-1.92, col=\"red\")\n",
    "abline(v=-1.34, col=\"orange\", lty=4)\n",
    "abline(v=0.48, col=\"orange\", lty=4)"
   ]
  },
  {
   "cell_type": "markdown",
   "metadata": {},
   "source": [
    "The quadratic approximation is very good near to the maximum. The horizontal red line indicates the 95% confidence interval obtained using the log likelihood ratio. The quadratic approximation starts to deviate from the log likelihood ratio at that point, but not by much. overall, this plot suggests that the quadratic approximation will provide us with a 95% confidence interval very close to the one obtained directly from the log likelihood ratio. "
   ]
  },
  {
   "cell_type": "markdown",
   "metadata": {},
   "source": [
    "## 15.14.3 Quadratic approximation \n",
    "\n",
    "If our quadratic approximation is a good approximation to the log-likelihood ratio then we will have, approximately\n",
    "\n",
    "$$\n",
    "-2 f(\\beta) \\sim \\chi^2_1\n",
    "$$\n",
    "\n",
    "Thus \n",
    "\n",
    "$$\n",
    "-2 f(\\beta) = -2 \\times -\\frac{1}{2} \\left( \\frac{\\beta - \\hat{\\beta}}{SE(\\hat{\\beta})} \\right)^2  \\sim \\chi^2_1\n",
    "$$\n",
    "\n",
    "In other words,\n",
    "\n",
    "$$\n",
    "\\left( \\frac{\\beta - \\hat{\\beta}}{SE(\\hat{\\beta})} \\right)^2  \\sim \\chi^2_1\n",
    "$$\n",
    "\n",
    "A $\\chi^2_1$ distribution has 5% of the distribution above the value 3.84, so \n",
    "\n",
    "$$\n",
    "P\\left(\\left( \\frac{\\beta - \\hat{\\beta}}{SE(\\hat{\\beta})} \\right)^2  \\geq 3.84\\right)  = 0.95\n",
    "$$\n",
    "\n",
    "Noticing that $\\sqrt{3.84} = 1.96$, this gives the 95% confidence interval:\n",
    "\n",
    "$$\n",
    "\\hat{\\beta} \\pm 1.96 \\times SE(\\hat{\\beta})\n",
    "$$\n",
    "\n",
    "This is sometimes called a **Wald-type** confidence interval. \n",
    "\n",
    "The plot below graphs the interval constructed in this way (indicated by the purple dashed lines), along with the previous  confidence interval calculated from the log-likelihood ratio. "
   ]
  },
  {
   "cell_type": "code",
   "execution_count": 4,
   "metadata": {
    "tags": [
     "hide-input"
    ]
   },
   "outputs": [
    {
     "data": {
      "image/png": "[encoded data removed]",
      "text/plain": [
       "Plot with title \"Two types of 95% CI\""
      ]
     },
     "metadata": {
      "filenames": {
       "image/png": "C:\\Users\\emsuewil\\Documents\\Work\\Teaching\\MSc_HDS\\Statistics\\Git_SHDS\\Jupyter_Book\\SHDS\\_build\\jupyter_execute\\15.m Logistic Regression_10_0.png"
      }
     },
     "output_type": "display_data"
    }
   ],
   "source": [
    "# Plot\n",
    "options(repr.plot.width=4, repr.plot.height=4)\n",
    "par(mfrow = c(1, 1)) \n",
    "plot(beta, llr, col=\"blue\", type = \"l\", main=\"Two types of 95% CI\", ylab=\"llr(beta)\")\n",
    "lines(beta, f, col=\"green\", type = \"l\", ylab=\"llr(beta)\")\n",
    "\n",
    "# indicate MLE\n",
    "abline(v=beta_hat, col=\"orange\", lty=3)\n",
    "\n",
    "# indicate log likelihood ratio confidence interval\n",
    "abline(h=-1.92, col=\"red\")\n",
    "abline(v=-1.34, col=\"orange\", lty=4)\n",
    "abline(v=0.48, col=\"orange\", lty=4)\n",
    "\n",
    "# indicate Wald-type confidence interval (from quadratic approximation)\n",
    "lower_lim <- beta_hat - 1.96*SE\n",
    "upper_lim <- beta_hat + 1.96*SE\n",
    "abline(v=lower_lim, col=\"purple\", lty=4)\n",
    "abline(v=upper_lim, col=\"purple\", lty=4)"
   ]
  },
  {
   "cell_type": "markdown",
   "metadata": {},
   "source": [
    "In the plot above, the two confidence intervals are very similar. "
   ]
  },
  {
   "cell_type": "markdown",
   "metadata": {},
   "source": [
    "## 15.14.4 Hypothesis testing\n",
    "\n",
    "Suppose we wish to test the null hypothesis:\n",
    "\n",
    "- $H_0: \\beta = \\beta_0$\n",
    "- $H_1: \\beta \\neq \\beta_0$\n",
    "\n",
    "\n",
    "**Likelihood ratio test**\n",
    "\n",
    "Under the null hypothesis,\n",
    "\n",
    "$$\n",
    "-2 llr(\\beta_0) \\sim \\chi^2_1\n",
    "$$\n",
    "\n",
    "Tests can be based on this distribution, giving a p-value.\n",
    "\n",
    "**Wald test**\n",
    "\n",
    "Using the quadratic approximation, \n",
    "\n",
    "$$\n",
    "\\left( \\frac{\\beta - \\hat{\\beta}}{SE(\\hat{\\beta})} \\right)^2  \\sim \\chi^2_1\n",
    "$$\n",
    "\n",
    "Or, equivalently:\n",
    "\n",
    "$$\n",
    "\\left( \\frac{\\beta - \\hat{\\beta}}{SE(\\hat{\\beta})} \\right)  \\sim N(0,1)\n",
    "$$\n",
    "\n",
    "\n",
    "This is exactly the form of hypothesis tests we encountered in the session about hypothesis testing. "
   ]
  },
  {
   "cell_type": "markdown",
   "metadata": {},
   "source": [
    "## 15.14.5 Additional comments\n",
    "\n",
    "Notes\n",
    "> We often construct confidence intervals on the log scale (e.g. the log odds ratios). Confidence intervals based on the log likelihood ratio are transformation invariant, but Wald-type intervals are not. Often, basing calculations on a log scale improves the approximations made above. <br><br>\n",
    "> We have focused on situations with a single unknown parameter. With more than one unknown parameter, things are a little more complex. The profile likelihood, which treats some parameters as \"nuisance\" parameters and *removes* them from the likelihood, using a process called profiling, is beyond the scope of these notes. The fundamental principles remain the same.\n"
   ]
  },
  {
   "cell_type": "code",
   "execution_count": null,
   "metadata": {},
   "outputs": [],
   "source": []
  }
 ],
 "metadata": {
  "celltoolbar": "Tags",
  "hide_code_all_hidden": false,
  "kernelspec": {
   "display_name": "R",
   "language": "R",
   "name": "ir"
  },
  "language_info": {
   "codemirror_mode": "r",
   "file_extension": ".r",
   "mimetype": "text/x-r-source",
   "name": "R",
   "pygments_lexer": "r",
   "version": "3.6.1"
  }
 },
 "nbformat": 4,
 "nbformat_minor": 4
}