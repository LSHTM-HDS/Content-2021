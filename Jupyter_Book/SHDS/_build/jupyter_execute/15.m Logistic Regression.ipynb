{
 "cells": [
  {
   "cell_type": "markdown",
   "metadata": {
    "hideCode": false,
    "hidePrompt": false
   },
   "source": [
    "# Additional reading \n",
    "\n",
    "The following notes sketch out the statistical theory underlying confidence interval construction and hypothesis testing using the log-likelihood ratio. This material is not examinable. \n",
    "\n",
    "These notes are intended to draw connections between the previous material surrounding maximum likelihood and the material concerning frequentist inference. \n"
   ]
  },
  {
   "cell_type": "markdown",
   "metadata": {},
   "source": [
    "Broad idea:\n",
    "\n",
    "- Logistic regression with intercept only (i.e. 1 parameter model)\n",
    "- Give likelihood, log-, LR and LLR (recap)\n",
    "- Note that we can get a 95% CI by ising approx distn -2 llr(theta_0) \\sim chisq1. \n",
    "\n",
    "- Quad approx to llikelihood. Some (lin model) are already quad. If not, we can often get a reasonable approx using a quadratic function. We choose a function s.t. the maximum (MELE) is the same an the curvature at the max is the same. \n",
    "\n",
    "- this gives appox f = -1/2 (thetta - theta_hat/SE(teht-hat)^2, where SE = -1/l''\n",
    "- Approx, 2f ~ chisq1. So (theta_0 - thetahat/se) ~ N(0,1))\n",
    "- which gives 95% CI: thetahat +. se 1,96\n",
    "\n",
    "\n",
    "Testing:\n",
    "- LR test. chissq distn.\n",
    "Wald - uses approx & normal distn. \n",
    "\n",
    "\n",
    "Notes\n",
    "1. Often do on log scale. \n",
    "2. Things a bit more complex when multiple parameters (e.g. profile likelihood). \n",
    "\n",
    "\n",
    "\n"
   ]
  }
 ],
 "metadata": {
  "hide_code_all_hidden": false,
  "kernelspec": {
   "display_name": "R",
   "language": "R",
   "name": "ir"
  },
  "language_info": {
   "codemirror_mode": "r",
   "file_extension": ".r",
   "mimetype": "text/x-r-source",
   "name": "R",
   "pygments_lexer": "r",
   "version": "3.6.1"
  }
 },
 "nbformat": 4,
 "nbformat_minor": 4
}