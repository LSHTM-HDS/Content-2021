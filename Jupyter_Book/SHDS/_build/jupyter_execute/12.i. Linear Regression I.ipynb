{
 "cells": [
  {
   "cell_type": "markdown",
   "metadata": {},
   "source": [
    "# 12.8 Additional material\n",
    "\n",
    "This section contains additional material concerning confidence intervals for a fitted value and reference ranges. These are useful topics in regression, but will not be examinable. \n"
   ]
  },
  {
   "cell_type": "markdown",
   "metadata": {},
   "source": [
    "## 12.8.1 Confidence intervals for a fitted value \n",
    "\n",
    "So far we have only discussed conducting inference on the estimated regression coefficients. However, it may also be of interest to determine **confidence intervals for the fitted outcomes**, or **prediction intervals**. The subsequent two sections describe and illustrate these two concepts, respectively. \n",
    "\n",
    "Rather than focusing on associations between variables and the outcome, we are sometimes interested in the expected value of the outcome at particular values of $X$, i.e. $y_x = E[Y | X=x] = \\beta_0+\\beta_1 x$. \n",
    "\n",
    "The fitted value is our estimate of this quantity, \n",
    "\n",
    "$$\n",
    "\\hat{y}_x = \\hat{\\beta}_0 + \\hat{\\beta}_1 x.\n",
    "$$\n",
    "\n",
    "The variance of the fitted value is given by:\n",
    "\n",
    "$$\n",
    "V(\\hat{y}_x) = \\sigma^2 \\left(\\frac{1}{n}+\\frac{(x-\\bar{x})^2}{SS_{xx}}\\right)\n",
    "$$\n",
    "\n",
    "where $SS_{xx}=\\sum_{i=1}^n(x_i-\\bar{x})^2$, i.e. the sum of squares of $X$.  \n",
    "\n",
    "The 95% confidence interval for the fitted value is given by:\n",
    "\n",
    "$$\n",
    "\\hat{y_x} \\pm t_{n-2, 0.975}\\hat{\\sigma} \\sqrt{\\frac{1}{n}+ \\frac{(x-\\bar{x})^2}{SS_{xx}}}\n",
    "$$\n",
    "\n",
    "* 95% confidence intervals can be obtained for values of the independent variable that do not arise in the data. However, the width of the confidence interval increases with the distance from the mean (as can be seem from the formula and figure given below). \n",
    "* Care must be taken when extrapolating outside the range of the observed data as this makes an un-testable assumption that linearity continues outside the observed data range. \n",
    "\n",
    "*Example*. The R code below calculates a 95% confidence interval for the fitted value of birthweight of a baby born after 280 gestational days. \n",
    " "
   ]
  },
  {
   "cell_type": "markdown",
   "metadata": {},
   "source": [
    "###  Example\n",
    "\n",
    "We return to our first example, exploring the association between birthweight and length of pregnancy (gestational days).Suppose we are interested in the expected birthweight for a baby who is born at 280 days' gestation. \n",
    "\n",
    "The code below refits our model and uses it to estimate the expected birthweight for this gestational age. It also provides a 95% confidence interval around that estimate."
   ]
  },
  {
   "cell_type": "code",
   "execution_count": 1,
   "metadata": {},
   "outputs": [
    {
     "data": {
      "text/html": [
       "<table>\n",
       "<thead><tr><th scope=col>fit</th><th scope=col>lwr</th><th scope=col>upr</th></tr></thead>\n",
       "<tbody>\n",
       "\t<tr><td>119.8818</td><td>118.9215</td><td>120.8421</td></tr>\n",
       "</tbody>\n",
       "</table>\n"
      ],
      "text/latex": [
       "\\begin{tabular}{r|lll}\n",
       " fit & lwr & upr\\\\\n",
       "\\hline\n",
       "\t 119.8818 & 118.9215 & 120.8421\\\\\n",
       "\\end{tabular}\n"
      ],
      "text/markdown": [
       "\n",
       "| fit | lwr | upr |\n",
       "|---|---|---|\n",
       "| 119.8818 | 118.9215 | 120.8421 |\n",
       "\n"
      ],
      "text/plain": [
       "  fit      lwr      upr     \n",
       "1 119.8818 118.9215 120.8421"
      ]
     },
     "metadata": {},
     "output_type": "display_data"
    }
   ],
   "source": [
    "# Refit model\n",
    "data<- read.csv('https://www.inferentialthinking.com/data/baby.csv')\n",
    "model1<-lm(Birth.Weight~Gestational.Days, data=data)\n",
    "\n",
    "# Confidence interval for a fitted value \n",
    "new.data<-data.frame(Gestational.Days=280)\n",
    "predict(model1, newdata=new.data, interval=\"confidence\", level=0.95)"
   ]
  },
  {
   "cell_type": "markdown",
   "metadata": {},
   "source": [
    "We estimate that the expected (average) birthweight for babies born at 280 days' gestation is 119.9oz. The 95% confidence interval for this estimate is is (118.9, 120.8). Informally, we can interpret this as: it is plausible that the true value of the expected birthweight, for babies born at 280 days' gestation, lies between 118.9oz and 120.8oz.  \n"
   ]
  },
  {
   "cell_type": "markdown",
   "metadata": {},
   "source": [
    "We can extend this idea to graph the fitted values - estimated expected birthweight - and their confidence intervals across the range of gestational days. The code below does this."
   ]
  },
  {
   "cell_type": "code",
   "execution_count": 2,
   "metadata": {},
   "outputs": [
    {
     "data": {
      "image/png": "[encoded data removed]",
      "text/plain": [
       "Plot with title \"95% Confidence intervals\""
      ]
     },
     "metadata": {
      "filenames": {
       "image/png": "C:\\Users\\emsuewil\\Documents\\Work\\Teaching\\MSc_HDS\\Statistics\\Git_SHDS\\Jupyter_Book\\SHDS\\_build\\jupyter_execute\\12.i. Linear Regression I_6_0.png"
      }
     },
     "output_type": "display_data"
    }
   ],
   "source": [
    "options(repr.plot.height=5, repr.plot.width=5)\n",
    "\n",
    "# Plot the fitted regression line (the fitted values)\n",
    "plot(data$Gestational.Days, data$Birth.Weight, xlab=\"Gestational days\", ylab=\"Birthweight (oz)\", main=\"95% Confidence intervals\")\n",
    "abline(model1)\n",
    "\n",
    "# Add the confidence intervals for the fitted regression line\n",
    "conf_interval<-predict(model1, newdata=data, interval=\"confidence\", level=0.95)\n",
    "lines(data$Gestational.Days, conf_interval[,2], col=\"blue\")\n",
    "lines(data$Gestational.Days, conf_interval[,3], col=\"blue\")"
   ]
  },
  {
   "cell_type": "markdown",
   "metadata": {},
   "source": [
    "Notice how the confidence interval around the fitted line is narrowest in the centre of the x-axis, where most of our data are concentrated, and widest at the extremes. "
   ]
  },
  {
   "cell_type": "markdown",
   "metadata": {},
   "source": [
    "## 12.8.2 Prediction intervals\n",
    "\n",
    "The 95% confidence interval around the fitted line describes our certainty about where the fitted line is (i.e. where the expected value is). \n",
    "\n",
    "Sometimes, we are not interested in the average outcome at a particular point, but the likely spread of values arount the average. In this case, we are interested in obtaining what is called a **prediction interval**, or **reference range**. \n",
    "\n",
    "A 95% prediction interval, or 95% reference range, is an interval within which 95% of future observations are expected to lie. \n",
    "\n",
    "The predicted value for an individual with $X=x$ is the fitted value, as above. However, there are now two sourcces of uncertainty to take into account. (1) There is uncertainty about the fitted value (the expected value), as above. (2) There is random error around that point ($\\sigma^2$). Thus, the variance in the individual prediction is given by:\n",
    "\n",
    "$$\n",
    "\\begin{align*}\n",
    "V(\\hat{y_x}) + \\sigma^2 &= \\sigma^2 \\left(\\frac{1}{n}+\\frac{(x-\\bar{x})^2}{SS_{xx}}\\right)+ \\sigma^2 \\\\\n",
    " & = \\sigma^2\\left(1+\\frac{1}{n}+\\frac{(x-\\bar{x})^2}{S_{xx}}\\right)\n",
    "\\end{align*}\n",
    "$$\n",
    "\n",
    "\n",
    "A 95\\% prediction interval is then given by: \n",
    "\n",
    "$$\n",
    "\\hat{y_x} \\pm t_{n-2, 0.975} \\hat{\\sigma} \\sqrt{1+ \\frac{1}{n}+ \\frac{(x-\\bar{x})^2}{S_{xx}}}\n",
    "$$"
   ]
  },
  {
   "cell_type": "markdown",
   "metadata": {},
   "source": [
    "### Example\n",
    "\n",
    "The R code below calculates a 95\\% prediction interval for the birthweight of babies who are born at 280 days' gestation."
   ]
  },
  {
   "cell_type": "code",
   "execution_count": 3,
   "metadata": {},
   "outputs": [
    {
     "data": {
      "text/html": [
       "<table>\n",
       "<thead><tr><th scope=col>fit</th><th scope=col>lwr</th><th scope=col>upr</th></tr></thead>\n",
       "<tbody>\n",
       "\t<tr><td>119.8818</td><td>87.01496</td><td>152.7486</td></tr>\n",
       "</tbody>\n",
       "</table>\n"
      ],
      "text/latex": [
       "\\begin{tabular}{r|lll}\n",
       " fit & lwr & upr\\\\\n",
       "\\hline\n",
       "\t 119.8818 & 87.01496 & 152.7486\\\\\n",
       "\\end{tabular}\n"
      ],
      "text/markdown": [
       "\n",
       "| fit | lwr | upr |\n",
       "|---|---|---|\n",
       "| 119.8818 | 87.01496 | 152.7486 |\n",
       "\n"
      ],
      "text/plain": [
       "  fit      lwr      upr     \n",
       "1 119.8818 87.01496 152.7486"
      ]
     },
     "metadata": {},
     "output_type": "display_data"
    }
   ],
   "source": [
    "# Prediction interval\n",
    "predict(model1, newdata=new.data, interval=\"prediction\", level=0.95)"
   ]
  },
  {
   "cell_type": "markdown",
   "metadata": {},
   "source": [
    "The 95% prediction interval for babies born at 280 days' gestation is (87.0, 152.7). This means that we would expect 95% of babies born after 280 gestational days to weigh between 87 and 152.7 ounces. "
   ]
  },
  {
   "cell_type": "markdown",
   "metadata": {},
   "source": [
    "## 12.8.3 Comparing intervals\n",
    "\n",
    "The code below produces two scatterplots of gestational days against birthweight with the linear regression line of best fit (obtained from Model 1) superimposed. The blue lines on the left-hand side plot represent the 95% confidence intervals for the fitted values across the entire range of gestational days. The blue lines on the right-hand side plot represent the 95% prediction intervals. \n"
   ]
  },
  {
   "cell_type": "code",
   "execution_count": 4,
   "metadata": {},
   "outputs": [
    {
     "data": {
      "image/png": "[encoded data removed]",
      "text/plain": [
       "Plot with title \"95% Prediction intervals\""
      ]
     },
     "metadata": {
      "filenames": {
       "image/png": "C:\\Users\\emsuewil\\Documents\\Work\\Teaching\\MSc_HDS\\Statistics\\Git_SHDS\\Jupyter_Book\\SHDS\\_build\\jupyter_execute\\12.i. Linear Regression I_13_0.png"
      }
     },
     "output_type": "display_data"
    }
   ],
   "source": [
    "#Set the graphical space so that two plots are shown side-by-side in one row\n",
    "par(mfrow=c(1,2))\n",
    "options(repr.plot.height=5, repr.plot.width=8)\n",
    "\n",
    "#Confidence intervals for predicted values\n",
    "plot(data$Gestational.Days, data$Birth.Weight, xlab=\"Gestational days\", ylab=\"Birthweight (oz)\", main=\"95% Confidence intervals\")\n",
    "abline(model1)\n",
    "\n",
    "conf_interval<-predict(model1, newdata=data, interval=\"confidence\", level=0.95)\n",
    "lines(data$Gestational.Days, conf_interval[,2], col=\"blue\")\n",
    "lines(data$Gestational.Days, conf_interval[,3], col=\"blue\")\n",
    "\n",
    "#Reference ranges\n",
    "plot(data$Gestational.Days, data$Birth.Weight, xlab=\"Gestational days\", ylab=\"Birthweight (oz)\", main=\"95% Prediction intervals\")\n",
    "abline(model1)\n",
    "\n",
    "conf_interval<-predict(model1, newdata=data, interval=\"prediction\", level=0.95)\n",
    "lines(data$Gestational.Days, conf_interval[,2], col=\"blue\")\n",
    "lines(data$Gestational.Days, conf_interval[,3], col=\"blue\")"
   ]
  },
  {
   "cell_type": "markdown",
   "metadata": {},
   "source": [
    "As expected, we see that the prediction interval is much wider. Loosely speaking, the plot on the left shows a range of uncertainty about where the *average* line is. The plot on the right shows a range of uncertainty about where individual measurements will lie."
   ]
  },
  {
   "cell_type": "code",
   "execution_count": null,
   "metadata": {},
   "outputs": [],
   "source": []
  }
 ],
 "metadata": {
  "kernelspec": {
   "display_name": "R",
   "language": "R",
   "name": "ir"
  },
  "language_info": {
   "codemirror_mode": "r",
   "file_extension": ".r",
   "mimetype": "text/x-r-source",
   "name": "R",
   "pygments_lexer": "r",
   "version": "3.6.1"
  }
 },
 "nbformat": 4,
 "nbformat_minor": 4
}