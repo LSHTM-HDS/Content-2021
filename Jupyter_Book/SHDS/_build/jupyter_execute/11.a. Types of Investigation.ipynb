{
 "cells": [
  {
   "cell_type": "markdown",
   "metadata": {},
   "source": [
    "# 11. Types of Investigation\n",
    "\n",
    "This session introduces how to set up a research question, explores the different types of investigation and brings in key concepts like prediction, causality and confounding. This session demonstrates how methods learnt in previous sessions are applied in research."
   ]
  },
  {
   "cell_type": "markdown",
   "metadata": {},
   "source": [
    "<div class=\"alert alert-block alert-warning\">\n",
    "<b> Intended learning outcomes</b> \n",
    "    \n",
    "By the end of this session you will be able to:\n",
    "\n",
    "* Describe three different types of investigations that arise in medical statistics and health data science.\n",
    "* Link a research question to an investigation type and compare the properties of different investigation types.\n",
    "* Explain how and why explanatory variables are used differently in prediction studies and in causal investigations. \n",
    "</div>"
   ]
  }
 ],
 "metadata": {
  "kernelspec": {
   "display_name": "R",
   "language": "R",
   "name": "ir"
  },
  "language_info": {
   "codemirror_mode": "r",
   "file_extension": ".r",
   "mimetype": "text/x-r-source",
   "name": "R",
   "pygments_lexer": "r",
   "version": "3.6.1"
  }
 },
 "nbformat": 4,
 "nbformat_minor": 4
}