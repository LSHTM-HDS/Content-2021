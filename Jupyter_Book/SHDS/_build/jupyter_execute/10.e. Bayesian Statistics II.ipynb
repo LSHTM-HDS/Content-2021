{
 "cells": [
  {
   "cell_type": "markdown",
   "metadata": {},
   "source": [
    "## 10.4 Predictions \n",
    "\n",
    "### 10.4.1 Prior predictive distributions\n",
    "\n",
    "Finding the predictive distribution for a new patient $y$ before making any observations involves finding the following distribution:\n",
    "\n",
    "$$\n",
    "p(y | \\sigma^2, \\phi, \\tau^2) = \\int p(y, \\mu | \\sigma^2, \\phi, \\tau^2) d \\mu\\\\\n",
    "= \\int p(y | \\mu, \\sigma^2, \\phi, \\tau^2) p(\\mu |  \\phi, \\tau^2) d \\mu\n",
    "$$\n",
    "This calculation involves a lot of algebra. We instead use a different approach: note that we can write the observation as $y = \\mu + \\epsilon$, where $\\mu \\sim N(\\phi, \\tau^2)$ and $\\epsilon \\sim N(0, \\sigma^2)$. Then, since $\\mu$ and $\\epsilon$ are independent, we can use this result: \n",
    "\n",
    "> If X and Y be independent random variables that are Normally distributed, $X\\sim N(\\mu _{X},\\sigma _{X}^{2})$ and $Y\\sim N(\\mu _{Y},\\sigma _{Y}^{2})$, then their sum is also Normally distributed: $X + Y \\sim N(\\mu _{X}+\\mu _{Y},\\sigma _{X}^{2}+\\sigma _{Y}^{2})$.\n",
    "\n",
    "Thus we have that $y \\sim N(\\phi, \\tau^2 + \\sigma^2)$.\n",
    "\n",
    "\n",
    "In our example, before collecting any data, suppose we wish to predict the probability that the difference in cell counts is greater than 0.3 (30 $cells/mm^3$). We have that $y \\sim N(0, 0.1 + 0.7)$. We compute $p(y > 0.3)$:"
   ]
  },
  {
   "cell_type": "code",
   "execution_count": 1,
   "metadata": {},
   "outputs": [
    {
     "data": {
      "text/html": [
       "0.368657838608209"
      ],
      "text/latex": [
       "0.368657838608209"
      ],
      "text/markdown": [
       "0.368657838608209"
      ],
      "text/plain": [
       "[1] 0.3686578"
      ]
     },
     "metadata": {},
     "output_type": "display_data"
    }
   ],
   "source": [
    "1-pnorm(0.3, 0, sqrt(0.8))"
   ]
  },
  {
   "cell_type": "markdown",
   "metadata": {},
   "source": [
    "Given our prior distribution alone, the probability that the change in CD4 count for a new patient will exceed 0.3 (30 $cells/mm^3$) is approximately 0.369."
   ]
  },
  {
   "cell_type": "markdown",
   "metadata": {},
   "source": [
    "### 10.4.2 Posterior predictive distributions\n",
    "\n",
    "\n",
    "Suppose that have observed $y_1, ..., y_n $, and we want to predict future observations $z$, assuming that $z$ and $y_i$ are independent for all $1 \\leq i \\leq n$, conditional on $\\mu$. The posterior predictive distribution for $z$ is given by,\n",
    "\n",
    "$$\n",
    "p(z| y_1, ..., y_n,  \\sigma^2, \\phi, \\tau^2) = \\int p(z, \\mu | y_1, ..., y_n,  \\sigma^2, \\phi, \\tau^2) d \\mu \\\\\n",
    "     = \\int p(z | y_1, ..., y_n,\\mu,  \\sigma^2) p(\\mu |y_1, ..., y_n,\\sigma^2, \\phi, \\tau^2  ) d \\mu. \\\\ \n",
    "$$\n",
    "\n",
    "Again, this involves some fiddly algebra but we can use a similar method to that we used for the prior predictive distribution. We wish to know what the predictive distribution of a new patient $z$ is, given the previous observations $y_1, ..., y_n$. We can write $z  = \\mu + \\epsilon$. We have that $\\mu \\vert y_1,\\dots,y_n \\sim N\\left\\{ \\frac{ \\tau^2 n\\bar{y} + \\sigma^2\\phi }{\\tau^2 n + \\sigma^2}, \\frac{\\sigma^2\\tau^2}{\\tau^2n+\\sigma^2} \\right\\}, $ and $\\epsilon \\sim N(0, \\sigma^2)$. \n",
    "\n",
    "Using the result for the sum of two independent Normal distributions, the posterior predictive distribution has the form $ N\\left\\{ \\frac{ \\tau^2 n\\bar{y} + \\sigma^2\\phi }{\\tau^2 n + \\sigma^2}, \\frac{\\sigma^2\\tau^2}{\\tau^2n+\\sigma^2} + \\sigma ^2\\right\\}$  \n",
    "\n",
    "In our example, based on both prior and observed data, the predictive distribution for cell counts in a new patient being greater than 0.3 (30 $cells/mm^3$) is $N(0.596, 0.0259 + 0.7)$. We can compute $f(z | y_1, ..., y_n > 0.3)$:"
   ]
  },
  {
   "cell_type": "code",
   "execution_count": 2,
   "metadata": {},
   "outputs": [
    {
     "data": {
      "text/html": [
       "0.635861643314828"
      ],
      "text/latex": [
       "0.635861643314828"
      ],
      "text/markdown": [
       "0.635861643314828"
      ],
      "text/plain": [
       "[1] 0.6358616"
      ]
     },
     "metadata": {},
     "output_type": "display_data"
    }
   ],
   "source": [
    "1- pnorm(0.3, 0.596, sqrt(0.7259))"
   ]
  },
  {
   "cell_type": "markdown",
   "metadata": {},
   "source": [
    "After having observed the data, the predictive probability that the next patient will have a difference in CD4 cell counts of greater than 0.3 (30 $cells/mm^3$) has increased substantially to 0.636."
   ]
  },
  {
   "cell_type": "code",
   "execution_count": null,
   "metadata": {},
   "outputs": [],
   "source": []
  }
 ],
 "metadata": {
  "kernelspec": {
   "display_name": "R",
   "language": "R",
   "name": "ir"
  },
  "language_info": {
   "codemirror_mode": "r",
   "file_extension": ".r",
   "mimetype": "text/x-r-source",
   "name": "R",
   "pygments_lexer": "r",
   "version": "3.6.1"
  }
 },
 "nbformat": 4,
 "nbformat_minor": 4
}