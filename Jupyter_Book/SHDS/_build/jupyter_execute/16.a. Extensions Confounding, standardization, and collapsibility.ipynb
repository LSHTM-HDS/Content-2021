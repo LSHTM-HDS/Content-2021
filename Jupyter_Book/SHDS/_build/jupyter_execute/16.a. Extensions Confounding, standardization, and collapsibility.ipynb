{
 "cells": [
  {
   "cell_type": "markdown",
   "metadata": {},
   "source": [
    "# 16. Extensions: Confounding, standardization, and collapsibility\n",
    "\n",
    "\n",
    "This session is about the type of investigation in which the aim is to estimate causal effects of treatments or exposures on an outcome (‘causality and explanation’). "
   ]
  },
  {
   "cell_type": "markdown",
   "metadata": {},
   "source": [
    "<div class=\"alert alert-block alert-warning\">\n",
    "<b> Intended learning outcomes</b> \n",
    "    \n",
    "By the end of this session, you will be able to: \n",
    "\n",
    "* define different ways of quantifying a treatment effect for binary and continuous outcomes, including marginal effects (i.e. ‘population average’ effects) and conditional effects.\n",
    "* introduce some new notation (the ‘do’ notation) to aid in expressing treatment effects.\n",
    "* explain the use of standardization to obtain marginal treatment effect estimates. \n",
    "* describe the concept of collapsibility and understand the implications for interpretation of regression coefficients in linear and logistic regression.\n",
    "\n",
    "</div>"
   ]
  },
  {
   "cell_type": "code",
   "execution_count": null,
   "metadata": {},
   "outputs": [],
   "source": []
  }
 ],
 "metadata": {
  "kernelspec": {
   "display_name": "R",
   "language": "R",
   "name": "ir"
  },
  "language_info": {
   "codemirror_mode": "r",
   "file_extension": ".r",
   "mimetype": "text/x-r-source",
   "name": "R",
   "pygments_lexer": "r",
   "version": "3.6.1"
  }
 },
 "nbformat": 4,
 "nbformat_minor": 4
}