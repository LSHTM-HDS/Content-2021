{
 "cells": [
  {
   "cell_type": "markdown",
   "metadata": {},
   "source": [
    "## 6.2 Properties of maximum likelihood estimators\n",
    "\n",
    "Maximum likelihood estimators can be shown to have some very useful properties. In particular, there are some very important asymptotic properties (properties that we observe as the sample size of our data gets very very large).\n",
    "\n",
    "To explore these properties, have a look at the simulation below. We generate a sample of size 8 from the exponential distribution where $\\lambda=12.22$. The MLE is calculated from this the observed mean of the sample. We repeat this 100 times, and we plot a histogram of the 100 MLEs that we obtain. \n",
    "\n",
    "Change the sample size, $n$, to larger numbers and see what you notice about the histogram. "
   ]
  },
  {
   "cell_type": "code",
   "execution_count": 1,
   "metadata": {},
   "outputs": [
    {
     "data": {
      "image/png": "[encoded data removed]",
      "text/plain": [
       "Plot with title \"Histogram of MLE\""
      ]
     },
     "metadata": {
      "filenames": {
       "image/png": "C:\\Users\\emsuewil\\Documents\\Work\\Teaching\\MSc_HDS\\Statistics\\Git_SHDS\\Jupyter_Book\\SHDS\\_build\\jupyter_execute\\06.c. Maximum Likelihood_1_0.png"
      }
     },
     "output_type": "display_data"
    }
   ],
   "source": [
    "n <- 8  #  make this sample size bigger, and see what happens to the histogram! \n",
    "\n",
    "# MLEs will be stored in this vector\n",
    "mle <- rep(0, 100)\n",
    "\n",
    "for (i in 1:100){\n",
    "  # Generate a sample of size n from an exponential distribution with lambda=0.0818\n",
    "  sample <- rexp(n, rate=0.0818)\n",
    "  # Calculate the MLE (the reciprocal mean of the sample) and store it \n",
    "  mle[i] <- 1/mean(sample)\n",
    "}\n",
    "\n",
    "# Plot a histogram of the 100 MLEs \n",
    "options(repr.plot.width=5, repr.plot.height=5)\n",
    "hist(mle, breaks=20, \n",
    "     xlim=c(0, 0.3), \n",
    "     main=\"Histogram of MLE\", \n",
    "     xlab=\"MLE\")\n",
    "# Add red line to indicate true lambda \n",
    "abline(v=12.22, col=\"red\")"
   ]
  },
  {
   "cell_type": "markdown",
   "metadata": {},
   "source": [
    "You may notice that, as $n$ becomes large, the distribution of the MLE becomes more and more concentrated around the true value, and the histrogram appears to look more bell-shaped.    \n",
    "\n",
    "Suppose we denote the parameter of interest as $\\theta$ and its MLE as $\\hat{\\theta}$. The tabs below show some important properties of MLEs. \n",
    "\n",
    "\n",
    "```{tabbed} Bias\n",
    "\n",
    "<div class=\"alert alert-success\">\n",
    "\n",
    "The MLE is **asymptotically unbiased**, i.e. on average we obtain the correct answer as samples become large. \n",
    "\n",
    "$\\mathbb{E}(\\hat{\\theta}) \\rightarrow \\theta$ as $n \\rightarrow \\infty$.\n",
    "\n",
    "</div>\n",
    "\n",
    "\n",
    "```\n",
    "\n",
    "\n",
    "\n",
    "```{tabbed} Consistency\n",
    "\n",
    "<div class=\"alert alert-success\">\n",
    "\n",
    "The MLE is **consistent**, i.e. the MLE converges towards the correct answer as samples become large. \n",
    "\n",
    "$\\hat{\\theta} \\rightarrow \\theta$ in probability as $n \\rightarrow \\infty$.\n",
    "\n",
    "</div>\n",
    "\n",
    "```\n",
    "\n",
    "\n",
    "```{tabbed} Normality\n",
    "\n",
    "<div class=\"alert alert-success\">\n",
    "\n",
    "The MLE is **asymptotically normal**. \n",
    "\n",
    "$\\hat{\\theta} \\sim N(\\theta ,Var(\\hat{\\theta} ))$ as $n \\rightarrow \\infty$. \n",
    "\n",
    "The approximate normal distribution of the MLE means that confidence intervals and hypothesis tests for the parameters can be constructed easily. \n",
    "\n",
    "</div>\n",
    "\n",
    "```\n",
    "\n",
    "\n",
    "```{tabbed} Efficiency\n",
    "\n",
    "<div class=\"alert alert-success\">\n",
    "\n",
    "The MLE is **asymptotically efficient**.\n",
    "\n",
    "$Var(\\hat{\\theta})$ is the smallest variance amongst all unbiased estimators as $n \\rightarrow \\infty$.\n",
    "\n",
    "This means that, for example, confidence intervals constructed around the MLE will be the narrowest amongst confidence intervals of estimators that are linear and unbiased.\n",
    "\n",
    "</div>\n",
    "\n",
    "```\n",
    "\n",
    "\n",
    "```{tabbed} Transformation invariance\n",
    "\n",
    "<div class=\"alert alert-success\">\n",
    "\n",
    "The MLE is **transformation invariant**.\n",
    "\n",
    "If $\\hat{\\theta}$ is the MLE for $\\theta$, $g(\\hat{\\theta})$ is the MLE of $g(\\theta)$ for any function $g$. \n",
    "\n",
    "</div>\n",
    "\n",
    "```\n",
    "\n",
    "You might question to what extent these asymptotic properties are useful in practical examples where the sample size is relatively small. \n",
    "\n",
    "Further, in the cases that we have covered so far, it is fairly straightforward to compute the likelihood function and to find the value that maximizes it, but in many situations, this will be a complex task that requires numerical approaches. \n",
    "\n",
    "In the subsequent sessions on Bayesian Statistics, we will see a different paradigm for making inference which can address some of these issues. "
   ]
  },
  {
   "cell_type": "code",
   "execution_count": null,
   "metadata": {},
   "outputs": [],
   "source": []
  }
 ],
 "metadata": {
  "kernelspec": {
   "display_name": "R",
   "language": "R",
   "name": "ir"
  },
  "language_info": {
   "codemirror_mode": "r",
   "file_extension": ".r",
   "mimetype": "text/x-r-source",
   "name": "R",
   "pygments_lexer": "r",
   "version": "3.6.1"
  }
 },
 "nbformat": 4,
 "nbformat_minor": 4
}