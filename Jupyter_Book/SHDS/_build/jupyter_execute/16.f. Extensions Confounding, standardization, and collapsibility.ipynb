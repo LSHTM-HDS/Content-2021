{
 "cells": [
  {
   "cell_type": "markdown",
   "metadata": {},
   "source": [
    "## 16.5 Concluding remarks and References\n",
    "\n",
    "This session has focused on a binary treatment or exposure. The concepts and methods extend to other types of exposure, for a example a continuous exposure (e.g. dose). In that case the treatment effect is defined in terms of a contrast in the outcome between two levels of X. We focused on a medical treatment in the example, but we could use the same methods to investigate effects of ‘lifestyle’ exposures, for example relating to dietary intake or physical activity level. Exposures considered in causal investigations should be well defined. There has been much debate over whether it makes sense to estimate causal effects of such things as sex or race, since these are things that cannot be different for an individual (depending on how they are defined). See Hernan (2016) for a discussion on this topic.\n",
    "\n",
    "We focused on a single additional variable Z, which was either related to both X and Y (Figure 1), or was related to Y alone (Figure 2). In most observational settings there are more variables at play. Standardization extends to more than one variable that we wish to average over. For example, with two binary confounders Z1 and Z2 the standardization formula in 8 becomes\n",
    "\n",
    "<center>$Pr(Y = 1|do(X = x)) = \\sum \\limits_{z_{1} = 0,1} \\sum \\limits_{z_{2} = 0,1} Pr(Y = 1|X = x, Z_{1} = z_{1}, Z_{2} = z_{2}) Pr(Z_{1} = z_{1}, Z_{2} = z_{2}) $<center>\n",
    "    \n",
    "<div style=\"text-align: right\"> (27) </div>  \n",
    "    \n",
    "Assumptions about the inter-relationships between all of the variables at play in a given study are key for informing which variables should be adjusted for in an analysis when the aim is to estimate the effect of a particular treatment or exposure. DAGs are helpful in setting out assumptions about relationships between variables, and in particular their temporal ordering, and can be used to establish which variables need to be controlled for to estimate certain effects.\n",
    "    \n",
    "We have considered simple settings in this session to illustrate the main points. The book by Pearl, Glymour and Jewell (2016) is an excellent source of additional detail and extensions to more complex settings."
   ]
  },
  {
   "cell_type": "markdown",
   "metadata": {},
   "source": [
    "### References\n",
    "\n",
    "Hernan M.A. Does water kill? A call for less casual causal inferences. Annals of Epidemiology 2016; 26: 674-680.\n",
    "\n",
    "Pearl J. Causal diagrams for empirical research. Biometrika 1995; 82:669–710.\n",
    "\n",
    "Pearl J, Glymour M., Jewell N.P. Causal Inference in Statistics: A Primer. 2016. Wiley.\n",
    "\n",
    "Pearl J., Mackenzie D. The Book of Why. 2018. Penguin.\n",
    "\n",
    "Rothman K., Greenland S., Lash T. Modern Epidemiology. 3rd Edition. 2008. Lippincott Williams & Wilkins."
   ]
  },
  {
   "cell_type": "code",
   "execution_count": null,
   "metadata": {},
   "outputs": [],
   "source": []
  }
 ],
 "metadata": {
  "kernelspec": {
   "display_name": "R",
   "language": "R",
   "name": "ir"
  },
  "language_info": {
   "codemirror_mode": "r",
   "file_extension": ".r",
   "mimetype": "text/x-r-source",
   "name": "R",
   "pygments_lexer": "r",
   "version": "3.6.1"
  }
 },
 "nbformat": 4,
 "nbformat_minor": 4
}