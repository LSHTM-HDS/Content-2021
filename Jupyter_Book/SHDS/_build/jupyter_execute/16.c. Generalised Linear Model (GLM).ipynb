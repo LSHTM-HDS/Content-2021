{
 "cells": [
  {
   "cell_type": "markdown",
   "metadata": {},
   "source": [
    "## 16.2 Generalised Linear Model Components\n",
    "\n",
    "A generalised linear model consists of three components:\n",
    "\n",
    "1. **A random component** : This refers to the probability distribution of the outcome variable $Y_{i}$ (for the ith of n independently sampled observations).  It specifies the conditional distribution of the outcome given the values of the predictors (covariates) in the model. $Y_{i}$ is generally formulated as distribution from the exponential family, however subsequent work has extended GLMs to multivariate exponential families, to certain non-exponential families and to also to situations where the distribution of $Y_{i}$ is not completely specified. Within this chapter we will only explore the application to distributions from the exponential family (i.e. Normal, Gamma, Poisson, Bernoulli etc.)\n",
    "\n",
    "\n",
    "2. **A systematic component** : This is the linear function of the predictors (covariates) in the model  $\\eta_{i} = \\beta_{0} + \\beta_{1}X_{i1} + \\beta_{2}X_{i2} + … + \\beta_{k}X_{ik}$ , and just like in the linear and logistic regression chapters the predictors (covariates) $X_{ij}$ may be continuous and/or categorical. \n",
    "\n",
    "\n",
    "3. **The link function**: This function transforms the expectation of the predictors (covariates) to be linear with the outcome variable. If we define the link function as $g$ and $\\mu_{i} = E[Y_{i}$ then $g(\\mu_{i} ) = \\eta_{i} = \\beta_{0} + \\beta_{1}X_{i1} + \\beta_{2}X_{i2} + … + \\beta_{k}X_{ik}$. This can be inverted so $\\mu_{i}  = g^{-1}(\\eta_{i}) = g^{-1}(\\beta_{0} + \\beta_{1}X_{i1} + \\beta_{2}X_{i2} + … + \\beta_{k}X_{ik})$. The inverse link $g^{-1}(.)$ is often called the *mean function* as it  gives the expected value of the outcome. "
   ]
  }
 ],
 "metadata": {
  "kernelspec": {
   "display_name": "R",
   "language": "R",
   "name": "ir"
  },
  "language_info": {
   "codemirror_mode": "r",
   "file_extension": ".r",
   "mimetype": "text/x-r-source",
   "name": "R",
   "pygments_lexer": "r",
   "version": "3.6.1"
  }
 },
 "nbformat": 4,
 "nbformat_minor": 4
}