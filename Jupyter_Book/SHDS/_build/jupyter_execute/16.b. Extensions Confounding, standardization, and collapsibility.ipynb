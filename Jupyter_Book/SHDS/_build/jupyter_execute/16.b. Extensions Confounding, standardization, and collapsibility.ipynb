{
 "cells": [
  {
   "attachments": {},
   "cell_type": "markdown",
   "metadata": {},
   "source": [
    "## 16.1 Motivating example: treatment for kidney stones:\n",
    "\n",
    "Throughout this session we will use an example from an observational study comparing two treatments for kidney stones. The two treatments are surgery and lithotripsy, the latter of which is less invasive. We let $X$ denote the treatment variable, with $X = 0$ for surgery and $X = 1$ for lithotripsy. The outcome of interest is binary: success ($Y = 0$) or failure ($Y = 1$). There is a third binary variable indicating the size of the kidney stone: small stone size (< 2cm diameter) (denoted $Z = 0$) or large stone size (≥ 2cm diameter) (denoted $Z = 1$).\n",
    "\n",
    "In this observational setting subject matter knowledge tells us that stone size will influence the treatment that a doctor recommends for the patient, and also that larger stone size is related to an increased likelihood of a bad outcome. The assumed relationships between the three variables $X$, $Z$ and $Y$ are illustrated using a directed acyclic graph (DAG) in Figure 1. The data on the three variables are summarised in Table 1. Table 2 shows conditional probabilities calculated using the data in Table 1.\n",
    "\n",
    "```{figure} Images/Session 16 Figure 1.jpg\n",
    "---\n",
    "height: 300px\n",
    "name: Figure 1\n",
    "---\n",
    "```\n"
   ]
  },
  {
   "attachments": {},
   "cell_type": "markdown",
   "metadata": {},
   "source": [
    "```{figure} Images/Session 16 Table 1 and 2.jpg\n",
    "---\n",
    "height: 300px\n",
    "name: Table 1 and 2\n",
    "---\n",
    "```\n",
    "\n",
    "Some observations we can make from these data are:\n",
    "\n",
    "* Patients with small stone size (Z = 0) were more likely to receive lithotripsy (X = 1) than those with large stone size (0.76 vs 0.23), and vice-versa patients with large stone size being more likely to receive surgery.\n",
    "* The probability of failure (Y = 1) is higher for those with large stone size compared to those with small stone size (0.28 vs 0.12), though this could be due to a mixture of their stone size and the type of treatment received.\n",
    "* The probability of failure (Y = 1) is slightly higher in those who received surgery compared to those who received lithotripsy (0.22 vs 0.17)), though this could be due to a mixture of the effects of treatment and of the stone size, since we have observed also that the treatment type is influenced by stone size and that stone size is related to the outcome. That is, the association between X and Y is confounded by Z.\n",
    "* In those with small stone size, the probability of failure is higher in those who received lithotripsy (Pr(Y = 1|X = 1, Z = 0) = 0.13) compared with surgery (Pr(Y = 1|X = 0, Z = 0) = 0.07). Also, in those with large stone the probability of failure is higher in those who received lithotripsy (Pr(Y = 1|X = 1, Z = 1) = 0.31) compared with surgery (Pr(Y = 1|X = 0, Z = 1) = 0.27)."
   ]
  },
  {
   "cell_type": "code",
   "execution_count": null,
   "metadata": {},
   "outputs": [],
   "source": []
  }
 ],
 "metadata": {
  "kernelspec": {
   "display_name": "R",
   "language": "R",
   "name": "ir"
  },
  "language_info": {
   "codemirror_mode": "r",
   "file_extension": ".r",
   "mimetype": "text/x-r-source",
   "name": "R",
   "pygments_lexer": "r",
   "version": "3.6.1"
  }
 },
 "nbformat": 4,
 "nbformat_minor": 4
}