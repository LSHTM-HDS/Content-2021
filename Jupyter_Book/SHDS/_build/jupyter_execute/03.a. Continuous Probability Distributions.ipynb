{
 "cells": [
  {
   "cell_type": "markdown",
   "metadata": {},
   "source": [
    "# 3. Continuous distributions\n",
    "\n",
    "This session is the second of two sessions covering basic probability. In this session, we extend the ideas from discrete distributions, from the previous session, to variables which have a **continuous** distribution."
   ]
  },
  {
   "cell_type": "markdown",
   "metadata": {},
   "source": [
    "\n",
    "<div class=\"alert alert-block alert-warning\">\n",
    "<b> Intended learning outcomes</b> \n",
    "    \n",
    "By the end of this session you will be able to:\n",
    "* explain the concept of a continuous random variable\n",
    "* define several continuous probability distributions, and relationships between parameters, expectations and variance\n",
    "* understand the relationship between normally distributed data and standard scores\n",
    "* evaluate the appropriateness of assuming normality in data and other options\n",
    "* understand properties of joint distributions, such as the multivariate normal distribution\n",
    "</div>"
   ]
  },
  {
   "cell_type": "markdown",
   "metadata": {},
   "source": [
    "The five sub-sections describe properties of continuous random variables, explore a number of useful continuous distributions, consider direct applications for the standard Normal (Gaussian) distribution, consider how to assess whether a variable follows a normal distribution and, finally, describe joint distributions and correlations. "
   ]
  },
  {
   "cell_type": "code",
   "execution_count": null,
   "metadata": {},
   "outputs": [],
   "source": []
  }
 ],
 "metadata": {
  "kernelspec": {
   "display_name": "R",
   "language": "R",
   "name": "ir"
  },
  "language_info": {
   "codemirror_mode": "r",
   "file_extension": ".r",
   "mimetype": "text/x-r-source",
   "name": "R",
   "pygments_lexer": "r",
   "version": "3.6.1"
  }
 },
 "nbformat": 4,
 "nbformat_minor": 4
}