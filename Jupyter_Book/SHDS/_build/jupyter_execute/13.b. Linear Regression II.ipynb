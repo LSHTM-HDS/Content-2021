{
 "cells": [
  {
   "cell_type": "markdown",
   "metadata": {},
   "source": [
    "# 13.1 Categorical independent variables\n",
    "\n",
    "We have explored simple linear regression with a continuous independent variable and with a binary variable. We now extend these ideas to include a categorical independent variable.\n",
    "\n",
    "We will return to the baby example and use linear regression to explore the association between maternal Body Mass Index (BMI) category and the baby's birthweight. "
   ]
  },
  {
   "cell_type": "markdown",
   "metadata": {},
   "source": [
    "## 13.1.1 Dummy variables\n",
    "\n",
    "We have height measured in inches and weight measured in pounds. BMI is obtained using the formula $BMI = 703 \\times weight (lb) / height (in)^2$. We will then categorise BMI according to the World Health Organisation's classification. \n",
    "\n",
    "We will define a categorical variable $c_{i}$ denoting the $i^{th}$ mother's BMI category, defined as follows:\n",
    "\n",
    "$$ \n",
    "c_{i} =\n",
    "\\begin{cases}\n",
    "    1 & \\text{ if the mother's BMI is less than 18.5 (underweight)} \\\\\n",
    "    2 & \\text{ if the mother's BMI is at least 18.5 and less than 25 (normal)} \\\\\n",
    "    3 & \\text{ if the mother's BMI is at least 25 and less than 30 (overweight)} \\\\\n",
    "    4 & \\text{ if the mother's BMI is 30 or more (obese)} \n",
    "\\end{cases} \n",
    "$$\n",
    " \n",
    "Our BMI categorical variable has four categories. To distinguish between all four categories we need *three* dummy variables.  We choose a *baseline* or *reference* group, which for us will be the underweight category. For each of the other categories, we create a dummy variable which indicates that the woman is in (or not) that category. Specifically, we define our dummy variables as:\n",
    "\n",
    "$$ \n",
    "w_{1i} =\n",
    "\\begin{cases}\n",
    "    1 & \\text{ if } c_{i}=2\\\\\n",
    "    0 & \\text{ if } c_{i} \\neq 2\n",
    "\\end{cases} \n",
    "$$\n",
    "\n",
    "and\n",
    "\n",
    "$$\n",
    "w_{2i} =\n",
    "\\begin{cases}\n",
    "    1 & \\text{ if } c_{i}=3\\\\\n",
    "    0 & \\text{ if } c_{i} \\neq 3\n",
    "\\end{cases}\n",
    "$$\n",
    "\n",
    "and \n",
    "\n",
    "$$ \n",
    "w_{3i} =\n",
    "\\begin{cases}\n",
    "    1 & \\text{ if } c_{i}=4\\\\\n",
    "    0 & \\text{ if } c_{i} \\neq 4\n",
    "\\end{cases}\n",
    "$$\n",
    "\n",
    "The R code below read in the baby data and create variables containing the mother's BMI (`Maternal.BMI`) and the mother's BMI category (`Maternal.BMIcat`)."
   ]
  },
  {
   "cell_type": "code",
   "execution_count": 1,
   "metadata": {},
   "outputs": [
    {
     "data": {
      "text/plain": [
       "\n",
       "  1   2   3   4 \n",
       " 84 932 124  34 "
      ]
     },
     "metadata": {},
     "output_type": "display_data"
    }
   ],
   "source": [
    "data<- read.csv('https://www.inferentialthinking.com/data/baby.csv')\n",
    "# Calculate maternal BMI (with conversion factor due to measurement in lb and in)\n",
    "data$Maternal.BMI <- 703*data$Maternal.Pregnancy.Weight/(data$Maternal.Height)**2\n",
    "\n",
    "# Categorise the BMI values\n",
    "data$Maternal.BMIcat <-1\n",
    "data$Maternal.BMIcat[data$Maternal.BMI>=18.5 & data$Maternal.BMI<25]<-2\n",
    "data$Maternal.BMIcat[data$Maternal.BMI>=25   & data$Maternal.BMI<30]<-3\n",
    "data$Maternal.BMIcat[data$Maternal.BMI>=30]<-4\n",
    "\n",
    "# Tabulate the BMI categories\n",
    "table(data$Maternal.BMIcat)"
   ]
  },
  {
   "cell_type": "markdown",
   "metadata": {},
   "source": [
    "## 13.1.1 The model\n",
    "\n",
    "A linear regression model relating birthweight ($Y$, the outcome) to the three dummy variables ($W_1, W_2, W_3$) representing the mother's BMI category ($C$, the categorical independent variable) is defined as: \n",
    "\n",
    "$$\n",
    "\\text{Model 3: } y_i = \\beta_0 + \\beta_{1}w_{1,i} + \\beta_{2}w_{2,i} + \\beta_{3}w_{3,i}  + \\epsilon_i \n",
    "$$\n",
    "\n",
    "\n",
    "The equation above can also be written as follows:\n",
    "\n",
    "$$\n",
    "\\begin{align}\n",
    "y_i &= \\beta_0 + \\epsilon_i \\text{ if } c_i=1 \\text{ (underweight mothers) }  \\\\\n",
    "y_i &= \\beta_0 + \\beta_1 +  \\epsilon_i \\text{ if } c_i=2 \\text{ (normal weight mothers) } \\\\\n",
    "y_i &= \\beta_0 + \\beta_2 + \\epsilon_i \\text{ if } c_i=3 \\text{ (overweight mothers) } \\\\\n",
    "y_i &= \\beta_0 + \\beta_3 + \\epsilon_i \\text{ if } c_i=4 \\text{ (obese mothers) }  \\\\\n",
    "\\end{align}\n",
    "$$\n",
    "\n",
    "This makes explicit the interpretation of the parameters in the model. \n",
    "\n",
    "+ $\\beta_0$ is the expectation of $Y$ when $C=1$\n",
    "+ $\\beta_0 + \\beta_1$ is the expectation of $Y$ when $C=2$. Hence $\\beta_1$ is the difference in the expectation of $Y$ between groups defined by $C=1$ and $C=2$. \n",
    "+ $\\beta_0 + \\beta_2$ is the expectation of $Y$ when $C=3$. Hence $\\beta_2$ is the difference in the expectation of $Y$ between groups defined by $C=1$ and $C=3$. \n",
    "+ $\\beta_0 + \\beta_3$ is the expectation of $Y$ when $C=4$. Hence $\\beta_3$ is the difference in the expectation of $Y$ between groups defined by $C=1$ and $C=4$. \n",
    "        \n",
    " \n",
    "Notes\n",
    "> In this parameterisation of the model, the group defined by $C=0$ is often referred to as the baseline group. There is no statistical reason why one group rather than another should be chosen as the baseline group. It can sometimes be desirable to re-parameterise a model of this type to estimate parameters representating differences in mean levels from a particular baseline group. In this example, for instance, we might instead want the group with normal weight to be our baseline group, in which case we would need to redefine our first dummy variable. <br> <br>\n",
    "> Note that, in contrast to the models that we have met so far, this has more than one variable in it (even though the three dummy variables together measure a single characteristic). Therefore, this is no longer strictly a simple linear regression model. It is an example of a multivariable linear regression model. We will discuss general theory for this model later. Broadly speaking, the ideas we have met in the context of simple linear regression extend to this more general model very naturally."
   ]
  },
  {
   "cell_type": "code",
   "execution_count": 2,
   "metadata": {},
   "outputs": [
    {
     "data": {
      "text/plain": [
       "\n",
       "Call:\n",
       "lm(formula = Birth.Weight ~ factor(Maternal.BMIcat), data = data)\n",
       "\n",
       "Residuals:\n",
       "    Min      1Q  Median      3Q     Max \n",
       "-64.828 -10.828   0.172  11.172  57.677 \n",
       "\n",
       "Coefficients:\n",
       "                         Estimate Std. Error t value Pr(>|t|)    \n",
       "(Intercept)               115.286      1.996  57.752   <2e-16 ***\n",
       "factor(Maternal.BMIcat)2    4.543      2.084   2.180   0.0295 *  \n",
       "factor(Maternal.BMIcat)3    3.037      2.585   1.175   0.2404    \n",
       "factor(Maternal.BMIcat)4    8.626      3.719   2.320   0.0205 *  \n",
       "---\n",
       "Signif. codes:  0 '***' 0.001 '**' 0.01 '*' 0.05 '.' 0.1 ' ' 1\n",
       "\n",
       "Residual standard error: 18.3 on 1170 degrees of freedom\n",
       "Multiple R-squared:  0.006152,\tAdjusted R-squared:  0.003604 \n",
       "F-statistic: 2.414 on 3 and 1170 DF,  p-value: 0.06511\n"
      ]
     },
     "metadata": {},
     "output_type": "display_data"
    }
   ],
   "source": [
    "# Model 3: Relating birthweight to length of pregnancy and mother's height group. \n",
    "model3<-lm(Birth.Weight~factor(Maternal.BMIcat), data=data)\n",
    "summary(model3)"
   ]
  },
  {
   "cell_type": "markdown",
   "metadata": {},
   "source": [
    "+ $\\hat{\\beta}_0 = 115.29$. This is interpreted as the estimated mean birthweight (in oz) of a baby with all \"dummy\" variables equal to 0, i.e. it is the estimated mean birthweight of babies in our baseline category (those with mothers who are underweight). \n",
    "\n",
    "+ $\\hat{\\beta}_1= 4.543$. The mean birthweight is estimated to increase by 4.5 oz per unit increase in the first \"dummy\" variable. A unit increase in the first dummy variable equates to moving from the underweight group to the normal weight group. So we can interpret this as the difference in mean birthweights between the group whose mothers have normal BMI and those whose mothers are underweight. \n",
    "\n",
    "+ $\\hat{\\beta}_2= 3.037$. The mean birthweight is estimated to increase by 3.0 oz per unit increase in the second \"dummy\" variable. A unit increase in the second dummy variable equates to moving from the underweight group to the overweight group. So we can interpret this as the difference in mean birthweights between the group whose mothers are overweight and those whose mothers are underweight. \n",
    "\n",
    "+ $\\hat{\\beta}_3= 8.626$. The mean birthweight is estimated to increase by 8.6 oz per unit increase in the third \"dummy\" variable. A unit increase in the first dummy variable equates to moving from the underweight group to the obese group. So we can interpret this as the difference in mean birthweights between the group whose mothers are obese and those whose mothers are underweight. \n",
    "\n",
    "Overall, we see a pattern of higher maternal BMI being associated with higher birthweights, particularly for the group with obese mothers.  \n",
    "\n",
    "+ $\\hat{\\sigma}=18.3$. The observed outcomes are scattered around the fitted regression line with a standard deviation of 18.3oz. \n",
    "\n",
    "We can obtain confidence intervals around the three BMI estimates as follows:"
   ]
  },
  {
   "cell_type": "code",
   "execution_count": 3,
   "metadata": {},
   "outputs": [
    {
     "data": {
      "text/html": [
       "<table>\n",
       "<thead><tr><th></th><th scope=col>2.5 %</th><th scope=col>97.5 %</th></tr></thead>\n",
       "<tbody>\n",
       "\t<tr><th scope=row>(Intercept)</th><td>111.3691529</td><td>119.202276 </td></tr>\n",
       "\t<tr><th scope=row>factor(Maternal.BMIcat)2</th><td>  0.4533602</td><td>  8.631864 </td></tr>\n",
       "\t<tr><th scope=row>factor(Maternal.BMIcat)3</th><td> -2.0356770</td><td>  8.109410 </td></tr>\n",
       "\t<tr><th scope=row>factor(Maternal.BMIcat)4</th><td>  1.3296865</td><td> 15.922414 </td></tr>\n",
       "</tbody>\n",
       "</table>\n"
      ],
      "text/latex": [
       "\\begin{tabular}{r|ll}\n",
       "  & 2.5 \\% & 97.5 \\%\\\\\n",
       "\\hline\n",
       "\t(Intercept) & 111.3691529 & 119.202276 \\\\\n",
       "\tfactor(Maternal.BMIcat)2 &   0.4533602 &   8.631864 \\\\\n",
       "\tfactor(Maternal.BMIcat)3 &  -2.0356770 &   8.109410 \\\\\n",
       "\tfactor(Maternal.BMIcat)4 &   1.3296865 &  15.922414 \\\\\n",
       "\\end{tabular}\n"
      ],
      "text/markdown": [
       "\n",
       "| <!--/--> | 2.5 % | 97.5 % |\n",
       "|---|---|---|\n",
       "| (Intercept) | 111.3691529 | 119.202276  |\n",
       "| factor(Maternal.BMIcat)2 |   0.4533602 |   8.631864  |\n",
       "| factor(Maternal.BMIcat)3 |  -2.0356770 |   8.109410  |\n",
       "| factor(Maternal.BMIcat)4 |   1.3296865 |  15.922414  |\n",
       "\n"
      ],
      "text/plain": [
       "                         2.5 %       97.5 %    \n",
       "(Intercept)              111.3691529 119.202276\n",
       "factor(Maternal.BMIcat)2   0.4533602   8.631864\n",
       "factor(Maternal.BMIcat)3  -2.0356770   8.109410\n",
       "factor(Maternal.BMIcat)4   1.3296865  15.922414"
      ]
     },
     "metadata": {},
     "output_type": "display_data"
    }
   ],
   "source": [
    "confint(model3, level=0.95)"
   ]
  },
  {
   "cell_type": "markdown",
   "metadata": {},
   "source": [
    "The R output from the model provides p-values for each of the three coefficients relating maternal BMI to birth weight. However, we are typically interested in the broad question of whether maternal BMI is related to birth weight, rather than whether an individual dummy variable is related to the outcome. \n",
    "\n",
    "Therefore, when we have a categorical variable in a regression model, the hypothesis of interest usually relates to the combination of all dummy variables representing the categorical variable. An appropriate hypothesis test jointly tests the hypothesis that all coefficients for dummy variables are zero, i.e.\n",
    "\n",
    "- $H_0: \\beta_1 = 0, \\beta_2 = 0, \\beta_3 = 0$\n",
    "- $H_1: \\text{at least one of } \\ \\beta_1, \\beta_2, \\beta_3 \\neq 0$\n",
    "\n",
    "We use a partial $F$-test to test this hypothesis. Details are beyond the scope of the course, but are outlined in the appendix to this session. The R code to obtain the joint p-value is shown below."
   ]
  },
  {
   "cell_type": "code",
   "execution_count": 4,
   "metadata": {},
   "outputs": [
    {
     "data": {
      "text/html": [
       "<table>\n",
       "<thead><tr><th scope=col>Res.Df</th><th scope=col>RSS</th><th scope=col>Df</th><th scope=col>Sum of Sq</th><th scope=col>F</th><th scope=col>Pr(&gt;F)</th></tr></thead>\n",
       "<tbody>\n",
       "\t<tr><td>1170      </td><td>391633.5  </td><td>NA        </td><td>       NA </td><td>      NA  </td><td>        NA</td></tr>\n",
       "\t<tr><td>1173      </td><td>394057.9  </td><td>-3        </td><td>-2424.344 </td><td>2.414232  </td><td>0.06510651</td></tr>\n",
       "</tbody>\n",
       "</table>\n"
      ],
      "text/latex": [
       "\\begin{tabular}{r|llllll}\n",
       " Res.Df & RSS & Df & Sum of Sq & F & Pr(>F)\\\\\n",
       "\\hline\n",
       "\t 1170       & 391633.5   & NA         &        NA  &       NA   &         NA\\\\\n",
       "\t 1173       & 394057.9   & -3         & -2424.344  & 2.414232   & 0.06510651\\\\\n",
       "\\end{tabular}\n"
      ],
      "text/markdown": [
       "\n",
       "| Res.Df | RSS | Df | Sum of Sq | F | Pr(>F) |\n",
       "|---|---|---|---|---|---|\n",
       "| 1170       | 391633.5   | NA         |        NA  |       NA   |         NA |\n",
       "| 1173       | 394057.9   | -3         | -2424.344  | 2.414232   | 0.06510651 |\n",
       "\n"
      ],
      "text/plain": [
       "  Res.Df RSS      Df Sum of Sq F        Pr(>F)    \n",
       "1 1170   391633.5 NA        NA       NA         NA\n",
       "2 1173   394057.9 -3 -2424.344 2.414232 0.06510651"
      ]
     },
     "metadata": {},
     "output_type": "display_data"
    }
   ],
   "source": [
    "# Remove maternal BMI from the model (i.e. a constant-only model)\n",
    "model3_without<-lm(Birth.Weight~1, data=data)\n",
    "\n",
    "anova(model3, model3_without)"
   ]
  },
  {
   "cell_type": "markdown",
   "metadata": {},
   "source": [
    "In this case we have a p-value of p=0.065, indicating some evidence against the null hypothesis of no association bewteen maternal BMI category and the baby's birthweight."
   ]
  },
  {
   "cell_type": "markdown",
   "metadata": {},
   "source": [
    "## 13.1.2 Categorising continuous variables\n",
    "\n",
    "In the above example, we have categorised an continuous variable (BMI) in order to demonstrate how a categorical variable should be included in a linear regression model. This is important to know, since there are many variables that are categorical by definition and may be required for a statistical analysis. For example: cancer stage, ethnicity, education level, etc. While these examples should be included as a categorical variable in a linear regression model, it is not, in general, recommended to categorise a continuous variable in a linear model. We did so above, purely for pedagogical reasons.\n",
    "\n",
    "One of the problems with categorising continuous variables is that it is difficult to decide what the cut-off for each category should be. In the example above, however, there are widely used categorisations. \n",
    "\n",
    "We often lose information by categorising continous variables. We can often obtain a better and more parsimonious fit (using fewer parameters to describe the relationship) by modelling the continuous variable without categorisation. We will return to these ideas later.\n",
    "\n"
   ]
  },
  {
   "cell_type": "code",
   "execution_count": null,
   "metadata": {},
   "outputs": [],
   "source": []
  }
 ],
 "metadata": {
  "kernelspec": {
   "display_name": "R",
   "language": "R",
   "name": "ir"
  },
  "language_info": {
   "codemirror_mode": "r",
   "file_extension": ".r",
   "mimetype": "text/x-r-source",
   "name": "R",
   "pygments_lexer": "r",
   "version": "3.6.1"
  }
 },
 "nbformat": 4,
 "nbformat_minor": 4
}