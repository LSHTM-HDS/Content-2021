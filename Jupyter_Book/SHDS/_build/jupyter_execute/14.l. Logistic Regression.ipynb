{
 "cells": [
  {
   "cell_type": "markdown",
   "metadata": {},
   "source": [
    "## 14.11 Adequacy of the logistic regression model\n",
    "\n",
    "When including a covariate into a logistic regression model, it is assumed that there is a linear relationship between the log odds $\\mathrm{logit}{\\pi}$ of the outcome and this covariate, while other covariates remain unchanged.\n",
    "\n",
    "The assumption of linearity of the $\\mathrm{logit}$ according to the continuous predictor variabels can be easily assessed by looking at the plots between the predictor and the logit values. For example, if we want to check this assumption for our second estimated model, we need to make this plot for the two continuous variables `age` and `bmi`."
   ]
  },
  {
   "cell_type": "code",
   "execution_count": 1,
   "metadata": {
    "hideCode": false,
    "hidePrompt": false
   },
   "outputs": [
    {
     "ename": "ERROR",
     "evalue": "Error in dementia %>% mutate(logit = log(predicted_resp/(1 - predicted_resp))) %>% : could not find function \"%>%\"\n",
     "output_type": "error",
     "traceback": [
      "Error in dementia %>% mutate(logit = log(predicted_resp/(1 - predicted_resp))) %>% : could not find function \"%>%\"\nTraceback:\n"
     ]
    }
   ],
   "source": [
    "dementia %>% mutate(logit = log(predicted_resp/(1-predicted_resp))) %>% ggplot(aes(x = age, y = logit)) + geom_point() + geom_smooth()\n",
    "dementia %>% mutate(logit = log(predicted_resp/(1-predicted_resp))) %>% ggplot(aes(x = bmi, y = logit)) + geom_point() + geom_smooth()"
   ]
  },
  {
   "cell_type": "markdown",
   "metadata": {
    "hideCode": false,
    "hidePrompt": false
   },
   "source": [
    "From the two scatter plots with loess smoothing above, we can see that there clearly exists a linear relation between the logits and the variable `age` while it does not seem really obvious for the `bmi` variable. In practice, this can happen for example when the relationship between the outcome and the `bmi` variable is quadratic. By including `bmi`$^2$ into the model, we can allow more flexibility into this linear relationship so that the log odds linear assumption is still valid."
   ]
  },
  {
   "cell_type": "code",
   "execution_count": null,
   "metadata": {},
   "outputs": [],
   "source": []
  }
 ],
 "metadata": {
  "hide_code_all_hidden": false,
  "kernelspec": {
   "display_name": "R",
   "language": "R",
   "name": "ir"
  },
  "language_info": {
   "codemirror_mode": "r",
   "file_extension": ".r",
   "mimetype": "text/x-r-source",
   "name": "R",
   "pygments_lexer": "r",
   "version": "3.6.1"
  }
 },
 "nbformat": 4,
 "nbformat_minor": 4
}