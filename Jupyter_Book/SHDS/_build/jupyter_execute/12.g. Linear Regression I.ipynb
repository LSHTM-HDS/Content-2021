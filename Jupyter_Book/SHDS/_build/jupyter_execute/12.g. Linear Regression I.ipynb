{
 "cells": [
  {
   "cell_type": "markdown",
   "metadata": {},
   "source": [
    "## 12.6 Inference\n",
    "\n",
    "Most commonly, we wish to conduct statistical inference on the estimated slope. Consequently, we focus our attention here on $\\beta_1$, but it is possible to apply the same methods to the intercept, $\\beta_0$.  \n",
    "\n",
    "The estimated slope, $\\hat{\\beta_1}$ can be written as a linear combination of the observed values and is therefore a function of the random error ($\\epsilon$):\n",
    "\n",
    "$$\n",
    "\\begin{align}\n",
    "\\hat{\\beta_1} &= \\sum_{i=1}^n (\\frac{(x_i-\\bar{x})}{\\sum_{i=1}^n(x_i-\\bar{x})^2}(y_i-\\bar{y})) \\\\\n",
    "            &=\\beta_1 + \\sum_{i=1}^n (\\frac{(x_i-\\bar{x})}{\\sum_{i=1}^n(x_i-\\bar{x})^2}(\\epsilon_i-\\bar{\\epsilon}))\n",
    "\\end{align}\n",
    "$$\n",
    "\n",
    "The second equality is obtained by substituting in $(y_i-\\bar{y})=\\beta_1(x_i-\\bar{x})+(\\epsilon_i-\\bar{\\epsilon})$. \n",
    "\n",
    "Since the estimated parameter is a linear combination of the $\\epsilon_i$, and $\\epsilon_i \\sim NID(0,\\sigma^2)$, the estimated parameter itself is normally distributed. More specifically, it is normally distributed with mean $\\beta_1$ and standard deviation:\n",
    "\n",
    "$$\n",
    "SD(\\hat{\\beta_1})=\\sqrt{\\frac{\\sigma^2}{ns_x^2}}\n",
    "$$\n",
    "\n",
    "where $s_x^2$ is the variance of $x$. It can be seen from the formula above that the variance of $\\beta_1$ increases with the size of the residual variance (as might be expected intuitively), decreases with increasing sample size (larger sample sizes give more precise estimates) and decreases as $s_x^2$ increases (the wider range of $x$ values the more precision of estimates). \n",
    "\n",
    "Knowing the distribution of $\\hat{\\beta_1}$, allows us to perform hypothesis tests and construct confidence intervals for $\\beta_1$.  "
   ]
  },
  {
   "cell_type": "code",
   "execution_count": null,
   "metadata": {},
   "outputs": [],
   "source": []
  }
 ],
 "metadata": {
  "kernelspec": {
   "display_name": "R",
   "language": "R",
   "name": "ir"
  },
  "language_info": {
   "codemirror_mode": "r",
   "file_extension": ".r",
   "mimetype": "text/x-r-source",
   "name": "R",
   "pygments_lexer": "r",
   "version": "3.6.1"
  }
 },
 "nbformat": 4,
 "nbformat_minor": 4
}