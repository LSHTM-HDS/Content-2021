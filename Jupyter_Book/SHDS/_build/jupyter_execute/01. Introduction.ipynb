{
 "cells": [
  {
   "cell_type": "markdown",
   "metadata": {},
   "source": [
    "# 1 Introduction"
   ]
  },
  {
   "cell_type": "markdown",
   "metadata": {},
   "source": [
    "ADD CONTENT:\n",
    "\n",
    "Basically, this lecture wants to give a nice overview of how it all ties in together. \n",
    "\n",
    "\n",
    "* Basic probability  (lecs 2-3)\n",
    "* Statistical inference - what is it, flavours and why they are different (4-10)\n",
    "* Statistical modelling - types of investigation (predic, desc, causal inf), types of model (linear, log, Poisson, others!)\n",
    "\n",
    "\n",
    "\n",
    "\n"
   ]
  },
  {
   "cell_type": "markdown",
   "metadata": {},
   "source": [
    "<div class=\"alert alert-block alert-warning\">\n",
    "<b> Intended learning outcomes</b> \n",
    "   \n",
    "By the end of this session you will be able to:\n",
    "\n",
    "* ???\n",
    "</div>"
   ]
  },
  {
   "cell_type": "code",
   "execution_count": null,
   "metadata": {},
   "outputs": [],
   "source": []
  }
 ],
 "metadata": {
  "kernelspec": {
   "display_name": "Python 3",
   "language": "python",
   "name": "python3"
  },
  "language_info": {
   "codemirror_mode": {
    "name": "ipython",
    "version": 3
   },
   "file_extension": ".py",
   "mimetype": "text/x-python",
   "name": "python",
   "nbconvert_exporter": "python",
   "pygments_lexer": "ipython3",
   "version": "3.7.1"
  }
 },
 "nbformat": 4,
 "nbformat_minor": 4
}