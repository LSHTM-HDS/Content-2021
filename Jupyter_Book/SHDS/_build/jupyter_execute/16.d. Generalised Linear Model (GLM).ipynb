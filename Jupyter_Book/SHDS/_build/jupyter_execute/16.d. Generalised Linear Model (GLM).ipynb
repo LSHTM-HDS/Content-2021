{
 "cells": [
  {
   "cell_type": "markdown",
   "metadata": {},
   "source": [
    "# 16.3 GLM Assumptions\n",
    "To successful apply a GLM, a number of assumptions about the data must be met.\n",
    "\n",
    "1. The data must be independently distributed.\n",
    "\n",
    "2. The outcome variable $Y_{i}$ does not have to be normally distributed but should typically form a distribution from the exponential family \n",
    "\n",
    "3. GLM's must assume a linear relationship between the transformed outcome in terms of the link function and the predictor (covariate) variables.\n",
    "\n",
    "4. The homogeneity of variance does not need to be satisfied. Generally the model structure, and overdispersion (when the observed variance is larger than what the model assumes) can be present.\n",
    "\n",
    "5. Errors need to be independent but not normally distributed.\n",
    "\n",
    "6. GLM's use maximum likelihood estimation (MLE) rather than ordinary least squares (OLS) to estimate the parameters, and thus relies on large-sample approximations.\n"
   ]
  }
 ],
 "metadata": {
  "kernelspec": {
   "display_name": "R",
   "language": "R",
   "name": "ir"
  },
  "language_info": {
   "codemirror_mode": "r",
   "file_extension": ".r",
   "mimetype": "text/x-r-source",
   "name": "R",
   "pygments_lexer": "r",
   "version": "3.6.1"
  }
 },
 "nbformat": 4,
 "nbformat_minor": 4
}