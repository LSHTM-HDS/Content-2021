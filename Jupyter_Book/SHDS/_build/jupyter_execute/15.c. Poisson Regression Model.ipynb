{
 "cells": [
  {
   "cell_type": "markdown",
   "metadata": {},
   "source": [
    "## 15.2 Introduction to Poisson generalised linear modelling (Poisson Regression)\n",
    "\n",
    "### 15.2.1 Brief Introduction to Poisson Regression\n",
    "Poisson generalised linear modelling is commonly known as Poisson regression but is sometimes referred to as a log-linear model. Poisson regression is the generalised linear model form of a regression analysis. It is fitted to data when the outcome is assumed to have a Poisson distribution. \n",
    "\n",
    "Poisson regression assumes the outcome variable has a Poisson distribution and uses a logarithm as the canonical link function. A link function acts as a bridge between a linear predictor and the mean of the distribution function of choice. The canonical link function is basically the “well-defined” link function and is derived from the exponential density function of the distribution.  \n",
    "\n",
    "Say we want to model $\\mathbf{Y}$ using Poisson Regression so $\\mathbf{Y} \\sim P(\\mu)$ and let the mean $\\mu$ (and therefore the variance) depend on a vector of explanatory variables $\\mathbf{X}$. We will need to take the linear predictor $\\mathbf{X}^T\\mathbf{\\beta}$ and combine it with a link function ($g$) so that the left hand side of the predictor $\\mu$ is always non-negative. We include the link function like this:   \n",
    "\n",
    "$E[\\mathbf{Y}|\\mathbf{X}] = \\mu = g^{-1} (\\mathbf{X}^T\\mathbf{\\beta})$\n",
    "\n",
    "Similarly the variance of $\\mathbf{Y}$ (Var$[\\mathbf{Y}]$) is written:\n",
    "\n",
    " $ Var[\\mathbf{Y}|\\mathbf{X}] = Var[\\mu] =Var[ g^{-1} (\\mathbf{X}^T\\mathbf{\\beta})]$\n",
    " \n",
    "The canonical link function for Poisson regression is the logarithm, thus:\n",
    "\n",
    "$ ln(E[\\mathbf{Y} | \\mathbf{X}]) = ln(\\mu) = \\mathbf{X}^T\\mathbf{\\beta}$\n",
    "\n",
    "Here $\\beta$ contains the regression coefficients. An element of $\\beta$ represents the expected change in the natural $log$ of the mean per unit change of one explanatory variable in $X$ (constraining the other elements to not change). \n",
    "\n",
    "If you wanted to find the expected value of the outcome variable $\\mathbf{Y}$ given $\\mathbf{X}$ then the equation looks like this:\n",
    "\n",
    "$ E[\\mathbf{Y}|\\mathbf{X}]  = \\mu = e^{\\mathbf{X^T\\beta}}$,\n",
    "\n",
    "where $\\mathbf{\\beta}$ can be estimated by the maximum likelihood. \n",
    "\n",
    "\n",
    "### 15.2.2 Common Problems in Poisson Regression\n",
    "\n",
    "There are two frequent common problems when applying Poisson Regression to count data and both are caused by the deviations from the Poisson distribution assumptions. The first problem is overdispersion and the second is zero inflation.\n",
    "\n",
    "### 15.2.3 Overdispersion\n",
    "Overdispersion happens with then the variance is no longer equal to the mean but larger. Below is an example of overdispersion. \n",
    "\n"
   ]
  },
  {
   "cell_type": "code",
   "execution_count": 1,
   "metadata": {},
   "outputs": [
    {
     "name": "stdout",
     "output_type": "stream",
     "text": [
      "[1] \"The Mean is\"\n"
     ]
    },
    {
     "data": {
      "text/html": [
       "28.1481481481481"
      ],
      "text/latex": [
       "28.1481481481481"
      ],
      "text/markdown": [
       "28.1481481481481"
      ],
      "text/plain": [
       "[1] 28.14815"
      ]
     },
     "metadata": {},
     "output_type": "display_data"
    },
    {
     "name": "stdout",
     "output_type": "stream",
     "text": [
      "[1] \"The Variance is\"\n"
     ]
    },
    {
     "data": {
      "text/html": [
       "174.204053109713"
      ],
      "text/latex": [
       "174.204053109713"
      ],
      "text/markdown": [
       "174.204053109713"
      ],
      "text/plain": [
       "[1] 174.2041"
      ]
     },
     "metadata": {},
     "output_type": "display_data"
    },
    {
     "data": {
      "image/png": "[encoded data removed]",
      "text/plain": [
       "Plot with title \"Histogram of Counts\""
      ]
     },
     "metadata": {
      "filenames": {
       "image/png": "C:\\Users\\emsuewil\\Documents\\Work\\Teaching\\MSc_HDS\\Statistics\\Git_SHDS\\Jupyter_Book\\SHDS\\_build\\jupyter_execute\\15.c. Poisson Regression Model_1_4.png"
      }
     },
     "output_type": "display_data"
    }
   ],
   "source": [
    "options(repr.plot.width=4, repr.plot.height=3)\n",
    "#Input some counts\n",
    "data<- c(26,30,54,25,70,52,51,26,67,18,21,29,17,12,18,35,30,36,36,21,24,18,10,43,28,15,26,27,14,29,19,29,31,41,20,44,42,26,19,16,39,28,21,39,29,20,21,24,17,13,15,15,16,28)\n",
    "#Histogram of counts\n",
    "hist(data, xlab=\"Counts\", main=\"Histogram of Counts\", col=\"blue\")\n",
    "#Mean\n",
    "print(\"The Mean is\")\n",
    "mean(data)\n",
    "#Variance\n",
    "print(\"The Variance is\")\n",
    "var(data)\n",
    "# The mean is a lot smaller than the variance, suggesting overdispersion\n"
   ]
  },
  {
   "cell_type": "markdown",
   "metadata": {},
   "source": [
    "We can see here that the variance is a lot larger than the mean which would violate the Poisson distribution principles. There are two main ways to handle overdispersion, the first is through using a negative binomial distribution (not covered here) instead and the second is to implement something called a quasi-likelihood through a Generalised Poisson Regression also called a Quasi-Poisson regression.\n",
    "\n",
    "### 15.2.4 Quasi-Poisson regression\n",
    "\n",
    "A Quasi-Poisson regression is often fitted to handle over-dispersion, it uses the same mean regression function and variance function from Poisson regression but allows the dispersion parameter $\\phi$ to be unrestriced from 1. In Poisson regression $\\phi$ is assumed to be fixed at 1 to make the mean and variance equal, in Quasi-Poisson regression $\\phi$ is not fixed and is estimated from the data. Quasi- Poisson regression leads to the same coefficient estimates as the Poisson regression model but inference are adjusted for the over-dispersion through the standard errors.  \n",
    "\n",
    "### 15.2.5 Zero inflation\n",
    "Zero inflation happens when the distribution contains a large number of zero’s. For example, if you were to count how many occasions people drank alcohol in a month but included a large number of non-drinkers you will expect to have multiple counts of 0. A zero inflated Poisson distribution often looks like this:\n",
    "\n"
   ]
  },
  {
   "cell_type": "code",
   "execution_count": 2,
   "metadata": {},
   "outputs": [
    {
     "name": "stdout",
     "output_type": "stream",
     "text": [
      "package 'VGAM' successfully unpacked and MD5 sums checked\n"
     ]
    },
    {
     "name": "stdout",
     "output_type": "stream",
     "text": [
      "\n",
      "The downloaded binary packages are in\n",
      "\tC:\\Users\\emsuewil\\AppData\\Local\\Temp\\RtmpuQvWHI\\downloaded_packages\n"
     ]
    },
    {
     "name": "stderr",
     "output_type": "stream",
     "text": [
      "Warning message:\n",
      "\"package 'VGAM' was built under R version 3.6.3\""
     ]
    },
    {
     "name": "stderr",
     "output_type": "stream",
     "text": [
      "Loading required package: stats4\n"
     ]
    },
    {
     "name": "stderr",
     "output_type": "stream",
     "text": [
      "Loading required package: splines\n"
     ]
    },
    {
     "data": {
      "image/png": "[encoded data removed]",
      "text/plain": [
       "Plot with title \"Histogram of Counts\""
      ]
     },
     "metadata": {
      "filenames": {
       "image/png": "C:\\Users\\emsuewil\\Documents\\Work\\Teaching\\MSc_HDS\\Statistics\\Git_SHDS\\Jupyter_Book\\SHDS\\_build\\jupyter_execute\\15.c. Poisson Regression Model_3_5.png"
      }
     },
     "output_type": "display_data"
    }
   ],
   "source": [
    "options(repr.plot.width=4, repr.plot.height=3)\n",
    "#Install package\n",
    "install.packages(\"VGAM\")\n",
    "library(\"VGAM\")\n",
    "\n",
    "#Number of data points to simulate\n",
    "n=100\n",
    "#Shape\n",
    "lambda=3\n",
    "#Probability of drawing a zero\n",
    "p=0.5\n",
    "#Create data\n",
    "zip<-rzipois(n, lambda = lambda, pstr0 = p)\n",
    "#Plot Histogram\n",
    "hist(zip, xlab=\"Counts\", main=\"Histogram of Counts\", col=\"blue\")"
   ]
  },
  {
   "cell_type": "markdown",
   "metadata": {},
   "source": [
    "A Zero-Inflated Poisson (ZIP) distribution can be thought of being generated by two processes, the first generates zeros and the second is generated by the Poisson distribution (which will contain zeros). The two processes look like this:\n",
    "\n",
    "$P[\\mathbf{Y}=0] = \\pi (1-\\pi)e^{- \\lambda }$,\n",
    "\n",
    "$P[\\mathbf{Y}=k] = (1-\\pi)\\frac{\\lambda^{k}e^{-\\lambda}}{k!}$,\n",
    "\n",
    "Where $k$ is a non-negative integer value, $\\lambda$ is the expected Poisson count and $\\pi$ is the probability of extra zeros. The mean of a ZIP is $(1-\\pi)\\lambda$ and the variance is $\\lambda (1-\\pi) (1+\\pi \\lambda)$.\n",
    "\n",
    "When fitting a ZIP regression the software package combines two parts, a Poisson regression and logistic regression to predict the excess zeros.\n"
   ]
  }
 ],
 "metadata": {
  "kernelspec": {
   "display_name": "R",
   "language": "R",
   "name": "ir"
  },
  "language_info": {
   "codemirror_mode": "r",
   "file_extension": ".r",
   "mimetype": "text/x-r-source",
   "name": "R",
   "pygments_lexer": "r",
   "version": "3.6.1"
  }
 },
 "nbformat": 4,
 "nbformat_minor": 4
}