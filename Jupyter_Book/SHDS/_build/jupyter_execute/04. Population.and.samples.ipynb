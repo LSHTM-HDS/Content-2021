{
 "cells": [
  {
   "cell_type": "markdown",
   "metadata": {},
   "source": [
    "# 4. Populations and Samples"
   ]
  },
  {
   "cell_type": "markdown",
   "metadata": {},
   "source": [
    "In this session we will begin thinking about statistical inference. Loosely, this describes the process of using a sample of data to make statements about a wider population. There is more than one framework for statistical inference. The traditional and most widely used approach is termed the “classical” or frequentist, and this is the one pursued in this and the next few sessions. An important alternative, the Bayesian approach, is increasingly influential. You will meet Bayesian inference later in this module."
   ]
  },
  {
   "cell_type": "markdown",
   "metadata": {},
   "source": [
    "<div class=\"alert alert-block alert-warning\">\n",
    "<b> Intended learning outcomes</b> \n",
    "    \n",
    "By the end of this session you will be able to:\n",
    "* describe the process of frequentist statistical inference\n",
    "* define the terms population, sample, estimator and estimate\n",
    "* explain what a sampling distribution is and how it relates to the idea of repeated sampling\n",
    "* understand that sample estimates will vary as defined by the standard error \n",
    "* appreciate that the uncertainty in estimates can be described using central limit theorem and resampling (bootstrapping)\n",
    "</div>"
   ]
  },
  {
   "cell_type": "markdown",
   "metadata": {},
   "source": [
    "## 4.1 Sampling from a population\n",
    "\n",
    "Much of statistical inference is concerned with making statements about properties of populations, based on properties of samples from the populations. A helpful mental picture of the population and the sample to have in mind is as follows. Imagine that the **population** is a very large number of \"objects\" contained in a large urn, from which we can randomly sample a relatively small number of the \"objects\" at a time to provide our **sample**.\n",
    "\n",
    "The objects in our population are often called **sampling units**. For many health research questions these sampling units are  individual patients. If we were collecting information about different hospitals in order to make comparison between different providers, then the sampling unit might be hospitals. \n",
    "\n",
    "Making statements about a population using information contained in a sample of data relies critically on the process of how the sample was drawn from the population (i.e. the sampling process). A common example of a sample process is random sampling. Under random sampling, each object in the population has the same chance of appearing in the selected sample. Inference procedures tend to be most straightforward in this setting. \n",
    "\n",
    "In many cases, sampling is not random. For example, many populations have intrinsic structure that might facilitate sampling. If our population is people in rural Gambia, for example, then the easiest way to sample individual people might be to choose 5 villages and then go and survey the people in those villages. While it is not necessarily difficult to modify the process of statistical inference for such situation, statistically invalid conclusions can be reached if such modifications are not undertaken.  \n"
   ]
  },
  {
   "cell_type": "markdown",
   "metadata": {},
   "source": [
    "## 4.2 Parameters and estimators\n",
    "\n",
    "In statistical inference, the aim is to make statements about certain features of the population, using the information contained in the sample data. Typically, we quantify the features of interest in terms of unknown population quantities (some examples might be a population mean, standard deviation, proportion, or risk ratio) and attempt to **estimate** these population quantities. We call these unknown population quantities population **parameters**. Parameters are typically denoted using Greek letters. Often, certain letters tend to be used for certain types of quantities. For instance, $\\mu$ will often denote a population mean and $\\pi$ will often denote a population proportion. When we are talking about a general \"parameter of interest\", we often use the letter $\\theta$. \n",
    "\n",
    "A **statistic**, is any quantity that can be calculated from the known measurements on the sample data. It can be any function or combination of random variables that does not depend on unknown parameters for its calculation. As for population parameters, certain letters tend to be used for certain sample statistics. For instance, $\\bar{x}$ will often denote a sample mean and $p$ a sample proportion. \n",
    "\n",
    "We often want to estimate a population parameter from the sample. We do this by using sample statistics to estimate population parameters. For example, the obvious statistic to use to estimate a population mean is the sample mean.  When a sample statistic is used for the purpose of estimating a population parameter it is known as an **estimator**.  So an estimator is a statistic that is  designed to be a \"guess\" at a particular parameter of a population.  When we use a sample statistic to esitmate a population parameter we use a \"hat\" to denote the estimator, e.g. $\\hat{\\mu}$ is an estimator for the population quantity $\\mu$ and $\\hat{\\theta}$ is an estimator for the population quantity $\\theta$.\n",
    "\n",
    "Once we have drawn our sample of data and calculated the value of the estimator in that sample, we refer to this as the **estimate**. In other words, the term estimate is used for the value obtained by substituting sample data values into the formula for the estimator. \n",
    "\n",
    "The basic structure of frequentist inference can be represented diagrammatically as follows:\n",
    "\n",
    "```{figure} Images/Inference.png\n",
    "---\n",
    "height: 400px\n",
    "name: inference\n",
    "---\n",
    "Statistical inference\n",
    "```"
   ]
  },
  {
   "cell_type": "markdown",
   "metadata": {},
   "source": [
    "### 4.2.1 Example: Emotional distress in violence researchers\n",
    "\n",
    "To explore these issues further, we will consider a study question investigated by a recent MSc student at LSHTM as part of their summer project. The student explored the question of whether people who engage with victims of violence themselves suffer from emotional distress. This question was assessed using a sample of 53 violence researchers in Uganda. Subsequently, these violence researchers took part in a randomised trial, but we will focus on the initial description of the sample. The full article can be found here <https://www.ncbi.nlm.nih.gov/pmc/articles/PMC5455179/>\n",
    "\n",
    "For the purposes of illustration, in this session we will take a smaller sample of 10 violence researchers. Among our 10 sampled violence researchers, the sample mean age and the sample proportion suffering from emotional distress are\n",
    "\n",
    "* Sample mean age $\\bar{x}= 29.75$; sample standard deviation of age $SD = 4.49$\n",
    "* Proportion suffering from emotional distress $p = 26\\%$ (14 out of 53)"
   ]
  },
  {
   "cell_type": "markdown",
   "metadata": {},
   "source": [
    "Let $X_1, ..., X_{10}$ be random variables representing the ages of 53 sampled researchers. In other words, $X_1, ..., X_{10}$ represent the random process by which the eventual 10 values of age are obtained. We call the realisation of these random variables (i.e. the observed data) $x_1, ..., x_{10}$.  \n",
    "\n",
    "We will initially focus on the population mean age ($\\mu$) and its estimator. The obvious estimator for the population mean age is the sample mean age. In terms of the general random variables $X_1, ..., X_{10}$, we can write this estimator as,\n",
    "\n",
    "$$\n",
    "\\bar{X} = \\frac{1}{10} \\sum_{i=1}^{10} X_i\n",
    "$$\n",
    "\n",
    "This is a random variable representing the mean of the random variables $X_1$,...,$X_{10}$. The sample statistic estimate is, \n",
    "\n",
    "$$\n",
    "\\bar{x} = \\frac{1}{10} \\sum_{i=1}^n x_i = \\mbox{sample mean age} = 29.75\n",
    "$$\n",
    "\n",
    "The estimate is the sample mean age, which is the realisation of $\\bar{X}$ in the observed data. Since we are now viewing this as an estimate of $\\mu$, we can also write $\\hat{\\mu} = \\bar{x}$.\n",
    "\n",
    "\n",
    "**Discussion question** \n",
    "\n",
    "From above, our \"best guess\" at (our estimate of) the population mean age is 29.75. \n",
    "\n",
    "Is this estimate a \"good\" estimate of the population mean? Do we think it is close to being correct?\n",
    "\n",
    "If we sampled a different 10 researchers would we be likely to see a similar sample mean age? Or could we see a very different sample mean? Is it possible that, just by chance, this is a particularly old (or young) group of researchers? "
   ]
  },
  {
   "cell_type": "markdown",
   "metadata": {},
   "source": [
    "## 4.3 Statistical Models\n",
    "\n",
    "To extract information about population quantities from sample statistics we need a precise and formal description of the whole sampling process from population to sample. This description is called the **statistical model**. Relevant features of the population are represented by parameters, such as the mean, variance, or correlation. The structure of the population, together with the sampling process, allows a model to be formulated that describes the statistical behaviour of the sample, which in turn allows us to postulate sampling distributions for the relevant statistics. \n",
    "\n",
    "The crucial importance of the statistical model is that, given a certain value of the\n",
    "population parameter (in the simple case where there is only one parameter of interest),\n",
    "it allows us to calculate the probability of drawing a sample with the properties we\n",
    "observe: this will allow us to quantify the compatibility between the observed data and\n",
    "possible values of the population parameter.\n",
    "\n",
    "A statistical model is a probability distribution constructed to enable inferences to be made from the sample data about the population. (Non-parametric methods are much less useful when estimation is the main aim, mainly because an underlying probability distribution is not given in terms of the desired population parameter.)\n",
    "The statistical model summarises relevant properties of the population and the random process by which the sample is obtained.\n"
   ]
  },
  {
   "cell_type": "markdown",
   "metadata": {},
   "source": [
    "#### 4.3.1 Example: emotional distress study - the statistical model\n",
    "\n",
    "Remember that $X_1, ...,X_{10}$ are random variables representing the ages of 10 sampled researchers and $x_1, ..., x_{10}$ are the realised values of these random variables (i.e. the observed ages).  \n",
    "\n",
    "We will assume that each random variable is drawn from the same population distribution, and that the observations are independent of each other. We use the term **independent and identically distributed** as a succinct way of describing these assumptions, often abbreviated as **iid**. \n",
    "\n",
    "Finally, we will assume that the population distribution of age is Normal with population mean $\\mu$ and population variance $\\sigma^2$. \n",
    "\n",
    "This model can be compactly written as follows\n",
    "\n",
    "$$ \n",
    "X_i \\overset{\\small{iid}}{\\sim} N(\\mu, \\sigma^2), \\qquad i=1,2,...,10\n",
    "$$"
   ]
  },
  {
   "cell_type": "markdown",
   "metadata": {},
   "source": [
    "## 4.4 Sampling distributions\n",
    "\n",
    "In order to use our estimate (the value of the estimator in our sample of data) to make any sort of statement about the true but unknown value of the population parameter, we need to consider question such as: \n",
    "* How precise do we believe our estimate is? \n",
    "* Are we fairly certain that the true parameter is close to the estimate, or do we believe the estimate may well be far from the true value?  \n",
    "\n",
    "The following thought experiment might help to develop these ideas. Suppose our population is a large bucket full of identical marbles. We want to know the population mean weight of a marble (our population parameter of interest). To estimate this population mean, we can simply sample a single marble from the bucket. So our estimator is the weight of the single sampled marble. Now suppose we took two samples: we sample a single marble, weigh it, put it back in the bucket, sample another marble and weight that one. In this case, our estimate (the weight of the sampled marble) would be exactly the same as the estimate from the first sample. No matter how many different samples we took, the sample estimate would be identical. In this case, because all possible samples would give us an identical estimate of the mean, we can confidently say what the population mean is using a single sample of one marble.\n",
    "\n",
    "Now consider a bucket full of different marbles. In this case, randomly sampling a single marble and using the weight of that marble as an estimate of the population mean weight could give us a weight far too large (if we just happened to sample one of the very large marbles) or far too small (if we happened to pick a very small marble). However, if we were to pick 100 marbles and take the sample mean of those 100 marbles as our estimator, we would expect our estimate to be closer to the population mean. If we were to resample another 100 marbles we would expect the sample mean weight to be fairly close to the mean weight of the previous 100 marbles. Conversely, if we took two samples containing one marble each, we might expect those two weights to be quite different from one-another. \n",
    "\n",
    "This thought experiment makes it clear that in order to use our single sample of data to make statements about a wider population, we need to think about what would happen if we repeated our sampling: if we re-did our study many times, each time calculating the sample estimate, what values would those different sample estimates take? In fact, this is exactly what the **sampling distribution** is. It is the distribution of the **estimator** (the statistic we have chosen to use to estimate the population parameter of interest) under repeated sampling."
   ]
  },
  {
   "cell_type": "markdown",
   "metadata": {},
   "source": [
    "### Obtaining the sampling distribution\n",
    "\n",
    "The sampling distribution is hypothetical: in reality, we are not going to repeat our study many times to see how much our estimates differ from sample to sample. \n",
    "\n",
    "In many cases we can describe the sampling distribution of our estimator well enough to do statistical inference, i.e. well enough to make useful statements about the population parameter. There are three main approaches to obtaining the (approximate) sampling distribution of an estimator:\n",
    "\n",
    "1. **Algebraic calculation**. Sometimes we can algebraically obtain the distribution of the estimator from our statistical model. An example is given below for the sampling distribution for the sample mean age in the emotional distress example. \n",
    "2. **The Central Limit Theorem**. If we have an estimator which can be written as the sum of independent random variables, then for large samples, the estimator will have an approximately normal distribution. This is described in more detail shortly.\n",
    "3. **Resampling**. In many situations, we can use a resampling principle to obtain an approximate sampling distribution. \n",
    "\n",
    "Returning to the question posed at the start of section 4.4, these can be answered using the sampling distribution. The first question asks whether the sampling distribution is centred at the right value (i.e. the population parameter being estimated). If it is, we say the estimator is **unbiased**. In the epidemiology module and earlier in this module, you have already come across how *data* can be biased. Here, we are referring to whether the estimator is biased, which would be referred to as *statistical bias*. Most estimators are unbiased, and this can be shown using theory. For a small number of estimators it can be shown that they are in fact biased, and sometimes a correction can be applied to account for this. An example of illustrating whether estimators are biased are given in the Appendix. The latter question will be examined when looking at the standard error.  "
   ]
  },
  {
   "cell_type": "markdown",
   "metadata": {},
   "source": [
    "## 4.4.1 The standard error of an estimate\n",
    "\n",
    "When we are talking about the sampling distribution (i.e. the distribution of an *estimator*), we call the standard deviation the **standard error**. The standard error refers to the variability we might expect in estimates of the parameter, because we are inferring the estimates from a sample. When we have two different estimators for the population parameter of interest, we would typically choose the one with the lower standard error. \n",
    "\n",
    "<div class=\"alert alert-block alert-info\">\n",
    "<b> The standard error</b> \n",
    "    \n",
    "If a random variable $X$ has population mean ($\\mu$) and population variance ($\\sigma^2$), the sampling distribution of sample means (of samples of size $n$) has population mean $\\mu$ and population variance $\\sigma^2/n$. This irrespective of the population distribution; it does not need to be *normal*. In other words the standard error is $\\sigma_{\\bar{X}} = \\sigma/\\sqrt{n}$.\n",
    "\n",
    "</div>\n"
   ]
  },
  {
   "cell_type": "markdown",
   "metadata": {},
   "source": [
    "### 4.4.1.1 Simulated data: sampling distribution of a mean\n",
    "\n",
    "We will return again to the emotional distress study.\n",
    "\n",
    "In reality, we do not know the true population mean and standard deviation. However, for the purposes of illustration, for the rest of the session we will imagine that we do know these values. Suppose that, in truth, the population mean age ($\\mu$) is 30 and the population standard deviation (which will will call $\\sigma$) is 4.8. Further, suppose that age follows a normal distribution in the population. \n",
    "\n",
    "Under this scenario, the following code draws many (10,000) different samples from this population, with each sample containing the ages of 10 people. Note the line `set.seed(1042)` is coded to keep the same pseudo random number starting point. "
   ]
  },
  {
   "cell_type": "code",
   "execution_count": 1,
   "metadata": {},
   "outputs": [
    {
     "name": "stdout",
     "output_type": "stream",
     "text": [
      "[1] \"Ages of the 10 participants selected in study 1:\"\n"
     ]
    },
    {
     "data": {
      "text/html": [
       "<ol class=list-inline>\n",
       "\t<li>17.897</li>\n",
       "\t<li>30.27</li>\n",
       "\t<li>26.896</li>\n",
       "\t<li>35.448</li>\n",
       "\t<li>28.514</li>\n",
       "\t<li>33.891</li>\n",
       "\t<li>42.021</li>\n",
       "\t<li>25.994</li>\n",
       "\t<li>31.061</li>\n",
       "\t<li>28.756</li>\n",
       "</ol>\n"
      ],
      "text/latex": [
       "\\begin{enumerate*}\n",
       "\\item 17.897\n",
       "\\item 30.27\n",
       "\\item 26.896\n",
       "\\item 35.448\n",
       "\\item 28.514\n",
       "\\item 33.891\n",
       "\\item 42.021\n",
       "\\item 25.994\n",
       "\\item 31.061\n",
       "\\item 28.756\n",
       "\\end{enumerate*}\n"
      ],
      "text/markdown": [
       "1. 17.897\n",
       "2. 30.27\n",
       "3. 26.896\n",
       "4. 35.448\n",
       "5. 28.514\n",
       "6. 33.891\n",
       "7. 42.021\n",
       "8. 25.994\n",
       "9. 31.061\n",
       "10. 28.756\n",
       "\n",
       "\n"
      ],
      "text/plain": [
       " [1] 17.897 30.270 26.896 35.448 28.514 33.891 42.021 25.994 31.061 28.756"
      ]
     },
     "metadata": {},
     "output_type": "display_data"
    },
    {
     "name": "stdout",
     "output_type": "stream",
     "text": [
      "[1] \"Ages of the 10 participants selected in study 5:\"\n"
     ]
    },
    {
     "data": {
      "text/html": [
       "<ol class=list-inline>\n",
       "\t<li>28.502</li>\n",
       "\t<li>33.725</li>\n",
       "\t<li>35.155</li>\n",
       "\t<li>26.544</li>\n",
       "\t<li>31.147</li>\n",
       "\t<li>31.732</li>\n",
       "\t<li>39.582</li>\n",
       "\t<li>31.223</li>\n",
       "\t<li>25.802</li>\n",
       "\t<li>16.168</li>\n",
       "</ol>\n"
      ],
      "text/latex": [
       "\\begin{enumerate*}\n",
       "\\item 28.502\n",
       "\\item 33.725\n",
       "\\item 35.155\n",
       "\\item 26.544\n",
       "\\item 31.147\n",
       "\\item 31.732\n",
       "\\item 39.582\n",
       "\\item 31.223\n",
       "\\item 25.802\n",
       "\\item 16.168\n",
       "\\end{enumerate*}\n"
      ],
      "text/markdown": [
       "1. 28.502\n",
       "2. 33.725\n",
       "3. 35.155\n",
       "4. 26.544\n",
       "5. 31.147\n",
       "6. 31.732\n",
       "7. 39.582\n",
       "8. 31.223\n",
       "9. 25.802\n",
       "10. 16.168\n",
       "\n",
       "\n"
      ],
      "text/plain": [
       " [1] 28.502 33.725 35.155 26.544 31.147 31.732 39.582 31.223 25.802 16.168"
      ]
     },
     "metadata": {},
     "output_type": "display_data"
    }
   ],
   "source": [
    "# Population parameters\n",
    "mu <- 30\n",
    "sd <- 4.8\n",
    "n_in_each_study <- 10\n",
    "\n",
    "# Draw samples and ages for sampled individuals, for 100 different studies\n",
    "# in this example we're going to have a list which generates study_measurements_age repeatedly\n",
    "different_studies <- 10000\n",
    "set.seed(1042)\n",
    "study_measurements_age <- list()\n",
    "for (i in 1:different_studies) {\n",
    "  study_measurements_age[[i]] <- round(rnorm(n_in_each_study, mu, sd),3)\n",
    "}\n",
    "\n",
    "# Print the sample data for two of the studies\n",
    "print(\"Ages of the 10 participants selected in study 1:\")\n",
    "study_measurements_age[[1]]\n",
    "\n",
    "print(\"Ages of the 10 participants selected in study 5:\")\n",
    "study_measurements_age[[5]]"
   ]
  },
  {
   "cell_type": "markdown",
   "metadata": {},
   "source": [
    "Now we will calculate the sample mean for each sample of 10 people and plot them on a histogram. In the graphs below, we see a graph of sample means from 10,000 different studies (i.e. 10,000 different samples). This only gives us an approximation to the true sampling distribution, because it is based on a finite number of samples (10,000 samples). However, this is a large number so it will give us a fairly good approxiation to the sampling distribution of the sample mean.\n",
    "\n",
    "For this estimator and this population, the sampling distribution follows a normal distribution. Note that the sampling distribution is centred around the true population value of 30. We also see that almost all sample means lie within 4 or so years of the mean either way (i.e. most sample means are between 26 and 34). "
   ]
  },
  {
   "cell_type": "code",
   "execution_count": 2,
   "metadata": {
    "scrolled": false
   },
   "outputs": [
    {
     "data": {
      "image/png": "[encoded data removed]",
      "text/plain": [
       "Plot with title \"Sampling distribution of the sample mean age \n",
       " (from samples of 10)\""
      ]
     },
     "metadata": {
      "filenames": {
       "image/png": "C:\\Users\\emsuewil\\Documents\\Work\\Teaching\\MSc_HDS\\Statistics\\Git_SHDS\\Jupyter_Book\\SHDS\\_build\\jupyter_execute\\04. Population.and.samples_15_0.png"
      }
     },
     "output_type": "display_data"
    }
   ],
   "source": [
    "options(repr.plot.width=6, repr.plot.height=6)\n",
    "sample.means   <- sapply(study_measurements_age, mean)\n",
    "\n",
    "# Draw graphs using base R\n",
    "hist(sample.means[1:10000], freq=FALSE,\n",
    "     breaks=c(0, 25.5, 26.5, 27.5, 28.5, 29.5, 30.5, 31.5, 32.5, 33.5, 34.5, 100), \n",
    "     xlim=c(26, 35), ylim=c(0, 0.3), col=\"green4\",\n",
    "     xlab=\"Sample mean age (years)\", \n",
    "     main=\"Sampling distribution of the sample mean age \\n (from samples of 10)\")\n"
   ]
  },
  {
   "cell_type": "markdown",
   "metadata": {},
   "source": [
    "### 4.4.1.2 Example: the sampling distribution for the sample mean age - algebraic calculation\n",
    "\n",
    "Our model for the emotional distress study states that:\n",
    "\n",
    "$$ \n",
    "X_i \\overset{\\small{iid}}{\\sim} N(\\mu, \\sigma^2), \\qquad i=1,2,...,10\n",
    "$$\n",
    "\n",
    "Under this statistical model, we want to know the distribution of our estimator for $\\mu$: \n",
    "\n",
    "$$\n",
    "\\hat{\\mu} = \\frac{1}{10} \\sum_{i=1}^n X_i\n",
    "$$\n",
    "\n",
    "In this case, it's quite easy to derive the sampling distribution algebraically. We use the following fact:\n",
    "\n",
    "> The mean of independent normally distributed variables also follows a normal distribution\n",
    "\n",
    "It is then  easy to calculate the expectation and variance of $\\hat{\\mu}$ using techniques covered in the maths refresher. So we know that the sampling distribution of $\\hat{\\mu}$ is:\n",
    "\n",
    "$$\n",
    "\\hat{\\mu} \\sim N\\left(\\mu, \\frac{\\sigma^2}{10}\\right) \n",
    "$$\n",
    "\n",
    "This gives us a lot of useful information about how the sampling distribution in relation to the unknown parameter $\\mu$: \n",
    "- It follows a normal distribution (has a symmetric bell-shape)\n",
    "- It is centred around the true (unknown) population value\n",
    "- The standard deviation of this normal distribution is $\\sigma/\\sqrt{10}$. Typically we do not know the value of $\\sigma^2$ (more on how we deal with this problem later). Here, we happen to know that $\\sigma = 4.8$, so the standard deviation of the distribution is  $4.8/\\sqrt{10} = 1.52$, otherwise known as the standard error.\n"
   ]
  },
  {
   "cell_type": "markdown",
   "metadata": {},
   "source": [
    "### 4.4.2 The Central Limit Theorem\n",
    "\n",
    "The Central Limit Theorem (CLT) is a key concept in statistics and in estimation. When we use the mean from a sample to estimate a parameter, we already acknowledge that there will be some error around this estimate, as described above. The CLT takes this further;\n",
    "\n",
    "<div class=\"alert alert-block alert-info\">\n",
    "<b> The Central Limit Theorem</b> \n",
    "    \n",
    "If a random variable $X$ has population mean $\\mu$ and population variance $\\sigma^2$ the sample mean $\\bar{X}$, based on $n$ observations, is *approximately* normally distributed with mean $\\mu$ and variance $\\sigma^2/n$, for sufficiently large $n$.\n",
    "\n",
    "</div>\n",
    "\n",
    "So even for models that don't assume data are normally distributed, approximately the same principles appply as for the standard error. What does this mean practically? We will see in the lecture what multiple estimators from samples look like, and how this varies according to sample size. Estimating the mean age is a simple example, but the CLT is relevant for *any* distribution provided the sample size is large enough. An example using a proportion is given in the Appendix."
   ]
  },
  {
   "cell_type": "markdown",
   "metadata": {},
   "source": [
    "### 4.4.3 Resampling \n",
    "\n",
    "For a population of interest, we want to estimate a parameter $\\theta$ using a sample $S$ of $n$ individuals (for our example $n=10$) from the population. We have an estimator $\\hat{\\theta}$ from our sample $S$. We want to know about the sampling distribution of the estimator $\\hat{\\theta}$. \n",
    "\n",
    "We discussed above the idea that we could obtain the sampling distribution by repeatedly sampling from the population and calculating our estimate in each sample. Then a histogram of those many estimates would give us (approximately) the sampling distribution. In practice, it is logistically impossible to repeat the study a large number of times. However, we can mimic this process by using resampling. \n",
    "\n",
    "The basic idea is to pretend that the observed data are the population and repeatedly sample from the data to learn about the relationship between $\\hat{\\theta}$ and the estimates obtained from the re-sampled data, which we will call $\\hat{\\theta}^*$.\n",
    "\n",
    "Suppose we sample with replacement from the sample $S$ to obtain \"sub-samples\" also of size $n$. These \"sub-samples\" are called **bootstrap samples**. \n",
    "\n",
    "For example, suppose we have a sample $S$ of size 10 ($n=10$):\n",
    "\n",
    "$$\n",
    "S = \\{ x_1, x_2, x_3, x_4, x_5, x_6, x_7, x_8, x_9, x_{10} \\}\n",
    "$$\n",
    "\n",
    "And suppose our estimate is the sample mean, \n",
    "\n",
    "$$\n",
    "\\hat{\\theta} = \\frac{(x_1 + x_2 +  x_3 +  x_4 +  x_5 + x_6 + x_7 + x_8 + x_9 + x_{10})}{10}\n",
    "$$\n",
    "\n",
    "Then a bootstrap sample might be:\n",
    "\n",
    "$$\n",
    "S^*_1 = \\{x_{10}, x_3, x_2, x_8, x_6, x_2, x_4, x_1, x_8, x_1 \\}\n",
    "$$\n",
    "\n",
    "Another bootstrap sample could be:\n",
    "\n",
    "$$\n",
    "S^*_2 = \\{ x_5, x_9, x_4, x_7, x_{10}, x_9, x_3, x_4, x_6, x_2 \\}\n",
    "$$\n",
    "\n",
    "\n",
    "In each bootstrap sample, we obtain a new estimate (the sample mean in the bootstrap sample):\n",
    "\n",
    "$$\n",
    "\\hat{\\theta}^*_1 = \\frac{(x_{10} + x_3 + x_2 + x_8 + x_6 + x_2 + x_4 + x_1 + x_8 + x_1)}{10}\n",
    "$$\n",
    "\n",
    "and\n",
    "\n",
    "$$\n",
    "\\hat{\\theta}^*_2 = \\frac{(x_5 + x_9 + x_4 + x_7 + x_{10} + x_9 + x_3 + x_4 + x_6 + x_2)}{10}\n",
    "$$\n",
    "\n",
    "We do this a very large number of times to obtain lots of estimates from different bootstrap samples. Then we can draw a histogram of these many bootstrap estimates to see the shape and dispersion of the distribution. \n",
    "\n",
    "The **bootstrap principle** says that the distribution of $\\hat{\\theta}$ given $\\theta$ (i.e. the sampling distribution) is approximated by the distribution of $\\hat{\\theta}^*$ given $\\hat{\\theta}$."
   ]
  },
  {
   "cell_type": "markdown",
   "metadata": {},
   "source": [
    "#### 4.4.3.1 Example: the sampling distribution for the sample mean age - resampling\n",
    "\n",
    "Suppose our data - the 10 sampled ages - are the set: $\\{ 28.1, 27.5, 25, 29.9, 29.7, 29.9, 39.9, 33.6, 21.3, 30.8 \\}$. Our estimate of the population age is the sample mean age, which is: $\\hat{\\mu} = 29.57$.\n",
    "\n",
    "To obtain an approximation to the sampling distribution for the sample mean age, using a resampling approach, we first take a large number of bootstrap samples from the data. The code below does this."
   ]
  },
  {
   "cell_type": "code",
   "execution_count": 3,
   "metadata": {},
   "outputs": [
    {
     "name": "stdout",
     "output_type": "stream",
     "text": [
      "[1] \"First bootstrap sample:\"\n"
     ]
    },
    {
     "data": {
      "text/html": [
       "<ol>\n",
       "\t<li><ol class=list-inline>\n",
       "\t<li>27.5</li>\n",
       "\t<li>29.9</li>\n",
       "\t<li>28.1</li>\n",
       "\t<li>27.5</li>\n",
       "\t<li>29.9</li>\n",
       "\t<li>21.3</li>\n",
       "\t<li>27.5</li>\n",
       "\t<li>28.1</li>\n",
       "\t<li>29.9</li>\n",
       "\t<li>30.8</li>\n",
       "</ol>\n",
       "</li>\n",
       "</ol>\n"
      ],
      "text/latex": [
       "\\begin{enumerate}\n",
       "\\item \\begin{enumerate*}\n",
       "\\item 27.5\n",
       "\\item 29.9\n",
       "\\item 28.1\n",
       "\\item 27.5\n",
       "\\item 29.9\n",
       "\\item 21.3\n",
       "\\item 27.5\n",
       "\\item 28.1\n",
       "\\item 29.9\n",
       "\\item 30.8\n",
       "\\end{enumerate*}\n",
       "\n",
       "\\end{enumerate}\n"
      ],
      "text/markdown": [
       "1. 1. 27.5\n",
       "2. 29.9\n",
       "3. 28.1\n",
       "4. 27.5\n",
       "5. 29.9\n",
       "6. 21.3\n",
       "7. 27.5\n",
       "8. 28.1\n",
       "9. 29.9\n",
       "10. 30.8\n",
       "\n",
       "\n",
       "\n",
       "\n",
       "\n"
      ],
      "text/plain": [
       "[[1]]\n",
       " [1] 27.5 29.9 28.1 27.5 29.9 21.3 27.5 28.1 29.9 30.8\n"
      ]
     },
     "metadata": {},
     "output_type": "display_data"
    },
    {
     "name": "stdout",
     "output_type": "stream",
     "text": [
      "[1] \"Third bootstrap sample:\"\n"
     ]
    },
    {
     "data": {
      "text/html": [
       "<ol>\n",
       "\t<li><ol class=list-inline>\n",
       "\t<li>30.8</li>\n",
       "\t<li>28.1</li>\n",
       "\t<li>21.3</li>\n",
       "\t<li>29.9</li>\n",
       "\t<li>39.9</li>\n",
       "\t<li>21.3</li>\n",
       "\t<li>27.5</li>\n",
       "\t<li>29.9</li>\n",
       "\t<li>29.9</li>\n",
       "\t<li>29.7</li>\n",
       "</ol>\n",
       "</li>\n",
       "</ol>\n"
      ],
      "text/latex": [
       "\\begin{enumerate}\n",
       "\\item \\begin{enumerate*}\n",
       "\\item 30.8\n",
       "\\item 28.1\n",
       "\\item 21.3\n",
       "\\item 29.9\n",
       "\\item 39.9\n",
       "\\item 21.3\n",
       "\\item 27.5\n",
       "\\item 29.9\n",
       "\\item 29.9\n",
       "\\item 29.7\n",
       "\\end{enumerate*}\n",
       "\n",
       "\\end{enumerate}\n"
      ],
      "text/markdown": [
       "1. 1. 30.8\n",
       "2. 28.1\n",
       "3. 21.3\n",
       "4. 29.9\n",
       "5. 39.9\n",
       "6. 21.3\n",
       "7. 27.5\n",
       "8. 29.9\n",
       "9. 29.9\n",
       "10. 29.7\n",
       "\n",
       "\n",
       "\n",
       "\n",
       "\n"
      ],
      "text/plain": [
       "[[1]]\n",
       " [1] 30.8 28.1 21.3 29.9 39.9 21.3 27.5 29.9 29.9 29.7\n"
      ]
     },
     "metadata": {},
     "output_type": "display_data"
    },
    {
     "name": "stdout",
     "output_type": "stream",
     "text": [
      "[1] \"500th bootstrap sample:\"\n"
     ]
    },
    {
     "data": {
      "text/html": [
       "<ol>\n",
       "\t<li><ol class=list-inline>\n",
       "\t<li>21.3</li>\n",
       "\t<li>29.9</li>\n",
       "\t<li>39.9</li>\n",
       "\t<li>29.9</li>\n",
       "\t<li>29.9</li>\n",
       "\t<li>27.5</li>\n",
       "\t<li>29.9</li>\n",
       "\t<li>29.9</li>\n",
       "\t<li>29.9</li>\n",
       "\t<li>21.3</li>\n",
       "</ol>\n",
       "</li>\n",
       "</ol>\n"
      ],
      "text/latex": [
       "\\begin{enumerate}\n",
       "\\item \\begin{enumerate*}\n",
       "\\item 21.3\n",
       "\\item 29.9\n",
       "\\item 39.9\n",
       "\\item 29.9\n",
       "\\item 29.9\n",
       "\\item 27.5\n",
       "\\item 29.9\n",
       "\\item 29.9\n",
       "\\item 29.9\n",
       "\\item 21.3\n",
       "\\end{enumerate*}\n",
       "\n",
       "\\end{enumerate}\n"
      ],
      "text/markdown": [
       "1. 1. 21.3\n",
       "2. 29.9\n",
       "3. 39.9\n",
       "4. 29.9\n",
       "5. 29.9\n",
       "6. 27.5\n",
       "7. 29.9\n",
       "8. 29.9\n",
       "9. 29.9\n",
       "10. 21.3\n",
       "\n",
       "\n",
       "\n",
       "\n",
       "\n"
      ],
      "text/plain": [
       "[[1]]\n",
       " [1] 21.3 29.9 39.9 29.9 29.9 27.5 29.9 29.9 29.9 21.3\n"
      ]
     },
     "metadata": {},
     "output_type": "display_data"
    }
   ],
   "source": [
    "# Our sample of data (ages for 10 sampled researchers)\n",
    "ages <- c(28.1,27.5,25,29.9,29.7,29.9,39.9,33.6,21.3,30.8)\n",
    "\n",
    "# Randomly select 10,000 bootstrap samples (each of size 10)\n",
    "set.seed(532) \n",
    "bootstrap_samples <- lapply(1:10000, function(i) sample(ages, replace = T))\n",
    "\n",
    "# List some of the bootstrap samples\n",
    "print(\"First bootstrap sample:\")\n",
    "bootstrap_samples[1]\n",
    "print(\"Third bootstrap sample:\")\n",
    "bootstrap_samples[3]\n",
    "print(\"500th bootstrap sample:\")\n",
    "bootstrap_samples[500]"
   ]
  },
  {
   "cell_type": "markdown",
   "metadata": {},
   "source": [
    "The next step is to calculate the estimate (the sample mean, in our case) in each bootstrap sample. These estimates are called $\\hat{\\mu}^*_1, \\hat{\\mu}^*_2, .., \\hat{\\mu}^*_{10,000}$. Then we can plot the histogram of all the estimates across the bootstrap samples. "
   ]
  },
  {
   "cell_type": "code",
   "execution_count": 4,
   "metadata": {},
   "outputs": [
    {
     "data": {
      "image/png": "[encoded data removed]",
      "text/plain": [
       "Plot with title \"Distribution of sample means across the bootstrap samples\""
      ]
     },
     "metadata": {
      "filenames": {
       "image/png": "C:\\Users\\emsuewil\\Documents\\Work\\Teaching\\MSc_HDS\\Statistics\\Git_SHDS\\Jupyter_Book\\SHDS\\_build\\jupyter_execute\\04. Population.and.samples_22_0.png"
      }
     },
     "output_type": "display_data"
    }
   ],
   "source": [
    "# Calculate the sample mean in each of the bootstrap samples\n",
    "r.mean <- sapply(bootstrap_samples, mean)\n",
    "\n",
    "# Draw a histogram with a red vertical line indicating the original sample mean age\n",
    "hist(r.mean, freq=FALSE, main=\"Distribution of sample means across the bootstrap samples\", xlab=\"Bootstrap sample means\")\n",
    "abline(v=mean(ages),col=\"red\")"
   ]
  },
  {
   "cell_type": "markdown",
   "metadata": {},
   "source": [
    "We see a number of features from the graph above.\n",
    "\n",
    "- The histogram follows an approximately normal distribution (has a symmetric bell-shape)\n",
    "- It is centred around the sample mean age (from the original sample, $\\hat{\\mu} = 29.57$)\n",
    "- The code below tells us that the standard deviation of this distribution is 1.51. "
   ]
  },
  {
   "cell_type": "code",
   "execution_count": 5,
   "metadata": {},
   "outputs": [
    {
     "data": {
      "text/html": [
       "1.50868637530863"
      ],
      "text/latex": [
       "1.50868637530863"
      ],
      "text/markdown": [
       "1.50868637530863"
      ],
      "text/plain": [
       "[1] 1.508686"
      ]
     },
     "metadata": {},
     "output_type": "display_data"
    }
   ],
   "source": [
    "sqrt(var(r.mean))"
   ]
  },
  {
   "cell_type": "markdown",
   "metadata": {},
   "source": [
    "So we have seen that the bootstrap approximation of the distribution of $\\hat{\\mu}^*$ given $\\hat{\\mu}$ is a normal distribution centred around $\\hat{\\mu}$ with standard deviation of 1.51. The bootstrap principle tells us that the distribution of $\\hat{\\mu}$ given $\\mu$ is approximately the same. In other words, approximately:\n",
    "\n",
    "$$\n",
    "\\hat{\\mu} \\sim N(\\mu, 1.51^2)\n",
    "$$\n",
    "\n",
    "Remember, that we obtained the true distribution algebraically above and found that\n",
    "\n",
    "$$\n",
    "\\hat{\\mu} \\sim N(\\mu, 1.52^2)\n",
    "$$\n",
    "\n",
    "So the resampling (bootstrap) approach has given us a very good approximation to the true sampling distribution. The code below redraws the histogram above, with the approximate (bootstrap) sampling distribution and the algebraically-calculated one.\n",
    "\n",
    "We see that the bootstrap sampling distribution (shown in red) is simply a shift of the normal distribution which best follows the histogram (shown in orange), and that the bootstrap and true (algebraic, shown in blue) sampling distributions are very similar. "
   ]
  },
  {
   "cell_type": "code",
   "execution_count": 6,
   "metadata": {},
   "outputs": [
    {
     "data": {
      "image/png": "[encoded data removed]",
      "text/plain": [
       "Plot with title \"Distribution of sample means across the bootstrap samples\""
      ]
     },
     "metadata": {
      "filenames": {
       "image/png": "C:\\Users\\emsuewil\\Documents\\Work\\Teaching\\MSc_HDS\\Statistics\\Git_SHDS\\Jupyter_Book\\SHDS\\_build\\jupyter_execute\\04. Population.and.samples_26_0.png"
      }
     },
     "output_type": "display_data"
    }
   ],
   "source": [
    "# Histogram of estimates (sample means) in bootstrap samples\n",
    "hist(r.mean, freq=FALSE, main=\"Distribution of sample means across the bootstrap samples\", xlab=\"Bootstrap sample means\")\n",
    "\n",
    "# Add the normal distribution which most closely follows the histogram\n",
    "lines(seq(25, 35, by=.5), dnorm(seq(25, 35, by=.5), mean(ages), 1.52), col=\"orange\",lwd=2)\n",
    "\n",
    "# Add the bootstrap approximation to the sampling distribution: normal distribution with mean mu=30 SD=1.51\n",
    "lines(seq(25, 35, by=.5), dnorm(seq(25, 35, by=.5), 30, 1.51), col=\"red\",lwd=2)\n",
    "\n",
    "# Add the algebraic sampling distribution: normal distribution with mean mu=30 SD=1.52\n",
    "lines(seq(25, 35, by=.5), dnorm(seq(25, 35, by=.5), 30, 1.52), col=\"blue\",lwd=2)\n",
    "\n",
    "# Add a vertical line at original sample mean\n",
    "abline(v=mean(ages),col=\"red\",lwd=2)\n",
    "\n"
   ]
  },
  {
   "cell_type": "markdown",
   "metadata": {},
   "source": [
    "### 4.4.4 What do we use a sampling distribution for? \n",
    "\n",
    "In practice, we have a  sample of data and an estimate from that sample of the population parameter of interest. When we present an estimate of a population quantity, we need to be able to say something about how precise it is. Is it likely to be close to the true value? Can we provide a range of values within which we believe the true value lies? \n",
    "\n",
    "We can only answer these questions, within the framework of frequentist statistical inference, by thinking about what estimates we might have got had we chosen a different sample. This leads us to the sampling distribution - the distribution of the estimator across samples. \n",
    "\n",
    "In subsequent sessions we will see how the sampling distribution allows us to \n",
    "\n",
    "- construct confidence intervals for population parameters (intervals within which we believe the true value is likely to lie)\n",
    "- conduct hypothesis tests for population parameters\n"
   ]
  },
  {
   "cell_type": "markdown",
   "metadata": {},
   "source": [
    "# Summary\n",
    "\n",
    "In this session we have introduced the concept of populations and smaples, and how we use statistical inference to get back to population parameters. These parameters are estimated by providing measures of sample statistics. Variability in the sample and any associated statistics are to be expected. The variability in the sample statistics can be quantified by estimating the standard error, or equivalent statistics. "
   ]
  },
  {
   "cell_type": "markdown",
   "metadata": {},
   "source": [
    "# Appendix: extra reading"
   ]
  },
  {
   "cell_type": "markdown",
   "metadata": {},
   "source": [
    "### A1 More on populations\n",
    "\n",
    "There are additional issues related to the definition of the population, that should be considered. \n",
    "\n",
    "* Is the population well defined?\n",
    "\n",
    "Loosely speaking, we think about the population as being the wider group (often of people or patients) who we can generalise the results to. For some research questions the population of interest is well defined. For instance, suppose we undertake a study where we are attempting to estimate the proportion of adults (18 years and above) in the UK with hypertension in 2020. The population is well defined. Conversely, suppose we undertake a study to estimate the effect of a blood-pressure-lowering treatment among a sample of 50 patients in the UK in 2020. In this case, the population of interest can be difficult to pin down. Who can we generalize our results to? Is the population restricted in time and space? Can we generalise to patients in other countries? Can we generalise to future patients?  \n",
    "\n",
    "* Is the sample representative of the population? \n",
    "\n",
    "Clearly a sample can be chosen in may ways, and the way in which we are able to make inferences about the population depends critically on the way in which the sample is selected: it is hard to over-emphasize the importance and relevance of the sampling process to the meaning and validity of the subsequent inferences. In this module, we will assume that sampling units (in this case, people) are randomly sampled from the population. \n",
    "\n",
    "* Is the population finite, or (effectively or potentially) infinite?\n",
    "\n",
    "For example, a study of a new treatment for a disease may wish to generalise to all potential patients.\n",
    "\n",
    "* Does the population we wish to generalise to concern an intervention \n",
    "\n",
    "For example, we might be studying response to treatment in a randomised clinical trial. Or, alternatively, are we using the sample only observationally?\n",
    "\n",
    "* Have we sampled all the population?\n",
    "\n",
    "For example, a study of leukemia in the years following a leak from a nuclear power station may sample all subjects developing leukemia within the relevant time period in the vicinity of the power station. In such an example it is not clear how to define a wider population from which the sample can be considered to have been drawn. In these and other cases one approach is to consider a notional or counterfactual population, which can only have a conceptual existence.\n",
    "\n",
    "In general the issues can be complex and will not be considered further here."
   ]
  },
  {
   "cell_type": "markdown",
   "metadata": {},
   "source": [
    "## A2 Illustration of the bias in statistical estimators\n",
    "\n",
    "Using statistical theory it is possible to show that $\\bar{X}$ is an unbiased estimator of $\\mu$. One of the simplest examples is the from the *Bernoulli* distribution;\n",
    "\n",
    "**Example** Let $X_1, X_2,.., X_n$ be Bernoulli trials with success parameter $p$. We want to know the expected value of $p$, from the random variables $X$, which we will refer to as $E_p(\\bar{X})$. Then,\n",
    "\n",
    "$E_p(\\bar{X}) = E\\big[\\frac{X_1 + X_2 + ... + X_n}{n}\\big] $\n",
    "\n",
    "$  \\hspace{1.3cm}          = \\frac{1}{n} E[X_1 + X_2 + ... + X_n]$ $\\hspace{1.3cm}$  (we can take constants out of expectations)\n",
    "\n",
    "$   \\hspace{1.3cm}           = \\frac{1}{n} (E(X_1) + E(X_2) + ... + E(X_n)) $\n",
    "\n",
    "$    \\hspace{1.3cm}          = \\frac{1}{n} (p + p + ... + p) = p$\n",
    "\n",
    "So this simple use of algebra illustrates that $\\bar{X}$ is an unbiased estimator for $p$. Following the logic in the example you can also illustrate this for estimating $\\mu$ from a normal distribution (when $\\sigma$ is known)."
   ]
  },
  {
   "cell_type": "markdown",
   "metadata": {},
   "source": [
    "## A3 CLT applied to sampling distribution of a proportion\n",
    "\n",
    "Using the emotional distress study again, now we will simulate different samples, also each of 10 people, but this time measure a binary characteristic for each person - the presence of emotional distress. \n",
    "\n",
    "We suppose that, in the population, the true proportion is 28%."
   ]
  },
  {
   "cell_type": "code",
   "execution_count": 7,
   "metadata": {},
   "outputs": [
    {
     "data": {
      "image/png": "[encoded data removed]",
      "text/plain": [
       "Plot with title \"Sampling distribution of the sample \n",
       " proportion (samples of n=10)\""
      ]
     },
     "metadata": {
      "filenames": {
       "image/png": "C:\\Users\\emsuewil\\Documents\\Work\\Teaching\\MSc_HDS\\Statistics\\Git_SHDS\\Jupyter_Book\\SHDS\\_build\\jupyter_execute\\04. Population.and.samples_33_0.png"
      }
     },
     "output_type": "display_data"
    }
   ],
   "source": [
    "# Population parameters\n",
    "pi <- 0.28\n",
    "n_in_study <- 10\n",
    "\n",
    "# Simulate data from multiple studies\n",
    "different_studies <- 10000\n",
    "set.seed(1042)\n",
    "study_measurements_ed <- list()\n",
    "for (i in 1:different_studies) {\n",
    "  study_measurements_ed[[i]] <- rbinom(n_in_study, 1, pi)\n",
    "}\n",
    "\n",
    "# Calculate the proportion in each study\n",
    "sample.props   <- sapply(study_measurements_ed, mean)\n",
    "\n",
    "# Draw graphs\n",
    "hist(sample.props[1:10000], \n",
    "     freq=FALSE, breaks=seq(-0.05, 0.95, 0.05), col=\"green4\",\n",
    "     ylim=c(0, 6), xlab=\"Sample proportion with emotional distress\", \n",
    "     main=\"Sampling distribution of the sample \\n proportion (samples of n=10)\")  # the \"\\n\" makes a newline\n"
   ]
  },
  {
   "cell_type": "markdown",
   "metadata": {},
   "source": [
    "The graph above shows us a reasonably accurate picture of the sampling distribution. Unlike the sample mean, the sampling distribution of the sample proportion is not quite symmetric. It is also not continuous - the sample statistic can only take 10 different values, with a sample size of $n=10$. \n",
    "\n",
    "Below, the code shows that the mean of the sample means is approximately 0.28. (The discrepancy is just random error due to the fact that our \"sampling distribution\" does not come from an infinite number of samples. If we simulated a sufficiently large number of samples, this number would become closer to the true value of 0.28.)\n",
    "\n",
    "The final line of code below lists the (approximate) probability density function, which gives us the whole sampling distribution for the sample proportion in this example."
   ]
  },
  {
   "cell_type": "code",
   "execution_count": 8,
   "metadata": {},
   "outputs": [
    {
     "data": {
      "text/html": [
       "0.27911"
      ],
      "text/latex": [
       "0.27911"
      ],
      "text/markdown": [
       "0.27911"
      ],
      "text/plain": [
       "[1] 0.27911"
      ]
     },
     "metadata": {},
     "output_type": "display_data"
    },
    {
     "data": {
      "text/plain": [
       "sample.props\n",
       "     0    0.1    0.2    0.3    0.4    0.5    0.6    0.7    0.8    0.9 \n",
       "0.0365 0.1439 0.2630 0.2592 0.1793 0.0876 0.0257 0.0043 0.0004 0.0001 "
      ]
     },
     "metadata": {},
     "output_type": "display_data"
    }
   ],
   "source": [
    "### Summarise the approximate sampling distribution\n",
    "\n",
    "# The mean value of the different sample means\n",
    "mean(sample.props)\n",
    "\n",
    "# The whole sampling distribution (i.e. the PDF)\n",
    "table(sample.props)/different_studies"
   ]
  },
  {
   "cell_type": "code",
   "execution_count": null,
   "metadata": {},
   "outputs": [],
   "source": []
  }
 ],
 "metadata": {
  "kernelspec": {
   "display_name": "R",
   "language": "R",
   "name": "ir"
  },
  "language_info": {
   "codemirror_mode": "r",
   "file_extension": ".r",
   "mimetype": "text/x-r-source",
   "name": "R",
   "pygments_lexer": "r",
   "version": "3.6.1"
  }
 },
 "nbformat": 4,
 "nbformat_minor": 4
}