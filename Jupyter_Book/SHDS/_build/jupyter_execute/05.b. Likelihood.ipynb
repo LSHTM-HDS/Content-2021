{
 "cells": [
  {
   "cell_type": "markdown",
   "metadata": {},
   "source": [
    "## 5.1 Introduction to maximum likelihood estimation\n",
    "\n",
    "### 5.1.1 Probability versus Inference\n",
    "\n",
    "A typical probability problem is as follows. We are planning to run a small clinical study, which involves giving 8 patients a particular drug. We are told that the probability that a single patient experiences a side effect from a particular drug is 0.23. From this information, we can calculate the probability of various complex events occurring. For example, we might want to know the probability that more than 6 of the 8 patients will experience a side effect. Or we might wish to know the probability that none of the 8 patients experience a side effect. Here, we are assuming that a characteristic (parameter) of the population is known. Specifically, we are assuming that we know the true probability of a single patient experiencing a side effect.\n",
    "\n",
    "Real life is not like that! Typically, in health data science studies, we have observed some data which we believe can be modelled using a particular distribution, but the parameters of that distribution are unknown. For the small clinical study, for example, in real life we would observe how many of the 8 patients did in fact experience a side effect. We might be happy to assume that these data are drawn from a binomial distribution. But the probability of a patient experiencing a side effect - the key parameter of the binomial distribution - would be unknown. The study aim would be to make statements - inferences - about that unknown parameter. So, in some sense, the problem is the opposite way around.\n",
    "\n",
    "Our task, in statistical inference, is to make statements about the underlying parameter(s) of our proposed model given the observed data. In particular, we typically wish to obtain the best estimate of the unknown parameters. In the simple clinical study, we would want to obtain the best estimate of the unknown probability of experiencing a side effect, given the observed information about how many of the 8 patients did experience a side effect. We also wish to know how well we have estimated the unknown parameter(s): what is the uncertainty associated with our estimate(s)?\n",
    "\n",
    "The concept of likelihood provides the best single framework for this task. We will see that the likelihood function, often simply called the likelihood, plays a fundamental role in both frequentist and Bayesian inference.\n",
    "\n",
    "\n",
    "### 5.1.2 Maximum likelihood estimation\n",
    "\n",
    "Consider the example above, of a small clinical study of 8 patients who are all given a particular drug. The observed data consist of the number, of those 8 patients, who experience a side effect. Suppose that we conduct the study and observe that 2 patients experience a side effect. We wish to use these observed data to make statements - inferences - about the unknown probability of experiencing a side effect from that drug.\n",
    "\n",
    "**Statistical model:** We begin by defining a model for the data. Here, we define $X$ as the random variable representing the total number of the 8 patients who experience a side effect. Our model is that\n",
    "\n",
    "$$\n",
    "X \\sim binomial(8, \\pi)\n",
    "$$\n",
    "\n",
    "which - we remember from the probability sessions - involves the assumptions that each Bernoulli event (whether or not each individual patient experiences a side effect) is independent and has the same probability of occurring.\n",
    "\n",
    "This model involves the unknown parameter $\\pi$.\n",
    "\n",
    "**Data:** We have observed a realisation from this model, $X=2$. These are often called our observed data.\n",
    "\n",
    "Under our proposed statistical model, the probability that 2 out of 8 patients experience a side effect is:\n",
    "\n",
    "$$\n",
    "P(X=2) = {8 \\choose 2} \\pi^2 (1-\\pi)^6\n",
    "$$\n",
    "\n",
    "Since $\\pi$ is unknown, it is natural to consider how the probability of observing these data varies with different values of $\\pi$:\n",
    "\n",
    "| $\\pi$ |P($X$=$2$)|\n",
    "|:-----:|:--------:|\n",
    "| 0     | 0        |\n",
    "| 0.25  | 0.311    |\n",
    "| 0.5   | 0.109    |\n",
    "| 0.75  | 0.004    |\n",
    "| 1     | 0        |\n",
    "\n",
    "Suppose that, in truth, the unknown probability of a patient experiencing a side effect from this drug was 0.75. The probability of then observing 2 from 8 patients experiencing a side effect is 0.004. This is a very low probability, so this would be an unusual or perhaps unexpected event, although not strictly impossible.\n",
    "\n",
    "Suppose that, conversely, the unknown probability of a patient experiencing a side effect from this drug was actually 0.25. Then the probability of observing 2 from 8 patients experiencing a side effect would be 0.31 ($31\\%$). If this were the case, there would be nothing unusual or unexpected about our observed data.\n",
    "\n",
    "We do not know which value of $\\pi$ is the true value. But a sensible strategy to obtain a 'best guess', or estimate, of $\\pi$, might be to pick the value which maximises the probability of observing the data that we observed. We will see below that this probability is in fact the likelihood, leading to the concept of maximising the likelihood or maximum likelihood. This is a term that you will encounter frequently in statistics.\n",
    "\n",
    "Following these ideas, we can extend the table above by considering a finer range of possible values for $\\pi$ between 0 and 1, and plot the probability of observing $X=2$, assuming that that value of $\\pi$ were true. This gives the graph below.\n"
   ]
  },
  {
   "cell_type": "code",
   "execution_count": 1,
   "metadata": {},
   "outputs": [
    {
     "data": {
      "image/png": "[encoded data removed]",
      "text/plain": [
       "plot without title"
      ]
     },
     "metadata": {
      "filenames": {
       "image/png": "C:\\Users\\emsuewil\\Documents\\Work\\Teaching\\MSc_HDS\\Statistics\\Git_SHDS\\Jupyter_Book\\SHDS\\_build\\jupyter_execute\\05.b. Likelihood_1_0.png"
      }
     },
     "output_type": "display_data"
    }
   ],
   "source": [
    "# Define a range of values for pi\n",
    "pi = seq(0,1,by = 0.05)\n",
    "\n",
    "# Calculate the likelihood for each value, given n=8 and x=2\n",
    "L_pi <- choose(8,2)*pi^2*(1-pi)^(8-2)\n",
    "\n",
    "# Plot the output\n",
    "options(repr.plot.width=5, repr.plot.height=5)\n",
    "plot(x = pi, y = L_pi)\n",
    "\n",
    "# Add a line to indicate the value which yields the highest likelihood\n",
    "abline(v = pi[which.max(L_pi)], col = \"red\")"
   ]
  },
  {
   "cell_type": "markdown",
   "metadata": {},
   "source": [
    "We see that $\\pi=0.25$ is the value that leads to the highest probability of observing the data that we did indeed observe (i.e $X=2$) so we choose this value as our best guess for $\\pi$. We will see that this value is called the maximum likelihood estimator. We write $\\hat{\\pi} = 0.25$, where we have added a hat to indicate that this is being viewed as an estimate of an unknown parameter.\n",
    "\n",
    "The likelihood when $\\pi = 0$ is exactly zero, as is the likelihood when $\\pi = 1$. This makes sense because these two probabilities would make the observed data impossible - they imply that patients would either *never* or *always* experience side effects. Informally, we could say that these values are *inconsistent* with the data. \n",
    "\n",
    "Note that, our estimate of the probability of a patient experiencing a side effect is intuitively a sensible one: it is the sample proportion, $\\frac{2}{8}$.\n",
    "\n",
    "We will see later on that estimators obtained in this way (by maximising a likelihood) have very nice statistical properties.\n"
   ]
  },
  {
   "cell_type": "code",
   "execution_count": null,
   "metadata": {},
   "outputs": [],
   "source": []
  }
 ],
 "metadata": {
  "kernelspec": {
   "display_name": "R",
   "language": "R",
   "name": "ir"
  },
  "language_info": {
   "codemirror_mode": "r",
   "file_extension": ".r",
   "mimetype": "text/x-r-source",
   "name": "R",
   "pygments_lexer": "r",
   "version": "3.6.1"
  }
 },
 "nbformat": 4,
 "nbformat_minor": 4
}