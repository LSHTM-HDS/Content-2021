{
 "cells": [
  {
   "cell_type": "markdown",
   "metadata": {},
   "source": [
    "# Appendix: additional reading"
   ]
  },
  {
   "cell_type": "markdown",
   "metadata": {},
   "source": [
    "This appendix section contains additional information which will deepen your understanding. However, it is not examinable and is completely optional reading."
   ]
  },
  {
   "cell_type": "markdown",
   "metadata": {},
   "source": [
    "### A1 More on populations\n",
    "\n",
    "There are additional issues related to the definition of the population, that should be considered. \n",
    "\n",
    "* Is the population well defined?\n",
    "\n",
    "Loosely speaking, we think about the population as being the wider group (often of people or patients) who we can generalise the results to. For some research questions the population of interest is well defined. For instance, suppose we undertake a study where we are attempting to estimate the proportion of adults (18 years and above) in the UK with hypertension in 2020. The population is well defined. Conversely, suppose we undertake a study to estimate the effect of a blood-pressure-lowering treatment among a sample of 50 patients in the UK in 2020. In this case, the population of interest can be difficult to pin down. Who can we generalize our results to? Is the population restricted in time and space? Can we generalise to patients in other countries? Can we generalise to future patients?  \n",
    "\n",
    "* Is the sample representative of the population? \n",
    "\n",
    "Clearly a sample can be chosen in may ways, and the way in which we are able to make inferences about the population depends critically on the way in which the sample is selected: it is hard to over-emphasize the importance and relevance of the sampling process to the meaning and validity of the subsequent inferences. In this module, we will assume that sampling units (in this case, people) are randomly sampled from the population. \n",
    "\n",
    "* Is the population finite, or (effectively or potentially) infinite?\n",
    "\n",
    "For example, a study of a new treatment for a disease may wish to generalise to all potential patients.\n",
    "\n",
    "* Does the population we wish to generalise to concern an intervention \n",
    "\n",
    "For example, we might be studying response to treatment in a randomised clinical trial. Or, alternatively, are we using the sample only observationally?\n",
    "\n",
    "* Have we sampled all the population?\n",
    "\n",
    "For example, a study of leukemia in the years following a leak from a nuclear power station may sample all subjects developing leukemia within the relevant time period in the vicinity of the power station. In such an example it is not clear how to define a wider population from which the sample can be considered to have been drawn. In these and other cases one approach is to consider a notional or counterfactual population, which can only have a conceptual existence.\n",
    "\n",
    "In general the issues can be complex and will not be considered further here."
   ]
  },
  {
   "cell_type": "markdown",
   "metadata": {},
   "source": [
    "## A2 Illustration of the bias in statistical estimators\n",
    "\n",
    "Using statistical theory it is possible to show that $\\bar{X}$ is an unbiased estimator of $\\mu$. One of the simplest examples is the from the *Bernoulli* distribution;\n",
    "\n",
    "**Example** Let $X_1, X_2,.., X_n$ be Bernoulli trials with success parameter $p$. We want to know the expected value of $p$, from the random variables $X$, which we will refer to as $E_p(\\bar{X})$. Then,\n",
    "\n",
    "$E_p(\\bar{X}) = E\\big[\\frac{X_1 + X_2 + ... + X_n}{n}\\big] $\n",
    "\n",
    "$  \\hspace{1.3cm}          = \\frac{1}{n} E[X_1 + X_2 + ... + X_n]$ $\\hspace{1.3cm}$  (we can take constants out of expectations)\n",
    "\n",
    "$   \\hspace{1.3cm}           = \\frac{1}{n} (E(X_1) + E(X_2) + ... + E(X_n)) $\n",
    "\n",
    "$    \\hspace{1.3cm}          = \\frac{1}{n} (p + p + ... + p) = p$\n",
    "\n",
    "So this simple use of algebra illustrates that $\\bar{X}$ is an unbiased estimator for $p$. Following the logic in the example you can also illustrate this for estimating $\\mu$ from a normal distribution (when $\\sigma$ is known)."
   ]
  },
  {
   "cell_type": "markdown",
   "metadata": {},
   "source": [
    "## A3 CLT applied to sampling distribution of a proportion\n",
    "\n",
    "Using the emotional distress study again, now we will simulate different samples, also each of 10 people, but this time measure a binary characteristic for each person - the presence of emotional distress. \n",
    "\n",
    "We suppose that, in the population, the true proportion is 28%."
   ]
  },
  {
   "cell_type": "code",
   "execution_count": 1,
   "metadata": {},
   "outputs": [
    {
     "data": {
      "image/png": "[encoded data removed]",
      "text/plain": [
       "Plot with title \"Sampling distribution of the sample \n",
       " proportion (samples of n=10)\""
      ]
     },
     "metadata": {
      "filenames": {
       "image/png": "C:\\Users\\emsuewil\\Documents\\Work\\Teaching\\MSc_HDS\\Statistics\\Git_SHDS\\Jupyter_Book\\SHDS\\_build\\jupyter_execute\\04.g. Population.and.samples_5_0.png"
      }
     },
     "output_type": "display_data"
    }
   ],
   "source": [
    "# Population parameters\n",
    "pi <- 0.28\n",
    "n_in_study <- 10\n",
    "\n",
    "# Simulate data from multiple studies\n",
    "different_studies <- 10000\n",
    "set.seed(1042)\n",
    "study_measurements_ed <- list()\n",
    "for (i in 1:different_studies) {\n",
    "  study_measurements_ed[[i]] <- rbinom(n_in_study, 1, pi)\n",
    "}\n",
    "\n",
    "# Calculate the proportion in each study\n",
    "sample.props   <- sapply(study_measurements_ed, mean)\n",
    "\n",
    "# Draw graphs\n",
    "hist(sample.props[1:10000], \n",
    "     freq=FALSE, breaks=seq(-0.05, 0.95, 0.05), col=\"green4\",\n",
    "     ylim=c(0, 6), xlab=\"Sample proportion with emotional distress\", \n",
    "     main=\"Sampling distribution of the sample \\n proportion (samples of n=10)\")  # the \"\\n\" makes a newline\n"
   ]
  },
  {
   "cell_type": "markdown",
   "metadata": {},
   "source": [
    "The graph above shows us a reasonably accurate picture of the sampling distribution. Unlike the sample mean, the sampling distribution of the sample proportion is not quite symmetric. It is also not continuous - the sample statistic can only take 10 different values, with a sample size of $n=10$. \n",
    "\n",
    "Below, the code shows that the mean of the sample means is approximately 0.28. (The discrepancy is just random error due to the fact that our \"sampling distribution\" does not come from an infinite number of samples. If we simulated a sufficiently large number of samples, this number would become closer to the true value of 0.28.)\n",
    "\n",
    "The final line of code below lists the (approximate) probability density function, which gives us the whole sampling distribution for the sample proportion in this example."
   ]
  },
  {
   "cell_type": "code",
   "execution_count": 2,
   "metadata": {},
   "outputs": [
    {
     "data": {
      "text/html": [
       "0.27911"
      ],
      "text/latex": [
       "0.27911"
      ],
      "text/markdown": [
       "0.27911"
      ],
      "text/plain": [
       "[1] 0.27911"
      ]
     },
     "metadata": {},
     "output_type": "display_data"
    },
    {
     "data": {
      "text/plain": [
       "sample.props\n",
       "     0    0.1    0.2    0.3    0.4    0.5    0.6    0.7    0.8    0.9 \n",
       "0.0365 0.1439 0.2630 0.2592 0.1793 0.0876 0.0257 0.0043 0.0004 0.0001 "
      ]
     },
     "metadata": {},
     "output_type": "display_data"
    }
   ],
   "source": [
    "### Summarise the approximate sampling distribution\n",
    "\n",
    "# The mean value of the different sample means\n",
    "mean(sample.props)\n",
    "\n",
    "# The whole sampling distribution (i.e. the PDF)\n",
    "table(sample.props)/different_studies"
   ]
  },
  {
   "cell_type": "code",
   "execution_count": null,
   "metadata": {},
   "outputs": [],
   "source": []
  }
 ],
 "metadata": {
  "kernelspec": {
   "display_name": "R",
   "language": "R",
   "name": "ir"
  },
  "language_info": {
   "codemirror_mode": "r",
   "file_extension": ".r",
   "mimetype": "text/x-r-source",
   "name": "R",
   "pygments_lexer": "r",
   "version": "3.6.1"
  }
 },
 "nbformat": 4,
 "nbformat_minor": 4
}