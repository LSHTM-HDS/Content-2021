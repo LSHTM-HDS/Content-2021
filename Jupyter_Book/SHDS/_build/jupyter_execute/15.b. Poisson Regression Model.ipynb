{
 "cells": [
  {
   "cell_type": "markdown",
   "metadata": {},
   "source": [
    "## 15.1 Introduction to Count Data and Poisson Distribution:\n",
    "\n",
    "### 15.1.1 Introduction to Count Data\n",
    "\n",
    "Quantitative data can be divided generally into two sub groups: continuous and discrete. Discrete data typically involves integers which cannot be made with greater precision, for example, the number of operations a patient has undergone cannot have divisible entities i.e. 2.8 operations makes no sense. However, continuous data can have non integers which can be increased in precision for example a volume of liquid could be recorded in litres, mililitres, millimillilitre and so on. \n",
    "\n",
    "Count data is a discrete data type which can only take non-negative integer values, for example {0, 1, 2, 3, ...}. These integers should arise from counting and not ranking. Count data is common in health data, for example the number of readmissions to hospital a person has would be classed as count data.\n",
    "\n",
    "When count data is treated as a random variable where possible values represent the possible outcomes of say a future experiment, then count data can be modelled by the Poisson, binomial and negative binomial distributions. This section only focuses on using the Poisson distribution, however briefly to cover how the other two distribution can be used if we think of clinical trials as a dichotomised variable defined as success or fail then:\n",
    "\n",
    "•\tBinomial distribution can be used to describe the count of successful trials achieved in a total number of trials, given a constant probability of success.\n",
    "\n",
    "•\tNegative binomial distribution can be used to describe the count of successful trials until observing a defined number of failures, given a constant probability of success.\n",
    "\n",
    "### 15.1.2 Why can't we just use Ordinary Linear Regression?\n",
    "\n",
    "One of the main assumptions required for fitting an ordinary linear regression (OLR) is that the residual errors must follow a normal distribution. For this to be achieved with data from a skewed distribution, a transformation must be applied however with discrete data this can be very problematic (making the interpretation of the findings unfeasibly difficult) or impossible (for example, a high number of 0’s could prevent normality from being achieved). Another issue is that an OLR has the ability to create negative predicted values which would be theoretically impossible. For these reasons it is better to apply a method which actually reflects the natural distribution instead of trying to make the distribution reflect the method. This is why a Poisson regression is generally more suited to count data than OLR.\n",
    "\n",
    "### 15.1.3 Poisson Distribution Recap\n",
    "#### 15.1.3.1 What is the Poisson Distribution\n",
    "\n",
    "The Poisson distribution was first published by Siméon Denis Poisson in 1838. Poisson was a French mathematician, engineer, and physicist, his name is one of 72 engraved on the Eiffel Tower in Paris. The Poisson distribution is a skewed, discrete distribution restricted to non-negative numbers. The shape of the distribution is defined by the shape parameter $\\lambda$ which represents the average number of events in the given time interval. As $\\lambda$ increases the distribution looks more and more like the normal distribution. When $\\lambda$ is about 10 or greater, then a normal distribution is a good approximation. \n",
    "\n",
    "Please play with changing lambda ($\\lambda$) in the example below to discover its effects on the shape of the distribution:\n"
   ]
  },
  {
   "cell_type": "code",
   "execution_count": 1,
   "metadata": {},
   "outputs": [
    {
     "data": {
      "image/png": "[encoded data removed]",
      "text/plain": [
       "Plot with title \"Simulated Sample from Poisson distribution with Normal Approximation\""
      ]
     },
     "metadata": {
      "filenames": {
       "image/png": "C:\\Users\\emsuewil\\Documents\\Work\\Teaching\\MSc_HDS\\Statistics\\Git_SHDS\\Jupyter_Book\\SHDS\\_build\\jupyter_execute\\15.b. Poisson Regression Model_1_0.png"
      }
     },
     "output_type": "display_data"
    }
   ],
   "source": [
    "options(repr.plot.width=6, repr.plot.height=3)\n",
    "options(warn=-1)\n",
    "\n",
    "#Number of data points\n",
    "n<-10^6\n",
    "#Lambda is the shape parameter which indicates the average number of events in the given time interval.\n",
    "#Please try different values.\n",
    "lambda<- 3\n",
    "\n",
    "#Simulate Sample\n",
    "y = rpois(n, lambda);  up=max(y)\n",
    "\n",
    "#Plot histogram \n",
    "hist(y, prob=T, br=(-1:up)+.5, col=\"skyblue2\", xlab=\"x\", \n",
    "  main=\"Simulated Sample from Poisson distribution with Normal Approximation\", cex.main=0.8)\n",
    "curve(dnorm(x, mean(y), sd(y)), col=\"red\", lwd=2, add=T)\n",
    "#dnorm here is creating the PDF for a normal distribution to plot on the graph. "
   ]
  },
  {
   "cell_type": "markdown",
   "metadata": {},
   "source": [
    "#### 15.1.3.2 Rules for using the Poisson!\n",
    "\n",
    "-\tThere should not be a limit for how any times an event can occur during a time period. \n",
    "\n",
    "  - For example, if there was a rule that a participant can only have two hospital appointments in a year, then the resulting counts for all participants would not be a Poisson distribution.\n",
    "    \n",
    "-\tEvents must occur independently. If an event occurs, then it should not affect the probability of another event occurring in the same period.\n",
    "\n",
    "  - For example, if a participant has a hospital appointment in which they are told they must come back 5 more times in the year. \n",
    "\n",
    "-\tThe average rate of events occurring should be constant and not affected by time. \n",
    "\n",
    "  - For example, if the participants are not allowed to have hospital appointments in the first 11 months of a year.\n",
    "\n",
    "-\tThe probability of an event occurring is proportional to the length of the time period being examined. \n",
    "\n",
    "  - For example, a participant should be twice as likely to have an appointment in 2 months compared to 1 month. \n",
    "\n",
    "- Two events cannot occur at exactly the same instant. \n",
    "\n",
    "  - For example, a participant cannot have two appointments at the same time. \n",
    "\n",
    "#### 15.1.3.3 Poisson Distribution Characteristics\n",
    "\n",
    "General Characteristics:\n",
    "- Mean: $\\mu$ = $\\lambda$\n",
    "- Variance: $\\lambda$\n",
    "- Range: 0 to $\\infty$\n",
    "- Standard Deviation:  $\\sqrt{ \\lambda}$\n",
    "- Coefficient of Variation:\t$\\frac{1}{\\sqrt{ \\lambda}}$\n",
    "\n",
    "To determine the distribution of a discrete random variable we can either provide its Probability Mass Function (PMF) or Cumulative Density Function (CDF).\n",
    "\n",
    "The formal definition of a **PMF** is it is a function over the sample space of a discrete random variable $X$ which gives the probability that $x$ is equal to a certain value. In count data terms it means it is a function of the count variable which can return the probability of any count value being observed, i.e. it can give the probability of say participants having 2 hospital appointments in a year. \n",
    "\n",
    "\n",
    "If $X$ (a discrete random variable) is assumed to have a Poisson distribution with parameter $\\lambda>0$, for counts $x$ = 0,1,2,…, the PMF of $X$ is given by:\n",
    "\n",
    "$$ f(x; \\lambda) = P(X=x) = \\frac{\\lambda^{x}e^{-\\lambda}}{x!}$$\n",
    "\n",
    "Where $e$ is Euler’s number ($e=2.71$…) and $x!$ is a factorial (i.e. $3!=3x2x1$ and $5!= 5x4x3x2x1$).The positive real number $\\lambda$ is equal to the expected value of $X$ and also the expected variance of $X$ (in a Poisson distribution the mean and variance are the same).\n",
    "\n",
    "The previous graph represents a plot of the Poisson PMF, you can see that as you increase and decrease $\\lambda$ the shape of the graph changes.\n",
    "\n",
    "The formal definition of a **CDF** is it is a function over the sample space of a discrete random variable $X$ which gives the probability that $x$ is less than or equal to a certain value. In count data terms it means it is a function of the count variable which can return the probability of being less than or equal to a count value, i.e. it can give the probability of say participants having less than or equal to 3 hospital appointments in a year. \n",
    "\n",
    "$$ f(x; \\lambda) = P(X\\leq x) = \\sum_{i=0}^{x} \\frac{\\lambda^{i}e^{-\\lambda}}{i!}$$\n",
    "\n",
    "The following graph shows the Poisson cumulative distribution function, please change $\\lambda$ to explore the effects:\n"
   ]
  },
  {
   "cell_type": "code",
   "execution_count": 2,
   "metadata": {},
   "outputs": [
    {
     "data": {
      "image/png": "[encoded data removed]",
      "text/plain": [
       "Plot with title \"CDF of Simulated Poisson Sample\""
      ]
     },
     "metadata": {
      "filenames": {
       "image/png": "C:\\Users\\emsuewil\\Documents\\Work\\Teaching\\MSc_HDS\\Statistics\\Git_SHDS\\Jupyter_Book\\SHDS\\_build\\jupyter_execute\\15.b. Poisson Regression Model_3_0.png"
      }
     },
     "output_type": "display_data"
    }
   ],
   "source": [
    "options(repr.plot.width=4, repr.plot.height=3)\n",
    "#Number of data points\n",
    "n<-10^6\n",
    "#Lambda is the shape parameter which indicates the average number of events in the given time interval.\n",
    "#Please try different values.\n",
    "lambda<- 3\n",
    "\n",
    "#Simulate Sample\n",
    "y = rpois(n, lambda)\n",
    "\n",
    "#Plot \n",
    "plot(ecdf(y), col = \"blue\", lwd = 2,\n",
    "     main = \"CDF of Simulated Poisson Sample\", ylab=\"Probability\", xlab=\"Count\")"
   ]
  }
 ],
 "metadata": {
  "kernelspec": {
   "display_name": "R",
   "language": "R",
   "name": "ir"
  },
  "language_info": {
   "codemirror_mode": "r",
   "file_extension": ".r",
   "mimetype": "text/x-r-source",
   "name": "R",
   "pygments_lexer": "r",
   "version": "3.6.1"
  }
 },
 "nbformat": 4,
 "nbformat_minor": 4
}