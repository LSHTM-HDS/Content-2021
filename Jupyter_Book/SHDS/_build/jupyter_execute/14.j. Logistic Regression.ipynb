{
 "cells": [
  {
   "cell_type": "markdown",
   "metadata": {},
   "source": [
    "## 14.9 Example 3: Dementia\n",
    "\n",
    "We study here how sex can modify the relation between dementia and bmi. This model is written\n",
    "\n",
    "$$\\mathrm{logit}(\\pi_i) = \\beta_0 + \\beta_1bmi_i + \\beta_2sex_i + \\beta_3bmi_i\\times sex_i$$\n",
    "\n",
    "and can be estimated in `R` using the `glm` function. To include an interaction between two variables `x` and `z` into a model in `R`, we have to specify both the variable and the interaction term explicitly using the `:` symbol: `y ~ x + z + x:z`. We can also use the symbol `*` between two variables and both the variables and the interaction term will be included: `y ~ x*z`. Both formula will estimate the exact same model. Be careful however when using `*` with more than two variables and check that you actually want to include all the interaction terms."
   ]
  },
  {
   "cell_type": "code",
   "execution_count": 1,
   "metadata": {
    "hideCode": false,
    "hidePrompt": false,
    "scrolled": true
   },
   "outputs": [
    {
     "ename": "ERROR",
     "evalue": "Error in is.data.frame(data): object 'dementia' not found\n",
     "output_type": "error",
     "traceback": [
      "Error in is.data.frame(data): object 'dementia' not found\nTraceback:\n",
      "1. glm(dementia ~ bmi + sex + bmi:sex, data = dementia, family = binomial(link = \"logit\"))",
      "2. eval(mf, parent.frame())",
      "3. eval(mf, parent.frame())",
      "4. stats::model.frame(formula = dementia ~ bmi + sex + bmi:sex, \n .     data = dementia, drop.unused.levels = TRUE)",
      "5. model.frame.default(formula = dementia ~ bmi + sex + bmi:sex, \n .     data = dementia, drop.unused.levels = TRUE)",
      "6. is.data.frame(data)"
     ]
    }
   ],
   "source": [
    "dementia3 <- glm(dementia ~ bmi + sex + bmi:sex, data = dementia, family = binomial(link=\"logit\"))\n",
    "summary(dementia3)"
   ]
  },
  {
   "cell_type": "code",
   "execution_count": 13,
   "metadata": {
    "hideCode": false,
    "hidePrompt": false,
    "scrolled": true
   },
   "outputs": [
    {
     "data": {
      "text/html": [
       "<table>\n",
       "<thead><tr><th></th><th scope=col>coefficients</th><th scope=col>exp(coefficients)</th></tr></thead>\n",
       "<tbody>\n",
       "\t<tr><th scope=row>(Intercept)</th><td>-2.09422922</td><td>0.1231651  </td></tr>\n",
       "\t<tr><th scope=row>bmi</th><td>-0.07554006</td><td>0.9272426  </td></tr>\n",
       "\t<tr><th scope=row>sex</th><td>-0.15820459</td><td>0.8536751  </td></tr>\n",
       "\t<tr><th scope=row>bmi:sex</th><td> 0.02104249</td><td>1.0212654  </td></tr>\n",
       "</tbody>\n",
       "</table>\n"
      ],
      "text/latex": [
       "\\begin{tabular}{r|ll}\n",
       "  & coefficients & exp(coefficients)\\\\\n",
       "\\hline\n",
       "\t(Intercept) & -2.09422922 & 0.1231651  \\\\\n",
       "\tbmi & -0.07554006 & 0.9272426  \\\\\n",
       "\tsex & -0.15820459 & 0.8536751  \\\\\n",
       "\tbmi:sex &  0.02104249 & 1.0212654  \\\\\n",
       "\\end{tabular}\n"
      ],
      "text/markdown": [
       "\n",
       "| <!--/--> | coefficients | exp(coefficients) |\n",
       "|---|---|---|\n",
       "| (Intercept) | -2.09422922 | 0.1231651   |\n",
       "| bmi | -0.07554006 | 0.9272426   |\n",
       "| sex | -0.15820459 | 0.8536751   |\n",
       "| bmi:sex |  0.02104249 | 1.0212654   |\n",
       "\n"
      ],
      "text/plain": [
       "            coefficients exp(coefficients)\n",
       "(Intercept) -2.09422922  0.1231651        \n",
       "bmi         -0.07554006  0.9272426        \n",
       "sex         -0.15820459  0.8536751        \n",
       "bmi:sex      0.02104249  1.0212654        "
      ]
     },
     "metadata": {},
     "output_type": "display_data"
    }
   ],
   "source": [
    "cbind(\"coefficients\" = coefficients(dementia3), \"exp(coefficients)\" = exp(coefficients(dementia3)))"
   ]
  },
  {
   "cell_type": "markdown",
   "metadata": {
    "hideCode": false,
    "hidePrompt": false
   },
   "source": [
    "> *Exercise:* Run this model using the `*` notation in the formula and check that you are actually estimating the exact same model.\n",
    "\n",
    "\n",
    "We will interpret separately on the two strata defined by the levels of the variable $sex_i$\n",
    "\n",
    "* when $sex_i=0$, i.e. for women, $\\mathrm{logit}(\\pi_i) = \\beta_0 + \\beta_1bmi_i$\n",
    "    * we do not interpret $\\beta_0$ as a null bmi is not clinically relevant\n",
    "    * $\\exp(\\beta_1) = 0.927$  is the odds-ratio of dementia for a $1$ unit increase of bmi at inclusion for a woman\n",
    "* when $sex_i=1$, i.e. for men, $\\mathrm{logit}(\\pi_i) = (\\beta_0 + \\beta_2) + (\\beta_1 + \\beta_3)*bmi_i$\n",
    "    * we do not interpret $\\beta_0 + \\beta_1$ as a null bmi is not clinically relevant\n",
    "    * $\\exp(\\beta_1 + \\beta_3) = 0.947$ is the odds-ratio of dementia for a $1$ unit increase of bmi at inclusion for a man\n",
    "    \n",
    "We note that according to the Wald test results, there is a significative association between the bmi and the dementia status but overall, no association with sex. However, we reject the null hypothesis $\\beta_3=0$. Therefore, there exist an interaction between bmi and sex and the sex has an impact on the dementia status only through its interaction with the bmi.\n",
    "\n",
    "The AIC for this last model is 37788 which is higher than the AIC of the previous model. We recall here that the lower the AIC, the better. Here the results is not very surprising as the second model included three different covariates that added more informations to the model.\n",
    "\n",
    "*Remark:* As we said, if we want to compute the $95\\%$ confindence interval for the OR of dementia among men for a $1$ unit increase of bmi at inclusion $\\exp(\\beta_1 + \\beta_3)$, we need to know the covariance between $\\hat{\\beta_1}$ and $\\hat{\\beta_3}$. Thankfully, it is easy to access this matrix in `R` when estimating the model with the `glm` function. The function `vcov` which takes as argument a `glm` object will give the display the estimated covariance matrix. For example, we can compute the estimated covariate matrix for the third model `dementia3`. There is however no direct way to obtain the CI using the raw `R` output of the `glm` function.\n"
   ]
  },
  {
   "cell_type": "code",
   "execution_count": 14,
   "metadata": {
    "hideCode": false,
    "hidePrompt": false
   },
   "outputs": [
    {
     "data": {
      "text/html": [
       "<table>\n",
       "<thead><tr><th></th><th scope=col>(Intercept)</th><th scope=col>bmi</th><th scope=col>sex</th><th scope=col>bmi:sex</th></tr></thead>\n",
       "<tbody>\n",
       "\t<tr><th scope=row>(Intercept)</th><td> 0.0236847582</td><td>-0.0008724659</td><td>-0.0236847582</td><td> 8.724659e-04</td></tr>\n",
       "\t<tr><th scope=row>bmi</th><td>-0.0008724659</td><td> 0.0000329684</td><td> 0.0008724659</td><td>-3.296840e-05</td></tr>\n",
       "\t<tr><th scope=row>sex</th><td>-0.0236847582</td><td> 0.0008724659</td><td> 0.0364941671</td><td>-1.350220e-03</td></tr>\n",
       "\t<tr><th scope=row>bmi:sex</th><td> 0.0008724659</td><td>-0.0000329684</td><td>-0.0013502196</td><td> 5.146734e-05</td></tr>\n",
       "</tbody>\n",
       "</table>\n"
      ],
      "text/latex": [
       "\\begin{tabular}{r|llll}\n",
       "  & (Intercept) & bmi & sex & bmi:sex\\\\\n",
       "\\hline\n",
       "\t(Intercept) &  0.0236847582 & -0.0008724659 & -0.0236847582 &  8.724659e-04\\\\\n",
       "\tbmi & -0.0008724659 &  0.0000329684 &  0.0008724659 & -3.296840e-05\\\\\n",
       "\tsex & -0.0236847582 &  0.0008724659 &  0.0364941671 & -1.350220e-03\\\\\n",
       "\tbmi:sex &  0.0008724659 & -0.0000329684 & -0.0013502196 &  5.146734e-05\\\\\n",
       "\\end{tabular}\n"
      ],
      "text/markdown": [
       "\n",
       "| <!--/--> | (Intercept) | bmi | sex | bmi:sex |\n",
       "|---|---|---|---|---|\n",
       "| (Intercept) |  0.0236847582 | -0.0008724659 | -0.0236847582 |  8.724659e-04 |\n",
       "| bmi | -0.0008724659 |  0.0000329684 |  0.0008724659 | -3.296840e-05 |\n",
       "| sex | -0.0236847582 |  0.0008724659 |  0.0364941671 | -1.350220e-03 |\n",
       "| bmi:sex |  0.0008724659 | -0.0000329684 | -0.0013502196 |  5.146734e-05 |\n",
       "\n"
      ],
      "text/plain": [
       "            (Intercept)   bmi           sex           bmi:sex      \n",
       "(Intercept)  0.0236847582 -0.0008724659 -0.0236847582  8.724659e-04\n",
       "bmi         -0.0008724659  0.0000329684  0.0008724659 -3.296840e-05\n",
       "sex         -0.0236847582  0.0008724659  0.0364941671 -1.350220e-03\n",
       "bmi:sex      0.0008724659 -0.0000329684 -0.0013502196  5.146734e-05"
      ]
     },
     "metadata": {},
     "output_type": "display_data"
    }
   ],
   "source": [
    "vcov(dementia3)"
   ]
  },
  {
   "cell_type": "markdown",
   "metadata": {
    "hideCode": false,
    "hidePrompt": false
   },
   "source": [
    "By taking the square-root of the diagonal of this matrix, we find the same standard error as displayed in the summary of the object `dementia3` shown above."
   ]
  },
  {
   "cell_type": "code",
   "execution_count": 15,
   "metadata": {
    "hideCode": false,
    "hidePrompt": false
   },
   "outputs": [
    {
     "data": {
      "text/html": [
       "<dl class=dl-horizontal>\n",
       "\t<dt>(Intercept)</dt>\n",
       "\t\t<dd>0.153898532012959</dd>\n",
       "\t<dt>bmi</dt>\n",
       "\t\t<dd>0.00574181125264866</dd>\n",
       "\t<dt>sex</dt>\n",
       "\t\t<dd>0.191034465684247</dd>\n",
       "\t<dt>bmi:sex</dt>\n",
       "\t\t<dd>0.00717407389023679</dd>\n",
       "</dl>\n"
      ],
      "text/latex": [
       "\\begin{description*}\n",
       "\\item[(Intercept)] 0.153898532012959\n",
       "\\item[bmi] 0.00574181125264866\n",
       "\\item[sex] 0.191034465684247\n",
       "\\item[bmi:sex] 0.00717407389023679\n",
       "\\end{description*}\n"
      ],
      "text/markdown": [
       "(Intercept)\n",
       ":   0.153898532012959bmi\n",
       ":   0.00574181125264866sex\n",
       ":   0.191034465684247bmi:sex\n",
       ":   0.00717407389023679\n",
       "\n"
      ],
      "text/plain": [
       "(Intercept)         bmi         sex     bmi:sex \n",
       "0.153898532 0.005741811 0.191034466 0.007174074 "
      ]
     },
     "metadata": {},
     "output_type": "display_data"
    }
   ],
   "source": [
    "sqrt(diag(vcov(dementia3)))"
   ]
  },
  {
   "cell_type": "markdown",
   "metadata": {
    "hideCode": false,
    "hidePrompt": false
   },
   "source": [
    "> *Exercise:* We can expect that by adding interaction terms into the second model between some of the covariates, the fit of the model might be better. Try to add some interaction terms into a fourth model and try to correctly interpret each parameter when possible. Compare the AIC of this fourth estimated model to the second and third models we estimated and comment."
   ]
  },
  {
   "cell_type": "code",
   "execution_count": null,
   "metadata": {},
   "outputs": [],
   "source": []
  }
 ],
 "metadata": {
  "hide_code_all_hidden": false,
  "kernelspec": {
   "display_name": "R",
   "language": "R",
   "name": "ir"
  },
  "language_info": {
   "codemirror_mode": "r",
   "file_extension": ".r",
   "mimetype": "text/x-r-source",
   "name": "R",
   "pygments_lexer": "r",
   "version": "3.6.1"
  }
 },
 "nbformat": 4,
 "nbformat_minor": 4
}