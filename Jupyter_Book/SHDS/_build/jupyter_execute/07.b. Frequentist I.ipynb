{
 "cells": [
  {
   "cell_type": "markdown",
   "metadata": {},
   "source": [
    "## 7.1 Introduction to confidence intervals\n",
    "\n",
    "To explore the concept of confidence intervals, we will return to the example of emotional distress among violence researchers. \n",
    "\n",
    "We will again consider the smaller subsample of 10 researchers and focus on estimating the population mean age, $\\mu$. Among our 10 sampled violence researchers, the sample mean age and the sample proportion suffering from emotional distress are:\n",
    "\n",
    "> Sample mean age $\\bar{x}= 29.57$; sample standard deviation of age $SD = 4.95$"
   ]
  },
  {
   "cell_type": "markdown",
   "metadata": {},
   "source": [
    "### 7.1.1 Emotional distress study - the statistical model (recap)\n",
    "\n",
    "As before, we will let $X_1, ...,X_{10}$ be  random variables representing the ages of 10 sampled researchers and $x_1, ..., x_{10}$ are the realised values of these random variables (i.e. the observed ages). We assume the following model\n",
    "\n",
    "$$ \n",
    "X_i \\overset{\\small{iid}}{\\sim} N(\\mu, \\sigma^2), \\qquad i=1,2,...,10\n",
    "$$\n",
    "\n",
    "As before, we will assume that we know the population standard deviation, $\\sigma = 4.8$.\n",
    "\n",
    "\n",
    "Our best estimate of the population mean age is the sample mean age, so $\\hat{\\mu} = 29.57$. But how good an estimate is this? In order to answer that question, we will construct a 95% confidence interval around the estimate. "
   ]
  },
  {
   "cell_type": "markdown",
   "metadata": {},
   "source": [
    "### 7.1.2 Emotional distress study - the sampling distribution of the mean (recap)\n",
    "\n",
    "Recall that the sampling distribution of the sample mean is the distribution we would see if we repeatedly sampled 10 researchers a very large number of times, each time calculating the sample mean age, and drew a histogram of the sample means.\n",
    "\n",
    "We obtained the sampling distribution algebraically:\n",
    "\n",
    "$$\n",
    "\\hat{\\mu} \\sim N\\left(\\mu, \\frac{\\sigma^2}{n}\\right) \n",
    "$$\n",
    "\n",
    "which, substituting in the sample size of $n=10$ and $\\sigma = 4.8$, gives\n",
    "\n",
    "$$\n",
    "\\hat{\\mu} \\sim N(\\mu, 1.52^2)\n",
    "$$\n",
    "\n",
    "Recall that when we are talking about the sampling distribution (i.e. the distribution of an *estimator*), we call the standard deviation the **standard error**. So the sample mean age follows a normal distribution, under repeated sampling, centred around the population mean $\\mu$ with standard error given by $SE(\\hat{\\mu}) = 1.52$.\n",
    "\n",
    "We do not quite have sufficient information to plot the sampling distribution, because we still do not know where the central value $\\mu$ is. However, otherwise we can draw the exact shape. The graph below draws the sampling distribution around an unknown population mean $\\mu$. \n",
    "\n",
    "[The code used to generate the graph is suppressed, since it is not our focus here, but if you wish to see it you can click the button to the right.]"
   ]
  },
  {
   "cell_type": "code",
   "execution_count": 1,
   "metadata": {
    "tags": [
     "hide-input"
    ]
   },
   "outputs": [
    {
     "data": {
      "image/png": "[encoded data removed]",
      "text/plain": [
       "plot without title"
      ]
     },
     "metadata": {
      "filenames": {
       "image/png": "C:\\Users\\emsuewil\\Documents\\Work\\Teaching\\MSc_HDS\\Statistics\\Git_SHDS\\Jupyter_Book\\SHDS\\_build\\jupyter_execute\\07.b. Frequentist I_3_0.png"
      }
     },
     "output_type": "display_data"
    }
   ],
   "source": [
    "# Labels for the graph\n",
    "lab1 <- expression(mu - 3)\n",
    "lab2 <- expression(mu - 2)\n",
    "lab3 <- expression(mu - 1)\n",
    "lab4 <- expression(mu)\n",
    "lab5 <- expression(mu + 1)\n",
    "lab6 <- expression(mu + 2)\n",
    "lab7 <- expression(mu + 3)\n",
    "\n",
    "# Plot a normal distribution centred around a value \"mu\" with an unspecified dispersion\n",
    "options(repr.plot.width=6, repr.plot.height=4.5)\n",
    "plot(seq(-4, 4, by=.05), xaxt=\"none\",  xlab=\" \", ylab=\"Density\", \n",
    "     dnorm(seq(-4, 4, by=.05), 0, 1.52), col=\"blue\", type = \"l\")\n",
    "abline(v=0, col=\"black\")\n",
    "axis(1, seq(-3, 3, by=1), labels=c(lab1, lab2, lab3, lab4, lab5, lab6, lab7))"
   ]
  },
  {
   "cell_type": "markdown",
   "metadata": {},
   "source": [
    "### 7.1.3 Emotional distress study - confidence interval for the mean \n",
    "\n",
    "We now use a general fact about normal distributions:\n",
    "\n",
    "> For a normal distribution, it can be shown that 95% of the observations lie within 1.96 standard deviations of the mean. \n",
    "\n",
    "For the sampling distribution above, the \"observations\" are the different  sample means we would see under (hypothetical) repeated sampling. The standard deviation is the standard error of the mean. Above, we calculated that this standard error is 1.52. \n",
    "\n",
    "Therefore, 95% of the sample means lie within $1.52 \\times 1.96 = 2.98$ of the population mean $\\mu$\n",
    "\n",
    "Imagine taking each (hypothetical) sample mean and \"stretching out\" a distance of 2.98 either way to give a range of values around that sample mean. \n"
   ]
  },
  {
   "cell_type": "code",
   "execution_count": 2,
   "metadata": {
    "tags": [
     "hide-input"
    ]
   },
   "outputs": [
    {
     "data": {
      "image/png": "[encoded data removed]",
      "text/plain": [
       "plot without title"
      ]
     },
     "metadata": {
      "filenames": {
       "image/png": "C:\\Users\\emsuewil\\Documents\\Work\\Teaching\\MSc_HDS\\Statistics\\Git_SHDS\\Jupyter_Book\\SHDS\\_build\\jupyter_execute\\07.b. Frequentist I_5_0.png"
      }
     },
     "output_type": "display_data"
    }
   ],
   "source": [
    "options(repr.plot.width=6, repr.plot.height=4.5)\n",
    "plot(seq(-6, 6, by=.05), xaxt=\"none\",  xlab=\" \", ylab=\"Density\", \n",
    "     dnorm(seq(-6, 6, by=.05), 0, 1.52), col=\"blue\", type = \"l\")\n",
    "abline(v=0, col=\"black\")\n",
    "abline(v=c(-2.98, 2.98), col=\"green\", lty=2)\n",
    "axis(1, seq(-3, 3, by=1), labels=c(lab1, lab2, lab3, lab4, lab5, lab6, lab7))\n",
    "lines(seq(-6.17, -0.22, by=.02), rep(0.005, 298), col=\"orange\")\n",
    "lines(seq(-3.56, 2.38, by=.02), rep(0.13, 298), col=\"orange\")\n",
    "lines(seq(-0.98, 4.98, by=.02), rep(0.03, 299), col=\"orange\")\n",
    "points(c(-3.2, -0.6, 2), c(0.005, 0.13, 0.03), col = \"orange\")\n",
    "text(4.5, 0.07, \"2.5% of means\")\n",
    "text(-4.5, 0.07, \"2.5% of means\")"
   ]
  },
  {
   "cell_type": "markdown",
   "metadata": {},
   "source": [
    "What proportion of such intervals would we expect to contain the true value $\\mu$? Have a think about it and then click the button to the right.\n",
    "\n",
    "\n",
    "```{toggle}\n",
    "From the plot above we can see that if we created intervals for each sample mean by stretching a distance of 1.96 standard errors in either direction then most of such intervals would cross the true value $\\mu$. \n",
    "\n",
    "- For the 2.5% of sample means that lie to the right of the right-hand dashed green line (which is at 1.96 standard errors above the mean), these intervals will miss the true value $\\mu$.\n",
    "\n",
    "- For the 2.5% of sample means that lie to the left of the left-hand dashed green line (which is at 1.96 standard errors above the mean), these intervals will miss the true value $\\mu$.\n",
    "\n",
    "- Thus, 95% of the intervals constructed in such a way will include the true value $\\mu$. \n",
    "```\n",
    "\n",
    "These intervals are called **95% confidence intervals**"
   ]
  }
 ],
 "metadata": {
  "celltoolbar": "Tags",
  "kernelspec": {
   "display_name": "R",
   "language": "R",
   "name": "ir"
  },
  "language_info": {
   "codemirror_mode": "r",
   "file_extension": ".r",
   "mimetype": "text/x-r-source",
   "name": "R",
   "pygments_lexer": "r",
   "version": "3.6.1"
  }
 },
 "nbformat": 4,
 "nbformat_minor": 4
}