{
 "cells": [
  {
   "cell_type": "markdown",
   "metadata": {
    "hideCode": false,
    "hidePrompt": false
   },
   "source": [
    "## 14.1 Introduction: linear vs. logistic regression\n",
    "\n",
    "We have already learned how to estimate linear regression models and we also know in which conditions we can use such a model. In particular, let us assume that the outcome we are interested in, $Y$, is a binary variable. It could be, for example, a survival indicator, $1$ being indicator of death and $0$ of survival. It could be the indicator of a specific disease, $1$ being indicator of the presence of the disease and $0$ of its absence. What if we were using the classic linear model we have just studied to model such an outcome?\n",
    "\n",
    "We would model $\\pi_i=E(Y_i|X_i)$ by the linear predictor $\\eta_i = \\beta_0 + \\sum_{k=1}^p \\beta_k X_{i,k}$ where $X_i=(X_{i,k})$ are some dependent variables including a residual error $\\varepsilon_i$. In the case of $Y_i$ being a binary variable $Y_i|X_i$ follows a Bernouilli distribution and $\\pi_i = E(Y_i|X_i) = P(Y_i=1|X_i)$ is a probability. However, $\\eta_i$, the linear predictor, can take values in the whole real space $\\mathbb{R}$ and therefore can not be used to model the probability $\\pi_i$ whose range is constrained to $(0;1)$. Hence, it makes the classic linear model not suitable for binary outcomes. From now on, we note $\\eta_i = \\sum_{k=0}^p \\beta_k X_{i,k}$ where $X_{i,0}=1$.\n",
    "\n",
    "The solution to this issue is to link the linear predictor $\\eta_i$ and the probability $\\pi_i$ using a link function. The $\\mathrm{logit}$ function (see Section III) is the most widely used and is at the basis of the *logistic regression model*. In the following section, we describe the dementia dataset which is used as an illustration all along this lecture. In the third section, we describe the logistic model and how it can be estimated. In the fourth section, diagnosic tools for logistic regression are presented and in the fifth section, some additional notes are given."
   ]
  },
  {
   "cell_type": "code",
   "execution_count": null,
   "metadata": {},
   "outputs": [],
   "source": []
  }
 ],
 "metadata": {
  "hide_code_all_hidden": false,
  "kernelspec": {
   "display_name": "R",
   "language": "R",
   "name": "ir"
  },
  "language_info": {
   "codemirror_mode": "r",
   "file_extension": ".r",
   "mimetype": "text/x-r-source",
   "name": "R",
   "pygments_lexer": "r",
   "version": "3.6.1"
  }
 },
 "nbformat": 4,
 "nbformat_minor": 4
}