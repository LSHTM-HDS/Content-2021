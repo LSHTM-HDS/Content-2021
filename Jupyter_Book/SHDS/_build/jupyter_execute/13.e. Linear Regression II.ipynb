{
 "cells": [
  {
   "cell_type": "markdown",
   "metadata": {},
   "source": [
    "## 13.4 Centering\n",
    "\n",
    "In many analyses, interpreting the intercept is not as important as interpreting the estimated regression coefficients and so it does not matter if our intercept is an absurd value (as in the example above). However, if we do wish to obtain a reasonable intercept, we can **center** the independent variables. \n",
    "\n",
    "Centering means subtracting a constant from every value of the independent variable. This essentially shifts the scale of the predictor (the point 0 is shifted to the chosen constant), but does not affect the units of the variable. Consequently, the new interpretation of the intercept would be the mean of $Y$ when the independent variable is equal to the constant. The estimated regression coefficient of the independent variable is not affected. \n",
    "\n",
    "As as example, we will repeat the analysis above, but center the covariates on their mean value. "
   ]
  },
  {
   "cell_type": "code",
   "execution_count": 2,
   "metadata": {},
   "outputs": [
    {
     "data": {
      "text/plain": [
       "   Min. 1st Qu.  Median    Mean 3rd Qu.    Max. \n",
       "  148.0   272.0   280.0   279.1   288.0   353.0 "
      ]
     },
     "metadata": {},
     "output_type": "display_data"
    },
    {
     "data": {
      "text/plain": [
       "   Min. 1st Qu.  Median    Mean 3rd Qu.    Max. \n",
       "  53.00   62.00   64.00   64.05   66.00   72.00 "
      ]
     },
     "metadata": {},
     "output_type": "display_data"
    },
    {
     "data": {
      "text/plain": [
       "\n",
       "Call:\n",
       "lm(formula = Birth.Weight ~ Gestational.Days.Centered + Maternal.Height.Centered, \n",
       "    data = data)\n",
       "\n",
       "Residuals:\n",
       "    Min      1Q  Median      3Q     Max \n",
       "-53.829 -10.589   0.246  10.254  54.403 \n",
       "\n",
       "Coefficients:\n",
       "                           Estimate Std. Error t value Pr(>|t|)    \n",
       "(Intercept)               119.46252    0.47980 248.983  < 2e-16 ***\n",
       "Gestational.Days.Centered   0.45237    0.03006  15.051  < 2e-16 ***\n",
       "Maternal.Height.Centered    1.27598    0.19049   6.698 3.27e-11 ***\n",
       "---\n",
       "Signif. codes:  0 '***' 0.001 '**' 0.01 '*' 0.05 '.' 0.1 ' ' 1\n",
       "\n",
       "Residual standard error: 16.44 on 1171 degrees of freedom\n",
       "Multiple R-squared:  0.1969,\tAdjusted R-squared:  0.1955 \n",
       "F-statistic: 143.5 on 2 and 1171 DF,  p-value: < 2.2e-16\n"
      ]
     },
     "metadata": {},
     "output_type": "display_data"
    }
   ],
   "source": [
    "#What are the mean gestational days and mothers height in our data?\n",
    "data<- read.csv('https://www.inferentialthinking.com/data/baby.csv')\n",
    "summary(data$Gestational.Days)\n",
    "summary(data$Maternal.Height)\n",
    "\n",
    "#Create new (centered) variables in our data\n",
    "data$Gestational.Days.Centered<-data$Gestational.Days-mean(data$Gestational.Days)\n",
    "data$Maternal.Height.Centered<-data$Maternal.Height-mean(data$Maternal.Height)\n",
    "\n",
    "#Redefine Model 3 using the centered variables\n",
    "model3<-lm(Birth.Weight~Gestational.Days.Centered+Maternal.Height.Centered, data=data)\n",
    "summary(model3)"
   ]
  },
  {
   "cell_type": "markdown",
   "metadata": {},
   "source": [
    "Now the intercept ($\\hat{\\beta}_0$) is equal to 119.46. This is interpreted as: the estimated mean birthweight for a child who was born after 279.1 gestastional days and whose mother's height is 64.05 inches is 119.46 ouces. Additionally, notice that the estimated regression coefficients for gestational days and mother's height, and their associated standard errors have not changed. "
   ]
  }
 ],
 "metadata": {
  "kernelspec": {
   "display_name": "R",
   "language": "R",
   "name": "ir"
  },
  "language_info": {
   "codemirror_mode": "r",
   "file_extension": ".r",
   "mimetype": "text/x-r-source",
   "name": "R",
   "pygments_lexer": "r",
   "version": "3.6.1"
  }
 },
 "nbformat": 4,
 "nbformat_minor": 4
}