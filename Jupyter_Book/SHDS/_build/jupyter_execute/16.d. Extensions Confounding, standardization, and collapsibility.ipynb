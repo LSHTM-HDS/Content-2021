{
 "cells": [
  {
   "cell_type": "markdown",
   "metadata": {},
   "source": [
    "## 16.3 Extension to a continuous outcome\n",
    "\n",
    "Above we focused on a binary outcome (as well as binary treatment and confounder), which made all the calculations relatively simple, being based on probabilities. In this section we extend to the setting of a continuous outcome, again denoted Y . As above, we consider a binary treatment X and binary confounder Z, and we assume the relationships as depicted in the DAG in Figure 1. We can imagine that the binary outcome is replaced by a continuous outcome such as as measure of kidney function. When the outcome is continuous, the treatment effect is measured using a difference in means. Using the $do()$ notation as above, the conditional and marginal mean differences between the two treatments are:\n",
    "\n",
    "<center>$E(Y |do(X = 1), Z = z) − E(Y |do(X = 0), Z = z)$<center>\n",
    "<div style=\"text-align: right\"> (10) </div>\n",
    "\n",
    "<center>$E(Y |do(X = 1)) − E(Y |do(X = 0))$<center>\n",
    "<div style=\"text-align: right\"> (11) </div>\n",
    "    \n",
    "The expectations conditional on Z can, as above, be estimated from the observational data using the result that E(Y |X = x, Z = z) = E(Y |X = x, Z = z). The marginal probabilities can again be estimated using standardization\n",
    "    \n",
    "<center>$E(Y |do(X = x)) = \\sum \\limits _{z=0,1} E(Y |X = x, Z = z) Pr(Z = z) $<center>\n",
    "<div style=\"text-align: right\"> (12) </div>\n",
    "    \n",
    "In a simple setting where Z is binary or categorical, the expectations E(Y |X = x, Z = z) can be estimated empirically from the data- i.e. by calculating the sample mean of Y in individuals with X + x and Z = z. Alternatively they could be estimated from a linear regression of Y on X and Z (and perhaps the interaction X × Z).\n",
    "\n",
    "Suppose that Z were continuous instead of binary, then the standardization requires an integral rather than a sum:\n",
    "    \n",
    "<center>$E(Y |do(X = x)) = \\int E(Y |X = x, Z = z)f(z)dz $<center>\n",
    "<div style=\"text-align: right\"> (13) </div>\n",
    "    \n",
    "where f(z) denotes the probability density function for Z. If Z is continuous then a regression model will typically be required to estimate the conditional expectations E(Y |X = x, Z = z). To perform the standardization requires an assumption about the distribution of Z. For example it might be assumed that Z is normally distributed. An alternative approach in this situation is to use an ‘empirical’ average. For this we calculate the conditional expectation E(Y |X = x, Z = z) for each individual $i$ in the study population using their value of Z, $z_{i}$ , and then take the average of these conditional expectations:\n",
    "    \n",
    "<center>$E(Y |do(X = x)) = \\frac{1}{n} \\sum \\limits _{i=1}^{n} E(Y |X = x, Z = z_{i})  $<center>\n",
    "<div style=\"text-align: right\"> (14) </div>\n",
    "    \n",
    "Note that we would obtain the conditional expectation $E(Y |X = x, Z = z_{i})$ for each person $i$ under both values of X (X = 0, 1), even though the individual was only observed under one value of X. Recall from earlier that the marginal effect refers to the study population at hand and does not (in general) transport to populations where the distribution of Z is different. It is possible to standardize to a different population than the study, by using the Z values from some other population of interest in the above equation.\n"
   ]
  },
  {
   "cell_type": "code",
   "execution_count": null,
   "metadata": {},
   "outputs": [],
   "source": []
  }
 ],
 "metadata": {
  "kernelspec": {
   "display_name": "R",
   "language": "R",
   "name": "ir"
  },
  "language_info": {
   "codemirror_mode": "r",
   "file_extension": ".r",
   "mimetype": "text/x-r-source",
   "name": "R",
   "pygments_lexer": "r",
   "version": "3.6.1"
  }
 },
 "nbformat": 4,
 "nbformat_minor": 4
}