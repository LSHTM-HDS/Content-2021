{
 "cells": [
  {
   "cell_type": "markdown",
   "metadata": {},
   "source": [
    "## 15.4 How to fit a Poisson Regression in R\n",
    "\n",
    "Similarly to other generalised linear regressions, we fit a Poisson regression through the generalised linear models function glm() where we tell R what the distribution of the errors and linear predictor should be.\n",
    "\n",
    "You should already be familiar with the glm() function but a quick recap the function syntax is as followed:\n",
    "\n",
    "    glm(formula, family = gaussian, data, weights, subset,\n",
    "    na.action, start = NULL, etastart, mustart, offset,\n",
    "    control = list(…), model = TRUE, method = \"glm.fit\",\n",
    "    x = FALSE, y = TRUE, singular.ok = TRUE, contrasts = NULL, …)\n",
    "    \n",
    "The minimal inputted parameters required is the *formula* and the *family*. The *formula* tells R in a symbolic description what model is required to be fitted and the *family* describes what error distribution and link function are required. As we are going to be fitting Poisson regression the *family* will be “poisson”, however we can also fit a Quasi-Poisson regression also by setting *family* to \"quasipoisson\".\n",
    "\n"
   ]
  },
  {
   "cell_type": "markdown",
   "metadata": {},
   "source": [
    "### 15.4.1 Data for Poisson Regression Example\n",
    "\n",
    "For the purpose of illustration, we will simulate some data and pretend it comes from a clinical trial. We generate 100 participants ($n$) in three variables. The first is a count variable representing the number of hospital admissions a participant has had in a year and it is created from a Poisson distribution with $lambda=2$. The second is a categorical variable with 4 groups representing the country a participant lives in (England, Northern Ireland, Scotland, Wales) and the last is a binary variable representing which treatment arm the participant was randomised to. Let’s start with simulating the data and looking at some descriptive statistics.\n"
   ]
  },
  {
   "cell_type": "code",
   "execution_count": 5,
   "metadata": {},
   "outputs": [
    {
     "name": "stdout",
     "output_type": "stream",
     "text": [
      "      treatment          country counts\n",
      "1    Active Arm Northern Ireland      9\n",
      "2    Active Arm            Wales     10\n",
      "3    Active Arm          England      5\n",
      "4    Active Arm Northern Ireland      8\n",
      "5    Active Arm          England      7\n",
      "6    Active Arm Northern Ireland      6\n",
      "7    Active Arm            Wales      7\n",
      "8    Active Arm         Scotland      3\n",
      "9    Active Arm            Wales      7\n",
      "10   Active Arm          England      7\n",
      "11   Active Arm            Wales      6\n",
      "12   Active Arm          England      7\n",
      "13   Active Arm            Wales     10\n",
      "14   Active Arm         Scotland      4\n",
      "15   Active Arm Northern Ireland      6\n",
      "16   Active Arm Northern Ireland     10\n",
      "17   Active Arm         Scotland     11\n",
      "18   Active Arm          England      3\n",
      "19   Active Arm          England      6\n",
      "20   Active Arm Northern Ireland      6\n",
      "21   Active Arm         Scotland      9\n",
      "22   Active Arm            Wales      3\n",
      "23   Active Arm            Wales     12\n",
      "24   Active Arm Northern Ireland     10\n",
      "25   Active Arm            Wales      3\n",
      "26   Active Arm          England      6\n",
      "27   Active Arm          England      5\n",
      "28   Active Arm            Wales      9\n",
      "29   Active Arm          England      6\n",
      "30   Active Arm          England      8\n",
      "31   Active Arm          England      7\n",
      "32   Active Arm Northern Ireland      8\n",
      "33   Active Arm         Scotland      5\n",
      "34   Active Arm          England      7\n",
      "35   Active Arm Northern Ireland      1\n",
      "36   Active Arm            Wales      8\n",
      "37   Active Arm            Wales      1\n",
      "38   Active Arm          England      4\n",
      "39   Active Arm         Scotland      9\n",
      "40   Active Arm Northern Ireland      7\n",
      "41   Active Arm          England      5\n",
      "42   Active Arm          England      5\n",
      "43   Active Arm Northern Ireland      2\n",
      "44   Active Arm          England     11\n",
      "45   Active Arm          England      5\n",
      "46   Active Arm         Scotland     11\n",
      "47   Active Arm            Wales      9\n",
      "48   Active Arm Northern Ireland      7\n",
      "49   Active Arm         Scotland     11\n",
      "50   Active Arm Northern Ireland      7\n",
      "51  Placebo Arm Northern Ireland      5\n",
      "52  Placebo Arm            Wales      5\n",
      "53  Placebo Arm          England      5\n",
      "54  Placebo Arm         Scotland      8\n",
      "55  Placebo Arm          England      2\n",
      "56  Placebo Arm          England      8\n",
      "57  Placebo Arm          England      7\n",
      "58  Placebo Arm         Scotland      4\n",
      "59  Placebo Arm         Scotland      4\n",
      "60  Placebo Arm            Wales      6\n",
      "61  Placebo Arm          England      7\n",
      "62  Placebo Arm Northern Ireland     12\n",
      "63  Placebo Arm Northern Ireland      8\n",
      "64  Placebo Arm         Scotland      6\n",
      "65  Placebo Arm Northern Ireland      9\n",
      "66  Placebo Arm            Wales      4\n",
      "67  Placebo Arm         Scotland      4\n",
      "68  Placebo Arm         Scotland      8\n",
      "69  Placebo Arm Northern Ireland      7\n",
      "70  Placebo Arm          England      4\n",
      "71  Placebo Arm            Wales      2\n",
      "72  Placebo Arm          England      3\n",
      "73  Placebo Arm            Wales      4\n",
      "74  Placebo Arm Northern Ireland      6\n",
      "75  Placebo Arm          England      4\n",
      "76  Placebo Arm Northern Ireland      7\n",
      "77  Placebo Arm         Scotland      1\n",
      "78  Placebo Arm Northern Ireland      5\n",
      "79  Placebo Arm Northern Ireland      6\n",
      "80  Placebo Arm            Wales      0\n",
      "81  Placebo Arm Northern Ireland      6\n",
      "82  Placebo Arm Northern Ireland      4\n",
      "83  Placebo Arm Northern Ireland      5\n",
      "84  Placebo Arm         Scotland      7\n",
      "85  Placebo Arm Northern Ireland      8\n",
      "86  Placebo Arm            Wales      6\n",
      "87  Placebo Arm            Wales      4\n",
      "88  Placebo Arm         Scotland      3\n",
      "89  Placebo Arm Northern Ireland      3\n",
      "90  Placebo Arm Northern Ireland      5\n",
      "91  Placebo Arm         Scotland      7\n",
      "92  Placebo Arm            Wales      0\n",
      "93  Placebo Arm Northern Ireland      4\n",
      "94  Placebo Arm            Wales     10\n",
      "95  Placebo Arm            Wales     10\n",
      "96  Placebo Arm Northern Ireland      7\n",
      "97  Placebo Arm          England      5\n",
      "98  Placebo Arm          England      6\n",
      "99  Placebo Arm Northern Ireland      7\n",
      "100 Placebo Arm            Wales      7\n"
     ]
    },
    {
     "data": {
      "text/plain": [
       "       treatment              country       counts     \n",
       " Active Arm :50   England         :27   Min.   : 0.00  \n",
       " Placebo Arm:50   Northern Ireland:31   1st Qu.: 4.00  \n",
       "                  Scotland        :18   Median : 6.00  \n",
       "                  Wales           :24   Mean   : 6.14  \n",
       "                                        3rd Qu.: 8.00  \n",
       "                                        Max.   :12.00  "
      ]
     },
     "metadata": {},
     "output_type": "display_data"
    }
   ],
   "source": [
    "## Simulate Data\n",
    "set.seed(42)\n",
    "n<-100\n",
    "lambda<-6\n",
    "counts <- rpois(n, lambda)\n",
    "country <-  factor(sample(1:4, n, replace=T), levels=1:4, labels=c(\"England\",\"Northern Ireland\",\"Scotland\",\"Wales\"))\n",
    "treatment <- factor(gl(2,n/2), levels=1:2, labels=c(\"Active Arm\", \"Placebo Arm\"))\n",
    "print(df <- data.frame(treatment, country, counts))\n",
    "summary(df)  \n"
   ]
  },
  {
   "cell_type": "markdown",
   "metadata": {},
   "source": [
    "We can see that we correctly have 100 participants with 50% in the active arm and 50% in the placebo arm. There is roughly equal number of participants in each country with Northern Ireland having slightly more. The number of hospital admissions ranges from 0 to 6 with the median number of admissions equal to 2.\n",
    "\n",
    "We can now have a look at the descriptive statistics for admission counts by both treatment and county."
   ]
  },
  {
   "cell_type": "code",
   "execution_count": 6,
   "metadata": {},
   "outputs": [
    {
     "data": {
      "text/html": [
       "<dl class=dl-horizontal>\n",
       "\t<dt>Active Arm</dt>\n",
       "\t\t<dd>'M (SD) = 6.78 (2.70)'</dd>\n",
       "\t<dt>Placebo Arm</dt>\n",
       "\t\t<dd>'M (SD) = 5.50 (2.46)'</dd>\n",
       "</dl>\n"
      ],
      "text/latex": [
       "\\begin{description*}\n",
       "\\item[Active Arm] 'M (SD) = 6.78 (2.70)'\n",
       "\\item[Placebo Arm] 'M (SD) = 5.50 (2.46)'\n",
       "\\end{description*}\n"
      ],
      "text/markdown": [
       "Active Arm\n",
       ":   'M (SD) = 6.78 (2.70)'Placebo Arm\n",
       ":   'M (SD) = 5.50 (2.46)'\n",
       "\n"
      ],
      "text/plain": [
       "            Active Arm            Placebo Arm \n",
       "\"M (SD) = 6.78 (2.70)\" \"M (SD) = 5.50 (2.46)\" "
      ]
     },
     "metadata": {},
     "output_type": "display_data"
    },
    {
     "data": {
      "text/html": [
       "<dl class=dl-horizontal>\n",
       "\t<dt>England</dt>\n",
       "\t\t<dd>'M (SD) = 5.74 (1.87)'</dd>\n",
       "\t<dt>Northern Ireland</dt>\n",
       "\t\t<dd>'M (SD) = 6.48 (2.34)'</dd>\n",
       "\t<dt>Scotland</dt>\n",
       "\t\t<dd>'M (SD) = 6.39 (3.07)'</dd>\n",
       "\t<dt>Wales</dt>\n",
       "\t\t<dd>'M (SD) = 5.96 (3.42)'</dd>\n",
       "</dl>\n"
      ],
      "text/latex": [
       "\\begin{description*}\n",
       "\\item[England] 'M (SD) = 5.74 (1.87)'\n",
       "\\item[Northern Ireland] 'M (SD) = 6.48 (2.34)'\n",
       "\\item[Scotland] 'M (SD) = 6.39 (3.07)'\n",
       "\\item[Wales] 'M (SD) = 5.96 (3.42)'\n",
       "\\end{description*}\n"
      ],
      "text/markdown": [
       "England\n",
       ":   'M (SD) = 5.74 (1.87)'Northern Ireland\n",
       ":   'M (SD) = 6.48 (2.34)'Scotland\n",
       ":   'M (SD) = 6.39 (3.07)'Wales\n",
       ":   'M (SD) = 5.96 (3.42)'\n",
       "\n"
      ],
      "text/plain": [
       "               England       Northern Ireland               Scotland \n",
       "\"M (SD) = 5.74 (1.87)\" \"M (SD) = 6.48 (2.34)\" \"M (SD) = 6.39 (3.07)\" \n",
       "                 Wales \n",
       "\"M (SD) = 5.96 (3.42)\" "
      ]
     },
     "metadata": {},
     "output_type": "display_data"
    }
   ],
   "source": [
    "#Counts by treatment\n",
    "with(df, tapply(counts, treatment, function(x) {\n",
    "  sprintf(\"M (SD) = %1.2f (%1.2f)\", mean(x), sd(x))\n",
    "}))\n",
    "#Counts by country\n",
    "with(df, tapply(counts, country, function(x) {\n",
    "  sprintf(\"M (SD) = %1.2f (%1.2f)\", mean(x), sd(x))\n",
    "}))"
   ]
  },
  {
   "cell_type": "markdown",
   "metadata": {},
   "source": [
    "We can see that the Active arm has a slightly higher count mean than the Placebo arm and Scotland also has a slightly higher mean count. We can also look at this graphically using the ggplot package."
   ]
  },
  {
   "cell_type": "code",
   "execution_count": 7,
   "metadata": {},
   "outputs": [
    {
     "name": "stderr",
     "output_type": "stream",
     "text": [
      "also installing the dependency 'rlang'\n",
      "\n"
     ]
    },
    {
     "name": "stdout",
     "output_type": "stream",
     "text": [
      "\n",
      "  There is a binary version available but the source version is later:\n",
      "        binary source needs_compilation\n",
      "ggplot2  3.3.3  3.3.5             FALSE\n",
      "\n",
      "package 'rlang' successfully unpacked and MD5 sums checked\n",
      "\n",
      "The downloaded binary packages are in\n",
      "\tC:\\Users\\quant\\AppData\\Local\\Temp\\RtmpC6japP\\downloaded_packages\n"
     ]
    },
    {
     "name": "stderr",
     "output_type": "stream",
     "text": [
      "installing the source package 'ggplot2'\n",
      "\n"
     ]
    },
    {
     "data": {
      "image/png": "[encoded data removed]",
      "text/plain": [
       "plot without title"
      ]
     },
     "metadata": {
      "filenames": {
       "image/png": "C:\\Users\\emsuewil\\Documents\\Work\\Teaching\\MSc_HDS\\Statistics\\Git_SHDS\\Jupyter_Book\\SHDS\\_build\\jupyter_execute\\16.e. Poisson Regression Model_6_3.png"
      }
     },
     "output_type": "display_data"
    },
    {
     "data": {
      "image/png": "[encoded data removed]",
      "text/plain": [
       "plot without title"
      ]
     },
     "metadata": {
      "filenames": {
       "image/png": "C:\\Users\\emsuewil\\Documents\\Work\\Teaching\\MSc_HDS\\Statistics\\Git_SHDS\\Jupyter_Book\\SHDS\\_build\\jupyter_execute\\16.e. Poisson Regression Model_6_4.png"
      }
     },
     "output_type": "display_data"
    }
   ],
   "source": [
    "options(repr.plot.width=4, repr.plot.height=3)\n",
    "install.packages(\"ggplot2\")\n",
    "library(ggplot2)\n",
    "g1<-ggplot(df, aes(counts, fill = treatment)) +\n",
    "  geom_histogram(binwidth=.5, position=\"dodge\")\n",
    "g1 + labs(fill = \"Treament Arm\", x=\"Admission Count\")\n",
    "\n",
    "g2<-ggplot(df, aes(counts, fill = country)) +\n",
    "  geom_histogram(binwidth=.5, position=\"dodge\")\n",
    "g2 + labs(fill = \"Country\", x = \"Admission Count\")"
   ]
  },
  {
   "cell_type": "markdown",
   "metadata": {},
   "source": [
    "### 15.4.2 Output from Poisson Regression Example\n",
    "\n",
    "We already know the admissions count variable follows a Poisson distribution as we have simulated the data directly from the distribution without adding noise. Therefore we know a Poisson regression is suitable. We now fit the regression model and store it in the object m1 and get a summary of the model at the same time."
   ]
  },
  {
   "cell_type": "code",
   "execution_count": 8,
   "metadata": {},
   "outputs": [
    {
     "data": {
      "text/plain": [
       "\n",
       "Call:\n",
       "glm(formula = counts ~ treatment + country, family = \"poisson\", \n",
       "    data = df)\n",
       "\n",
       "Deviance Residuals: \n",
       "    Min       1Q   Median       3Q      Max  \n",
       "-3.2467  -0.5783   0.0477   0.6381   2.2260  \n",
       "\n",
       "Coefficients:\n",
       "                        Estimate Std. Error z value Pr(>|z|)    \n",
       "(Intercept)              1.82733    0.08448  21.631  < 2e-16 ***\n",
       "treatmentPlacebo Arm    -0.23187    0.08226  -2.819  0.00482 ** \n",
       "countryNorthern Ireland  0.17001    0.10822   1.571  0.11620    \n",
       "countryScotland          0.14936    0.12396   1.205  0.22822    \n",
       "countryWales             0.06669    0.11640   0.573  0.56670    \n",
       "---\n",
       "Signif. codes:  0 '***' 0.001 '**' 0.01 '*' 0.05 '.' 0.1 ' ' 1\n",
       "\n",
       "(Dispersion parameter for poisson family taken to be 1)\n",
       "\n",
       "    Null deviance: 130.13  on 99  degrees of freedom\n",
       "Residual deviance: 120.53  on 95  degrees of freedom\n",
       "AIC: 483.69\n",
       "\n",
       "Number of Fisher Scoring iterations: 5\n"
      ]
     },
     "metadata": {},
     "output_type": "display_data"
    }
   ],
   "source": [
    "summary(m1 <- glm(counts ~ treatment + country, family=\"poisson\", data=df))"
   ]
  },
  {
   "cell_type": "markdown",
   "metadata": {},
   "source": [
    "**OUTPUT**\n",
    "\n",
    "The first part of the output gives information on deviance residuals. We would expect to see the deviance residuals to be approximately normally distributed if the model is correctly specified. Here we can see the median is close to 0 (-0.10) and there does not appear to be any skewness as Q1 (quartile 1 = -0.67) and Q3 (quartile 3 = 0.73) have a similar distance from the median and so are the minimum and maximum.\n",
    "\n",
    "The second part of the output gives the Poisson regression coefficients for each variable with their standard errors, z values, p-values. We interpret Poisson regression coefficients as if there was a one unit change in the predictor variable (if a continuous variable otherwise change from the reference category to the category listed) the regression coefficient tells us the effect on the logs of the expected counts (admission counts in our example), given the other variables in the model are held constant. The coefficient for treatment is -0.40 which tells use the expected log admissions count for being randomised to the active arm compared to the placebo arm is -0.40. The expected log admissions count for the other countries compared to England are all positive. \n",
    "\n",
    "We can also see the regression estimate when all the variables in the model are evaluated at zero (or categorical reference group) and this is called the constant and labelled \"_cons\". In our model this would represent the expected log admissions count for participants in the placebo arm who live in England.\n",
    "\n",
    "The standard errors are given which are used to calculate the z-value which in turn is used to calculate the p value. The null hypothesis for each p value is that the corresponding regression coefficient is zero given the rest of the variables in the model. The z value here is just the ratio of the coefficient to the standard error for example treatment we can see the estimate/standard error equals the z value: -0.3971/0.1421=-2.795. The z value follows a normal distribution and is tested against a two-sided alternative hypothesis that the coefficient is not equal to zero. We can see for treatment the p value is 0.005 and if we set out alpha significant level at $\\alpha=0.05$ we would reject the null hypothesis and conclude the Poisson regression coefficient for treatment is statistically different from zero, given country is in the model. \n",
    "\n",
    "Lastly, at the bottom of the output, we have information on the residual deviance which can be used to perform a goodness of fit test for the overall model. We will come back to this in section 14.5.4.\n"
   ]
  },
  {
   "cell_type": "markdown",
   "metadata": {},
   "source": [
    "### 15.4.3 Creating robust standard errors from Poisson regression example output.\n",
    "\n",
    "As previously covered in section 14.2.3.3, the mean of the Poisson distribution is equal to the variance. A publication here (https://onlinelibrary.wiley.com/doi/full/10.1111/1475-4932.12006) recommends using robust standard errors when this assumption is mildly violated. We can create robust standard errors using the sandwich package in R.\n"
   ]
  },
  {
   "cell_type": "code",
   "execution_count": 9,
   "metadata": {},
   "outputs": [
    {
     "name": "stdout",
     "output_type": "stream",
     "text": [
      "\n",
      "  There is a binary version available but the source version is later:\n",
      "         binary source needs_compilation\n",
      "sandwich  3.0-0  3.0-1             FALSE\n",
      "\n"
     ]
    },
    {
     "name": "stderr",
     "output_type": "stream",
     "text": [
      "installing the source package 'sandwich'\n",
      "\n"
     ]
    },
    {
     "data": {
      "text/html": [
       "<table>\n",
       "<thead><tr><th></th><th scope=col>Estimate</th><th scope=col>Robust SE</th><th scope=col>Pr(&gt;|z|)</th></tr></thead>\n",
       "<tbody>\n",
       "\t<tr><th scope=row>(Intercept)</th><td> 1.82733439</td><td>0.06412168 </td><td>2.000000   </td></tr>\n",
       "\t<tr><th scope=row>treatmentPlacebo Arm</th><td>-0.23187287</td><td>0.08541705 </td><td>1.993364   </td></tr>\n",
       "\t<tr><th scope=row>countryNorthern Ireland</th><td> 0.17000567</td><td>0.09156736 </td><td>1.936635   </td></tr>\n",
       "\t<tr><th scope=row>countryScotland</th><td> 0.14936415</td><td>0.11986847 </td><td>1.787260   </td></tr>\n",
       "\t<tr><th scope=row>countryWales</th><td> 0.06668722</td><td>0.12436880 </td><td>1.408183   </td></tr>\n",
       "</tbody>\n",
       "</table>\n"
      ],
      "text/latex": [
       "\\begin{tabular}{r|lll}\n",
       "  & Estimate & Robust SE & Pr(>\\textbar{}z\\textbar{})\\\\\n",
       "\\hline\n",
       "\t(Intercept) &  1.82733439 & 0.06412168  & 2.000000   \\\\\n",
       "\ttreatmentPlacebo Arm & -0.23187287 & 0.08541705  & 1.993364   \\\\\n",
       "\tcountryNorthern Ireland &  0.17000567 & 0.09156736  & 1.936635   \\\\\n",
       "\tcountryScotland &  0.14936415 & 0.11986847  & 1.787260   \\\\\n",
       "\tcountryWales &  0.06668722 & 0.12436880  & 1.408183   \\\\\n",
       "\\end{tabular}\n"
      ],
      "text/markdown": [
       "\n",
       "| <!--/--> | Estimate | Robust SE | Pr(>|z|) |\n",
       "|---|---|---|---|\n",
       "| (Intercept) |  1.82733439 | 0.06412168  | 2.000000    |\n",
       "| treatmentPlacebo Arm | -0.23187287 | 0.08541705  | 1.993364    |\n",
       "| countryNorthern Ireland |  0.17000567 | 0.09156736  | 1.936635    |\n",
       "| countryScotland |  0.14936415 | 0.11986847  | 1.787260    |\n",
       "| countryWales |  0.06668722 | 0.12436880  | 1.408183    |\n",
       "\n"
      ],
      "text/plain": [
       "                        Estimate    Robust SE  Pr(>|z|)\n",
       "(Intercept)              1.82733439 0.06412168 2.000000\n",
       "treatmentPlacebo Arm    -0.23187287 0.08541705 1.993364\n",
       "countryNorthern Ireland  0.17000567 0.09156736 1.936635\n",
       "countryScotland          0.14936415 0.11986847 1.787260\n",
       "countryWales             0.06668722 0.12436880 1.408183"
      ]
     },
     "metadata": {},
     "output_type": "display_data"
    }
   ],
   "source": [
    "#Robust SE's\n",
    "install.packages(\"sandwich\")\n",
    "library(sandwich)\n",
    "cov <- vcovHC(m1, type=\"HC0\")\n",
    "se <- sqrt(diag(cov))\n",
    "robust.SE <- cbind(Estimate= coef(m1), \"Robust SE\" = se, \"Pr(>|z|)\" = 2 * pnorm(abs(coef(m1)/se)))\n",
    "robust.SE\n"
   ]
  },
  {
   "cell_type": "markdown",
   "metadata": {},
   "source": [
    "Here we have the robust standard errors (Robust SE) and the new calculated p values. In this example we see that the robust standard errors are very similar to the previous calculated standard errors, this is because we know the distribution was simulated from a Poisson distribution and hence the mean and variance are approximately the same. However in other settings calculating the robust standard error would lead less bias if the mean and variance were slightly different.  "
   ]
  },
  {
   "cell_type": "markdown",
   "metadata": {},
   "source": [
    "### 15.4.4 Poisson Regression Goodness of Fit Example\n",
    "\n",
    "At the bottom of the output we see the null deviance and residual deviance from the model. The residual deviance is 104.71 on 95 degrees of freedom (df). There are 100 observations in our model and 5 estimates which gives us 95 df (100-1df for treatment- 3df for each country – 1df for the constant) . To calculate the p-value for the deviance goodness of fit test we simply calculate the probability to the right of the deviance value for the chi-squared distribution on 95 df.\n"
   ]
  },
  {
   "cell_type": "code",
   "execution_count": 10,
   "metadata": {},
   "outputs": [
    {
     "data": {
      "text/html": [
       "0.0395607905595946"
      ],
      "text/latex": [
       "0.0395607905595946"
      ],
      "text/markdown": [
       "0.0395607905595946"
      ],
      "text/plain": [
       "[1] 0.03956079"
      ]
     },
     "metadata": {},
     "output_type": "display_data"
    }
   ],
   "source": [
    "pchisq(m1$deviance, df=m1$df.residual, lower.tail=FALSE)"
   ]
  },
  {
   "cell_type": "markdown",
   "metadata": {},
   "source": [
    "The null hypothesis is that our model is correctly specified. Here we can see the p value is 0.233 which is not significant if we set our level of significant at 0.05. We therefore do not have strong evidence to reject the null hypothesis. If however there was strong evidence that the model was not fitting well, a possible method to improve fit could be to omit a variable from the model which could be adversely affecting the linearity or dispersion criteria. For example we could fit an alternative model where we remove country."
   ]
  },
  {
   "cell_type": "code",
   "execution_count": 11,
   "metadata": {},
   "outputs": [
    {
     "data": {
      "text/html": [
       "<table>\n",
       "<thead><tr><th scope=col>Resid. Df</th><th scope=col>Resid. Dev</th><th scope=col>Df</th><th scope=col>Deviance</th><th scope=col>Pr(&gt;Chi)</th></tr></thead>\n",
       "<tbody>\n",
       "\t<tr><td>98       </td><td>123.4508 </td><td>NA       </td><td>      NA </td><td>       NA</td></tr>\n",
       "\t<tr><td>95       </td><td>120.5336 </td><td> 3       </td><td>2.917207 </td><td>0.4045671</td></tr>\n",
       "</tbody>\n",
       "</table>\n"
      ],
      "text/latex": [
       "\\begin{tabular}{r|lllll}\n",
       " Resid. Df & Resid. Dev & Df & Deviance & Pr(>Chi)\\\\\n",
       "\\hline\n",
       "\t 98        & 123.4508  & NA        &       NA  &        NA\\\\\n",
       "\t 95        & 120.5336  &  3        & 2.917207  & 0.4045671\\\\\n",
       "\\end{tabular}\n"
      ],
      "text/markdown": [
       "\n",
       "| Resid. Df | Resid. Dev | Df | Deviance | Pr(>Chi) |\n",
       "|---|---|---|---|---|\n",
       "| 98        | 123.4508  | NA        |       NA  |        NA |\n",
       "| 95        | 120.5336  |  3        | 2.917207  | 0.4045671 |\n",
       "\n"
      ],
      "text/plain": [
       "  Resid. Df Resid. Dev Df Deviance Pr(>Chi) \n",
       "1 98        123.4508   NA       NA        NA\n",
       "2 95        120.5336    3 2.917207 0.4045671"
      ]
     },
     "metadata": {},
     "output_type": "display_data"
    }
   ],
   "source": [
    "# Update m1 model dropping country\n",
    "m2 <- update(m1, . ~ . - country)\n",
    "# Test models with chi square test\n",
    "anova(m2, m1, test=\"Chisq\")\n"
   ]
  },
  {
   "cell_type": "markdown",
   "metadata": {},
   "source": [
    "We can see by the non-significant p value of 0.598 that by adding Country to the model we do not get an improve fit and thus the model would fit approximately as well without it. "
   ]
  },
  {
   "cell_type": "markdown",
   "metadata": {},
   "source": [
    "### 15.4.5 Poisson Regression Example used for Prediction\n",
    "\n",
    "One of the great things about regression is it can be used to make predictions, for example we may want to predict what the expected admissions counts would be for each country while assuming everyone is in the placebo treatment. To have a look how this will work we create a small dataset.\n"
   ]
  },
  {
   "cell_type": "code",
   "execution_count": 12,
   "metadata": {},
   "outputs": [
    {
     "data": {
      "text/html": [
       "<table>\n",
       "<thead><tr><th scope=col>treatment</th><th scope=col>country</th></tr></thead>\n",
       "<tbody>\n",
       "\t<tr><td>Placebo Arm     </td><td>England         </td></tr>\n",
       "\t<tr><td>Placebo Arm     </td><td>Northern Ireland</td></tr>\n",
       "\t<tr><td>Placebo Arm     </td><td>Scotland        </td></tr>\n",
       "\t<tr><td>Placebo Arm     </td><td>Wales           </td></tr>\n",
       "</tbody>\n",
       "</table>\n"
      ],
      "text/latex": [
       "\\begin{tabular}{r|ll}\n",
       " treatment & country\\\\\n",
       "\\hline\n",
       "\t Placebo Arm      & England         \\\\\n",
       "\t Placebo Arm      & Northern Ireland\\\\\n",
       "\t Placebo Arm      & Scotland        \\\\\n",
       "\t Placebo Arm      & Wales           \\\\\n",
       "\\end{tabular}\n"
      ],
      "text/markdown": [
       "\n",
       "| treatment | country |\n",
       "|---|---|\n",
       "| Placebo Arm      | England          |\n",
       "| Placebo Arm      | Northern Ireland |\n",
       "| Placebo Arm      | Scotland         |\n",
       "| Placebo Arm      | Wales            |\n",
       "\n"
      ],
      "text/plain": [
       "  treatment   country         \n",
       "1 Placebo Arm England         \n",
       "2 Placebo Arm Northern Ireland\n",
       "3 Placebo Arm Scotland        \n",
       "4 Placebo Arm Wales           "
      ]
     },
     "metadata": {},
     "output_type": "display_data"
    }
   ],
   "source": [
    "dp <- data.frame(treatment = factor(1, levels=1, labels=c(\"Placebo Arm\")), country = factor(1:4, levels = 1:4, labels = levels(df$country)))\n",
    "dp"
   ]
  },
  {
   "cell_type": "markdown",
   "metadata": {},
   "source": [
    "We now use the output from the regression to predict the admissions counts for each country."
   ]
  },
  {
   "cell_type": "code",
   "execution_count": 13,
   "metadata": {},
   "outputs": [
    {
     "data": {
      "text/html": [
       "<dl>\n",
       "\t<dt>$fit</dt>\n",
       "\t\t<dd><dl class=dl-horizontal>\n",
       "\t<dt>1</dt>\n",
       "\t\t<dd>4.9306041274169</dd>\n",
       "\t<dt>2</dt>\n",
       "\t\t<dd>5.84430214232171</dd>\n",
       "\t<dt>3</dt>\n",
       "\t\t<dd>5.72490336621881</dd>\n",
       "\t<dt>4</dt>\n",
       "\t\t<dd>5.27062387515433</dd>\n",
       "</dl>\n",
       "</dd>\n",
       "\t<dt>$se.fit</dt>\n",
       "\t\t<dd><dl class=dl-horizontal>\n",
       "\t<dt>1</dt>\n",
       "\t\t<dd>0.483047207431936</dd>\n",
       "\t<dt>2</dt>\n",
       "\t\t<dd>0.471629350298954</dd>\n",
       "\t<dt>3</dt>\n",
       "\t\t<dd>0.583886748993777</dd>\n",
       "\t<dt>4</dt>\n",
       "\t\t<dd>0.502721588866226</dd>\n",
       "</dl>\n",
       "</dd>\n",
       "\t<dt>$residual.scale</dt>\n",
       "\t\t<dd>1</dd>\n",
       "</dl>\n"
      ],
      "text/latex": [
       "\\begin{description}\n",
       "\\item[\\$fit] \\begin{description*}\n",
       "\\item[1] 4.9306041274169\n",
       "\\item[2] 5.84430214232171\n",
       "\\item[3] 5.72490336621881\n",
       "\\item[4] 5.27062387515433\n",
       "\\end{description*}\n",
       "\n",
       "\\item[\\$se.fit] \\begin{description*}\n",
       "\\item[1] 0.483047207431936\n",
       "\\item[2] 0.471629350298954\n",
       "\\item[3] 0.583886748993777\n",
       "\\item[4] 0.502721588866226\n",
       "\\end{description*}\n",
       "\n",
       "\\item[\\$residual.scale] 1\n",
       "\\end{description}\n"
      ],
      "text/markdown": [
       "$fit\n",
       ":   1\n",
       ":   4.93060412741692\n",
       ":   5.844302142321713\n",
       ":   5.724903366218814\n",
       ":   5.27062387515433\n",
       "\n",
       "\n",
       "$se.fit\n",
       ":   1\n",
       ":   0.4830472074319362\n",
       ":   0.4716293502989543\n",
       ":   0.5838867489937774\n",
       ":   0.502721588866226\n",
       "\n",
       "\n",
       "$residual.scale\n",
       ":   1\n",
       "\n",
       "\n"
      ],
      "text/plain": [
       "$fit\n",
       "       1        2        3        4 \n",
       "4.930604 5.844302 5.724903 5.270624 \n",
       "\n",
       "$se.fit\n",
       "        1         2         3         4 \n",
       "0.4830472 0.4716294 0.5838867 0.5027216 \n",
       "\n",
       "$residual.scale\n",
       "[1] 1\n"
      ]
     },
     "metadata": {},
     "output_type": "display_data"
    }
   ],
   "source": [
    "predict(m1, dp, type=\"response\", se.fit=TRUE)"
   ]
  },
  {
   "cell_type": "markdown",
   "metadata": {},
   "source": [
    "In the output we can see the predicted number of admissions counts for each country assuming everyone is taking placebo treatment. Scotland has the highest predicted count with England having the lowest. We can also graphically show predictions for different permutations of data."
   ]
  },
  {
   "cell_type": "code",
   "execution_count": 14,
   "metadata": {},
   "outputs": [
    {
     "data": {
      "image/png": "[encoded data removed]",
      "text/plain": [
       "plot without title"
      ]
     },
     "metadata": {
      "filenames": {
       "image/png": "C:\\Users\\emsuewil\\Documents\\Work\\Teaching\\MSc_HDS\\Statistics\\Git_SHDS\\Jupyter_Book\\SHDS\\_build\\jupyter_execute\\16.e. Poisson Regression Model_23_0.png"
      }
     },
     "output_type": "display_data"
    }
   ],
   "source": [
    "options(repr.plot.width=10, repr.plot.height=3)\n",
    "## Calculate and store predicted values\n",
    "df$pred <- predict(m1, type=\"response\")\n",
    "\n",
    "# Create the plot\n",
    "ggplot(df, aes(x = country, y = pred, colour = treatment)) +\n",
    "  geom_point(aes(y = pred)) + labs(x = \"Treatment Arm\", y = \"Expected number of admissions\")\n"
   ]
  },
  {
   "cell_type": "markdown",
   "metadata": {},
   "source": [
    "Here we can see graphically the predicted admissions count for each country for each treatment arm, to have the lowest predicted number of hospital admissions you would want to be living in England and in the Placebo arm."
   ]
  }
 ],
 "metadata": {
  "kernelspec": {
   "display_name": "R",
   "language": "R",
   "name": "ir"
  },
  "language_info": {
   "codemirror_mode": "r",
   "file_extension": ".r",
   "mimetype": "text/x-r-source",
   "name": "R",
   "pygments_lexer": "r",
   "version": "3.6.1"
  }
 },
 "nbformat": 4,
 "nbformat_minor": 4
}