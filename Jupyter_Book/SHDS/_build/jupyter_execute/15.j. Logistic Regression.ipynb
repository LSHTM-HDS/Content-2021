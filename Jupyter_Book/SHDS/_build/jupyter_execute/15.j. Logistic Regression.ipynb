{
 "cells": [
  {
   "cell_type": "markdown",
   "metadata": {},
   "source": [
    "# 15.9 Model diagnostics\n",
    "\n",
    "This material is not examinable and is provided for your information.\n",
    "\n",
    "Many model diagnostics are available for logistic regression models. We touch on a few very briefly here. "
   ]
  },
  {
   "cell_type": "markdown",
   "metadata": {},
   "source": [
    "## 15.9.1 Goodness-of-fit\n",
    "\n",
    "### Deviance\n",
    "\n",
    "The deviance of a model $M$ is a measure of the goodness-of-fit of the model. It is defined as \n",
    "\n",
    "$$\n",
    "D = -2(l_M - l_S)\n",
    "$$\n",
    "\n",
    "where $l_M$  is the log-likelihood of model $M$ and $l_S$ is the log-likelihood of the saturated model (one which uses the maximum possible number of parameters without redundancies; this is the model with the best possible fit). \n",
    "\n",
    "In general, higher values of deviance indicate worse model fit to the data. Two deviance statistics are often produced in output following logistic regression:\n",
    "- Null deviance: the deviance computed for the null model, i.e. the minimal model containing only an intercept.  \n",
    "- Residual deviance: the deviance computed for the model that has just been estimated. \n",
    "\n",
    "Note \n",
    "> When computing deviances of different models for the same dataset, the log-likelihood of the saturated model $l_S$ is constant. Therefore, statistical software (including the output from `glm`) often provides the deviance in a simplified form: as $-2 l_M$. \n",
    "\n",
    "\n",
    "\n",
    "### Akaike information criterion\n",
    "\n",
    "The Akaike information criterion (AIC) quantifies model fit as a function of the likelihood and the number of parameters being estimated. It is defined as $AIC = 2k - 2 l(\\hat{\\beta})$ where $k$ is the number of parameter in the model and $l(\\hat{\\beta})$ the log-likelihood of the model computed at the estimated parameter values $\\hat{\\beta}$. \n",
    "\n",
    "The AIC is mainly used as a way to compare different models. The best model, in the scale of the AIC, is the one with the lowest AIC. (Note that sometimes, contrarily to the ```glm``` package, the AIC is computed as $AIC = -2k + 2l(\\hat{\\beta})$ in which case the best model would be the one with the highest AIC value.) \n",
    "\n",
    "The AIC is actually minus the sum of the deviance and twice the number of the parameters. By including the number of parameters, the AIC penalizes models that have too many parameters, thus avoiding the selection of overfitted models.\n",
    "\n",
    "\n",
    "\n",
    "### McFadden pseudo-$R^2$\n",
    "\n",
    "For the linear regression model, the coefficient of determination ($R^2$) measures how much variability is explained by the model. \n",
    "\n",
    "For the logistic regression model, several generalization of the $R^2$ measure have been proposed. Here, we will focus on the McFadden's pseudo-$R^2$. The McFadden $R^2$ is defined as follow:\n",
    "\n",
    "$$\n",
    "R^2_{McFadden} = 1 - \\frac{l_M}{l_0}\n",
    "$$\n",
    "\n",
    "where $l_M$ is the log-likelihood of the estimated model and $l_0$ is the log-likelihood of the null model (containing an intercept only). \n",
    "\n",
    "The rationale behind this measure is that when the estimated model does not explain correctly the variability, its log-likelihood will be close to the null log-likelihood so that the ratio will be close to $1$ and the McFadden's pseudo-$R^2$ close to $0$. Conversely, when the model correctly explains the variability of the model, the likelihood will be close to $1$ and therefore $l_M$ will be close to $0$ so that the McFadden's pseudo-$R^2$ will be close to $1$. However, when applied to a classic linear regression model, the McFadden's pseudo-$R^2$ is not equivalent to the classic $R_2$."
   ]
  },
  {
   "cell_type": "markdown",
   "metadata": {},
   "source": [
    "### The Hosmer-Lemeshow test\n",
    "\n",
    "The Hosmer-Lemeshow test is a classic approach to assess the goodness-of-fit of a logistic regression model. The rationale of this test is to divide the vector of predicted probabilites $\\hat{\\pi} = (\\hat{\\pi}_i)$ with $i=1,\\dots,n$ into $G$ groups, e.g. based on the quantiles, with $n_g$ subjects. In each group, the mean of the predicted probabilites $\\bar{\\pi}_g$ is compared to the proportion of observed success. Formally, for the group $g=1,\\dots,G$, we have that \n",
    "\n",
    "* the observed values are \n",
    "    * for Y = 1: $y_g$\n",
    "    * for Y = 0: $n_g - y_g$\n",
    "* the predicted values are\n",
    "    * for Y = 1: $\\bar{\\pi}_gn_g$\n",
    "    * for Y = 0: $n_g(1 - \\bar{\\pi}_g)$\n",
    "\n",
    "The Hosmer-Lemeshow test statistics is based on the chi-square statistics computed over all groups and all possible values for $Y$\n",
    "\n",
    "$$\\sum_{g=1}^G\\sum_{l=0}^1 \\frac{(o_{gl} - e_{gl})^2}{e_{gl}} = \\sum_{g=1}^G \\frac{(n_g\\bar{\\pi}_g - y_g)^2}{n_g\\bar{\\pi}_g(1-\\bar{\\pi}_g)}$$\n",
    "\n",
    "and has been shown to follow asymptotically a $\\chi^2$ distribution with $g-2$ degrees of freedom under the null hypothesis of a correctly specified model. However, we insist on the fact that this test if often criticized for several reasons. First it is known to have low power. Secondly, its results can be sensible to the choice of the number of groups $G$ and this is even worst for small sample sizes.\n",
    "\n",
    "The Hesmer-Lemeshow test statistics has not been implemented into the `glm` package but is available on the `ResourceSelection` package through the `hoslem.test` function.\n"
   ]
  },
  {
   "cell_type": "code",
   "execution_count": null,
   "metadata": {},
   "outputs": [],
   "source": []
  }
 ],
 "metadata": {
  "hide_code_all_hidden": false,
  "kernelspec": {
   "display_name": "R",
   "language": "R",
   "name": "ir"
  },
  "language_info": {
   "codemirror_mode": "r",
   "file_extension": ".r",
   "mimetype": "text/x-r-source",
   "name": "R",
   "pygments_lexer": "r",
   "version": "4.0.4"
  }
 },
 "nbformat": 4,
 "nbformat_minor": 4
}