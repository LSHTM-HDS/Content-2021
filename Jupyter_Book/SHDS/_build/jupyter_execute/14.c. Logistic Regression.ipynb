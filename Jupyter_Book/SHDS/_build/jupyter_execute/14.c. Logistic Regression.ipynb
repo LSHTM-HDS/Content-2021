{
 "cells": [
  {
   "cell_type": "markdown",
   "metadata": {
    "hideCode": false,
    "hidePrompt": false
   },
   "source": [
    "## 14.2 The dementia dataset\n",
    "\n",
    "The dementia dataset we will work with all along this logistic regression module is a simulated dataset that gathers medical history data of 200.000 subjects and their dementia status. Below are the first lines of the dataset."
   ]
  },
  {
   "cell_type": "code",
   "execution_count": 1,
   "metadata": {
    "hideCode": false,
    "hidePrompt": false
   },
   "outputs": [
    {
     "name": "stderr",
     "output_type": "stream",
     "text": [
      "Warning message in file(file, \"rt\"):\n",
      "\"cannot open file 'dementia.csv': No such file or directory\""
     ]
    },
    {
     "ename": "ERROR",
     "evalue": "Error in file(file, \"rt\"): cannot open the connection\n",
     "output_type": "error",
     "traceback": [
      "Error in file(file, \"rt\"): cannot open the connection\nTraceback:\n",
      "1. read.csv(\"dementia.csv\")",
      "2. read.table(file = file, header = header, sep = sep, quote = quote, \n .     dec = dec, fill = fill, comment.char = comment.char, ...)",
      "3. file(file, \"rt\")"
     ]
    }
   ],
   "source": [
    "# we load the dataset and display its first lines\n",
    "dementia <- read.csv(\"dementia.csv\")\n",
    "head(dementia)"
   ]
  },
  {
   "cell_type": "markdown",
   "metadata": {
    "hideCode": false,
    "hidePrompt": false
   },
   "source": [
    "It contains several variables"
   ]
  },
  {
   "cell_type": "code",
   "execution_count": 3,
   "metadata": {
    "hideCode": false,
    "hidePrompt": false
   },
   "outputs": [
    {
     "data": {
      "text/html": [
       "<ol class=list-inline>\n",
       "\t<li>'id'</li>\n",
       "\t<li>'prac'</li>\n",
       "\t<li>'pr_lcd'</li>\n",
       "\t<li>'sex'</li>\n",
       "\t<li>'age'</li>\n",
       "\t<li>'bmi'</li>\n",
       "\t<li>'bmi_category'</li>\n",
       "\t<li>'consultations'</li>\n",
       "\t<li>'agegp'</li>\n",
       "\t<li>'alcohol'</li>\n",
       "\t<li>'smoke'</li>\n",
       "\t<li>'smoke_curr'</li>\n",
       "\t<li>'mi'</li>\n",
       "\t<li>'stroke'</li>\n",
       "\t<li>'diabetes'</li>\n",
       "\t<li>'statin'</li>\n",
       "\t<li>'antihyper'</li>\n",
       "\t<li>'index_date'</li>\n",
       "\t<li>'year'</li>\n",
       "\t<li>'timetodeath'</li>\n",
       "\t<li>'mortality'</li>\n",
       "\t<li>'date_death'</li>\n",
       "\t<li>'timetodementia'</li>\n",
       "\t<li>'dementia'</li>\n",
       "\t<li>'date_dementia'</li>\n",
       "\t<li>'end_date'</li>\n",
       "\t<li>'dob'</li>\n",
       "\t<li>'rsample'</li>\n",
       "\t<li>'vitd'</li>\n",
       "\t<li>'lp'</li>\n",
       "</ol>\n"
      ],
      "text/latex": [
       "\\begin{enumerate*}\n",
       "\\item 'id'\n",
       "\\item 'prac'\n",
       "\\item 'pr\\_lcd'\n",
       "\\item 'sex'\n",
       "\\item 'age'\n",
       "\\item 'bmi'\n",
       "\\item 'bmi\\_category'\n",
       "\\item 'consultations'\n",
       "\\item 'agegp'\n",
       "\\item 'alcohol'\n",
       "\\item 'smoke'\n",
       "\\item 'smoke\\_curr'\n",
       "\\item 'mi'\n",
       "\\item 'stroke'\n",
       "\\item 'diabetes'\n",
       "\\item 'statin'\n",
       "\\item 'antihyper'\n",
       "\\item 'index\\_date'\n",
       "\\item 'year'\n",
       "\\item 'timetodeath'\n",
       "\\item 'mortality'\n",
       "\\item 'date\\_death'\n",
       "\\item 'timetodementia'\n",
       "\\item 'dementia'\n",
       "\\item 'date\\_dementia'\n",
       "\\item 'end\\_date'\n",
       "\\item 'dob'\n",
       "\\item 'rsample'\n",
       "\\item 'vitd'\n",
       "\\item 'lp'\n",
       "\\end{enumerate*}\n"
      ],
      "text/markdown": [
       "1. 'id'\n",
       "2. 'prac'\n",
       "3. 'pr_lcd'\n",
       "4. 'sex'\n",
       "5. 'age'\n",
       "6. 'bmi'\n",
       "7. 'bmi_category'\n",
       "8. 'consultations'\n",
       "9. 'agegp'\n",
       "10. 'alcohol'\n",
       "11. 'smoke'\n",
       "12. 'smoke_curr'\n",
       "13. 'mi'\n",
       "14. 'stroke'\n",
       "15. 'diabetes'\n",
       "16. 'statin'\n",
       "17. 'antihyper'\n",
       "18. 'index_date'\n",
       "19. 'year'\n",
       "20. 'timetodeath'\n",
       "21. 'mortality'\n",
       "22. 'date_death'\n",
       "23. 'timetodementia'\n",
       "24. 'dementia'\n",
       "25. 'date_dementia'\n",
       "26. 'end_date'\n",
       "27. 'dob'\n",
       "28. 'rsample'\n",
       "29. 'vitd'\n",
       "30. 'lp'\n",
       "\n",
       "\n"
      ],
      "text/plain": [
       " [1] \"id\"             \"prac\"           \"pr_lcd\"         \"sex\"           \n",
       " [5] \"age\"            \"bmi\"            \"bmi_category\"   \"consultations\" \n",
       " [9] \"agegp\"          \"alcohol\"        \"smoke\"          \"smoke_curr\"    \n",
       "[13] \"mi\"             \"stroke\"         \"diabetes\"       \"statin\"        \n",
       "[17] \"antihyper\"      \"index_date\"     \"year\"           \"timetodeath\"   \n",
       "[21] \"mortality\"      \"date_death\"     \"timetodementia\" \"dementia\"      \n",
       "[25] \"date_dementia\"  \"end_date\"       \"dob\"            \"rsample\"       \n",
       "[29] \"vitd\"           \"lp\"            "
      ]
     },
     "metadata": {},
     "output_type": "display_data"
    }
   ],
   "source": [
    "names(dementia)"
   ]
  },
  {
   "cell_type": "markdown",
   "metadata": {
    "hideCode": false,
    "hidePrompt": false
   },
   "source": [
    "and here are the one that we will use during this course\n",
    "\n",
    "* id: a variable that identifies a patient\n",
    "* sex: a factor variable that gives the sex of the patient ($0$ for men, $1$ for women)\n",
    "* age: a numeric variable that gives the age in years of the patient at his inclusion in the study\n",
    "* bmi: a numeric variable that gives the bmi of the patient at his inclusion in the study\n",
    "* mortality: an indicator variable that equals $1$ if the patient has died since his inclusion, $0$ if not\n",
    "* dementia: an indicator variable that equals $1$ if the patient has become demented, $0$ if not\n",
    "\n",
    "Here, in this lecture, the outcome of interest will be dementia."
   ]
  },
  {
   "cell_type": "code",
   "execution_count": null,
   "metadata": {},
   "outputs": [],
   "source": []
  }
 ],
 "metadata": {
  "hide_code_all_hidden": false,
  "kernelspec": {
   "display_name": "R",
   "language": "R",
   "name": "ir"
  },
  "language_info": {
   "codemirror_mode": "r",
   "file_extension": ".r",
   "mimetype": "text/x-r-source",
   "name": "R",
   "pygments_lexer": "r",
   "version": "3.6.1"
  }
 },
 "nbformat": 4,
 "nbformat_minor": 4
}