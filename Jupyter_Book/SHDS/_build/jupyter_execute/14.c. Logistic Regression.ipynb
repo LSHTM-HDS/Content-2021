{
 "cells": [
  {
   "cell_type": "markdown",
   "metadata": {
    "hideCode": false,
    "hidePrompt": false
   },
   "source": [
    "## 14.2 The dementia dataset\n",
    "\n",
    "The dementia dataset we will work with all along this logistic regression module is a simulated dataset that gathers medical history data of 200.000 subjects and their dementia status. Below are the first lines of the dataset."
   ]
  },
  {
   "cell_type": "code",
   "execution_count": 1,
   "metadata": {
    "hideCode": false,
    "hidePrompt": false
   },
   "outputs": [
    {
     "data": {
      "text/html": [
       "<table>\n",
       "<thead><tr><th scope=col>id</th><th scope=col>prac</th><th scope=col>pr_lcd</th><th scope=col>sex</th><th scope=col>age</th><th scope=col>bmi</th><th scope=col>bmi_category</th><th scope=col>consultations</th><th scope=col>agegp</th><th scope=col>alcohol</th><th scope=col>...</th><th scope=col>mortality</th><th scope=col>date_death</th><th scope=col>timetodementia</th><th scope=col>dementia</th><th scope=col>date_dementia</th><th scope=col>end_date</th><th scope=col>dob</th><th scope=col>rsample</th><th scope=col>vitd</th><th scope=col>lp</th></tr></thead>\n",
       "<tbody>\n",
       "\t<tr><td> 23189                                                           </td><td>142                                                              </td><td>08dec2009                                                        </td><td>1                                                                </td><td>53                                                               </td><td>20.4                                                             </td><td><span style=white-space:pre-wrap>Normal (18.5-&lt;25)     </span></td><td>12                                                               </td><td>50                                                               </td><td>3-6 units/day                                                    </td><td>...                                                              </td><td>0                                                                </td><td>                                                                 </td><td>NA                                                               </td><td>0                                                                </td><td>                                                                 </td><td>08dec2009                                                        </td><td>01nov1941                                                        </td><td>1                                                                </td><td><span style=white-space:pre-wrap>      NA</span>                 </td><td>-0.8153054                                                       </td></tr>\n",
       "\t<tr><td> 92186                                                           </td><td>132                                                              </td><td>03feb2003                                                        </td><td>0                                                                </td><td>73                                                               </td><td>21.5                                                             </td><td><span style=white-space:pre-wrap>Normal (18.5-&lt;25)     </span></td><td> 4                                                               </td><td>70                                                               </td><td>&lt;2 units/day                                                  </td><td>...                                                              </td><td>0                                                                </td><td>                                                                 </td><td>NA                                                               </td><td>0                                                                </td><td>                                                                 </td><td>03feb2003                                                        </td><td>16jan1928                                                        </td><td>1                                                                </td><td><span style=white-space:pre-wrap>      NA</span>                 </td><td>-1.2268275                                                       </td></tr>\n",
       "\t<tr><td>187963                                                           </td><td> 43                                                              </td><td>06jul2001                                                        </td><td>0                                                                </td><td>40                                                               </td><td>27.1                                                             </td><td><span style=white-space:pre-wrap>Overweight (25-&lt;30)   </span></td><td> 0                                                               </td><td>40                                                               </td><td>&lt;2 units/day                                                  </td><td>...                                                              </td><td>0                                                                </td><td>                                                                 </td><td>NA                                                               </td><td>0                                                                </td><td>                                                                 </td><td>06jul2001                                                        </td><td>18jun1961                                                        </td><td>1                                                                </td><td><span style=white-space:pre-wrap>      NA</span>                 </td><td>-0.6602434                                                       </td></tr>\n",
       "\t<tr><td>148379                                                           </td><td>215                                                              </td><td>08mar2012                                                        </td><td>1                                                                </td><td>40                                                               </td><td>20.9                                                             </td><td><span style=white-space:pre-wrap>Normal (18.5-&lt;25)     </span></td><td> 3                                                               </td><td>40                                                               </td><td>&lt;2 units/day                                                  </td><td>...                                                              </td><td>0                                                                </td><td>                                                                 </td><td>NA                                                               </td><td>0                                                                </td><td>                                                                 </td><td>08mar2012                                                        </td><td>10feb1952                                                        </td><td>1                                                                </td><td>23.22692                                                         </td><td>-0.9507329                                                       </td></tr>\n",
       "\t<tr><td> 44194                                               </td><td>225                                                  </td><td>02feb2011                                            </td><td>1                                                    </td><td>92                                                   </td><td>32.5                                                 </td><td>Obese class I (30-&lt;35)                            </td><td>10                                                   </td><td>90                                                   </td><td><span style=white-space:pre-wrap>Non drinker  </span></td><td>...                                                  </td><td>0                                                    </td><td>                                                     </td><td>NA                                                   </td><td>0                                                    </td><td>                                                     </td><td>02feb2011                                            </td><td>09dec1912                                            </td><td>1                                                    </td><td><span style=white-space:pre-wrap>      NA</span>     </td><td> 1.0403746                                           </td></tr>\n",
       "\t<tr><td>169915                                                           </td><td>175                                                              </td><td>02nov2011                                                        </td><td>1                                                                </td><td>55                                                               </td><td>26.3                                                             </td><td><span style=white-space:pre-wrap>Overweight (25-&lt;30)   </span></td><td> 3                                                               </td><td>55                                                               </td><td>3-6 units/day                                                    </td><td>...                                                              </td><td>0                                                                </td><td>                                                                 </td><td>NA                                                               </td><td>0                                                                </td><td>                                                                 </td><td>02nov2011                                                        </td><td>06oct1946                                                        </td><td>1                                                                </td><td><span style=white-space:pre-wrap>      NA</span>                 </td><td>-0.1080445                                                       </td></tr>\n",
       "</tbody>\n",
       "</table>\n"
      ],
      "text/latex": [
       "\\begin{tabular}{r|llllllllllllllllllllllllllllll}\n",
       " id & prac & pr\\_lcd & sex & age & bmi & bmi\\_category & consultations & agegp & alcohol & ... & mortality & date\\_death & timetodementia & dementia & date\\_dementia & end\\_date & dob & rsample & vitd & lp\\\\\n",
       "\\hline\n",
       "\t  23189                 & 142                    & 08dec2009              & 1                      & 53                     & 20.4                   & Normal (18.5-<25)      & 12                     & 50                     & 3-6 units/day          & ...                    & 0                      &                        & NA                     & 0                      &                        & 08dec2009              & 01nov1941              & 1                      &       NA               & -0.8153054            \\\\\n",
       "\t  92186                 & 132                    & 03feb2003              & 0                      & 73                     & 21.5                   & Normal (18.5-<25)      &  4                     & 70                     & <2 units/day           & ...                    & 0                      &                        & NA                     & 0                      &                        & 03feb2003              & 16jan1928              & 1                      &       NA               & -1.2268275            \\\\\n",
       "\t 187963                 &  43                    & 06jul2001              & 0                      & 40                     & 27.1                   & Overweight (25-<30)    &  0                     & 40                     & <2 units/day           & ...                    & 0                      &                        & NA                     & 0                      &                        & 06jul2001              & 18jun1961              & 1                      &       NA               & -0.6602434            \\\\\n",
       "\t 148379                 & 215                    & 08mar2012              & 1                      & 40                     & 20.9                   & Normal (18.5-<25)      &  3                     & 40                     & <2 units/day           & ...                    & 0                      &                        & NA                     & 0                      &                        & 08mar2012              & 10feb1952              & 1                      & 23.22692               & -0.9507329            \\\\\n",
       "\t  44194                 & 225                    & 02feb2011              & 1                      & 92                     & 32.5                   & Obese class I (30-<35) & 10                     & 90                     & Non drinker            & ...                    & 0                      &                        & NA                     & 0                      &                        & 02feb2011              & 09dec1912              & 1                      &       NA               &  1.0403746            \\\\\n",
       "\t 169915                 & 175                    & 02nov2011              & 1                      & 55                     & 26.3                   & Overweight (25-<30)    &  3                     & 55                     & 3-6 units/day          & ...                    & 0                      &                        & NA                     & 0                      &                        & 02nov2011              & 06oct1946              & 1                      &       NA               & -0.1080445            \\\\\n",
       "\\end{tabular}\n"
      ],
      "text/markdown": [
       "\n",
       "| id | prac | pr_lcd | sex | age | bmi | bmi_category | consultations | agegp | alcohol | ... | mortality | date_death | timetodementia | dementia | date_dementia | end_date | dob | rsample | vitd | lp |\n",
       "|---|---|---|---|---|---|---|---|---|---|---|---|---|---|---|---|---|---|---|---|---|\n",
       "|  23189                 | 142                    | 08dec2009              | 1                      | 53                     | 20.4                   | Normal (18.5-<25)      | 12                     | 50                     | 3-6 units/day          | ...                    | 0                      |                        | NA                     | 0                      |                        | 08dec2009              | 01nov1941              | 1                      |       NA               | -0.8153054             |\n",
       "|  92186                 | 132                    | 03feb2003              | 0                      | 73                     | 21.5                   | Normal (18.5-<25)      |  4                     | 70                     | <2 units/day           | ...                    | 0                      |                        | NA                     | 0                      |                        | 03feb2003              | 16jan1928              | 1                      |       NA               | -1.2268275             |\n",
       "| 187963                 |  43                    | 06jul2001              | 0                      | 40                     | 27.1                   | Overweight (25-<30)    |  0                     | 40                     | <2 units/day           | ...                    | 0                      |                        | NA                     | 0                      |                        | 06jul2001              | 18jun1961              | 1                      |       NA               | -0.6602434             |\n",
       "| 148379                 | 215                    | 08mar2012              | 1                      | 40                     | 20.9                   | Normal (18.5-<25)      |  3                     | 40                     | <2 units/day           | ...                    | 0                      |                        | NA                     | 0                      |                        | 08mar2012              | 10feb1952              | 1                      | 23.22692               | -0.9507329             |\n",
       "|  44194                 | 225                    | 02feb2011              | 1                      | 92                     | 32.5                   | Obese class I (30-<35) | 10                     | 90                     | Non drinker            | ...                    | 0                      |                        | NA                     | 0                      |                        | 02feb2011              | 09dec1912              | 1                      |       NA               |  1.0403746             |\n",
       "| 169915                 | 175                    | 02nov2011              | 1                      | 55                     | 26.3                   | Overweight (25-<30)    |  3                     | 55                     | 3-6 units/day          | ...                    | 0                      |                        | NA                     | 0                      |                        | 02nov2011              | 06oct1946              | 1                      |       NA               | -0.1080445             |\n",
       "\n"
      ],
      "text/plain": [
       "  id     prac pr_lcd    sex age bmi  bmi_category           consultations agegp\n",
       "1  23189 142  08dec2009 1   53  20.4 Normal (18.5-<25)      12            50   \n",
       "2  92186 132  03feb2003 0   73  21.5 Normal (18.5-<25)       4            70   \n",
       "3 187963  43  06jul2001 0   40  27.1 Overweight (25-<30)     0            40   \n",
       "4 148379 215  08mar2012 1   40  20.9 Normal (18.5-<25)       3            40   \n",
       "5  44194 225  02feb2011 1   92  32.5 Obese class I (30-<35) 10            90   \n",
       "6 169915 175  02nov2011 1   55  26.3 Overweight (25-<30)     3            55   \n",
       "  alcohol       ... mortality date_death timetodementia dementia date_dementia\n",
       "1 3-6 units/day ... 0                    NA             0                     \n",
       "2 <2 units/day  ... 0                    NA             0                     \n",
       "3 <2 units/day  ... 0                    NA             0                     \n",
       "4 <2 units/day  ... 0                    NA             0                     \n",
       "5 Non drinker   ... 0                    NA             0                     \n",
       "6 3-6 units/day ... 0                    NA             0                     \n",
       "  end_date  dob       rsample vitd     lp        \n",
       "1 08dec2009 01nov1941 1             NA -0.8153054\n",
       "2 03feb2003 16jan1928 1             NA -1.2268275\n",
       "3 06jul2001 18jun1961 1             NA -0.6602434\n",
       "4 08mar2012 10feb1952 1       23.22692 -0.9507329\n",
       "5 02feb2011 09dec1912 1             NA  1.0403746\n",
       "6 02nov2011 06oct1946 1             NA -0.1080445"
      ]
     },
     "metadata": {},
     "output_type": "display_data"
    }
   ],
   "source": [
    "# we load the dataset and display its first lines\n",
    "dementia <- read.csv(\"Practicals/Datasets/Dementia/dementia2.csv\")\n",
    "head(dementia)"
   ]
  },
  {
   "cell_type": "markdown",
   "metadata": {
    "hideCode": false,
    "hidePrompt": false
   },
   "source": [
    "It contains several variables"
   ]
  },
  {
   "cell_type": "code",
   "execution_count": 2,
   "metadata": {
    "hideCode": false,
    "hidePrompt": false
   },
   "outputs": [
    {
     "data": {
      "text/html": [
       "<ol class=list-inline>\n",
       "\t<li>'id'</li>\n",
       "\t<li>'prac'</li>\n",
       "\t<li>'pr_lcd'</li>\n",
       "\t<li>'sex'</li>\n",
       "\t<li>'age'</li>\n",
       "\t<li>'bmi'</li>\n",
       "\t<li>'bmi_category'</li>\n",
       "\t<li>'consultations'</li>\n",
       "\t<li>'agegp'</li>\n",
       "\t<li>'alcohol'</li>\n",
       "\t<li>'smoke'</li>\n",
       "\t<li>'smoke_curr'</li>\n",
       "\t<li>'mi'</li>\n",
       "\t<li>'stroke'</li>\n",
       "\t<li>'diabetes'</li>\n",
       "\t<li>'statin'</li>\n",
       "\t<li>'antihyper'</li>\n",
       "\t<li>'index_date'</li>\n",
       "\t<li>'year'</li>\n",
       "\t<li>'timetodeath'</li>\n",
       "\t<li>'mortality'</li>\n",
       "\t<li>'date_death'</li>\n",
       "\t<li>'timetodementia'</li>\n",
       "\t<li>'dementia'</li>\n",
       "\t<li>'date_dementia'</li>\n",
       "\t<li>'end_date'</li>\n",
       "\t<li>'dob'</li>\n",
       "\t<li>'rsample'</li>\n",
       "\t<li>'vitd'</li>\n",
       "\t<li>'lp'</li>\n",
       "</ol>\n"
      ],
      "text/latex": [
       "\\begin{enumerate*}\n",
       "\\item 'id'\n",
       "\\item 'prac'\n",
       "\\item 'pr\\_lcd'\n",
       "\\item 'sex'\n",
       "\\item 'age'\n",
       "\\item 'bmi'\n",
       "\\item 'bmi\\_category'\n",
       "\\item 'consultations'\n",
       "\\item 'agegp'\n",
       "\\item 'alcohol'\n",
       "\\item 'smoke'\n",
       "\\item 'smoke\\_curr'\n",
       "\\item 'mi'\n",
       "\\item 'stroke'\n",
       "\\item 'diabetes'\n",
       "\\item 'statin'\n",
       "\\item 'antihyper'\n",
       "\\item 'index\\_date'\n",
       "\\item 'year'\n",
       "\\item 'timetodeath'\n",
       "\\item 'mortality'\n",
       "\\item 'date\\_death'\n",
       "\\item 'timetodementia'\n",
       "\\item 'dementia'\n",
       "\\item 'date\\_dementia'\n",
       "\\item 'end\\_date'\n",
       "\\item 'dob'\n",
       "\\item 'rsample'\n",
       "\\item 'vitd'\n",
       "\\item 'lp'\n",
       "\\end{enumerate*}\n"
      ],
      "text/markdown": [
       "1. 'id'\n",
       "2. 'prac'\n",
       "3. 'pr_lcd'\n",
       "4. 'sex'\n",
       "5. 'age'\n",
       "6. 'bmi'\n",
       "7. 'bmi_category'\n",
       "8. 'consultations'\n",
       "9. 'agegp'\n",
       "10. 'alcohol'\n",
       "11. 'smoke'\n",
       "12. 'smoke_curr'\n",
       "13. 'mi'\n",
       "14. 'stroke'\n",
       "15. 'diabetes'\n",
       "16. 'statin'\n",
       "17. 'antihyper'\n",
       "18. 'index_date'\n",
       "19. 'year'\n",
       "20. 'timetodeath'\n",
       "21. 'mortality'\n",
       "22. 'date_death'\n",
       "23. 'timetodementia'\n",
       "24. 'dementia'\n",
       "25. 'date_dementia'\n",
       "26. 'end_date'\n",
       "27. 'dob'\n",
       "28. 'rsample'\n",
       "29. 'vitd'\n",
       "30. 'lp'\n",
       "\n",
       "\n"
      ],
      "text/plain": [
       " [1] \"id\"             \"prac\"           \"pr_lcd\"         \"sex\"           \n",
       " [5] \"age\"            \"bmi\"            \"bmi_category\"   \"consultations\" \n",
       " [9] \"agegp\"          \"alcohol\"        \"smoke\"          \"smoke_curr\"    \n",
       "[13] \"mi\"             \"stroke\"         \"diabetes\"       \"statin\"        \n",
       "[17] \"antihyper\"      \"index_date\"     \"year\"           \"timetodeath\"   \n",
       "[21] \"mortality\"      \"date_death\"     \"timetodementia\" \"dementia\"      \n",
       "[25] \"date_dementia\"  \"end_date\"       \"dob\"            \"rsample\"       \n",
       "[29] \"vitd\"           \"lp\"            "
      ]
     },
     "metadata": {},
     "output_type": "display_data"
    }
   ],
   "source": [
    "names(dementia)"
   ]
  },
  {
   "cell_type": "markdown",
   "metadata": {
    "hideCode": false,
    "hidePrompt": false
   },
   "source": [
    "and here are the one that we will use during this course\n",
    "\n",
    "* id: a variable that identifies a patient\n",
    "* sex: a factor variable that gives the sex of the patient ($0$ for men, $1$ for women)\n",
    "* age: a numeric variable that gives the age in years of the patient at his inclusion in the study\n",
    "* bmi: a numeric variable that gives the bmi of the patient at his inclusion in the study\n",
    "* mortality: an indicator variable that equals $1$ if the patient has died since his inclusion, $0$ if not\n",
    "* dementia: an indicator variable that equals $1$ if the patient has become demented, $0$ if not\n",
    "\n",
    "Here, in this lecture, the outcome of interest will be dementia."
   ]
  },
  {
   "cell_type": "code",
   "execution_count": null,
   "metadata": {},
   "outputs": [],
   "source": []
  }
 ],
 "metadata": {
  "hide_code_all_hidden": false,
  "kernelspec": {
   "display_name": "R",
   "language": "R",
   "name": "ir"
  },
  "language_info": {
   "codemirror_mode": "r",
   "file_extension": ".r",
   "mimetype": "text/x-r-source",
   "name": "R",
   "pygments_lexer": "r",
   "version": "3.6.1"
  }
 },
 "nbformat": 4,
 "nbformat_minor": 4
}