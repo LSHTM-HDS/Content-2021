{
 "cells": [
  {
   "cell_type": "markdown",
   "metadata": {},
   "source": [
    "## 9.8 Conjugacy \n",
    "\n",
    "In the example with the Beta-Binomial model, we found that using the Beta distribution for the prior lead us to a posterior distribution that is also a Beta distribution. This is not a coincidence. Often, a particular distributional family is chosen for the prior, so that the resulting posterior distribution belongs to the same family. This is called a conjugate prior. Below are the conjugate priors for some common likelihood models. \n",
    "\n",
    "| Likelihood | Conjugate Prior | \n",
    "|:-|:-|\n",
    "| Bernoulli | Beta | \n",
    "| Binomial | Beta |\n",
    "| Poisson | Gamma |\n",
    "| Geometric | Beta |\n",
    "| Normal | Normal, Gamma and a few others |\n",
    "| Exponential | Gamma |\n",
    "| Gamma | Gamma |\n",
    "\n",
    "### 9.8.1 Exercise \n",
    "\n",
    "Suppose that there is an experiment where $n$ patients are asked to try different treatments each time they get a headache. We are interested in the number of different treatments a patient takes before they find one that is successful. For patient $i$, for $1 \\leq i \\leq n$, we denote by $y_i$ the number of treatments tried before the first success. Note that $\\left\\{ y_1, y_2, ..., y_n \\right\\}$ are a sample from a Geometric distribution: $y_i \\sim Geom(\\theta)$. The probability density function of a geometric distribution is: \n",
    "\n",
    "$$p(y | \\theta) = \\theta (\\theta -1)^{y-1}$$\n",
    "\n",
    "Suppose we wish to make inference on $\\theta$. By specifying a Beta prior for $\\theta$: $\\theta \\sim Beta(a, b)$, derive the posterior distribution of $\\theta$. \n",
    "\n",
    "Solution: \n",
    "\n",
    "\n",
    "\\begin{align}\n",
    "\\begin{split}\n",
    "p(\\theta \\mid y_1, ..., y_n) \n",
    "        & \\propto  p(\\theta) \\prod_{i=1}^n p(y_i \\mid \\theta)\\\\\n",
    "               & \\propto  \\frac{\\Gamma(a+ b)}{ \\Gamma(a)\\Gamma(b) } \\theta^{a-1} (1-\\theta)^{b-1} \\prod_{i=1}^n \\theta (\\theta -1)^{y-1}\\\\\n",
    "       & \\propto  \\frac{\\Gamma(a+ b)}{ \\Gamma(a)\\Gamma(b) } \\theta^{a-1} (1-\\theta)^{b-1}  \\theta^n (\\theta -1)^{\\sum_{i=1}^n y_i-n}\\\\\n",
    "       & \\propto  \\theta^{a+n-1} (\\theta -1)^{\\sum_{i=1}^n y_i -n +b-1}\n",
    "\\end{split}\n",
    "\\end{align}\n",
    "\n",
    "This is a Beta distribution with parameters $a+n$ and $\\sum_{i=1}^n y_i-n+b$."
   ]
  },
  {
   "cell_type": "code",
   "execution_count": null,
   "metadata": {},
   "outputs": [],
   "source": []
  }
 ],
 "metadata": {
  "kernelspec": {
   "display_name": "R",
   "language": "R",
   "name": "ir"
  },
  "language_info": {
   "codemirror_mode": "r",
   "file_extension": ".r",
   "mimetype": "text/x-r-source",
   "name": "R",
   "pygments_lexer": "r",
   "version": "3.6.1"
  }
 },
 "nbformat": 4,
 "nbformat_minor": 4
}