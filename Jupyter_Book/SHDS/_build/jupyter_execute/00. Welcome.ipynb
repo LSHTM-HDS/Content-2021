{
 "cells": [
  {
   "cell_type": "markdown",
   "metadata": {},
   "source": [
    "# Welcome to Statistics for Health Data Science"
   ]
  },
  {
   "cell_type": "markdown",
   "metadata": {},
   "source": [
    "These notes provide the core material for the MSc module, Statistics for Health Data Science.\n",
    "\n",
    "\n",
    "This is a compulsory module for the programme MSc Health Data Science. The module provides an introduction to the key statistical concepts and methods for health data science. Topics covered include probability, initial data description and\n",
    "exploration, frequentist and Bayesian approaches to statistical inference and  regression modelling. These topics provide the framework needed for subsequent modules. The module places a focus on learning through practical examples and incorporates directed learning, lectures, group discussion, and computer practical exercises."
   ]
  },
  {
   "cell_type": "markdown",
   "metadata": {},
   "source": [
    "## 1.1 Overall aim of the module\n",
    "\n",
    "The overall module aims are to introduce:\n",
    "\n",
    "* the motivation and critical thinking towards solving a question in health science through interrogation of data and drawing conclusions from evidence; \n",
    "* the principles of probability, regression modelling and statistical inference within frequentist and Bayesian frameworks."
   ]
  },
  {
   "cell_type": "markdown",
   "metadata": {},
   "source": [
    "\n",
    "\n",
    "## 1.2 Module Intended Learning Outcomes\n",
    "\n",
    "<div class=\"alert alert-block alert-warning\">\n",
    "<b> Intended learning outcomes</b> \n",
    "    \n",
    "Upon successful completion of the module you will be able to:\n",
    " * evaluate the application of different probability distributions to model health data (including Poisson, Binomial and Normal);\n",
    " * critically analyse frameworks for frequentist and Bayesian inference and evaluate their strengths, limitations and differences;\n",
    " * examine the concepts of sampling variability, estimators, bias, confidence intervals and credible intervals;\n",
    " * examine the theoretical basis of linear regression and generalized linear models;\n",
    " * assess the application of regression modelling to address specific health data science questions;\n",
    " * critically evaluate strengths and limitations of different statistical methods, including regression models, within a health data science project;\n",
    " * draw conclusions from the results of a data analysis and justify those conclusions, appropriately acknowledging uncertainty in the results. \n",
    "</div>\n",
    "\n",
    "\n",
    "\n",
    "## 1.3 Module Content\n",
    "The module is split into 16 sessions, each building statistical knowledge for health data science. The sessions are:\n",
    "1. Introduction\n",
    "2. Probability and Discrete Probability Distributions\n",
    "3. Continuous Probability Distribution\n",
    "4. Populations and Sampling\n",
    "5. Likelihood\n",
    "6. Maximum Likelihood Estimation\n",
    "7. Frequentist Inference I\n",
    "8. Frequentist Inference II\n",
    "9. Bayesian Statistics I\n",
    "10. Bayesian Statistics II\n",
    "11. Types of Investigation\n",
    "12. Linear Regresion I\n",
    "13. Linear Regresion II\n",
    "14. GLM Logistic Regression\n",
    "15. GLM Poisson Regression\n",
    "16. Extensions: Confounding, Standardisation and Collapsibility\n"
   ]
  }
 ],
 "metadata": {
  "kernelspec": {
   "display_name": "Python 3",
   "language": "python",
   "name": "python3"
  },
  "language_info": {
   "codemirror_mode": {
    "name": "ipython",
    "version": 3
   },
   "file_extension": ".py",
   "mimetype": "text/x-python",
   "name": "python",
   "nbconvert_exporter": "python",
   "pygments_lexer": "ipython3",
   "version": "3.7.1"
  }
 },
 "nbformat": 4,
 "nbformat_minor": 4
}