{
 "cells": [
  {
   "cell_type": "markdown",
   "metadata": {},
   "source": [
    "# 9. Bayesian Statistics I"
   ]
  },
  {
   "cell_type": "markdown",
   "metadata": {},
   "source": [
    "So far in this module, we have looked at frequentist or classical statistical ideas, such as maximum likelihood estimation, hypothesis testing and p-values. Underlying the frequentist approach is the belief that there is a true state of reality, and that parameters have a fixed and true value. Probabilities are long-run frequencies; for example, the probability of a driver in London having a car accident is a fixed value between 0 and 1. A typical way of estimating this value is to take a sample of observations, construct a likelihood function for these observations, and to obtain the parameter value that maximizes the likelihood. When we take a Bayesian approach, the parameter we wish to estimate is considered to be a random variable, and probabilities may represent a subjective belief about the state of uncertainty, or there may be a data generating distribution underlying the random parameter. For example, you may have a prior belief about the probability of a driver in London having a car accident, and after collecting a sample of data, you combine your prior beliefs with the likelihood for those observations to construct an updated belief - the posterior. Your belief may change in light of the data. \n",
    "\n",
    "Bayesian methods sometimes require numerical integration, and cheaper computing has made Bayesian approaches more feasible in the last 20 years. Bayesian approaches are likely to be an important part of working in Health Data Science. In the next two sessions, we introduce the fundamental principles.\n",
    "\n",
    "The current session is split into two separate parts. The first introduces the basic concepts underlying Bayesian inference and the second applies the basic principles to a simple example using proportions."
   ]
  },
  {
   "cell_type": "markdown",
   "metadata": {},
   "source": [
    "<div class=\"alert alert-block alert-warning\">\n",
    "<b> Intended learning outcomes</b> \n",
    "\n",
    "<b> Part 1: </b> \n",
    "    \n",
    "By the end of this session you will be able to:\n",
    "* compare the notions of probability and likelihood in Bayesian and Frequentist paradigms  \n",
    "* explain the notions of prior and posterior distributions   \n",
    "* apply Bayes Theorem in the discrete case\n",
    "\n",
    "</b> </b> \n",
    "    \n",
    "<b> Part 2</b> \n",
    "\n",
    "By the end of this session you will be able to:\n",
    "\n",
    "* Understand and apply the basic principles of Bayesian analysis using proportions, specifically: \n",
    "    * use the beta distribution as a prior and derive the posterior distribution  \n",
    "    * obtain credible HPD intervals for the parameter    \n",
    "    * obtain prior and posterior predictive distributions  \n",
    "    * explain the concept of conjugate priors  \n",
    "\n",
    "</div>\n",
    "\n"
   ]
  },
  {
   "cell_type": "code",
   "execution_count": null,
   "metadata": {},
   "outputs": [],
   "source": []
  }
 ],
 "metadata": {
  "kernelspec": {
   "display_name": "R",
   "language": "R",
   "name": "ir"
  },
  "language_info": {
   "codemirror_mode": "r",
   "file_extension": ".r",
   "mimetype": "text/x-r-source",
   "name": "R",
   "pygments_lexer": "r",
   "version": "3.6.1"
  }
 },
 "nbformat": 4,
 "nbformat_minor": 4
}