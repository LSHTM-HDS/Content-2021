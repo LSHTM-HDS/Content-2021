{
 "cells": [
  {
   "cell_type": "markdown",
   "metadata": {},
   "source": [
    "# How to use this book"
   ]
  },
  {
   "cell_type": "markdown",
   "metadata": {},
   "source": [
    "This book contains the core content for the module. It is designed to be read in conjunction with the practical sessions and accompanying videos. \n",
    "\n",
    "Each numbered session has an accompanying lecture and practical session. Each section of the book additionally has a short summary of the contents of that section to help you build an overview of the material. The final sections of the book do not have accompanying taught sessions but have some brief comments to help you pull all the material together."
   ]
  },
  {
   "cell_type": "markdown",
   "metadata": {},
   "source": [
    "## R code\n",
    "\n",
    "Analyses are illustrated using R code. Each page which contains R code should be self-contained. You should be able to copy and paste each chunk of R code (using the little icon to the top-right of the code cell) into R and run all the code in that page. \n",
    "\n",
    "A number of packages will be required. These are loaded using the `library` function, at the appropriate points. If you are using your local version of R you may need to install these packages. Below, you will find code to install all packages used in these notes."
   ]
  },
  {
   "cell_type": "code",
   "execution_count": 1,
   "metadata": {
    "tags": [
     "remove_output"
    ]
   },
   "outputs": [
    {
     "name": "stdout",
     "output_type": "stream",
     "text": [
      "\n",
      "The downloaded binary packages are in\n",
      "\t/var/folders/jp/f50wn8ds35b_c2ns4tld6v6h0000gr/T//RtmpxQMrpa/downloaded_packages\n"
     ]
    },
    {
     "name": "stdout",
     "output_type": "stream",
     "text": [
      "\n",
      "The downloaded binary packages are in\n",
      "\t/var/folders/jp/f50wn8ds35b_c2ns4tld6v6h0000gr/T//RtmpxQMrpa/downloaded_packages\n"
     ]
    },
    {
     "name": "stdout",
     "output_type": "stream",
     "text": [
      "\n",
      "The downloaded binary packages are in\n",
      "\t/var/folders/jp/f50wn8ds35b_c2ns4tld6v6h0000gr/T//RtmpxQMrpa/downloaded_packages\n"
     ]
    },
    {
     "name": "stdout",
     "output_type": "stream",
     "text": [
      "\n",
      "The downloaded binary packages are in\n",
      "\t/var/folders/jp/f50wn8ds35b_c2ns4tld6v6h0000gr/T//RtmpxQMrpa/downloaded_packages\n"
     ]
    }
   ],
   "source": [
    "# Graphics package\n",
    "install.packages(\"ggplot2\")\n",
    "\n",
    "# Will be used for fitting some generalised models:\n",
    "install.packages(\"VGAM\")\n",
    "\n",
    "# Contains some useful goodness-of-fit diagnostics:\n",
    "install.packages(\"pscl\")\n",
    "\n",
    "install.packages(\"sandwich\")"
   ]
  },
  {
   "cell_type": "code",
   "execution_count": null,
   "metadata": {},
   "outputs": [],
   "source": []
  }
 ],
 "metadata": {
  "celltoolbar": "Tags",
  "kernelspec": {
   "display_name": "R",
   "language": "R",
   "name": "ir"
  },
  "language_info": {
   "codemirror_mode": "r",
   "file_extension": ".r",
   "mimetype": "text/x-r-source",
   "name": "R",
   "pygments_lexer": "r",
   "version": "4.0.4"
  },
  "metadata": {
   "execution": {
    "timeout": 100
   }
  }
 },
 "nbformat": 4,
 "nbformat_minor": 4
}