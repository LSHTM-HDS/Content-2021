{
 "cells": [
  {
   "cell_type": "markdown",
   "metadata": {},
   "source": [
    "# 15.5 Examples\n",
    "\n",
    "\n",
    "## 15.5.1 Dementia and sex\n",
    "\n",
    "We now return to the dementia dataset and explore the relationship between sex and diagnosis of dementia during the study period. In this is example, our outcome $Y$ is the binary variable of whether the patient was diagnosed with dementia during follow-up (1=yes, 0=no). Our single independent variable $S$ is sex (0=male, 1=female). The logistic regression model we will fit is:\n",
    "\n",
    "$$ \n",
    "\\mathrm{logit}(\\pi_i) = \\beta_0 + \\beta_1 s_i\n",
    "$$\n",
    "\n",
    "where $\\pi_i=E(Y| S=s_i)$. \n",
    "\n",
    "\n",
    "We will use the ```glm()``` to perform simple linear regressions in R. Click [here](https://www.rdocumentation.org/packages/stats/versions/3.6.2/topics/glm) for details of how this command works. \n",
    "\n",
    "The following code can be used to perform this logistic regression in R. We need to specify the formula for the model, which is very similar to the syntax used in linear regression modelling. In addition, we now need to tell R that we are using the `logit` function and that we are assuming that the data are assumed to follow a Bernoulli distribution (which, recall is a special case of the Binomial distribution)."
   ]
  },
  {
   "cell_type": "code",
   "execution_count": 1,
   "metadata": {
    "hideCode": false,
    "hidePrompt": false
   },
   "outputs": [
    {
     "data": {
      "text/plain": [
       "\n",
       "Call:\n",
       "glm(formula = dementia ~ sex, family = binomial(link = \"logit\"), \n",
       "    data = dementia)\n",
       "\n",
       "Deviance Residuals: \n",
       "    Min       1Q   Median       3Q      Max  \n",
       "-0.2211  -0.2211  -0.1771  -0.1771   2.8855  \n",
       "\n",
       "Coefficients:\n",
       "            Estimate Std. Error z value Pr(>|z|)    \n",
       "(Intercept) -4.14722    0.02439 -170.01   <2e-16 ***\n",
       "sex          0.44771    0.03264   13.72   <2e-16 ***\n",
       "---\n",
       "Signif. codes:  0 '***' 0.001 '**' 0.01 '*' 0.05 '.' 0.1 ' ' 1\n",
       "\n",
       "(Dispersion parameter for binomial family taken to be 1)\n",
       "\n",
       "    Null deviance: 38333  on 199999  degrees of freedom\n",
       "Residual deviance: 38143  on 199998  degrees of freedom\n",
       "AIC: 38147\n",
       "\n",
       "Number of Fisher Scoring iterations: 7\n"
      ]
     },
     "metadata": {},
     "output_type": "display_data"
    }
   ],
   "source": [
    "dementia <- read.csv(\"Practicals/Datasets/Dementia/dementia2.csv\")\n",
    "dementia1 <- glm(dementia ~ sex, data = dementia, family = binomial(link=\"logit\"))\n",
    "summary(dementia1)"
   ]
  },
  {
   "cell_type": "markdown",
   "metadata": {},
   "source": [
    "We interpret the two estimated coefficients as follows:\n",
    "\n",
    "- The estimated log-odds of dementia diagnosis among males (the \"baseline\" group, with $S=0$) is -4.147.\n",
    "- The estimated log odds ratio for females, compared with males, is 0.4477.\n",
    "\n",
    "For a slightly more intuitive interpretation, we will take the exponential transformation."
   ]
  },
  {
   "cell_type": "code",
   "execution_count": 2,
   "metadata": {
    "hideCode": false,
    "hidePrompt": false
   },
   "outputs": [
    {
     "data": {
      "text/html": [
       "<dl class=dl-horizontal>\n",
       "\t<dt>(Intercept)</dt>\n",
       "\t\t<dd>0.0158083366518193</dd>\n",
       "\t<dt>sex</dt>\n",
       "\t\t<dd>1.5647202094551</dd>\n",
       "</dl>\n"
      ],
      "text/latex": [
       "\\begin{description*}\n",
       "\\item[(Intercept)] 0.0158083366518193\n",
       "\\item[sex] 1.5647202094551\n",
       "\\end{description*}\n"
      ],
      "text/markdown": [
       "(Intercept)\n",
       ":   0.0158083366518193sex\n",
       ":   1.5647202094551\n",
       "\n"
      ],
      "text/plain": [
       "(Intercept)         sex \n",
       " 0.01580834  1.56472021 "
      ]
     },
     "metadata": {},
     "output_type": "display_data"
    }
   ],
   "source": [
    "exp(coefficients(dementia1))"
   ]
  },
  {
   "cell_type": "markdown",
   "metadata": {},
   "source": [
    "Now we can equivalently, and perhaps more intuitively, interpret the coefficients as follows:\n",
    "\n",
    "- The estimated odds of dementia diagnosis among males is 0.0158.\n",
    "- The estimated odds ratio for females, compared with males, is 1.576. In other words, the odds of dementia diagnosis among females is estimated to be 1.576 times higher than among males."
   ]
  },
  {
   "cell_type": "markdown",
   "metadata": {},
   "source": [
    "## 15.5.2 Dementia and age \n",
    "\n",
    "We now explore the relationship of dementia diagnosis and age, measured in years. In this is example, our outcome $Y$ remains dementia diagnosis, as above, but our single independent variable $A$ is age, measured in years. The logistic regression model we will fit is:\n",
    "\n",
    "$$ \n",
    "\\mathrm{logit}(\\pi_i) = \\beta_0 + \\beta_1 a_i\n",
    "$$\n",
    "\n",
    "where $\\pi_i=E(Y| A=a_i)$. "
   ]
  },
  {
   "cell_type": "code",
   "execution_count": 3,
   "metadata": {},
   "outputs": [
    {
     "data": {
      "text/plain": [
       "\n",
       "Call:\n",
       "glm(formula = dementia ~ age, family = binomial(link = \"logit\"), \n",
       "    data = dementia)\n",
       "\n",
       "Deviance Residuals: \n",
       "    Min       1Q   Median       3Q      Max  \n",
       "-0.9935  -0.1989  -0.1140  -0.0721   3.5947  \n",
       "\n",
       "Coefficients:\n",
       "              Estimate Std. Error z value Pr(>|z|)    \n",
       "(Intercept) -10.533958   0.103139 -102.13   <2e-16 ***\n",
       "age           0.101865   0.001402   72.66   <2e-16 ***\n",
       "---\n",
       "Signif. codes:  0 '***' 0.001 '**' 0.01 '*' 0.05 '.' 0.1 ' ' 1\n",
       "\n",
       "(Dispersion parameter for binomial family taken to be 1)\n",
       "\n",
       "    Null deviance: 38333  on 199999  degrees of freedom\n",
       "Residual deviance: 31876  on 199998  degrees of freedom\n",
       "AIC: 31880\n",
       "\n",
       "Number of Fisher Scoring iterations: 8\n"
      ]
     },
     "metadata": {},
     "output_type": "display_data"
    }
   ],
   "source": [
    "dementia2 <- glm(dementia ~ age, data = dementia, family = binomial(link=\"logit\"))\n",
    "summary(dementia2)"
   ]
  },
  {
   "cell_type": "markdown",
   "metadata": {},
   "source": [
    "We interpret the two estimated coefficients as follows:\n",
    "\n",
    "- The estimated log-odds of dementia diagnosis among people aged 0 is is -10.53. Of course, this is not a meaningful quantity. As for linear regression, we could center the age variable to provide an interpretable intercept. \n",
    "- The estimated log odds ratio for each increase of one year in age is 0.101.\n",
    "\n",
    "For a slightly more intuitive interpretation, we will take the exponential transformation."
   ]
  },
  {
   "cell_type": "code",
   "execution_count": 4,
   "metadata": {},
   "outputs": [
    {
     "data": {
      "text/html": [
       "<dl class=dl-horizontal>\n",
       "\t<dt>(Intercept)</dt>\n",
       "\t\t<dd>2.66170781376626e-05</dd>\n",
       "\t<dt>age</dt>\n",
       "\t\t<dd>1.10723429559232</dd>\n",
       "</dl>\n"
      ],
      "text/latex": [
       "\\begin{description*}\n",
       "\\item[(Intercept)] 2.66170781376626e-05\n",
       "\\item[age] 1.10723429559232\n",
       "\\end{description*}\n"
      ],
      "text/markdown": [
       "(Intercept)\n",
       ":   2.66170781376626e-05age\n",
       ":   1.10723429559232\n",
       "\n"
      ],
      "text/plain": [
       " (Intercept)          age \n",
       "2.661708e-05 1.107234e+00 "
      ]
     },
     "metadata": {},
     "output_type": "display_data"
    }
   ],
   "source": [
    "exp(coefficients(dementia2))"
   ]
  },
  {
   "cell_type": "markdown",
   "metadata": {},
   "source": [
    "Now we can interpret the two estimated coefficients as follows:\n",
    "\n",
    "- The estimated odds of dementia diagnosis among people aged 0 is is 2.66. \n",
    "- The estimated odds ratio for each increase of one year in age is 1.107. In other words, the estimated odds of dementia diagnosis is multiplied by 1.11 (or, increased by 11%) with each increase in year of age at study baseline. \n"
   ]
  },
  {
   "cell_type": "code",
   "execution_count": null,
   "metadata": {},
   "outputs": [],
   "source": []
  }
 ],
 "metadata": {
  "hide_code_all_hidden": false,
  "kernelspec": {
   "display_name": "R",
   "language": "R",
   "name": "ir"
  },
  "language_info": {
   "codemirror_mode": "r",
   "file_extension": ".r",
   "mimetype": "text/x-r-source",
   "name": "R",
   "pygments_lexer": "r",
   "version": "3.6.1"
  }
 },
 "nbformat": 4,
 "nbformat_minor": 4
}