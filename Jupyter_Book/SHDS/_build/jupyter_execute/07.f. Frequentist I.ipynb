{
 "cells": [
  {
   "cell_type": "markdown",
   "metadata": {},
   "source": [
    "## 7.5 Confidence Intervals using resampling\n",
    "\n",
    "We saw that we can often create an approximate sampling distribution by resampling from our sample data. This is particularly useful in situations where there is no algebraic derivation for the sampling distribution. \n",
    "\n",
    "We have seen that the important connection between sampling distributions and confidence intervals. So we would intuitively expect to be able to construct a confidence interval from the approximate sampling distribution we obtained using resampling. This is indeed possible. There are many ways of doing this, but the simplest and most intuitive method is the **bootstrap percentile confidence interval**. \n",
    "\n",
    "The basic idea is very simple. We construct an approximate sampling distribution using bootstrap samples, as we did previously. Then we take the 2.5th and 97.5th percentiles of that distribution (the value such that 2.5% of the observations - the estimates across bootstrap samples - lie below the value; and the value such that 2.5% of observations lie above the value, respectively). These form the limits of our 95% confidence interval. "
   ]
  },
  {
   "cell_type": "code",
   "execution_count": 6,
   "metadata": {},
   "outputs": [
    {
     "data": {
      "text/html": [
       "<dl class=dl-horizontal>\n",
       "\t<dt>2.5%</dt>\n",
       "\t\t<dd>26.798</dd>\n",
       "\t<dt>97.5%</dt>\n",
       "\t\t<dd>32.501</dd>\n",
       "</dl>\n"
      ],
      "text/latex": [
       "\\begin{description*}\n",
       "\\item[2.5\\textbackslash{}\\%] 26.798\n",
       "\\item[97.5\\textbackslash{}\\%] 32.501\n",
       "\\end{description*}\n"
      ],
      "text/markdown": [
       "2.5%\n",
       ":   26.79897.5%\n",
       ":   32.501\n",
       "\n"
      ],
      "text/plain": [
       "  2.5%  97.5% \n",
       "26.798 32.501 "
      ]
     },
     "metadata": {},
     "output_type": "display_data"
    },
    {
     "data": {
      "image/png": "[encoded data removed]",
      "text/plain": [
       "Plot with title \"Sampling distribution for mean \n",
       " with percentile 95% confidence limits\""
      ]
     },
     "metadata": {
      "filenames": {
       "image/png": "/Users/lsh1603970/Documents/GitHub/Content-2021/Jupyter_Book/SHDS/_build/jupyter_execute/07.f. Frequentist I_1_1.png"
      }
     },
     "output_type": "display_data"
    }
   ],
   "source": [
    "set.seed(78234) \n",
    "\n",
    "# Read in the sample of 10 ages\n",
    "ages <- c(28.1,27.5,25,29.9,29.7,29.9,39.9,33.6,21.3,30.8)\n",
    "\n",
    "# Draw bootstrap samples \n",
    "bootstrap_samples <- lapply(1:1039, function(i) sample(ages, replace = T))\n",
    "\n",
    "# Calculate sample means in each bootstrap sample\n",
    "r.mean <- sapply(bootstrap_samples, mean)\n",
    "\n",
    "# Obtain the 2.5th and 97.5th percentiles of the sample means across bootstrap samples\n",
    "(q<-quantile(r.mean, c(0.025, 0.975)))\n",
    "         \n",
    "# Draw the approximate sampling distribution with the percentile confidence limits marked in red\n",
    "options(repr.plot.width=4.5, repr.plot.height=4.5)\n",
    "hist(r.mean, freq=FALSE, main=\"Sampling distribution for mean \\n with percentile 95% confidence limits\", xlab=\"Sample mean\")\n",
    "abline(v=q, col=\"red\")\n"
   ]
  },
  {
   "cell_type": "markdown",
   "metadata": {},
   "source": [
    "The approximate 95% confidence interval for the mean age obtained by using the algebric approximation to the sampling distribution was: 26.6 to 32.5. The bootstrap percentile 95% confidence interval is: 26.8 to 32.5. We see that these intervals are very similar to one another, as we would expect. "
   ]
  }
 ],
 "metadata": {
  "kernelspec": {
   "display_name": "R",
   "language": "R",
   "name": "ir"
  },
  "language_info": {
   "codemirror_mode": "r",
   "file_extension": ".r",
   "mimetype": "text/x-r-source",
   "name": "R",
   "pygments_lexer": "r",
   "version": "3.6.1"
  }
 },
 "nbformat": 4,
 "nbformat_minor": 4
}