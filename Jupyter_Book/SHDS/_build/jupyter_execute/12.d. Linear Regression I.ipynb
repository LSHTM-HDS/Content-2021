{
 "cells": [
  {
   "cell_type": "markdown",
   "metadata": {},
   "source": [
    "# 12.3 The simple linear regression model \n",
    "\n",
    "The equation for the simple linear regression model, relating $X$ and $Y$ is:\n",
    "\n",
    "$$\n",
    "Y = \\beta_0 + \\beta_1 X + \\epsilon \n",
    "$$\n",
    "\n",
    "There are two components of this model: the **linear predictor** and the **error term**. The linear predictor represents the variation in $Y$ that can be predicted using the model: $\\beta_0 + \\beta_1 X$. The error term, denoted by $\\epsilon$, represents the variation in $Y$ that cannot be predicted (by a linear relationship with $X$). This variation is sometimes referred to as the **random error** or **noise**.\n",
    "\n",
    "The subsequent two sections take a closer look at the linear predictor and error term, respectively. \n",
    "\n",
    "## 12.3.1 The linear predictor\n",
    "\n",
    "The linear predictor is an additive function of the independent variables. With a single variable, it is simply:\n",
    "\n",
    "$$\n",
    "\\beta_0 + \\beta_1 X\n",
    "$$\n",
    "\n",
    "In linear regression, the linear predictor represents the algebraic relationship between the mean of the outcome and the independent variable. When $X$ takes a particular value, $X=x$, the value of the linear predictor, $\\beta_0+\\beta_1x$, is interpreted as the expected value of $Y$ when $X$ takes the value $x$:\n",
    "\n",
    "$$\n",
    "E(Y|X=x) = \\beta_0 + \\beta_1 x.\n",
    "$$\n",
    "\n",
    "\n",
    "The specification of the linear predictor has two parameters: $\\beta_0$ and $\\beta_1$. These are interpreted as follows:\n",
    "\n",
    "+ $\\beta_0$ is the intercept. It is the expected value of $Y$ when $X$ takes the value 0.\n",
    "+ $\\beta_1$ is the slope (or gradient). It is the expected change in $Y$ per one unit increase in $X$. \n",
    "\n",
    "It is worth emphasising that this model assumes that **the relationship between $X$ and $Y$ is linear**. It is important to note that it is possible to have more complex relationships between variables that do not meet this assumption (see examples in the plots below). When this is the case, simple linear regression would not be an appropriate method to use but we might be able to model the relationship well by including non-linear terms. We will pursue these ideas further in the next session."
   ]
  },
  {
   "cell_type": "code",
   "execution_count": 1,
   "metadata": {
    "tags": [
     "hide-input"
    ]
   },
   "outputs": [
    {
     "data": {
      "image/png": "[encoded data removed]",
      "text/plain": [
       "Plot with title \"Non-linear Association\""
      ]
     },
     "metadata": {
      "filenames": {
       "image/png": "C:\\Users\\emsuewil\\Documents\\Work\\Teaching\\MSc_HDS\\Statistics\\Git_SHDS\\Jupyter_Book\\SHDS\\_build\\jupyter_execute\\12.d. Linear Regression I_1_0.png"
      }
     },
     "output_type": "display_data"
    }
   ],
   "source": [
    "### Set random number generator\n",
    "set.seed(24082098)\n",
    "\n",
    "#Set graphical display to show 2 plots in a row\n",
    "par(mfrow=c(1,2))\n",
    "options(repr.plot.height=5)\n",
    "\n",
    "#Simulate a linear X-Y relationship and plot\n",
    "x<-rnorm(100,0,1)\n",
    "ylin<-x+rnorm(100,0,0.5)\n",
    "plot(x,ylin,xaxt=\"n\", yaxt=\"n\", xlab=\" \", ylab=\" \", main=\"Linear Association\")\n",
    "title(ylab=\"Y\", line=0, cex.lab=1.2)\n",
    "title(xlab=\"X\", line=0, cex.lab=1.2)\n",
    "\n",
    "#Simulate a non-linear X-Y relationship and plot\n",
    "ynonlin<-exp(x)+rnorm(100,0,0.5)\n",
    "plot(x,ynonlin, xlim=c(-0.5,3), yaxt=\"n\", xaxt=\"n\", xlab=\" \", ylab=\" \", main=\"Non-linear Association\")\n",
    "title(ylab=\"Y\", line=0, cex.lab=1.2)\n",
    "title(xlab=\"X\", line=0, cex.lab=1.2)"
   ]
  },
  {
   "cell_type": "markdown",
   "metadata": {},
   "source": [
    "## 12.3.2 The error term \n",
    "\n",
    "The error term, $\\epsilon$ represents the variance in $Y$ that cannot be predicted by the model. Individual values of the errors can be written as (Y -  ($\\beta_0 + \\beta_1X$)). These errors cannot be observed, since they involve the unknown population parameters $\\beta_0$ and $\\beta_1$. \n",
    "\n",
    "We assume that $\\epsilon$ has a normal distribution with mean 0 and variance $\\sigma^2$, where $\\sigma^2$ is termed the **residual variance** (i.e. the variance of the residuals):\n",
    "\n",
    "$$\n",
    "\\epsilon \\sim N(0,\\sigma^2)\n",
    "$$\n",
    "\n",
    "Importantly, note that the errors must be independent of the independent variable $X$. \n"
   ]
  },
  {
   "cell_type": "markdown",
   "metadata": {},
   "source": [
    "## 12.3.3 Different ways of expressing the simple linear regression model\n",
    "\n",
    "Suppose we have a sample size of $n$ and we let $y_i$ and $x_i$ $(i=1,...,n)$ denote the observed outcome and value of $X$ for the $i^{th}$ observation, respectively. Then, we can write the simple linear regression model as: \n",
    "\n",
    "$$\n",
    "y_i = \\beta_0 + \\beta_1 x_{i}+ \\epsilon_i \\text{ where } \\epsilon_i \\overset{\\small{iid}}{\\sim} N(0, \\sigma^2).\n",
    "$$ \n",
    "\n",
    "Recall that $iid$ means \"identically, independently distributed\". A key assumption of linear regression model is that all of the observations are independent. \n",
    "\n",
    "This relationship can equivalently be expressed using matrix algebra:\n",
    "\n",
    "$$\n",
    "\\mathbf{Y}=\\mathbf{X}\\mathbf{\\beta}+\\mathbf{\\epsilon} \\text{ where }\\epsilon \\sim N(0,\\mathbf{I}\\sigma^2)\n",
    "$$\n",
    "\n",
    "$$\n",
    "\\begin{vmatrix}y_1\\\\y_2 \\\\. \\\\. \\\\. \\\\y_n \\end{vmatrix}=\\begin{vmatrix}1 & x_1 \\\\ 1 & x_2 \\\\1 & . \\\\1 & .  \\\\ 1& . \\\\1 & x_n \\end{vmatrix}\\begin{vmatrix} \\beta_0 \\\\ \\beta_1 \\end{vmatrix}+\\begin{vmatrix}\\epsilon_1\\\\ \\epsilon_2 \\\\ . \\\\ . \\\\. \\\\ \\epsilon_n \\end{vmatrix} \n",
    "$$\n",
    "\n",
    "In this formulation, $\\mathbf{X}$ is an $n \\times 2$ matrix, $Y$ and $\\epsilon$ are vectors of length $n$ whilst $\\beta$ is a vector of length 2. \n"
   ]
  },
  {
   "cell_type": "markdown",
   "metadata": {},
   "source": [
    "## 12.3.4 Assumptions\n",
    "It is worth emphasising the four key assumptions that we have made in the simple linear regression model:\n",
    "\n",
    "1. **Linearity**: The relationship between $X$ and the mean of $Y$ is linear.\n",
    "2. **Normality**: The errors follow a normal distribution. \n",
    "3. **Homoscedasticity**: The variance of error terms are constant across all values of $X$.\n",
    "4. **Independence**: All observations are independent of each other."
   ]
  },
  {
   "cell_type": "code",
   "execution_count": null,
   "metadata": {},
   "outputs": [],
   "source": []
  }
 ],
 "metadata": {
  "celltoolbar": "Tags",
  "kernelspec": {
   "display_name": "R",
   "language": "R",
   "name": "ir"
  },
  "language_info": {
   "codemirror_mode": "r",
   "file_extension": ".r",
   "mimetype": "text/x-r-source",
   "name": "R",
   "pygments_lexer": "r",
   "version": "3.6.1"
  }
 },
 "nbformat": 4,
 "nbformat_minor": 4
}