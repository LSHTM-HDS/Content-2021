{
 "cells": [
  {
   "cell_type": "markdown",
   "metadata": {},
   "source": [
    "## 7.3 Interpretation of confidence intervals\n",
    "\n",
    "Having calculated a confidence interval for our unknown population age, $\\mu$, how do we interpret it? \n",
    "\n",
    "### 7.3.1 Operational definition\n",
    "\n",
    "For the 95% confidence interval calculated above $(26.6, 32.5)$, it is tempting to say that the probability that the population mean age, $\\mu$, is between 26.6 and 32.5 is 95%. However, this is incorrect, because this  implies that $\\mu$ has a probability distribution, rather than being a fixed unknown number. Either the true value of $\\mu$ lies within the interval 26.6 to 32.5, or it does not.\n",
    "\n",
    "Strictly, the interpretation of a confidence interval has to be with respect to the process of repeated sampling: if we repeated the study an infinite number of times, 95% of the 95% confidence intervals calculated would include the true population mean $\\mu$. \n",
    "\n",
    "\n",
    "### 7.3.2 Looser interpretation (practical)\n",
    "\n",
    "The operational definition is long-winded and not always helpful for communicating results. In practice,  we often loosely interpret a 95% confidence interval by saying\n",
    "\n",
    "- that we are 95% confident that the true population mean lies within the 95% confidence interval calculated.\n",
    "- that our data are consistent with values of the population mean within the 95% confidence interval calculated"
   ]
  },
  {
   "cell_type": "markdown",
   "metadata": {},
   "source": [
    "### 7.3.3 Confidence intervals under repeated sampling\n",
    "\n",
    "In order to see how confidence intervals behave under repeated sampling, we will now randomly draw 100 different samples of 10 people. Within each sample, we calculate the sample mean and the 95% confidence interval (assuming the population value $\\sigma$ is known). \n",
    "\n",
    "We expect\n",
    "* the point estimates to cluster around the true value of $\\mu$, and fall symmetrically either side\n",
    "* 95% of the confidence intervals to include the true value\n",
    "* 2.5% of the intervals to lie entirely above the true value\n",
    "* 2.5% of the intervals to lie entirely below the true value\n"
   ]
  },
  {
   "cell_type": "code",
   "execution_count": 1,
   "metadata": {},
   "outputs": [
    {
     "data": {
      "image/png": "[encoded data removed]",
      "text/plain": [
       "Plot with title \"95% confidence intervals for the mean age\""
      ]
     },
     "metadata": {
      "filenames": {
       "image/png": "C:\\Users\\emsuewil\\Documents\\Work\\Teaching\\MSc_HDS\\Statistics\\Git_SHDS\\Jupyter_Book\\SHDS\\_build\\jupyter_execute\\07.d. Frequentist I_2_0.png"
      }
     },
     "output_type": "display_data"
    }
   ],
   "source": [
    "# Population parameters\n",
    "mu <- 30\n",
    "sd <- 4.8\n",
    "n_in_study <- 10\n",
    "\n",
    "# Take 100 samples of 10 people, measure ages in each set of 10 people\n",
    "different_studies <- 100\n",
    "set.seed(1042)\n",
    "study_measurements_age <- list()\n",
    "for (i in 1:different_studies) {\n",
    "  study_measurements_age[[i]] <-  rnorm(n_in_study, mu, sd)\n",
    "}\n",
    "\n",
    "# Calculate sample means and 95% confidence intervals\n",
    "sample.means   <- sapply(study_measurements_age, mean)\n",
    "sample.cl   <- sapply(study_measurements_age, function (x) mean(x) - 1.96*1.52)\n",
    "sample.cu   <- sapply(study_measurements_age, function (x) mean(x) + 1.96*1.52)\n",
    "\n",
    "# Extract means and CIs for samples which miss the true value\n",
    "out <- ((sample.cl>30) + (sample.cu<30))\n",
    "out.means <- sample.means[out==1]\n",
    "out.cl <- sample.cl[out==1]\n",
    "out.cu <- sample.cu[out==1]\n",
    "out.samples <- seq(1,100,1)[out==1]\n",
    "\n",
    "# Graph all the sample means and CIs\n",
    "options(repr.plot.width=5, repr.plot.height=6)\n",
    "plot(sample.means, seq(1,100,1), main=\"95% confidence intervals for the mean age\", xlab=\"Mean age (years)\", ylab=\"Sample\", xlim=c(22, 38), ylim=c(0, 100), yaxt=\"none\")\n",
    "abline(v=30)\n",
    "for (i in 1:100) {\n",
    "  eval(lines(c(sample.cl[i], sample.cu[i]), c(i, i)))\n",
    "}\n",
    "\n",
    "# Highlight the CIs that miss the true value in red\n",
    "points(out.means, out.samples, col=\"red\")\n",
    "for (i in 1:length(out.samples)) {\n",
    "  eval(lines(c(out.cl[i], out.cu[i]), c(out.samples[i],out.samples[i]), col=\"red\"))\n",
    "}\n"
   ]
  }
 ],
 "metadata": {
  "kernelspec": {
   "display_name": "R",
   "language": "R",
   "name": "ir"
  },
  "language_info": {
   "codemirror_mode": "r",
   "file_extension": ".r",
   "mimetype": "text/x-r-source",
   "name": "R",
   "pygments_lexer": "r",
   "version": "3.6.1"
  }
 },
 "nbformat": 4,
 "nbformat_minor": 4
}