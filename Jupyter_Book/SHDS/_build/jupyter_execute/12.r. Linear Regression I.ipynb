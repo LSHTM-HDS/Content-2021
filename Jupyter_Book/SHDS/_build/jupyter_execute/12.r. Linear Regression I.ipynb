{
 "cells": [
  {
   "cell_type": "markdown",
   "metadata": {},
   "source": [
    "## 12.17 ANOVA for multivariable linear regression\n",
    "\n",
    "In the context of multivariable linear regression, ANOVA can be used to test whether a more complex model is a better fit than the null model (**the Global F test**), or whether a more complex model is a better fit than a simpler model that includes a subset of the covariates in the complex model (**the partial F test**). Each test requires slight modifications to the ANOVA table defined above and we will discuss these in turn. \n",
    "\n",
    "### 12.17.1 The Global F test\n",
    "\n",
    "The general formulation of the ANOVA table (suitable for simple and multivariable linear regression models) is given in Table 3, where $p$ is the number of covariates in the model. \n",
    "\n",
    "Source      | d.f.      | SS         | Mean Square                        | \n",
    "------------|-----------|------------|------------------------------------|\n",
    "Regression  | $p$       | $SS_{REG}$ | $MS_{REG}=\\frac{SS_{REG}}{p}$      |\n",
    "Residual    | $n-(p+1)$ | $SS_{RES}$ | $MS_{RES}=\\frac{SS_{RES}}{n-p-1}$  | \n",
    "Total       | $n-p$     | $SS_{TOT}$ | $MS_{TOT}=\\frac{SS_{TOT}}{n-1}$    | \n",
    "\n",
    "Table 3: The ANOVA Table \n",
    "\n",
    "Note that this is equivalent to Table 2 when $p=1$. \n",
    "\n",
    "The Global F test tests the null hypothesis ($H_0$) that the null model is a better fit than the more complex model against the alternative hypothesis ($H_1$) that the complex model is a better fit. Or, equivalently:\n",
    "\n",
    "+ $H_0:$ All slope parameters in the complex model are equal to 0.  \n",
    "+ $H_1:$ At least one of the slope parameters in the complex model is not equal to 0. \n",
    "\n",
    "The appropriate $F$ statistic is the ratio $MS_{REG}/MS_{RES}$ (as defined in Table 3). Under the null hypothesis, $F$ follows an $F_{p,(n-(p+1))}$ distribution. \n",
    "\n",
    "*Example:* We can use ```summary()``` to conduct a global F test for Model 3."
   ]
  },
  {
   "cell_type": "code",
   "execution_count": 1,
   "metadata": {},
   "outputs": [
    {
     "data": {
      "text/plain": [
       "\n",
       "Call:\n",
       "lm(formula = Birth.Weight ~ Gestational.Days.Centered + Maternal.Height.Centered, \n",
       "    data = data)\n",
       "\n",
       "Residuals:\n",
       "    Min      1Q  Median      3Q     Max \n",
       "-53.829 -10.589   0.246  10.254  54.403 \n",
       "\n",
       "Coefficients:\n",
       "                           Estimate Std. Error t value Pr(>|t|)    \n",
       "(Intercept)               119.46252    0.47980 248.983  < 2e-16 ***\n",
       "Gestational.Days.Centered   0.45237    0.03006  15.051  < 2e-16 ***\n",
       "Maternal.Height.Centered    1.27598    0.19049   6.698 3.27e-11 ***\n",
       "---\n",
       "Signif. codes:  0 '***' 0.001 '**' 0.01 '*' 0.05 '.' 0.1 ' ' 1\n",
       "\n",
       "Residual standard error: 16.44 on 1171 degrees of freedom\n",
       "Multiple R-squared:  0.1969,\tAdjusted R-squared:  0.1955 \n",
       "F-statistic: 143.5 on 2 and 1171 DF,  p-value: < 2.2e-16\n"
      ]
     },
     "metadata": {},
     "output_type": "display_data"
    }
   ],
   "source": [
    "data<- read.csv('https://www.inferentialthinking.com/data/baby.csv')\n",
    "#Create new (centered) variables in our data\n",
    "data$Gestational.Days.Centered<-data$Gestational.Days-mean(data$Gestational.Days)\n",
    "data$Maternal.Height.Centered<-data$Maternal.Height-mean(data$Maternal.Height)\n",
    "# Fit models\n",
    "model1<-lm(Birth.Weight~Gestational.Days, data=data)\n",
    "model3<-lm(Birth.Weight~Gestational.Days.Centered+Maternal.Height.Centered, data=data)\n",
    "\n",
    "\n",
    "#ANOVA for Model 3 \n",
    "summary(model3)"
   ]
  },
  {
   "cell_type": "markdown",
   "metadata": {},
   "source": [
    "Our hypotheses are defined as:\n",
    "\n",
    "+ $H_0$: the regression coefficients for both gestational days and mother's height are equal to 0.\n",
    "+ $H_1$: the regression coefficient for either gestational days or mother's height (or both) is not equal to 0. \n",
    "\n",
    "The $F$ statistic is 143.5 with a $p$-value $<2.2 \\times 10^{-11}$. Therefore, there is strong evidence against the null and we can conclude that at least one of the estimated regression coefficients is non-zero (i.e Model 3 is a better fit than the null model). \n",
    "\n",
    "## 12.17.2 The partial F-test \n",
    "\n",
    "The global $F$-test is a joint test of the statistical signficance of all the slope parameters in a linear regression model. On the other hand, the partial $F$-test compares the fit of a complex model (say Model A with $p$ predictors) with a simpler model (say Model B with $p-k$ predictors). \n",
    "\n",
    "The key to the partial $F$-test is the construction of an Analysis of Variance table that partitions the sum of squares explained by the complex model into that explained by the simple model and the extra sum of squares only explained by the complex model. Using the notation that $SS_{REG_A}$ denotes the sum of squares explained by the complex model, whilst $SS_{REG_B}$ denotes the sum of squares explained by the simpler model, the ANOVA table is as shown in Table 3. \n",
    "\n",
    "Source                     | d.f.      | SS                      | Mean Square                                      \n",
    "---------------------------|-----------|-------------------------|-------------------------------------------------\n",
    "Explained by Model B       | $p-k$     | $SS_{REG_B}$            | $MS_{REG_B}=\\frac{SS_{REG_B}}{p-k}$   \n",
    "Explained by Model A       | $p$       | $SS_{REG_A}$            | $MS_{REG_A}=\\frac{SS_{REG_A}}{p}$   \n",
    "Extra explained by Model A | $k$       | $SS_{REG_A}-SS_{REG_B}$ | $MS_{REG_X}=\\frac{(SS_{REG_A}-SS_{REG_B}}{k}$   \n",
    "Residual from Model A      | $n-(p_1)$ | $SS_{RES_A}$            | $MS_{RES}=\\frac{SS_{RES_A}}{n-(p+1)}$         \n",
    "Total                      | $(n-1)$   | $SS_{TOT}$              | $MS_{TOT}=\\frac{SS_{TOT}}{n-1}$                 \n",
    "\n",
    "Table 3: The ANOVA table comparing the fit of a model ( Model A) with $p$ predictors with that of one (Model B) with $(p-k)$ predictors\n",
    "\n",
    "The partial $F$-test tests the null hypothesis that all of the slope parameters included in Model A but omitted from Model B are equal to zero. The alternative hypothesis is that at least one of the additional parameters in Model A is not equal to 0. \n",
    "\n",
    "The appropriate test statistic ($F$) is the ratio of extra mean sum of squares in Model A to the mean residual sum of squares from Model A. Under the null hypothesis, this test statistic follows an $F$-distribution:\n",
    "\n",
    "$$\\text{Under } H_0: F = \\frac{MS_{REG_X}}{MS_{RES}} \\sim F_{k,(n-(p+1))}$$\n",
    "\n",
    "\n",
    "*Example*: We can use ```anova()``` to conduct a partial F-test to compare Models 1 and 3: \n",
    "\n",
    "+ $H_0:$ Model 1 is the better fit \n",
    "+ $H_0:$ Model 3 is the better fit\n"
   ]
  },
  {
   "cell_type": "code",
   "execution_count": 2,
   "metadata": {},
   "outputs": [
    {
     "data": {
      "text/html": [
       "<table>\n",
       "<thead><tr><th scope=col>Res.Df</th><th scope=col>RSS</th><th scope=col>Df</th><th scope=col>Sum of Sq</th><th scope=col>F</th><th scope=col>Pr(&gt;F)</th></tr></thead>\n",
       "<tbody>\n",
       "\t<tr><td>1172        </td><td>328608.3    </td><td>NA          </td><td>      NA    </td><td>      NA    </td><td>          NA</td></tr>\n",
       "\t<tr><td>1171        </td><td>316482.2    </td><td> 1          </td><td>12126.13    </td><td>44.86728    </td><td>3.266475e-11</td></tr>\n",
       "</tbody>\n",
       "</table>\n"
      ],
      "text/latex": [
       "\\begin{tabular}{r|llllll}\n",
       " Res.Df & RSS & Df & Sum of Sq & F & Pr(>F)\\\\\n",
       "\\hline\n",
       "\t 1172         & 328608.3     & NA           &       NA     &       NA     &           NA\\\\\n",
       "\t 1171         & 316482.2     &  1           & 12126.13     & 44.86728     & 3.266475e-11\\\\\n",
       "\\end{tabular}\n"
      ],
      "text/markdown": [
       "\n",
       "| Res.Df | RSS | Df | Sum of Sq | F | Pr(>F) |\n",
       "|---|---|---|---|---|---|\n",
       "| 1172         | 328608.3     | NA           |       NA     |       NA     |           NA |\n",
       "| 1171         | 316482.2     |  1           | 12126.13     | 44.86728     | 3.266475e-11 |\n",
       "\n"
      ],
      "text/plain": [
       "  Res.Df RSS      Df Sum of Sq F        Pr(>F)      \n",
       "1 1172   328608.3 NA       NA        NA           NA\n",
       "2 1171   316482.2  1 12126.13  44.86728 3.266475e-11"
      ]
     },
     "metadata": {},
     "output_type": "display_data"
    }
   ],
   "source": [
    "anova(model1, model3)"
   ]
  },
  {
   "cell_type": "markdown",
   "metadata": {},
   "source": [
    "The $F$-statistic is 44.87 with a $p$-value of $3.23\\times 10^{-11}$. This is strong evidence against the null, and hence the data indicates that Model 3 is the better fit. \n",
    "\n",
    "In this case, the two models only differed by one variable (mother's height) and so the hypotheses could be re-written as: \n",
    "\n",
    "+ $H_0: \\beta_2=0$, where $\\beta_2$ is the regression coefficient for mother's height. \n",
    "+ $H_0: \\beta_2 \\neq 0$. \n",
    "\n",
    "In other words, when the models only differ by one variable, the partial F test is equivalent to the t test of the null hypothesis that the regression coefficient for that variable is equal to 0. Notice in our example that the results of the partial F test are the same as the t-test for $\\beta_2=0$, with $F=t^2$. \n",
    "\n",
    "For this reason, partial F tests are more useful in situations where we wish to compare models that differ by more than one variable. \n"
   ]
  }
 ],
 "metadata": {
  "kernelspec": {
   "display_name": "R",
   "language": "R",
   "name": "ir"
  },
  "language_info": {
   "codemirror_mode": "r",
   "file_extension": ".r",
   "mimetype": "text/x-r-source",
   "name": "R",
   "pygments_lexer": "r",
   "version": "3.6.1"
  }
 },
 "nbformat": 4,
 "nbformat_minor": 4
}