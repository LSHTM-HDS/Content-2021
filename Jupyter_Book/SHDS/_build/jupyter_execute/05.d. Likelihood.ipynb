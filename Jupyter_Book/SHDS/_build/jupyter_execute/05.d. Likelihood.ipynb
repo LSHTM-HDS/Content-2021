{
 "cells": [
  {
   "cell_type": "markdown",
   "metadata": {},
   "source": [
    "## 5.3 Log likelihood\n",
    "\n",
    "We have discussed the idea that finding the maximum value of a likelihood gives us sensible estimates for the unknown parameters. For the examples above it is relatively clear from calculating a few values of the likelihood where the maximum lies, but this will not always be the case. \n",
    "\n",
    "A theoretical result which will come in handy is that a value which maximises the likelihood also maximises the log-transform of the likelihood, or the *log-likelihood*. This is because the log is a *concave* function, so when we use it to transform the likelihood, any maximum or minimum stays in the same place on the x-axis. We ill denote the log-likelihood $l(\\theta) = \\log(L(\\theta))$.\n",
    "\n",
    "This result is evident when plotting the transformation of the likelihoods for the binomial and exponential distributions. \n",
    "\n",
    "For the binomial example:"
   ]
  },
  {
   "cell_type": "code",
   "execution_count": 1,
   "metadata": {},
   "outputs": [
    {
     "ename": "ERROR",
     "evalue": "Error in xy.coords(x, y, xlabel, ylabel, log): object 'L_pi' not found\n",
     "output_type": "error",
     "traceback": [
      "Error in xy.coords(x, y, xlabel, ylabel, log): object 'L_pi' not found\nTraceback:\n",
      "1. plot(x = pi, y = L_pi)",
      "2. plot.default(x = pi, y = L_pi)",
      "3. xy.coords(x, y, xlabel, ylabel, log)"
     ]
    }
   ],
   "source": [
    "options(repr.plot.width=12, repr.plot.height=6)\n",
    "par(mfrow = c(1,2))\n",
    "\n",
    "# likelihood L(pi)\n",
    "plot(x = pi, y = L_pi)\n",
    "abline(v = pi_max, col = \"red\")\n",
    "title(paste(\"Maximum at\", pi_max))\n",
    "\n",
    "# log-likelihood l(pi)\n",
    "l_pi <- log(L_pi)\n",
    "plot(x = pi, y = l_pi)\n",
    "abline(v = pi[which.max(l_pi)], col = \"red\")\n",
    "title(paste(\"Maximum at\", pi[which.max(l_pi)]))"
   ]
  },
  {
   "cell_type": "markdown",
   "metadata": {},
   "source": [
    "For the exponential example:"
   ]
  },
  {
   "cell_type": "code",
   "execution_count": 20,
   "metadata": {},
   "outputs": [
    {
     "data": {
      "image/png": "[encoded data removed]",
      "text/plain": [
       "Plot with title \"Maximum at 0.11\""
      ]
     },
     "metadata": {
      "filenames": {
       "image/png": "C:\\Users\\emsuewil\\Documents\\Work\\Teaching\\MSc_HDS\\Statistics\\Git_SHDS\\Jupyter_Book\\SHDS\\_build\\jupyter_execute\\05.d. Likelihood_3_0.png"
      },
      "image/png": {
       "height": 360,
       "width": 720
      },
      "text/plain": {
       "height": 360,
       "width": 720
      }
     },
     "output_type": "display_data"
    }
   ],
   "source": [
    "options(repr.plot.width=12, repr.plot.height=6)\n",
    "par(mfrow = c(1,2))\n",
    "\n",
    "# likelihood L(beta)\n",
    "plot(x = lam, y = L_lam)\n",
    "abline(v = lam_max, col = \"red\")\n",
    "title(paste(\"Maximum at\", round(lam_max,2)))\n",
    "\n",
    "# log-likelihood l(beta)\n",
    "l_lam <- log(L_lam)\n",
    "\n",
    "plot(x = lam, y = l_lam)\n",
    "abline(v = lam[which.max(l_lam)], col = \"red\")\n",
    "title(paste(\"Maximum at\", round(lam[which.max(l_lam)],2)))"
   ]
  },
  {
   "cell_type": "markdown",
   "metadata": {},
   "source": [
    "Log-transformed likelihoods are generally \"better-behaved\" and easier to work with than the original form. Remember the rules of logs for products and powers - we'll see in the next section how these make computation with the log-likelihood very convenient."
   ]
  }
 ],
 "metadata": {
  "kernelspec": {
   "display_name": "R",
   "language": "R",
   "name": "ir"
  },
  "language_info": {
   "codemirror_mode": "r",
   "file_extension": ".r",
   "mimetype": "text/x-r-source",
   "name": "R",
   "pygments_lexer": "r",
   "version": "3.6.1"
  }
 },
 "nbformat": 4,
 "nbformat_minor": 4
}