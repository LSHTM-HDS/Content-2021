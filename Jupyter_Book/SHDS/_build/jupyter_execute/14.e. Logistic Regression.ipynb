{
 "cells": [
  {
   "cell_type": "markdown",
   "metadata": {
    "hideCode": false,
    "hidePrompt": false
   },
   "source": [
    "## 14.4 Interpretation of the parameters\n",
    "\n",
    "The interpretation of the parameters $(\\beta_k)_{k=0,\\dots,p}$ is different to the one we have studied in the linear regression module. This is because in the linear regression model, we directly map $E(Y_i|X_i)$ to $\\eta_i$, or equivalently said, the link function in this case is the identity function. In the logistic regression case, because of the logit link function, the interpretation is less straightforward.\n",
    "\n",
    "### 14.4.1 A simplified model\n",
    "\n",
    "To better understand these differences, let us assume a very basic logistic model for a binary variable $Y_i$ whose Bernouilli parameter $\\pi_i$ is modeled according to a single binary variable $X_i$. We call the subjects for which $X_i=1$ the exposed and those for which $X_i=0$ the unexposed. The model is written\n",
    "\n",
    "$$\\mathrm{logit}(\\pi_i) = \\beta_0 + \\beta_1X_i$$\n",
    "\n",
    "or equivalently\n",
    "\n",
    "$$\\pi_i = \\frac{\\exp(\\beta_0 + \\beta_1X_i)}{1+\\exp(\\beta_0 + \\beta_1X_i)}.$$\n",
    "\n",
    "In this simplified case, $\\pi_i$ can only take two values, depending on wheter the subject $i$ is unexposed or exposed. Let us note respectively these values $\\pi_i^0$ and $\\pi_i^1$. We have\n",
    "\n",
    "$$\\mathrm{logit}(\\pi_i^0) = \\beta_0  \\quad\\text{ and }\\quad \\mathrm{logit}(\\pi_i^1) = \\beta_0+\\beta_1$$\n",
    "\n",
    "or equivalently\n",
    "\n",
    "$$\\pi_i^0 = \\frac{\\exp(\\beta_0)}{1+\\exp(\\beta_0)} \\quad\\text{ and }\\quad \\pi_i^1 = \\frac{\\exp(\\beta_0 + \\beta_1)}{1+\\exp(\\beta_0 + \\beta_1)}.$$\n",
    "\n",
    "From these first two equalities, we have that\n",
    "\n",
    "$$\\mathrm{logit}(\\pi_i^1) - \\mathrm{logit}(\\pi_i^0) = \\beta_1$$\n",
    "\n",
    "and $\\beta_1$ can be interpreted as a difference of the logarithm of the odds between the exposed and the unexposed. Equivalently, from the second two equalities, if we compute the odds-ratio of the oucome in the exposed versus the unexposed, we find that\n",
    "\n",
    "$$\\frac{\\pi_i^1}{1-\\pi_i^1}\\bigg/\\frac{\\pi_i^0}{1-\\pi_i^0} = \\exp(\\beta_1)$$\n",
    "\n",
    "This gives an equivalent and more convenient way of interpreting $\\beta_1$ as the odds ratio that compares the odds of the outcome in the exposed versus unexposed. In this simplified example, the odds of the event among the exposed is multiplied by $\\exp(\\beta_1)$ compared to the odds among the unexposed. In particular, if the odds-ratio equals $1$, that means that the exposure do not impact the odds of having $Y=1$. If the odds-ratio is superior to $1$, that means that the odds are bigger for the exposed and therefore the probability of having $Y=1$ is bigger among the exposed. On the contrary, if the odds-ratio is inferior to $1$, the odds are lower for the exposed and the probability of habing $Y=1$ is lower among the exposed. \n",
    "\n",
    "Because of this, rather than computing the $95\\%$ confidence interval directly from the estimated $\\hat{\\beta}=(\\hat{\\beta}_k)_{k=0,\\dots,p}$, it is more informative to give the confidence interval for its exponential that, as we have just seen, has a straightforward interpretation as an odds-ratio. For $k=0,\\dots,p$, we can directly compute the odds-ratio $95\\%$ confidence interval for the odds-ratios from the $95\\%$ confidence interval for $\\beta$ by simply taking the exponential of its bounds:\n",
    "\n",
    "$$\\left[\\exp(\\hat{\\beta}_k - 1.96\\hat{se}(\\hat{\\beta}_k)) ;~ \\exp(\\hat{\\beta}_k + 1.96\\hat{se}(\\hat{\\beta}_k))\\right].$$\n",
    "\n",
    "From the above equalities, we can also observe that it is possible to compute directly from $\\beta_0$ the proportion of subject which have the event among the unexposed $\\pi_i^0$. However, it is important to remain cautious when making this interpretation. For example, in a case-control study where the cases are, by construction, over-represented, this proportion can not be linked to the prevalence of the event among the unexposed in the general population.\n",
    "\n",
    "> *Exercise:* compute the odds-ratio that compares the odds of the outcome in the exposed versus unexposed from the simplified model and prove that it equals $\\exp(\\beta_1)$\n",
    "\n"
   ]
  },
  {
   "cell_type": "code",
   "execution_count": null,
   "metadata": {},
   "outputs": [],
   "source": []
  }
 ],
 "metadata": {
  "hide_code_all_hidden": false,
  "kernelspec": {
   "display_name": "R",
   "language": "R",
   "name": "ir"
  },
  "language_info": {
   "codemirror_mode": "r",
   "file_extension": ".r",
   "mimetype": "text/x-r-source",
   "name": "R",
   "pygments_lexer": "r",
   "version": "3.6.1"
  }
 },
 "nbformat": 4,
 "nbformat_minor": 4
}