{
 "cells": [
  {
   "cell_type": "markdown",
   "metadata": {},
   "source": [
    "## 7.6 Summary: Use of confidence intervals\n",
    "\n",
    "In this session we have discussed the concepts underlying confidence intervals and different interpretations of 95% confidence intervals.  \n",
    " \n",
    "We can construct a confidence interval for any estimate, including: \n",
    "\n",
    "- means\n",
    "- proportions\n",
    "- differences in means\n",
    "- risk ratios\n",
    "- regression coefficients\n",
    "- etc. \n",
    "\n",
    "The way we construct confidence intervals can vary but the basic interpretation of the confidence interval remains the same.  \n",
    "\n",
    "While we have focused on 95% confidence intervals, we can construct other intervals, e.g. 99% confidence intervals. The use of 95% confidence intervals is largely convention."
   ]
  },
  {
   "cell_type": "code",
   "execution_count": null,
   "metadata": {},
   "outputs": [],
   "source": []
  }
 ],
 "metadata": {
  "kernelspec": {
   "display_name": "R",
   "language": "R",
   "name": "ir"
  },
  "language_info": {
   "codemirror_mode": "r",
   "file_extension": ".r",
   "mimetype": "text/x-r-source",
   "name": "R",
   "pygments_lexer": "r",
   "version": "3.6.1"
  }
 },
 "nbformat": 4,
 "nbformat_minor": 4
}