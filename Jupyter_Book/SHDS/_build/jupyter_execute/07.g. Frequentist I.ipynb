{
 "cells": [
  {
   "cell_type": "markdown",
   "metadata": {},
   "source": [
    "## 7.6 Summary: Use of confidence intervals\n",
    "\n",
    "In this session we have discussed confidence intervals for a population mean. However, we can construct a confidence interval for any estimate. We calculate confidence intervals for many estimates, including:\n",
    "\n",
    "- means\n",
    "- proportions\n",
    "- differences in means\n",
    "- risk ratios\n",
    "- regression coefficients\n",
    "- etc. \n",
    "\n",
    "The basic idea remains the same.\n",
    "\n",
    "While we have focused on 95% confidence intervals, we can construct other intervals, e.g. 99% confidence intervals. The use of 95% confidence intervals is largely convention."
   ]
  },
  {
   "cell_type": "code",
   "execution_count": null,
   "metadata": {},
   "outputs": [],
   "source": []
  }
 ],
 "metadata": {
  "kernelspec": {
   "display_name": "R",
   "language": "R",
   "name": "ir"
  },
  "language_info": {
   "codemirror_mode": "r",
   "file_extension": ".r",
   "mimetype": "text/x-r-source",
   "name": "R",
   "pygments_lexer": "r",
   "version": "3.6.1"
  }
 },
 "nbformat": 4,
 "nbformat_minor": 4
}