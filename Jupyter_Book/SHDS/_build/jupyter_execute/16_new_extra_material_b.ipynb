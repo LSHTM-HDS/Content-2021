{
 "cells": [
  {
   "cell_type": "markdown",
   "metadata": {},
   "source": [
    "## 14.7 Example using the birthweight data\n",
    "\n",
    "As an example of the ideas discussed above, we will return to the multivariable linear regression model we have previous defined, relating birthweight to length of pregnancy and mother's height. We will consider how this model can be presented and interpreted differently, depending on the aims of the analysis. \n",
    "\n",
    "Recall the model is defined as:\n",
    "\n",
    "$$\\text{Model 3: } y_i = \\beta_0 + \\beta_1 l_i + \\beta_2h_i +  \\epsilon_i $$\n",
    "\n",
    "A DAG depicting the assumed relationships between the variables in the model, and R output summarising the results of the model are given below. \n",
    "\n",
    "```{figure} Images/ExampleDAG.png\n",
    "---\n",
    "height: 600px\n",
    "name: ExampleDAG\n",
    "---\n",
    "```"
   ]
  },
  {
   "cell_type": "code",
   "execution_count": 8,
   "metadata": {},
   "outputs": [
    {
     "data": {
      "text/plain": [
       "\n",
       "Call:\n",
       "lm(formula = Birth.Weight ~ Gestational.Days + Maternal.Height, \n",
       "    data = data)\n",
       "\n",
       "Residuals:\n",
       "    Min      1Q  Median      3Q     Max \n",
       "-53.829 -10.589   0.246  10.254  54.403 \n",
       "\n",
       "Coefficients:\n",
       "                  Estimate Std. Error t value Pr(>|t|)    \n",
       "(Intercept)      -88.51993   14.31910  -6.182 8.73e-10 ***\n",
       "Gestational.Days   0.45237    0.03006  15.051  < 2e-16 ***\n",
       "Maternal.Height    1.27598    0.19049   6.698 3.27e-11 ***\n",
       "---\n",
       "Signif. codes:  0 '***' 0.001 '**' 0.01 '*' 0.05 '.' 0.1 ' ' 1\n",
       "\n",
       "Residual standard error: 16.44 on 1171 degrees of freedom\n",
       "Multiple R-squared:  0.1969,\tAdjusted R-squared:  0.1955 \n",
       "F-statistic: 143.5 on 2 and 1171 DF,  p-value: < 2.2e-16\n"
      ]
     },
     "metadata": {},
     "output_type": "display_data"
    },
    {
     "data": {
      "text/html": [
       "<table>\n",
       "<thead><tr><th></th><th scope=col>2.5 %</th><th scope=col>97.5 %</th></tr></thead>\n",
       "<tbody>\n",
       "\t<tr><th scope=row>Gestational.Days</th><td>0.3934004</td><td>0.5113389</td></tr>\n",
       "\t<tr><th scope=row>Maternal.Height</th><td>0.9022310</td><td>1.6497197</td></tr>\n",
       "</tbody>\n",
       "</table>\n"
      ],
      "text/latex": [
       "\\begin{tabular}{r|ll}\n",
       "  & 2.5 \\% & 97.5 \\%\\\\\n",
       "\\hline\n",
       "\tGestational.Days & 0.3934004 & 0.5113389\\\\\n",
       "\tMaternal.Height & 0.9022310 & 1.6497197\\\\\n",
       "\\end{tabular}\n"
      ],
      "text/markdown": [
       "\n",
       "| <!--/--> | 2.5 % | 97.5 % |\n",
       "|---|---|---|\n",
       "| Gestational.Days | 0.3934004 | 0.5113389 |\n",
       "| Maternal.Height | 0.9022310 | 1.6497197 |\n",
       "\n"
      ],
      "text/plain": [
       "                 2.5 %     97.5 %   \n",
       "Gestational.Days 0.3934004 0.5113389\n",
       "Maternal.Height  0.9022310 1.6497197"
      ]
     },
     "metadata": {},
     "output_type": "display_data"
    }
   ],
   "source": [
    "summary(model3)\n",
    "confint(model3, parm=c(2,3), level=0.95)"
   ]
  },
  {
   "cell_type": "markdown",
   "metadata": {},
   "source": [
    "### 14.7.1 Analysis of risk factors\n",
    "\n",
    "Suppose our aim was to explore length of pregnancy and mother's height as potential \"risk factors\" of birthweight. Then we would interpret these results as follows: \n",
    "\n",
    "After adjusting for mother's height, a daily increase in length of pregnancy was associated with an increase of 0.45 (0.39-0.51) ounces in mean birthweight. After adjusting for length of pregnancy, an increase of one inch the mother's height was associated with an increase of 1.28 (0.90-1.65) ounces in mean birthweight. \n",
    "\n",
    "Since 0 is not included in the 95\\% confidence intervals for height or length of pregnancy, we can conclude that there is evidence of conditional associations between mother's height and birthweight, and length of pregnancy and birthweight. \n",
    "\n",
    "### 14.7.2 Prediction analysis\n",
    "\n",
    "Now suppose our aim was to predict the birthweight of future babies, using information on their mother's height and the length of pregnancy. We are now less interested in the estimated regression coefficients and more interested in the predicted values. For example, suppose we wanted to predict the birthweight of a baby whose mother was 66 inches and whose pregnancy lasted 200 days. We would obtain the relevant predicted value and its 95\\% confidence interval: "
   ]
  },
  {
   "cell_type": "code",
   "execution_count": 9,
   "metadata": {},
   "outputs": [
    {
     "data": {
      "text/html": [
       "<table>\n",
       "<thead><tr><th scope=col>fit</th><th scope=col>lwr</th><th scope=col>upr</th></tr></thead>\n",
       "<tbody>\n",
       "\t<tr><td>86.16838</td><td>81.30474</td><td>91.03201</td></tr>\n",
       "</tbody>\n",
       "</table>\n"
      ],
      "text/latex": [
       "\\begin{tabular}{r|lll}\n",
       " fit & lwr & upr\\\\\n",
       "\\hline\n",
       "\t 86.16838 & 81.30474 & 91.03201\\\\\n",
       "\\end{tabular}\n"
      ],
      "text/markdown": [
       "\n",
       "| fit | lwr | upr |\n",
       "|---|---|---|\n",
       "| 86.16838 | 81.30474 | 91.03201 |\n",
       "\n"
      ],
      "text/plain": [
       "  fit      lwr      upr     \n",
       "1 86.16838 81.30474 91.03201"
      ]
     },
     "metadata": {},
     "output_type": "display_data"
    }
   ],
   "source": [
    "new.data<-data.frame(Gestational.Days=200,Maternal.Height=66)\n",
    "predict(model3, newdata=new.data, interval=\"confidence\", level=0.95)"
   ]
  },
  {
   "cell_type": "markdown",
   "metadata": {},
   "source": [
    "Or, we may wish to obtain the relevant prediction interval:"
   ]
  },
  {
   "cell_type": "code",
   "execution_count": 10,
   "metadata": {},
   "outputs": [
    {
     "data": {
      "text/html": [
       "<table>\n",
       "<thead><tr><th scope=col>fit</th><th scope=col>lwr</th><th scope=col>upr</th></tr></thead>\n",
       "<tbody>\n",
       "\t<tr><td>86.16838</td><td>53.54902</td><td>118.7877</td></tr>\n",
       "</tbody>\n",
       "</table>\n"
      ],
      "text/latex": [
       "\\begin{tabular}{r|lll}\n",
       " fit & lwr & upr\\\\\n",
       "\\hline\n",
       "\t 86.16838 & 53.54902 & 118.7877\\\\\n",
       "\\end{tabular}\n"
      ],
      "text/markdown": [
       "\n",
       "| fit | lwr | upr |\n",
       "|---|---|---|\n",
       "| 86.16838 | 53.54902 | 118.7877 |\n",
       "\n"
      ],
      "text/plain": [
       "  fit      lwr      upr     \n",
       "1 86.16838 53.54902 118.7877"
      ]
     },
     "metadata": {},
     "output_type": "display_data"
    }
   ],
   "source": [
    "predict(model3, newdata=new.data, interval=\"prediction\", level=0.95)"
   ]
  },
  {
   "cell_type": "markdown",
   "metadata": {},
   "source": [
    "Based on the above results, we would predict that a baby whose mother was 66 inches tall and whose pregancy lasted 200 days would weigh somewhere between 81.30 and 91.03 ounces. Additionally, we estimate that 95\\% of babies whose mother was 66 inches tall and whose pregancy lasted 200 days would weigh between 53.55 and 118.79 ounces. \n",
    "\n",
    "It's important to also present statistics indicating the predictative performance of the model. In this case, $R^2=0.1969$, indicating that the model can only account for 19.7\\% of the total variation in the outcome. \n",
    "\n",
    "### 14.7.3 Causal inference\n",
    "\n",
    "Finally, suppose our aim was to estimate the causal effect of length of pregnancy on birthweight. As is shown in the DAG, we assumed that mother's height was a common cause of length of pregnancy and birthweight and therefore needed to adjust for it in the analysis to remove confounding bias. \n",
    "\n",
    "From the output above, we would report $\\hat{\\beta_1}=0.45$ and the 95\\% confidence interval: (0.39, 0.51). Based on these results, we can conclude that length of pregnancy does have a causal effect on birthweight (since 0 does not lie within the confidence interval). However, the validity of these findings rely on the assumption that there are **no unmeasured variables causing confounding bias** (which is a very strong assumption and can be difficult to justify).\n",
    "\n",
    "It is important to understand that we cannot interpret $\\hat{\\beta_2}$ in the same way as $\\hat{\\beta_1}$ in this analysis. We interpreted $\\beta_1$ causally, because mother's height was the only confounding variable in the association between length of pregnancy and birthweight, and we controlled for it in the analysis. However, length of pregnancy is not a confounding variable for the association between mother's height and birthweight. In fact, length of pregnancy lies on the causal pathway between mother's height and birthweight, which means that some of the effect of mother's height on birthweight can be explained through the length of pregnancy. According to our DAG, the **total effect** of mother's height on birthweight comprises of two parts: (1) the **direct effect** (denoted by the path between height and birthweight) and (2) the **indirect effect** (denoted by the causal pathway that runs through length of pregnancy). Since we have adjusted for length of pregnancy in our analysis, we have controlled for the indirect effect of mother's height on birthweight and therefore $\\hat{\\beta}_2$ represents the direct effect only. \n",
    "\n",
    "It is a common mistake in medical research to interpret all the estimated regression coefficients from a multivariable model in the same way, but as our example has shown, this can be misleading. This problem is known in the literature as the **Table 2 fallacy**. \n"
   ]
  }
 ],
 "metadata": {
  "kernelspec": {
   "display_name": "R",
   "language": "R",
   "name": "ir"
  },
  "language_info": {
   "codemirror_mode": "r",
   "file_extension": ".r",
   "mimetype": "text/x-r-source",
   "name": "R",
   "pygments_lexer": "r",
   "version": "3.6.1"
  }
 },
 "nbformat": 4,
 "nbformat_minor": 4
}