{
 "cells": [
  {
   "cell_type": "markdown",
   "metadata": {
    "hideCode": false,
    "hidePrompt": false
   },
   "source": [
    "## 14.7 Example 2: Dementia\n",
    "\n",
    "Let see a second example with several variables to see how to interpret the results. This time, our interest lies in modeling the probability of developing dementia during the follow-up according to sex, age at inclusion and bmi at inclusion.\n",
    "\n",
    "\n",
    "$$\\mathrm{logit}(\\pi_i) = \\beta_0 + \\beta_1sex_i + \\beta_2 age_i + \\beta_3 bmi_i$$\n",
    "\n",
    "This model can be estimated in `R`using the `glm` function"
   ]
  },
  {
   "cell_type": "code",
   "execution_count": 1,
   "metadata": {
    "hideCode": false,
    "hidePrompt": false
   },
   "outputs": [
    {
     "ename": "ERROR",
     "evalue": "Error in is.data.frame(data): object 'dementia' not found\n",
     "output_type": "error",
     "traceback": [
      "Error in is.data.frame(data): object 'dementia' not found\nTraceback:\n",
      "1. glm(dementia ~ sex + age + bmi, data = dementia, family = binomial(link = \"logit\"))",
      "2. eval(mf, parent.frame())",
      "3. eval(mf, parent.frame())",
      "4. stats::model.frame(formula = dementia ~ sex + age + bmi, data = dementia, \n .     drop.unused.levels = TRUE)",
      "5. model.frame.default(formula = dementia ~ sex + age + bmi, data = dementia, \n .     drop.unused.levels = TRUE)",
      "6. is.data.frame(data)"
     ]
    }
   ],
   "source": [
    "dementia2 <- glm(dementia ~ sex + age + bmi, data = dementia, family = binomial(link=\"logit\"))"
   ]
  },
  {
   "cell_type": "markdown",
   "metadata": {
    "hideCode": false,
    "hidePrompt": false
   },
   "source": [
    "As usually, let us print the results that have been stored in the `R`object `dementia2`."
   ]
  },
  {
   "cell_type": "code",
   "execution_count": 2,
   "metadata": {
    "hideCode": false,
    "hidePrompt": false
   },
   "outputs": [
    {
     "ename": "ERROR",
     "evalue": "Error in summary(dementia2): object 'dementia2' not found\n",
     "output_type": "error",
     "traceback": [
      "Error in summary(dementia2): object 'dementia2' not found\nTraceback:\n",
      "1. summary(dementia2)"
     ]
    }
   ],
   "source": [
    "summary(dementia2)"
   ]
  },
  {
   "cell_type": "markdown",
   "metadata": {
    "hideCode": false,
    "hidePrompt": false
   },
   "source": [
    "We compute the exponential of the estimated coefficients and will interpret each."
   ]
  },
  {
   "cell_type": "code",
   "execution_count": 3,
   "metadata": {
    "hideCode": false,
    "hidePrompt": false
   },
   "outputs": [
    {
     "ename": "ERROR",
     "evalue": "Error in coefficients(dementia2): object 'dementia2' not found\n",
     "output_type": "error",
     "traceback": [
      "Error in coefficients(dementia2): object 'dementia2' not found\nTraceback:\n",
      "1. coefficients(dementia2)"
     ]
    }
   ],
   "source": [
    "exp(coefficients(dementia2))"
   ]
  },
  {
   "cell_type": "markdown",
   "metadata": {
    "hideCode": false,
    "hidePrompt": false
   },
   "source": [
    "Contrarily to the previous model, here we do not interpret the intercept. Indeed, if we were doing so, it would be the prevalence of dementia among men with age and bmi at inclusion of 0 which obviously does not make any clinical sense. We can interpret the other parameters\n",
    "\n",
    "* *sex*: there is an association between sex and the dementia status and the odds of dementia are multiplied by $1.36$ for women compared to men having same age and bmi at inclusion\n",
    "* *age*: there is an association between age and the dementia status and the odds of dementia are multiplied by $1.10$ when age increases by $1$ year assuming sex and bmi at inclusion remain unchanged\n",
    "* *bmi*: there is an association between bmi and the dementia status and the odds of dementia are multiplied by $0.97$ when bmi increases by $1$ unit assuming sex and age at inclusion remain unchanged\n",
    "\n",
    "By including these variables into this new model, we only added two parameters but we can see that the deviance decreased slightly. It was $38143$ on the first simple model and now equals $31732$. The quality of this new model is confirmed by the AIC which was $38147$ for the previous model and decreases to $31740$ for the new model."
   ]
  },
  {
   "cell_type": "code",
   "execution_count": null,
   "metadata": {},
   "outputs": [],
   "source": []
  }
 ],
 "metadata": {
  "hide_code_all_hidden": false,
  "kernelspec": {
   "display_name": "R",
   "language": "R",
   "name": "ir"
  },
  "language_info": {
   "codemirror_mode": "r",
   "file_extension": ".r",
   "mimetype": "text/x-r-source",
   "name": "R",
   "pygments_lexer": "r",
   "version": "3.6.1"
  }
 },
 "nbformat": 4,
 "nbformat_minor": 4
}