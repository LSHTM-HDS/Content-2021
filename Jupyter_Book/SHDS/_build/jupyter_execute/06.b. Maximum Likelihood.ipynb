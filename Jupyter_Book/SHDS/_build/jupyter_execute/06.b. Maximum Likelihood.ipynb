{
 "cells": [
  {
   "cell_type": "markdown",
   "metadata": {},
   "source": [
    "# 6.1 Likelihood with independent observations\n",
    "\n",
    "Suppose that the observed data consiste of a sample of $n$ observations. If these observations are independent, then the joint likelihood function from these $n$ observations has a very convenient form; it is the product of the likelihood from each observation. \n",
    "\n",
    "Suppose that the random variables $X_1,..., X_n$ are i.i.d., and that our observed data are $\\mathbf{x} = \\left\\{ x_1, x_2, ..., x_n \\right\\}$. Then the likelihood function is given by:\n",
    "\n",
    "$$\n",
    "\\begin{align*}\n",
    "L \\left( \\theta \\mid \\mathbf{x} \\right) &=  L\\left( \\theta \\mid x_1 \\right) L\\left( \\theta \\mid x_2 \\right) ...  L \\left( \\theta \\mid x_n \\right) \\\\\n",
    " &= \\prod_{i=1}^n  L\\left( \\theta \\mid x_i \\right).\n",
    "\\end{align*}\n",
    "$$\n",
    "\n",
    "Recall that we often prefer to work with the log-likelihood function, as it simplifies the algebra when it comes to finding the MLE. The log-likelihood function for $n$ independent observations is given by:\n",
    "\n",
    "$$\n",
    "\\begin{align*}\n",
    "l \\left( \\theta \\mid \\mathbf{x} \\right) \n",
    " &= log \\prod_{i=1}^n L\\left( \\theta \\mid x_i \\right) \\\\\n",
    "  &= \\sum_{i=1}^n log L\\left( \\theta \\mid x_i \\right) \\\\\n",
    "   &= \\sum_{i=1}^n l\\left( \\theta \\mid x_i \\right) \n",
    "\\end{align*}\n",
    "$$\n",
    "\n",
    "Finding the MLE involves the same three steps as we saw in the previous session, but the log-likelihood function is now a joint function for the $n$ observations:\n",
    "\n",
    "<div class=\"alert alert-success\">\n",
    "    \n",
    "<b> Method for finding MLEs:</b>   \n",
    "1.  Obtain the derivative of the log-likelihood: $\\frac{d l(\\theta \\mid \\mathbf{x})}{d \\theta}$  \n",
    "2.  Set $\\frac{d l(\\theta \\mid \\mathbf{x})}{d \\theta}=0$ and solve for $\\theta$   \n",
    "3.  Verify that it is a maximum by showing that the second derivative $\\frac{d ^2 l(\\theta \\mid  \\mathbf{x})}{d \\theta ^2 }$ is negative when the MLE is substituted for $\\theta$.    \n",
    "    \n",
    "</div>\n",
    "\n"
   ]
  },
  {
   "cell_type": "markdown",
   "metadata": {},
   "source": [
    "## 6.1.1 Example: Exponential distribution \n",
    "\n",
    "Recall the example from the previous session, investigating the time that patients wait until their GP appointment in a particular practice. The receptionist records the time that elapses between when a patient walks through the door, and when they are called through for their appointment for a random sample of 8 people. These times (in minutes) are: 8.75, 10.20, 15.29, 7.89, 7.04, 12.04, 19.04, 17.50.      \n",
    "\n",
    "As a reminder, we can model the waiting time until a specific event using the exponential distribution with parameter $\\lambda$, which has a probability density function given by:  \n",
    "\n",
    "$$\n",
    "\\begin{equation}  \n",
    "f _X\\left(x \\mid \\lambda \\right)=\\lambda e^{-x\\lambda} , x > 0, \\lambda > 0  \n",
    "\\end{equation}\n",
    "$$\n",
    "\n",
    "> Recall that the mean of this distribution is equal to one over the rate parameter $\\lambda$, i.e. $E(X) = \\frac{1}{\\lambda}$.\n",
    "\n",
    "We have that the log-likelihood is: \n",
    "\n",
    "$$\n",
    "\\begin{align}\n",
    "\\log L\\left( \\lambda \\mid \\mathbf{x} \\right) &= \\sum_{i=1}^n \\log  L(\\lambda \\mid x_i) \\\\ \n",
    "&= \\sum_{i=1}^n \\log \\left( \\lambda e^{-x_i \\lambda } \\right) \\\\\n",
    "&= \\sum_{i=1}^n \\log \\lambda -x_i\\lambda \\\\  \n",
    "&= n \\log \\lambda -\\lambda \\sum_{i=1}^n x_i \n",
    "\\end{align}\n",
    "$$\n",
    "\n",
    "We can make a plot of this log-likelihood, using the data from our example with eight observations. "
   ]
  },
  {
   "cell_type": "code",
   "execution_count": 1,
   "metadata": {},
   "outputs": [
    {
     "data": {
      "image/png": "[encoded data removed]",
      "text/plain": [
       "plot without title"
      ]
     },
     "metadata": {
      "filenames": {
       "image/png": "/Users/lsh1603970/Documents/GitHub/Content-2021/Jupyter_Book/SHDS/_build/jupyter_execute/06.b. Maximum Likelihood_2_0.png"
      },
      "image/png": {
       "height": 180,
       "width": 240
      }
     },
     "output_type": "display_data"
    }
   ],
   "source": [
    "options(repr.plot.width=4, repr.plot.height=3)\n",
    "\n",
    "#six independent observations for waiting times \n",
    "obs <- c(8.75, 10.20, 15.29, 7.89, 7.04, 12.04, 19.04, 17.50)\n",
    "n <- length(obs)\n",
    "\n",
    "#possible values for the parameter lambda\n",
    "lambda <- seq(0, 2, 0.01)\n",
    "\n",
    "#plot the log-likelihood\n",
    "plot(lambda, n*log(lambda) - lambda*sum(obs), type=\"l\", xlab= expression(lambda), ylim=c(-100,0),ylab=\"Log-likelihood\")"
   ]
  },
  {
   "cell_type": "markdown",
   "metadata": {},
   "source": [
    "Graphically, we observe that the maximum is between 0 and 0.25. We will use the three steps, as before, to derive the MLE algebraically:\n",
    "\n",
    "**Step1**: Taking the derivative of the log-likelihood with respect to $\\lambda$:\n",
    "\n",
    "$$\n",
    "\\begin{equation}\n",
    "\\frac{d log L\\left( \\lambda \\mid x_1 ,..., x_n \\right) }{d \\lambda} = \\frac{n}{\\lambda}- \\sum_{i=1}^n x_i \n",
    "\\end{equation}\n",
    "$$\n",
    "\n",
    "**Step2:** Set the derivative equal to zero and solve for $\\lambda$:\n",
    "\n",
    "$$\n",
    "\\begin{align*}\n",
    "0 &= \\frac{n}{\\lambda}- \\sum_{i=1}^n x_i \\\\\n",
    "\\hat{\\lambda} &= \\frac{n }{\\sum_{i=1}^n x_i} = \\frac{1}{\\bar{x}}\n",
    "\\end{align*}\n",
    "$$\n",
    "\n",
    "The MLE is $\\hat{\\lambda}= \\frac{1}{\\bar{x}}$. And to check that this provides a maximum, we go on to the next step:  \n",
    "\n",
    "**Step3:** Find the second derivative: \n",
    "\n",
    "\n",
    "$$\n",
    "\\begin{equation}\n",
    "\\frac{d l^2 \\left( \\lambda \\mid \\boldsymbol{x} \\right)}{d \\lambda ^2} \n",
    "= - \\frac{n}{\\lambda^2}\n",
    "\\end{equation}\n",
    "$$\n",
    "\n",
    "When ${\\lambda}=\\frac{1}{\\bar{x}}$, we have: \n",
    "\n",
    "$$\n",
    "\\begin{align}\n",
    " \\frac{d l^2 \\left( \\lambda \\mid \\boldsymbol{x} \\right)}{d \\lambda ^2}  \n",
    " &=-n \\bar{x}^2\n",
    " \\end{align}\n",
    "$$\n",
    "\n",
    "which is negative. This verifies that we found the maximum likelihood estimate. \n",
    "\n",
    "Going back to our example of eight patients waiting for their GP appointment, the maximum likelihood estimate $\\lambda$ is given by one over the average of the eight waiting times:"
   ]
  },
  {
   "cell_type": "code",
   "execution_count": 2,
   "metadata": {},
   "outputs": [
    {
     "data": {
      "text/html": [
       "0.0818414322250639"
      ],
      "text/latex": [
       "0.0818414322250639"
      ],
      "text/markdown": [
       "0.0818414322250639"
      ],
      "text/plain": [
       "[1] 0.08184143"
      ]
     },
     "metadata": {},
     "output_type": "display_data"
    }
   ],
   "source": [
    "1/mean(obs)"
   ]
  },
  {
   "cell_type": "markdown",
   "metadata": {},
   "source": [
    "We have that $\\hat{\\lambda}=0.0818$ minutes. "
   ]
  },
  {
   "cell_type": "markdown",
   "metadata": {},
   "source": [
    "## 6.1.2 Example: Normal distribution \n",
    "\n",
    "We will now consider the normal distribution. Remember that the normal distribution has two parameters, $\\mu$ and $\\sigma^2$. We will first obtain the MLE for $\\mu$ (treating $\\sigma^2$ as a constant), and in the practical, we will obtain the MLE for $\\sigma^2$ (treating $\\mu$ as a constant). \n",
    "\n",
    "Recall that normal distribution has probability density function given by: \n",
    "\n",
    "$$\n",
    "\\begin{equation}  \n",
    "f_X \\left( x \\mid \\mu, \\sigma^2 \\right)= (2 \\pi \\sigma^2)^{-\\frac{1}{2}} \\exp \\left\\{-\\frac{(x-\\mu)^2}{2\\sigma^2} \\right\\}\n",
    "\\end{equation}\n",
    "$$\n",
    "\n",
    "We have that the log-likelihood given an i.i.d. sample of size $n$ is: \n",
    "\n",
    "$$\n",
    "\\begin{align}\n",
    "l \\left(\\mu, \\sigma^2 \\mid  \\boldsymbol{x}  \\right) &=  \\sum_{i=1}^n \\log \\left\\{ (2 \\pi \\sigma^2)^{-\\frac{1}{2}} \\exp \\left\\{-\\frac{(x_i-\\mu)^2}{2\\sigma^2} \\right\\} \\right\\} \\\\\n",
    "&= \\sum_{i=1}^n \\left\\{ \\log (2 \\pi \\sigma^2)^{-\\frac{1}{2}}+ \\log \\exp  \\left\\{-\\frac{(x_i-\\mu)^2}{2\\sigma^2} \\right\\}  \\right\\} \\\\\n",
    "&= \\sum_{i=1}^n \\left\\{ -\\frac{1}{2} \\log (2 \\pi \\sigma^2) - \\frac{(x_i-\\mu)^2}{2\\sigma^2}  \\right\\} \\\\\n",
    "&=  {-\\frac{n}{2}}\\log (2 \\pi \\sigma^2) -\\frac{1}{2\\sigma^2} \\sum_{i=1}^n (x_i-\\mu)^2 \n",
    "\\end{align}\n",
    "$$\n",
    "\n",
    "We will first find the MLE for the parameter $\\mu$. \n",
    "\n",
    "**Step1**: Take the derivative of the log-likelihood with respect to  $\\mu$. Note that this requires use of the chain rule:\n",
    "\n",
    "$$\n",
    "\\begin{align}  \n",
    "\\frac{d l \\left(\\mu, \\sigma^2 \\mid  \\mathbf{x}  \\right) }{d \\mu}\n",
    "&=  -\\frac{2}{2\\sigma^2}(-1) \\sum_{i=1}^n (x_i-\\mu) \\\\\n",
    "&=  \\frac{ \\sum_{i=1}^n (x_i-\\mu)}{\\sigma^2} \\\\\n",
    "&=  \\frac{ \\sum_{i=1}^n x_i-n\\mu}{\\sigma^2}\n",
    "\\end{align}\n",
    "$$\n",
    "\n",
    "**Step2:** Setting the derivative equal to zero and solving for $\\mu$:\n",
    "\n",
    "\n",
    "$$\n",
    "\\begin{align}  \n",
    "0 &=  \\frac{ \\sum_{i=1}^n x_i-n\\mu}{\\sigma^2} \\\\\n",
    "\\end{align}\n",
    "$$\n",
    "\n",
    "Since $\\sigma^2 > 0$, we have that: \n",
    "\n",
    "$$\n",
    "\\begin{equation}  \n",
    "0 = \\sum_{i=1}^n x_i-n\\mu \n",
    "\\end{equation}\n",
    "$$\n",
    "\n",
    "$$\n",
    "\\begin{equation}  \n",
    "\\hat{\\mu} =\\frac{ \\sum_{i=1}^n x_i}{n} = \\bar{x}\n",
    "\\end{equation}\n",
    "$$\n",
    "\n",
    "We have that the MLE for $\\mu$ is the sample mean, $\\bar{x}$. \n",
    "\n",
    "**Step3:** Find the second derivative: \n",
    "\n",
    "$$\n",
    "\\begin{align}  \n",
    "\\frac{d^2 l \\left(\\mu, \\sigma^2 \\mid  \\mathbf{x}  \\right) }{d \\mu^2 }\n",
    "&=  -\\frac{n}{\\sigma^2},\n",
    "\\end{align}\n",
    "$$\n",
    "\n",
    "since both $n>0$ and $\\sigma^2 >0$, we have that the second derivative is negative, verifying that we have found the maximum.    \n",
    "\n",
    "In the practical, we will find the MLE for $\\sigma^2$. "
   ]
  },
  {
   "cell_type": "code",
   "execution_count": null,
   "metadata": {},
   "outputs": [],
   "source": []
  }
 ],
 "metadata": {
  "kernelspec": {
   "display_name": "R",
   "language": "R",
   "name": "ir"
  },
  "language_info": {
   "codemirror_mode": "r",
   "file_extension": ".r",
   "mimetype": "text/x-r-source",
   "name": "R",
   "pygments_lexer": "r",
   "version": "4.0.4"
  }
 },
 "nbformat": 4,
 "nbformat_minor": 4
}