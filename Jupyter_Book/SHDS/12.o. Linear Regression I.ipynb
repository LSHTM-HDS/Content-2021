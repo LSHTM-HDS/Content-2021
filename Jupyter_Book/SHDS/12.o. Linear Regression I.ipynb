{
 "cells": [
  {
   "cell_type": "markdown",
   "metadata": {},
   "source": [
    "## 12.14 Including categorical predictor variables in linear regression models \n",
    "\n",
    "We have already seen that binary variables can be included in linear regression models through the creation of a \"dummy\" variable taking the value 0 and 1. If we wish to include a categorical variable with $c$ categories (where $c>2$), the extension of this is to create ($c-1$) dummy variables. We illustrate this approach for a categorical variable ($X$) which has three possible values: 0,1,2. Since $X$ has 3 categories, 2 dummy variables ($U_1$ and $U_2$) are required. We define $U_1$ and $U_2$ as:\n",
    "\n",
    "$$ u_{1i}\n",
    "\\begin{cases}\n",
    "    1 & \\text{ if } x_{i}=1\\\\\n",
    "    0 & \\text{ if } x_{i} \\neq 1\n",
    "\\end{cases} $$\n",
    "\n",
    "and \n",
    "$$ u_{2i}\n",
    "\\begin{cases}\n",
    "    1 & \\text{ if } x_{i}=2\\\\\n",
    "    0 & \\text{ if } x_{i} \\neq 2\n",
    "\\end{cases}\n",
    "$$\n",
    "\n",
    "Then a multivariable  linear regression model relating $Y$ to our categorical variable $X$ is: \n",
    "\n",
    "$$y_i = \\beta_0 + \\beta_1 u_{1i} + \\beta_2 u_{2i} + \\epsilon_i \\text{ where } \\epsilon_i \\sim NID(0, \\sigma^2)$$\n",
    "\n",
    "The equation above can also be written as follows:\n",
    "\n",
    "\\begin{align}\n",
    "y_i & = \\beta_0 + \\epsilon_i \\text{ if } x_i=0 \\\\\n",
    "y_i & = \\beta_0 + \\beta_1 +  \\epsilon_i \\text{ if } x_i=1 \\\\\n",
    "y_i & = \\beta_0 + \\beta_2 + \\epsilon_i \\text{ if } x_i=2 \\\\\n",
    "\\end{align}\n",
    "\n",
    "This makes explicit the interpretation of the parameters in the model. \n",
    "\n",
    "+ $\\beta_0$ is the expectation of $Y$ when $X=0$\n",
    "+ $\\beta_0 + \\beta_1$ is the expectation of $Y$ when $X=1$. Hence $\\beta_1$ is the difference in the expectation of $Y$ between groups defined by $X=0$ and $X=1$.\n",
    "+ $\\beta_0 + \\beta_2$ is the expectation of $Y$ when $X=2$. Hence $\\beta_2$ is the difference in the expectation of $Y$ between groups defined by $X=0$ and $X=2$. \n",
    "\n",
    "In this parameterisation of the model, the group defined by $X=0$ is often referred to as the baseline group. There is no statistical reason why one group rather than another should be chosen as the baseline group and it can sometimes be desirable to re-parameterise a model of this type to estimate parameters representating differences in mean levels from a particular baseline group. "
   ]
  }
 ],
 "metadata": {
  "kernelspec": {
   "display_name": "R",
   "language": "R",
   "name": "ir"
  },
  "language_info": {
   "codemirror_mode": "r",
   "file_extension": ".r",
   "mimetype": "text/x-r-source",
   "name": "R",
   "pygments_lexer": "r",
   "version": "3.6.1"
  }
 },
 "nbformat": 4,
 "nbformat_minor": 4
}
