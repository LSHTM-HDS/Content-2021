{
 "cells": [
  {
   "cell_type": "markdown",
   "metadata": {},
   "source": [
    "## 12.19 Summary of chapter\n",
    "\n",
    "In the current chapter, we have learnt the following: \n",
    "\n",
    " + The definitions of the simple and multivariable linear regression model\n",
    " + How to express the above models in a single equation and in matrix form \n",
    " + What assumptions are made in linear regression \n",
    " + How to estimate and interpret the parameters in a linear regression model\n",
    " + How to conduct hypothesis tests to test the null hypothesis that an estimated regression coefficient is equal to some constant\n",
    " + How to obtain and interpret confidence intervals for estimated regression coefficients and fitted values\n",
    " + How to obtain and interpret prediction intervals for fitted values\n",
    " + How to include categorical variables in a linear regression model\n",
    " + What it means to center a variable in linear regression\n",
    " + How to perform ANOVA to compare nested models\n",
    " + How to perform ANOVA to compare group means \n",
    " \n",
    "In the next chapter we will learn about some diagnostics tools that are available for assessing the assumptions of a linear model and how to model more complex relationships between covariates and the outcome. We will also discuss how the type of investigation influences the presentation and interpretation of the results of linear regression. \n"
   ]
  }
 ],
 "metadata": {
  "kernelspec": {
   "display_name": "R",
   "language": "R",
   "name": "ir"
  },
  "language_info": {
   "codemirror_mode": "r",
   "file_extension": ".r",
   "mimetype": "text/x-r-source",
   "name": "R",
   "pygments_lexer": "r",
   "version": "3.6.1"
  }
 },
 "nbformat": 4,
 "nbformat_minor": 4
}
