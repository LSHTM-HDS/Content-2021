{
 "cells": [
  {
   "cell_type": "markdown",
   "metadata": {},
   "source": [
    "## Part 1: 9.1 Introduction to Bayesian Inference\n",
    "\n",
    "### 9.1.1 Probability \n",
    "In Session 2, we learned about probability in the frequentist sense: the proportion of times an event occurs in the long-run. Let's have a look at the following two scenarios:\n",
    "\n",
    "1. A research group wishes to know the probability that a baby who is born in a particular hospital ward has cystic fibrosis. They look at the records on screening tests done at birth to investigate.  \n",
    "\n",
    "2. A 34 year old woman attends her GP practice, worried that she has cancer because she has had feelings of “fullness” and “bloating” as well as mild nausea for the last 2 weeks. The patient mentions ovarian, bowel and pancreatic cancer as concerns having read about her symptoms on the internet. The rest of the history as well as physical examination are unremarkable. If the GP's assessment of the risk were above a certain level, the GP might refer the patient for tests (collect more data). In this case, the GP concludes that the current information about the patient suggests there is a very low risk that the patient has cancer. \n",
    "\n",
    "> What is the quantity that we trying to estimate in each scenario?   \n",
    "> What is the frequentist definition of probability in each of these settings? Does it make sense?    \n",
    "\n",
    "A key problem with the frequentist paradigm is that the \"long-run\" frequency definition is not always relevant, or even appropriate, as we see in the second example above. Further, notice that the GP uses information from different sources to draw his/her conclusion about the probability that the patient has cancer. This synthesis of information can be incorporated into a Bayesian framework. A frequentist, in contrast, would tackle this problem by thinking about:\n",
    "\n",
    "> a) the probability of the patient having these symptoms, given that she has cancer;  \n",
    "> b) the probability of the patient having these symptoms, given that she does not have cancer; \n",
    "\n",
    "and comparing the two probabilities. Note that this does not take into account the extra information about the context. \n",
    "\n"
   ]
  },
  {
   "cell_type": "markdown",
   "metadata": {},
   "source": [
    "### 9.1.2 Bayesian Inference \n",
    "\n",
    "The underlying concept for Bayesian inference essentially works as follows. We have some population parameter $\\theta$ which we wish to make inference on, and the likelihood $p(y|\\theta)$ which tells us how likely different values of $y$ are, conditional on different parameter values $\\theta$. In the frequentist approach, $\\theta$ is considered to be a fixed, but unknown, constant. Inference is then based on the likelihood $p(\\mathbf{y}|\\theta)$, where $\\mathbf{y} = \\left\\{y_1, . . . ,y_n\\right\\}$ is a sample of observations from the population. The frequentist approach looks at the distribution of the data given $\\theta$ to estimate $\\theta$ by using, for example, the maximum likelihood approach which we covered in Session 6.   \n",
    "\n",
    "In the Bayesian paradigm, we no longer assume that the parameters have a fixed true value, but consider $\\theta$ to be a random quantity with an unknown distribution, which we wish to estimate. This distribution is denoted by $p(\\theta|y)$, and so we look at the distribution of the parameter, having seen data $y$. To achieve this, we will have to specify a prior probability distribution, denoted $p(\\theta)$, which represents our initial beliefs about the distribution of $\\theta$ \n",
    "prior to observing any data. In some situations, when we are trying to estimate a parameter $\\theta$ we have some knowledge, about the possible value of $\\theta$ before we take into account the data that we observe.   \n",
    "\n",
    "For example, consider the way a physician makes diagnostic decisions. A patient presents with a set of symptoms, concerned that they might have a certain disease. The physician assesses the probability that this patient has this disease, based on symptoms, family history, alternative explanations of symptoms and prevalence of the disease (their prior view that the patient has the disease). The physician might send the patient for a diagnostic test (collects some data) if her prior assessment of risk is above some threshold. Then the physician re-assesses the chance that the patient has this disease, taking account of the results and reliability of the diagnostic test (updates their prior in light of the data to get a posterior view on whether the patient has the disease). Depending on their certainty, the physician may then send the patient for further diagnostic tests. This thought process can be represented by the figure below and is analogous to Bayesian thinking.\n",
    "\n",
    "   ![Physician.png](attachment:Physician.png)\n",
    "\n",
    "In this example, the physician is assessing the probability that the patient has the disease. It is the physician's prior probability based on their own training, knowledge and experience; a colleague may have a different prior probability. Here, prior probability is being defined subjectively. The size of the probability represents the physician's degree of belief about the occurrence of an event, i.e. their own personal assessment of how likely an event is, based on the evidence available to them before the test results are given. This definition corresponds more closely to the everyday, intuitive  usage of probability than a frequentist interpretation (where the probability of a particular event occurring can be interpreted as the proportion of times the event would/does occur in a large number of similar trials or situations). The prior probability of the event might come from direct data, known prevalance of disease in a population, or data from related populations. If such prior information does not exist, then it can be formally elicited from experts, but we would want to acknowledge the uncertainty in the experts' knowledge.  "
   ]
  },
  {
   "cell_type": "markdown",
   "metadata": {},
   "source": [
    "\n",
    "\n",
    "## 9.5 Bayes Theorem \n",
    "\n",
    "Let's remind ourselves of Bayes theorem for discrete events, which we met in Session 2 (probability): \n",
    "\n",
    "If $A$ and $B$ are events, then \n",
    "\n",
    "\\begin{equation}\n",
    "P(A|B) = \\frac{ P(B|A) P(A) } {P(B)} \\propto P(B|A) P(A),\n",
    "\\end{equation}\n",
    "\n",
    "\n",
    "or in words: \n",
    "\\begin{equation}\n",
    "\\mbox{posterior probability of A given B} \\propto \\mbox{the likelihood of B given A} \\times \\mbox{the prior probability of A}.\n",
    "\\end{equation}\n",
    "\n",
    "\n",
    "Also, if $A_i$ is a set of mutually exclusive and exhaustive events, i.e. $ p( \\bigcup\\limits_i A_i ) = \\sum\\limits_i p(A_i) = 1$ and $A_i \\cap A_j = \\emptyset$ for $i \\neq j$, then \n",
    "\n",
    "\\begin{equation}\n",
    "p(A_i|B) = \\frac{ p(B|A_i) p(A_i) } {\\sum\\limits_j p(B|A_j) p(A_j) }.\n",
    "\\end{equation}\n",
    "\n",
    "The calculation of the denominator is more difficult if we have continuous parameters as it requires integration over A; we will discuss this in the next section.   \n",
    "\n",
    "We will illustrate Bayes Theorem further with the diagnostic test example for Covid-19 below. We see Bayesian reasoning is purely probabilistic. Bayes theorem gives us a principled way to update prior probabilities on the basis of new data. \n",
    "\n"
   ]
  },
  {
   "cell_type": "markdown",
   "metadata": {},
   "source": [
    "\n",
    "## 9.6 Example \n",
    "\n",
    "[Watson (2020)](https://www.bmj.com/content/bmj/369/bmj.m1808.full.pdf) discusses some interesting issues around the interpretation of Covid-19 diagnostic tests. Typically, a clinician estimates a pre-test probability (a prior probability) of having Covid-19 for a particular area, which is derived from knowledge about local rates of Covid-19. Then, given a patient's test result, the post-test probability (the posterior probability) of having Covid-19 is obtained. The posterior probability depends on the pre-test probability, as well as the sensitivity and specificity of the test, which are difficult to estimate; often, sensitivity is over-estimated. The article discusses how one can be fairly confident about a positive test result, but more caution is needed for a negative test result, as there may still be quite a high chance that a person has Covid-19. We illustrate this with Bayes' theorem. \n",
    "\n",
    "Suppose that, in a student hall of residence, the prevalence of Covid-19 if you have a persistent cough is $75\\%$. Suppose we assume that the test will be positive in Covid-19 patients $70\\%$ of the time (sensitivity is 0.7), and it will be negative in non-Covid-19 patients $95\\%$ of the time (specificity is 0.95). Given that a student in this hall with a persistent cough tests negative, what is the probability that they have Covid-19? In other words, what is the probability of a false negative?  \n",
    "\n",
    "Let us denote by $C+$ the event that a person has Covid-19, and $C-$ the event that a person does not have Covid-19.  Further we denote by $T+$ and $T-$ the events that a person has a positive and a negative test, respectively. The information we are given is that: \n",
    "\n",
    "\n",
    "\\begin{align}\n",
    "p(C+)&=0.75  \\\\\n",
    "p(T+|C+)&=0.70 \\\\\n",
    "p(T-|C-)&=0.95\\\\\n",
    "\\end{align}\n",
    "\n",
    "Now, what we want is:\n",
    "\\begin{align}\n",
    "p(\\mbox{false negative}) = p(C+|T-)&= \\frac{p(T-|C+)p(C+)}{p(T-)} \\\\\n",
    "&= \\frac{p(T-|C+)p(C+)}{p(T-|C+)p(C+) + p(T-|C-)p(C-)} \\\\\n",
    "&= \\frac{(1-0.7) \\times 0.75}{(1-0.7) \\times 0.75 + 0.95 \\times 0.25} \\\\\n",
    "&= \\frac{0.225}{0.4625} \\\\\n",
    "&= 0.4864\n",
    "\\end{align}\n",
    "\n",
    "You can see that, despite the negative test result, due to the very high prevalence of Covid-19 in the hall of residence and the relatively low sensitivity rate, there is still a 48.64% chance that a person has Covid-19.  \n",
    "\n",
    "Suppose a different student has no symptoms. The prevalence of Covid-19 in asymptomatic people is 0.1. They use the same diagnostic test and the test result is positive. What is the probability that this student with a positive test result has Covid-19? In other words, what is $p(C+|T+)$?"
   ]
  },
  {
   "cell_type": "markdown",
   "metadata": {},
   "source": [
    "Solution:\n",
    "\\begin{align}\n",
    "p(C+|T+) &= \\frac{p(T+|C+)p(C+)}{p(T+)} \\\\\n",
    "&= \\frac{p(T+|C+)p(C+)}{p(T+|C+)p(H+) + p(T+|C-)p(C-)} \\\\\n",
    "&= \\frac{0.7 \\times 0.1}{0.7 \\times 0.1 + (1-0.95) \\times 0.9} \\\\\n",
    "&= \\frac{0.07}{0.115} \\\\\n",
    "&= 0.609\n",
    "\\end{align}\n",
    "\n",
    "This means that, amongst all the people who test positive, $60.9\\%$ will actually have the disease. After a positive result from a test, the probability that you have Covid-19 increase from $10\\%$ to $61\\%$.\n",
    "\n",
    "Note that these results are specific to the the prevalence of Covid-19 in the area, as well as the sensitivity and specificity of the diagnostic test. The code below reproduces the leaf-plot from [Watson (2020)](https://www.bmj.com/content/bmj/369/bmj.m1808.full.pdf). The $x$-axis is the pre-test probability of having Covid-19. The corresponding $y$-values on the lower curve (lower leaf) are the post-test probabilities of having Covid-19, following a negative test result. The corresponding $y$-values on the upper curve (upper leaf) are the post-test probabilities of having Covid-19, following a positive test result. The correponding values on the diagonal ($y=x$) line represent probabilities if no test is carried out. \n",
    "\n",
    "In our first example, the prevalence in symptomatic people is 0.75, so we follow the orange arrows to find that the post-test probability after a negative result 0.4864. In the second example, the prevalence in asymptomatic people is 0.1. We follow the purple arrows to find that the post-test probability after a positive result is 0.609. How do you think the shape of the lower and upper leaves would change, if sensitivity was higher? If specificity was lower? Re-run the code with different values to check. "
   ]
  },
  {
   "cell_type": "code",
   "execution_count": 14,
   "metadata": {},
   "outputs": [
    {
     "data": {
      "image/png": "[encoded data removed]",
      "text/plain": [
       "plot without title"
      ]
     },
     "metadata": {},
     "output_type": "display_data"
    }
   ],
   "source": [
    "# Function takes as arguments the sensitivitiy of the test (sensi) \n",
    "# and the specificity (speci)\n",
    "\n",
    "leafplot <- function(sensi, speci){\n",
    "  \n",
    "  pretest <- seq(0, 1, 0.01) #possible pre-test probabilities \n",
    "  \n",
    "  #probability of having Covid-19 after a positive test result \n",
    "  pos.test <- sensi*pretest/(sensi*pretest+(1-speci)*(1-pretest))\n",
    "  \n",
    "  #probability of having Covid-19 after a negative test result \n",
    "  neg.test <- ((1-sensi)*(pretest))/((1-sensi)*pretest+speci*(1-pretest))\n",
    "  \n",
    "  #plot leaves\n",
    "  plot(pretest, pos.test, type=\"l\", col=\"darkgreen\", \n",
    "     xlab=\"Pre-test Probability\", ylab=\"Post-test Probability\")\n",
    "  points(pretest, neg.test, type=\"l\", col=\"darkgreen\")\n",
    "  abline(a=0, b=1, col=\"darkgreen\")\n",
    "  legend(\"topleft\", legend=c(\"Positive Test\", \"Negative Test\"),\n",
    "        col=c(\"Purple\", \"Orange\"), lty=1, bg=\"transparent\")\n",
    "  \n",
    "  #plot arrows \n",
    "    #we use pretest[11] to get the prevalence value of 0.1, and \n",
    "    #pretest[76] to get the prevalence value of 0.75 in the vector \"pretest\"\n",
    "    \n",
    "  arrows(pretest[11], 0, pretest[11], pos.test[11], angle=15, col=\"purple\")\n",
    "  arrows(pretest[11], pos.test[11], 0, pos.test[11], angle=15, col=\"purple\")\n",
    "  arrows(pretest[76], 0, pretest[76], neg.test[76], angle=15, col=\"orange\")\n",
    "  arrows(pretest[76], neg.test[76], 0, neg.test[76], angle=15, col=\"orange\")\n",
    "  \n",
    "  }\n",
    "\n",
    "options(repr.plot.width=6.5, repr.plot.height=5.5)\n",
    "leafplot(sensi=0.7, speci=0.95)\n",
    "\n",
    "\n",
    "#See what happens to the plot when you change sensitivity and specificity! \n",
    "#leafplot(0.95, 0.8)"
   ]
  },
  {
   "cell_type": "markdown",
   "metadata": {},
   "source": [
    "## 9.7 The Bayesian paradigm in Health data science problems. \n",
    "\n",
    "We end this section with a discussion on the Bayesian approach in Health data science problems. Some features of the Bayesian paradigm are particularly useful in this context: \n",
    "> 1.\tBayes theorem provides a statistically principled method for combining data. Thus, we can take into account the context within which the data are generated. For example, results of a diagnostic test may have a different interpretation/consequence if used in a symptomatic patient than in a general screening programme. The prior probability of disease would be higher in the former than the latter. Priors can then be updated by the test result to give an assessment of disease risk specific to the local prevalence.\n",
    "> 2.\tFor problems where there are multiple or diverse sources of data which must be combined, the Bayesian framework provides a natural environment for doing so. Examples where Bayesian synthesis of information is common are:         \n",
    "•\tmodels of biological systems, for example genetic and genomic pathways,                     \n",
    "•\tmodels of the natural history of diseases over time and relationships with clinical events,           \n",
    "•\teconomic models of disease trajectories and cost-effect trade-offs for interventions that interrupt the trajectories,   \n",
    "•\tecological studies of pollutant emissions and effects on population health,       \n",
    "•\tdemographic studies, for example to study migration,          \n",
    "•\tspeech recognition software,                 \n",
    "•\tother pattern recognition models such as medical imaging or search engines,                 \n",
    "•\tepidemic modelling.                       \n",
    "In all these examples complex data is synthesised and/or used to update outputs.             \n",
    "> 3.\tBayesian models fit well into decision theory methodology, providing we can also specify consequences of model outputs.\n",
    "> 4.\tIn many examples, especially those that aim to model complicated processes, some of the data inputs are very sparse, or even non-existent. In such cases, prior data may be formally elicited from an expert panel and incorporated in a Bayesian analysis. Examples include multiple evidence synthesis and identification of latent groups.\n",
    "> 5.\tBayesians are allowed to make direct probability statements about unknown quantities. Frequentists cannot make these direct probability statements because the unknown model parameters are assumed fixed.\n",
    "> 6.\tIn recent years the resources available to complete Bayesian analysis have increased, including bespoke software and packages within commercial statistical software.\n",
    "\n",
    "But Bayesian methods are not that widely used in statistics compared with more classical approaches because they have some limitations.\n",
    "> 1.\tSometimes the need for a prior distribution is a barrier if little is known about a parameter and researchers fall back on priors that are weakly informative. In that case, it is not easy to see how much benefit comes from a Bayesian analysis.\n",
    "> 2.\tBecause of the need to use Bayesian updating via a prior distribution, the analysis almost always requires a parametric approach. This limits the structure of the analysis models. Although non-parametric Bayesian methods are available for some situations, they often have underlying parametric assumptions.\n",
    "> 3.\tThe numerical integration methods usually required for realistic problems are often computationally expensive. This is especially true if there are multiple sources of evidence to be combined.\n",
    "> 4.\tMany statisticians are unfamiliar with the methods and associated software."
   ]
  },
  {
   "cell_type": "code",
   "execution_count": null,
   "metadata": {},
   "outputs": [],
   "source": []
  }
 ],
 "metadata": {
  "kernelspec": {
   "display_name": "R",
   "language": "R",
   "name": "ir"
  },
  "language_info": {
   "codemirror_mode": "r",
   "file_extension": ".r",
   "mimetype": "text/x-r-source",
   "name": "R",
   "pygments_lexer": "r",
   "version": "3.6.1"
  }
 },
 "nbformat": 4,
 "nbformat_minor": 4
}
