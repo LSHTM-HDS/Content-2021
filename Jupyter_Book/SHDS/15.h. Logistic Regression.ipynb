{
 "cells": [
  {
   "cell_type": "markdown",
   "metadata": {
    "hideCode": false,
    "hidePrompt": false
   },
   "source": [
    "## 15.7 Example 2: Dementia\n",
    "\n",
    "Let see a second example with several variables to see how to interpret the results. This time, our interest lies in modeling the probability of developing dementia during the follow-up according to sex, age at inclusion and bmi at inclusion.\n",
    "\n",
    "\n",
    "$$\\mathrm{logit}(\\pi_i) = \\beta_0 + \\beta_1sex_i + \\beta_2 age_i + \\beta_3 bmi_i$$\n",
    "\n",
    "This model can be estimated in `R`using the `glm` function"
   ]
  },
  {
   "cell_type": "code",
   "execution_count": 9,
   "metadata": {
    "hideCode": false,
    "hidePrompt": false
   },
   "outputs": [],
   "source": [
    "dementia2 <- glm(dementia ~ sex + age + bmi, data = dementia, family = binomial(link=\"logit\"))"
   ]
  },
  {
   "cell_type": "markdown",
   "metadata": {
    "hideCode": false,
    "hidePrompt": false
   },
   "source": [
    "As usually, let us print the results that have been stored in the `R`object `dementia2`."
   ]
  },
  {
   "cell_type": "code",
   "execution_count": 10,
   "metadata": {
    "hideCode": false,
    "hidePrompt": false
   },
   "outputs": [
    {
     "data": {
      "text/plain": [
       "\n",
       "Call:\n",
       "glm(formula = dementia ~ sex + age + bmi, family = binomial(link = \"logit\"), \n",
       "    data = dementia)\n",
       "\n",
       "Deviance Residuals: \n",
       "    Min       1Q   Median       3Q      Max  \n",
       "-1.1067  -0.1959  -0.1134  -0.0732   3.6917  \n",
       "\n",
       "Coefficients:\n",
       "             Estimate Std. Error z value Pr(>|z|)    \n",
       "(Intercept) -9.783837   0.152138 -64.309  < 2e-16 ***\n",
       "sex          0.306798   0.033773   9.084  < 2e-16 ***\n",
       "age          0.098682   0.001413  69.826  < 2e-16 ***\n",
       "bmi         -0.025619   0.003596  -7.124 1.05e-12 ***\n",
       "---\n",
       "Signif. codes:  0 ‘***’ 0.001 ‘**’ 0.01 ‘*’ 0.05 ‘.’ 0.1 ‘ ’ 1\n",
       "\n",
       "(Dispersion parameter for binomial family taken to be 1)\n",
       "\n",
       "    Null deviance: 38333  on 199999  degrees of freedom\n",
       "Residual deviance: 31732  on 199996  degrees of freedom\n",
       "AIC: 31740\n",
       "\n",
       "Number of Fisher Scoring iterations: 8\n"
      ]
     },
     "metadata": {},
     "output_type": "display_data"
    }
   ],
   "source": [
    "summary(dementia2)"
   ]
  },
  {
   "cell_type": "markdown",
   "metadata": {
    "hideCode": false,
    "hidePrompt": false
   },
   "source": [
    "We compute the exponential of the estimated coefficients and will interpret each."
   ]
  },
  {
   "cell_type": "code",
   "execution_count": 11,
   "metadata": {
    "hideCode": false,
    "hidePrompt": false
   },
   "outputs": [
    {
     "data": {
      "text/html": [
       "<dl class=dl-horizontal>\n",
       "\t<dt>(Intercept)</dt>\n",
       "\t\t<dd>5.63551570540758e-05</dd>\n",
       "\t<dt>sex</dt>\n",
       "\t\t<dd>1.35906636679882</dd>\n",
       "\t<dt>age</dt>\n",
       "\t\t<dd>1.1037155539435</dd>\n",
       "\t<dt>bmi</dt>\n",
       "\t\t<dd>0.974706075132112</dd>\n",
       "</dl>\n"
      ],
      "text/latex": [
       "\\begin{description*}\n",
       "\\item[(Intercept)] 5.63551570540758e-05\n",
       "\\item[sex] 1.35906636679882\n",
       "\\item[age] 1.1037155539435\n",
       "\\item[bmi] 0.974706075132112\n",
       "\\end{description*}\n"
      ],
      "text/markdown": [
       "(Intercept)\n",
       ":   5.63551570540758e-05sex\n",
       ":   1.35906636679882age\n",
       ":   1.1037155539435bmi\n",
       ":   0.974706075132112\n",
       "\n"
      ],
      "text/plain": [
       " (Intercept)          sex          age          bmi \n",
       "5.635516e-05 1.359066e+00 1.103716e+00 9.747061e-01 "
      ]
     },
     "metadata": {},
     "output_type": "display_data"
    }
   ],
   "source": [
    "exp(coefficients(dementia2))"
   ]
  },
  {
   "cell_type": "markdown",
   "metadata": {
    "hideCode": false,
    "hidePrompt": false
   },
   "source": [
    "Contrarily to the previous model, here we do not interpret the intercept. Indeed, if we were doing so, it would be the prevalence of dementia among men with age and bmi at inclusion of 0 which obviously does not make any clinical sense. We can interpret the other parameters\n",
    "\n",
    "* *sex*: there is an association between sex and the dementia status and the odds of dementia are multiplied by $1.36$ for women compared to men having same age and bmi at inclusion\n",
    "* *age*: there is an association between age and the dementia status and the odds of dementia are multiplied by $1.10$ when age increases by $1$ year assuming sex and bmi at inclusion remain unchanged\n",
    "* *bmi*: there is an association between bmi and the dementia status and the odds of dementia are multiplied by $0.97$ when bmi increases by $1$ unit assuming sex and age at inclusion remain unchanged\n",
    "\n",
    "By including these variables into this new model, we only added two parameters but we can see that the deviance decreased slightly. It was $38143$ on the first simple model and now equals $31732$. The quality of this new model is confirmed by the AIC which was $38147$ for the previous model and decreases to $31740$ for the new model."
   ]
  },
  {
   "cell_type": "code",
   "execution_count": null,
   "metadata": {},
   "outputs": [],
   "source": []
  }
 ],
 "metadata": {
  "hide_code_all_hidden": false,
  "kernelspec": {
   "display_name": "R",
   "language": "R",
   "name": "ir"
  },
  "language_info": {
   "codemirror_mode": "r",
   "file_extension": ".r",
   "mimetype": "text/x-r-source",
   "name": "R",
   "pygments_lexer": "r",
   "version": "3.6.1"
  }
 },
 "nbformat": 4,
 "nbformat_minor": 4
}
