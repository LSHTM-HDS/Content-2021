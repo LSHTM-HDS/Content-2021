{
 "cells": [
  {
   "cell_type": "markdown",
   "metadata": {},
   "source": [
    "## 4.4 Obtaining the sampling distribution\n",
    "\n",
    "The sampling distribution is hypothetical: in reality, we are not going to repeat our study many times to see how much our estimates differ from sample to sample. \n",
    "\n",
    "In many cases we can describe the sampling distribution of our estimator well enough to do statistical inference, i.e. well enough to make useful statements about the population parameter. There are three main approaches to obtaining the (approximate) sampling distribution of an estimator:\n",
    "\n",
    "1. **Algebraic calculation**. Sometimes we can algebraically obtain the distribution of the estimator from our statistical model. An example is given below for the sampling distribution for the sample mean age in the emotional distress example. \n",
    "2. **The Central Limit Theorem**. If we have an estimator which can be written as the sum of independent random variables, then for large samples, the estimator will have an approximately normal distribution. This is described in more detail shortly.\n",
    "3. **Resampling**. In many situations, we can use a resampling principle to obtain an approximate sampling distribution. \n",
    "\n",
    "Returning to the question posed at the start of section 4.3, those questions can be answered using the sampling distribution:\n",
    "\n",
    "* How precise do we believe our estimate is? \n",
    "* Are we fairly certain that the true parameter is close to the estimate, or do we believe the estimate may well be far from the true value?  \n",
    "\n",
    "The first question asks whether the sampling distribution is centred at the right value (i.e. the population parameter being estimated). If it is, we say the estimator is **unbiased**. In the epidemiology module and earlier in this module, you have already come across how *measurements* can be biased. Here, we are referring to whether the estimator is biased, which is sometimes referred to as *statistical bias*. Most estimators are unbiased, and this can be shown using statistical theory. For a small number of estimators it can be shown that they are in fact biased, and sometimes a correction can be applied to account for this. An example of illustrating whether estimators are biased are given in the Appendix. \n",
    "\n",
    "The second question will be examined when looking at the standard error and forms the basis for constructing 95\\% confidence intervals.  \n",
    "\n",
    "\n",
    "### 4.4.1 Simulated data: sampling distribution of a mean\n",
    "\n",
    "We will continue with the emotional distress study, assuming that in truth, \n",
    "\n",
    "$$\n",
    "X \\sim(30, 4.8^2)\n",
    "$$\n",
    "\n",
    "where $X$ denotes the researcher's age. "
   ]
  },
  {
   "cell_type": "markdown",
   "metadata": {},
   "source": [
    "### 4.4.2 Example: the sampling distribution for the sample mean age - algebraic calculation\n",
    "\n",
    "Our model for the emotional distress study states that:\n",
    "\n",
    "$$ \n",
    "X_i \\overset{\\small{iid}}{\\sim} N(\\mu, \\sigma^2), \\qquad i=1,2,...,10\n",
    "$$\n",
    "\n",
    "Under this statistical model, we want to know the distribution of our estimator for $\\mu$: \n",
    "\n",
    "$$\n",
    "\\hat{\\mu} = \\frac{1}{10} \\sum_{i=1}^n X_i\n",
    "$$\n",
    "\n",
    "In this case, it's quite easy to derive the sampling distribution algebraically. We use the following fact:\n",
    "\n",
    "> The mean of independent normally distributed variables also follows a normal distribution\n",
    "\n",
    "It is then  easy to calculate the expectation and variance of $\\hat{\\mu}$ using techniques covered in the maths refresher. So we know that the sampling distribution of $\\hat{\\mu}$ is:\n",
    "\n",
    "$$\n",
    "\\hat{\\mu} \\sim N\\left(\\mu, \\frac{\\sigma^2}{10}\\right) \n",
    "$$\n",
    "\n",
    "This gives us a lot of useful information about how the sampling distribution in relation to the unknown parameter $\\mu$: \n",
    "- It follows a normal distribution (has a symmetric bell-shape)\n",
    "- It is centred around the true (unknown) population value\n",
    "- The standard deviation of this normal distribution is $\\sigma/\\sqrt{10}$. Typically we do not know the value of $\\sigma^2$ (more on how we deal with this problem later). Here, we happen to know that $\\sigma = 4.8$, so the standard deviation of the distribution is  $4.8/\\sqrt{10} = 1.52$, otherwise known as the standard error.\n"
   ]
  },
  {
   "cell_type": "markdown",
   "metadata": {},
   "source": [
    "### 4.4.3 The Central Limit Theorem\n",
    "\n",
    "The Central Limit Theorem (CLT) is a key concept in statistics and in estimation. When we use the mean from a sample to estimate a parameter, we already acknowledge that there will be some error around this estimate, as described above. The CLT takes this further;\n",
    "\n",
    "<div class=\"alert alert-block alert-info\">\n",
    "<b> The Central Limit Theorem</b> \n",
    "    \n",
    "If a random variable $X$ has population mean $\\mu$ and population variance $\\sigma^2$ the sample mean $\\bar{X}$, based on $n$ observations, is *approximately* normally distributed with mean $\\mu$ and variance $\\sigma^2/n$, for sufficiently large $n$.\n",
    "\n",
    "</div>\n",
    "\n",
    "This theorem is hugely powerful. Even for models that don't assume data are normally distributed, for sufficiently large samples the mean will follow a normal distribution. We will see that this allows us to conduct large-sample inference fairly easily on any type of data. An example using a binary variable is given in the Appendix.\n"
   ]
  },
  {
   "cell_type": "markdown",
   "metadata": {},
   "source": [
    "### 4.4.4 Resampling \n",
    "\n",
    "For a population of interest, we want to estimate a parameter $\\theta$ using a sample $S$ of $n$ individuals (for our example $n=10$) from the population. We have an estimator $\\hat{\\theta}$ from our sample $S$. We want to know about the sampling distribution of the estimator $\\hat{\\theta}$. \n",
    "\n",
    "We discussed above the idea that we could obtain the sampling distribution by repeatedly sampling from the population and calculating our estimate in each sample. Then a histogram of those many estimates would give us (approximately) the sampling distribution. In practice, it is logistically impossible to repeat the study a large number of times. However, we can mimic this process by using resampling. \n",
    "\n",
    "The basic idea is to pretend that the observed data are the population and repeatedly sample from the data to learn about the relationship between $\\hat{\\theta}$ and the estimates obtained from the re-sampled data, which we will call $\\hat{\\theta}^*$.\n",
    "\n",
    "Suppose we sample with replacement from the sample $S$ to obtain \"sub-samples\" also of size $n$. These \"sub-samples\" are called **bootstrap samples**. \n",
    "\n",
    "For example, suppose we have a sample $S$ of size 10 ($n=10$):\n",
    "\n",
    "$$\n",
    "S = \\{ x_1, x_2, x_3, x_4, x_5, x_6, x_7, x_8, x_9, x_{10} \\}\n",
    "$$\n",
    "\n",
    "And suppose our estimate is the sample mean, \n",
    "\n",
    "$$\n",
    "\\hat{\\theta} = \\frac{(x_1 + x_2 +  x_3 +  x_4 +  x_5 + x_6 + x_7 + x_8 + x_9 + x_{10})}{10}\n",
    "$$\n",
    "\n",
    "Then a bootstrap sample might be:\n",
    "\n",
    "$$\n",
    "S^*_1 = \\{x_{10}, x_3, x_2, x_8, x_6, x_2, x_4, x_1, x_8, x_1 \\}\n",
    "$$\n",
    "\n",
    "Another bootstrap sample could be:\n",
    "\n",
    "$$\n",
    "S^*_2 = \\{ x_5, x_9, x_4, x_7, x_{10}, x_9, x_3, x_4, x_6, x_2 \\}\n",
    "$$\n",
    "\n",
    "\n",
    "In each bootstrap sample, we obtain a new estimate (the sample mean in the bootstrap sample):\n",
    "\n",
    "$$\n",
    "\\hat{\\theta}^*_1 = \\frac{(x_{10} + x_3 + x_2 + x_8 + x_6 + x_2 + x_4 + x_1 + x_8 + x_1)}{10}\n",
    "$$\n",
    "\n",
    "and\n",
    "\n",
    "$$\n",
    "\\hat{\\theta}^*_2 = \\frac{(x_5 + x_9 + x_4 + x_7 + x_{10} + x_9 + x_3 + x_4 + x_6 + x_2)}{10}\n",
    "$$\n",
    "\n",
    "We do this a very large number of times to obtain lots of estimates from different bootstrap samples. Then we can draw a histogram of these many bootstrap estimates to see the shape and dispersion of the distribution. \n",
    "\n",
    "The **bootstrap principle** says that the distribution of $\\hat{\\theta}$ given $\\theta$ (i.e. the sampling distribution) is approximated by the distribution of $\\hat{\\theta}^*$ given $\\hat{\\theta}$.  For example, if we find that our values of $\\hat{\\theta}^*$ are approximately normally distributed and centred around $\\hat{\\theta}$ then the bootstrap principle tells us that $\\hat{\\theta}$ follows a normal distribution centred around $\\theta$."
   ]
  },
  {
   "cell_type": "markdown",
   "metadata": {},
   "source": [
    "#### 4.4.4.1 Example: the sampling distribution for the sample mean age - resampling\n",
    "\n",
    "Suppose our data - the 10 sampled ages - are the set: $\\{ 28.1, 27.5, 25, 29.9, 29.7, 29.9, 39.9, 33.6, 21.3, 30.8 \\}$. Our estimate of the population age is the sample mean age, which is: $\\hat{\\mu} = 29.57$.\n",
    "\n",
    "To obtain an approximation to the sampling distribution for the sample mean age, using a resampling approach, we first take a large number of bootstrap samples from the data. The code below does this."
   ]
  },
  {
   "cell_type": "code",
   "execution_count": 3,
   "metadata": {},
   "outputs": [
    {
     "name": "stdout",
     "output_type": "stream",
     "text": [
      "[1] \"First bootstrap sample:\"\n"
     ]
    },
    {
     "data": {
      "text/html": [
       "<ol>\n",
       "\t<li><ol class=list-inline>\n",
       "\t<li>27.5</li>\n",
       "\t<li>29.9</li>\n",
       "\t<li>28.1</li>\n",
       "\t<li>27.5</li>\n",
       "\t<li>29.9</li>\n",
       "\t<li>21.3</li>\n",
       "\t<li>27.5</li>\n",
       "\t<li>28.1</li>\n",
       "\t<li>29.9</li>\n",
       "\t<li>30.8</li>\n",
       "</ol>\n",
       "</li>\n",
       "</ol>\n"
      ],
      "text/latex": [
       "\\begin{enumerate}\n",
       "\\item \\begin{enumerate*}\n",
       "\\item 27.5\n",
       "\\item 29.9\n",
       "\\item 28.1\n",
       "\\item 27.5\n",
       "\\item 29.9\n",
       "\\item 21.3\n",
       "\\item 27.5\n",
       "\\item 28.1\n",
       "\\item 29.9\n",
       "\\item 30.8\n",
       "\\end{enumerate*}\n",
       "\n",
       "\\end{enumerate}\n"
      ],
      "text/markdown": [
       "1. 1. 27.5\n",
       "2. 29.9\n",
       "3. 28.1\n",
       "4. 27.5\n",
       "5. 29.9\n",
       "6. 21.3\n",
       "7. 27.5\n",
       "8. 28.1\n",
       "9. 29.9\n",
       "10. 30.8\n",
       "\n",
       "\n",
       "\n",
       "\n",
       "\n"
      ],
      "text/plain": [
       "[[1]]\n",
       " [1] 27.5 29.9 28.1 27.5 29.9 21.3 27.5 28.1 29.9 30.8\n"
      ]
     },
     "metadata": {},
     "output_type": "display_data"
    },
    {
     "name": "stdout",
     "output_type": "stream",
     "text": [
      "[1] \"Third bootstrap sample:\"\n"
     ]
    },
    {
     "data": {
      "text/html": [
       "<ol>\n",
       "\t<li><ol class=list-inline>\n",
       "\t<li>30.8</li>\n",
       "\t<li>28.1</li>\n",
       "\t<li>21.3</li>\n",
       "\t<li>29.9</li>\n",
       "\t<li>39.9</li>\n",
       "\t<li>21.3</li>\n",
       "\t<li>27.5</li>\n",
       "\t<li>29.9</li>\n",
       "\t<li>29.9</li>\n",
       "\t<li>29.7</li>\n",
       "</ol>\n",
       "</li>\n",
       "</ol>\n"
      ],
      "text/latex": [
       "\\begin{enumerate}\n",
       "\\item \\begin{enumerate*}\n",
       "\\item 30.8\n",
       "\\item 28.1\n",
       "\\item 21.3\n",
       "\\item 29.9\n",
       "\\item 39.9\n",
       "\\item 21.3\n",
       "\\item 27.5\n",
       "\\item 29.9\n",
       "\\item 29.9\n",
       "\\item 29.7\n",
       "\\end{enumerate*}\n",
       "\n",
       "\\end{enumerate}\n"
      ],
      "text/markdown": [
       "1. 1. 30.8\n",
       "2. 28.1\n",
       "3. 21.3\n",
       "4. 29.9\n",
       "5. 39.9\n",
       "6. 21.3\n",
       "7. 27.5\n",
       "8. 29.9\n",
       "9. 29.9\n",
       "10. 29.7\n",
       "\n",
       "\n",
       "\n",
       "\n",
       "\n"
      ],
      "text/plain": [
       "[[1]]\n",
       " [1] 30.8 28.1 21.3 29.9 39.9 21.3 27.5 29.9 29.9 29.7\n"
      ]
     },
     "metadata": {},
     "output_type": "display_data"
    },
    {
     "name": "stdout",
     "output_type": "stream",
     "text": [
      "[1] \"500th bootstrap sample:\"\n"
     ]
    },
    {
     "data": {
      "text/html": [
       "<ol>\n",
       "\t<li><ol class=list-inline>\n",
       "\t<li>21.3</li>\n",
       "\t<li>29.9</li>\n",
       "\t<li>39.9</li>\n",
       "\t<li>29.9</li>\n",
       "\t<li>29.9</li>\n",
       "\t<li>27.5</li>\n",
       "\t<li>29.9</li>\n",
       "\t<li>29.9</li>\n",
       "\t<li>29.9</li>\n",
       "\t<li>21.3</li>\n",
       "</ol>\n",
       "</li>\n",
       "</ol>\n"
      ],
      "text/latex": [
       "\\begin{enumerate}\n",
       "\\item \\begin{enumerate*}\n",
       "\\item 21.3\n",
       "\\item 29.9\n",
       "\\item 39.9\n",
       "\\item 29.9\n",
       "\\item 29.9\n",
       "\\item 27.5\n",
       "\\item 29.9\n",
       "\\item 29.9\n",
       "\\item 29.9\n",
       "\\item 21.3\n",
       "\\end{enumerate*}\n",
       "\n",
       "\\end{enumerate}\n"
      ],
      "text/markdown": [
       "1. 1. 21.3\n",
       "2. 29.9\n",
       "3. 39.9\n",
       "4. 29.9\n",
       "5. 29.9\n",
       "6. 27.5\n",
       "7. 29.9\n",
       "8. 29.9\n",
       "9. 29.9\n",
       "10. 21.3\n",
       "\n",
       "\n",
       "\n",
       "\n",
       "\n"
      ],
      "text/plain": [
       "[[1]]\n",
       " [1] 21.3 29.9 39.9 29.9 29.9 27.5 29.9 29.9 29.9 21.3\n"
      ]
     },
     "metadata": {},
     "output_type": "display_data"
    }
   ],
   "source": [
    "# Our sample of data (ages for 10 sampled researchers)\n",
    "ages <- c(28.1,27.5,25,29.9,29.7,29.9,39.9,33.6,21.3,30.8)\n",
    "\n",
    "# Randomly select 10,000 bootstrap samples (each of size 10)\n",
    "set.seed(532) \n",
    "bootstrap_samples <- lapply(1:10000, function(i) sample(ages, replace = T))\n",
    "\n",
    "# List some of the bootstrap samples\n",
    "print(\"First bootstrap sample:\")\n",
    "bootstrap_samples[1]\n",
    "print(\"Third bootstrap sample:\")\n",
    "bootstrap_samples[3]\n",
    "print(\"500th bootstrap sample:\")\n",
    "bootstrap_samples[500]"
   ]
  },
  {
   "cell_type": "markdown",
   "metadata": {},
   "source": [
    "The next step is to calculate the estimate (the sample mean, in our case) in each bootstrap sample. These estimates are called $\\hat{\\mu}^*_1, \\hat{\\mu}^*_2, .., \\hat{\\mu}^*_{10,000}$. Then we can plot the histogram of all the estimates across the bootstrap samples. "
   ]
  },
  {
   "cell_type": "code",
   "execution_count": 4,
   "metadata": {},
   "outputs": [
    {
     "data": {
      "image/png": "[encoded data removed]",
      "text/plain": [
       "Plot with title \"Distribution of sample means across the bootstrap samples\""
      ]
     },
     "metadata": {},
     "output_type": "display_data"
    }
   ],
   "source": [
    "# Calculate the sample mean in each of the bootstrap samples\n",
    "r.mean <- sapply(bootstrap_samples, mean)\n",
    "\n",
    "# Draw a histogram with a red vertical line indicating the original sample mean age\n",
    "hist(r.mean, freq=FALSE, main=\"Distribution of sample means across the bootstrap samples\", xlab=\"Bootstrap sample means\")\n",
    "abline(v=mean(ages),col=\"red\")"
   ]
  },
  {
   "cell_type": "markdown",
   "metadata": {},
   "source": [
    "We see a number of features from the graph above.\n",
    "\n",
    "- The histogram follows an approximately normal distribution (has a symmetric bell-shape)\n",
    "- It is centred around the sample mean age (from the original sample, $\\hat{\\mu} = 29.57$)\n",
    "- The code below tells us that the standard deviation of this distribution is 1.51. "
   ]
  },
  {
   "cell_type": "code",
   "execution_count": 68,
   "metadata": {},
   "outputs": [
    {
     "data": {
      "text/html": [
       "1.50868637530863"
      ],
      "text/latex": [
       "1.50868637530863"
      ],
      "text/markdown": [
       "1.50868637530863"
      ],
      "text/plain": [
       "[1] 1.508686"
      ]
     },
     "metadata": {},
     "output_type": "display_data"
    }
   ],
   "source": [
    "sqrt(var(r.mean))"
   ]
  },
  {
   "cell_type": "markdown",
   "metadata": {},
   "source": [
    "So we have seen that the bootstrap approximation of the distribution of $\\hat{\\mu}^*$ given $\\hat{\\mu}$ is a normal distribution centred around $\\hat{\\mu}$ with standard deviation of 1.51. The bootstrap principle tells us that the distribution of $\\hat{\\mu}$ given $\\mu$ is approximately the same. In other words, approximately:\n",
    "\n",
    "$$\n",
    "\\hat{\\mu} \\sim N(\\mu, 1.51^2)\n",
    "$$\n",
    "\n",
    "Remember, that we obtained the true distribution algebraically above and found that\n",
    "\n",
    "$$\n",
    "\\hat{\\mu} \\sim N(\\mu, 1.52^2)\n",
    "$$\n",
    "\n",
    "So the resampling (bootstrap) approach has given us a very good approximation to the true sampling distribution. The code below redraws the histogram above, with the approximate (bootstrap) sampling distribution and the algebraically-calculated one.\n",
    "\n",
    "We see that the bootstrap sampling distribution (shown in red) is simply a shift of the normal distribution which best follows the histogram (shown in orange), and that the bootstrap and true (algebraic, shown in blue) sampling distributions are very similar. "
   ]
  },
  {
   "cell_type": "code",
   "execution_count": 5,
   "metadata": {},
   "outputs": [
    {
     "data": {
      "image/png": "[encoded data removed]",
      "text/plain": [
       "Plot with title \"Distribution of sample means across the bootstrap samples\""
      ]
     },
     "metadata": {},
     "output_type": "display_data"
    }
   ],
   "source": [
    "# Histogram of estimates (sample means) in bootstrap samples\n",
    "hist(r.mean, freq=FALSE, main=\"Distribution of sample means across the bootstrap samples\", xlab=\"Bootstrap sample means\")\n",
    "\n",
    "# Add the normal distribution which most closely follows the histogram\n",
    "lines(seq(25, 35, by=.5), dnorm(seq(25, 35, by=.5), mean(ages), 1.52), col=\"orange\",lwd=2)\n",
    "\n",
    "# Add the bootstrap approximation to the sampling distribution: normal distribution with mean mu=30 SD=1.51\n",
    "lines(seq(25, 35, by=.5), dnorm(seq(25, 35, by=.5), 30, 1.51), col=\"red\",lwd=2)\n",
    "\n",
    "# Add the algebraic sampling distribution: normal distribution with mean mu=30 SD=1.52\n",
    "lines(seq(25, 35, by=.5), dnorm(seq(25, 35, by=.5), 30, 1.52), col=\"blue\",lwd=2)\n",
    "\n",
    "# Add a vertical line at original sample mean\n",
    "abline(v=mean(ages),col=\"green\",lwd=2)\n",
    "\n"
   ]
  },
  {
   "cell_type": "markdown",
   "metadata": {},
   "source": [
    "### 4.4.5 What do we use a sampling distribution for? \n",
    "\n",
    "In practice, we have a  sample of data and an estimate from that sample of the population parameter of interest. When we present an estimate of a population quantity, we need to be able to say something about how precise it is. Is it likely to be close to the true value? Can we provide a range of values within which we believe the true value lies? \n",
    "\n",
    "We can only answer these questions, within the framework of frequentist statistical inference, by thinking about what estimates we might have got had we chosen a different sample. This leads us to the sampling distribution - the distribution of the estimator across samples. \n",
    "\n",
    "In subsequent sessions we will see how the sampling distribution allows us to \n",
    "\n",
    "- construct confidence intervals for population parameters (intervals within which we believe the true value is likely to lie)\n",
    "- conduct hypothesis tests for population parameters\n"
   ]
  }
 ],
 "metadata": {
  "kernelspec": {
   "display_name": "R",
   "language": "R",
   "name": "ir"
  },
  "language_info": {
   "codemirror_mode": "r",
   "file_extension": ".r",
   "mimetype": "text/x-r-source",
   "name": "R",
   "pygments_lexer": "r",
   "version": "3.6.1"
  }
 },
 "nbformat": 4,
 "nbformat_minor": 4
}
