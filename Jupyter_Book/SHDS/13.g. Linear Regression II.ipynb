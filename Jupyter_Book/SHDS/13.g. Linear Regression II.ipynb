{
 "cells": [
  {
   "cell_type": "markdown",
   "metadata": {},
   "source": [
    "\n",
    "## 13.6 Modelling interaction terms \n",
    "\n",
    "The term **interaction** is used to describe situations in which the relationship between $Y$ and $X$ differs according to the level of one or more other covariates. In linear regression models it is the slope of the relationship between $Y$ and $X$ that depends on other factors.\n",
    "\n",
    "In this section we introduce the general formulation of a linear model with an interaction term and discuss how to interpret the results. We will consider interactions between pairs of continuous variables, pairs of categorical variables and pairs of variables in which one is categorical and the other is continuous. \n",
    "\n",
    "### 13.6.1 The general formulation of a linear regression model with an interaction term between two covariates \n",
    "\n",
    "Suppose we wish to relate an outcome ($Y$) to two covariates ($X_1$ and $X_2$), but we want to allow the slope of the association between $Y$ and $X_1$ to differ according to the value of $X_2$. To allow for this we fit an interaction model that contains an additional variable ($X_3$) that is the product of $X_1$ and $X_2$: \n",
    "\n",
    "$$y_i =  \\beta_0 + \\beta_1 x_{1i} + \\beta_2 x_{2i} + \\beta_3 x_{3i} + \\epsilon_i \\text{ where }\\epsilon_i \\sim NID(0, \\sigma^2)$$. \n",
    "\n",
    "+ $y_i$ = value of the outcome for the $i^{th}$ observation\n",
    "+ $x_{1i}$ = value of the first covariate for the $i^{th}$ observation\n",
    "+ $x_{2i}$ =  value of the second covariate for the $i^{th}$ observation\n",
    "+ $x_{3i}$ = $x_{1i} \\times x_{2i}$\n",
    "\n",
    "To understand why this model allows the slope of the association between $Y$ and $X_1$ to vary according to $X_2$, we can consider the form of the equation when we fix $X_2$ to have a particular value, say $X_2=k$. In this situation the relationship between $Y$ and $X_1$ is as follows:\n",
    "\n",
    "$y_i = (\\beta_0 + \\beta_2k) + (\\beta_1 + \\beta_3k)x_{1i} + \\epsilon_i$. \n",
    "\n",
    "In other words, when $x_2=k$ the relationship between $Y$ and $X_1$ is a linear one with both slope and intercept dependent upon $k$. The intercept is $\\beta_0+\\beta_2k$ and the slope is $\\beta_1 +  \\beta_3k$. \n",
    "\n",
    "By allowing the association between $Y$ and $X_1$ to vary according to $X_2$, we have also allowed the slope for the association between $Y$ and $X_2$ to vary according to $X_1$. If we look at the form of the model when $X_1$ takes particular value, say $X_1=m$, we find:\n",
    "\n",
    "$y_i = (\\beta_0+\\beta_1m) + (\\beta_2+\\beta_3m)x_{2i} + \\epsilon_i$. \n",
    "\n",
    "Again, the relationship between $Y$ and $X_2$ is a linear one with both slope and intercept dependent upon $m$. \n",
    "\n"
   ]
  },
  {
   "cell_type": "code",
   "execution_count": null,
   "metadata": {},
   "outputs": [],
   "source": []
  }
 ],
 "metadata": {
  "kernelspec": {
   "display_name": "R",
   "language": "R",
   "name": "ir"
  },
  "language_info": {
   "codemirror_mode": "r",
   "file_extension": ".r",
   "mimetype": "text/x-r-source",
   "name": "R",
   "pygments_lexer": "r",
   "version": "3.6.1"
  }
 },
 "nbformat": 4,
 "nbformat_minor": 4
}
