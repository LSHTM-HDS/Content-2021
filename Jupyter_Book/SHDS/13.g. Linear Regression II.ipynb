{
 "cells": [
  {
   "cell_type": "markdown",
   "metadata": {},
   "source": [
    "## 13.6 Birthweight data: Model 4\n",
    "\n",
    "As an example, we will create a categorical variable based on the mother's height in our birthweight data, then define a model relating birthweight to length of pregnancy and height categorised into groups. Let $h_{i}$ denote the height group for the $i^{th}$ observation, defined as follows:\n",
    "\n",
    "$$ \n",
    "h_{i}\n",
    "\\begin{cases}\n",
    "    1 & \\text{ if the mother's height is less than or equal to 62 inches} \\\\\n",
    "    2 & \\text{ if the mother's height is greater than 62 inches and less than or equal 64 inches } \\\\\n",
    "    3 & \\text{ if the mother's height is greater than 64 inches and less than or equal to 66 inches} \\\\\n",
    "    4 & \\text{ if the mother's height is greater than 66 inches } \n",
    "\\end{cases} \n",
    "$$\n",
    " \n",
    "We now define three dummy variables:\n",
    "\n",
    "$$ \n",
    "w_{1i}\n",
    "\\begin{cases}\n",
    "    1 & \\text{ if } h_{i}=2\\\\\n",
    "    0 & \\text{ if } h_{i} \\neq 2\n",
    "\\end{cases} \n",
    "$$\n",
    "\n",
    "and\n",
    "\n",
    "$$\n",
    "w_{2i}\n",
    "\\begin{cases}\n",
    "    1 & \\text{ if } h_{i}=3\\\\\n",
    "    0 & \\text{ if } h_{i} \\neq 3\n",
    "\\end{cases}\n",
    "$$\n",
    "\n",
    "and \n",
    "\n",
    "$$ \n",
    "w_{3i}\n",
    "\\begin{cases}\n",
    "    1 & \\text{ if } h_{i}=4\\\\\n",
    "    0 & \\text{ if } h_{i} \\neq 4\n",
    "\\end{cases}\n",
    "$$\n",
    "\n",
    "Then, our multivariable linear regression model is defined as: \n",
    "\n",
    "$$\n",
    "\\text{Model 4: } y_i = \\beta_0 + \\beta_{1}w_{1,i} + \\beta_{2}w_{2,i} + \\beta_{3}w_{3,i} + \\beta_4 l_i + \\epsilon_i \n",
    "$$\n",
    "\n",
    "The following code creates a variable for height group and then analyses the data using Model 4:"
   ]
  },
  {
   "cell_type": "code",
   "execution_count": 2,
   "metadata": {},
   "outputs": [
    {
     "data": {
      "text/plain": [
       "\n",
       "  1   2   3   4 \n",
       "318 340 324 192 "
      ]
     },
     "metadata": {},
     "output_type": "display_data"
    },
    {
     "data": {
      "text/plain": [
       "\n",
       "Call:\n",
       "lm(formula = Birth.Weight ~ factor(Maternal.Height.Category) + \n",
       "    Gestational.Days, data = data)\n",
       "\n",
       "Residuals:\n",
       "    Min      1Q  Median      3Q     Max \n",
       "-52.956 -10.573   0.326  10.097  54.991 \n",
       "\n",
       "Coefficients:\n",
       "                                   Estimate Std. Error t value Pr(>|t|)    \n",
       "(Intercept)                       -12.20299    8.40979  -1.451   0.1470    \n",
       "factor(Maternal.Height.Category)2   3.92195    1.28351   3.056   0.0023 ** \n",
       "factor(Maternal.Height.Category)3   5.67130    1.30124   4.358 1.43e-05 ***\n",
       "factor(Maternal.Height.Category)4   9.74727    1.50461   6.478 1.36e-10 ***\n",
       "Gestational.Days                    0.45636    0.03008  15.173  < 2e-16 ***\n",
       "---\n",
       "Signif. codes:  0 '***' 0.001 '**' 0.01 '*' 0.05 '.' 0.1 ' ' 1\n",
       "\n",
       "Residual standard error: 16.45 on 1169 degrees of freedom\n",
       "Multiple R-squared:  0.1971,\tAdjusted R-squared:  0.1943 \n",
       "F-statistic: 71.72 on 4 and 1169 DF,  p-value: < 2.2e-16\n"
      ]
     },
     "metadata": {},
     "output_type": "display_data"
    }
   ],
   "source": [
    "#Create variable for height group\n",
    "data<- read.csv('https://www.inferentialthinking.com/data/baby.csv')\n",
    "data$Maternal.Height.Category<-1\n",
    "data$Maternal.Height.Category[data$Maternal.Height>62 & data$Maternal.Height<=64]<-2\n",
    "data$Maternal.Height.Category[data$Maternal.Height>64 & data$Maternal.Height<=66]<-3\n",
    "data$Maternal.Height.Category[data$Maternal.Height>66]<-4\n",
    "table(data$Maternal.Height.Category)\n",
    "\n",
    "#Model 4: Relating birthweight to length of pregnancy and mother's height group. \n",
    "model4<-lm(Birth.Weight~factor(Maternal.Height.Category)+Gestational.Days, data=data)\n",
    "summary(model4)"
   ]
  },
  {
   "cell_type": "markdown",
   "metadata": {},
   "source": [
    "**Interpretation of the estimated regression coefficients**\n",
    "\n",
    "+ $\\hat{\\beta}_0=-12.20$. The estimated mean birthweight for a child who was born after 0 gestational days and whose mother is less than 62 inches tall is -12.20 ounces. \n",
    "\n",
    "+ $\\hat{\\beta}_1=3.92$. This is the expected difference in birthweight between babies whose mothers are in height group 1 and babies whose mothers are in height group 2, taking into account the length of pregnancy. \n",
    "\n",
    "+ $\\hat{\\beta}_2=5.67$. This is the expected difference in birthweight between babies whose mothers are in height group 1 and babies whose mothers are in height group 3, taking into account the length of pregnancy. \n",
    "\n",
    "*Excerise*: What are the interpretations of $\\hat{\\beta}_3$ and $\\hat{\\beta}_4?$\n",
    "\n",
    "### 13.6.1 Issues related to categorising continuous variables\n",
    "\n",
    "In the above example, we have categorised an continuous variable (height) in order to demonstrate how a categorical variable should be included in a linear regression model. This is important to know, since there are many variables that are categorical by definition and may be required for a statistical analysis. For example: cancer stage, ethnicity, education level, etc. While these examples should be included as a categorical variable in a linear regression model, it is not, in general, recommended to categorise a continuous variable in a linear model. We did so above, purely for pedagogical reasons. \n",
    "\n",
    "One of the problems with categorising continuous variables is that it is difficult to decide what the cut-off for each category should be. In the example above we used quartiles to define the categories. This is particularly problematic because the quartiles are estimated using the sample data (therefore are subject to sampling error) and do not represent the quartiles of the same variable in the population. Even when sample data are not used to select cut-off criteria, it is rare for different researchers to choose the same cut-offs each time, which makes comparisons between studies difficult. Moreover, categorisation requires additional covariates to be included in the model. In our example, Model 4 contains four covariates, compared to only two in Model 3. Increasing the number of covariates leads to loss of power and greater uncertainty when estimating the regression coefficients. \n"
   ]
  }
 ],
 "metadata": {
  "kernelspec": {
   "display_name": "R",
   "language": "R",
   "name": "ir"
  },
  "language_info": {
   "codemirror_mode": "r",
   "file_extension": ".r",
   "mimetype": "text/x-r-source",
   "name": "R",
   "pygments_lexer": "r",
   "version": "3.6.1"
  }
 },
 "nbformat": 4,
 "nbformat_minor": 4
}
