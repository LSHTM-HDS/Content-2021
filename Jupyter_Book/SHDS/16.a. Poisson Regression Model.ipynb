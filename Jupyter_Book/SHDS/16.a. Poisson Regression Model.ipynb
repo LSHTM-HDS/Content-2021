{
 "cells": [
  {
   "cell_type": "markdown",
   "metadata": {},
   "source": [
    "# 16. Generalised Linear Models: Poisson Regression for Count Variables\n",
    "\n",
    "In this session we explore Poisson regression models, which are used when the outcome of interest is a count variable."
   ]
  },
  {
   "cell_type": "markdown",
   "metadata": {},
   "source": [
    "<div class=\"alert alert-block alert-warning\">\n",
    "<b> Intended learning outcomes</b> \n",
    "    \n",
    "By the end of this session, you will be able to: \n",
    "\n",
    "* explain what discrete data is and when it may be present in health data science;\n",
    "* describe the Poisson regression model;\n",
    "* apply the Poisson regression model to analyse data and evaluate the findings;\n",
    "* describe other health data science methods suitable to model count data when Poisson regression is not appropriate. \n",
    "</div>"
   ]
  }
 ],
 "metadata": {
  "kernelspec": {
   "display_name": "R",
   "language": "R",
   "name": "ir"
  },
  "language_info": {
   "codemirror_mode": "r",
   "file_extension": ".r",
   "mimetype": "text/x-r-source",
   "name": "R",
   "pygments_lexer": "r",
   "version": "3.6.1"
  }
 },
 "nbformat": 4,
 "nbformat_minor": 4
}
