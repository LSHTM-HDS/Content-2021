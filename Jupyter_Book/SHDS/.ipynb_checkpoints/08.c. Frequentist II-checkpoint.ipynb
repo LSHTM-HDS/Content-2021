{
 "cells": [
  {
   "cell_type": "markdown",
   "metadata": {},
   "source": [
    "## 8.2 The p-value\n",
    "\n",
    "The p-value is defined as the probability of observing the sample estimate or a more extreme one (in either direction) given that the null hypothesis is true. \n",
    "\n",
    "The smaller the p-value, the lower the chance of getting a difference as big  as the one observed if the null hypothesis is true.\n",
    "\n",
    "Therefore, the smaller the p-value,  the stronger the evidence against the null hypothesis.\n",
    "\n",
    "\n",
    "```{figure} Images/pvalues.png\n",
    "---\n",
    "height: 400px\n",
    "name: inference\n",
    "---\n",
    "Interpretation of p-values [(taken from Sterne & Davey-Smith)](https://www.ncbi.nlm.nih.gov/pmc/articles/PMC1119478/)\n",
    "```\n",
    "\n",
    "The value of 0.05 has historically been used as a cut-off, with values of $p<0.05$ deemed \"statistically significant\" and values of $p\\geq 0.05$ \"not significant\". As discussed further in a later sub-section, we do not recommend dichotomising p-values in this way."
   ]
  },
  {
   "cell_type": "markdown",
   "metadata": {},
   "source": [
    "\n",
    "> Note that:  \n",
    "<br> - We have described what is called a *two-sided test*. Occasionally, a *one-sided test* might be used, where the p-value is the probability of results that are as extreme, or more extreme, *in the same direction* as the observed result. However, it is rare that it is justifiable to ignore sample statistics in one direction, so we will focus on two-sided tests.\n",
    "<br><br> - When the sampling distribution is not symmetric, it can be hard to define what is *as extreme as* the estimate we have seen. In this case, there are various ways of obtaining the two-sided p-value. We do not pursue this further.\n"
   ]
  },
  {
   "cell_type": "code",
   "execution_count": null,
   "metadata": {},
   "outputs": [],
   "source": []
  }
 ],
 "metadata": {
  "kernelspec": {
   "display_name": "R",
   "language": "R",
   "name": "ir"
  },
  "language_info": {
   "codemirror_mode": "r",
   "file_extension": ".r",
   "mimetype": "text/x-r-source",
   "name": "R",
   "pygments_lexer": "r",
   "version": "4.0.4"
  }
 },
 "nbformat": 4,
 "nbformat_minor": 4
}
