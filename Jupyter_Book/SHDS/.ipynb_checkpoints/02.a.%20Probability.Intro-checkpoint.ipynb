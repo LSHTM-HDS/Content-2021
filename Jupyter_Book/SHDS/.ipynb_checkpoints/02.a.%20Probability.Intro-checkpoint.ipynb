{
 "cells": [
  {
   "cell_type": "markdown",
   "metadata": {},
   "source": [
    "# 2. Discrete Probability Distributions"
   ]
  },
  {
   "cell_type": "markdown",
   "metadata": {},
   "source": [
    "We assume that students are already familiar with the probability concepts covered in the pre-course Refresher <https://lshtm-hds.github.io/Math-Refresher/myintro.html>. \n",
    "\n",
    "This session is the first of two sessions covering useful elements of basic probability. These two sessions focus on some useful aspects and applications of basic probability which will form useful building blocks for subsequent sessions. \n",
    "\n",
    "In this first session, we focus on variables which have a **discrete** distribution. In the next session, we extend these ideas to variables which have a **continuous** distribution.\n",
    "\n",
    "<div class=\"alert alert-block alert-warning\">\n",
    "<b> Intended learning outcomes</b> \n",
    "    \n",
    "* apply Bayes' Theorem to obtain useful properties of screening tests\n",
    "* derive the binomial and Poisson probability distribution functions\n",
    "* apply the binomial and Poisson distributions to health settings\n",
    "* evaluate the appropriateness of the binomial and Poisson distributions to health settings\n",
    "</div>"
   ]
  },
  {
   "cell_type": "markdown",
   "metadata": {},
   "source": [
    "\n",
    "Probability is useful in the context of medical research due to the concept of uncertainty.  When we carry out an experiment the results that we obtain have a degree of uncertainty. \n",
    "\n",
    "Consider the hypothetical situation in the bottom half of Figure \\ref{prob_vs_inference}, which depicts the situation where we know the prevalence of disease in a population. If we then draw a random sample of individuals from this population, we can use \\emph{probability theory} to calculate the probability that a particular number $x$ of these individuals have the disease. So probability theory is used to describe the uncertainty about how many diseased individuals we will obtain in our sample. Here we are assuming that characteristics (called parameters) of the population, such as the population prevalence, are known.\n",
    "\n",
    "\\vspace{-1cm}\n",
    "\\begin{figure}[h!]\n",
    "\\begin{center}\n",
    "\\includegraphics[width=13cm]{../Lectures/Figures/prob_vs_inference}\n",
    "\\end{center}\n",
    "\\vspace{-1cm}\n",
    "\\caption{The role of probability theory in medical statistics\n",
    "\\label{prob_vs_inference}}\n",
    "\\end{figure}\n",
    "\n",
    "Real life is not like this though! Throughout medical studies, we observe a sample of individuals from a population whose parameters are unknown and we use statistical inference to make statements about the larger population from which this sample was drawn (the upper half of Figure \\ref{prob_vs_inference}). It turns out that probability theory is also needed in this situation, which is referred to as \\emph{inference}, i.e. how to make statements about the unknown population based on an observed sample. Here probability theory is being used to quantify our uncertainty about population parameters, given the data we have observed.\n"
   ]
  },
  {
   "cell_type": "code",
   "execution_count": null,
   "metadata": {},
   "outputs": [],
   "source": []
  },
  {
   "cell_type": "markdown",
   "metadata": {},
   "source": [
    "The three sub-sections of this session tackle Bayes' Theorem, the binomial distribution and the Poisson distribution."
   ]
  }
 ],
 "metadata": {
  "kernelspec": {
   "display_name": "R",
   "language": "R",
   "name": "ir"
  },
  "language_info": {
   "codemirror_mode": "r",
   "file_extension": ".r",
   "mimetype": "text/x-r-source",
   "name": "R",
   "pygments_lexer": "r",
   "version": "3.6.1"
  }
 },
 "nbformat": 4,
 "nbformat_minor": 4
}
