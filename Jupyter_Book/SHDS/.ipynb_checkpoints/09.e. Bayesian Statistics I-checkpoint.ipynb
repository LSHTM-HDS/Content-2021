{
 "cells": [
  {
   "cell_type": "markdown",
   "metadata": {},
   "source": [
    "## Part 2:  9.4 Bayes thorem for discrete and continous data\n",
    "\n",
    "In part 1, we looked at Bayes theorem in the discrete case. We turn to the more general case of Bayes thorem to make inference about an unknown parameter $\\theta$, which could be discrete or continuous. \n",
    "\n",
    "The probability distribution for $\\theta$ reflects our uncertainty about it before seeing the data, **prior distribution**, $p(\\theta)$. Once the data data $y$ is known, we condition on it. Using Bayes theorem we obtain a conditional probability distribution for unobserved quantities of interest given the data. If $\\theta$ is continuous, we have:\n",
    "\n",
    "$$\n",
    "p(\\theta \\mid y)= \\frac{ p(\\theta)\\, p(y \\mid \\theta)}{\\int  p(\\theta)\\,p(y \\mid \\theta)\\,d\\theta},\n",
    "$$\n",
    "\n",
    "and $\\theta$ is discrete and takes values in the set $\\Theta$, we have: \n",
    "\n",
    "$$\n",
    "p(\\theta \\mid y)= \\frac{ p(\\theta)\\, p(y \\mid \\theta)}{\\sum_{\\theta \\in \\Theta}  p(\\theta) p(y \\mid \\theta) }.\n",
    "$$\n",
    "\n",
    "We call $p(\\theta \\mid y)$ the **posterior distribution**. \n",
    "\n",
    "Note that the Bayesian approach is naturally synthetic in that it allows data from different sources to be combined, according to Bayes principles. This approach is most useful when there is informative prior information. We note that the Bayesian approach can be recursive, so $p(\\theta \\mid y)$ may be used as a prior when calculating $p(\\theta \\mid y, z)$ for a second data set $z$. \n",
    "\n",
    "The denominator, ${\\int  p(\\theta)\\,p(y \\mid \\theta)\\,d\\theta}$ or $\\sum_{\\theta \\in \\Theta}  p(\\theta) p(y \\mid \\theta)$, is a constant with respect to $\\theta$. One of the challenges of using Bayesian approaches is that the integration can be analytically intractable, so that numerical methods are needed (for example, numerical integration or Markov Chain Monte Carlo methods). These methods are beyond the scope of the current module. In this introductory course, we will only look at examples where this constant need not be calculated, since the form of the posterior can be inferred by inspection once observing that the posterior is proportional to the product of the prior and likelihood: \n",
    "\n",
    "$$p(\\theta \\mid y) \\propto p(\\theta)\\,p(y \\mid \\theta).$$\n",
    "\n",
    "We will see how this works for the inference of proportions. "
   ]
  }
 ],
 "metadata": {
  "kernelspec": {
   "display_name": "R",
   "language": "R",
   "name": "ir"
  },
  "language_info": {
   "codemirror_mode": "r",
   "file_extension": ".r",
   "mimetype": "text/x-r-source",
   "name": "R",
   "pygments_lexer": "r",
   "version": "3.6.1"
  }
 },
 "nbformat": 4,
 "nbformat_minor": 4
}
