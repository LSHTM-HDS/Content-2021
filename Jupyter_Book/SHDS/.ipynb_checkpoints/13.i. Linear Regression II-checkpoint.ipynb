{
 "cells": [
  {
   "cell_type": "markdown",
   "metadata": {},
   "source": [
    "## 13.8 Interaction between two binary variables\n",
    "\n",
    "When both of the covariates are binary, the model can be written as: \n",
    "\n",
    "$$\n",
    "\\begin{align}\n",
    "& y_i =  \\beta_0 + \\epsilon_i \\text{ when } X_1=0 \\text{ and } X_2=0 \\\\\n",
    "& y_i = \\beta_0 + \\beta_1 + \\epsilon_i \\text{ when } X_1=1 \\text{ and } X_2=0 \\\\\n",
    "& y_i = \\beta_0 + \\beta_2 + \\epsilon_i \\text{ when } X_1=0 \\text{ and } X_2=1 \\\\\n",
    "& y_i = \\beta_0 + \\beta_1 + \\beta_2 + \\beta_3 + \\epsilon_i \\text{ when } X_1=1 \\text{ and } X_2=1\n",
    "\\end{align}\n",
    "$$\n",
    "\n",
    "If we denote the population mean of $Y$ when $X_1=i$ and $X_2=j$ by $\\mu_{ij}$, then the interpretation of each of the parameters is as follows: \n",
    "\n",
    "+ $\\beta_0$ is the mean value of $Y$ when $X_1=0$ and $X_2=0$ ($\\mu_{00}$)\n",
    "+ $\\beta_0+\\beta_1$ is the mean value of $Y$ when $X_1=1$ and $X_2=0$. Hence $\\beta_1$ is the difference in the mean values of $Y$ between the two groups defined by $X_1$ when $X_2=0$ ($\\mu_{10}-\\mu_{00}$). \n",
    "+ $\\beta_0 + \\beta_2$ is the mean value of $Y$ when $X_1=0$ and $X_2=1$. Hence $\\beta_2$ is the difference in the mean values of $Y$ between the two groups defined by $X_2$ when $X_1=0$ ($\\mu_{01}-\\mu_{00}$). \n",
    "+ $\\beta_0$+$\\beta_1$+$\\beta_2$+$\\beta_3$ is the mean value of $Y$ when $X_1=1$ and $X_2=1$. Hence $\\beta_3$ is the difference in the mean values of $Y$ between the two groups defined by $X_2$ when $X_1=1$ minus the difference in the mean values of $Y$ between two groups defined by $X_2$ when $X_1=0$ $[(\\mu_{11}-\\mu_{10})-(\\mu_{01}-\\mu_{00})]$. \n",
    "\n",
    "Interpretation of $\\beta_3$ is symmetric in $X_1$ and $X_2$: it is also interpretable as the difference in the mean values of $Y$ between the two groups defined by $X_1$ when $X_2=1$ minus the same difference when $X_2=0$ $[(\\mu_{11}-\\mu_{01})-(\\mu_{10}-\\mu_{00})]$.\n",
    "\n",
    "*Example.* As there is only one binary variable in the birthweight data (mother's smoking status), we will create an additional binary variable by categorising the mother's height (now denoted as $X_2$) into two groups:\n",
    "\n",
    "$$ \n",
    "X_2 = \n",
    "\\begin{cases}\n",
    "0 \\text{ when the mother's height is 64 inches or less} \\\\\n",
    "1 \\text{ when the mother's height is greater than 64 inches} \n",
    "\\end{cases}\n",
    "$$\n",
    "\n",
    "This is not something that we recommend in practice! We are categorising the variable here purely to demonstrate the inclusion of binary-binary interactions in linear regression models. \n",
    "\n",
    "The R code below fits a linear regression model relating birthweight ($Y$) to mother's smoking status ($X_1$) and mother's height group ($X_2$). "
   ]
  },
  {
   "cell_type": "code",
   "execution_count": 6,
   "metadata": {},
   "outputs": [
    {
     "data": {
      "text/plain": [
       "\n",
       "Call:\n",
       "lm(formula = data$Birth.Weight ~ factor(data$Maternal.Smoker2) + \n",
       "    factor(data$Maternal.Height2) + factor(data$int2))\n",
       "\n",
       "Residuals:\n",
       "    Min      1Q  Median      3Q     Max \n",
       "-71.662 -10.424  -0.424  11.338  53.576 \n",
       "\n",
       "Coefficients:\n",
       "                               Estimate Std. Error t value Pr(>|t|)    \n",
       "(Intercept)                    120.4244     0.8639 139.394  < 2e-16 ***\n",
       "factor(data$Maternal.Smoker2)1  -9.7187     1.4072  -6.906 8.14e-12 ***\n",
       "factor(data$Maternal.Height2)1   6.2379     1.3227   4.716 2.70e-06 ***\n",
       "factor(data$int2)1               0.5351     2.1056   0.254    0.799    \n",
       "---\n",
       "Signif. codes:  0 '***' 0.001 '**' 0.01 '*' 0.05 '.' 0.1 ' ' 1\n",
       "\n",
       "Residual standard error: 17.49 on 1170 degrees of freedom\n",
       "Multiple R-squared:  0.09145,\tAdjusted R-squared:  0.08912 \n",
       "F-statistic: 39.26 on 3 and 1170 DF,  p-value: < 2.2e-16\n"
      ]
     },
     "metadata": {},
     "output_type": "display_data"
    }
   ],
   "source": [
    "#Create a binary variable indicating height group\n",
    "data$Maternal.Height2<-0\n",
    "data$Maternal.Height2[data$Maternal.Height>64]<-1\n",
    "\n",
    "#Create the interaction term \n",
    "data$int2<-data$Maternal.Smoker2*data$Maternal.Height2\n",
    "\n",
    "#Model relating birthweight to mothers smoking status, height and their interaction\n",
    "int_model2<-lm(data$Birth.Weight~factor(data$Maternal.Smoker2)+factor(data$Maternal.Height2)+factor(data$int2))\n",
    "summary(int_model2)"
   ]
  },
  {
   "cell_type": "markdown",
   "metadata": {},
   "source": [
    "*Exercise:* Interpret each of the estimated regression coefficients in this model. What are the mean birthweights of babies in the four groups defined by mother's smoking status and height group? \n"
   ]
  }
 ],
 "metadata": {
  "kernelspec": {
   "display_name": "R",
   "language": "R",
   "name": "ir"
  },
  "language_info": {
   "codemirror_mode": "r",
   "file_extension": ".r",
   "mimetype": "text/x-r-source",
   "name": "R",
   "pygments_lexer": "r",
   "version": "3.6.1"
  }
 },
 "nbformat": 4,
 "nbformat_minor": 4
}
