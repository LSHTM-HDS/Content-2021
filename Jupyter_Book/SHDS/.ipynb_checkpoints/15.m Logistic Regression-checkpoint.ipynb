{
 "cells": [
  {
   "cell_type": "markdown",
   "metadata": {
    "hideCode": false,
    "hidePrompt": false
   },
   "source": [
    "# Additional reading \n",
    "\n",
    "The following notes sketch out the statistical theory underlying confidence interval construction and hypothesis testing using the log-likelihood ratio. This material is not examinable. \n",
    "\n",
    "These notes are intended to draw connections between the previous material surrounding maximum likelihood and the material concerning frequentist inference. \n"
   ]
  },
  {
   "cell_type": "markdown",
   "metadata": {},
   "source": [
    "Broad idea:\n",
    "\n",
    "- Logistic regression with intercept only (i.e. 1 parameter model)\n",
    "- Give likelihood, log-, LR and LLR (recap)\n",
    "- Note that we can get a 95% CI by ising approx distn -2 llr(theta_0) \\sim chisq1. \n",
    "\n",
    "- Quad approx to llikelihood. Some (lin model) are already quad. If not, we can often get a reasonable approx using a quadratic function. We choose a function s.t. the maximum (MELE) is the same an the curvature at the max is the same. \n",
    "\n",
    "- this gives appox f = -1/2 (thetta - theta_hat/SE(teht-hat)^2, where SE = -1/l''\n",
    "- Approx, 2f ~ chisq1. So (theta_0 - thetahat/se) ~ N(0,1))\n",
    "- which gives 95% CI: thetahat +. se 1,96\n",
    "\n",
    "\n",
    "Testing:\n",
    "- LR test. chissq distn.\n",
    "Wald - uses approx & normal distn. \n",
    "\n",
    "\n",
    "Notes\n",
    "1. Often do on log scale. \n",
    "2. Things a bit more complex when multiple parameters (e.g. profile likelihood). \n",
    "\n",
    "\n",
    "\n"
   ]
  },
  {
   "cell_type": "markdown",
   "metadata": {},
   "source": [
    "\n",
    "\n",
    "\n",
    "The figure below shows the Likelihood function and the log-likelihood at the top and the likelihood ratio and log-likelihood ratio on the bottom. We see that all four have a maximum at the same value of $\\beta$. The two graphs on the log scale (on the right hand side) are flatter and more symmetric. The likelihood ratio is simply the likelihood but scaled so the maximum value is 1. The log-likelihood ratio is scaled so the maximum value is 0. \n",
    "\n",
    "```{figure} Images/LLR_CIs.png\n",
    "---\n",
    "height: 300px\n",
    "name: Likelihoods and log-likelihoods \n",
    "---\n",
    "```\n",
    "\n"
   ]
  },
  {
   "cell_type": "markdown",
   "metadata": {},
   "source": [
    "## Quadratic approximation \n",
    "\n",
    "\n",
    "\n",
    "\n",
    "The figure below shows the log likelihood ratio and the quadratic approximation. \n",
    "\n",
    "```{figure} Images/LLR_CIs_approx.png\n",
    "---\n",
    "height: 300px\n",
    "name: Quadratic approximation to the log likelihood ratio\n",
    "---\n",
    "```\n",
    "\n",
    "The quadratic approximation is very good near to the maximum. The horizontal red line indicates the 95% confidence interval obtained using the log likelihood ratio. The quadratic approximation starts to deviate from the log likelihood ratio at that point, but not by much. overall, this plot suggests that the quadratic approximation will provide us with a 95% confidence interval very close to the one obtained directly from the log likelihood ratio. \n",
    "\n",
    "\n",
    "\n",
    "\n",
    "\n"
   ]
  }
 ],
 "metadata": {
  "hide_code_all_hidden": false,
  "kernelspec": {
   "display_name": "R",
   "language": "R",
   "name": "ir"
  },
  "language_info": {
   "codemirror_mode": "r",
   "file_extension": ".r",
   "mimetype": "text/x-r-source",
   "name": "R",
   "pygments_lexer": "r",
   "version": "3.6.1"
  }
 },
 "nbformat": 4,
 "nbformat_minor": 4
}
