{
 "cells": [
  {
   "cell_type": "markdown",
   "metadata": {},
   "source": [
    "# 15.7 Multivariable logistic regression\n",
    "\n",
    "Suppose we wish to relate a binary outcome ($Y$) to $p$ predictor variables $(X_1, X_2, ..., X_p)$. The appropriate multivariable logistic regression model is a straightforward extension of the simple logistic regression model: \n",
    "\n",
    "\n",
    "$$\n",
    "\\mathrm{logit}(\\pi_i) = \\beta_0 + \\beta_1 x_{1i} + \\beta_2 x_{2i} + ,..., \\beta_p x_{ip}\n",
    "$$\n",
    "\n",
    "\n",
    "where, $x_{ji}$ is the value of the jth predictor variable for the ith participant and $\\pi_i = P(Y_i = 1 | X_1=x_1, ..., X_p=x_p)$.\n",
    "\n",
    "The parameters in the model are interpreted as follows:\n",
    "\n",
    "+ $\\beta_0$ is the intercept. It is the estimated log-odds of $Y$ when all the $X_j$'s are zero.\n",
    "+ $\\beta_j$ is the expected change in the log-odds of $Y$ for a 1 unit increase in $X_j$ *with all the other covariates held constant*. \n",
    "\n",
    "The $\\beta_j$'s are the **regression coefficients** (otherwise known as **partial regression coefficients**). Each one measures the effect of one covariate controlled (or adjusted) for all of the others. \n",
    "\n",
    "The maximum likelihood estimation process outlined earlier can be naturally extended to the multivariable model above. \n"
   ]
  },
  {
   "cell_type": "markdown",
   "metadata": {
    "hideCode": false,
    "hidePrompt": false
   },
   "source": [
    "## 15.7.1 Example\n",
    "\n",
    "We consider an example using the dementia dataset. This time, our interest lies in modeling the relationship between the odds of being diagnosed with dementia during study follow-up and to sex ($S$), age ($A$) and BMI ($B$) at study baseline. \n",
    "\n",
    "Our multivariable logistic regression model is:\n",
    "\n",
    "$$\n",
    "\\mathrm{logit}(\\pi_i) = \\beta_0 + \\beta_1 s_i + \\beta_2 a_i + \\beta_3 b_i\n",
    "$$\n",
    "\n",
    "This model can be estimated in `R`using the `glm` function"
   ]
  },
  {
   "cell_type": "code",
   "execution_count": 2,
   "metadata": {
    "hideCode": false,
    "hidePrompt": false
   },
   "outputs": [
    {
     "data": {
      "text/plain": [
       "\n",
       "Call:\n",
       "glm(formula = dementia ~ sex + age + bmi, family = binomial(link = \"logit\"), \n",
       "    data = dementia)\n",
       "\n",
       "Deviance Residuals: \n",
       "    Min       1Q   Median       3Q      Max  \n",
       "-1.1067  -0.1959  -0.1134  -0.0732   3.6917  \n",
       "\n",
       "Coefficients:\n",
       "             Estimate Std. Error z value Pr(>|z|)    \n",
       "(Intercept) -9.783837   0.152138 -64.309  < 2e-16 ***\n",
       "sex          0.306798   0.033773   9.084  < 2e-16 ***\n",
       "age          0.098682   0.001413  69.826  < 2e-16 ***\n",
       "bmi         -0.025619   0.003596  -7.124 1.05e-12 ***\n",
       "---\n",
       "Signif. codes:  0 '***' 0.001 '**' 0.01 '*' 0.05 '.' 0.1 ' ' 1\n",
       "\n",
       "(Dispersion parameter for binomial family taken to be 1)\n",
       "\n",
       "    Null deviance: 38333  on 199999  degrees of freedom\n",
       "Residual deviance: 31732  on 199996  degrees of freedom\n",
       "AIC: 31740\n",
       "\n",
       "Number of Fisher Scoring iterations: 8\n"
      ]
     },
     "metadata": {},
     "output_type": "display_data"
    }
   ],
   "source": [
    "dementia <- read.csv(\"Practicals/Datasets/Dementia/dementia2.csv\")\n",
    "dementia2 <- glm(dementia ~ sex + age + bmi, data = dementia, family = binomial(link=\"logit\"))\n",
    "summary(dementia2)"
   ]
  },
  {
   "cell_type": "code",
   "execution_count": 3,
   "metadata": {
    "hideCode": false,
    "hidePrompt": false
   },
   "outputs": [
    {
     "name": "stderr",
     "output_type": "stream",
     "text": [
      "Waiting for profiling to be done...\n"
     ]
    },
    {
     "data": {
      "text/html": [
       "<table>\n",
       "<thead><tr><th></th><th scope=col></th><th scope=col>2.5 %</th><th scope=col>97.5 %</th></tr></thead>\n",
       "<tbody>\n",
       "\t<tr><th scope=row>(Intercept)</th><td>5.635516e-05</td><td>4.179134e-05</td><td>7.587428e-05</td></tr>\n",
       "\t<tr><th scope=row>sex</th><td>1.359066e+00</td><td>1.272090e+00</td><td>1.452170e+00</td></tr>\n",
       "\t<tr><th scope=row>age</th><td>1.103716e+00</td><td>1.100675e+00</td><td>1.106790e+00</td></tr>\n",
       "\t<tr><th scope=row>bmi</th><td>9.747061e-01</td><td>9.678335e-01</td><td>9.815740e-01</td></tr>\n",
       "</tbody>\n",
       "</table>\n"
      ],
      "text/latex": [
       "\\begin{tabular}{r|lll}\n",
       "  &  & 2.5 \\% & 97.5 \\%\\\\\n",
       "\\hline\n",
       "\t(Intercept) & 5.635516e-05 & 4.179134e-05 & 7.587428e-05\\\\\n",
       "\tsex & 1.359066e+00 & 1.272090e+00 & 1.452170e+00\\\\\n",
       "\tage & 1.103716e+00 & 1.100675e+00 & 1.106790e+00\\\\\n",
       "\tbmi & 9.747061e-01 & 9.678335e-01 & 9.815740e-01\\\\\n",
       "\\end{tabular}\n"
      ],
      "text/markdown": [
       "\n",
       "| <!--/--> |  | 2.5 % | 97.5 % |\n",
       "|---|---|---|---|\n",
       "| (Intercept) | 5.635516e-05 | 4.179134e-05 | 7.587428e-05 |\n",
       "| sex | 1.359066e+00 | 1.272090e+00 | 1.452170e+00 |\n",
       "| age | 1.103716e+00 | 1.100675e+00 | 1.106790e+00 |\n",
       "| bmi | 9.747061e-01 | 9.678335e-01 | 9.815740e-01 |\n",
       "\n"
      ],
      "text/plain": [
       "                         2.5 %        97.5 %      \n",
       "(Intercept) 5.635516e-05 4.179134e-05 7.587428e-05\n",
       "sex         1.359066e+00 1.272090e+00 1.452170e+00\n",
       "age         1.103716e+00 1.100675e+00 1.106790e+00\n",
       "bmi         9.747061e-01 9.678335e-01 9.815740e-01"
      ]
     },
     "metadata": {},
     "output_type": "display_data"
    }
   ],
   "source": [
    "cbind(exp(coefficients(dementia2)), exp(confint(dementia2)))"
   ]
  },
  {
   "cell_type": "markdown",
   "metadata": {
    "hideCode": false,
    "hidePrompt": false
   },
   "source": [
    "We can interpret the parameters as follows:\n",
    "\n",
    "- *sex*: Females are estimated to have 1.36 times higher odds of being diagnosed with dementia than men *who have the same age and BMI at study baseline*. The data are consistent with the true odds ratio lying between 1.27 and 1.45. The p-value, $p<0.001$, provides strong evidence against the null hypothesis of no association between sex and dementia *after adjusting for age and BMI*. <br><br>\n",
    "- *age*: The odds of being diagnosed with dementia is estimated to increase 1.1-fold for each increase in year of age at study baseline. The data are consistent with the true odds ratio lying between 1.1006 and 1.107.  The p-value, $p<0.001$, provides strong evidence against the null hypothesis of no association between age and dementia *after adjusting for sex and BMI*. <br><br>\n",
    "- *bmi*: The odds of being diagnosed with dementia is estimated to reduce by 0.97 times for each increase in unit of BMI, suggesting an inverse association between BMI and odds of dementia diagnosis.  The p-value, $p<0.001$, provides strong evidence against the null hypothesis of no association between BMI and dementia *after adjusting for sex and age*. <br><br>\n"
   ]
  },
  {
   "cell_type": "code",
   "execution_count": null,
   "metadata": {},
   "outputs": [],
   "source": []
  }
 ],
 "metadata": {
  "hide_code_all_hidden": false,
  "kernelspec": {
   "display_name": "R",
   "language": "R",
   "name": "ir"
  },
  "language_info": {
   "codemirror_mode": "r",
   "file_extension": ".r",
   "mimetype": "text/x-r-source",
   "name": "R",
   "pygments_lexer": "r",
   "version": "3.6.1"
  }
 },
 "nbformat": 4,
 "nbformat_minor": 4
}
