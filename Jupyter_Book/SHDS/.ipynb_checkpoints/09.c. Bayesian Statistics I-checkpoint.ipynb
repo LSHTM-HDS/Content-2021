{
 "cells": [
  {
   "cell_type": "markdown",
   "metadata": {},
   "source": [
    "## 9.2 Bayes Theorem (recap)\n",
    "\n",
    "Let's remind ourselves of Bayes theorem for discrete events, which we met in Session 2 (probability): \n",
    "\n",
    "If $A$ and $B$ are events, then \n",
    "\n",
    "$$\n",
    "P(A|B) = \\frac{ P(B|A) P(A) } {P(B)} \\propto P(B|A) P(A),\n",
    "$$\n",
    "\n",
    "\n",
    "or in words: \n",
    "\n",
    "$$\n",
    "\\mbox{posterior probability of A given B} \\propto \\mbox{the likelihood of B given A} \\times \\mbox{the prior probability of A}.\n",
    "$$\n",
    "\n",
    "Also, if $A_i$ is a set of mutually exclusive and exhaustive events, i.e. $ p( \\bigcup\\limits_i A_i ) = \\sum\\limits_i p(A_i) = 1$ and $A_i \\cap A_j = \\emptyset$ for $i \\neq j$, then \n",
    "\n",
    "$$\n",
    "p(A_i|B) = \\frac{ p(B|A_i) p(A_i) } {\\sum\\limits_j p(B|A_j) p(A_j) }.\n",
    "$$\n",
    "\n",
    "The calculation of the denominator is more difficult if we have continuous parameters as it requires integration over A; we will discuss this in the next section.   \n",
    "\n",
    "We will illustrate Bayes Theorem further with the diagnostic test example for Covid-19 below. We see Bayesian reasoning is purely probabilistic. Bayes theorem gives us a principled way to update prior probabilities on the basis of new data. \n",
    "\n"
   ]
  },
  {
   "cell_type": "markdown",
   "metadata": {},
   "source": [
    "### 9.2.1 Example \n",
    "\n",
    "[Watson (2020)](https://www.bmj.com/content/bmj/369/bmj.m1808.full.pdf) discusses some interesting issues around the interpretation of Covid-19 diagnostic tests. Typically, a clinician estimates a pre-test probability (a prior probability) of having Covid-19 for a particular area, which is derived from knowledge about local rates of Covid-19. Then, given a patient's test result, the post-test probability (the posterior probability) of having Covid-19 is obtained. The posterior probability depends on the pre-test probability, as well as the sensitivity and specificity of the test, which are difficult to estimate; often, sensitivity is over-estimated. The article discusses how one can be fairly confident about a positive test result, but more caution is needed for a negative test result, as there may still be quite a high chance that a person has Covid-19. We illustrate this with Bayes' theorem. \n",
    "\n",
    "Suppose that, in a student hall of residence, the prevalence of Covid-19 if you have a persistent cough is $75\\%$. Suppose we assume that the test will be positive in Covid-19 patients $70\\%$ of the time (sensitivity is 0.7), and it will be negative in non-Covid-19 patients $95\\%$ of the time (specificity is 0.95). Given that a student in this hall with a persistent cough tests negative, what is the probability that they have Covid-19? In other words, what is the probability of a false negative?  \n",
    "\n",
    "Let us denote by $C+$ the event that a person has Covid-19, and $C-$ the event that a person does not have Covid-19.  Further we denote by $T+$ and $T-$ the events that a person has a positive and a negative test, respectively. The information we are given is that: \n",
    "\n",
    "\n",
    "$$\n",
    "p(C+)=0.75, \\qquad p(T+|C+)=0.70, \\qquad p(T-|C-)=0.95\n",
    "$$\n",
    "\n",
    "Now, what we want is:\n",
    "\n",
    "$$\n",
    "\\begin{align}\n",
    "p(\\mbox{false negative}) &= p(C+|T-) = \\frac{p(T-|C+)p(C+)}{p(T-)} \\\\\n",
    "&= \\frac{p(T-|C+)p(C+)}{p(T-|C+)p(C+) + p(T-|C-)p(C-)} \\\\\n",
    "&= \\frac{(1-0.7) \\times 0.75}{(1-0.7) \\times 0.75 + 0.95 \\times 0.25} \\\\\n",
    "&= \\frac{0.225}{0.4625} \\\\\n",
    "&= 0.4864\n",
    "\\end{align}\n",
    "$$\n",
    "\n",
    "You can see that, despite the negative test result, due to the very high prevalence of Covid-19 in the hall of residence and the relatively low sensitivity rate, there is still a 48.64% chance that a person has Covid-19.  \n",
    "\n",
    "Suppose a different student has no symptoms. The prevalence of Covid-19 in asymptomatic people is 0.1. They use the same diagnostic test and the test result is positive. What is the probability that this student with a positive test result has Covid-19? In other words, what is $p(C+|T+)$?"
   ]
  },
  {
   "cell_type": "markdown",
   "metadata": {},
   "source": [
    "Solution:\n",
    "\n",
    "$$\n",
    "p(C+|T+) = \\frac{p(T+|C+)p(C+)}{p(T+)} = \\frac{p(T+|C+)p(C+)}{p(T+|C+)p(H+) + p(T+|C-)p(C-)} \n",
    "$$\n",
    "\n",
    "Substituting in the numbers above,\n",
    "\n",
    "$$\n",
    "p(C+|T+) = \\frac{0.7 \\times 0.1}{0.7 \\times 0.1 + (1-0.95) \\times 0.9} \\\\\n",
    "= \\frac{0.07}{0.115} \\\\\n",
    "= 0.609\n",
    "$$\n",
    "\n",
    "This means that, amongst all the people who test positive, $60.9\\%$ will actually have the disease. After a positive result from a test, the probability that you have Covid-19 increase from $10\\%$ to $61\\%$.\n",
    "\n",
    "Note that these results are specific to the the prevalence of Covid-19 in the area, as well as the sensitivity and specificity of the diagnostic test. The code below reproduces the leaf-plot from [Watson (2020)](https://www.bmj.com/content/bmj/369/bmj.m1808.full.pdf). The $x$-axis is the pre-test probability of having Covid-19. The corresponding $y$-values on the lower curve (lower leaf) are the post-test probabilities of having Covid-19, following a negative test result. The corresponding $y$-values on the upper curve (upper leaf) are the post-test probabilities of having Covid-19, following a positive test result. The correponding values on the diagonal ($y=x$) line represent probabilities if no test is carried out. \n",
    "\n",
    "In our first example, the prevalence in symptomatic people is 0.75, so we follow the orange arrows to find that the post-test probability after a negative result 0.4864. In the second example, the prevalence in asymptomatic people is 0.1. We follow the purple arrows to find that the post-test probability after a positive result is 0.609. How do you think the shape of the lower and upper leaves would change, if sensitivity was higher? If specificity was lower? Re-run the code with different values to check. "
   ]
  },
  {
   "cell_type": "code",
   "execution_count": 1,
   "metadata": {},
   "outputs": [
    {
     "data": {
      "image/png": "[encoded data removed]",
      "text/plain": [
       "plot without title"
      ]
     },
     "metadata": {},
     "output_type": "display_data"
    }
   ],
   "source": [
    "# Function takes as arguments the sensitivitiy of the test (sensi) \n",
    "# and the specificity (speci)\n",
    "\n",
    "leafplot <- function(sensi, speci){\n",
    "  \n",
    "  pretest <- seq(0, 1, 0.01) #possible pre-test probabilities \n",
    "  \n",
    "  #probability of having Covid-19 after a positive test result \n",
    "  pos.test <- sensi*pretest/(sensi*pretest+(1-speci)*(1-pretest))\n",
    "  \n",
    "  #probability of having Covid-19 after a negative test result \n",
    "  neg.test <- ((1-sensi)*(pretest))/((1-sensi)*pretest+speci*(1-pretest))\n",
    "  \n",
    "  #plot leaves\n",
    "  plot(pretest, pos.test, type=\"l\", col=\"darkgreen\", \n",
    "     xlab=\"Pre-test Probability\", ylab=\"Post-test Probability\")\n",
    "  points(pretest, neg.test, type=\"l\", col=\"darkgreen\")\n",
    "  abline(a=0, b=1, col=\"darkgreen\")\n",
    "  legend(\"topleft\", legend=c(\"Positive Test\", \"Negative Test\"),\n",
    "        col=c(\"Purple\", \"Orange\"), lty=1, bg=\"transparent\")\n",
    "  \n",
    "  #plot arrows \n",
    "    #we use pretest[11] to get the prevalence value of 0.1, and \n",
    "    #pretest[76] to get the prevalence value of 0.75 in the vector \"pretest\"\n",
    "    \n",
    "  arrows(pretest[11], 0, pretest[11], pos.test[11], angle=15, col=\"purple\")\n",
    "  arrows(pretest[11], pos.test[11], 0, pos.test[11], angle=15, col=\"purple\")\n",
    "  arrows(pretest[76], 0, pretest[76], neg.test[76], angle=15, col=\"orange\")\n",
    "  arrows(pretest[76], neg.test[76], 0, neg.test[76], angle=15, col=\"orange\")\n",
    "  \n",
    "  }\n",
    "\n",
    "options(repr.plot.width=6.5, repr.plot.height=5.5)\n",
    "leafplot(sensi=0.7, speci=0.95)\n",
    "\n",
    "\n",
    "#See what happens to the plot when you change sensitivity and specificity! \n",
    "#leafplot(0.95, 0.8)"
   ]
  },
  {
   "cell_type": "code",
   "execution_count": null,
   "metadata": {},
   "outputs": [],
   "source": []
  }
 ],
 "metadata": {
  "kernelspec": {
   "display_name": "R",
   "language": "R",
   "name": "ir"
  },
  "language_info": {
   "codemirror_mode": "r",
   "file_extension": ".r",
   "mimetype": "text/x-r-source",
   "name": "R",
   "pygments_lexer": "r",
   "version": "3.6.1"
  }
 },
 "nbformat": 4,
 "nbformat_minor": 4
}
