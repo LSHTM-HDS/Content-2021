{
 "cells": [
  {
   "cell_type": "markdown",
   "metadata": {},
   "source": [
    "## 16.1 Introduction to Generalised Linear Models (GLMs)\n",
    "\n",
    "The term Generalised Linear Model (GLM) refers to a large class of models popularised by McCullagh and Nelder in 1982. It should not be confused with the similarly named method, General Linear Model (which was covered in sessions 12 to 14).  \n",
    "\n",
    "GLMs can be seen as a extension to the familiar regression models you have already been introduced to in previous chapters. GLM allows for the outcome variable to have an error distribution other than the normal distribution. The name comes from the method which generalises linear regression by allowing the linear model to be related to the outcome variable via something called a link function. This means that GLMs can model outcomes with distributions in the exponential family with a link function which varies linearity with the predictors (covariates) rather than assuming the outcome itself must vary linearly.  \n",
    "\n"
   ]
  },
  {
   "cell_type": "code",
   "execution_count": null,
   "metadata": {},
   "outputs": [],
   "source": []
  }
 ],
 "metadata": {
  "kernelspec": {
   "display_name": "R",
   "language": "R",
   "name": "ir"
  },
  "language_info": {
   "codemirror_mode": "r",
   "file_extension": ".r",
   "mimetype": "text/x-r-source",
   "name": "R",
   "pygments_lexer": "r",
   "version": "3.6.1"
  }
 },
 "nbformat": 4,
 "nbformat_minor": 4
}
