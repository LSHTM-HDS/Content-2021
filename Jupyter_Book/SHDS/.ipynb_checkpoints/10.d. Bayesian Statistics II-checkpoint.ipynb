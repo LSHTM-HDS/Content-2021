{
 "cells": [
  {
   "cell_type": "markdown",
   "metadata": {},
   "source": [
    "## 10.3 Credible Intervals\n",
    "\n",
    "We saw in the previous session that a Bayesian $95\\%$ credible interval is an interval which contains $95\\% $ of the posterior distribution of the parameter, and the $95 \\%$ Highest Posterior Density (HPD) interval is the credible interval with the smallest range of values for $\\theta$. \n",
    "\n",
    "Given that the posterior distribution has mean $\\psi$ and variance $\\gamma^{2}$, the $95\\%$ HPD interval is given by \n",
    "$\\psi \\pm 1.96 \\times \\gamma$. Thus, for a standard Normal posterior, the 95% HPD interval is $(-1.96,1.96).$ "
   ]
  },
  {
   "cell_type": "markdown",
   "metadata": {},
   "source": [
    "### 10.3.1 CD4 cell counts example: \n",
    "\n",
    "\n",
    "In the CD4 cell count example, suppose that we have very strong prior information that suggests the treatment is not effective, and we expect that the difference in cell counts is approximately zero. Let us denote by $y$ the difference in CD4 cell counts. We set $\\mu \\sim N(0, 0.1)$ to reflect that there is only about $2.5\\%$ chance that the treatment increases mean CD4 counts by more than 0.62 (1.96 $\\times \\sqrt{0.1}$) and a $50\\%$ chance that it will actually decrease the mean CD4 count).   \n",
    "\n",
    "Summarizing the information we have: \n",
    "\n",
    "> sample size $n = 20$  \n",
    "> mean of data $\\bar{y} = 0.805$  \n",
    "> variance of data (assumed known) $\\sigma^2 = 0.7$    \n",
    "> prior mean $ \\phi = 0$    \n",
    "> prior variance $\\tau^2= 0.1$     \n",
    "\n",
    "We find the posterior distribution:\n",
    " \n",
    "$$\n",
    "\\begin{align*}\n",
    "\\mu \\vert y_1,\\dots,y_n &\\sim N\\left\\{ \\frac{ \\tau^2 n\\bar{y} + \\sigma^2\\phi }{\\tau^2 n + \\sigma^2}, \\frac{\\sigma^2\\tau^2}{\\tau^2n+\\sigma^2} \\right\\} \\\\\n",
    " &\\sim N\\left\\{ \\frac{ 0.1 \\times 20 \\times 0.805 + 0 }{0.1 \\times 20 + 0.7}, \\frac{0.7 \\times 0.1}{0.1 \\times 20 +0.7 } \\right\\} \\\\\n",
    "  &\\sim N\\left\\{ 0.596, 0.0259 \\right\\}\n",
    "\\end{align*}\n",
    "$$\n",
    "\n",
    "We plot below the prior distribution (in blue), the distribution of $\\bar{y}$ (red) and the posterior distribution (purple). We observe that the mean of the posterior distribution is in between the mean of the prior and that of the likelihood. Note that in R, the Normal distribution is parameterized by the standard deviation rather than the variance. "
   ]
  },
  {
   "cell_type": "code",
   "execution_count": 10,
   "metadata": {},
   "outputs": [
    {
     "data": {
      "image/png": "[encoded data removed]",
      "text/plain": [
       "plot without title"
      ]
     },
     "metadata": {},
     "output_type": "display_data"
    }
   ],
   "source": [
    "options(repr.plot.width=7, repr.plot.height=5)\n",
    "x <- seq(-2, 2, 0.01)\n",
    "#plot the prior \n",
    "y1 <- dnorm(x, mean=0, sd=sqrt(0.1))\n",
    "plot(x, y1, type=\"l\", lwd=1, col=\"blue\", ylim=c(0,3), ylab=\"Density\", xlab=expression(mu))\n",
    "legend(\"topleft\", legend=c(\"Prior distribution\", \"Distribution of mean of y\", \"Posterior distribution\"),\n",
    "       col=c(\"blue\", \"red\", \"purple\"), lty=1)\n",
    "#plot the observed distribution \n",
    "y2 <- dnorm(x, mean=0.805, sd=sqrt(0.7/20))\n",
    "lines(x, y2, type=\"l\", lwd=1, col=\"red\")\n",
    "y3 <- dnorm(x, mean=0.596, sd=sqrt(0.0259))\n",
    "lines(x, y3, type=\"l\", lwd=1, col=\"purple\")"
   ]
  },
  {
   "cell_type": "markdown",
   "metadata": {},
   "source": [
    "The  $95\\%$ HPD interval can be calculated as $0.596 \\pm 1.96 \\times \\sqrt{0.0259} = (0.281, 0.911)$. This interval lies wholly above zero, so we can state that we have a strong posterior belief that there is an increase in CD4 cell counts. "
   ]
  }
 ],
 "metadata": {
  "kernelspec": {
   "display_name": "R",
   "language": "R",
   "name": "ir"
  },
  "language_info": {
   "codemirror_mode": "r",
   "file_extension": ".r",
   "mimetype": "text/x-r-source",
   "name": "R",
   "pygments_lexer": "r",
   "version": "3.6.1"
  }
 },
 "nbformat": 4,
 "nbformat_minor": 4
}
