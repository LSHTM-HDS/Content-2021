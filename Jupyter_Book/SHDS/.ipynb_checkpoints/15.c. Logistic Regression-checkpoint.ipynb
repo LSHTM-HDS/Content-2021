{
 "cells": [
  {
   "cell_type": "markdown",
   "metadata": {
    "hideCode": false,
    "hidePrompt": false
   },
   "source": [
    "## 15.2 Data used in our examples\n",
    "\n",
    "We will use a dataset that is simulated to represent data from electronic health records for 200,000 patients. The outcome we will consider is whether or not a patient is diagnosed with dementia. In this example, there is an additional complexity because patients were followed up for different amounts of time. A longer follow-up will naturally lead to a higher probability of being diagnosed with dementia. In later modules, we will encounter survival analysis which allows the aspect of time to be accounted for. For now, we will ignore this aspect. \n",
    "\n",
    "The code below reads in the dataset and displays the first few rows. "
   ]
  },
  {
   "cell_type": "code",
   "execution_count": 3,
   "metadata": {
    "hideCode": false,
    "hidePrompt": false
   },
   "outputs": [
    {
     "data": {
      "text/html": [
       "<table>\n",
       "<thead><tr><th scope=col>id</th><th scope=col>prac</th><th scope=col>pr_lcd</th><th scope=col>sex</th><th scope=col>age</th><th scope=col>bmi</th><th scope=col>bmi_category</th><th scope=col>consultations</th><th scope=col>agegp</th><th scope=col>alcohol</th><th scope=col>...</th><th scope=col>mortality</th><th scope=col>date_death</th><th scope=col>timetodementia</th><th scope=col>dementia</th><th scope=col>date_dementia</th><th scope=col>end_date</th><th scope=col>dob</th><th scope=col>rsample</th><th scope=col>vitd</th><th scope=col>lp</th></tr></thead>\n",
       "<tbody>\n",
       "\t<tr><td> 23189                                                           </td><td>142                                                              </td><td>08dec2009                                                        </td><td>1                                                                </td><td>53                                                               </td><td>20.4                                                             </td><td><span style=white-space:pre-wrap>Normal (18.5-&lt;25)     </span></td><td>12                                                               </td><td>50                                                               </td><td>3-6 units/day                                                    </td><td>...                                                              </td><td>0                                                                </td><td>                                                                 </td><td>NA                                                               </td><td>0                                                                </td><td>                                                                 </td><td>08dec2009                                                        </td><td>01nov1941                                                        </td><td>1                                                                </td><td><span style=white-space:pre-wrap>      NA</span>                 </td><td>-0.8153054                                                       </td></tr>\n",
       "\t<tr><td> 92186                                                           </td><td>132                                                              </td><td>03feb2003                                                        </td><td>0                                                                </td><td>73                                                               </td><td>21.5                                                             </td><td><span style=white-space:pre-wrap>Normal (18.5-&lt;25)     </span></td><td> 4                                                               </td><td>70                                                               </td><td>&lt;2 units/day                                                  </td><td>...                                                              </td><td>0                                                                </td><td>                                                                 </td><td>NA                                                               </td><td>0                                                                </td><td>                                                                 </td><td>03feb2003                                                        </td><td>16jan1928                                                        </td><td>1                                                                </td><td><span style=white-space:pre-wrap>      NA</span>                 </td><td>-1.2268275                                                       </td></tr>\n",
       "\t<tr><td>187963                                                           </td><td> 43                                                              </td><td>06jul2001                                                        </td><td>0                                                                </td><td>40                                                               </td><td>27.1                                                             </td><td><span style=white-space:pre-wrap>Overweight (25-&lt;30)   </span></td><td> 0                                                               </td><td>40                                                               </td><td>&lt;2 units/day                                                  </td><td>...                                                              </td><td>0                                                                </td><td>                                                                 </td><td>NA                                                               </td><td>0                                                                </td><td>                                                                 </td><td>06jul2001                                                        </td><td>18jun1961                                                        </td><td>1                                                                </td><td><span style=white-space:pre-wrap>      NA</span>                 </td><td>-0.6602434                                                       </td></tr>\n",
       "\t<tr><td>148379                                                           </td><td>215                                                              </td><td>08mar2012                                                        </td><td>1                                                                </td><td>40                                                               </td><td>20.9                                                             </td><td><span style=white-space:pre-wrap>Normal (18.5-&lt;25)     </span></td><td> 3                                                               </td><td>40                                                               </td><td>&lt;2 units/day                                                  </td><td>...                                                              </td><td>0                                                                </td><td>                                                                 </td><td>NA                                                               </td><td>0                                                                </td><td>                                                                 </td><td>08mar2012                                                        </td><td>10feb1952                                                        </td><td>1                                                                </td><td>23.22692                                                         </td><td>-0.9507329                                                       </td></tr>\n",
       "\t<tr><td> 44194                                               </td><td>225                                                  </td><td>02feb2011                                            </td><td>1                                                    </td><td>92                                                   </td><td>32.5                                                 </td><td>Obese class I (30-&lt;35)                            </td><td>10                                                   </td><td>90                                                   </td><td><span style=white-space:pre-wrap>Non drinker  </span></td><td>...                                                  </td><td>0                                                    </td><td>                                                     </td><td>NA                                                   </td><td>0                                                    </td><td>                                                     </td><td>02feb2011                                            </td><td>09dec1912                                            </td><td>1                                                    </td><td><span style=white-space:pre-wrap>      NA</span>     </td><td> 1.0403746                                           </td></tr>\n",
       "\t<tr><td>169915                                                           </td><td>175                                                              </td><td>02nov2011                                                        </td><td>1                                                                </td><td>55                                                               </td><td>26.3                                                             </td><td><span style=white-space:pre-wrap>Overweight (25-&lt;30)   </span></td><td> 3                                                               </td><td>55                                                               </td><td>3-6 units/day                                                    </td><td>...                                                              </td><td>0                                                                </td><td>                                                                 </td><td>NA                                                               </td><td>0                                                                </td><td>                                                                 </td><td>02nov2011                                                        </td><td>06oct1946                                                        </td><td>1                                                                </td><td><span style=white-space:pre-wrap>      NA</span>                 </td><td>-0.1080445                                                       </td></tr>\n",
       "</tbody>\n",
       "</table>\n"
      ],
      "text/latex": [
       "\\begin{tabular}{r|llllllllllllllllllllllllllllll}\n",
       " id & prac & pr\\_lcd & sex & age & bmi & bmi\\_category & consultations & agegp & alcohol & ... & mortality & date\\_death & timetodementia & dementia & date\\_dementia & end\\_date & dob & rsample & vitd & lp\\\\\n",
       "\\hline\n",
       "\t  23189                 & 142                    & 08dec2009              & 1                      & 53                     & 20.4                   & Normal (18.5-<25)      & 12                     & 50                     & 3-6 units/day          & ...                    & 0                      &                        & NA                     & 0                      &                        & 08dec2009              & 01nov1941              & 1                      &       NA               & -0.8153054            \\\\\n",
       "\t  92186                 & 132                    & 03feb2003              & 0                      & 73                     & 21.5                   & Normal (18.5-<25)      &  4                     & 70                     & <2 units/day           & ...                    & 0                      &                        & NA                     & 0                      &                        & 03feb2003              & 16jan1928              & 1                      &       NA               & -1.2268275            \\\\\n",
       "\t 187963                 &  43                    & 06jul2001              & 0                      & 40                     & 27.1                   & Overweight (25-<30)    &  0                     & 40                     & <2 units/day           & ...                    & 0                      &                        & NA                     & 0                      &                        & 06jul2001              & 18jun1961              & 1                      &       NA               & -0.6602434            \\\\\n",
       "\t 148379                 & 215                    & 08mar2012              & 1                      & 40                     & 20.9                   & Normal (18.5-<25)      &  3                     & 40                     & <2 units/day           & ...                    & 0                      &                        & NA                     & 0                      &                        & 08mar2012              & 10feb1952              & 1                      & 23.22692               & -0.9507329            \\\\\n",
       "\t  44194                 & 225                    & 02feb2011              & 1                      & 92                     & 32.5                   & Obese class I (30-<35) & 10                     & 90                     & Non drinker            & ...                    & 0                      &                        & NA                     & 0                      &                        & 02feb2011              & 09dec1912              & 1                      &       NA               &  1.0403746            \\\\\n",
       "\t 169915                 & 175                    & 02nov2011              & 1                      & 55                     & 26.3                   & Overweight (25-<30)    &  3                     & 55                     & 3-6 units/day          & ...                    & 0                      &                        & NA                     & 0                      &                        & 02nov2011              & 06oct1946              & 1                      &       NA               & -0.1080445            \\\\\n",
       "\\end{tabular}\n"
      ],
      "text/markdown": [
       "\n",
       "| id | prac | pr_lcd | sex | age | bmi | bmi_category | consultations | agegp | alcohol | ... | mortality | date_death | timetodementia | dementia | date_dementia | end_date | dob | rsample | vitd | lp |\n",
       "|---|---|---|---|---|---|---|---|---|---|---|---|---|---|---|---|---|---|---|---|---|\n",
       "|  23189                 | 142                    | 08dec2009              | 1                      | 53                     | 20.4                   | Normal (18.5-<25)      | 12                     | 50                     | 3-6 units/day          | ...                    | 0                      |                        | NA                     | 0                      |                        | 08dec2009              | 01nov1941              | 1                      |       NA               | -0.8153054             |\n",
       "|  92186                 | 132                    | 03feb2003              | 0                      | 73                     | 21.5                   | Normal (18.5-<25)      |  4                     | 70                     | <2 units/day           | ...                    | 0                      |                        | NA                     | 0                      |                        | 03feb2003              | 16jan1928              | 1                      |       NA               | -1.2268275             |\n",
       "| 187963                 |  43                    | 06jul2001              | 0                      | 40                     | 27.1                   | Overweight (25-<30)    |  0                     | 40                     | <2 units/day           | ...                    | 0                      |                        | NA                     | 0                      |                        | 06jul2001              | 18jun1961              | 1                      |       NA               | -0.6602434             |\n",
       "| 148379                 | 215                    | 08mar2012              | 1                      | 40                     | 20.9                   | Normal (18.5-<25)      |  3                     | 40                     | <2 units/day           | ...                    | 0                      |                        | NA                     | 0                      |                        | 08mar2012              | 10feb1952              | 1                      | 23.22692               | -0.9507329             |\n",
       "|  44194                 | 225                    | 02feb2011              | 1                      | 92                     | 32.5                   | Obese class I (30-<35) | 10                     | 90                     | Non drinker            | ...                    | 0                      |                        | NA                     | 0                      |                        | 02feb2011              | 09dec1912              | 1                      |       NA               |  1.0403746             |\n",
       "| 169915                 | 175                    | 02nov2011              | 1                      | 55                     | 26.3                   | Overweight (25-<30)    |  3                     | 55                     | 3-6 units/day          | ...                    | 0                      |                        | NA                     | 0                      |                        | 02nov2011              | 06oct1946              | 1                      |       NA               | -0.1080445             |\n",
       "\n"
      ],
      "text/plain": [
       "  id     prac pr_lcd    sex age bmi  bmi_category           consultations agegp\n",
       "1  23189 142  08dec2009 1   53  20.4 Normal (18.5-<25)      12            50   \n",
       "2  92186 132  03feb2003 0   73  21.5 Normal (18.5-<25)       4            70   \n",
       "3 187963  43  06jul2001 0   40  27.1 Overweight (25-<30)     0            40   \n",
       "4 148379 215  08mar2012 1   40  20.9 Normal (18.5-<25)       3            40   \n",
       "5  44194 225  02feb2011 1   92  32.5 Obese class I (30-<35) 10            90   \n",
       "6 169915 175  02nov2011 1   55  26.3 Overweight (25-<30)     3            55   \n",
       "  alcohol       ... mortality date_death timetodementia dementia date_dementia\n",
       "1 3-6 units/day ... 0                    NA             0                     \n",
       "2 <2 units/day  ... 0                    NA             0                     \n",
       "3 <2 units/day  ... 0                    NA             0                     \n",
       "4 <2 units/day  ... 0                    NA             0                     \n",
       "5 Non drinker   ... 0                    NA             0                     \n",
       "6 3-6 units/day ... 0                    NA             0                     \n",
       "  end_date  dob       rsample vitd     lp        \n",
       "1 08dec2009 01nov1941 1             NA -0.8153054\n",
       "2 03feb2003 16jan1928 1             NA -1.2268275\n",
       "3 06jul2001 18jun1961 1             NA -0.6602434\n",
       "4 08mar2012 10feb1952 1       23.22692 -0.9507329\n",
       "5 02feb2011 09dec1912 1             NA  1.0403746\n",
       "6 02nov2011 06oct1946 1             NA -0.1080445"
      ]
     },
     "metadata": {},
     "output_type": "display_data"
    }
   ],
   "source": [
    "# we load the dataset and display its first lines\n",
    "dementia <- read.csv(\"Practicals/Datasets/Dementia/dementia2.csv\")\n",
    "head(dementia)"
   ]
  },
  {
   "cell_type": "markdown",
   "metadata": {
    "hideCode": false,
    "hidePrompt": false
   },
   "source": [
    "## 15.2.1 Exploratory analyses\n",
    "\n",
    "The variables we will use during this session are:\n",
    "\n",
    "* id: a variable that identifies a patient\n",
    "* sex: a factor variable that gives the sex of the patient ($0$ for men, $1$ for women)\n",
    "* age: age in years of the patient at study baseline\n",
    "* bmi: Body Mass Index of the patient at study baseline\n",
    "* dementia: an indicator variable that equals $1$ if the patient is diagnosed with dementia during follow-up, $0$ if not.\n",
    "\n",
    "In this session the outcome of interest is dementia diagnosis, which we will treat as a binary variable. We are interested in modelling the relationship between dementia diagnosis and age, sex and BMI. Generally, we would expect older people to have a higher risk of being diagnosed with dementia. Females typically have higher risk. The relationship with BMI is less well understood.\n",
    "\n",
    "The code below"
   ]
  },
  {
   "cell_type": "code",
   "execution_count": 19,
   "metadata": {},
   "outputs": [
    {
     "data": {
      "text/plain": [
       "   \n",
       "         0      1\n",
       "  0 107981   1707\n",
       "  1  88132   2180"
      ]
     },
     "metadata": {},
     "output_type": "display_data"
    },
    {
     "data": {
      "text/plain": [
       "   \n",
       "             0          1\n",
       "  0 0.98443768 0.01556232\n",
       "  1 0.97586146 0.02413854"
      ]
     },
     "metadata": {},
     "output_type": "display_data"
    },
    {
     "data": {
      "image/png": "[encoded data removed]",
      "text/plain": [
       "Plot with title \"BMI\""
      ]
     },
     "metadata": {},
     "output_type": "display_data"
    }
   ],
   "source": [
    "# Tabulate dementia diagnosis versus sex (dementia = right-hand column)\n",
    "(table<-table(dementia$sex, dementia$dementia))\n",
    "prop.table(table, 1)\n",
    "\n",
    "# Box plot of age by dementia diagnosis\n",
    "par(mfrow=c(1,2))\n",
    "options(repr.plot.height=4, repr.plot.width=5)\n",
    "boxplot(dementia$age ~ dementia$dementia, main=\"Age\", xlab=\"Dementia diagnosis\", ylab=\"Baseline age (years)\")\n",
    "boxplot(dementia$bmi ~ dementia$dementia, main=\"BMI\", xlab=\"Dementia diagnosis\", ylab=\"Baseline BMI\")\n"
   ]
  },
  {
   "cell_type": "markdown",
   "metadata": {},
   "source": [
    "From the output above, we see that dementia is fairly rare in this study population, with 1.6% of males receiving a dementia diagnosis during follow-up compared to a slightly higher 2.4% among females. \n",
    "\n",
    "The box-plots show that patients who received a dementia diagnosis during follow-up generally had a much higher age at baseline, as expected. The second box-plot perhaps hints at a slightly lower BMI among those diagnosed with dementia, but there is a less evident relationship than for age. "
   ]
  },
  {
   "cell_type": "code",
   "execution_count": null,
   "metadata": {},
   "outputs": [],
   "source": []
  }
 ],
 "metadata": {
  "hide_code_all_hidden": false,
  "kernelspec": {
   "display_name": "R",
   "language": "R",
   "name": "ir"
  },
  "language_info": {
   "codemirror_mode": "r",
   "file_extension": ".r",
   "mimetype": "text/x-r-source",
   "name": "R",
   "pygments_lexer": "r",
   "version": "3.6.1"
  }
 },
 "nbformat": 4,
 "nbformat_minor": 4
}
