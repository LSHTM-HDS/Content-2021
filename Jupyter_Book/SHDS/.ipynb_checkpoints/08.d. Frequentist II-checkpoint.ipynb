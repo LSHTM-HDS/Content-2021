{
 "cells": [
  {
   "cell_type": "markdown",
   "metadata": {},
   "source": [
    "## 8.3 Connection between p-values and confidence intervals\n",
    "\n",
    "\n",
    "\n",
    "Recall that we previously used the following fact:\n",
    "> For a normal distribution, approximately 95% of observations are contained within 1.96 standard deviations of the mean. \n",
    "\n",
    "Which, applied to sampling distributions, tells us that:\n",
    "> For a normally distributed sampling distribution that is centred around the true population value, 95% of the estimates obtained under repeated sampling would be contained within 1.96 standard errors of the true population value\n",
    "\n",
    "Applying this to the estimator $\\hat{\\delta}$, this leads to a 95% confidence interval of \n",
    "\n",
    "$$\n",
    "\\hat{\\delta} \\pm  1.96 \\times SE(\\delta)\n",
    "$$\n",
    "\n",
    "The graph below shows some possible values of $\\hat{\\delta}$, along with their 95% confidence intervals. We see that:\n",
    "\n",
    "- if $\\hat{\\delta}$ is exactly equal to the number $1.96 \\times  SE(\\delta)$ then the 95% confidence interval just touches zero.\n",
    "- if $\\hat{\\delta} > 1.96 \\times  SE(\\delta)$ then the 95% confidence interval does not include zero - the whole interval lies above zero. \n",
    "- if $0 < \\hat{\\delta} < 1.96$  then the 95% confidence interval does include zero. \n",
    "\n",
    "So what p-values would these values of $\\hat{\\delta}$ result in? \n",
    "\n",
    "- if $\\hat{\\delta} = 1.96 \\times  SE(\\delta)$ then we know that 2.5% of the estimates lie above that point, so p=0.05.\n",
    "- if $\\hat{\\delta} > 1.96 \\times  SE(\\delta)$ then fewer than 2.5% of estimates lie above $\\hat{\\delta}$, so p<0.05\n",
    "- if $0 < \\hat{\\delta} < 1.96 \\times  SE(\\delta)$ then more than 2.5% of estimates lie above $\\hat{\\delta}$, so p>0.05\n",
    "\n",
    "This leads us to the connection between 95% confidence intervals and p-values. When a 95% confidence interval and p-value are obtained from the same sampling distribution (which is typically the case when both are presented), \n",
    "\n",
    "\n",
    "\n",
    "|  P-value  |  95% confidence interval  |\n",
    "|---- | ---- |\n",
    "| $<0.05$ | Excludes the null value |\n",
    "| $\\geq 0.05$ | Contains the null value |\n",
    "\n"
   ]
  },
  {
   "cell_type": "code",
   "execution_count": 5,
   "metadata": {},
   "outputs": [
    {
     "data": {
      "image/png": "[encoded data removed]",
      "text/plain": [
       "plot without title"
      ]
     },
     "metadata": {},
     "output_type": "display_data"
    }
   ],
   "source": [
    "# Labels for graph\n",
    "lab1 <- expression(- 2*SE)\n",
    "lab2 <- expression(- 1*SE)\n",
    "lab3 <- expression(1*SE)\n",
    "lab4 <- expression(2*SE)\n",
    "\n",
    "# Draw sampling distribution\n",
    "options(repr.plot.width=5, repr.plot.height=5)\n",
    "plot(seq(-4, 4, by=.05), xaxt=\"none\",  xlab=\" \", ylab=\"Density\", \n",
    "     dnorm(seq(-4, 4, by=.05), 0, 1), col=\"blue\", type = \"l\")\n",
    "axis(1, seq(-2, 2, by=1), labels=c(lab1, lab2, 0, lab3, lab4))\n",
    "\n",
    "# True population value\n",
    "abline(v=0, col=\"red\")\n",
    "# 1.96 SE from population value\n",
    "abline(v=c(-1.96, 1.96), col=\"green\", lty=2)\n",
    "\n",
    "# Some 95% confidence intervals\n",
    "points(c(0.2, 1.96, 2.15), c(0.13, 0.03, 0.18), col = \"orange\")\n",
    "\n",
    "lines(c(-1.76, 2.16), c(0.13, 0.13), col=\"orange\")\n",
    "lines(c(0, 3.92), c(0.03, 0.03), col =\"orange\")\n",
    "lines(c(0.19, 4.17), c(0.18, 0.18), col =\"orange\")\n",
    "\n",
    "text(2.75, 0.08, expression(hat(delta)==1.96*SE))\n",
    "text(-2.6, 0.25, expression(hat(delta)<1.96*SE))\n",
    "text(2.95, 0.23, expression(hat(delta)>1.96*SE))\n",
    "\n",
    "lines(c(2.25, 3), c(0.185, 0.215), col=\"black\")\n",
    "lines(c(2.05, 2.8), c(0.035, 0.065), col=\"black\")\n",
    "lines(c(-2.4, 0.2), c(0.23, 0.14), col=\"black\")\n"
   ]
  }
 ],
 "metadata": {
  "kernelspec": {
   "display_name": "R",
   "language": "R",
   "name": "ir"
  },
  "language_info": {
   "codemirror_mode": "r",
   "file_extension": ".r",
   "mimetype": "text/x-r-source",
   "name": "R",
   "pygments_lexer": "r",
   "version": "3.6.1"
  }
 },
 "nbformat": 4,
 "nbformat_minor": 4
}
