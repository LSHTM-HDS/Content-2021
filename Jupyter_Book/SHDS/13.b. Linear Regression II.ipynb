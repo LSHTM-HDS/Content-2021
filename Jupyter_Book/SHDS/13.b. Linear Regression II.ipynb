{
 "cells": [
  {
   "cell_type": "markdown",
   "metadata": {},
   "source": [
    "\n",
    "## 13.1 Multivariable linear regression \n",
    "\n",
    "Multivariable linear regression extends the simple linear regression model to situations in which we wish to relate two or more independent variables to one outcome. Where there are multiple independent variables, we will refer to them as **covariates**. \n",
    "\n",
    "There can be a number of different reasons why we would want to add more covariates in our linear regression model. Recall these two examples of questions we might want to answer using statistical models (given at the beginning of this lesson):\n",
    "\n",
    "   + Does taking drug A reduce inflammation more than taking drug B in patients with arthritis?\n",
    "   + Can we predict the risk of heart disease for our patients? \n",
    "   \n",
    "In the first example, we could use a statistical model with inflammation as the outcome and drug use as the independent variable of interest, but we may need to **control** (or **adjust**) for the **confounding** effects of other patient characteristics (age, gender, other medication use, etc.). In the second example, there are many different factors that could be associated with risk of heart disease (age, gender, lifestyle choices, etc.) and we may wish to include all such factors in a statistical model to predict heart disease. \n",
    "\n",
    "Here, we introduce the multivariable linear regression model and describe how to estimate and interpret the parameters in the model using an example from the birthweight data. In particular, we will consider two statistical models which relate birthweight to length of pregnancy and mother's height. In the first of these two models (Model 3) we will model the mother's height as a continuous variable and in the second (Model 4), we will model the mother's height as a categorical variable. \n",
    "\n",
    "*A note on notation.* There can be some confusion between the terms **multivariable** models and **multivariate** models. Multivariate models are those which have more than one outcome variable. Such models are beyond the scope of this module; we focus our attention on **univariate** models which have only one outcome. Both simple linear regression models and multivariable linear regression models are considered as univariate. \n"
   ]
  }
 ],
 "metadata": {
  "kernelspec": {
   "display_name": "R",
   "language": "R",
   "name": "ir"
  },
  "language_info": {
   "codemirror_mode": "r",
   "file_extension": ".r",
   "mimetype": "text/x-r-source",
   "name": "R",
   "pygments_lexer": "r",
   "version": "3.6.1"
  }
 },
 "nbformat": 4,
 "nbformat_minor": 4
}
