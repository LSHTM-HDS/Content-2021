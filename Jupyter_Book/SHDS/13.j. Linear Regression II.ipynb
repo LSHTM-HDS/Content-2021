{
 "cells": [
  {
   "cell_type": "markdown",
   "metadata": {},
   "source": [
    "## 13.9 Interaction between two continuous predictor variables\n",
    "\n",
    "We have seen that when $X_1$ is continuous and $X_2$ is binary, the interaction term is interpretable as the difference in slopes ($Y$ on $X_1$) between two groups defined by the binary variable $X_2$. When both $X_1$ and $X_2$ are continuous, the interaction term is interpretable as the difference in slopes ($Y$ on $X_1$) per unit increase in $X_2$.\n",
    "\n",
    "*Example:* To illustrate continuous-continuous interactions, we will fit a model relating birthweight ($Y$) to length of pregnancy ($X_1$), mother's height ($X_2$; $X_2$ is now treated as a continuous variable) and the interaction between length of pregnancy and mother's height ($X_3$)."
   ]
  },
  {
   "cell_type": "code",
   "execution_count": 7,
   "metadata": {},
   "outputs": [
    {
     "data": {
      "text/plain": [
       "\n",
       "Call:\n",
       "lm(formula = data$Birth.Weight ~ data$Gestational.Days + data$Maternal.Height + \n",
       "    data$int3)\n",
       "\n",
       "Residuals:\n",
       "    Min      1Q  Median      3Q     Max \n",
       "-53.794 -10.572   0.204  10.265  54.515 \n",
       "\n",
       "Coefficients:\n",
       "                        Estimate Std. Error t value Pr(>|t|)\n",
       "(Intercept)           -27.200984 222.960540  -0.122    0.903\n",
       "data$Gestational.Days   0.232172   0.799566   0.290    0.772\n",
       "data$Maternal.Height    0.320110   3.473652   0.092    0.927\n",
       "data$int3               0.003432   0.012453   0.276    0.783\n",
       "\n",
       "Residual standard error: 16.45 on 1170 degrees of freedom\n",
       "Multiple R-squared:  0.1969,\tAdjusted R-squared:  0.1949 \n",
       "F-statistic: 95.63 on 3 and 1170 DF,  p-value: < 2.2e-16\n"
      ]
     },
     "metadata": {},
     "output_type": "display_data"
    }
   ],
   "source": [
    "#Create the interaction term \n",
    "data$int3<-data$Gestational.Days*data$Maternal.Height\n",
    "\n",
    "#Include the interaction term in the regression model \n",
    "int_model3<-lm(data$Birth.Weight~data$Gestational.Days+data$Maternal.Height+data$int3)\n",
    "summary(int_model3)"
   ]
  },
  {
   "cell_type": "markdown",
   "metadata": {},
   "source": [
    "To interpret the above output, let's first focus on the relationship between birthweight and height in babies born at 200 gestational days. \n",
    "\n",
    "\\begin{align}\n",
    "E(Y|X_1=200)&=-27.201+0.232 \\times 200+0.320 \\times X_2+0.003 \\times 200 \\times X_2\\\\\n",
    " &= 19.200 + 0.920X_2\n",
    "\\end{align}\n",
    "\n",
    "Amongst babies born at 201 days the analogous relationship is:\n",
    "\n",
    "\\begin{align}\n",
    "E(Y|X_1=201)&=-27.201+0.232 \\times 201+0.320 \\times X_2+0.003 \\times 201 \\times X_2\\\\\n",
    " &=  19.431 + 0.923X_2\n",
    "\\end{align}\n",
    "\n",
    "Amongst babies born at 202 days the analogous relationship is:\n",
    "\n",
    "\\begin{align}\n",
    "E(Y|X_1=202)&=-27.201+0.232 \\times 202+0.320 \\times X_2+0.003 \\times 202 \\times X_2\\\\\n",
    " &=  19.662 + 0.926X_2\n",
    "\\end{align}\n",
    "\n",
    "The interpretation is that at each number of gestational days, the relationship between height and birthweight is linear with the slope of association increasing by 0.003 ounces ($\\hat{\\beta_3}$) for each one day increase. However, in this example the $p$-value associated with the estimated regression coefficient for the interaction term is 0.783, indicating that the data do not provide evidence of an interaction between gestational days and mother's height on birthweight. \n",
    "\n",
    "\n"
   ]
  }
 ],
 "metadata": {
  "kernelspec": {
   "display_name": "R",
   "language": "R",
   "name": "ir"
  },
  "language_info": {
   "codemirror_mode": "r",
   "file_extension": ".r",
   "mimetype": "text/x-r-source",
   "name": "R",
   "pygments_lexer": "r",
   "version": "3.6.1"
  }
 },
 "nbformat": 4,
 "nbformat_minor": 4
}
